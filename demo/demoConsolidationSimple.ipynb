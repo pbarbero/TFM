{
 "metadata": {
  "name": "",
  "signature": "sha256:e7cc91817cb9afa9ae69d98a2dcd566f98c22452b2c4e617a7f1c2d0a6d2d03c"
 },
 "nbformat": 3,
 "nbformat_minor": 0,
 "worksheets": [
  {
   "cells": [
    {
     "cell_type": "code",
     "collapsed": false,
     "input": [
      "from algorithms.db import getPositions, normalize, deletePositions\n",
      "from algorithms.position import Position\n",
      "from algorithms import consolidation as cs\n",
      "import matplotlib as mp\n",
      "\n",
      "%pylab inline"
     ],
     "language": "python",
     "metadata": {},
     "outputs": [
      {
       "output_type": "stream",
       "stream": "stdout",
       "text": [
        "Populating the interactive namespace from numpy and matplotlib\n"
       ]
      }
     ],
     "prompt_number": 1
    },
    {
     "cell_type": "markdown",
     "metadata": {},
     "source": [
      "**Nos conectamos a la base de datos:**"
     ]
    },
    {
     "cell_type": "code",
     "collapsed": false,
     "input": [
      "dbname = \"bahia\"\n",
      "recurso = \"tetra:12082781\"\n",
      "limit = 2000\n",
      "cmd = \"SELECT id, recurso, latitud, longitud, velocidad, orientacion, UNIX_TIMESTAMP(fecha) FROM posicionesgps WHERE latitud <> 0 AND longitud <> 0 AND recurso='{0}' LIMIT {1};\""
     ],
     "language": "python",
     "metadata": {},
     "outputs": [],
     "prompt_number": 2
    },
    {
     "cell_type": "code",
     "collapsed": false,
     "input": [
      "data = getPositions(dbname, cmd, recurso, limit)"
     ],
     "language": "python",
     "metadata": {},
     "outputs": [],
     "prompt_number": 3
    },
    {
     "cell_type": "markdown",
     "metadata": {},
     "source": [
      "**Tipificamos las variables:**"
     ]
    },
    {
     "cell_type": "code",
     "collapsed": false,
     "input": [
      "[normalData, normalLats, normalLongs] = normalize(data)"
     ],
     "language": "python",
     "metadata": {},
     "outputs": [],
     "prompt_number": 5
    },
    {
     "cell_type": "markdown",
     "metadata": {},
     "source": [
      "**Consolidaci\u00f3n por distancia:**"
     ]
    },
    {
     "cell_type": "code",
     "collapsed": false,
     "input": [
      "#result = cs.ConsolidationByDistance(normalData, 0, 0.001, 1)\n",
      "#result = cs.ConsolidationByTime(list(normalData), 20)\n",
      "#result = cs.ConsolidationByDistance(normalData, 2, 0.001, 1)\n",
      "result = cs.ConsolidationByThinning(normalData, 2, 5)\n",
      "\n",
      "resultLats = []\n",
      "resultLongs = []\n",
      "for p in result:\n",
      "    resultLats.append(p.lat)\n",
      "    resultLongs.append(p.lon)"
     ],
     "language": "python",
     "metadata": {},
     "outputs": [],
     "prompt_number": 6
    },
    {
     "cell_type": "code",
     "collapsed": false,
     "input": [
      "plt.figure(1, figsize=(15,10))\n",
      "plt.subplot(111)\n",
      "ax = plt.gca()\n",
      "ax.grid(True)\n",
      "plt.plot(normalLats, normalLongs, 'ro', resultLats, resultLongs, 'bo');"
     ],
     "language": "python",
     "metadata": {},
     "outputs": [
      {
       "metadata": {},
       "output_type": "display_data",
       "png": "[encoded data removed]",
       "text": [
        "<matplotlib.figure.Figure at 0x7ff58f673950>"
       ]
      }
     ],
     "prompt_number": 7
    },
    {
     "cell_type": "code",
     "collapsed": false,
     "input": [
      "list3 = [x for x in data if x not in result]\n",
      "len(list3)"
     ],
     "language": "python",
     "metadata": {},
     "outputs": [
      {
       "metadata": {},
       "output_type": "pyout",
       "prompt_number": 8,
       "text": [
        "1200"
       ]
      }
     ],
     "prompt_number": 8
    },
    {
     "cell_type": "code",
     "collapsed": false,
     "input": [
      "deletePositions(\"bahia_test\", list3);"
     ],
     "language": "python",
     "metadata": {},
     "outputs": [
      {
       "output_type": "stream",
       "stream": "stdout",
       "text": [
        "id:3299042280, recurso:tetra:12082781, latitud:-0.223745658994, longitud:-0.670474886894, velocidad:99, orientacion:112, fecha:1424156442 deleted!\n",
        "id:3299042391, recurso:tetra:12082781, latitud:-0.223755031824, longitud:-0.670388162136, velocidad:111, orientacion:112, fecha:1424156459 deleted!\n",
        "id:3299042432, recurso:tetra:12082781, latitud:-0.223765134811, longitud:-0.670335769653, velocidad:103, orientacion:112, fecha:1424156471 deleted!\n",
        "id:3299042589, recurso:tetra:12082781, latitud:-0.223865881562, longitud:-0.669997572899, velocidad:149, orientacion:135, fecha:1424156530 deleted!\n",
        "id:3299042636, recurso:tetra:12082781, latitud:-0.22392693162, longitud:-0.669905602932, velocidad:161, orientacion:135, fecha:1424156547 deleted!\n",
        "id:3299042692, recurso:tetra:12082781, latitud:-0.223983287811, longitud:-0.669819891453, velocidad:144, orientacion:135, fecha:1424156562 deleted!\n",
        "id:3299043132, recurso:tetra:12082781, latitud:-0.22407990694, longitud:-0.669614613056, velocidad:66, orientacion:112, fecha:1424156610 deleted!"
       ]
      },
      {
       "output_type": "stream",
       "stream": "stdout",
       "text": [
        "\n",
        "id:3299043239, recurso:tetra:12082781, latitud:-0.224116235971, longitud:-0.669555485249, velocidad:103, orientacion:157, fecha:1424156629 deleted!\n",
        "id:3299043249, recurso:tetra:12082781, latitud:-0.224217548966, longitud:-0.669540464878, velocidad:76, orientacion:180, fecha:1424156651 deleted!\n",
        "id:3299043471, recurso:tetra:12082781, latitud:-0.224378019571, longitud:-0.669553935528, velocidad:139, orientacion:202, fecha:1424156704 deleted!\n",
        "id:3299043564, recurso:tetra:12082781, latitud:-0.224453106523, longitud:-0.669572889805, velocidad:111, orientacion:180, fecha:1424156718 deleted!\n",
        "id:3299043681, recurso:tetra:12082781, latitud:-0.224544495344, longitud:-0.669574379921, velocidad:144, orientacion:180, fecha:1424156735 deleted!\n",
        "id:3299044067, recurso:tetra:12082781, latitud:-0.224864691496, longitud:-0.669582247734, velocidad:139, orientacion:180, fecha:1424156786 deleted!\n",
        "id:3299044079, recurso:tetra:12082781, latitud:-0.224982842803, longitud:-0.669579446316, velocidad:149, orientacion:180, fecha:1424156805 deleted!\n",
        "id:3299044083, recurso:tetra:12082781, latitud:-0.225125908852, longitud:-0.669576644897, velocidad:124, orientacion:180, fecha:1424156830 deleted!"
       ]
      },
      {
       "output_type": "stream",
       "stream": "stdout",
       "text": [
        "\n",
        "id:3299044269, recurso:tetra:12082781, latitud:-0.22525306046, longitud:-0.669393837452, velocidad:124, orientacion:135, fecha:1424156873 deleted!\n",
        "id:3299044291, recurso:tetra:12082781, latitud:-0.225288257003, longitud:-0.669337153435, velocidad:99, orientacion:135, fecha:1424156886 deleted!\n",
        "id:3299044406, recurso:tetra:12082781, latitud:-0.22532401979, longitud:-0.669302642345, velocidad:56, orientacion:90, fecha:1424156904 deleted!\n",
        "id:3299044774, recurso:tetra:12082781, latitud:-0.225219920278, longitud:-0.66921800375, velocidad:79, orientacion:45, fecha:1424156946 deleted!\n",
        "id:3299044881, recurso:tetra:12082781, latitud:-0.225205868483, longitud:-0.66915345192, velocidad:59, orientacion:90, fecha:1424156969 deleted!\n",
        "id:3299045022, recurso:tetra:12082781, latitud:-0.225214853883, longitud:-0.669120311737, velocidad:63, orientacion:135, fecha:1424156984 deleted!\n",
        "id:3299045403, recurso:tetra:12082781, latitud:-0.225193887949, longitud:-0.669000089169, velocidad:73, orientacion:45, fecha:1424157026 deleted!\n",
        "id:3299045525, recurso:tetra:12082781, latitud:-0.225165426731, longitud:-0.668960750103, velocidad:56, orientacion:45, fecha:1424157043 deleted!"
       ]
      },
      {
       "output_type": "stream",
       "stream": "stdout",
       "text": [
        "\n",
        "id:3299045659, recurso:tetra:12082781, latitud:-0.225163176656, longitud:-0.668929278851, velocidad:40, orientacion:157, fecha:1424157058 deleted!\n",
        "id:3299045988, recurso:tetra:12082781, latitud:-0.225118041039, longitud:-0.668867707253, velocidad:48, orientacion:45, fecha:1424157116 deleted!\n",
        "id:3299046135, recurso:tetra:12082781, latitud:-0.225105315447, longitud:-0.668866753578, velocidad:7, orientacion:315, fecha:1424157132 deleted!\n",
        "id:3299046326, recurso:tetra:12082781, latitud:-0.225106626749, longitud:-0.668867707253, velocidad:0, orientacion:0, fecha:1424157150 deleted!\n",
        "id:3299046649, recurso:tetra:12082781, latitud:-0.225078716874, longitud:-0.668892204762, velocidad:22, orientacion:247, fecha:1424157204 deleted!\n",
        "id:3299046747, recurso:tetra:12082781, latitud:-0.225095391273, longitud:-0.668900847435, velocidad:50, orientacion:202, fecha:1424157215 deleted!\n",
        "id:3299046874, recurso:tetra:12082781, latitud:-0.225118607283, longitud:-0.668905317783, velocidad:47, orientacion:157, fecha:1424157227 deleted!"
       ]
      },
      {
       "output_type": "stream",
       "stream": "stdout",
       "text": [
        "\n",
        "id:3299047254, recurso:tetra:12082781, latitud:-0.225180774927, longitud:-0.668981552124, velocidad:79, orientacion:225, fecha:1424157271 deleted!\n",
        "id:3299047265, recurso:tetra:12082781, latitud:-0.225215226412, longitud:-0.669036209583, velocidad:88, orientacion:247, fecha:1424157288 deleted!\n",
        "id:3299047309, recurso:tetra:12082781, latitud:-0.225225150585, longitud:-0.66910135746, velocidad:66, orientacion:292, fecha:1424157310 deleted!\n",
        "id:3299047508, recurso:tetra:12082781, latitud:-0.225191265345, longitud:-0.669072747231, velocidad:29, orientacion:247, fecha:1424157351 deleted!\n",
        "id:3299047653, recurso:tetra:12082781, latitud:-0.225202128291, longitud:-0.669137716293, velocidad:73, orientacion:270, fecha:1424157373 deleted!\n",
        "id:3299047841, recurso:tetra:12082781, latitud:-0.225206241012, longitud:-0.669194996357, velocidad:73, orientacion:270, fecha:1424157390 deleted!\n",
        "id:3299048116, recurso:tetra:12082781, latitud:-0.225268229842, longitud:-0.669367074966, velocidad:88, orientacion:292, fecha:1424157454 deleted!\n",
        "id:3299048246, recurso:tetra:12082781, latitud:-0.22522777319, longitud:-0.669430553913, velocidad:111, orientacion:292, fecha:1424157471 deleted!"
       ]
      },
      {
       "output_type": "stream",
       "stream": "stdout",
       "text": [
        "\n",
        "id:3299048343, recurso:tetra:12082781, latitud:-0.225198566914, longitud:-0.669504523277, velocidad:115, orientacion:292, fecha:1424157488 deleted!\n",
        "id:3299048752, recurso:tetra:12082781, latitud:-0.22500962019, longitud:-0.669575095177, velocidad:111, orientacion:0, fecha:1424157533 deleted!\n",
        "id:3299048818, recurso:tetra:12082781, latitud:-0.224900081754, longitud:-0.669580340385, velocidad:124, orientacion:0, fecha:1424157556 deleted!\n",
        "id:3299048846, recurso:tetra:12082781, latitud:-0.224838480353, longitud:-0.669581472874, velocidad:134, orientacion:0, fecha:1424157568 deleted!\n",
        "id:3299049333, recurso:tetra:12082781, latitud:-0.224460601807, longitud:-0.669568359852, velocidad:124, orientacion:0, fecha:1424157629 deleted!\n",
        "id:3299049486, recurso:tetra:12082781, latitud:-0.224393382668, longitud:-0.669559955597, velocidad:124, orientacion:22, fecha:1424157641 deleted!\n",
        "id:3299049563, recurso:tetra:12082781, latitud:-0.224315285683, longitud:-0.669530570507, velocidad:115, orientacion:0, fecha:1424157657 deleted!\n",
        "id:3299049824, recurso:tetra:12082781, latitud:-0.224112689495, longitud:-0.669556558132, velocidad:115, orientacion:315, fecha:1424157716 deleted!\n",
        "id:3299049925, recurso:tetra:12082781, latitud:-0.224075987935, longitud:-0.669622302055, velocidad:111, orientacion:292, fecha:1424157733 deleted!"
       ]
      },
      {
       "output_type": "stream",
       "stream": "stdout",
       "text": [
        "\n",
        "id:3299050091, recurso:tetra:12082781, latitud:-0.224047333002, longitud:-0.66971629858, velocidad:124, orientacion:292, fecha:1424157749 deleted!\n",
        "id:3299050499, recurso:tetra:12082781, latitud:-0.22384659946, longitud:-0.670025467873, velocidad:139, orientacion:315, fecha:1424157809 deleted!\n",
        "id:3299050573, recurso:tetra:12082781, latitud:-0.223809331656, longitud:-0.670098125935, velocidad:134, orientacion:292, fecha:1424157824 deleted!\n",
        "id:3299050635, recurso:tetra:12082781, latitud:-0.223795294762, longitud:-0.670172095299, velocidad:144, orientacion:292, fecha:1424157836 deleted!\n",
        "id:3299051058, recurso:tetra:12082781, latitud:-0.223751470447, longitud:-0.670410096645, velocidad:111, orientacion:270, fecha:1424157877 deleted!\n",
        "id:3299051335, recurso:tetra:12082781, latitud:-0.223685190082, longitud:-0.670580506325, velocidad:76, orientacion:247, fecha:1424157928 deleted!\n",
        "id:3299054236, recurso:tetra:12082781, latitud:-0.224470153451, longitud:-0.671218454838, velocidad:71, orientacion:225, fecha:1424158359 deleted!"
       ]
      },
      {
       "output_type": "stream",
       "stream": "stdout",
       "text": [
        "\n",
        "id:3299054537, recurso:tetra:12082781, latitud:-0.224581569433, longitud:-0.671269178391, velocidad:42, orientacion:270, fecha:1424158402 deleted!\n",
        "id:3299054672, recurso:tetra:12082781, latitud:-0.22460141778, longitud:-0.671303093433, velocidad:66, orientacion:247, fecha:1424158415 deleted!\n",
        "id:3299054871, recurso:tetra:12082781, latitud:-0.224610775709, longitud:-0.671346187592, velocidad:73, orientacion:270, fecha:1424158435 deleted!\n",
        "id:3299055197, recurso:tetra:12082781, latitud:-0.224646165967, longitud:-0.671327471733, velocidad:37, orientacion:157, fecha:1424158487 deleted!\n",
        "id:3299055382, recurso:tetra:12082781, latitud:-0.224669009447, longitud:-0.671332657337, velocidad:47, orientacion:202, fecha:1424158500 deleted!\n",
        "id:3299055660, recurso:tetra:12082781, latitud:-0.224697098136, longitud:-0.671345770359, velocidad:31, orientacion:292, fecha:1424158519 deleted!\n",
        "id:3299056053, recurso:tetra:12082781, latitud:-0.224686056376, longitud:-0.671368479729, velocidad:0, orientacion:0, fecha:1424158579 deleted!\n",
        "id:3299056188, recurso:tetra:12082781, latitud:-0.224686056376, longitud:-0.671368479729, velocidad:0, orientacion:0, fecha:1424158594 deleted!"
       ]
      },
      {
       "output_type": "stream",
       "stream": "stdout",
       "text": [
        "\n",
        "id:3299056331, recurso:tetra:12082781, latitud:-0.224686428905, longitud:-0.671368837357, velocidad:0, orientacion:0, fecha:1424158609 deleted!\n",
        "id:3299056603, recurso:tetra:12082781, latitud:-0.224684923887, longitud:-0.671368479729, velocidad:0, orientacion:0, fecha:1424158665 deleted!\n",
        "id:3299056709, recurso:tetra:12082781, latitud:-0.224684923887, longitud:-0.671368479729, velocidad:0, orientacion:0, fecha:1424158678 deleted!\n",
        "id:3299056861, recurso:tetra:12082781, latitud:-0.224684923887, longitud:-0.671368837357, velocidad:0, orientacion:0, fecha:1424158697 deleted!\n",
        "id:3299057170, recurso:tetra:12082781, latitud:-0.2246838063, longitud:-0.671367883682, velocidad:0, orientacion:0, fecha:1424158767 deleted!\n",
        "id:3299057284, recurso:tetra:12082781, latitud:-0.224683433771, longitud:-0.671367883682, velocidad:0, orientacion:0, fecha:1424158783 deleted!\n",
        "id:3299057342, recurso:tetra:12082781, latitud:-0.224683433771, longitud:-0.67136824131, velocidad:0, orientacion:0, fecha:1424158794 deleted!\n",
        "id:3299057655, recurso:tetra:12082781, latitud:-0.224682867527, longitud:-0.67136824131, velocidad:0, orientacion:0, fecha:1424158839 deleted!\n",
        "id:3299057874, recurso:tetra:12082781, latitud:-0.224682494998, longitud:-0.67136824131, velocidad:0, orientacion:0, fecha:1424158855 deleted!"
       ]
      },
      {
       "output_type": "stream",
       "stream": "stdout",
       "text": [
        "\n",
        "id:3299057928, recurso:tetra:12082781, latitud:-0.224682494998, longitud:-0.67136824131, velocidad:0, orientacion:0, fecha:1424158870 deleted!\n",
        "id:3299058138, recurso:tetra:12082781, latitud:-0.22468586266, longitud:-0.671368837357, velocidad:0, orientacion:0, fecha:1424158940 deleted!\n",
        "id:3299058269, recurso:tetra:12082781, latitud:-0.22468586266, longitud:-0.671368837357, velocidad:0, orientacion:0, fecha:1424158954 deleted!\n",
        "id:3299058387, recurso:tetra:12082781, latitud:-0.224686056376, longitud:-0.671369016171, velocidad:0, orientacion:0, fecha:1424158969 deleted!\n",
        "id:3299058700, recurso:tetra:12082781, latitud:-0.224685117602, longitud:-0.671368837357, velocidad:0, orientacion:0, fecha:1424159027 deleted!\n",
        "id:3299058702, recurso:tetra:12082781, latitud:-0.224685117602, longitud:-0.671368837357, velocidad:0, orientacion:0, fecha:1424159046 deleted!\n",
        "id:3299058845, recurso:tetra:12082781, latitud:-0.224684923887, longitud:-0.671368837357, velocidad:0, orientacion:0, fecha:1424159066 deleted!\n",
        "id:3299059192, recurso:tetra:12082781, latitud:-0.2246838063, longitud:-0.671368479729, velocidad:0, orientacion:0, fecha:1424159111 deleted!\n",
        "id:3299059448, recurso:tetra:12082781, latitud:-0.224684551358, longitud:-0.671368837357, velocidad:0, orientacion:0, fecha:1424159139 deleted!\n",
        "id:3299059522, recurso:tetra:12082781, latitud:-0.224684551358, longitud:-0.671368837357, velocidad:0, orientacion:0, fecha:1424159155 deleted!"
       ]
      },
      {
       "output_type": "stream",
       "stream": "stdout",
       "text": [
        "\n",
        "id:3299059844, recurso:tetra:12082781, latitud:-0.224684000015, longitud:-0.671368479729, velocidad:0, orientacion:0, fecha:1424159200 deleted!\n",
        "id:3299059939, recurso:tetra:12082781, latitud:-0.224684000015, longitud:-0.67136824131, velocidad:0, orientacion:0, fecha:1424159214 deleted!\n",
        "id:3299060111, recurso:tetra:12082781, latitud:-0.224684372544, longitud:-0.67136824131, velocidad:0, orientacion:0, fecha:1424159232 deleted!\n",
        "id:3299060436, recurso:tetra:12082781, latitud:-0.224685117602, longitud:-0.67136824131, velocidad:0, orientacion:0, fecha:1424159312 deleted!\n",
        "id:3299060554, recurso:tetra:12082781, latitud:-0.224684923887, longitud:-0.671368479729, velocidad:0, orientacion:0, fecha:1424159327 deleted!\n",
        "id:3299060649, recurso:tetra:12082781, latitud:-0.224684923887, longitud:-0.671368479729, velocidad:0, orientacion:0, fecha:1424159342 deleted!\n",
        "id:3299060934, recurso:tetra:12082781, latitud:-0.224684000015, longitud:-0.671368837357, velocidad:0, orientacion:0, fecha:1424159392 deleted!\n",
        "id:3299061008, recurso:tetra:12082781, latitud:-0.224684000015, longitud:-0.671368837357, velocidad:0, orientacion:0, fecha:1424159407 deleted!\n",
        "id:3299061106, recurso:tetra:12082781, latitud:-0.224684000015, longitud:-0.671368837357, velocidad:0, orientacion:22, fecha:1424159420 deleted!"
       ]
      },
      {
       "output_type": "stream",
       "stream": "stdout",
       "text": [
        "\n",
        "id:3299061579, recurso:tetra:12082781, latitud:-0.224684372544, longitud:-0.671368837357, velocidad:0, orientacion:0, fecha:1424159475 deleted!\n",
        "id:3299061673, recurso:tetra:12082781, latitud:-0.224684551358, longitud:-0.671368837357, velocidad:0, orientacion:0, fecha:1424159499 deleted!\n",
        "id:3299061676, recurso:tetra:12082781, latitud:-0.224684551358, longitud:-0.671368837357, velocidad:0, orientacion:0, fecha:1424159527 deleted!\n",
        "id:3299061905, recurso:tetra:12082781, latitud:-0.224685490131, longitud:-0.67136824131, velocidad:0, orientacion:0, fecha:1424159586 deleted!\n",
        "id:3299062013, recurso:tetra:12082781, latitud:-0.22468586266, longitud:-0.67136824131, velocidad:0, orientacion:0, fecha:1424159602 deleted!\n",
        "id:3299062173, recurso:tetra:12082781, latitud:-0.224685490131, longitud:-0.67136824131, velocidad:0, orientacion:225, fecha:1424159619 deleted!\n",
        "id:3299062434, recurso:tetra:12082781, latitud:-0.224685117602, longitud:-0.671368837357, velocidad:0, orientacion:180, fecha:1424159677 deleted!"
       ]
      },
      {
       "output_type": "stream",
       "stream": "stdout",
       "text": [
        "\n",
        "id:3299062443, recurso:tetra:12082781, latitud:-0.22468586266, longitud:-0.671369373798, velocidad:0, orientacion:0, fecha:1424159702 deleted!\n",
        "id:3299062540, recurso:tetra:12082781, latitud:-0.22468586266, longitud:-0.671369373798, velocidad:1, orientacion:0, fecha:1424159716 deleted!\n",
        "id:3299062759, recurso:tetra:12082781, latitud:-0.224686607718, longitud:-0.671369373798, velocidad:0, orientacion:22, fecha:1424159759 deleted!\n",
        "id:3299062837, recurso:tetra:12082781, latitud:-0.224686995149, longitud:-0.671369016171, velocidad:0, orientacion:0, fecha:1424159779 deleted!\n",
        "id:3299062974, recurso:tetra:12082781, latitud:-0.224685117602, longitud:-0.671369016171, velocidad:0, orientacion:0, fecha:1424159800 deleted!"
       ]
      },
      {
       "output_type": "stream",
       "stream": "stdout",
       "text": [
        "\n",
        "id:3299063287, recurso:tetra:12082781, latitud:-0.224686428905, longitud:-0.671368837357, velocidad:0, orientacion:0, fecha:1424159860 deleted!\n",
        "id:3299063365, recurso:tetra:12082781, latitud:-0.224685490131, longitud:-0.671368837357, velocidad:0, orientacion:0, fecha:1424159875 deleted!\n",
        "id:3299063401, recurso:tetra:12082781, latitud:-0.224685490131, longitud:-0.671368837357, velocidad:0, orientacion:0, fecha:1424159888 deleted!\n",
        "id:3299063788, recurso:tetra:12082781, latitud:-0.224685490131, longitud:-0.671368837357, velocidad:0, orientacion:0, fecha:1424159941 deleted!\n",
        "id:3299063871, recurso:tetra:12082781, latitud:-0.224684923887, longitud:-0.671369016171, velocidad:0, orientacion:0, fecha:1424159957 deleted!\n",
        "id:3299063989, recurso:tetra:12082781, latitud:-0.224685117602, longitud:-0.671369016171, velocidad:0, orientacion:0, fecha:1424159977 deleted!\n",
        "id:3299064615, recurso:tetra:12082781, latitud:-0.224684923887, longitud:-0.671369016171, velocidad:0, orientacion:0, fecha:1424160021 deleted!"
       ]
      },
      {
       "output_type": "stream",
       "stream": "stdout",
       "text": [
        "\n",
        "id:3299064654, recurso:tetra:12082781, latitud:-0.224684923887, longitud:-0.671369016171, velocidad:0, orientacion:0, fecha:1424160032 deleted!\n",
        "id:3299064764, recurso:tetra:12082781, latitud:-0.224684923887, longitud:-0.671369016171, velocidad:0, orientacion:0, fecha:1424160042 deleted!\n",
        "id:3299064974, recurso:tetra:12082781, latitud:-0.224684923887, longitud:-0.671369016171, velocidad:0, orientacion:0, fecha:1424160082 deleted!\n",
        "id:3299065056, recurso:tetra:12082781, latitud:-0.224685117602, longitud:-0.671369016171, velocidad:0, orientacion:0, fecha:1424160093 deleted!\n",
        "id:3299065227, recurso:tetra:12082781, latitud:-0.224685117602, longitud:-0.671369016171, velocidad:0, orientacion:0, fecha:1424160107 deleted!\n",
        "id:3299065367, recurso:tetra:12082781, latitud:-0.224686428905, longitud:-0.671368837357, velocidad:0, orientacion:0, fecha:1424160148 deleted!\n",
        "id:3299065409, recurso:tetra:12082781, latitud:-0.224686428905, longitud:-0.671368479729, velocidad:0, orientacion:0, fecha:1424160161 deleted!\n",
        "id:3299065566, recurso:tetra:12082781, latitud:-0.224686428905, longitud:-0.671368479729, velocidad:0, orientacion:0, fecha:1424160174 deleted!\n",
        "id:3299065919, recurso:tetra:12082781, latitud:-0.22468586266, longitud:-0.671368837357, velocidad:0, orientacion:45, fecha:1424160207 deleted!"
       ]
      },
      {
       "output_type": "stream",
       "stream": "stdout",
       "text": [
        "\n",
        "id:3299066052, recurso:tetra:12082781, latitud:-0.224685490131, longitud:-0.671368837357, velocidad:0, orientacion:0, fecha:1424160220 deleted!\n",
        "id:3299066104, recurso:tetra:12082781, latitud:-0.224685490131, longitud:-0.671368837357, velocidad:0, orientacion:0, fecha:1424160234 deleted!\n",
        "id:3299066374, recurso:tetra:12082781, latitud:-0.224685490131, longitud:-0.671368479729, velocidad:0, orientacion:0, fecha:1424160281 deleted!\n",
        "id:3299066626, recurso:tetra:12082781, latitud:-0.224685490131, longitud:-0.671368479729, velocidad:0, orientacion:0, fecha:1424160303 deleted!\n",
        "id:3299066852, recurso:tetra:12082781, latitud:-0.224685490131, longitud:-0.671368479729, velocidad:0, orientacion:0, fecha:1424160323 deleted!\n",
        "id:3299067364, recurso:tetra:12082781, latitud:-0.224685490131, longitud:-0.671367883682, velocidad:0, orientacion:315, fecha:1424160367 deleted!\n",
        "id:3299067500, recurso:tetra:12082781, latitud:-0.224685490131, longitud:-0.671367883682, velocidad:0, orientacion:0, fecha:1424160399 deleted!\n",
        "id:3299067599, recurso:tetra:12082781, latitud:-0.22468586266, longitud:-0.671368837357, velocidad:0, orientacion:0, fecha:1424160422 deleted!\n",
        "id:3299067838, recurso:tetra:12082781, latitud:-0.22468586266, longitud:-0.671368479729, velocidad:0, orientacion:0, fecha:1424160470 deleted!\n",
        "id:3299067970, recurso:tetra:12082781, latitud:-0.224685490131, longitud:-0.671368479729, velocidad:0, orientacion:0, fecha:1424160486 deleted!"
       ]
      },
      {
       "output_type": "stream",
       "stream": "stdout",
       "text": [
        "\n",
        "id:3299068103, recurso:tetra:12082781, latitud:-0.22468586266, longitud:-0.671368479729, velocidad:0, orientacion:0, fecha:1424160502 deleted!\n",
        "id:3299068375, recurso:tetra:12082781, latitud:-0.224684551358, longitud:-0.671367526054, velocidad:0, orientacion:0, fecha:1424160563 deleted!\n",
        "id:3299068409, recurso:tetra:12082781, latitud:-0.224684000015, longitud:-0.671367883682, velocidad:0, orientacion:315, fecha:1424160576 deleted!\n",
        "id:3299068493, recurso:tetra:12082781, latitud:-0.224684000015, longitud:-0.671367883682, velocidad:0, orientacion:0, fecha:1424160590 deleted!\n",
        "id:3299068875, recurso:tetra:12082781, latitud:-0.224684551358, longitud:-0.67136824131, velocidad:0, orientacion:0, fecha:1424160632 deleted!\n",
        "id:3299068934, recurso:tetra:12082781, latitud:-0.224684000015, longitud:-0.67136824131, velocidad:0, orientacion:0, fecha:1424160646 deleted!"
       ]
      },
      {
       "output_type": "stream",
       "stream": "stdout",
       "text": [
        "\n",
        "id:3299069055, recurso:tetra:12082781, latitud:-0.224684000015, longitud:-0.67136824131, velocidad:0, orientacion:0, fecha:1424160672 deleted!\n",
        "id:3299069625, recurso:tetra:12082781, latitud:-0.224684923887, longitud:-0.671366930008, velocidad:0, orientacion:0, fecha:1424160716 deleted!\n",
        "id:3299069665, recurso:tetra:12082781, latitud:-0.224686056376, longitud:-0.671367526054, velocidad:0, orientacion:0, fecha:1424160744 deleted!\n",
        "id:3299069786, recurso:tetra:12082781, latitud:-0.224686995149, longitud:-0.67136824131, velocidad:0, orientacion:0, fecha:1424160762 deleted!\n",
        "id:3299070051, recurso:tetra:12082781, latitud:-0.224684551358, longitud:-0.671367526054, velocidad:0, orientacion:0, fecha:1424160811 deleted!\n",
        "id:3299070167, recurso:tetra:12082781, latitud:-0.224684551358, longitud:-0.671367526054, velocidad:0, orientacion:0, fecha:1424160828 deleted!\n",
        "id:3299070270, recurso:tetra:12082781, latitud:-0.224684372544, longitud:-0.671367526054, velocidad:0, orientacion:0, fecha:1424160845 deleted!\n",
        "id:3299070432, recurso:tetra:12082781, latitud:-0.224685117602, longitud:-0.671367883682, velocidad:0, orientacion:0, fecha:1424160896 deleted!\n",
        "id:3299070529, recurso:tetra:12082781, latitud:-0.224686607718, longitud:-0.67136824131, velocidad:0, orientacion:0, fecha:1424160913 deleted!"
       ]
      },
      {
       "output_type": "stream",
       "stream": "stdout",
       "text": [
        "\n",
        "id:3299070558, recurso:tetra:12082781, latitud:-0.224686607718, longitud:-0.67136824131, velocidad:0, orientacion:0, fecha:1424160926 deleted!\n",
        "id:3299070938, recurso:tetra:12082781, latitud:-0.22468586266, longitud:-0.671368479729, velocidad:0, orientacion:0, fecha:1424160968 deleted!\n",
        "id:3299071061, recurso:tetra:12082781, latitud:-0.22468586266, longitud:-0.671368479729, velocidad:0, orientacion:225, fecha:1424160983 deleted!\n",
        "id:3299071079, recurso:tetra:12082781, latitud:-0.22468586266, longitud:-0.671368837357, velocidad:0, orientacion:0, fecha:1424161009 deleted!\n",
        "id:3299071268, recurso:tetra:12082781, latitud:-0.224685117602, longitud:-0.671368837357, velocidad:0, orientacion:0, fecha:1424161068 deleted!\n",
        "id:3299071403, recurso:tetra:12082781, latitud:-0.224685490131, longitud:-0.671368837357, velocidad:0, orientacion:0, fecha:1424161087 deleted!\n",
        "id:3299071513, recurso:tetra:12082781, latitud:-0.224685490131, longitud:-0.671369016171, velocidad:0, orientacion:0, fecha:1424161109 deleted!"
       ]
      },
      {
       "output_type": "stream",
       "stream": "stdout",
       "text": [
        "\n",
        "id:3299071790, recurso:tetra:12082781, latitud:-0.224684551358, longitud:-0.671368837357, velocidad:0, orientacion:0, fecha:1424161161 deleted!\n",
        "id:3299071799, recurso:tetra:12082781, latitud:-0.224684923887, longitud:-0.671368479729, velocidad:0, orientacion:0, fecha:1424161185 deleted!\n",
        "id:3299071967, recurso:tetra:12082781, latitud:-0.224684923887, longitud:-0.671368479729, velocidad:0, orientacion:0, fecha:1424161200 deleted!\n",
        "id:3299072469, recurso:tetra:12082781, latitud:-0.224685117602, longitud:-0.671368479729, velocidad:0, orientacion:0, fecha:1424161246 deleted!\n",
        "id:3299072531, recurso:tetra:12082781, latitud:-0.224685490131, longitud:-0.671368479729, velocidad:0, orientacion:0, fecha:1424161259 deleted!\n",
        "id:3299072651, recurso:tetra:12082781, latitud:-0.224686056376, longitud:-0.671368837357, velocidad:0, orientacion:157, fecha:1424161271 deleted!\n",
        "id:3299072893, recurso:tetra:12082781, latitud:-0.22468586266, longitud:-0.671369016171, velocidad:0, orientacion:0, fecha:1424161317 deleted!\n",
        "id:3299073110, recurso:tetra:12082781, latitud:-0.224685490131, longitud:-0.671369016171, velocidad:0, orientacion:0, fecha:1424161332 deleted!\n",
        "id:3299073238, recurso:tetra:12082781, latitud:-0.224685490131, longitud:-0.671369373798, velocidad:0, orientacion:0, fecha:1424161365 deleted!"
       ]
      },
      {
       "output_type": "stream",
       "stream": "stdout",
       "text": [
        "\n",
        "id:3299073561, recurso:tetra:12082781, latitud:-0.224685117602, longitud:-0.671369373798, velocidad:0, orientacion:0, fecha:1424161416 deleted!\n",
        "id:3299073660, recurso:tetra:12082781, latitud:-0.224684923887, longitud:-0.671369373798, velocidad:0, orientacion:0, fecha:1424161432 deleted!\n",
        "id:3299073815, recurso:tetra:12082781, latitud:-0.224686428905, longitud:-0.671369016171, velocidad:0, orientacion:0, fecha:1424161461 deleted!\n",
        "id:3299073910, recurso:tetra:12082781, latitud:-0.224685490131, longitud:-0.671369016171, velocidad:0, orientacion:0, fecha:1424161537 deleted!\n",
        "id:3299074072, recurso:tetra:12082781, latitud:-0.224685490131, longitud:-0.671369016171, velocidad:0, orientacion:0, fecha:1424161550 deleted!\n",
        "id:3299074125, recurso:tetra:12082781, latitud:-0.224685490131, longitud:-0.671369016171, velocidad:0, orientacion:0, fecha:1424161565 deleted!\n",
        "id:3299074506, recurso:tetra:12082781, latitud:-0.224685117602, longitud:-0.671368479729, velocidad:0, orientacion:0, fecha:1424161606 deleted!\n",
        "id:3299074609, recurso:tetra:12082781, latitud:-0.224685490131, longitud:-0.671368479729, velocidad:0, orientacion:0, fecha:1424161627 deleted!\n",
        "id:3299074739, recurso:tetra:12082781, latitud:-0.22468586266, longitud:-0.67136824131, velocidad:0, orientacion:0, fecha:1424161647 deleted!\n",
        "id:3299074986, recurso:tetra:12082781, latitud:-0.224686428905, longitud:-0.67136824131, velocidad:0, orientacion:0, fecha:1424161693 deleted!"
       ]
      },
      {
       "output_type": "stream",
       "stream": "stdout",
       "text": [
        "\n",
        "id:3299075132, recurso:tetra:12082781, latitud:-0.224686428905, longitud:-0.671368479729, velocidad:0, orientacion:0, fecha:1424161712 deleted!\n",
        "id:3299075282, recurso:tetra:12082781, latitud:-0.224687546492, longitud:-0.671368479729, velocidad:0, orientacion:0, fecha:1424161730 deleted!\n",
        "id:3299075455, recurso:tetra:12082781, latitud:-0.224685490131, longitud:-0.671369016171, velocidad:0, orientacion:0, fecha:1424161795 deleted!\n",
        "id:3299075550, recurso:tetra:12082781, latitud:-0.224685490131, longitud:-0.671369373798, velocidad:0, orientacion:0, fecha:1424161808 deleted!\n",
        "id:3299075678, recurso:tetra:12082781, latitud:-0.224685490131, longitud:-0.671369373798, velocidad:0, orientacion:0, fecha:1424161825 deleted!\n",
        "id:3299075998, recurso:tetra:12082781, latitud:-0.22468586266, longitud:-0.671371459961, velocidad:0, orientacion:0, fecha:1424161870 deleted!\n",
        "id:3299076027, recurso:tetra:12082781, latitud:-0.22468586266, longitud:-0.671369969845, velocidad:0, orientacion:0, fecha:1424161885 deleted!\n",
        "id:3299076179, recurso:tetra:12082781, latitud:-0.22468586266, longitud:-0.671369552612, velocidad:0, orientacion:0, fecha:1424161895 deleted!\n",
        "id:3299076590, recurso:tetra:12082781, latitud:-0.224685117602, longitud:-0.671368837357, velocidad:0, orientacion:0, fecha:1424161942 deleted!\n",
        "id:3299076671, recurso:tetra:12082781, latitud:-0.224684551358, longitud:-0.671368479729, velocidad:0, orientacion:0, fecha:1424161964 deleted!"
       ]
      },
      {
       "output_type": "stream",
       "stream": "stdout",
       "text": [
        "\n",
        "id:3299076798, recurso:tetra:12082781, latitud:-0.224685117602, longitud:-0.671368479729, velocidad:0, orientacion:0, fecha:1424161978 deleted!\n",
        "id:3299077016, recurso:tetra:12082781, latitud:-0.22468586266, longitud:-0.671367526054, velocidad:0, orientacion:0, fecha:1424162024 deleted!\n",
        "id:3299077171, recurso:tetra:12082781, latitud:-0.22468586266, longitud:-0.671367526054, velocidad:0, orientacion:0, fecha:1424162038 deleted!\n",
        "id:3299077315, recurso:tetra:12082781, latitud:-0.22468586266, longitud:-0.671367526054, velocidad:0, orientacion:0, fecha:1424162058 deleted!\n",
        "id:3299077668, recurso:tetra:12082781, latitud:-0.224685117602, longitud:-0.671367526054, velocidad:0, orientacion:0, fecha:1424162121 deleted!\n",
        "id:3299077768, recurso:tetra:12082781, latitud:-0.224685117602, longitud:-0.671367526054, velocidad:0, orientacion:0, fecha:1424162140 deleted!\n",
        "id:3299077867, recurso:tetra:12082781, latitud:-0.224685117602, longitud:-0.671367526054, velocidad:0, orientacion:0, fecha:1424162154 deleted!\n",
        "id:3299078089, recurso:tetra:12082781, latitud:-0.224684000015, longitud:-0.67136824131, velocidad:0, orientacion:180, fecha:1424162216 deleted!\n",
        "id:3299078135, recurso:tetra:12082781, latitud:-0.224684923887, longitud:-0.671368479729, velocidad:0, orientacion:0, fecha:1424162228 deleted!\n",
        "id:3299078268, recurso:tetra:12082781, latitud:-0.224685490131, longitud:-0.67136824131, velocidad:0, orientacion:0, fecha:1424162256 deleted!"
       ]
      },
      {
       "output_type": "stream",
       "stream": "stdout",
       "text": [
        "\n",
        "id:3299078619, recurso:tetra:12082781, latitud:-0.224685117602, longitud:-0.67136824131, velocidad:0, orientacion:0, fecha:1424162296 deleted!\n",
        "id:3299078735, recurso:tetra:12082781, latitud:-0.224684551358, longitud:-0.671368479729, velocidad:0, orientacion:0, fecha:1424162316 deleted!\n",
        "id:3299078776, recurso:tetra:12082781, latitud:-0.224684000015, longitud:-0.671368479729, velocidad:0, orientacion:0, fecha:1424162336 deleted!\n",
        "id:3299079093, recurso:tetra:12082781, latitud:-0.224685117602, longitud:-0.67136824131, velocidad:0, orientacion:0, fecha:1424162386 deleted!\n",
        "id:3299079222, recurso:tetra:12082781, latitud:-0.224685117602, longitud:-0.671367883682, velocidad:0, orientacion:0, fecha:1424162401 deleted!\n",
        "id:3299079374, recurso:tetra:12082781, latitud:-0.224685117602, longitud:-0.67136824131, velocidad:0, orientacion:0, fecha:1424162416 deleted!\n",
        "id:3299079506, recurso:tetra:12082781, latitud:-0.224686056376, longitud:-0.671369552612, velocidad:0, orientacion:0, fecha:1424162469 deleted!\n",
        "id:3299079659, recurso:tetra:12082781, latitud:-0.224685117602, longitud:-0.671369552612, velocidad:0, orientacion:0, fecha:1424162483 deleted!\n",
        "id:3299079743, recurso:tetra:12082781, latitud:-0.224685117602, longitud:-0.671369552612, velocidad:0, orientacion:0, fecha:1424162497 deleted!\n",
        "id:3299080078, recurso:tetra:12082781, latitud:-0.224684923887, longitud:-0.671369373798, velocidad:0, orientacion:0, fecha:1424162541 deleted!"
       ]
      },
      {
       "output_type": "stream",
       "stream": "stdout",
       "text": [
        "\n",
        "id:3299080149, recurso:tetra:12082781, latitud:-0.224685117602, longitud:-0.671369373798, velocidad:0, orientacion:0, fecha:1424162561 deleted!\n",
        "id:3299080207, recurso:tetra:12082781, latitud:-0.224685117602, longitud:-0.671369373798, velocidad:0, orientacion:0, fecha:1424162589 deleted!\n",
        "id:3299080554, recurso:tetra:12082781, latitud:-0.224685117602, longitud:-0.671368837357, velocidad:0, orientacion:0, fecha:1424162641 deleted!\n",
        "id:3299080713, recurso:tetra:12082781, latitud:-0.224685117602, longitud:-0.671368837357, velocidad:0, orientacion:0, fecha:1424162665 deleted!\n",
        "id:3299080811, recurso:tetra:12082781, latitud:-0.224685117602, longitud:-0.671369016171, velocidad:0, orientacion:0, fecha:1424162681 deleted!\n",
        "id:3299081020, recurso:tetra:12082781, latitud:-0.224686428905, longitud:-0.671369016171, velocidad:0, orientacion:0, fecha:1424162738 deleted!\n",
        "id:3299081132, recurso:tetra:12082781, latitud:-0.224686428905, longitud:-0.671369373798, velocidad:0, orientacion:0, fecha:1424162752 deleted!\n",
        "id:3299081218, recurso:tetra:12082781, latitud:-0.224686428905, longitud:-0.671369552612, velocidad:0, orientacion:0, fecha:1424162764 deleted!\n",
        "id:3299081703, recurso:tetra:12082781, latitud:-0.224686428905, longitud:-0.671369552612, velocidad:0, orientacion:0, fecha:1424162811 deleted!\n",
        "id:3299081837, recurso:tetra:12082781, latitud:-0.224686428905, longitud:-0.671369552612, velocidad:0, orientacion:0, fecha:1424162825 deleted!"
       ]
      },
      {
       "output_type": "stream",
       "stream": "stdout",
       "text": [
        "\n",
        "id:3299081919, recurso:tetra:12082781, latitud:-0.224687173963, longitud:-0.671369552612, velocidad:0, orientacion:0, fecha:1424162841 deleted!\n",
        "id:3299082187, recurso:tetra:12082781, latitud:-0.224685117602, longitud:-0.671370148659, velocidad:1, orientacion:292, fecha:1424162891 deleted!\n",
        "id:3299082197, recurso:tetra:12082781, latitud:-0.224685117602, longitud:-0.671370506287, velocidad:0, orientacion:0, fecha:1424162914 deleted!\n",
        "id:3299082203, recurso:tetra:12082781, latitud:-0.224685490131, longitud:-0.671370506287, velocidad:0, orientacion:0, fecha:1424162936 deleted!\n",
        "id:3299082486, recurso:tetra:12082781, latitud:-0.224684551358, longitud:-0.671371638775, velocidad:0, orientacion:90, fecha:1424162987 deleted!\n",
        "id:3299082612, recurso:tetra:12082781, latitud:-0.22468586266, longitud:-0.671372950077, velocidad:0, orientacion:0, fecha:1424163003 deleted!\n",
        "id:3299082746, recurso:tetra:12082781, latitud:-0.224687546492, longitud:-0.671371638775, velocidad:0, orientacion:0, fecha:1424163021 deleted!\n",
        "id:3299083035, recurso:tetra:12082781, latitud:-0.224686995149, longitud:-0.671368837357, velocidad:0, orientacion:0, fecha:1424163085 deleted!\n",
        "id:3299083075, recurso:tetra:12082781, latitud:-0.224686995149, longitud:-0.671368479729, velocidad:0, orientacion:0, fecha:1424163100 deleted!\n",
        "id:3299083161, recurso:tetra:12082781, latitud:-0.224686428905, longitud:-0.671367883682, velocidad:0, orientacion:0, fecha:1424163113 deleted!"
       ]
      },
      {
       "output_type": "stream",
       "stream": "stdout",
       "text": [
        "\n",
        "id:3299083557, recurso:tetra:12082781, latitud:-0.224686428905, longitud:-0.671366214752, velocidad:0, orientacion:0, fecha:1424163157 deleted!\n",
        "id:3299083566, recurso:tetra:12082781, latitud:-0.224686056376, longitud:-0.671366214752, velocidad:0, orientacion:0, fecha:1424163176 deleted!\n",
        "id:3299083652, recurso:tetra:12082781, latitud:-0.224686056376, longitud:-0.671366214752, velocidad:0, orientacion:0, fecha:1424163193 deleted!\n",
        "id:3299083969, recurso:tetra:12082781, latitud:-0.22468586266, longitud:-0.67136734724, velocidad:0, orientacion:0, fecha:1424163240 deleted!\n",
        "id:3299084042, recurso:tetra:12082781, latitud:-0.224685117602, longitud:-0.671367526054, velocidad:0, orientacion:0, fecha:1424163257 deleted!\n",
        "id:3299084178, recurso:tetra:12082781, latitud:-0.224685117602, longitud:-0.671367526054, velocidad:0, orientacion:0, fecha:1424163272 deleted!\n",
        "id:3299084416, recurso:tetra:12082781, latitud:-0.224685490131, longitud:-0.671367526054, velocidad:0, orientacion:0, fecha:1424163348 deleted!\n",
        "id:3299084562, recurso:tetra:12082781, latitud:-0.224685490131, longitud:-0.671367883682, velocidad:0, orientacion:0, fecha:1424163366 deleted!\n",
        "id:3299084700, recurso:tetra:12082781, latitud:-0.224685490131, longitud:-0.671367883682, velocidad:0, orientacion:0, fecha:1424163381 deleted!\n",
        "id:3299084903, recurso:tetra:12082781, latitud:-0.224685490131, longitud:-0.671367883682, velocidad:0, orientacion:0, fecha:1424163432 deleted!"
       ]
      },
      {
       "output_type": "stream",
       "stream": "stdout",
       "text": [
        "\n",
        "id:3299085055, recurso:tetra:12082781, latitud:-0.224685490131, longitud:-0.671368837357, velocidad:0, orientacion:0, fecha:1424163449 deleted!\n",
        "id:3299085093, recurso:tetra:12082781, latitud:-0.224685490131, longitud:-0.671369016171, velocidad:0, orientacion:0, fecha:1424163473 deleted!\n",
        "id:3299085520, recurso:tetra:12082781, latitud:-0.22468586266, longitud:-0.671369552612, velocidad:0, orientacion:0, fecha:1424163523 deleted!\n",
        "id:3299085650, recurso:tetra:12082781, latitud:-0.224686995149, longitud:-0.671368479729, velocidad:0, orientacion:0, fecha:1424163556 deleted!\n",
        "id:3299085804, recurso:tetra:12082781, latitud:-0.224687173963, longitud:-0.671367883682, velocidad:0, orientacion:0, fecha:1424163575 deleted!\n",
        "id:3299086047, recurso:tetra:12082781, latitud:-0.224686995149, longitud:-0.671366751194, velocidad:0, orientacion:270, fecha:1424163624 deleted!\n",
        "id:3299086194, recurso:tetra:12082781, latitud:-0.224686607718, longitud:-0.67136734724, velocidad:0, orientacion:0, fecha:1424163641 deleted!\n",
        "id:3299086230, recurso:tetra:12082781, latitud:-0.224686995149, longitud:-0.671368837357, velocidad:0, orientacion:0, fecha:1424163665 deleted!\n",
        "id:3299086422, recurso:tetra:12082781, latitud:-0.224686428905, longitud:-0.671369969845, velocidad:0, orientacion:0, fecha:1424163723 deleted!"
       ]
      },
      {
       "output_type": "stream",
       "stream": "stdout",
       "text": [
        "\n",
        "id:3299086476, recurso:tetra:12082781, latitud:-0.224686428905, longitud:-0.671369969845, velocidad:0, orientacion:112, fecha:1424163736 deleted!\n",
        "id:3299086580, recurso:tetra:12082781, latitud:-0.224686056376, longitud:-0.671370148659, velocidad:0, orientacion:0, fecha:1424163749 deleted!\n",
        "id:3299086907, recurso:tetra:12082781, latitud:-0.224686428905, longitud:-0.671369969845, velocidad:0, orientacion:0, fecha:1424163810 deleted!\n",
        "id:3299087042, recurso:tetra:12082781, latitud:-0.224686428905, longitud:-0.671370506287, velocidad:0, orientacion:0, fecha:1424163826 deleted!\n",
        "id:3299087073, recurso:tetra:12082781, latitud:-0.224686607718, longitud:-0.671371459961, velocidad:0, orientacion:0, fecha:1424163841 deleted!\n",
        "id:3299087508, recurso:tetra:12082781, latitud:-0.224686607718, longitud:-0.671370863914, velocidad:0, orientacion:0, fecha:1424163903 deleted!\n",
        "id:3299087554, recurso:tetra:12082781, latitud:-0.224686607718, longitud:-0.671370863914, velocidad:0, orientacion:0, fecha:1424163916 deleted!\n",
        "id:3299087587, recurso:tetra:12082781, latitud:-0.224686056376, longitud:-0.671370863914, velocidad:0, orientacion:0, fecha:1424163938 deleted!\n",
        "id:3299087936, recurso:tetra:12082781, latitud:-0.224686056376, longitud:-0.671369373798, velocidad:0, orientacion:0, fecha:1424163993 deleted!\n",
        "id:3299087986, recurso:tetra:12082781, latitud:-0.224686428905, longitud:-0.671368837357, velocidad:0, orientacion:0, fecha:1424164009 deleted!"
       ]
      },
      {
       "output_type": "stream",
       "stream": "stdout",
       "text": [
        "\n",
        "id:3299088074, recurso:tetra:12082781, latitud:-0.224686607718, longitud:-0.67136824131, velocidad:0, orientacion:0, fecha:1424164024 deleted!\n",
        "id:3299088373, recurso:tetra:12082781, latitud:-0.224685490131, longitud:-0.671370148659, velocidad:0, orientacion:0, fecha:1424164080 deleted!\n",
        "id:3299088419, recurso:tetra:12082781, latitud:-0.224685117602, longitud:-0.671370148659, velocidad:0, orientacion:0, fecha:1424164095 deleted!\n",
        "id:3299088546, recurso:tetra:12082781, latitud:-0.22468586266, longitud:-0.671369969845, velocidad:0, orientacion:0, fecha:1424164112 deleted!\n",
        "id:3299088880, recurso:tetra:12082781, latitud:-0.22468586266, longitud:-0.671369969845, velocidad:0, orientacion:0, fecha:1424164179 deleted!\n",
        "id:3299089045, recurso:tetra:12082781, latitud:-0.22468586266, longitud:-0.671369969845, velocidad:0, orientacion:0, fecha:1424164199 deleted!\n",
        "id:3299089077, recurso:tetra:12082781, latitud:-0.224685490131, longitud:-0.671369016171, velocidad:0, orientacion:0, fecha:1424164219 deleted!\n",
        "id:3299089471, recurso:tetra:12082781, latitud:-0.22468586266, longitud:-0.671368479729, velocidad:0, orientacion:0, fecha:1424164265 deleted!\n",
        "id:3299089575, recurso:tetra:12082781, latitud:-0.22468586266, longitud:-0.671368479729, velocidad:0, orientacion:0, fecha:1424164288 deleted!\n",
        "id:3299089711, recurso:tetra:12082781, latitud:-0.224685490131, longitud:-0.671368837357, velocidad:0, orientacion:0, fecha:1424164306 deleted!"
       ]
      },
      {
       "output_type": "stream",
       "stream": "stdout",
       "text": [
        "\n",
        "id:3299089964, recurso:tetra:12082781, latitud:-0.224686056376, longitud:-0.671368837357, velocidad:0, orientacion:0, fecha:1424164344 deleted!\n",
        "id:3299090073, recurso:tetra:12082781, latitud:-0.224685490131, longitud:-0.671369552612, velocidad:0, orientacion:0, fecha:1424164359 deleted!\n",
        "id:3299090180, recurso:tetra:12082781, latitud:-0.224685490131, longitud:-0.671369969845, velocidad:0, orientacion:0, fecha:1424164374 deleted!\n",
        "id:3299090367, recurso:tetra:12082781, latitud:-0.224687173963, longitud:-0.671369552612, velocidad:0, orientacion:0, fecha:1424164441 deleted!\n",
        "id:3299090404, recurso:tetra:12082781, latitud:-0.224686995149, longitud:-0.671369016171, velocidad:0, orientacion:270, fecha:1424164458 deleted!\n",
        "id:3299090510, recurso:tetra:12082781, latitud:-0.224686056376, longitud:-0.671369969845, velocidad:0, orientacion:0, fecha:1424164475 deleted!\n",
        "id:3299090861, recurso:tetra:12082781, latitud:-0.224686607718, longitud:-0.671369016171, velocidad:0, orientacion:0, fecha:1424164545 deleted!\n",
        "id:3299091016, recurso:tetra:12082781, latitud:-0.224686607718, longitud:-0.671369016171, velocidad:0, orientacion:0, fecha:1424164561 deleted!\n",
        "id:3299091049, recurso:tetra:12082781, latitud:-0.224686607718, longitud:-0.671369016171, velocidad:0, orientacion:0, fecha:1424164576 deleted!\n",
        "id:3299091427, recurso:tetra:12082781, latitud:-0.224686056376, longitud:-0.671369016171, velocidad:0, orientacion:0, fecha:1424164636 deleted!"
       ]
      },
      {
       "output_type": "stream",
       "stream": "stdout",
       "text": [
        "\n",
        "id:3299091516, recurso:tetra:12082781, latitud:-0.224686056376, longitud:-0.671369016171, velocidad:0, orientacion:0, fecha:1424164650 deleted!\n",
        "id:3299091534, recurso:tetra:12082781, latitud:-0.22468586266, longitud:-0.671369016171, velocidad:0, orientacion:0, fecha:1424164677 deleted!\n",
        "id:3299091848, recurso:tetra:12082781, latitud:-0.224684923887, longitud:-0.671367883682, velocidad:0, orientacion:0, fecha:1424164729 deleted!\n",
        "id:3299091957, recurso:tetra:12082781, latitud:-0.224684923887, longitud:-0.671367883682, velocidad:0, orientacion:0, fecha:1424164743 deleted!\n",
        "id:3299092060, recurso:tetra:12082781, latitud:-0.224684923887, longitud:-0.671368479729, velocidad:0, orientacion:0, fecha:1424164761 deleted!\n",
        "id:3299092371, recurso:tetra:12082781, latitud:-0.224685117602, longitud:-0.67136824131, velocidad:0, orientacion:0, fecha:1424164820 deleted!"
       ]
      },
      {
       "output_type": "stream",
       "stream": "stdout",
       "text": [
        "\n",
        "id:3299092456, recurso:tetra:12082781, latitud:-0.22468586266, longitud:-0.671367526054, velocidad:0, orientacion:0, fecha:1424164838 deleted!\n",
        "id:3299092544, recurso:tetra:12082781, latitud:-0.22468586266, longitud:-0.671367526054, velocidad:0, orientacion:0, fecha:1424164851 deleted!\n",
        "id:3299092867, recurso:tetra:12082781, latitud:-0.224685490131, longitud:-0.671366751194, velocidad:0, orientacion:0, fecha:1424164930 deleted!"
       ]
      },
      {
       "output_type": "stream",
       "stream": "stdout",
       "text": [
        "\n",
        "id:3299093008, recurso:tetra:12082781, latitud:-0.22468586266, longitud:-0.671365261078, velocidad:0, orientacion:0, fecha:1424164946 deleted!\n",
        "id:3299093043, recurso:tetra:12082781, latitud:-0.224686056376, longitud:-0.671364307404, velocidad:0, orientacion:0, fecha:1424164959 deleted!\n",
        "id:3299093423, recurso:tetra:12082781, latitud:-0.22468867898, longitud:-0.67136323452, velocidad:0, orientacion:0, fecha:1424165004 deleted!\n",
        "id:3299093515, recurso:tetra:12082781, latitud:-0.224689051509, longitud:-0.671362638474, velocidad:0, orientacion:225, fecha:1424165028 deleted!\n",
        "id:3299093663, recurso:tetra:12082781, latitud:-0.224689051509, longitud:-0.671361923218, velocidad:0, orientacion:0, fecha:1424165045 deleted!\n",
        "id:3299093926, recurso:tetra:12082781, latitud:-0.224687173963, longitud:-0.671361923218, velocidad:0, orientacion:0, fecha:1424165096 deleted!\n",
        "id:3299094118, recurso:tetra:12082781, latitud:-0.224686995149, longitud:-0.671362102032, velocidad:0, orientacion:0, fecha:1424165114 deleted!\n",
        "id:3299094146, recurso:tetra:12082781, latitud:-0.224686428905, longitud:-0.671362638474, velocidad:0, orientacion:0, fecha:1424165133 deleted!\n",
        "id:3299094333, recurso:tetra:12082781, latitud:-0.224683433771, longitud:-0.671365857124, velocidad:0, orientacion:0, fecha:1424165187 deleted!"
       ]
      },
      {
       "output_type": "stream",
       "stream": "stdout",
       "text": [
        "\n",
        "id:3299094442, recurso:tetra:12082781, latitud:-0.224684372544, longitud:-0.671364724636, velocidad:0, orientacion:0, fecha:1424165200 deleted!\n",
        "id:3299094530, recurso:tetra:12082781, latitud:-0.224685117602, longitud:-0.671366751194, velocidad:0, orientacion:0, fecha:1424165213 deleted!\n",
        "id:3299094781, recurso:tetra:12082781, latitud:-0.224682494998, longitud:-0.671367883682, velocidad:0, orientacion:0, fecha:1424165273 deleted!\n",
        "id:3299094892, recurso:tetra:12082781, latitud:-0.224683433771, longitud:-0.67136824131, velocidad:0, orientacion:0, fecha:1424165289 deleted!\n",
        "id:3299094961, recurso:tetra:12082781, latitud:-0.224684000015, longitud:-0.67136824131, velocidad:0, orientacion:0, fecha:1424165304 deleted!\n",
        "id:3299095300, recurso:tetra:12082781, latitud:-0.224684372544, longitud:-0.67136824131, velocidad:0, orientacion:0, fecha:1424165349 deleted!\n",
        "id:3299095407, recurso:tetra:12082781, latitud:-0.224684923887, longitud:-0.671368837357, velocidad:0, orientacion:0, fecha:1424165365 deleted!\n",
        "id:3299095421, recurso:tetra:12082781, latitud:-0.224684551358, longitud:-0.671368837357, velocidad:0, orientacion:0, fecha:1424165381 deleted!\n",
        "id:3299095709, recurso:tetra:12082781, latitud:-0.224685490131, longitud:-0.67136824131, velocidad:0, orientacion:0, fecha:1424165455 deleted!"
       ]
      },
      {
       "output_type": "stream",
       "stream": "stdout",
       "text": [
        "\n",
        "id:3299095779, recurso:tetra:12082781, latitud:-0.224684372544, longitud:-0.671367526054, velocidad:0, orientacion:0, fecha:1424165475 deleted!\n",
        "id:3299095885, recurso:tetra:12082781, latitud:-0.224684372544, longitud:-0.671367526054, velocidad:0, orientacion:0, fecha:1424165493 deleted!\n",
        "id:3299096224, recurso:tetra:12082781, latitud:-0.224684923887, longitud:-0.671366751194, velocidad:0, orientacion:0, fecha:1424165548 deleted!\n",
        "id:3299096269, recurso:tetra:12082781, latitud:-0.22468586266, longitud:-0.67136734724, velocidad:0, orientacion:135, fecha:1424165563 deleted!\n",
        "id:3299096389, recurso:tetra:12082781, latitud:-0.224685490131, longitud:-0.671366393566, velocidad:0, orientacion:0, fecha:1424165580 deleted!\n",
        "id:3299096656, recurso:tetra:12082781, latitud:-0.22468586266, longitud:-0.671367526054, velocidad:0, orientacion:0, fecha:1424165637 deleted!\n",
        "id:3299096756, recurso:tetra:12082781, latitud:-0.224685490131, longitud:-0.67136824131, velocidad:0, orientacion:0, fecha:1424165653 deleted!\n",
        "id:3299096838, recurso:tetra:12082781, latitud:-0.224685490131, longitud:-0.67136824131, velocidad:0, orientacion:0, fecha:1424165672 deleted!"
       ]
      },
      {
       "output_type": "stream",
       "stream": "stdout",
       "text": [
        "\n",
        "id:3299097181, recurso:tetra:12082781, latitud:-0.224686056376, longitud:-0.671368479729, velocidad:0, orientacion:0, fecha:1424165722 deleted!\n",
        "id:3299097244, recurso:tetra:12082781, latitud:-0.224686056376, longitud:-0.671368479729, velocidad:0, orientacion:0, fecha:1424165737 deleted!\n",
        "id:3299097348, recurso:tetra:12082781, latitud:-0.224686056376, longitud:-0.671368479729, velocidad:0, orientacion:0, fecha:1424165762 deleted!\n",
        "id:3299097638, recurso:tetra:12082781, latitud:-0.22468586266, longitud:-0.671368837357, velocidad:0, orientacion:0, fecha:1424165807 deleted!\n",
        "id:3299097723, recurso:tetra:12082781, latitud:-0.224685117602, longitud:-0.671367883682, velocidad:0, orientacion:0, fecha:1424165819 deleted!\n",
        "id:3299097872, recurso:tetra:12082781, latitud:-0.224685117602, longitud:-0.671367883682, velocidad:0, orientacion:0, fecha:1424165830 deleted!\n",
        "id:3299098000, recurso:tetra:12082781, latitud:-0.224686428905, longitud:-0.671368479729, velocidad:0, orientacion:0, fecha:1424165882 deleted!\n",
        "id:3299098073, recurso:tetra:12082781, latitud:-0.224686607718, longitud:-0.671367883682, velocidad:0, orientacion:0, fecha:1424165896 deleted!"
       ]
      },
      {
       "output_type": "stream",
       "stream": "stdout",
       "text": [
        "\n",
        "id:3299098115, recurso:tetra:12082781, latitud:-0.224686995149, longitud:-0.671368479729, velocidad:0, orientacion:0, fecha:1424165908 deleted!\n",
        "id:3299098503, recurso:tetra:12082781, latitud:-0.224688306451, longitud:-0.671369373798, velocidad:0, orientacion:0, fecha:1424165976 deleted!\n",
        "id:3299098589, recurso:tetra:12082781, latitud:-0.224686995149, longitud:-0.671369373798, velocidad:0, orientacion:0, fecha:1424166002 deleted!\n",
        "id:3299098665, recurso:tetra:12082781, latitud:-0.224686428905, longitud:-0.671369016171, velocidad:0, orientacion:0, fecha:1424166017 deleted!\n",
        "id:3299099053, recurso:tetra:12082781, latitud:-0.224686428905, longitud:-0.671369016171, velocidad:0, orientacion:0, fecha:1424166066 deleted!\n",
        "id:3299099114, recurso:tetra:12082781, latitud:-0.22468586266, longitud:-0.671369373798, velocidad:0, orientacion:0, fecha:1424166088 deleted!\n",
        "id:3299099128, recurso:tetra:12082781, latitud:-0.22468586266, longitud:-0.671370506287, velocidad:0, orientacion:270, fecha:1424166111 deleted!\n",
        "id:3299099404, recurso:tetra:12082781, latitud:-0.224685490131, longitud:-0.671369552612, velocidad:0, orientacion:0, fecha:1424166166 deleted!\n",
        "id:3299099490, recurso:tetra:12082781, latitud:-0.22468586266, longitud:-0.671369552612, velocidad:0, orientacion:0, fecha:1424166180 deleted!"
       ]
      },
      {
       "output_type": "stream",
       "stream": "stdout",
       "text": [
        "\n",
        "id:3299099617, recurso:tetra:12082781, latitud:-0.224686056376, longitud:-0.671369969845, velocidad:0, orientacion:0, fecha:1424166195 deleted!\n",
        "id:3299100201, recurso:tetra:12082781, latitud:-0.22468586266, longitud:-0.671368479729, velocidad:0, orientacion:0, fecha:1424166268 deleted!\n",
        "id:3299100308, recurso:tetra:12082781, latitud:-0.22468586266, longitud:-0.67136734724, velocidad:0, orientacion:157, fecha:1424166293 deleted!\n",
        "id:3299100458, recurso:tetra:12082781, latitud:-0.224686056376, longitud:-0.671366751194, velocidad:0, orientacion:0, fecha:1424166317 deleted!\n",
        "id:3299100847, recurso:tetra:12082781, latitud:-0.224686428905, longitud:-0.671366930008, velocidad:0, orientacion:0, fecha:1424166369 deleted!\n",
        "id:3299100910, recurso:tetra:12082781, latitud:-0.224686428905, longitud:-0.671367526054, velocidad:0, orientacion:0, fecha:1424166383 deleted!\n",
        "id:3299101057, recurso:tetra:12082781, latitud:-0.224686428905, longitud:-0.671367883682, velocidad:0, orientacion:0, fecha:1424166409 deleted!\n",
        "id:3299101635, recurso:tetra:12082781, latitud:-0.224686056376, longitud:-0.671367883682, velocidad:0, orientacion:0, fecha:1424166457 deleted!\n",
        "id:3299101664, recurso:tetra:12082781, latitud:-0.224686056376, longitud:-0.67136734724, velocidad:0, orientacion:0, fecha:1424166470 deleted!\n",
        "id:3299101754, recurso:tetra:12082781, latitud:-0.224686056376, longitud:-0.671366930008, velocidad:0, orientacion:0, fecha:1424166485 deleted!"
       ]
      },
      {
       "output_type": "stream",
       "stream": "stdout",
       "text": [
        "\n",
        "id:3299102033, recurso:tetra:12082781, latitud:-0.224686428905, longitud:-0.671365439892, velocidad:0, orientacion:0, fecha:1424166531 deleted!\n",
        "id:3299102087, recurso:tetra:12082781, latitud:-0.224686428905, longitud:-0.671366214752, velocidad:0, orientacion:0, fecha:1424166553 deleted!\n",
        "id:3299102091, recurso:tetra:12082781, latitud:-0.224686428905, longitud:-0.671367883682, velocidad:0, orientacion:157, fecha:1424166576 deleted!\n",
        "id:3299102380, recurso:tetra:12082781, latitud:-0.224687173963, longitud:-0.671368837357, velocidad:0, orientacion:0, fecha:1424166633 deleted!\n",
        "id:3299102450, recurso:tetra:12082781, latitud:-0.224686428905, longitud:-0.67136824131, velocidad:0, orientacion:0, fecha:1424166646 deleted!\n",
        "id:3299102581, recurso:tetra:12082781, latitud:-0.224684372544, longitud:-0.671367883682, velocidad:0, orientacion:0, fecha:1424166665 deleted!\n",
        "id:3299102876, recurso:tetra:12082781, latitud:-0.224686607718, longitud:-0.671368479729, velocidad:0, orientacion:0, fecha:1424166725 deleted!\n",
        "id:3299102967, recurso:tetra:12082781, latitud:-0.224686428905, longitud:-0.67136824131, velocidad:0, orientacion:0, fecha:1424166739 deleted!\n",
        "id:3299103121, recurso:tetra:12082781, latitud:-0.224686428905, longitud:-0.671367883682, velocidad:0, orientacion:0, fecha:1424166756 deleted!"
       ]
      },
      {
       "output_type": "stream",
       "stream": "stdout",
       "text": [
        "\n",
        "id:3299103282, recurso:tetra:12082781, latitud:-0.224684551358, longitud:-0.671366930008, velocidad:0, orientacion:0, fecha:1424166806 deleted!\n",
        "id:3299103335, recurso:tetra:12082781, latitud:-0.224684551358, longitud:-0.671366930008, velocidad:0, orientacion:0, fecha:1424166831 deleted!\n",
        "id:3299103444, recurso:tetra:12082781, latitud:-0.224684923887, longitud:-0.671366930008, velocidad:0, orientacion:0, fecha:1424166844 deleted!\n",
        "id:3299103659, recurso:tetra:12082781, latitud:-0.224685490131, longitud:-0.671367883682, velocidad:0, orientacion:0, fecha:1424166905 deleted!\n",
        "id:3299103804, recurso:tetra:12082781, latitud:-0.224685490131, longitud:-0.67136824131, velocidad:0, orientacion:0, fecha:1424166925 deleted!\n",
        "id:3299103864, recurso:tetra:12082781, latitud:-0.224685117602, longitud:-0.67136824131, velocidad:0, orientacion:0, fecha:1424166949 deleted!\n",
        "id:3299104166, recurso:tetra:12082781, latitud:-0.224685117602, longitud:-0.67136824131, velocidad:0, orientacion:0, fecha:1424166999 deleted!"
       ]
      },
      {
       "output_type": "stream",
       "stream": "stdout",
       "text": [
        "\n",
        "id:3299104245, recurso:tetra:12082781, latitud:-0.224685117602, longitud:-0.67136824131, velocidad:0, orientacion:0, fecha:1424167014 deleted!\n",
        "id:3299104346, recurso:tetra:12082781, latitud:-0.224684923887, longitud:-0.671368479729, velocidad:0, orientacion:0, fecha:1424167031 deleted!\n",
        "id:3299104636, recurso:tetra:12082781, latitud:-0.224684923887, longitud:-0.671368837357, velocidad:0, orientacion:0, fecha:1424167099 deleted!\n",
        "id:3299104749, recurso:tetra:12082781, latitud:-0.224685117602, longitud:-0.671368837357, velocidad:0, orientacion:180, fecha:1424167114 deleted!\n",
        "id:3299104874, recurso:tetra:12082781, latitud:-0.224686428905, longitud:-0.67136824131, velocidad:0, orientacion:135, fecha:1424167130 deleted!\n",
        "id:3299105186, recurso:tetra:12082781, latitud:-0.224686056376, longitud:-0.671366393566, velocidad:0, orientacion:0, fecha:1424167199 deleted!\n",
        "id:3299105229, recurso:tetra:12082781, latitud:-0.22468586266, longitud:-0.671366393566, velocidad:0, orientacion:0, fecha:1424167215 deleted!\n",
        "id:3299105318, recurso:tetra:12082781, latitud:-0.224685490131, longitud:-0.671366393566, velocidad:0, orientacion:0, fecha:1424167231 deleted!\n",
        "id:3299105613, recurso:tetra:12082781, latitud:-0.224684551358, longitud:-0.67136734724, velocidad:0, orientacion:0, fecha:1424167283 deleted!"
       ]
      },
      {
       "output_type": "stream",
       "stream": "stdout",
       "text": [
        "\n",
        "id:3299105622, recurso:tetra:12082781, latitud:-0.224684551358, longitud:-0.671367526054, velocidad:0, orientacion:0, fecha:1424167307 deleted!\n",
        "id:3299105630, recurso:tetra:12082781, latitud:-0.224684551358, longitud:-0.671367526054, velocidad:0, orientacion:0, fecha:1424167330 deleted!\n",
        "id:3299105946, recurso:tetra:12082781, latitud:-0.224684551358, longitud:-0.671367526054, velocidad:0, orientacion:0, fecha:1424167380 deleted!\n",
        "id:3299106022, recurso:tetra:12082781, latitud:-0.224685117602, longitud:-0.671367526054, velocidad:0, orientacion:0, fecha:1424167398 deleted!\n",
        "id:3299106121, recurso:tetra:12082781, latitud:-0.224684923887, longitud:-0.671367526054, velocidad:0, orientacion:0, fecha:1424167411 deleted!\n",
        "id:3299106383, recurso:tetra:12082781, latitud:-0.224685490131, longitud:-0.67136824131, velocidad:0, orientacion:0, fecha:1424167467 deleted!\n",
        "id:3299106566, recurso:tetra:12082781, latitud:-0.224685490131, longitud:-0.67136824131, velocidad:0, orientacion:0, fecha:1424167483 deleted!\n",
        "id:3299106702, recurso:tetra:12082781, latitud:-0.224685490131, longitud:-0.67136824131, velocidad:0, orientacion:225, fecha:1424167495 deleted!"
       ]
      },
      {
       "output_type": "stream",
       "stream": "stdout",
       "text": [
        "\n",
        "id:3299106789, recurso:tetra:12082781, latitud:-0.224685117602, longitud:-0.671368479729, velocidad:0, orientacion:0, fecha:1424167555 deleted!\n",
        "id:3299106859, recurso:tetra:12082781, latitud:-0.224686056376, longitud:-0.671369016171, velocidad:0, orientacion:0, fecha:1424167571 deleted!\n",
        "id:3299106967, recurso:tetra:12082781, latitud:-0.224686056376, longitud:-0.671369552612, velocidad:0, orientacion:0, fecha:1424167588 deleted!\n",
        "id:3299107186, recurso:tetra:12082781, latitud:-0.22468586266, longitud:-0.671370148659, velocidad:0, orientacion:0, fecha:1424167644 deleted!\n",
        "id:3299107342, recurso:tetra:12082781, latitud:-0.224686056376, longitud:-0.671370148659, velocidad:0, orientacion:0, fecha:1424167659 deleted!\n",
        "id:3299107365, recurso:tetra:12082781, latitud:-0.224686428905, longitud:-0.671369969845, velocidad:0, orientacion:0, fecha:1424167685 deleted!\n",
        "id:3299107653, recurso:tetra:12082781, latitud:-0.224686428905, longitud:-0.671369552612, velocidad:0, orientacion:0, fecha:1424167732 deleted!"
       ]
      },
      {
       "output_type": "stream",
       "stream": "stdout",
       "text": [
        "\n",
        "id:3299107723, recurso:tetra:12082781, latitud:-0.224686428905, longitud:-0.671369552612, velocidad:0, orientacion:0, fecha:1424167746 deleted!\n",
        "id:3299107921, recurso:tetra:12082781, latitud:-0.224686428905, longitud:-0.671369552612, velocidad:0, orientacion:0, fecha:1424167762 deleted!\n",
        "id:3299108201, recurso:tetra:12082781, latitud:-0.224685490131, longitud:-0.671369373798, velocidad:0, orientacion:0, fecha:1424167826 deleted!\n",
        "id:3299108312, recurso:tetra:12082781, latitud:-0.224687919021, longitud:-0.671367526054, velocidad:0, orientacion:0, fecha:1424167850 deleted!\n",
        "id:3299108416, recurso:tetra:12082781, latitud:-0.224688112736, longitud:-0.671367526054, velocidad:0, orientacion:0, fecha:1424167869 deleted!\n",
        "id:3299108682, recurso:tetra:12082781, latitud:-0.224688306451, longitud:-0.671367526054, velocidad:0, orientacion:0, fecha:1424167927 deleted!\n",
        "id:3299108753, recurso:tetra:12082781, latitud:-0.22468867898, longitud:-0.671367526054, velocidad:0, orientacion:0, fecha:1424167945 deleted!\n",
        "id:3299108812, recurso:tetra:12082781, latitud:-0.22468867898, longitud:-0.671367526054, velocidad:0, orientacion:0, fecha:1424167957 deleted!\n",
        "id:3299109069, recurso:tetra:12082781, latitud:-0.224686607718, longitud:-0.671368479729, velocidad:0, orientacion:0, fecha:1424168006 deleted!\n",
        "id:3299109072, recurso:tetra:12082781, latitud:-0.224686995149, longitud:-0.671368479729, velocidad:0, orientacion:0, fecha:1424168027 deleted!"
       ]
      },
      {
       "output_type": "stream",
       "stream": "stdout",
       "text": [
        "\n",
        "id:3299109207, recurso:tetra:12082781, latitud:-0.224686607718, longitud:-0.671368479729, velocidad:0, orientacion:0, fecha:1424168044 deleted!\n",
        "id:3299109423, recurso:tetra:12082781, latitud:-0.224686607718, longitud:-0.671368479729, velocidad:0, orientacion:0, fecha:1424168090 deleted!\n",
        "id:3299109614, recurso:tetra:12082781, latitud:-0.224686428905, longitud:-0.671368479729, velocidad:0, orientacion:135, fecha:1424168109 deleted!\n",
        "id:3299109731, recurso:tetra:12082781, latitud:-0.22468586266, longitud:-0.671368479729, velocidad:0, orientacion:0, fecha:1424168138 deleted!\n",
        "id:3299109999, recurso:tetra:12082781, latitud:-0.224685117602, longitud:-0.671369016171, velocidad:0, orientacion:0, fecha:1424168201 deleted!\n",
        "id:3299110130, recurso:tetra:12082781, latitud:-0.224685117602, longitud:-0.671369552612, velocidad:0, orientacion:0, fecha:1424168220 deleted!\n",
        "id:3299110210, recurso:tetra:12082781, latitud:-0.224684372544, longitud:-0.671369969845, velocidad:0, orientacion:0, fecha:1424168242 deleted!\n",
        "id:3299110389, recurso:tetra:12082781, latitud:-0.22468586266, longitud:-0.671368837357, velocidad:0, orientacion:157, fecha:1424168307 deleted!"
       ]
      },
      {
       "output_type": "stream",
       "stream": "stdout",
       "text": [
        "\n",
        "id:3299110456, recurso:tetra:12082781, latitud:-0.224686607718, longitud:-0.671368837357, velocidad:0, orientacion:0, fecha:1424168320 deleted!\n",
        "id:3299110549, recurso:tetra:12082781, latitud:-0.224686607718, longitud:-0.671368479729, velocidad:0, orientacion:0, fecha:1424168336 deleted!\n",
        "id:3299110794, recurso:tetra:12082781, latitud:-0.224689051509, longitud:-0.671367526054, velocidad:1, orientacion:157, fecha:1424168385 deleted!\n",
        "id:3299110921, recurso:tetra:12082781, latitud:-0.224686428905, longitud:-0.67136824131, velocidad:0, orientacion:0, fecha:1424168400 deleted!\n",
        "id:3299110965, recurso:tetra:12082781, latitud:-0.22468586266, longitud:-0.671368479729, velocidad:0, orientacion:0, fecha:1424168416 deleted!\n",
        "id:3299111298, recurso:tetra:12082781, latitud:-0.224686428905, longitud:-0.671367883682, velocidad:0, orientacion:0, fecha:1424168480 deleted!\n",
        "id:3299111385, recurso:tetra:12082781, latitud:-0.224686428905, longitud:-0.671367883682, velocidad:0, orientacion:0, fecha:1424168500 deleted!\n",
        "id:3299111506, recurso:tetra:12082781, latitud:-0.224686056376, longitud:-0.67136824131, velocidad:0, orientacion:0, fecha:1424168518 deleted!\n",
        "id:3299111787, recurso:tetra:12082781, latitud:-0.22468586266, longitud:-0.671369969845, velocidad:0, orientacion:0, fecha:1424168564 deleted!\n",
        "id:3299111891, recurso:tetra:12082781, latitud:-0.224686056376, longitud:-0.671370506287, velocidad:0, orientacion:0, fecha:1424168580 deleted!"
       ]
      },
      {
       "output_type": "stream",
       "stream": "stdout",
       "text": [
        "\n",
        "id:3299111967, recurso:tetra:12082781, latitud:-0.224686056376, longitud:-0.671370506287, velocidad:0, orientacion:0, fecha:1424168604 deleted!\n",
        "id:3299112223, recurso:tetra:12082781, latitud:-0.22468586266, longitud:-0.671370148659, velocidad:0, orientacion:0, fecha:1424168650 deleted!\n",
        "id:3299112308, recurso:tetra:12082781, latitud:-0.22468586266, longitud:-0.671370148659, velocidad:0, orientacion:0, fecha:1424168667 deleted!\n",
        "id:3299112439, recurso:tetra:12082781, latitud:-0.224685490131, longitud:-0.671370148659, velocidad:0, orientacion:0, fecha:1424168682 deleted!\n",
        "id:3299112551, recurso:tetra:12082781, latitud:-0.224685490131, longitud:-0.671369552612, velocidad:0, orientacion:0, fecha:1424168737 deleted!\n",
        "id:3299112670, recurso:tetra:12082781, latitud:-0.224685117602, longitud:-0.671369552612, velocidad:0, orientacion:0, fecha:1424168752 deleted!\n",
        "id:3299112732, recurso:tetra:12082781, latitud:-0.224685117602, longitud:-0.671369552612, velocidad:0, orientacion:0, fecha:1424168772 deleted!\n",
        "id:3299113149, recurso:tetra:12082781, latitud:-0.224685490131, longitud:-0.671369373798, velocidad:0, orientacion:0, fecha:1424168832 deleted!\n",
        "id:3299113212, recurso:tetra:12082781, latitud:-0.224685117602, longitud:-0.671369016171, velocidad:1, orientacion:0, fecha:1424168848 deleted!"
       ]
      },
      {
       "output_type": "stream",
       "stream": "stdout",
       "text": [
        "\n",
        "id:3299113319, recurso:tetra:12082781, latitud:-0.224685490131, longitud:-0.671369016171, velocidad:0, orientacion:0, fecha:1424168864 deleted!\n",
        "id:3299113630, recurso:tetra:12082781, latitud:-0.22468586266, longitud:-0.671369373798, velocidad:0, orientacion:0, fecha:1424168912 deleted!\n",
        "id:3299113635, recurso:tetra:12082781, latitud:-0.22468586266, longitud:-0.671369373798, velocidad:0, orientacion:0, fecha:1424168931 deleted!\n",
        "id:3299113671, recurso:tetra:12082781, latitud:-0.22468586266, longitud:-0.671369373798, velocidad:0, orientacion:0, fecha:1424168955 deleted!\n",
        "id:3299113911, recurso:tetra:12082781, latitud:-0.22468586266, longitud:-0.671369373798, velocidad:0, orientacion:0, fecha:1424168995 deleted!\n",
        "id:3299113960, recurso:tetra:12082781, latitud:-0.22468586266, longitud:-0.671369373798, velocidad:0, orientacion:0, fecha:1424169011 deleted!\n",
        "id:3299114011, recurso:tetra:12082781, latitud:-0.224686056376, longitud:-0.671369016171, velocidad:0, orientacion:0, fecha:1424169024 deleted!\n",
        "id:3299114309, recurso:tetra:12082781, latitud:-0.224686428905, longitud:-0.671369016171, velocidad:0, orientacion:0, fecha:1424169091 deleted!\n",
        "id:3299114396, recurso:tetra:12082781, latitud:-0.224686607718, longitud:-0.671368837357, velocidad:0, orientacion:0, fecha:1424169106 deleted!"
       ]
      },
      {
       "output_type": "stream",
       "stream": "stdout",
       "text": [
        "\n",
        "id:3299114479, recurso:tetra:12082781, latitud:-0.224686607718, longitud:-0.671368479729, velocidad:0, orientacion:0, fecha:1424169123 deleted!\n",
        "id:3299114838, recurso:tetra:12082781, latitud:-0.224686428905, longitud:-0.671368479729, velocidad:0, orientacion:0, fecha:1424169178 deleted!\n",
        "id:3299114937, recurso:tetra:12082781, latitud:-0.224686428905, longitud:-0.671368479729, velocidad:0, orientacion:0, fecha:1424169193 deleted!\n",
        "id:3299115052, recurso:tetra:12082781, latitud:-0.224686428905, longitud:-0.671368479729, velocidad:0, orientacion:0, fecha:1424169210 deleted!\n",
        "id:3299115330, recurso:tetra:12082781, latitud:-0.224686428905, longitud:-0.671369373798, velocidad:0, orientacion:0, fecha:1424169262 deleted!\n",
        "id:3299115380, recurso:tetra:12082781, latitud:-0.224686607718, longitud:-0.671369552612, velocidad:0, orientacion:0, fecha:1424169279 deleted!\n",
        "id:3299115515, recurso:tetra:12082781, latitud:-0.224686995149, longitud:-0.671369552612, velocidad:0, orientacion:0, fecha:1424169297 deleted!\n",
        "id:3299115696, recurso:tetra:12082781, latitud:-0.224686995149, longitud:-0.671369552612, velocidad:0, orientacion:0, fecha:1424169348 deleted!\n",
        "id:3299115833, recurso:tetra:12082781, latitud:-0.224686995149, longitud:-0.671369552612, velocidad:0, orientacion:0, fecha:1424169364 deleted!\n",
        "id:3299115906, recurso:tetra:12082781, latitud:-0.224686995149, longitud:-0.671369552612, velocidad:0, orientacion:0, fecha:1424169388 deleted!"
       ]
      },
      {
       "output_type": "stream",
       "stream": "stdout",
       "text": [
        "\n",
        "id:3299116082, recurso:tetra:12082781, latitud:-0.224686607718, longitud:-0.671369969845, velocidad:0, orientacion:0, fecha:1424169462 deleted!\n",
        "id:3299116109, recurso:tetra:12082781, latitud:-0.224686607718, longitud:-0.671369969845, velocidad:0, orientacion:0, fecha:1424169476 deleted!\n",
        "id:3299116296, recurso:tetra:12082781, latitud:-0.224686995149, longitud:-0.671370148659, velocidad:0, orientacion:0, fecha:1424169492 deleted!\n",
        "id:3299116610, recurso:tetra:12082781, latitud:-0.224687173963, longitud:-0.671370506287, velocidad:0, orientacion:0, fecha:1424169541 deleted!\n",
        "id:3299116681, recurso:tetra:12082781, latitud:-0.224677622318, longitud:-0.671371459961, velocidad:0, orientacion:0, fecha:1424169557 deleted!\n",
        "id:3299116781, recurso:tetra:12082781, latitud:-0.224679306149, longitud:-0.671371042728, velocidad:0, orientacion:0, fecha:1424169572 deleted!\n",
        "id:3299117025, recurso:tetra:12082781, latitud:-0.224682867527, longitud:-0.671370863914, velocidad:0, orientacion:0, fecha:1424169615 deleted!\n",
        "id:3299117057, recurso:tetra:12082781, latitud:-0.224686056376, longitud:-0.671370863914, velocidad:7, orientacion:180, fecha:1424169638 deleted!\n",
        "id:3299117191, recurso:tetra:12082781, latitud:-0.22468586266, longitud:-0.671370506287, velocidad:0, orientacion:0, fecha:1424169658 deleted!\n",
        "id:3299117374, recurso:tetra:12082781, latitud:-0.224683433771, longitud:-0.671369016171, velocidad:0, orientacion:0, fecha:1424169707 deleted!"
       ]
      },
      {
       "output_type": "stream",
       "stream": "stdout",
       "text": [
        "\n",
        "id:3299117510, recurso:tetra:12082781, latitud:-0.224684551358, longitud:-0.671369552612, velocidad:0, orientacion:0, fecha:1424169722 deleted!\n",
        "id:3299117574, recurso:tetra:12082781, latitud:-0.224684551358, longitud:-0.671369552612, velocidad:0, orientacion:0, fecha:1424169744 deleted!\n",
        "id:3299117811, recurso:tetra:12082781, latitud:-0.224684551358, longitud:-0.671369969845, velocidad:0, orientacion:0, fecha:1424169806 deleted!\n",
        "id:3299117948, recurso:tetra:12082781, latitud:-0.224684551358, longitud:-0.671369552612, velocidad:0, orientacion:0, fecha:1424169820 deleted!\n",
        "id:3299118049, recurso:tetra:12082781, latitud:-0.224684551358, longitud:-0.671369552612, velocidad:0, orientacion:45, fecha:1424169838 deleted!\n",
        "id:3299118367, recurso:tetra:12082781, latitud:-0.224684551358, longitud:-0.671368837357, velocidad:1, orientacion:202, fecha:1424169889 deleted!\n",
        "id:3299118450, recurso:tetra:12082781, latitud:-0.224684923887, longitud:-0.671368837357, velocidad:5, orientacion:180, fecha:1424169903 deleted!\n",
        "id:3299118562, recurso:tetra:12082781, latitud:-0.224684372544, longitud:-0.671369016171, velocidad:0, orientacion:0, fecha:1424169918 deleted!\n",
        "id:3299118854, recurso:tetra:12082781, latitud:-0.224682494998, longitud:-0.671369016171, velocidad:0, orientacion:0, fecha:1424169979 deleted!\n",
        "id:3299118935, recurso:tetra:12082781, latitud:-0.224682494998, longitud:-0.671369016171, velocidad:0, orientacion:0, fecha:1424169998 deleted!"
       ]
      },
      {
       "output_type": "stream",
       "stream": "stdout",
       "text": [
        "\n",
        "id:3299119001, recurso:tetra:12082781, latitud:-0.224682494998, longitud:-0.671369016171, velocidad:0, orientacion:0, fecha:1424170012 deleted!\n",
        "id:3299119219, recurso:tetra:12082781, latitud:-0.224682867527, longitud:-0.671369016171, velocidad:0, orientacion:0, fecha:1424170059 deleted!\n",
        "id:3299119251, recurso:tetra:12082781, latitud:-0.224682867527, longitud:-0.671369016171, velocidad:0, orientacion:0, fecha:1424170083 deleted!\n",
        "id:3299119378, recurso:tetra:12082781, latitud:-0.224683240056, longitud:-0.671369016171, velocidad:0, orientacion:0, fecha:1424170099 deleted!\n",
        "id:3299119712, recurso:tetra:12082781, latitud:-0.224684000015, longitud:-0.671369373798, velocidad:0, orientacion:0, fecha:1424170149 deleted!\n",
        "id:3299119763, recurso:tetra:12082781, latitud:-0.224684000015, longitud:-0.671369373798, velocidad:0, orientacion:0, fecha:1424170171 deleted!\n",
        "id:3299119898, recurso:tetra:12082781, latitud:-0.224684000015, longitud:-0.671369373798, velocidad:0, orientacion:0, fecha:1424170188 deleted!\n",
        "id:3299120201, recurso:tetra:12082781, latitud:-0.224684000015, longitud:-0.671369373798, velocidad:0, orientacion:0, fecha:1424170232 deleted!\n",
        "id:3299120318, recurso:tetra:12082781, latitud:-0.224684000015, longitud:-0.671369373798, velocidad:0, orientacion:0, fecha:1424170247 deleted!\n",
        "id:3299120324, recurso:tetra:12082781, latitud:-0.224684372544, longitud:-0.671369016171, velocidad:0, orientacion:0, fecha:1424170268 deleted!"
       ]
      },
      {
       "output_type": "stream",
       "stream": "stdout",
       "text": [
        "\n",
        "id:3299120505, recurso:tetra:12082781, latitud:-0.224684551358, longitud:-0.671368837357, velocidad:0, orientacion:0, fecha:1424170324 deleted!\n",
        "id:3299120617, recurso:tetra:12082781, latitud:-0.224684372544, longitud:-0.671368837357, velocidad:0, orientacion:0, fecha:1424170344 deleted!\n",
        "id:3299120672, recurso:tetra:12082781, latitud:-0.224684372544, longitud:-0.671368837357, velocidad:0, orientacion:0, fecha:1424170360 deleted!"
       ]
      },
      {
       "output_type": "stream",
       "stream": "stdout",
       "text": [
        "\n",
        "id:3299120919, recurso:tetra:12082781, latitud:-0.224682867527, longitud:-0.671369016171, velocidad:0, orientacion:0, fecha:1424170416 deleted!\n",
        "id:3299121088, recurso:tetra:12082781, latitud:-0.224682301283, longitud:-0.671369016171, velocidad:0, orientacion:0, fecha:1424170430 deleted!\n",
        "id:3299121152, recurso:tetra:12082781, latitud:-0.224682867527, longitud:-0.671369016171, velocidad:0, orientacion:0, fecha:1424170447 deleted!\n",
        "id:3299121388, recurso:tetra:12082781, latitud:-0.22468586266, longitud:-0.671368837357, velocidad:0, orientacion:0, fecha:1424170499 deleted!\n",
        "id:3299121396, recurso:tetra:12082781, latitud:-0.224685490131, longitud:-0.671368837357, velocidad:0, orientacion:0, fecha:1424170522 deleted!\n",
        "id:3299121562, recurso:tetra:12082781, latitud:-0.224685490131, longitud:-0.671369016171, velocidad:0, orientacion:0, fecha:1424170541 deleted!\n",
        "id:3299121768, recurso:tetra:12082781, latitud:-0.224685490131, longitud:-0.671368837357, velocidad:0, orientacion:0, fecha:1424170589 deleted!\n",
        "id:3299121859, recurso:tetra:12082781, latitud:-0.224685117602, longitud:-0.671368837357, velocidad:0, orientacion:0, fecha:1424170606 deleted!\n",
        "id:3299121956, recurso:tetra:12082781, latitud:-0.224685117602, longitud:-0.671368479729, velocidad:0, orientacion:0, fecha:1424170633 deleted!"
       ]
      },
      {
       "output_type": "stream",
       "stream": "stdout",
       "text": [
        "\n",
        "id:3299122166, recurso:tetra:12082781, latitud:-0.224685117602, longitud:-0.671368479729, velocidad:0, orientacion:0, fecha:1424170686 deleted!\n",
        "id:3299122275, recurso:tetra:12082781, latitud:-0.224684551358, longitud:-0.671368837357, velocidad:0, orientacion:0, fecha:1424170704 deleted!\n",
        "id:3299122415, recurso:tetra:12082781, latitud:-0.224685117602, longitud:-0.67136824131, velocidad:0, orientacion:0, fecha:1424170722 deleted!\n",
        "id:3299122491, recurso:tetra:12082781, latitud:-0.22468586266, longitud:-0.671367883682, velocidad:0, orientacion:0, fecha:1424170771 deleted!\n",
        "id:3299122644, recurso:tetra:12082781, latitud:-0.22468586266, longitud:-0.671367526054, velocidad:0, orientacion:0, fecha:1424170789 deleted!\n",
        "id:3299122727, recurso:tetra:12082781, latitud:-0.224685490131, longitud:-0.671367526054, velocidad:0, orientacion:180, fecha:1424170802 deleted!\n",
        "id:3299123022, recurso:tetra:12082781, latitud:-0.224685117602, longitud:-0.671367883682, velocidad:0, orientacion:0, fecha:1424170859 deleted!\n",
        "id:3299123160, recurso:tetra:12082781, latitud:-0.224684923887, longitud:-0.671367883682, velocidad:0, orientacion:157, fecha:1424170892 deleted!\n",
        "id:3299123205, recurso:tetra:12082781, latitud:-0.224686607718, longitud:-0.671368479729, velocidad:0, orientacion:0, fecha:1424170911 deleted!\n",
        "id:3299123507, recurso:tetra:12082781, latitud:-0.224686428905, longitud:-0.671367526054, velocidad:0, orientacion:0, fecha:1424170955 deleted!"
       ]
      },
      {
       "output_type": "stream",
       "stream": "stdout",
       "text": [
        "\n",
        "id:3299123567, recurso:tetra:12082781, latitud:-0.224686428905, longitud:-0.671367526054, velocidad:0, orientacion:0, fecha:1424170978 deleted!\n",
        "id:3299123572, recurso:tetra:12082781, latitud:-0.224686056376, longitud:-0.671367883682, velocidad:0, orientacion:0, fecha:1424171003 deleted!\n",
        "id:3299123850, recurso:tetra:12082781, latitud:-0.22468586266, longitud:-0.671368479729, velocidad:0, orientacion:0, fecha:1424171055 deleted!\n",
        "id:3299123901, recurso:tetra:12082781, latitud:-0.224686056376, longitud:-0.671368479729, velocidad:1, orientacion:180, fecha:1424171069 deleted!\n",
        "id:3299124001, recurso:tetra:12082781, latitud:-0.224688112736, longitud:-0.67136824131, velocidad:0, orientacion:0, fecha:1424171082 deleted!\n",
        "id:3299124283, recurso:tetra:12082781, latitud:-0.224687173963, longitud:-0.67136824131, velocidad:0, orientacion:0, fecha:1424171133 deleted!\n",
        "id:3299124378, recurso:tetra:12082781, latitud:-0.22468586266, longitud:-0.671368479729, velocidad:0, orientacion:0, fecha:1424171156 deleted!\n",
        "id:3299124451, recurso:tetra:12082781, latitud:-0.22468586266, longitud:-0.67136824131, velocidad:0, orientacion:0, fecha:1424171175 deleted!\n",
        "id:3299124726, recurso:tetra:12082781, latitud:-0.224685117602, longitud:-0.671368479729, velocidad:0, orientacion:0, fecha:1424171237 deleted!\n",
        "id:3299124824, recurso:tetra:12082781, latitud:-0.224685490131, longitud:-0.671368479729, velocidad:0, orientacion:0, fecha:1424171255 deleted!"
       ]
      },
      {
       "output_type": "stream",
       "stream": "stdout",
       "text": [
        "\n",
        "id:3299124852, recurso:tetra:12082781, latitud:-0.224685490131, longitud:-0.671368479729, velocidad:0, orientacion:0, fecha:1424171269 deleted!\n",
        "id:3299125204, recurso:tetra:12082781, latitud:-0.224684923887, longitud:-0.671368479729, velocidad:0, orientacion:0, fecha:1424171324 deleted!\n",
        "id:3299125359, recurso:tetra:12082781, latitud:-0.224684923887, longitud:-0.671368479729, velocidad:0, orientacion:0, fecha:1424171341 deleted!\n",
        "id:3299125369, recurso:tetra:12082781, latitud:-0.224684551358, longitud:-0.671368479729, velocidad:0, orientacion:0, fecha:1424171356 deleted!\n",
        "id:3299125628, recurso:tetra:12082781, latitud:-0.224684372544, longitud:-0.671369016171, velocidad:0, orientacion:0, fecha:1424171406 deleted!\n",
        "id:3299125728, recurso:tetra:12082781, latitud:-0.224684372544, longitud:-0.671369373798, velocidad:0, orientacion:0, fecha:1424171418 deleted!\n",
        "id:3299125732, recurso:tetra:12082781, latitud:-0.224684551358, longitud:-0.671369373798, velocidad:0, orientacion:0, fecha:1424171446 deleted!\n",
        "id:3299126011, recurso:tetra:12082781, latitud:-0.224684923887, longitud:-0.671368837357, velocidad:0, orientacion:0, fecha:1424171496 deleted!\n",
        "id:3299126067, recurso:tetra:12082781, latitud:-0.224685117602, longitud:-0.671368837357, velocidad:0, orientacion:0, fecha:1424171509 deleted!\n",
        "id:3299126178, recurso:tetra:12082781, latitud:-0.224685117602, longitud:-0.671368837357, velocidad:0, orientacion:0, fecha:1424171527 deleted!"
       ]
      },
      {
       "output_type": "stream",
       "stream": "stdout",
       "text": [
        "\n",
        "id:3299126456, recurso:tetra:12082781, latitud:-0.224685117602, longitud:-0.671368479729, velocidad:0, orientacion:0, fecha:1424171578 deleted!\n",
        "id:3299126497, recurso:tetra:12082781, latitud:-0.224684923887, longitud:-0.67136824131, velocidad:0, orientacion:157, fecha:1424171591 deleted!\n",
        "id:3299126630, recurso:tetra:12082781, latitud:-0.224684372544, longitud:-0.671368479729, velocidad:0, orientacion:0, fecha:1424171609 deleted!\n",
        "id:3299126818, recurso:tetra:12082781, latitud:-0.224684000015, longitud:-0.671368837357, velocidad:0, orientacion:0, fecha:1424171666 deleted!\n",
        "id:3299126874, recurso:tetra:12082781, latitud:-0.224684923887, longitud:-0.671366751194, velocidad:0, orientacion:0, fecha:1424171683 deleted!\n",
        "id:3299126981, recurso:tetra:12082781, latitud:-0.224685490131, longitud:-0.671365261078, velocidad:0, orientacion:0, fecha:1424171698 deleted!\n",
        "id:3299127168, recurso:tetra:12082781, latitud:-0.224686428905, longitud:-0.671366751194, velocidad:0, orientacion:0, fecha:1424171745 deleted!\n",
        "id:3299127307, recurso:tetra:12082781, latitud:-0.224686428905, longitud:-0.671366751194, velocidad:0, orientacion:0, fecha:1424171762 deleted!\n",
        "id:3299127371, recurso:tetra:12082781, latitud:-0.224686428905, longitud:-0.671366751194, velocidad:0, orientacion:0, fecha:1424171787 deleted!\n",
        "id:3299127666, recurso:tetra:12082781, latitud:-0.224686056376, longitud:-0.67136734724, velocidad:0, orientacion:0, fecha:1424171840 deleted!"
       ]
      },
      {
       "output_type": "stream",
       "stream": "stdout",
       "text": [
        "\n",
        "id:3299127757, recurso:tetra:12082781, latitud:-0.224686056376, longitud:-0.67136734724, velocidad:0, orientacion:0, fecha:1424171858 deleted!\n",
        "id:3299127859, recurso:tetra:12082781, latitud:-0.22468586266, longitud:-0.671366930008, velocidad:0, orientacion:0, fecha:1424171873 deleted!\n",
        "id:3299128082, recurso:tetra:12082781, latitud:-0.224686995149, longitud:-0.67136734724, velocidad:0, orientacion:0, fecha:1424171931 deleted!\n",
        "id:3299128163, recurso:tetra:12082781, latitud:-0.224686995149, longitud:-0.67136734724, velocidad:0, orientacion:0, fecha:1424171945 deleted!\n",
        "id:3299128267, recurso:tetra:12082781, latitud:-0.224686607718, longitud:-0.67136734724, velocidad:0, orientacion:0, fecha:1424171958 deleted!\n",
        "id:3299128584, recurso:tetra:12082781, latitud:-0.224686607718, longitud:-0.67136734724, velocidad:0, orientacion:0, fecha:1424172012 deleted!\n",
        "id:3299128618, recurso:tetra:12082781, latitud:-0.224686428905, longitud:-0.67136734724, velocidad:0, orientacion:0, fecha:1424172027 deleted!"
       ]
      },
      {
       "output_type": "stream",
       "stream": "stdout",
       "text": [
        "\n",
        "id:3299128703, recurso:tetra:12082781, latitud:-0.224686428905, longitud:-0.671367526054, velocidad:0, orientacion:0, fecha:1424172040 deleted!\n",
        "id:3299128972, recurso:tetra:12082781, latitud:-0.224686056376, longitud:-0.671367883682, velocidad:0, orientacion:0, fecha:1424172103 deleted!\n",
        "id:3299129091, recurso:tetra:12082781, latitud:-0.22468586266, longitud:-0.671367883682, velocidad:0, orientacion:0, fecha:1424172122 deleted!\n",
        "id:3299129201, recurso:tetra:12082781, latitud:-0.22468586266, longitud:-0.671367526054, velocidad:0, orientacion:0, fecha:1424172137 deleted!\n",
        "id:3299129445, recurso:tetra:12082781, latitud:-0.22468586266, longitud:-0.671367526054, velocidad:0, orientacion:0, fecha:1424172195 deleted!\n",
        "id:3299129498, recurso:tetra:12082781, latitud:-0.22468586266, longitud:-0.671367883682, velocidad:0, orientacion:0, fecha:1424172219 deleted!"
       ]
      },
      {
       "output_type": "stream",
       "stream": "stdout",
       "text": [
        "\n",
        "id:3299129632, recurso:tetra:12082781, latitud:-0.22468586266, longitud:-0.671367883682, velocidad:0, orientacion:0, fecha:1424172234 deleted!\n",
        "id:3299129954, recurso:tetra:12082781, latitud:-0.224684923887, longitud:-0.67136734724, velocidad:0, orientacion:0, fecha:1424172282 deleted!\n",
        "id:3299130030, recurso:tetra:12082781, latitud:-0.224684923887, longitud:-0.67136824131, velocidad:0, orientacion:0, fecha:1424172297 deleted!\n",
        "id:3299130045, recurso:tetra:12082781, latitud:-0.224685117602, longitud:-0.671368479729, velocidad:0, orientacion:0, fecha:1424172320 deleted!\n",
        "id:3299130246, recurso:tetra:12082781, latitud:-0.224685117602, longitud:-0.671368479729, velocidad:0, orientacion:0, fecha:1424172375 deleted!\n",
        "id:3299130298, recurso:tetra:12082781, latitud:-0.224685490131, longitud:-0.671368479729, velocidad:0, orientacion:0, fecha:1424172393 deleted!\n",
        "id:3299130399, recurso:tetra:12082781, latitud:-0.224685490131, longitud:-0.671368479729, velocidad:0, orientacion:0, fecha:1424172409 deleted!"
       ]
      },
      {
       "output_type": "stream",
       "stream": "stdout",
       "text": [
        "\n",
        "id:3299130749, recurso:tetra:12082781, latitud:-0.224686056376, longitud:-0.671368479729, velocidad:0, orientacion:0, fecha:1424172468 deleted!\n",
        "id:3299130853, recurso:tetra:12082781, latitud:-0.224686056376, longitud:-0.671368479729, velocidad:0, orientacion:0, fecha:1424172483 deleted!\n",
        "id:3299130950, recurso:tetra:12082781, latitud:-0.224686056376, longitud:-0.671368479729, velocidad:0, orientacion:0, fecha:1424172498 deleted!\n",
        "id:3299131268, recurso:tetra:12082781, latitud:-0.224686056376, longitud:-0.671368479729, velocidad:0, orientacion:0, fecha:1424172559 deleted!\n",
        "id:3299131384, recurso:tetra:12082781, latitud:-0.224686056376, longitud:-0.671368837357, velocidad:0, orientacion:0, fecha:1424172575 deleted!\n",
        "id:3299131479, recurso:tetra:12082781, latitud:-0.224686056376, longitud:-0.671368837357, velocidad:0, orientacion:0, fecha:1424172593 deleted!\n",
        "id:3299131740, recurso:tetra:12082781, latitud:-0.22468586266, longitud:-0.671368837357, velocidad:0, orientacion:0, fecha:1424172652 deleted!\n",
        "id:3299131851, recurso:tetra:12082781, latitud:-0.22468586266, longitud:-0.671368837357, velocidad:0, orientacion:0, fecha:1424172667 deleted!\n",
        "id:3299131884, recurso:tetra:12082781, latitud:-0.224686607718, longitud:-0.671369016171, velocidad:0, orientacion:0, fecha:1424172686 deleted!\n",
        "id:3299132069, recurso:tetra:12082781, latitud:-0.224686995149, longitud:-0.671369016171, velocidad:0, orientacion:0, fecha:1424172738 deleted!"
       ]
      },
      {
       "output_type": "stream",
       "stream": "stdout",
       "text": [
        "\n",
        "id:3299132180, recurso:tetra:12082781, latitud:-0.224686056376, longitud:-0.671368479729, velocidad:0, orientacion:0, fecha:1424172761 deleted!\n",
        "id:3299132241, recurso:tetra:12082781, latitud:-0.224686056376, longitud:-0.671368479729, velocidad:0, orientacion:0, fecha:1424172772 deleted!\n",
        "id:3299132559, recurso:tetra:12082781, latitud:-0.22468586266, longitud:-0.671369016171, velocidad:0, orientacion:0, fecha:1424172834 deleted!\n",
        "id:3299132618, recurso:tetra:12082781, latitud:-0.224685490131, longitud:-0.671369016171, velocidad:0, orientacion:0, fecha:1424172851 deleted!\n",
        "id:3299132740, recurso:tetra:12082781, latitud:-0.224686056376, longitud:-0.671369016171, velocidad:0, orientacion:0, fecha:1424172869 deleted!\n",
        "id:3299133054, recurso:tetra:12082781, latitud:-0.224684923887, longitud:-0.671369373798, velocidad:0, orientacion:0, fecha:1424172924 deleted!\n",
        "id:3299133163, recurso:tetra:12082781, latitud:-0.224684923887, longitud:-0.671369373798, velocidad:0, orientacion:0, fecha:1424172937 deleted!\n",
        "id:3299133259, recurso:tetra:12082781, latitud:-0.224686056376, longitud:-0.671368479729, velocidad:0, orientacion:0, fecha:1424172950 deleted!\n",
        "id:3299133374, recurso:tetra:12082781, latitud:-0.224686428905, longitud:-0.67136824131, velocidad:0, orientacion:0, fecha:1424173003 deleted!\n",
        "id:3299133460, recurso:tetra:12082781, latitud:-0.224686607718, longitud:-0.67136824131, velocidad:0, orientacion:0, fecha:1424173025 deleted!"
       ]
      },
      {
       "output_type": "stream",
       "stream": "stdout",
       "text": [
        "\n",
        "id:3299133517, recurso:tetra:12082781, latitud:-0.224686607718, longitud:-0.67136824131, velocidad:0, orientacion:0, fecha:1424173043 deleted!\n",
        "id:3299133707, recurso:tetra:12082781, latitud:-0.224686428905, longitud:-0.671368479729, velocidad:0, orientacion:0, fecha:1424173091 deleted!\n",
        "id:3299133818, recurso:tetra:12082781, latitud:-0.224686056376, longitud:-0.671368837357, velocidad:0, orientacion:0, fecha:1424173105 deleted!\n",
        "id:3299133896, recurso:tetra:12082781, latitud:-0.22468586266, longitud:-0.671368837357, velocidad:0, orientacion:0, fecha:1424173128 deleted!\n",
        "id:3299134231, recurso:tetra:12082781, latitud:-0.224685490131, longitud:-0.67136734724, velocidad:0, orientacion:0, fecha:1424173182 deleted!\n",
        "id:3299134308, recurso:tetra:12082781, latitud:-0.224685490131, longitud:-0.67136734724, velocidad:0, orientacion:0, fecha:1424173196 deleted!\n",
        "id:3299134427, recurso:tetra:12082781, latitud:-0.224685490131, longitud:-0.67136734724, velocidad:0, orientacion:0, fecha:1424173218 deleted!\n",
        "id:3299134627, recurso:tetra:12082781, latitud:-0.224686607718, longitud:-0.67136734724, velocidad:0, orientacion:0, fecha:1424173292 deleted!\n",
        "id:3299134746, recurso:tetra:12082781, latitud:-0.224686995149, longitud:-0.67136734724, velocidad:0, orientacion:0, fecha:1424173307 deleted!"
       ]
      },
      {
       "output_type": "stream",
       "stream": "stdout",
       "text": [
        "\n",
        "id:3299134828, recurso:tetra:12082781, latitud:-0.224686995149, longitud:-0.67136734724, velocidad:0, orientacion:0, fecha:1424173323 deleted!\n",
        "id:3299135058, recurso:tetra:12082781, latitud:-0.22468586266, longitud:-0.671367526054, velocidad:0, orientacion:0, fecha:1424173382 deleted!\n",
        "id:3299135167, recurso:tetra:12082781, latitud:-0.224685117602, longitud:-0.671367883682, velocidad:0, orientacion:0, fecha:1424173396 deleted!\n",
        "id:3299135186, recurso:tetra:12082781, latitud:-0.224684923887, longitud:-0.671367883682, velocidad:0, orientacion:0, fecha:1424173414 deleted!\n",
        "id:3299135462, recurso:tetra:12082781, latitud:-0.224684551358, longitud:-0.671368837357, velocidad:0, orientacion:0, fecha:1424173459 deleted!\n",
        "id:3299135539, recurso:tetra:12082781, latitud:-0.224684923887, longitud:-0.671368837357, velocidad:0, orientacion:0, fecha:1424173478 deleted!\n",
        "id:3299135547, recurso:tetra:12082781, latitud:-0.224684372544, longitud:-0.671368479729, velocidad:0, orientacion:0, fecha:1424173507 deleted!\n",
        "id:3299135881, recurso:tetra:12082781, latitud:-0.22468174994, longitud:-0.671369016171, velocidad:0, orientacion:0, fecha:1424173550 deleted!"
       ]
      },
      {
       "output_type": "stream",
       "stream": "stdout",
       "text": [
        "\n",
        "id:3299135914, recurso:tetra:12082781, latitud:-0.224682494998, longitud:-0.671368837357, velocidad:0, orientacion:0, fecha:1424173564 deleted!\n",
        "id:3299136046, recurso:tetra:12082781, latitud:-0.224685490131, longitud:-0.671367883682, velocidad:0, orientacion:0, fecha:1424173581 deleted!\n",
        "id:3299136405, recurso:tetra:12082781, latitud:-0.22468586266, longitud:-0.67136824131, velocidad:0, orientacion:0, fecha:1424173637 deleted!\n",
        "id:3299136448, recurso:tetra:12082781, latitud:-0.224685490131, longitud:-0.67136824131, velocidad:0, orientacion:0, fecha:1424173651 deleted!\n",
        "id:3299136568, recurso:tetra:12082781, latitud:-0.224685117602, longitud:-0.67136824131, velocidad:0, orientacion:0, fecha:1424173672 deleted!\n",
        "id:3299136698, recurso:tetra:12082781, latitud:-0.224684923887, longitud:-0.671368479729, velocidad:0, orientacion:0, fecha:1424173733 deleted!\n",
        "id:3299136773, recurso:tetra:12082781, latitud:-0.224684923887, longitud:-0.671368479729, velocidad:0, orientacion:0, fecha:1424173747 deleted!\n",
        "id:3299136838, recurso:tetra:12082781, latitud:-0.224684551358, longitud:-0.671368479729, velocidad:0, orientacion:0, fecha:1424173764 deleted!"
       ]
      },
      {
       "output_type": "stream",
       "stream": "stdout",
       "text": [
        "\n",
        "id:3299137088, recurso:tetra:12082781, latitud:-0.224684372544, longitud:-0.67136824131, velocidad:0, orientacion:0, fecha:1424173816 deleted!\n",
        "id:3299137196, recurso:tetra:12082781, latitud:-0.224683433771, longitud:-0.671367883682, velocidad:0, orientacion:0, fecha:1424173840 deleted!\n",
        "id:3299137247, recurso:tetra:12082781, latitud:-0.224682867527, longitud:-0.671367883682, velocidad:0, orientacion:0, fecha:1424173872 deleted!\n",
        "id:3299137564, recurso:tetra:12082781, latitud:-0.224685490131, longitud:-0.67136824131, velocidad:0, orientacion:0, fecha:1424173930 deleted!\n",
        "id:3299137672, recurso:tetra:12082781, latitud:-0.224685490131, longitud:-0.671368837357, velocidad:0, orientacion:0, fecha:1424173946 deleted!\n",
        "id:3299137761, recurso:tetra:12082781, latitud:-0.22468586266, longitud:-0.671369016171, velocidad:0, orientacion:0, fecha:1424173971 deleted!"
       ]
      },
      {
       "output_type": "stream",
       "stream": "stdout",
       "text": [
        "\n",
        "id:3299138087, recurso:tetra:12082781, latitud:-0.224685490131, longitud:-0.671369552612, velocidad:0, orientacion:0, fecha:1424174023 deleted!\n",
        "id:3299138177, recurso:tetra:12082781, latitud:-0.224685490131, longitud:-0.671369552612, velocidad:0, orientacion:0, fecha:1424174036 deleted!\n",
        "id:3299138266, recurso:tetra:12082781, latitud:-0.224685490131, longitud:-0.671369552612, velocidad:0, orientacion:0, fecha:1424174049 deleted!\n",
        "id:3299138489, recurso:tetra:12082781, latitud:-0.224685490131, longitud:-0.671369016171, velocidad:0, orientacion:0, fecha:1424174100 deleted!\n",
        "id:3299138510, recurso:tetra:12082781, latitud:-0.22468586266, longitud:-0.671368837357, velocidad:0, orientacion:0, fecha:1424174111 deleted!\n",
        "id:3299138516, recurso:tetra:12082781, latitud:-0.22468586266, longitud:-0.671368837357, velocidad:0, orientacion:0, fecha:1424174130 deleted!\n",
        "id:3299138873, recurso:tetra:12082781, latitud:-0.224686428905, longitud:-0.671367883682, velocidad:0, orientacion:0, fecha:1424174166 deleted!\n",
        "id:3299138879, recurso:tetra:12082781, latitud:-0.224686428905, longitud:-0.671367883682, velocidad:0, orientacion:0, fecha:1424174193 deleted!"
       ]
      },
      {
       "output_type": "stream",
       "stream": "stdout",
       "text": [
        "\n",
        "id:3299138901, recurso:tetra:12082781, latitud:-0.224686428905, longitud:-0.671367883682, velocidad:0, orientacion:0, fecha:1424174214 deleted!\n",
        "id:3299139226, recurso:tetra:12082781, latitud:-0.22468586266, longitud:-0.671367883682, velocidad:0, orientacion:0, fecha:1424174265 deleted!\n",
        "id:3299139356, recurso:tetra:12082781, latitud:-0.224684923887, longitud:-0.671367883682, velocidad:0, orientacion:0, fecha:1424174281 deleted!\n",
        "id:3299139438, recurso:tetra:12082781, latitud:-0.224687173963, longitud:-0.671369016171, velocidad:0, orientacion:0, fecha:1424174308 deleted!\n",
        "id:3299139776, recurso:tetra:12082781, latitud:-0.224686995149, longitud:-0.671369016171, velocidad:0, orientacion:0, fecha:1424174352 deleted!\n",
        "id:3299139880, recurso:tetra:12082781, latitud:-0.224686995149, longitud:-0.671368837357, velocidad:0, orientacion:0, fecha:1424174369 deleted!\n",
        "id:3299139938, recurso:tetra:12082781, latitud:-0.224686995149, longitud:-0.671368479729, velocidad:0, orientacion:0, fecha:1424174385 deleted!\n",
        "id:3299140079, recurso:tetra:12082781, latitud:-0.224686056376, longitud:-0.671367883682, velocidad:0, orientacion:0, fecha:1424174451 deleted!"
       ]
      },
      {
       "output_type": "stream",
       "stream": "stdout",
       "text": [
        "\n",
        "id:3299140170, recurso:tetra:12082781, latitud:-0.22468586266, longitud:-0.67136734724, velocidad:0, orientacion:0, fecha:1424174465 deleted!\n",
        "id:3299140178, recurso:tetra:12082781, latitud:-0.224685117602, longitud:-0.67136734724, velocidad:0, orientacion:0, fecha:1424174479 deleted!\n",
        "id:3299140506, recurso:tetra:12082781, latitud:-0.224685117602, longitud:-0.671366930008, velocidad:0, orientacion:0, fecha:1424174526 deleted!\n",
        "id:3299140539, recurso:tetra:12082781, latitud:-0.224685490131, longitud:-0.67136734724, velocidad:0, orientacion:0, fecha:1424174561 deleted!\n",
        "id:3299140722, recurso:tetra:12082781, latitud:-0.224685490131, longitud:-0.67136734724, velocidad:0, orientacion:0, fecha:1424174578 deleted!\n",
        "id:3299140961, recurso:tetra:12082781, latitud:-0.224685117602, longitud:-0.671367883682, velocidad:0, orientacion:0, fecha:1424174633 deleted!\n",
        "id:3299141092, recurso:tetra:12082781, latitud:-0.224685117602, longitud:-0.671367883682, velocidad:0, orientacion:0, fecha:1424174655 deleted!\n",
        "id:3299141172, recurso:tetra:12082781, latitud:-0.224685117602, longitud:-0.671367883682, velocidad:0, orientacion:0, fecha:1424174670 deleted!"
       ]
      },
      {
       "output_type": "stream",
       "stream": "stdout",
       "text": [
        "\n",
        "id:3299141452, recurso:tetra:12082781, latitud:-0.224688306451, longitud:-0.671366930008, velocidad:0, orientacion:0, fecha:1424174713 deleted!\n",
        "id:3299141561, recurso:tetra:12082781, latitud:-0.224686607718, longitud:-0.671368837357, velocidad:0, orientacion:0, fecha:1424174729 deleted!\n",
        "id:3299141656, recurso:tetra:12082781, latitud:-0.224686056376, longitud:-0.671369016171, velocidad:0, orientacion:0, fecha:1424174746 deleted!\n",
        "id:3299141901, recurso:tetra:12082781, latitud:-0.224685117602, longitud:-0.671368837357, velocidad:0, orientacion:0, fecha:1424174823 deleted!\n",
        "id:3299142094, recurso:tetra:12082781, latitud:-0.224685117602, longitud:-0.671369016171, velocidad:0, orientacion:0, fecha:1424174838 deleted!\n",
        "id:3299142197, recurso:tetra:12082781, latitud:-0.224684923887, longitud:-0.671369373798, velocidad:0, orientacion:0, fecha:1424174856 deleted!\n",
        "id:3299142327, recurso:tetra:12082781, latitud:-0.224684551358, longitud:-0.67136824131, velocidad:0, orientacion:0, fecha:1424174942 deleted!\n",
        "id:3299142431, recurso:tetra:12082781, latitud:-0.224684551358, longitud:-0.671368479729, velocidad:0, orientacion:0, fecha:1424174957 deleted!"
       ]
      },
      {
       "output_type": "stream",
       "stream": "stdout",
       "text": [
        "\n",
        "id:3299142497, recurso:tetra:12082781, latitud:-0.224684551358, longitud:-0.671368837357, velocidad:0, orientacion:0, fecha:1424174973 deleted!\n",
        "id:3299142740, recurso:tetra:12082781, latitud:-0.224685117602, longitud:-0.671369552612, velocidad:0, orientacion:0, fecha:1424175023 deleted!\n",
        "id:3299142806, recurso:tetra:12082781, latitud:-0.224685490131, longitud:-0.671369552612, velocidad:0, orientacion:0, fecha:1424175049 deleted!\n",
        "id:3299142898, recurso:tetra:12082781, latitud:-0.224685490131, longitud:-0.671369969845, velocidad:0, orientacion:0, fecha:1424175065 deleted!\n",
        "id:3299143199, recurso:tetra:12082781, latitud:-0.22468867898, longitud:-0.671367526054, velocidad:0, orientacion:0, fecha:1424175111 deleted!\n",
        "id:3299143309, recurso:tetra:12082781, latitud:-0.224688306451, longitud:-0.671367526054, velocidad:0, orientacion:0, fecha:1424175128 deleted!"
       ]
      },
      {
       "output_type": "stream",
       "stream": "stdout",
       "text": [
        "\n",
        "id:3299143377, recurso:tetra:12082781, latitud:-0.224688306451, longitud:-0.671367526054, velocidad:0, orientacion:0, fecha:1424175153 deleted!\n",
        "id:3299143576, recurso:tetra:12082781, latitud:-0.224688112736, longitud:-0.671366930008, velocidad:0, orientacion:135, fecha:1424175210 deleted!\n",
        "id:3299143593, recurso:tetra:12082781, latitud:-0.224687546492, longitud:-0.671366930008, velocidad:0, orientacion:0, fecha:1424175223 deleted!\n",
        "id:3299143720, recurso:tetra:12082781, latitud:-0.224687546492, longitud:-0.671366930008, velocidad:0, orientacion:0, fecha:1424175239 deleted!\n",
        "id:3299144126, recurso:tetra:12082781, latitud:-0.224689051509, longitud:-0.671366930008, velocidad:0, orientacion:0, fecha:1424175308 deleted!\n",
        "id:3299144153, recurso:tetra:12082781, latitud:-0.224689051509, longitud:-0.67136734724, velocidad:0, orientacion:0, fecha:1424175326 deleted!\n",
        "id:3299144238, recurso:tetra:12082781, latitud:-0.224689051509, longitud:-0.67136734724, velocidad:0, orientacion:0, fecha:1424175343 deleted!\n",
        "id:3299144526, recurso:tetra:12082781, latitud:-0.22468867898, longitud:-0.671367526054, velocidad:0, orientacion:0, fecha:1424175396 deleted!\n",
        "id:3299144660, recurso:tetra:12082781, latitud:-0.22468867898, longitud:-0.671367883682, velocidad:0, orientacion:0, fecha:1424175412 deleted!\n",
        "id:3299144785, recurso:tetra:12082781, latitud:-0.224688306451, longitud:-0.67136824131, velocidad:0, orientacion:0, fecha:1424175427 deleted!"
       ]
      },
      {
       "output_type": "stream",
       "stream": "stdout",
       "text": [
        "\n",
        "id:3299144982, recurso:tetra:12082781, latitud:-0.224684000015, longitud:-0.671368479729, velocidad:0, orientacion:0, fecha:1424175475 deleted!\n",
        "id:3299145110, recurso:tetra:12082781, latitud:-0.224684000015, longitud:-0.67136824131, velocidad:0, orientacion:0, fecha:1424175514 deleted!\n",
        "id:3299145201, recurso:tetra:12082781, latitud:-0.224685117602, longitud:-0.67136824131, velocidad:0, orientacion:0, fecha:1424175533 deleted!\n",
        "id:3299145441, recurso:tetra:12082781, latitud:-0.224685117602, longitud:-0.67136824131, velocidad:0, orientacion:0, fecha:1424175586 deleted!\n",
        "id:3299145577, recurso:tetra:12082781, latitud:-0.224685117602, longitud:-0.67136824131, velocidad:0, orientacion:0, fecha:1424175599 deleted!\n",
        "id:3299145630, recurso:tetra:12082781, latitud:-0.224685117602, longitud:-0.67136824131, velocidad:0, orientacion:0, fecha:1424175612 deleted!\n",
        "id:3299145809, recurso:tetra:12082781, latitud:-0.224684000015, longitud:-0.671368479729, velocidad:0, orientacion:0, fecha:1424175668 deleted!\n",
        "id:3299145819, recurso:tetra:12082781, latitud:-0.224684000015, longitud:-0.671368479729, velocidad:0, orientacion:0, fecha:1424175680 deleted!"
       ]
      },
      {
       "output_type": "stream",
       "stream": "stdout",
       "text": [
        "\n",
        "id:3299145876, recurso:tetra:12082781, latitud:-0.224684551358, longitud:-0.671368479729, velocidad:0, orientacion:0, fecha:1424175692 deleted!\n",
        "id:3299146289, recurso:tetra:12082781, latitud:-0.224682494998, longitud:-0.671368837357, velocidad:0, orientacion:0, fecha:1424175763 deleted!\n",
        "id:3299146405, recurso:tetra:12082781, latitud:-0.224682494998, longitud:-0.671368479729, velocidad:0, orientacion:0, fecha:1424175780 deleted!\n",
        "id:3299146485, recurso:tetra:12082781, latitud:-0.224684000015, longitud:-0.671368837357, velocidad:0, orientacion:0, fecha:1424175796 deleted!\n",
        "id:3299146672, recurso:tetra:12082781, latitud:-0.224689230323, longitud:-0.671366930008, velocidad:0, orientacion:0, fecha:1424175844 deleted!\n",
        "id:3299146760, recurso:tetra:12082781, latitud:-0.224687919021, longitud:-0.671366930008, velocidad:0, orientacion:0, fecha:1424175864 deleted!\n",
        "id:3299146829, recurso:tetra:12082781, latitud:-0.224687919021, longitud:-0.671366930008, velocidad:0, orientacion:0, fecha:1424175895 deleted!\n",
        "id:3299147025, recurso:tetra:12082781, latitud:-0.224686056376, longitud:-0.671366751194, velocidad:0, orientacion:0, fecha:1424175939 deleted!\n",
        "id:3299147161, recurso:tetra:12082781, latitud:-0.224688306451, longitud:-0.67136734724, velocidad:0, orientacion:315, fecha:1424175955 deleted!\n",
        "id:3299147267, recurso:tetra:12082781, latitud:-0.224686428905, longitud:-0.671367526054, velocidad:0, orientacion:0, fecha:1424175972 deleted!"
       ]
      },
      {
       "output_type": "stream",
       "stream": "stdout",
       "text": [
        "\n",
        "id:3299147509, recurso:tetra:12082781, latitud:-0.224686056376, longitud:-0.671367526054, velocidad:0, orientacion:0, fecha:1424176035 deleted!\n",
        "id:3299147586, recurso:tetra:12082781, latitud:-0.22468586266, longitud:-0.671367526054, velocidad:0, orientacion:0, fecha:1424176051 deleted!\n",
        "id:3299147750, recurso:tetra:12082781, latitud:-0.224686428905, longitud:-0.671367526054, velocidad:0, orientacion:0, fecha:1424176069 deleted!\n",
        "id:3299148111, recurso:tetra:12082781, latitud:-0.224686995149, longitud:-0.671367883682, velocidad:0, orientacion:0, fecha:1424176140 deleted!\n",
        "id:3299148167, recurso:tetra:12082781, latitud:-0.224686995149, longitud:-0.671367883682, velocidad:0, orientacion:0, fecha:1424176151 deleted!\n",
        "id:3299148210, recurso:tetra:12082781, latitud:-0.224686995149, longitud:-0.671367883682, velocidad:0, orientacion:0, fecha:1424176169 deleted!\n",
        "id:3299148478, recurso:tetra:12082781, latitud:-0.224686607718, longitud:-0.671368837357, velocidad:0, orientacion:0, fecha:1424176221 deleted!"
       ]
      },
      {
       "output_type": "stream",
       "stream": "stdout",
       "text": [
        "\n",
        "id:3299148608, recurso:tetra:12082781, latitud:-0.224686056376, longitud:-0.671369016171, velocidad:0, orientacion:0, fecha:1424176235 deleted!\n",
        "id:3299148638, recurso:tetra:12082781, latitud:-0.224684551358, longitud:-0.671370148659, velocidad:0, orientacion:0, fecha:1424176255 deleted!\n",
        "id:3299148947, recurso:tetra:12082781, latitud:-0.224687546492, longitud:-0.671369552612, velocidad:0, orientacion:0, fecha:1424176300 deleted!\n",
        "id:3299149007, recurso:tetra:12082781, latitud:-0.224687919021, longitud:-0.671369373798, velocidad:0, orientacion:0, fecha:1424176313 deleted!\n",
        "id:3299149021, recurso:tetra:12082781, latitud:-0.22468867898, longitud:-0.671368479729, velocidad:0, orientacion:0, fecha:1424176370 deleted!\n",
        "id:3299149360, recurso:tetra:12082781, latitud:-0.224687919021, longitud:-0.67136824131, velocidad:0, orientacion:0, fecha:1424176430 deleted!\n",
        "id:3299149499, recurso:tetra:12082781, latitud:-0.224687546492, longitud:-0.67136824131, velocidad:0, orientacion:0, fecha:1424176448 deleted!\n",
        "id:3299149580, recurso:tetra:12082781, latitud:-0.224684000015, longitud:-0.671367883682, velocidad:0, orientacion:0, fecha:1424176474 deleted!\n",
        "id:3299149896, recurso:tetra:12082781, latitud:-0.22468586266, longitud:-0.67136824131, velocidad:0, orientacion:0, fecha:1424176520 deleted!\n",
        "id:3299149953, recurso:tetra:12082781, latitud:-0.224684551358, longitud:-0.67136824131, velocidad:0, orientacion:0, fecha:1424176534 deleted!"
       ]
      },
      {
       "output_type": "stream",
       "stream": "stdout",
       "text": [
        "\n",
        "id:3299150068, recurso:tetra:12082781, latitud:-0.224684000015, longitud:-0.671367883682, velocidad:0, orientacion:0, fecha:1424176548 deleted!\n",
        "id:3299150261, recurso:tetra:12082781, latitud:-0.224684923887, longitud:-0.671368479729, velocidad:0, orientacion:0, fecha:1424176599 deleted!\n",
        "id:3299150322, recurso:tetra:12082781, latitud:-0.2246838063, longitud:-0.671367883682, velocidad:0, orientacion:0, fecha:1424176612 deleted!\n",
        "id:3299150338, recurso:tetra:12082781, latitud:-0.2246838063, longitud:-0.671367883682, velocidad:0, orientacion:0, fecha:1424176625 deleted!\n",
        "id:3299150646, recurso:tetra:12082781, latitud:-0.22468586266, longitud:-0.671368837357, velocidad:0, orientacion:135, fecha:1424176674 deleted!\n",
        "id:3299150715, recurso:tetra:12082781, latitud:-0.224687173963, longitud:-0.671369552612, velocidad:0, orientacion:0, fecha:1424176695 deleted!\n",
        "id:3299150891, recurso:tetra:12082781, latitud:-0.224687173963, longitud:-0.671369552612, velocidad:0, orientacion:0, fecha:1424176713 deleted!\n",
        "id:3299151215, recurso:tetra:12082781, latitud:-0.2246838063, longitud:-0.671367526054, velocidad:0, orientacion:202, fecha:1424176762 deleted!\n",
        "id:3299151279, recurso:tetra:12082781, latitud:-0.224686056376, longitud:-0.67136824131, velocidad:0, orientacion:0, fecha:1424176788 deleted!\n",
        "id:3299151372, recurso:tetra:12082781, latitud:-0.224686995149, longitud:-0.671368479729, velocidad:0, orientacion:0, fecha:1424176802 deleted!"
       ]
      },
      {
       "output_type": "stream",
       "stream": "stdout",
       "text": [
        "\n",
        "id:3299151637, recurso:tetra:12082781, latitud:-0.224684372544, longitud:-0.67136734724, velocidad:0, orientacion:292, fecha:1424176847 deleted!\n",
        "id:3299151780, recurso:tetra:12082781, latitud:-0.224687546492, longitud:-0.671369969845, velocidad:0, orientacion:0, fecha:1424176865 deleted!\n",
        "id:3299151980, recurso:tetra:12082781, latitud:-0.224686607718, longitud:-0.671369552612, velocidad:0, orientacion:0, fecha:1424176890 deleted!\n",
        "id:3299152382, recurso:tetra:12082781, latitud:-0.224682494998, longitud:-0.671366930008, velocidad:0, orientacion:0, fecha:1424176932 deleted!\n",
        "id:3299152509, recurso:tetra:12082781, latitud:-0.224684923887, longitud:-0.671367883682, velocidad:0, orientacion:0, fecha:1424176957 deleted!\n",
        "id:3299152577, recurso:tetra:12082781, latitud:-0.224684923887, longitud:-0.671367526054, velocidad:0, orientacion:0, fecha:1424176975 deleted!\n",
        "id:3299152864, recurso:tetra:12082781, latitud:-0.224684000015, longitud:-0.671367526054, velocidad:0, orientacion:0, fecha:1424177021 deleted!\n",
        "id:3299152968, recurso:tetra:12082781, latitud:-0.224686607718, longitud:-0.671368837357, velocidad:0, orientacion:0, fecha:1424177041 deleted!\n",
        "id:3299152979, recurso:tetra:12082781, latitud:-0.224687173963, longitud:-0.671369016171, velocidad:0, orientacion:0, fecha:1424177058 deleted!\n",
        "id:3299153259, recurso:tetra:12082781, latitud:-0.224689796567, longitud:-0.671369373798, velocidad:0, orientacion:0, fecha:1424177136 deleted!"
       ]
      },
      {
       "output_type": "stream",
       "stream": "stdout",
       "text": [
        "\n",
        "id:3299153434, recurso:tetra:12082781, latitud:-0.224687173963, longitud:-0.671368837357, velocidad:0, orientacion:0, fecha:1424177149 deleted!\n",
        "id:3299153486, recurso:tetra:12082781, latitud:-0.224687173963, longitud:-0.671368837357, velocidad:0, orientacion:0, fecha:1424177166 deleted!\n",
        "id:3299153757, recurso:tetra:12082781, latitud:-0.224687173963, longitud:-0.671369373798, velocidad:0, orientacion:0, fecha:1424177231 deleted!\n",
        "id:3299153820, recurso:tetra:12082781, latitud:-0.224687173963, longitud:-0.671369373798, velocidad:0, orientacion:0, fecha:1424177245 deleted!\n",
        "id:3299153887, recurso:tetra:12082781, latitud:-0.224686995149, longitud:-0.671369373798, velocidad:0, orientacion:225, fecha:1424177262 deleted!\n",
        "id:3299154138, recurso:tetra:12082781, latitud:-0.224686428905, longitud:-0.671369016171, velocidad:0, orientacion:0, fecha:1424177306 deleted!"
       ]
      },
      {
       "output_type": "stream",
       "stream": "stdout",
       "text": [
        "\n",
        "id:3299154143, recurso:tetra:12082781, latitud:-0.224684551358, longitud:-0.67136824131, velocidad:0, orientacion:0, fecha:1424177334 deleted!\n",
        "id:3299154255, recurso:tetra:12082781, latitud:-0.224685117602, longitud:-0.671368479729, velocidad:0, orientacion:0, fecha:1424177361 deleted!\n",
        "id:3299154503, recurso:tetra:12082781, latitud:-0.224686056376, longitud:-0.671368837357, velocidad:0, orientacion:0, fecha:1424177409 deleted!\n",
        "id:3299154576, recurso:tetra:12082781, latitud:-0.224686056376, longitud:-0.671368837357, velocidad:0, orientacion:0, fecha:1424177426 deleted!\n",
        "id:3299154726, recurso:tetra:12082781, latitud:-0.224686056376, longitud:-0.67136824131, velocidad:0, orientacion:0, fecha:1424177451 deleted!\n",
        "id:3299155029, recurso:tetra:12082781, latitud:-0.224686056376, longitud:-0.67136824131, velocidad:0, orientacion:0, fecha:1424177498 deleted!\n",
        "id:3299155184, recurso:tetra:12082781, latitud:-0.224686056376, longitud:-0.67136824131, velocidad:0, orientacion:0, fecha:1424177515 deleted!\n",
        "id:3299155268, recurso:tetra:12082781, latitud:-0.224686056376, longitud:-0.67136824131, velocidad:0, orientacion:0, fecha:1424177538 deleted!\n",
        "id:3299155539, recurso:tetra:12082781, latitud:-0.22468586266, longitud:-0.671368837357, velocidad:0, orientacion:0, fecha:1424177599 deleted!\n",
        "id:3299155593, recurso:tetra:12082781, latitud:-0.22468586266, longitud:-0.671368837357, velocidad:0, orientacion:0, fecha:1424177616 deleted!"
       ]
      },
      {
       "output_type": "stream",
       "stream": "stdout",
       "text": [
        "\n",
        "id:3299155653, recurso:tetra:12082781, latitud:-0.22468586266, longitud:-0.671368837357, velocidad:0, orientacion:0, fecha:1424177630 deleted!\n",
        "id:3299156041, recurso:tetra:12082781, latitud:-0.22468586266, longitud:-0.671368479729, velocidad:0, orientacion:0, fecha:1424177698 deleted!\n",
        "id:3299156079, recurso:tetra:12082781, latitud:-0.22468586266, longitud:-0.671368479729, velocidad:0, orientacion:0, fecha:1424177711 deleted!\n",
        "id:3299156116, recurso:tetra:12082781, latitud:-0.224685490131, longitud:-0.671368479729, velocidad:0, orientacion:0, fecha:1424177723 deleted!\n",
        "id:3299156462, recurso:tetra:12082781, latitud:-0.224685490131, longitud:-0.67136824131, velocidad:0, orientacion:0, fecha:1424177773 deleted!\n",
        "id:3299156475, recurso:tetra:12082781, latitud:-0.224685490131, longitud:-0.67136824131, velocidad:0, orientacion:0, fecha:1424177804 deleted!\n",
        "id:3299156644, recurso:tetra:12082781, latitud:-0.224685490131, longitud:-0.67136824131, velocidad:0, orientacion:0, fecha:1424177829 deleted!\n",
        "id:3299156956, recurso:tetra:12082781, latitud:-0.224685490131, longitud:-0.67136824131, velocidad:0, orientacion:0, fecha:1424177870 deleted!\n",
        "id:3299157024, recurso:tetra:12082781, latitud:-0.224685490131, longitud:-0.67136824131, velocidad:0, orientacion:0, fecha:1424177888 deleted!\n",
        "id:3299157230, recurso:tetra:12082781, latitud:-0.224685490131, longitud:-0.671368479729, velocidad:0, orientacion:0, fecha:1424177932 deleted!"
       ]
      },
      {
       "output_type": "stream",
       "stream": "stdout",
       "text": [
        "\n",
        "id:3299157457, recurso:tetra:12082781, latitud:-0.224685490131, longitud:-0.671368479729, velocidad:0, orientacion:0, fecha:1424177985 deleted!\n",
        "id:3299157625, recurso:tetra:12082781, latitud:-0.224685490131, longitud:-0.671368479729, velocidad:0, orientacion:0, fecha:1424178001 deleted!\n",
        "id:3299157642, recurso:tetra:12082781, latitud:-0.224685490131, longitud:-0.671368837357, velocidad:0, orientacion:45, fecha:1424178030 deleted!\n",
        "id:3299157911, recurso:tetra:12082781, latitud:-0.224685490131, longitud:-0.671368837357, velocidad:0, orientacion:45, fecha:1424178086 deleted!\n",
        "id:3299157991, recurso:tetra:12082781, latitud:-0.224685490131, longitud:-0.671368837357, velocidad:0, orientacion:45, fecha:1424178105 deleted!\n",
        "id:3299158086, recurso:tetra:12082781, latitud:-0.224685490131, longitud:-0.671368837357, velocidad:0, orientacion:45, fecha:1424178121 deleted!\n",
        "id:3299158401, recurso:tetra:12082781, latitud:-0.224685490131, longitud:-0.671368837357, velocidad:0, orientacion:45, fecha:1424178180 deleted!\n",
        "id:3299158489, recurso:tetra:12082781, latitud:-0.224685490131, longitud:-0.671368837357, velocidad:0, orientacion:45, fecha:1424178202 deleted!\n",
        "id:3299158625, recurso:tetra:12082781, latitud:-0.224685490131, longitud:-0.671368837357, velocidad:0, orientacion:45, fecha:1424178227 deleted!\n",
        "id:3299158804, recurso:tetra:12082781, latitud:-0.224686995149, longitud:-0.671366214752, velocidad:0, orientacion:0, fecha:1424178282 deleted!"
       ]
      },
      {
       "output_type": "stream",
       "stream": "stdout",
       "text": [
        "\n",
        "id:3299158999, recurso:tetra:12082781, latitud:-0.224686056376, longitud:-0.671366393566, velocidad:0, orientacion:0, fecha:1424178301 deleted!\n",
        "id:3299159073, recurso:tetra:12082781, latitud:-0.22468586266, longitud:-0.671366751194, velocidad:0, orientacion:0, fecha:1424178314 deleted!\n",
        "id:3299159560, recurso:tetra:12082781, latitud:-0.224685490131, longitud:-0.671366751194, velocidad:0, orientacion:0, fecha:1424178397 deleted!\n",
        "id:3299159663, recurso:tetra:12082781, latitud:-0.224685490131, longitud:-0.671366751194, velocidad:0, orientacion:0, fecha:1424178422 deleted!\n",
        "id:3299159713, recurso:tetra:12082781, latitud:-0.224686056376, longitud:-0.671366214752, velocidad:0, orientacion:247, fecha:1424178437 deleted!\n",
        "id:3299159949, recurso:tetra:12082781, latitud:-0.224687546492, longitud:-0.671366214752, velocidad:0, orientacion:0, fecha:1424178500 deleted!\n",
        "id:3299160076, recurso:tetra:12082781, latitud:-0.224687546492, longitud:-0.671366393566, velocidad:0, orientacion:0, fecha:1424178519 deleted!\n",
        "id:3299160168, recurso:tetra:12082781, latitud:-0.224687546492, longitud:-0.671366393566, velocidad:0, orientacion:0, fecha:1424178535 deleted!\n",
        "id:3299160486, recurso:tetra:12082781, latitud:-0.224687919021, longitud:-0.671366930008, velocidad:0, orientacion:0, fecha:1424178583 deleted!\n",
        "id:3299160520, recurso:tetra:12082781, latitud:-0.224687919021, longitud:-0.671366930008, velocidad:0, orientacion:0, fecha:1424178615 deleted!"
       ]
      },
      {
       "output_type": "stream",
       "stream": "stdout",
       "text": [
        "\n",
        "id:3299160612, recurso:tetra:12082781, latitud:-0.224687919021, longitud:-0.671366930008, velocidad:0, orientacion:0, fecha:1424178628 deleted!\n",
        "id:3299160946, recurso:tetra:12082781, latitud:-0.224687919021, longitud:-0.671366930008, velocidad:0, orientacion:0, fecha:1424178674 deleted!\n",
        "id:3299161050, recurso:tetra:12082781, latitud:-0.224687919021, longitud:-0.671366930008, velocidad:0, orientacion:0, fecha:1424178686 deleted!\n",
        "id:3299161118, recurso:tetra:12082781, latitud:-0.224687919021, longitud:-0.671366930008, velocidad:0, orientacion:0, fecha:1424178705 deleted!\n",
        "id:3299161305, recurso:tetra:12082781, latitud:-0.224687919021, longitud:-0.671366930008, velocidad:0, orientacion:0, fecha:1424178764 deleted!\n",
        "id:3299161344, recurso:tetra:12082781, latitud:-0.224687919021, longitud:-0.671366930008, velocidad:0, orientacion:0, fecha:1424178777 deleted!\n",
        "id:3299161467, recurso:tetra:12082781, latitud:-0.224687919021, longitud:-0.671366930008, velocidad:0, orientacion:0, fecha:1424178804 deleted!\n",
        "id:3299161854, recurso:tetra:12082781, latitud:-0.224687919021, longitud:-0.671366930008, velocidad:0, orientacion:0, fecha:1424178860 deleted!"
       ]
      },
      {
       "output_type": "stream",
       "stream": "stdout",
       "text": [
        "\n",
        "id:3299161896, recurso:tetra:12082781, latitud:-0.224688306451, longitud:-0.671366393566, velocidad:1, orientacion:135, fecha:1424178879 deleted!\n",
        "id:3299162020, recurso:tetra:12082781, latitud:-0.22468867898, longitud:-0.671365082264, velocidad:0, orientacion:202, fecha:1424178894 deleted!\n",
        "id:3299162241, recurso:tetra:12082781, latitud:-0.224689796567, longitud:-0.671366751194, velocidad:0, orientacion:0, fecha:1424178943 deleted!\n",
        "id:3299162292, recurso:tetra:12082781, latitud:-0.224689617753, longitud:-0.671366751194, velocidad:0, orientacion:0, fecha:1424178966 deleted!\n",
        "id:3299162436, recurso:tetra:12082781, latitud:-0.224689617753, longitud:-0.671366751194, velocidad:0, orientacion:0, fecha:1424178982 deleted!\n",
        "id:3299162845, recurso:tetra:12082781, latitud:-0.224687173963, longitud:-0.671365439892, velocidad:0, orientacion:0, fecha:1424179033 deleted!\n",
        "id:3299162910, recurso:tetra:12082781, latitud:-0.224687546492, longitud:-0.671365439892, velocidad:0, orientacion:0, fecha:1424179060 deleted!\n",
        "id:3299163028, recurso:tetra:12082781, latitud:-0.224687919021, longitud:-0.671365439892, velocidad:0, orientacion:0, fecha:1424179074 deleted!"
       ]
      },
      {
       "output_type": "stream",
       "stream": "stdout",
       "text": [
        "\n",
        "id:3299163198, recurso:tetra:12082781, latitud:-0.224687546492, longitud:-0.671365857124, velocidad:0, orientacion:0, fecha:1424179122 deleted!\n",
        "id:3299163269, recurso:tetra:12082781, latitud:-0.224687546492, longitud:-0.671366214752, velocidad:0, orientacion:0, fecha:1424179139 deleted!\n",
        "id:3299163383, recurso:tetra:12082781, latitud:-0.224687173963, longitud:-0.671366751194, velocidad:0, orientacion:0, fecha:1424179156 deleted!\n",
        "id:3299163596, recurso:tetra:12082781, latitud:-0.224686995149, longitud:-0.671366751194, velocidad:0, orientacion:0, fecha:1424179223 deleted!\n",
        "id:3299163695, recurso:tetra:12082781, latitud:-0.224687173963, longitud:-0.671366751194, velocidad:0, orientacion:0, fecha:1424179242 deleted!\n",
        "id:3299163789, recurso:tetra:12082781, latitud:-0.224687173963, longitud:-0.671366751194, velocidad:0, orientacion:0, fecha:1424179256 deleted!\n",
        "id:3299164109, recurso:tetra:12082781, latitud:-0.224687173963, longitud:-0.671366930008, velocidad:0, orientacion:0, fecha:1424179311 deleted!"
       ]
      },
      {
       "output_type": "stream",
       "stream": "stdout",
       "text": [
        "\n",
        "id:3299164218, recurso:tetra:12082781, latitud:-0.224687173963, longitud:-0.671366930008, velocidad:0, orientacion:0, fecha:1424179328 deleted!\n",
        "id:3299164295, recurso:tetra:12082781, latitud:-0.224687173963, longitud:-0.671366930008, velocidad:0, orientacion:0, fecha:1424179342 deleted!\n",
        "id:3299164596, recurso:tetra:12082781, latitud:-0.22468867898, longitud:-0.671365439892, velocidad:0, orientacion:0, fecha:1424179399 deleted!\n",
        "id:3299164635, recurso:tetra:12082781, latitud:-0.22468867898, longitud:-0.671365439892, velocidad:0, orientacion:0, fecha:1424179425 deleted!\n",
        "id:3299164759, recurso:tetra:12082781, latitud:-0.224688306451, longitud:-0.671365857124, velocidad:0, orientacion:0, fecha:1424179440 deleted!\n",
        "id:3299164946, recurso:tetra:12082781, latitud:-0.224689051509, longitud:-0.671366751194, velocidad:0, orientacion:0, fecha:1424179494 deleted!\n",
        "id:3299164967, recurso:tetra:12082781, latitud:-0.224688306451, longitud:-0.67136734724, velocidad:0, orientacion:0, fecha:1424179513 deleted!\n",
        "id:3299165105, recurso:tetra:12082781, latitud:-0.22468586266, longitud:-0.671366393566, velocidad:0, orientacion:0, fecha:1424179528 deleted!\n",
        "id:3299165453, recurso:tetra:12082781, latitud:-0.224684000015, longitud:-0.671365857124, velocidad:1, orientacion:225, fecha:1424179588 deleted!\n",
        "id:3299165565, recurso:tetra:12082781, latitud:-0.224684000015, longitud:-0.671366930008, velocidad:1, orientacion:315, fecha:1424179603 deleted!"
       ]
      },
      {
       "output_type": "stream",
       "stream": "stdout",
       "text": [
        "\n",
        "id:3299165670, recurso:tetra:12082781, latitud:-0.224684000015, longitud:-0.671366930008, velocidad:1, orientacion:315, fecha:1424179617 deleted!\n",
        "id:3299165959, recurso:tetra:12082781, latitud:-0.224653467536, longitud:-0.671403110027, velocidad:0, orientacion:112, fecha:1424179676 deleted!\n",
        "id:3299166061, recurso:tetra:12082781, latitud:-0.224653840065, longitud:-0.671402513981, velocidad:7, orientacion:315, fecha:1424179690 deleted!\n",
        "id:3299166222, recurso:tetra:12082781, latitud:-0.224655151367, longitud:-0.67140007019, velocidad:0, orientacion:90, fecha:1424179706 deleted!\n",
        "id:3299166454, recurso:tetra:12082781, latitud:-0.224667698145, longitud:-0.671379327774, velocidad:16, orientacion:315, fecha:1424179769 deleted!\n",
        "id:3299166527, recurso:tetra:12082781, latitud:-0.224668264389, longitud:-0.671378016472, velocidad:3, orientacion:315, fecha:1424179785 deleted!\n",
        "id:3299166587, recurso:tetra:12082781, latitud:-0.224681928754, longitud:-0.671350836754, velocidad:1, orientacion:0, fecha:1424179802 deleted!\n",
        "id:3299166845, recurso:tetra:12082781, latitud:-0.224656656384, longitud:-0.671393156052, velocidad:1, orientacion:135, fecha:1424179847 deleted!\n",
        "id:3299166905, recurso:tetra:12082781, latitud:-0.224654972553, longitud:-0.67139840126, velocidad:0, orientacion:0, fecha:1424179859 deleted!\n",
        "id:3299166916, recurso:tetra:12082781, latitud:-0.224667146802, longitud:-0.671386778355, velocidad:0, orientacion:0, fecha:1424179881 deleted!"
       ]
      },
      {
       "output_type": "stream",
       "stream": "stdout",
       "text": [
        "\n",
        "id:3299167265, recurso:tetra:12082781, latitud:-0.224668264389, longitud:-0.671385705471, velocidad:0, orientacion:0, fecha:1424179940 deleted!\n",
        "id:3299167353, recurso:tetra:12082781, latitud:-0.224668264389, longitud:-0.671385705471, velocidad:0, orientacion:0, fecha:1424179958 deleted!\n",
        "id:3299167448, recurso:tetra:12082781, latitud:-0.224668264389, longitud:-0.671385705471, velocidad:0, orientacion:0, fecha:1424179971 deleted!\n",
        "id:3299167712, recurso:tetra:12082781, latitud:-0.22468586266, longitud:-0.671371042728, velocidad:0, orientacion:315, fecha:1424180026 deleted!\n",
        "id:3299167880, recurso:tetra:12082781, latitud:-0.224685490131, longitud:-0.671371042728, velocidad:0, orientacion:157, fecha:1424180043 deleted!\n",
        "id:3299167976, recurso:tetra:12082781, latitud:-0.224688112736, longitud:-0.671369373798, velocidad:0, orientacion:315, fecha:1424180056 deleted!\n",
        "id:3299168071, recurso:tetra:12082781, latitud:-0.224687546492, longitud:-0.671369969845, velocidad:0, orientacion:0, fecha:1424180120 deleted!\n",
        "id:3299168173, recurso:tetra:12082781, latitud:-0.224687919021, longitud:-0.671370148659, velocidad:0, orientacion:0, fecha:1424180137 deleted!\n",
        "id:3299168257, recurso:tetra:12082781, latitud:-0.224688112736, longitud:-0.671369969845, velocidad:0, orientacion:0, fecha:1424180153 deleted!\n",
        "id:3299168432, recurso:tetra:12082781, latitud:-0.224681183696, longitud:-0.671365439892, velocidad:0, orientacion:202, fecha:1424180201 deleted!"
       ]
      },
      {
       "output_type": "stream",
       "stream": "stdout",
       "text": [
        "\n",
        "id:3299168652, recurso:tetra:12082781, latitud:-0.224681183696, longitud:-0.671365857124, velocidad:0, orientacion:0, fecha:1424180226 deleted!\n",
        "id:3299168751, recurso:tetra:12082781, latitud:-0.224681183696, longitud:-0.671366214752, velocidad:0, orientacion:0, fecha:1424180241 deleted!\n",
        "id:3299168997, recurso:tetra:12082781, latitud:-0.22468586266, longitud:-0.671369373798, velocidad:0, orientacion:0, fecha:1424180288 deleted!\n",
        "id:3299169063, recurso:tetra:12082781, latitud:-0.224686056376, longitud:-0.671369373798, velocidad:0, orientacion:0, fecha:1424180303 deleted!\n",
        "id:3299169206, recurso:tetra:12082781, latitud:-0.224686056376, longitud:-0.671369373798, velocidad:0, orientacion:0, fecha:1424180316 deleted!\n",
        "id:3299169490, recurso:tetra:12082781, latitud:-0.224686056376, longitud:-0.671369016171, velocidad:0, orientacion:0, fecha:1424180373 deleted!\n",
        "id:3299169618, recurso:tetra:12082781, latitud:-0.224684551358, longitud:-0.67136824131, velocidad:0, orientacion:0, fecha:1424180389 deleted!\n",
        "id:3299169743, recurso:tetra:12082781, latitud:-0.224683433771, longitud:-0.67136734724, velocidad:0, orientacion:0, fecha:1424180405 deleted!\n",
        "id:3299169993, recurso:tetra:12082781, latitud:-0.224664330482, longitud:-0.671385705471, velocidad:0, orientacion:0, fecha:1424180474 deleted!\n",
        "id:3299170029, recurso:tetra:12082781, latitud:-0.224670141935, longitud:-0.671380996704, velocidad:0, orientacion:0, fecha:1424180492 deleted!"
       ]
      },
      {
       "output_type": "stream",
       "stream": "stdout",
       "text": [
        "\n",
        "id:3299170125, recurso:tetra:12082781, latitud:-0.224670886993, longitud:-0.671380460262, velocidad:0, orientacion:0, fecha:1424180510 deleted!\n",
        "id:3299170402, recurso:tetra:12082781, latitud:-0.224671259522, longitud:-0.671379864216, velocidad:0, orientacion:0, fecha:1424180570 deleted!\n",
        "id:3299170433, recurso:tetra:12082781, latitud:-0.224669769406, longitud:-0.671380460262, velocidad:0, orientacion:0, fecha:1424180589 deleted!\n",
        "id:3299170580, recurso:tetra:12082781, latitud:-0.224669769406, longitud:-0.671380460262, velocidad:0, orientacion:0, fecha:1424180605 deleted!\n",
        "id:3299170813, recurso:tetra:12082781, latitud:-0.224670320749, longitud:-0.671378910542, velocidad:1, orientacion:0, fecha:1424180652 deleted!\n",
        "id:3299170930, recurso:tetra:12082781, latitud:-0.2246748209, longitud:-0.671376287937, velocidad:0, orientacion:0, fecha:1424180671 deleted!\n",
        "id:3299171039, recurso:tetra:12082781, latitud:-0.224677249789, longitud:-0.671375393867, velocidad:0, orientacion:157, fecha:1424180695 deleted!"
       ]
      },
      {
       "output_type": "stream",
       "stream": "stdout",
       "text": [
        "\n",
        "id:3299171429, recurso:tetra:12082781, latitud:-0.224680244923, longitud:-0.671374619007, velocidad:0, orientacion:22, fecha:1424180741 deleted!\n",
        "id:3299171503, recurso:tetra:12082781, latitud:-0.224680244923, longitud:-0.671374619007, velocidad:0, orientacion:22, fecha:1424180759 deleted!\n",
        "id:3299171568, recurso:tetra:12082781, latitud:-0.224680811167, longitud:-0.671374797821, velocidad:0, orientacion:0, fecha:1424180774 deleted!\n",
        "id:3299171751, recurso:tetra:12082781, latitud:-0.224680244923, longitud:-0.671374797821, velocidad:0, orientacion:0, fecha:1424180837 deleted!\n",
        "id:3299171790, recurso:tetra:12082781, latitud:-0.224680244923, longitud:-0.671374797821, velocidad:0, orientacion:0, fecha:1424180851 deleted!\n",
        "id:3299171866, recurso:tetra:12082781, latitud:-0.224680244923, longitud:-0.671374797821, velocidad:0, orientacion:0, fecha:1424180868 deleted!\n",
        "id:3299172166, recurso:tetra:12082781, latitud:-0.224680244923, longitud:-0.671375393867, velocidad:0, orientacion:0, fecha:1424180919 deleted!\n",
        "id:3299172263, recurso:tetra:12082781, latitud:-0.224680811167, longitud:-0.671375393867, velocidad:0, orientacion:0, fecha:1424180934 deleted!\n",
        "id:3299172364, recurso:tetra:12082781, latitud:-0.224682301283, longitud:-0.671373128891, velocidad:0, orientacion:0, fecha:1424180949 deleted!\n",
        "id:3299172732, recurso:tetra:12082781, latitud:-0.224682301283, longitud:-0.671373128891, velocidad:0, orientacion:0, fecha:1424181013 deleted!"
       ]
      },
      {
       "output_type": "stream",
       "stream": "stdout",
       "text": [
        "\n",
        "id:3299172803, recurso:tetra:12082781, latitud:-0.224682301283, longitud:-0.671373128891, velocidad:0, orientacion:0, fecha:1424181033 deleted!\n",
        "id:3299172977, recurso:tetra:12082781, latitud:-0.224682301283, longitud:-0.671373128891, velocidad:0, orientacion:0, fecha:1424181048 deleted!\n",
        "id:3299173263, recurso:tetra:12082781, latitud:-0.224682301283, longitud:-0.671373128891, velocidad:0, orientacion:0, fecha:1424181097 deleted!\n",
        "id:3299173341, recurso:tetra:12082781, latitud:-0.224682301283, longitud:-0.671373128891, velocidad:0, orientacion:0, fecha:1424181121 deleted!\n",
        "id:3299173467, recurso:tetra:12082781, latitud:-0.224682301283, longitud:-0.671373128891, velocidad:0, orientacion:0, fecha:1424181141 deleted!\n",
        "id:3299173675, recurso:tetra:12082781, latitud:-0.224682301283, longitud:-0.671373128891, velocidad:0, orientacion:0, fecha:1424181190 deleted!\n",
        "id:3299173817, recurso:tetra:12082781, latitud:-0.224682301283, longitud:-0.671373128891, velocidad:0, orientacion:0, fecha:1424181204 deleted!\n",
        "id:3299173925, recurso:tetra:12082781, latitud:-0.224682301283, longitud:-0.671373128891, velocidad:0, orientacion:0, fecha:1424181223 deleted!\n",
        "id:3299174051, recurso:tetra:12082781, latitud:-0.224682301283, longitud:-0.671373128891, velocidad:0, orientacion:0, fecha:1424181279 deleted!"
       ]
      },
      {
       "output_type": "stream",
       "stream": "stdout",
       "text": [
        "\n",
        "id:3299174167, recurso:tetra:12082781, latitud:-0.224682301283, longitud:-0.671373128891, velocidad:0, orientacion:0, fecha:1424181294 deleted!\n",
        "id:3299174255, recurso:tetra:12082781, latitud:-0.224682301283, longitud:-0.671373128891, velocidad:0, orientacion:0, fecha:1424181308 deleted!\n",
        "id:3299174516, recurso:tetra:12082781, latitud:-0.224682301283, longitud:-0.671373128891, velocidad:0, orientacion:0, fecha:1424181396 deleted!\n",
        "id:3299174664, recurso:tetra:12082781, latitud:-0.224682301283, longitud:-0.671373128891, velocidad:0, orientacion:0, fecha:1424181410 deleted!\n",
        "id:3299174816, recurso:tetra:12082781, latitud:-0.224682301283, longitud:-0.671373128891, velocidad:0, orientacion:0, fecha:1424181424 deleted!\n",
        "id:3299175108, recurso:tetra:12082781, latitud:-0.224682301283, longitud:-0.671373128891, velocidad:0, orientacion:0, fecha:1424181474 deleted!\n",
        "id:3299175131, recurso:tetra:12082781, latitud:-0.224686056376, longitud:-0.671371638775, velocidad:0, orientacion:0, fecha:1424181503 deleted!\n",
        "id:3299175211, recurso:tetra:12082781, latitud:-0.224688112736, longitud:-0.671371042728, velocidad:0, orientacion:0, fecha:1424181515 deleted!\n",
        "id:3299175423, recurso:tetra:12082781, latitud:-0.224688306451, longitud:-0.671368837357, velocidad:0, orientacion:0, fecha:1424181565 deleted!\n",
        "id:3299175538, recurso:tetra:12082781, latitud:-0.224687546492, longitud:-0.671369969845, velocidad:0, orientacion:0, fecha:1424181579 deleted!"
       ]
      },
      {
       "output_type": "stream",
       "stream": "stdout",
       "text": [
        "\n",
        "id:3299175639, recurso:tetra:12082781, latitud:-0.224688112736, longitud:-0.671371042728, velocidad:0, orientacion:0, fecha:1424181611 deleted!\n",
        "id:3299175942, recurso:tetra:12082781, latitud:-0.22468867898, longitud:-0.671369552612, velocidad:0, orientacion:0, fecha:1424181670 deleted!\n",
        "id:3299176014, recurso:tetra:12082781, latitud:-0.22468867898, longitud:-0.671369373798, velocidad:0, orientacion:0, fecha:1424181687 deleted!\n",
        "id:3299176071, recurso:tetra:12082781, latitud:-0.22468867898, longitud:-0.671369373798, velocidad:0, orientacion:0, fecha:1424181703 deleted!\n",
        "id:3299176483, recurso:tetra:12082781, latitud:-0.22468867898, longitud:-0.671369373798, velocidad:0, orientacion:0, fecha:1424181763 deleted!\n",
        "id:3299176569, recurso:tetra:12082781, latitud:-0.22468867898, longitud:-0.671369373798, velocidad:0, orientacion:0, fecha:1424181777 deleted!\n",
        "id:3299176661, recurso:tetra:12082781, latitud:-0.22468867898, longitud:-0.671369373798, velocidad:0, orientacion:0, fecha:1424181794 deleted!\n",
        "id:3299176959, recurso:tetra:12082781, latitud:-0.22468867898, longitud:-0.671369373798, velocidad:0, orientacion:0, fecha:1424181849 deleted!\n",
        "id:3299177042, recurso:tetra:12082781, latitud:-0.224688112736, longitud:-0.671369373798, velocidad:0, orientacion:0, fecha:1424181863 deleted!\n",
        "id:3299177078, recurso:tetra:12082781, latitud:-0.224688112736, longitud:-0.671369373798, velocidad:0, orientacion:0, fecha:1424181877 deleted!"
       ]
      },
      {
       "output_type": "stream",
       "stream": "stdout",
       "text": [
        "\n",
        "id:3299177388, recurso:tetra:12082781, latitud:-0.224686607718, longitud:-0.671369552612, velocidad:0, orientacion:0, fecha:1424181926 deleted!\n",
        "id:3299177456, recurso:tetra:12082781, latitud:-0.224686995149, longitud:-0.671369552612, velocidad:0, orientacion:0, fecha:1424181946 deleted!\n",
        "id:3299177462, recurso:tetra:12082781, latitud:-0.224685117602, longitud:-0.671370148659, velocidad:0, orientacion:0, fecha:1424181968 deleted!\n",
        "id:3299177746, recurso:tetra:12082781, latitud:-0.224682301283, longitud:-0.671370506287, velocidad:0, orientacion:0, fecha:1424182023 deleted!\n",
        "id:3299177792, recurso:tetra:12082781, latitud:-0.224681183696, longitud:-0.671370506287, velocidad:0, orientacion:0, fecha:1424182039 deleted!\n",
        "id:3299177922, recurso:tetra:12082781, latitud:-0.224688306451, longitud:-0.671368837357, velocidad:1, orientacion:0, fecha:1424182082 deleted!"
       ]
      },
      {
       "output_type": "stream",
       "stream": "stdout",
       "text": [
        "\n",
        "id:3299178273, recurso:tetra:12082781, latitud:-0.224684000015, longitud:-0.671369373798, velocidad:0, orientacion:0, fecha:1424182144 deleted!\n",
        "id:3299178392, recurso:tetra:12082781, latitud:-0.22468586266, longitud:-0.671369016171, velocidad:0, orientacion:0, fecha:1424182163 deleted!\n",
        "id:3299178429, recurso:tetra:12082781, latitud:-0.224684923887, longitud:-0.671369373798, velocidad:0, orientacion:0, fecha:1424182180 deleted!\n",
        "id:3299178647, recurso:tetra:12082781, latitud:-0.224685490131, longitud:-0.671369373798, velocidad:0, orientacion:0, fecha:1424182235 deleted!\n",
        "id:3299178749, recurso:tetra:12082781, latitud:-0.224685490131, longitud:-0.671369373798, velocidad:0, orientacion:0, fecha:1424182257 deleted!"
       ]
      },
      {
       "output_type": "stream",
       "stream": "stdout",
       "text": [
        "\n",
        "id:3299178831, recurso:tetra:12082781, latitud:-0.224685490131, longitud:-0.671369373798, velocidad:0, orientacion:0, fecha:1424182276 deleted!\n",
        "id:3299179129, recurso:tetra:12082781, latitud:-0.224685490131, longitud:-0.671369373798, velocidad:0, orientacion:0, fecha:1424182326 deleted!\n",
        "id:3299179178, recurso:tetra:12082781, latitud:-0.224685490131, longitud:-0.671369373798, velocidad:0, orientacion:0, fecha:1424182339 deleted!\n",
        "id:3299179238, recurso:tetra:12082781, latitud:-0.224685490131, longitud:-0.671369373798, velocidad:0, orientacion:0, fecha:1424182362 deleted!\n",
        "id:3299179561, recurso:tetra:12082781, latitud:-0.224685490131, longitud:-0.671369373798, velocidad:0, orientacion:0, fecha:1424182410 deleted!\n",
        "id:3299179644, recurso:tetra:12082781, latitud:-0.224685490131, longitud:-0.671369016171, velocidad:0, orientacion:0, fecha:1424182424 deleted!\n",
        "id:3299179762, recurso:tetra:12082781, latitud:-0.224685490131, longitud:-0.671369016171, velocidad:0, orientacion:0, fecha:1424182435 deleted!"
       ]
      },
      {
       "output_type": "stream",
       "stream": "stdout",
       "text": [
        "\n",
        "id:3299180096, recurso:tetra:12082781, latitud:-0.224685490131, longitud:-0.671369016171, velocidad:0, orientacion:0, fecha:1424182490 deleted!\n",
        "id:3299180177, recurso:tetra:12082781, latitud:-0.224685490131, longitud:-0.671369552612, velocidad:0, orientacion:0, fecha:1424182506 deleted!\n",
        "id:3299180235, recurso:tetra:12082781, latitud:-0.224685490131, longitud:-0.671369552612, velocidad:0, orientacion:0, fecha:1424182523 deleted!\n",
        "id:3299180561, recurso:tetra:12082781, latitud:-0.224685117602, longitud:-0.671369552612, velocidad:0, orientacion:0, fecha:1424182592 deleted!\n",
        "id:3299180604, recurso:tetra:12082781, latitud:-0.224685117602, longitud:-0.671369552612, velocidad:0, orientacion:0, fecha:1424182607 deleted!\n",
        "id:3299180631, recurso:tetra:12082781, latitud:-0.224685490131, longitud:-0.671369552612, velocidad:0, orientacion:0, fecha:1424182622 deleted!\n",
        "id:3299180994, recurso:tetra:12082781, latitud:-0.22468586266, longitud:-0.671369552612, velocidad:0, orientacion:0, fecha:1424182675 deleted!\n",
        "id:3299180997, recurso:tetra:12082781, latitud:-0.224686428905, longitud:-0.671369552612, velocidad:0, orientacion:0, fecha:1424182709 deleted!\n",
        "id:3299181175, recurso:tetra:12082781, latitud:-0.224686607718, longitud:-0.671369552612, velocidad:0, orientacion:0, fecha:1424182725 deleted!"
       ]
      },
      {
       "output_type": "stream",
       "stream": "stdout",
       "text": [
        "\n",
        "id:3299181343, recurso:tetra:12082781, latitud:-0.224687546492, longitud:-0.671369552612, velocidad:0, orientacion:0, fecha:1424182769 deleted!\n",
        "id:3299181493, recurso:tetra:12082781, latitud:-0.224687173963, longitud:-0.671369552612, velocidad:0, orientacion:0, fecha:1424182786 deleted!\n",
        "id:3299181568, recurso:tetra:12082781, latitud:-0.224687173963, longitud:-0.671369552612, velocidad:0, orientacion:0, fecha:1424182809 deleted!\n",
        "id:3299181923, recurso:tetra:12082781, latitud:-0.224686995149, longitud:-0.671369552612, velocidad:0, orientacion:0, fecha:1424182855 deleted!\n",
        "id:3299182005, recurso:tetra:12082781, latitud:-0.224686995149, longitud:-0.671369552612, velocidad:1, orientacion:180, fecha:1424182871 deleted!\n",
        "id:3299182085, recurso:tetra:12082781, latitud:-0.224686607718, longitud:-0.671369969845, velocidad:0, orientacion:0, fecha:1424182886 deleted!\n",
        "id:3299182224, recurso:tetra:12082781, latitud:-0.224685490131, longitud:-0.671369552612, velocidad:0, orientacion:0, fecha:1424182939 deleted!"
       ]
      },
      {
       "output_type": "stream",
       "stream": "stdout",
       "text": [
        "\n",
        "id:3299182337, recurso:tetra:12082781, latitud:-0.224685490131, longitud:-0.671369552612, velocidad:0, orientacion:0, fecha:1424182955 deleted!\n",
        "id:3299182378, recurso:tetra:12082781, latitud:-0.224685490131, longitud:-0.671369552612, velocidad:0, orientacion:0, fecha:1424182967 deleted!\n",
        "id:3299182688, recurso:tetra:12082781, latitud:-0.224685490131, longitud:-0.671369552612, velocidad:0, orientacion:0, fecha:1424183018 deleted!\n",
        "id:3299182756, recurso:tetra:12082781, latitud:-0.224685490131, longitud:-0.671369552612, velocidad:0, orientacion:0, fecha:1424183032 deleted!\n",
        "id:3299182788, recurso:tetra:12082781, latitud:-0.224685490131, longitud:-0.671369552612, velocidad:0, orientacion:0, fecha:1424183052 deleted!\n",
        "id:3299183075, recurso:tetra:12082781, latitud:-0.224687919021, longitud:-0.671369969845, velocidad:0, orientacion:0, fecha:1424183100 deleted!\n",
        "id:3299183159, recurso:tetra:12082781, latitud:-0.224687919021, longitud:-0.671369969845, velocidad:0, orientacion:0, fecha:1424183116 deleted!\n",
        "id:3299183328, recurso:tetra:12082781, latitud:-0.224687546492, longitud:-0.671369969845, velocidad:0, orientacion:0, fecha:1424183143 deleted!\n",
        "id:3299183670, recurso:tetra:12082781, latitud:-0.224686056376, longitud:-0.671369552612, velocidad:0, orientacion:0, fecha:1424183192 deleted!"
       ]
      },
      {
       "output_type": "stream",
       "stream": "stdout",
       "text": [
        "\n",
        "id:3299183733, recurso:tetra:12082781, latitud:-0.224686056376, longitud:-0.671369373798, velocidad:0, orientacion:0, fecha:1424183210 deleted!\n",
        "id:3299183919, recurso:tetra:12082781, latitud:-0.224685490131, longitud:-0.671369016171, velocidad:0, orientacion:0, fecha:1424183231 deleted!\n",
        "id:3299184139, recurso:tetra:12082781, latitud:-0.224685117602, longitud:-0.671368837357, velocidad:0, orientacion:0, fecha:1424183276 deleted!\n",
        "id:3299184281, recurso:tetra:12082781, latitud:-0.224684923887, longitud:-0.671368479729, velocidad:0, orientacion:0, fecha:1424183293 deleted!\n",
        "id:3299184432, recurso:tetra:12082781, latitud:-0.224684551358, longitud:-0.67136824131, velocidad:0, orientacion:0, fecha:1424183306 deleted!\n",
        "id:3299184526, recurso:tetra:12082781, latitud:-0.224685490131, longitud:-0.671367883682, velocidad:0, orientacion:45, fecha:1424183376 deleted!\n",
        "id:3299184610, recurso:tetra:12082781, latitud:-0.224686056376, longitud:-0.67136824131, velocidad:0, orientacion:315, fecha:1424183394 deleted!\n",
        "id:3299184747, recurso:tetra:12082781, latitud:-0.224686428905, longitud:-0.671367883682, velocidad:0, orientacion:0, fecha:1424183407 deleted!\n",
        "id:3299185116, recurso:tetra:12082781, latitud:-0.224686056376, longitud:-0.671367883682, velocidad:0, orientacion:0, fecha:1424183460 deleted!\n",
        "id:3299185279, recurso:tetra:12082781, latitud:-0.224685490131, longitud:-0.671368479729, velocidad:0, orientacion:0, fecha:1424183478 deleted!"
       ]
      },
      {
       "output_type": "stream",
       "stream": "stdout",
       "text": [
        "\n",
        "id:3299185340, recurso:tetra:12082781, latitud:-0.22468586266, longitud:-0.67136824131, velocidad:0, orientacion:0, fecha:1424183491 deleted!\n",
        "id:3299185530, recurso:tetra:12082781, latitud:-0.224686056376, longitud:-0.671368479729, velocidad:0, orientacion:0, fecha:1424183541 deleted!\n",
        "id:3299185700, recurso:tetra:12082781, latitud:-0.224686056376, longitud:-0.671368479729, velocidad:0, orientacion:0, fecha:1424183559 deleted!\n",
        "id:3299185709, recurso:tetra:12082781, latitud:-0.224686056376, longitud:-0.671368479729, velocidad:0, orientacion:0, fecha:1424183575 deleted!\n",
        "id:3299185926, recurso:tetra:12082781, latitud:-0.224686056376, longitud:-0.671369016171, velocidad:0, orientacion:0, fecha:1424183632 deleted!\n",
        "id:3299186050, recurso:tetra:12082781, latitud:-0.224686056376, longitud:-0.671369016171, velocidad:0, orientacion:0, fecha:1424183646 deleted!\n",
        "id:3299186130, recurso:tetra:12082781, latitud:-0.224686056376, longitud:-0.671369016171, velocidad:0, orientacion:0, fecha:1424183660 deleted!"
       ]
      },
      {
       "output_type": "stream",
       "stream": "stdout",
       "text": [
        "\n",
        "id:3299186476, recurso:tetra:12082781, latitud:-0.224686428905, longitud:-0.671369016171, velocidad:0, orientacion:0, fecha:1424183719 deleted!\n",
        "id:3299186555, recurso:tetra:12082781, latitud:-0.224686607718, longitud:-0.671369373798, velocidad:0, orientacion:0, fecha:1424183736 deleted!\n",
        "id:3299186721, recurso:tetra:12082781, latitud:-0.224686607718, longitud:-0.671368837357, velocidad:0, orientacion:0, fecha:1424183753 deleted!\n",
        "id:3299187009, recurso:tetra:12082781, latitud:-0.224686607718, longitud:-0.671368479729, velocidad:0, orientacion:0, fecha:1424183815 deleted!\n",
        "id:3299187080, recurso:tetra:12082781, latitud:-0.224686607718, longitud:-0.671368479729, velocidad:0, orientacion:0, fecha:1424183829 deleted!"
       ]
      },
      {
       "output_type": "stream",
       "stream": "stdout",
       "text": [
        "\n",
        "id:3299187177, recurso:tetra:12082781, latitud:-0.224686607718, longitud:-0.67136824131, velocidad:0, orientacion:0, fecha:1424183843 deleted!\n",
        "id:3299187380, recurso:tetra:12082781, latitud:-0.224686995149, longitud:-0.67136824131, velocidad:1, orientacion:225, fecha:1424183884 deleted!\n",
        "id:3299187563, recurso:tetra:12082781, latitud:-0.224685117602, longitud:-0.671366930008, velocidad:0, orientacion:0, fecha:1424183908 deleted!\n",
        "id:3299187663, recurso:tetra:12082781, latitud:-0.224685117602, longitud:-0.671366930008, velocidad:0, orientacion:0, fecha:1424183924 deleted!\n",
        "id:3299187853, recurso:tetra:12082781, latitud:-0.224685117602, longitud:-0.671366930008, velocidad:0, orientacion:0, fecha:1424183968 deleted!\n",
        "id:3299187983, recurso:tetra:12082781, latitud:-0.224685490131, longitud:-0.67136734724, velocidad:0, orientacion:0, fecha:1424183982 deleted!\n",
        "id:3299188071, recurso:tetra:12082781, latitud:-0.224685117602, longitud:-0.67136734724, velocidad:0, orientacion:0, fecha:1424184000 deleted!\n",
        "id:3299188295, recurso:tetra:12082781, latitud:-0.224685117602, longitud:-0.67136734724, velocidad:0, orientacion:0, fecha:1424184059 deleted!\n",
        "id:3299188421, recurso:tetra:12082781, latitud:-0.224685117602, longitud:-0.67136734724, velocidad:0, orientacion:0, fecha:1424184073 deleted!\n",
        "id:3299188566, recurso:tetra:12082781, latitud:-0.224685490131, longitud:-0.67136734724, velocidad:0, orientacion:0, fecha:1424184090 deleted!"
       ]
      },
      {
       "output_type": "stream",
       "stream": "stdout",
       "text": [
        "\n",
        "id:3299188818, recurso:tetra:12082781, latitud:-0.22468586266, longitud:-0.67136734724, velocidad:0, orientacion:0, fecha:1424184148 deleted!\n",
        "id:3299188942, recurso:tetra:12082781, latitud:-0.22468586266, longitud:-0.67136734724, velocidad:0, orientacion:0, fecha:1424184167 deleted!\n",
        "id:3299189005, recurso:tetra:12082781, latitud:-0.22468586266, longitud:-0.671366930008, velocidad:0, orientacion:0, fecha:1424184184 deleted!\n",
        "id:3299189272, recurso:tetra:12082781, latitud:-0.22468586266, longitud:-0.67136734724, velocidad:0, orientacion:0, fecha:1424184234 deleted!\n",
        "id:3299189287, recurso:tetra:12082781, latitud:-0.224686428905, longitud:-0.67136824131, velocidad:0, orientacion:0, fecha:1424184259 deleted!\n",
        "id:3299189437, recurso:tetra:12082781, latitud:-0.224686607718, longitud:-0.671368479729, velocidad:0, orientacion:0, fecha:1424184272 deleted!\n",
        "id:3299189599, recurso:tetra:12082781, latitud:-0.224686607718, longitud:-0.671368479729, velocidad:0, orientacion:0, fecha:1424184332 deleted!\n",
        "id:3299189667, recurso:tetra:12082781, latitud:-0.224686428905, longitud:-0.671368479729, velocidad:0, orientacion:0, fecha:1424184348 deleted!\n",
        "id:3299189806, recurso:tetra:12082781, latitud:-0.224686428905, longitud:-0.671368479729, velocidad:0, orientacion:0, fecha:1424184365 deleted!\n",
        "id:3299190134, recurso:tetra:12082781, latitud:-0.224686428905, longitud:-0.671367526054, velocidad:0, orientacion:0, fecha:1424184426 deleted!"
       ]
      },
      {
       "output_type": "stream",
       "stream": "stdout",
       "text": [
        "\n",
        "id:3299190315, recurso:tetra:12082781, latitud:-0.224686056376, longitud:-0.671366930008, velocidad:0, orientacion:0, fecha:1424184444 deleted!\n",
        "id:3299190381, recurso:tetra:12082781, latitud:-0.224686056376, longitud:-0.671366930008, velocidad:0, orientacion:0, fecha:1424184460 deleted!\n",
        "id:3299190635, recurso:tetra:12082781, latitud:-0.224686428905, longitud:-0.67136824131, velocidad:0, orientacion:45, fecha:1424184515 deleted!\n",
        "id:3299190732, recurso:tetra:12082781, latitud:-0.224686056376, longitud:-0.671367526054, velocidad:0, orientacion:67, fecha:1424184533 deleted!\n",
        "id:3299190801, recurso:tetra:12082781, latitud:-0.224685490131, longitud:-0.671366930008, velocidad:0, orientacion:67, fecha:1424184547 deleted!\n",
        "id:3299191185, recurso:tetra:12082781, latitud:-0.224686607718, longitud:-0.671368837357, velocidad:0, orientacion:0, fecha:1424184601 deleted!\n",
        "id:3299191242, recurso:tetra:12082781, latitud:-0.224686995149, longitud:-0.671369016171, velocidad:0, orientacion:0, fecha:1424184617 deleted!\n",
        "id:3299191260, recurso:tetra:12082781, latitud:-0.224686995149, longitud:-0.671369016171, velocidad:0, orientacion:0, fecha:1424184630 deleted!\n",
        "id:3299191495, recurso:tetra:12082781, latitud:-0.224687173963, longitud:-0.671368837357, velocidad:0, orientacion:202, fecha:1424184682 deleted!"
       ]
      },
      {
       "output_type": "stream",
       "stream": "stdout",
       "text": [
        "\n",
        "id:3299191609, recurso:tetra:12082781, latitud:-0.224686607718, longitud:-0.67136824131, velocidad:0, orientacion:0, fecha:1424184697 deleted!\n",
        "id:3299191633, recurso:tetra:12082781, latitud:-0.224686607718, longitud:-0.671367883682, velocidad:0, orientacion:0, fecha:1424184727 deleted!\n",
        "id:3299191923, recurso:tetra:12082781, latitud:-0.224686995149, longitud:-0.671367883682, velocidad:0, orientacion:0, fecha:1424184784 deleted!\n",
        "id:3299192073, recurso:tetra:12082781, latitud:-0.224686995149, longitud:-0.671367526054, velocidad:0, orientacion:0, fecha:1424184798 deleted!\n",
        "id:3299192149, recurso:tetra:12082781, latitud:-0.224687919021, longitud:-0.671365439892, velocidad:0, orientacion:0, fecha:1424184814 deleted!\n",
        "id:3299192421, recurso:tetra:12082781, latitud:-0.224687919021, longitud:-0.671365439892, velocidad:0, orientacion:0, fecha:1424184874 deleted!\n",
        "id:3299192480, recurso:tetra:12082781, latitud:-0.224687919021, longitud:-0.671365439892, velocidad:0, orientacion:0, fecha:1424184886 deleted!\n",
        "id:3299192538, recurso:tetra:12082781, latitud:-0.224687919021, longitud:-0.671365439892, velocidad:0, orientacion:0, fecha:1424184898 deleted!\n",
        "id:3299192799, recurso:tetra:12082781, latitud:-0.224687919021, longitud:-0.671365439892, velocidad:0, orientacion:0, fecha:1424184941 deleted!\n",
        "id:3299192830, recurso:tetra:12082781, latitud:-0.224687919021, longitud:-0.671365439892, velocidad:0, orientacion:0, fecha:1424184961 deleted!"
       ]
      },
      {
       "output_type": "stream",
       "stream": "stdout",
       "text": [
        "\n",
        "id:3299192966, recurso:tetra:12082781, latitud:-0.224687919021, longitud:-0.671365439892, velocidad:0, orientacion:0, fecha:1424184979 deleted!\n",
        "id:3299193148, recurso:tetra:12082781, latitud:-0.224687546492, longitud:-0.671366214752, velocidad:0, orientacion:0, fecha:1424185023 deleted!\n",
        "id:3299193189, recurso:tetra:12082781, latitud:-0.224687919021, longitud:-0.67136734724, velocidad:0, orientacion:0, fecha:1424185044 deleted!\n",
        "id:3299193357, recurso:tetra:12082781, latitud:-0.224686428905, longitud:-0.671365439892, velocidad:0, orientacion:0, fecha:1424185066 deleted!\n",
        "id:3299193693, recurso:tetra:12082781, latitud:-0.224686607718, longitud:-0.671365261078, velocidad:0, orientacion:0, fecha:1424185122 deleted!\n",
        "id:3299193839, recurso:tetra:12082781, latitud:-0.224686428905, longitud:-0.671365261078, velocidad:0, orientacion:0, fecha:1424185140 deleted!\n",
        "id:3299193904, recurso:tetra:12082781, latitud:-0.224686056376, longitud:-0.671365857124, velocidad:0, orientacion:0, fecha:1424185158 deleted!\n",
        "id:3299194072, recurso:tetra:12082781, latitud:-0.22468586266, longitud:-0.671365857124, velocidad:0, orientacion:0, fecha:1424185220 deleted!\n",
        "id:3299194163, recurso:tetra:12082781, latitud:-0.22468586266, longitud:-0.671365857124, velocidad:0, orientacion:0, fecha:1424185236 deleted!\n",
        "id:3299194227, recurso:tetra:12082781, latitud:-0.22468586266, longitud:-0.671365857124, velocidad:0, orientacion:0, fecha:1424185250 deleted!"
       ]
      },
      {
       "output_type": "stream",
       "stream": "stdout",
       "text": [
        "\n",
        "id:3299194585, recurso:tetra:12082781, latitud:-0.224686056376, longitud:-0.671365857124, velocidad:0, orientacion:0, fecha:1424185308 deleted!\n",
        "id:3299194706, recurso:tetra:12082781, latitud:-0.224686056376, longitud:-0.671365857124, velocidad:0, orientacion:0, fecha:1424185326 deleted!\n",
        "id:3299194754, recurso:tetra:12082781, latitud:-0.224686056376, longitud:-0.671365857124, velocidad:0, orientacion:0, fecha:1424185347 deleted!\n",
        "id:3299195011, recurso:tetra:12082781, latitud:-0.224686056376, longitud:-0.671365857124, velocidad:0, orientacion:0, fecha:1424185388 deleted!\n",
        "id:3299195129, recurso:tetra:12082781, latitud:-0.224686056376, longitud:-0.671365857124, velocidad:0, orientacion:0, fecha:1424185401 deleted!\n",
        "id:3299195143, recurso:tetra:12082781, latitud:-0.224686056376, longitud:-0.671365857124, velocidad:0, orientacion:0, fecha:1424185420 deleted!"
       ]
      },
      {
       "output_type": "stream",
       "stream": "stdout",
       "text": [
        "\n",
        "id:3299195467, recurso:tetra:12082781, latitud:-0.224686056376, longitud:-0.671365857124, velocidad:0, orientacion:0, fecha:1424185490 deleted!\n",
        "id:3299195609, recurso:tetra:12082781, latitud:-0.224686056376, longitud:-0.671365857124, velocidad:0, orientacion:0, fecha:1424185501 deleted!\n",
        "id:3299195637, recurso:tetra:12082781, latitud:-0.224686056376, longitud:-0.671365857124, velocidad:0, orientacion:0, fecha:1424185514 deleted!\n",
        "id:3299195879, recurso:tetra:12082781, latitud:-0.224686056376, longitud:-0.671365857124, velocidad:0, orientacion:0, fecha:1424185570 deleted!"
       ]
      },
      {
       "output_type": "stream",
       "stream": "stdout",
       "text": [
        "\n",
        "id:3299196047, recurso:tetra:12082781, latitud:-0.224686056376, longitud:-0.671365857124, velocidad:0, orientacion:0, fecha:1424185587 deleted!\n",
        "id:3299196242, recurso:tetra:12082781, latitud:-0.224686428905, longitud:-0.671366214752, velocidad:0, orientacion:0, fecha:1424185602 deleted!\n",
        "id:3299196312, recurso:tetra:12082781, latitud:-0.224686995149, longitud:-0.671367526054, velocidad:0, orientacion:0, fecha:1424185659 deleted!\n",
        "id:3299196444, recurso:tetra:12082781, latitud:-0.224686995149, longitud:-0.671367526054, velocidad:0, orientacion:0, fecha:1424185673 deleted!\n",
        "id:3299196516, recurso:tetra:12082781, latitud:-0.224686995149, longitud:-0.671367526054, velocidad:0, orientacion:0, fecha:1424185695 deleted!\n",
        "id:3299196661, recurso:tetra:12082781, latitud:-0.224686995149, longitud:-0.671366393566, velocidad:0, orientacion:0, fecha:1424185742 deleted!\n",
        "id:3299196694, recurso:tetra:12082781, latitud:-0.224686995149, longitud:-0.671366393566, velocidad:0, orientacion:0, fecha:1424185757 deleted!\n",
        "id:3299196841, recurso:tetra:12082781, latitud:-0.224686607718, longitud:-0.671365857124, velocidad:0, orientacion:0, fecha:1424185774 deleted!\n",
        "id:3299197138, recurso:tetra:12082781, latitud:-0.224686428905, longitud:-0.671366393566, velocidad:0, orientacion:0, fecha:1424185827 deleted!\n",
        "id:3299197256, recurso:tetra:12082781, latitud:-0.224686056376, longitud:-0.671366393566, velocidad:0, orientacion:0, fecha:1424185846 deleted!"
       ]
      },
      {
       "output_type": "stream",
       "stream": "stdout",
       "text": [
        "\n",
        "id:3299197367, recurso:tetra:12082781, latitud:-0.224686056376, longitud:-0.671366393566, velocidad:0, orientacion:0, fecha:1424185861 deleted!\n",
        "id:3299197690, recurso:tetra:12082781, latitud:-0.224684372544, longitud:-0.67136824131, velocidad:0, orientacion:0, fecha:1424185923 deleted!\n",
        "id:3299197829, recurso:tetra:12082781, latitud:-0.224684551358, longitud:-0.67136824131, velocidad:0, orientacion:0, fecha:1424185939 deleted!\n",
        "id:3299197978, recurso:tetra:12082781, latitud:-0.224684551358, longitud:-0.671367883682, velocidad:0, orientacion:0, fecha:1424185958 deleted!\n",
        "id:3299198247, recurso:tetra:12082781, latitud:-0.224684923887, longitud:-0.67136734724, velocidad:0, orientacion:0, fecha:1424186013 deleted!\n",
        "id:3299198280, recurso:tetra:12082781, latitud:-0.224684923887, longitud:-0.671367526054, velocidad:0, orientacion:0, fecha:1424186026 deleted!\n",
        "id:3299198336, recurso:tetra:12082781, latitud:-0.224684923887, longitud:-0.671367526054, velocidad:0, orientacion:0, fecha:1424186045 deleted!\n",
        "id:3299198530, recurso:tetra:12082781, latitud:-0.224684923887, longitud:-0.671367526054, velocidad:0, orientacion:0, fecha:1424186092 deleted!"
       ]
      },
      {
       "output_type": "stream",
       "stream": "stdout",
       "text": [
        "\n",
        "id:3299198652, recurso:tetra:12082781, latitud:-0.224684923887, longitud:-0.67136734724, velocidad:0, orientacion:0, fecha:1424186107 deleted!\n",
        "id:3299198657, recurso:tetra:12082781, latitud:-0.224684923887, longitud:-0.67136734724, velocidad:0, orientacion:0, fecha:1424186137 deleted!\n",
        "id:3299198946, recurso:tetra:12082781, latitud:-0.224684923887, longitud:-0.67136734724, velocidad:0, orientacion:0, fecha:1424186187 deleted!\n",
        "id:3299199090, recurso:tetra:12082781, latitud:-0.224684551358, longitud:-0.671367526054, velocidad:0, orientacion:0, fecha:1424186205 deleted!\n",
        "id:3299199185, recurso:tetra:12082781, latitud:-0.224684551358, longitud:-0.671367526054, velocidad:0, orientacion:0, fecha:1424186221 deleted!\n",
        "id:3299199525, recurso:tetra:12082781, latitud:-0.224684923887, longitud:-0.67136734724, velocidad:0, orientacion:0, fecha:1424186284 deleted!\n",
        "id:3299199723, recurso:tetra:12082781, latitud:-0.224684923887, longitud:-0.671367526054, velocidad:0, orientacion:0, fecha:1424186299 deleted!\n",
        "id:3299199778, recurso:tetra:12082781, latitud:-0.224685117602, longitud:-0.671367883682, velocidad:0, orientacion:0, fecha:1424186314 deleted!\n",
        "id:3299199929, recurso:tetra:12082781, latitud:-0.224685490131, longitud:-0.67136824131, velocidad:0, orientacion:0, fecha:1424186373 deleted!"
       ]
      },
      {
       "output_type": "stream",
       "stream": "stdout",
       "text": [
        "\n",
        "id:3299200020, recurso:tetra:12082781, latitud:-0.224685117602, longitud:-0.67136824131, velocidad:0, orientacion:0, fecha:1424186392 deleted!\n",
        "id:3299200036, recurso:tetra:12082781, latitud:-0.224685117602, longitud:-0.67136824131, velocidad:0, orientacion:0, fecha:1424186409 deleted!\n",
        "id:3299200232, recurso:tetra:12082781, latitud:-0.224685117602, longitud:-0.67136824131, velocidad:0, orientacion:0, fecha:1424186452 deleted!\n",
        "id:3299200396, recurso:tetra:12082781, latitud:-0.224685117602, longitud:-0.67136824131, velocidad:0, orientacion:0, fecha:1424186467 deleted!\n",
        "id:3299200416, recurso:tetra:12082781, latitud:-0.224685117602, longitud:-0.67136824131, velocidad:0, orientacion:0, fecha:1424186493 deleted!\n",
        "id:3299200764, recurso:tetra:12082781, latitud:-0.224685490131, longitud:-0.67136824131, velocidad:0, orientacion:180, fecha:1424186549 deleted!\n",
        "id:3299200874, recurso:tetra:12082781, latitud:-0.224685490131, longitud:-0.67136824131, velocidad:0, orientacion:0, fecha:1424186574 deleted!\n",
        "id:3299200977, recurso:tetra:12082781, latitud:-0.224685490131, longitud:-0.67136824131, velocidad:0, orientacion:0, fecha:1424186598 deleted!\n",
        "id:3299201414, recurso:tetra:12082781, latitud:-0.224685490131, longitud:-0.67136824131, velocidad:0, orientacion:0, fecha:1424186644 deleted!"
       ]
      },
      {
       "output_type": "stream",
       "stream": "stdout",
       "text": [
        "\n",
        "id:3299201490, recurso:tetra:12082781, latitud:-0.224685490131, longitud:-0.67136824131, velocidad:0, orientacion:0, fecha:1424186660 deleted!\n",
        "id:3299201551, recurso:tetra:12082781, latitud:-0.224685490131, longitud:-0.67136824131, velocidad:0, orientacion:0, fecha:1424186677 deleted!\n",
        "id:3299201776, recurso:tetra:12082781, latitud:-0.224685490131, longitud:-0.67136824131, velocidad:0, orientacion:0, fecha:1424186733 deleted!\n",
        "id:3299201840, recurso:tetra:12082781, latitud:-0.224685490131, longitud:-0.67136824131, velocidad:0, orientacion:0, fecha:1424186752 deleted!\n",
        "id:3299201888, recurso:tetra:12082781, latitud:-0.224685490131, longitud:-0.67136824131, velocidad:0, orientacion:0, fecha:1424186765 deleted!\n",
        "id:3299202148, recurso:tetra:12082781, latitud:-0.224685490131, longitud:-0.67136824131, velocidad:0, orientacion:0, fecha:1424186826 deleted!\n",
        "id:3299202206, recurso:tetra:12082781, latitud:-0.224685490131, longitud:-0.67136824131, velocidad:0, orientacion:0, fecha:1424186838 deleted!"
       ]
      },
      {
       "output_type": "stream",
       "stream": "stdout",
       "text": [
        "\n",
        "id:3299202373, recurso:tetra:12082781, latitud:-0.224685117602, longitud:-0.67136824131, velocidad:0, orientacion:0, fecha:1424186855 deleted!\n",
        "id:3299202605, recurso:tetra:12082781, latitud:-0.224685117602, longitud:-0.67136824131, velocidad:0, orientacion:0, fecha:1424186909 deleted!\n",
        "id:3299202722, recurso:tetra:12082781, latitud:-0.224685117602, longitud:-0.67136824131, velocidad:0, orientacion:0, fecha:1424186935 deleted!\n",
        "id:3299202863, recurso:tetra:12082781, latitud:-0.224685117602, longitud:-0.671368479729, velocidad:0, orientacion:0, fecha:1424186954 deleted!\n",
        "id:3299203245, recurso:tetra:12082781, latitud:-0.224689051509, longitud:-0.671362996101, velocidad:0, orientacion:0, fecha:1424187004 deleted!\n",
        "id:3299203318, recurso:tetra:12082781, latitud:-0.224688112736, longitud:-0.671363770962, velocidad:0, orientacion:0, fecha:1424187021 deleted!\n",
        "id:3299203344, recurso:tetra:12082781, latitud:-0.224687919021, longitud:-0.67136412859, velocidad:0, orientacion:0, fecha:1424187054 deleted!"
       ]
      },
      {
       "output_type": "stream",
       "stream": "stdout",
       "text": [
        "\n",
        "id:3299203539, recurso:tetra:12082781, latitud:-0.224687919021, longitud:-0.67136412859, velocidad:0, orientacion:0, fecha:1424187102 deleted!\n",
        "id:3299203595, recurso:tetra:12082781, latitud:-0.224687919021, longitud:-0.67136412859, velocidad:0, orientacion:0, fecha:1424187120 deleted!\n",
        "id:3299203678, recurso:tetra:12082781, latitud:-0.224687919021, longitud:-0.67136412859, velocidad:0, orientacion:0, fecha:1424187134 deleted!\n",
        "id:3299204035, recurso:tetra:12082781, latitud:-0.224687919021, longitud:-0.67136412859, velocidad:0, orientacion:0, fecha:1424187201 deleted!\n",
        "id:3299204155, recurso:tetra:12082781, latitud:-0.224687919021, longitud:-0.67136412859, velocidad:0, orientacion:0, fecha:1424187216 deleted!\n",
        "id:3299204249, recurso:tetra:12082781, latitud:-0.224687919021, longitud:-0.67136412859, velocidad:0, orientacion:0, fecha:1424187233 deleted!\n",
        "id:3299204503, recurso:tetra:12082781, latitud:-0.224687919021, longitud:-0.67136412859, velocidad:0, orientacion:0, fecha:1424187289 deleted!"
       ]
      },
      {
       "output_type": "stream",
       "stream": "stdout",
       "text": [
        "\n",
        "id:3299204692, recurso:tetra:12082781, latitud:-0.224687919021, longitud:-0.67136412859, velocidad:0, orientacion:0, fecha:1424187308 deleted!\n",
        "id:3299204821, recurso:tetra:12082781, latitud:-0.224687919021, longitud:-0.67136412859, velocidad:0, orientacion:0, fecha:1424187326 deleted!\n",
        "id:3299205079, recurso:tetra:12082781, latitud:-0.22468586266, longitud:-0.671366214752, velocidad:0, orientacion:0, fecha:1424187371 deleted!\n",
        "id:3299205143, recurso:tetra:12082781, latitud:-0.224685117602, longitud:-0.671366751194, velocidad:0, orientacion:0, fecha:1424187397 deleted!\n",
        "id:3299205258, recurso:tetra:12082781, latitud:-0.224685117602, longitud:-0.671366930008, velocidad:0, orientacion:0, fecha:1424187412 deleted!\n",
        "id:3299205409, recurso:tetra:12082781, latitud:-0.224685117602, longitud:-0.67136734724, velocidad:0, orientacion:0, fecha:1424187457 deleted!\n",
        "id:3299205522, recurso:tetra:12082781, latitud:-0.224684923887, longitud:-0.671367526054, velocidad:0, orientacion:0, fecha:1424187474 deleted!\n",
        "id:3299205661, recurso:tetra:12082781, latitud:-0.224685117602, longitud:-0.671368837357, velocidad:0, orientacion:0, fecha:1424187493 deleted!"
       ]
      },
      {
       "output_type": "stream",
       "stream": "stdout",
       "text": [
        "\n",
        "id:3299205807, recurso:tetra:12082781, latitud:-0.224685490131, longitud:-0.671369016171, velocidad:0, orientacion:0, fecha:1424187554 deleted!\n",
        "id:3299205965, recurso:tetra:12082781, latitud:-0.224684551358, longitud:-0.671366930008, velocidad:0, orientacion:0, fecha:1424187570 deleted!\n",
        "id:3299206031, recurso:tetra:12082781, latitud:-0.224684372544, longitud:-0.671366393566, velocidad:0, orientacion:0, fecha:1424187582 deleted!\n",
        "id:3299206400, recurso:tetra:12082781, latitud:-0.224684551358, longitud:-0.671366393566, velocidad:0, orientacion:0, fecha:1424187648 deleted!\n",
        "id:3299206471, recurso:tetra:12082781, latitud:-0.224684551358, longitud:-0.671366751194, velocidad:0, orientacion:0, fecha:1424187662 deleted!\n",
        "id:3299206604, recurso:tetra:12082781, latitud:-0.224684551358, longitud:-0.671366751194, velocidad:0, orientacion:0, fecha:1424187679 deleted!\n",
        "id:3299206832, recurso:tetra:12082781, latitud:-0.224684551358, longitud:-0.671366751194, velocidad:0, orientacion:0, fecha:1424187724 deleted!"
       ]
      },
      {
       "output_type": "stream",
       "stream": "stdout",
       "text": [
        "\n",
        "id:3299206835, recurso:tetra:12082781, latitud:-0.224684551358, longitud:-0.671366751194, velocidad:0, orientacion:0, fecha:1424187750 deleted!\n",
        "id:3299206950, recurso:tetra:12082781, latitud:-0.224684551358, longitud:-0.671366751194, velocidad:0, orientacion:0, fecha:1424187766 deleted!\n",
        "id:3299207129, recurso:tetra:12082781, latitud:-0.224684551358, longitud:-0.671366751194, velocidad:0, orientacion:0, fecha:1424187815 deleted!\n",
        "id:3299207284, recurso:tetra:12082781, latitud:-0.224684551358, longitud:-0.671366751194, velocidad:0, orientacion:0, fecha:1424187831 deleted!\n",
        "id:3299207398, recurso:tetra:12082781, latitud:-0.224684551358, longitud:-0.671366751194, velocidad:0, orientacion:0, fecha:1424187847 deleted!\n",
        "id:3299207712, recurso:tetra:12082781, latitud:-0.224684551358, longitud:-0.671366393566, velocidad:0, orientacion:0, fecha:1424187913 deleted!\n",
        "id:3299207764, recurso:tetra:12082781, latitud:-0.224684923887, longitud:-0.671366393566, velocidad:0, orientacion:0, fecha:1424187931 deleted!\n",
        "id:3299207861, recurso:tetra:12082781, latitud:-0.224684923887, longitud:-0.671366393566, velocidad:0, orientacion:0, fecha:1424187945 deleted!\n",
        "id:3299208168, recurso:tetra:12082781, latitud:-0.224684923887, longitud:-0.671366393566, velocidad:0, orientacion:0, fecha:1424188002 deleted!"
       ]
      },
      {
       "output_type": "stream",
       "stream": "stdout",
       "text": [
        "\n",
        "id:3299208256, recurso:tetra:12082781, latitud:-0.224684923887, longitud:-0.671366393566, velocidad:0, orientacion:0, fecha:1424188016 deleted!\n",
        "id:3299208354, recurso:tetra:12082781, latitud:-0.224684923887, longitud:-0.671366393566, velocidad:0, orientacion:0, fecha:1424188032 deleted!\n",
        "id:3299208704, recurso:tetra:12082781, latitud:-0.224685117602, longitud:-0.671366751194, velocidad:0, orientacion:22, fecha:1424188093 deleted!\n",
        "id:3299208771, recurso:tetra:12082781, latitud:-0.224685490131, longitud:-0.671366930008, velocidad:0, orientacion:0, fecha:1424188109 deleted!\n",
        "id:3299208785, recurso:tetra:12082781, latitud:-0.224685490131, longitud:-0.671366930008, velocidad:0, orientacion:0, fecha:1424188125 deleted!\n",
        "id:3299209133, recurso:tetra:12082781, latitud:-0.22468586266, longitud:-0.67136734724, velocidad:0, orientacion:0, fecha:1424188170 deleted!\n",
        "id:3299209156, recurso:tetra:12082781, latitud:-0.224685490131, longitud:-0.671368837357, velocidad:0, orientacion:0, fecha:1424188190 deleted!"
       ]
      },
      {
       "output_type": "stream",
       "stream": "stdout",
       "text": [
        "\n",
        "id:3299209173, recurso:tetra:12082781, latitud:-0.224685490131, longitud:-0.671368479729, velocidad:0, orientacion:135, fecha:1424188210 deleted!\n",
        "id:3299209478, recurso:tetra:12082781, latitud:-0.224686056376, longitud:-0.671368479729, velocidad:0, orientacion:0, fecha:1424188266 deleted!\n",
        "id:3299209537, recurso:tetra:12082781, latitud:-0.224686056376, longitud:-0.671368479729, velocidad:0, orientacion:0, fecha:1424188282 deleted!\n",
        "id:3299209567, recurso:tetra:12082781, latitud:-0.224686056376, longitud:-0.671368479729, velocidad:0, orientacion:0, fecha:1424188296 deleted!\n",
        "id:3299209929, recurso:tetra:12082781, latitud:-0.224686056376, longitud:-0.671368479729, velocidad:0, orientacion:0, fecha:1424188355 deleted!\n",
        "id:3299210050, recurso:tetra:12082781, latitud:-0.224686056376, longitud:-0.671368479729, velocidad:0, orientacion:0, fecha:1424188370 deleted!\n",
        "id:3299210138, recurso:tetra:12082781, latitud:-0.224686056376, longitud:-0.671368479729, velocidad:0, orientacion:0, fecha:1424188385 deleted!\n",
        "id:3299210344, recurso:tetra:12082781, latitud:-0.224686056376, longitud:-0.671368479729, velocidad:0, orientacion:0, fecha:1424188440 deleted!"
       ]
      },
      {
       "output_type": "stream",
       "stream": "stdout",
       "text": [
        "\n",
        "id:3299210432, recurso:tetra:12082781, latitud:-0.224684372544, longitud:-0.671367526054, velocidad:0, orientacion:0, fecha:1424188471 deleted!\n",
        "id:3299210522, recurso:tetra:12082781, latitud:-0.224684372544, longitud:-0.67136734724, velocidad:0, orientacion:45, fecha:1424188487 deleted!\n",
        "id:3299210805, recurso:tetra:12082781, latitud:-0.22468586266, longitud:-0.671370148659, velocidad:0, orientacion:0, fecha:1424188526 deleted!\n",
        "id:3299210867, recurso:tetra:12082781, latitud:-0.22468586266, longitud:-0.671370148659, velocidad:0, orientacion:0, fecha:1424188539 deleted!\n",
        "id:3299210929, recurso:tetra:12082781, latitud:-0.224689617753, longitud:-0.67136734724, velocidad:0, orientacion:0, fecha:1424188564 deleted!\n",
        "id:3299211214, recurso:tetra:12082781, latitud:-0.224692419171, longitud:-0.671365261078, velocidad:0, orientacion:0, fecha:1424188604 deleted!\n",
        "id:3299211272, recurso:tetra:12082781, latitud:-0.224692419171, longitud:-0.671365261078, velocidad:0, orientacion:0, fecha:1424188621 deleted!\n",
        "id:3299211400, recurso:tetra:12082781, latitud:-0.224689796567, longitud:-0.67136824131, velocidad:0, orientacion:315, fecha:1424188634 deleted!"
       ]
      },
      {
       "output_type": "stream",
       "stream": "stdout",
       "text": [
        "\n",
        "id:3299211721, recurso:tetra:12082781, latitud:-0.224686056376, longitud:-0.671371638775, velocidad:0, orientacion:0, fecha:1424188697 deleted!\n",
        "id:3299211831, recurso:tetra:12082781, latitud:-0.224685117602, longitud:-0.671370148659, velocidad:0, orientacion:315, fecha:1424188716 deleted!\n",
        "id:3299211884, recurso:tetra:12082781, latitud:-0.224683433771, longitud:-0.671366751194, velocidad:0, orientacion:112, fecha:1424188731 deleted!\n",
        "id:3299212239, recurso:tetra:12082781, latitud:-0.2246838063, longitud:-0.67136734724, velocidad:0, orientacion:270, fecha:1424188789 deleted!\n",
        "id:3299212273, recurso:tetra:12082781, latitud:-0.224686428905, longitud:-0.671371996403, velocidad:0, orientacion:0, fecha:1424188806 deleted!\n",
        "id:3299212313, recurso:tetra:12082781, latitud:-0.224686607718, longitud:-0.671371996403, velocidad:0, orientacion:0, fecha:1424188820 deleted!\n",
        "id:3299212640, recurso:tetra:12082781, latitud:-0.224686607718, longitud:-0.671371996403, velocidad:0, orientacion:0, fecha:1424188881 deleted!\n",
        "id:3299212657, recurso:tetra:12082781, latitud:-0.224694475532, longitud:-0.67136323452, velocidad:0, orientacion:0, fecha:1424188919 deleted!\n",
        "id:3299212677, recurso:tetra:12082781, latitud:-0.224692419171, longitud:-0.671364724636, velocidad:0, orientacion:0, fecha:1424188936 deleted!\n",
        "id:3299213023, recurso:tetra:12082781, latitud:-0.224687173963, longitud:-0.671368479729, velocidad:0, orientacion:0, fecha:1424188982 deleted!"
       ]
      },
      {
       "output_type": "stream",
       "stream": "stdout",
       "text": [
        "\n",
        "id:3299213146, recurso:tetra:12082781, latitud:-0.224686607718, longitud:-0.671368837357, velocidad:0, orientacion:0, fecha:1424188996 deleted!\n",
        "id:3299213247, recurso:tetra:12082781, latitud:-0.224686607718, longitud:-0.671368837357, velocidad:0, orientacion:0, fecha:1424189023 deleted!\n",
        "id:3299213590, recurso:tetra:12082781, latitud:-0.22468586266, longitud:-0.671368837357, velocidad:0, orientacion:0, fecha:1424189062 deleted!\n",
        "id:3299213657, recurso:tetra:12082781, latitud:-0.224685490131, longitud:-0.671368479729, velocidad:0, orientacion:0, fecha:1424189077 deleted!\n",
        "id:3299213747, recurso:tetra:12082781, latitud:-0.224685117602, longitud:-0.671368479729, velocidad:0, orientacion:0, fecha:1424189092 deleted!\n",
        "id:3299213940, recurso:tetra:12082781, latitud:-0.224682494998, longitud:-0.671369373798, velocidad:0, orientacion:0, fecha:1424189144 deleted!\n",
        "id:3299214019, recurso:tetra:12082781, latitud:-0.224676132202, longitud:-0.671370148659, velocidad:0, orientacion:135, fecha:1424189164 deleted!\n",
        "id:3299214036, recurso:tetra:12082781, latitud:-0.224678754807, longitud:-0.671369016171, velocidad:3, orientacion:0, fecha:1424189181 deleted!\n",
        "id:3299214346, recurso:tetra:12082781, latitud:-0.224682301283, longitud:-0.671367526054, velocidad:0, orientacion:0, fecha:1424189227 deleted!"
       ]
      },
      {
       "output_type": "stream",
       "stream": "stdout",
       "text": [
        "\n",
        "id:3299214405, recurso:tetra:12082781, latitud:-0.224685117602, longitud:-0.671366751194, velocidad:0, orientacion:0, fecha:1424189248 deleted!\n",
        "id:3299214436, recurso:tetra:12082781, latitud:-0.224687173963, longitud:-0.671365857124, velocidad:1, orientacion:157, fecha:1424189264 deleted!\n",
        "id:3299214977, recurso:tetra:12082781, latitud:-0.224682494998, longitud:-0.671368479729, velocidad:0, orientacion:0, fecha:1424189347 deleted!\n",
        "id:3299215036, recurso:tetra:12082781, latitud:-0.224683433771, longitud:-0.671368837357, velocidad:0, orientacion:0, fecha:1424189363 deleted!\n",
        "id:3299215171, recurso:tetra:12082781, latitud:-0.224684372544, longitud:-0.671368479729, velocidad:0, orientacion:0, fecha:1424189378 deleted!\n",
        "id:3299215416, recurso:tetra:12082781, latitud:-0.224684372544, longitud:-0.671368837357, velocidad:0, orientacion:0, fecha:1424189426 deleted!\n",
        "id:3299215536, recurso:tetra:12082781, latitud:-0.224684372544, longitud:-0.671368837357, velocidad:0, orientacion:0, fecha:1424189439 deleted!\n",
        "id:3299215622, recurso:tetra:12082781, latitud:-0.224684923887, longitud:-0.671368837357, velocidad:0, orientacion:0, fecha:1424189467 deleted!\n",
        "id:3299215853, recurso:tetra:12082781, latitud:-0.224689796567, longitud:-0.671366751194, velocidad:0, orientacion:0, fecha:1424189513 deleted!\n",
        "id:3299215947, recurso:tetra:12082781, latitud:-0.224689796567, longitud:-0.671366751194, velocidad:0, orientacion:0, fecha:1424189527 deleted!"
       ]
      },
      {
       "output_type": "stream",
       "stream": "stdout",
       "text": [
        "\n",
        "id:3299216086, recurso:tetra:12082781, latitud:-0.224689796567, longitud:-0.671366751194, velocidad:0, orientacion:0, fecha:1424189542 deleted!\n",
        "id:3299216174, recurso:tetra:12082781, latitud:-0.224689796567, longitud:-0.671366751194, velocidad:0, orientacion:0, fecha:1424189615 deleted!\n",
        "id:3299216366, recurso:tetra:12082781, latitud:-0.224689796567, longitud:-0.671366751194, velocidad:0, orientacion:0, fecha:1424189628 deleted!\n",
        "id:3299216431, recurso:tetra:12082781, latitud:-0.224689796567, longitud:-0.671366751194, velocidad:0, orientacion:0, fecha:1424189646 deleted!\n",
        "id:3299216783, recurso:tetra:12082781, latitud:-0.224689796567, longitud:-0.671366751194, velocidad:0, orientacion:0, fecha:1424189701 deleted!\n",
        "id:3299216920, recurso:tetra:12082781, latitud:-0.224689796567, longitud:-0.671366751194, velocidad:0, orientacion:0, fecha:1424189717 deleted!\n",
        "id:3299217028, recurso:tetra:12082781, latitud:-0.224689796567, longitud:-0.671366751194, velocidad:0, orientacion:0, fecha:1424189734 deleted!\n",
        "id:3299217338, recurso:tetra:12082781, latitud:-0.224689796567, longitud:-0.671366751194, velocidad:0, orientacion:0, fecha:1424189785 deleted!\n",
        "id:3299217343, recurso:tetra:12082781, latitud:-0.224689796567, longitud:-0.671366751194, velocidad:0, orientacion:0, fecha:1424189807 deleted!\n",
        "id:3299217398, recurso:tetra:12082781, latitud:-0.224689796567, longitud:-0.671366751194, velocidad:0, orientacion:0, fecha:1424189824 deleted!"
       ]
      },
      {
       "output_type": "stream",
       "stream": "stdout",
       "text": [
        "\n",
        "id:3299217553, recurso:tetra:12082781, latitud:-0.224689796567, longitud:-0.671366751194, velocidad:0, orientacion:0, fecha:1424189869 deleted!\n",
        "id:3299217674, recurso:tetra:12082781, latitud:-0.224689796567, longitud:-0.671366751194, velocidad:0, orientacion:0, fecha:1424189883 deleted!\n",
        "id:3299217762, recurso:tetra:12082781, latitud:-0.224689796567, longitud:-0.671366751194, velocidad:0, orientacion:0, fecha:1424189900 deleted!\n",
        "id:3299218070, recurso:tetra:12082781, latitud:-0.224689796567, longitud:-0.671366751194, velocidad:0, orientacion:0, fecha:1424189963 deleted!\n",
        "id:3299218149, recurso:tetra:12082781, latitud:-0.224689796567, longitud:-0.671366751194, velocidad:0, orientacion:0, fecha:1424189977 deleted!\n",
        "id:3299218261, recurso:tetra:12082781, latitud:-0.224689796567, longitud:-0.671366751194, velocidad:0, orientacion:0, fecha:1424189991 deleted!\n",
        "id:3299218660, recurso:tetra:12082781, latitud:-0.224689796567, longitud:-0.671366751194, velocidad:0, orientacion:0, fecha:1424190045 deleted!\n",
        "id:3299218762, recurso:tetra:12082781, latitud:-0.224689796567, longitud:-0.671366751194, velocidad:0, orientacion:0, fecha:1424190061 deleted!\n",
        "id:3299218832, recurso:tetra:12082781, latitud:-0.224689796567, longitud:-0.671366751194, velocidad:0, orientacion:0, fecha:1424190077 deleted!\n",
        "id:3299219133, recurso:tetra:12082781, latitud:-0.224689796567, longitud:-0.671366751194, velocidad:0, orientacion:0, fecha:1424190135 deleted!"
       ]
      },
      {
       "output_type": "stream",
       "stream": "stdout",
       "text": [
        "\n",
        "id:3299219243, recurso:tetra:12082781, latitud:-0.224689796567, longitud:-0.671366751194, velocidad:0, orientacion:0, fecha:1424190150 deleted!\n",
        "id:3299219285, recurso:tetra:12082781, latitud:-0.224689796567, longitud:-0.671366751194, velocidad:0, orientacion:0, fecha:1424190166 deleted!\n",
        "id:3299219472, recurso:tetra:12082781, latitud:-0.224689796567, longitud:-0.671366751194, velocidad:0, orientacion:0, fecha:1424190213 deleted!\n",
        "id:3299219596, recurso:tetra:12082781, latitud:-0.224689796567, longitud:-0.671366751194, velocidad:0, orientacion:0, fecha:1424190232 deleted!\n",
        "id:3299219682, recurso:tetra:12082781, latitud:-0.224689796567, longitud:-0.671366751194, velocidad:0, orientacion:0, fecha:1424190251 deleted!\n",
        "id:3299219972, recurso:tetra:12082781, latitud:-0.224689796567, longitud:-0.671366751194, velocidad:0, orientacion:0, fecha:1424190336 deleted!\n",
        "id:3299220154, recurso:tetra:12082781, latitud:-0.224689796567, longitud:-0.671366751194, velocidad:0, orientacion:0, fecha:1424190349 deleted!\n",
        "id:3299220219, recurso:tetra:12082781, latitud:-0.224686428905, longitud:-0.671369969845, velocidad:0, orientacion:0, fecha:1424190364 deleted!\n",
        "id:3299220514, recurso:tetra:12082781, latitud:-0.224696919322, longitud:-0.67134052515, velocidad:29, orientacion:45, fecha:1424190423 deleted!"
       ]
      },
      {
       "output_type": "stream",
       "stream": "stdout",
       "text": [
        "\n",
        "id:3299220596, recurso:tetra:12082781, latitud:-0.224671259522, longitud:-0.671333611012, velocidad:14, orientacion:22, fecha:1424190440 deleted!\n",
        "id:3299220642, recurso:tetra:12082781, latitud:-0.224667698145, longitud:-0.671334385872, velocidad:0, orientacion:0, fecha:1424190455 deleted!\n",
        "id:3299220871, recurso:tetra:12082781, latitud:-0.224706843495, longitud:-0.671341478825, velocidad:27, orientacion:202, fecha:1424190497 deleted!\n",
        "id:3299220893, recurso:tetra:12082781, latitud:-0.224732488394, longitud:-0.671345770359, velocidad:48, orientacion:180, fecha:1424190519 deleted!\n",
        "id:3299221031, recurso:tetra:12082781, latitud:-0.224754780531, longitud:-0.671348035336, velocidad:22, orientacion:202, fecha:1424190538 deleted!\n",
        "id:3299221222, recurso:tetra:12082781, latitud:-0.224794849753, longitud:-0.671360611916, velocidad:11, orientacion:225, fecha:1424190583 deleted!\n",
        "id:3299221334, recurso:tetra:12082781, latitud:-0.224793717265, longitud:-0.671360373497, velocidad:0, orientacion:0, fecha:1424190595 deleted!\n",
        "id:3299221413, recurso:tetra:12082781, latitud:-0.224793717265, longitud:-0.671360611916, velocidad:0, orientacion:0, fecha:1424190609 deleted!"
       ]
      },
      {
       "output_type": "stream",
       "stream": "stdout",
       "text": [
        "\n",
        "id:3299221756, recurso:tetra:12082781, latitud:-0.224794849753, longitud:-0.671362280846, velocidad:0, orientacion:0, fecha:1424190665 deleted!\n",
        "id:3299221957, recurso:tetra:12082781, latitud:-0.224794849753, longitud:-0.671362638474, velocidad:0, orientacion:0, fecha:1424190679 deleted!\n",
        "id:3299222008, recurso:tetra:12082781, latitud:-0.224795222282, longitud:-0.67136323452, velocidad:0, orientacion:0, fecha:1424190698 deleted!\n",
        "id:3299222321, recurso:tetra:12082781, latitud:-0.224795222282, longitud:-0.671362638474, velocidad:0, orientacion:0, fecha:1424190755 deleted!\n",
        "id:3299222383, recurso:tetra:12082781, latitud:-0.224795222282, longitud:-0.671362638474, velocidad:0, orientacion:0, fecha:1424190770 deleted!\n",
        "id:3299222437, recurso:tetra:12082781, latitud:-0.224795222282, longitud:-0.671362280846, velocidad:0, orientacion:0, fecha:1424190783 deleted!\n",
        "id:3299222822, recurso:tetra:12082781, latitud:-0.224794849753, longitud:-0.671361923218, velocidad:0, orientacion:0, fecha:1424190840 deleted!"
       ]
      },
      {
       "output_type": "stream",
       "stream": "stdout",
       "text": [
        "\n",
        "id:3299222866, recurso:tetra:12082781, latitud:-0.224794849753, longitud:-0.671361923218, velocidad:0, orientacion:0, fecha:1424190864 deleted!\n",
        "id:3299222901, recurso:tetra:12082781, latitud:-0.224794849753, longitud:-0.671361923218, velocidad:0, orientacion:0, fecha:1424190879 deleted!\n",
        "id:3299223168, recurso:tetra:12082781, latitud:-0.224794656038, longitud:-0.671361505985, velocidad:0, orientacion:0, fecha:1424190925 deleted!\n",
        "id:3299223255, recurso:tetra:12082781, latitud:-0.224794656038, longitud:-0.671361148357, velocidad:0, orientacion:0, fecha:1424190940 deleted!\n",
        "id:3299223258, recurso:tetra:12082781, latitud:-0.224794656038, longitud:-0.671361148357, velocidad:0, orientacion:0, fecha:1424190966 deleted!\n",
        "id:3299223598, recurso:tetra:12082781, latitud:-0.224794283509, longitud:-0.671360611916, velocidad:0, orientacion:0, fecha:1424191012 deleted!\n",
        "id:3299223778, recurso:tetra:12082781, latitud:-0.22479391098, longitud:-0.671360373497, velocidad:0, orientacion:0, fecha:1424191030 deleted!"
       ]
      },
      {
       "output_type": "stream",
       "stream": "stdout",
       "text": [
        "\n",
        "id:3299223839, recurso:tetra:12082781, latitud:-0.22479391098, longitud:-0.671360373497, velocidad:0, orientacion:0, fecha:1424191044 deleted!\n",
        "id:3299224107, recurso:tetra:12082781, latitud:-0.22479391098, longitud:-0.671359837055, velocidad:0, orientacion:0, fecha:1424191100 deleted!\n",
        "id:3299224187, recurso:tetra:12082781, latitud:-0.224793717265, longitud:-0.671359837055, velocidad:0, orientacion:0, fecha:1424191115 deleted!\n",
        "id:3299224240, recurso:tetra:12082781, latitud:-0.224793717265, longitud:-0.671359837055, velocidad:0, orientacion:0, fecha:1424191128 deleted!\n",
        "id:3299224615, recurso:tetra:12082781, latitud:-0.224793717265, longitud:-0.671359837055, velocidad:0, orientacion:0, fecha:1424191204 deleted!\n",
        "id:3299224660, recurso:tetra:12082781, latitud:-0.224793344736, longitud:-0.671359479427, velocidad:0, orientacion:0, fecha:1424191221 deleted!\n",
        "id:3299224695, recurso:tetra:12082781, latitud:-0.224793344736, longitud:-0.671359479427, velocidad:0, orientacion:0, fecha:1424191244 deleted!"
       ]
      },
      {
       "output_type": "stream",
       "stream": "stdout",
       "text": [
        "\n",
        "id:3299224930, recurso:tetra:12082781, latitud:-0.224793344736, longitud:-0.671359062195, velocidad:0, orientacion:0, fecha:1424191296 deleted!\n",
        "id:3299225043, recurso:tetra:12082781, latitud:-0.224793165922, longitud:-0.671359062195, velocidad:0, orientacion:0, fecha:1424191314 deleted!\n",
        "id:3299225115, recurso:tetra:12082781, latitud:-0.224806457758, longitud:-0.671379506588, velocidad:25, orientacion:270, fecha:1424191341 deleted!\n",
        "id:3299225588, recurso:tetra:12082781, latitud:-0.224806830287, longitud:-0.6713950634, velocidad:0, orientacion:67, fecha:1424191388 deleted!\n",
        "id:3299225631, recurso:tetra:12082781, latitud:-0.224820688367, longitud:-0.671396136284, velocidad:35, orientacion:180, fecha:1424191404 deleted!\n",
        "id:3299225682, recurso:tetra:12082781, latitud:-0.224837914109, longitud:-0.671398997307, velocidad:35, orientacion:180, fecha:1424191420 deleted!\n",
        "id:3299225981, recurso:tetra:12082781, latitud:-0.224843159318, longitud:-0.671398997307, velocidad:0, orientacion:0, fecha:1424191475 deleted!"
       ]
      },
      {
       "output_type": "stream",
       "stream": "stdout",
       "text": [
        "\n",
        "id:3299226054, recurso:tetra:12082781, latitud:-0.224843159318, longitud:-0.671398997307, velocidad:0, orientacion:0, fecha:1424191491 deleted!\n",
        "id:3299226238, recurso:tetra:12082781, latitud:-0.224843159318, longitud:-0.671398997307, velocidad:0, orientacion:0, fecha:1424191503 deleted!\n",
        "id:3299226531, recurso:tetra:12082781, latitud:-0.224843159318, longitud:-0.671399354935, velocidad:0, orientacion:0, fecha:1424191560 deleted!\n",
        "id:3299226544, recurso:tetra:12082781, latitud:-0.224843159318, longitud:-0.671398997307, velocidad:0, orientacion:0, fecha:1424191572 deleted!\n",
        "id:3299226631, recurso:tetra:12082781, latitud:-0.224843159318, longitud:-0.671398997307, velocidad:0, orientacion:0, fecha:1424191585 deleted!\n",
        "id:3299226944, recurso:tetra:12082781, latitud:-0.224843725562, longitud:-0.671398997307, velocidad:3, orientacion:180, fecha:1424191636 deleted!\n",
        "id:3299226958, recurso:tetra:12082781, latitud:-0.224856644869, longitud:-0.671398758888, velocidad:33, orientacion:180, fecha:1424191657 deleted!"
       ]
      },
      {
       "output_type": "stream",
       "stream": "stdout",
       "text": [
        "\n",
        "id:3299226961, recurso:tetra:12082781, latitud:-0.224878743291, longitud:-0.671402156353, velocidad:11, orientacion:202, fecha:1424191669 deleted!\n",
        "id:3299227260, recurso:tetra:12082781, latitud:-0.224932104349, longitud:-0.671444296837, velocidad:11, orientacion:270, fecha:1424191725 deleted!\n",
        "id:3299227351, recurso:tetra:12082781, latitud:-0.224932670593, longitud:-0.67145627737, velocidad:3, orientacion:292, fecha:1424191739 deleted!\n",
        "id:3299227493, recurso:tetra:12082781, latitud:-0.224925547838, longitud:-0.671467721462, velocidad:14, orientacion:315, fecha:1424191757 deleted!\n",
        "id:3299227772, recurso:tetra:12082781, latitud:-0.224936783314, longitud:-0.671504974365, velocidad:0, orientacion:0, fecha:1424191826 deleted!\n",
        "id:3299227869, recurso:tetra:12082781, latitud:-0.224936783314, longitud:-0.671505153179, velocidad:0, orientacion:0, fecha:1424191841 deleted!\n",
        "id:3299227945, recurso:tetra:12082781, latitud:-0.224936783314, longitud:-0.671505153179, velocidad:0, orientacion:0, fecha:1424191859 deleted!"
       ]
      },
      {
       "output_type": "stream",
       "stream": "stdout",
       "text": [
        "\n",
        "id:3299228268, recurso:tetra:12082781, latitud:-0.224951952696, longitud:-0.671509802341, velocidad:16, orientacion:202, fecha:1424191924 deleted!\n",
        "id:3299228385, recurso:tetra:12082781, latitud:-0.224961876869, longitud:-0.67151337862, velocidad:14, orientacion:247, fecha:1424191943 deleted!\n",
        "id:3299230579, recurso:tetra:12082781, latitud:-0.224790170789, longitud:-0.671591639519, velocidad:0, orientacion:90, fecha:1424192358 deleted!\n",
        "id:3299230728, recurso:tetra:12082781, latitud:-0.224758148193, longitud:-0.671574056149, velocidad:52, orientacion:22, fecha:1424192416 deleted!\n",
        "id:3299230894, recurso:tetra:12082781, latitud:-0.224730804563, longitud:-0.67156881094, velocidad:59, orientacion:0, fecha:1424192429 deleted!\n",
        "id:3299230970, recurso:tetra:12082781, latitud:-0.224698036909, longitud:-0.671562790871, velocidad:63, orientacion:0, fecha:1424192441 deleted!\n",
        "id:3299231342, recurso:tetra:12082781, latitud:-0.224570885301, longitud:-0.671544492245, velocidad:25, orientacion:90, fecha:1424192498 deleted!"
       ]
      },
      {
       "output_type": "stream",
       "stream": "stdout",
       "text": [
        "\n",
        "id:3299231473, recurso:tetra:12082781, latitud:-0.224566027522, longitud:-0.671525001526, velocidad:40, orientacion:90, fecha:1424192510 deleted!\n",
        "id:3299231586, recurso:tetra:12082781, latitud:-0.224569961429, longitud:-0.671507775784, velocidad:35, orientacion:112, fecha:1424192524 deleted!\n",
        "id:3299231924, recurso:tetra:12082781, latitud:-0.22459936142, longitud:-0.671458303928, velocidad:35, orientacion:135, fecha:1424192572 deleted!\n",
        "id:3299231944, recurso:tetra:12082781, latitud:-0.224619209766, longitud:-0.671415805817, velocidad:35, orientacion:112, fecha:1424192608 deleted!\n",
        "id:3299232082, recurso:tetra:12082781, latitud:-0.224610209465, longitud:-0.67139428854, velocidad:25, orientacion:90, fecha:1424192624 deleted!\n",
        "id:3299232174, recurso:tetra:12082781, latitud:-0.224612280726, longitud:-0.671324074268, velocidad:33, orientacion:112, fecha:1424192666 deleted!\n",
        "id:3299232278, recurso:tetra:12082781, latitud:-0.224597662687, longitud:-0.671296536922, velocidad:50, orientacion:67, fecha:1424192683 deleted!"
       ]
      },
      {
       "output_type": "stream",
       "stream": "stdout",
       "text": [
        "\n",
        "id:3299232334, recurso:tetra:12082781, latitud:-0.22458268702, longitud:-0.671269953251, velocidad:45, orientacion:90, fecha:1424192698 deleted!\n",
        "id:3299232607, recurso:tetra:12082781, latitud:-0.224466398358, longitud:-0.671212494373, velocidad:35, orientacion:45, fecha:1424192765 deleted!\n",
        "id:3299232779, recurso:tetra:12082781, latitud:-0.22447258234, longitud:-0.6712038517, velocidad:33, orientacion:180, fecha:1424192780 deleted!\n",
        "id:3299232893, recurso:tetra:12082781, latitud:-0.224492430687, longitud:-0.671205341816, velocidad:31, orientacion:112, fecha:1424192796 deleted!\n",
        "id:3299233180, recurso:tetra:12082781, latitud:-0.224522575736, longitud:-0.671093583107, velocidad:59, orientacion:135, fecha:1424192848 deleted!\n",
        "id:3299233374, recurso:tetra:12082781, latitud:-0.224564522505, longitud:-0.671034216881, velocidad:95, orientacion:135, fecha:1424192868 deleted!\n",
        "id:3299233535, recurso:tetra:12082781, latitud:-0.224616214633, longitud:-0.670996367931, velocidad:54, orientacion:135, fecha:1424192889 deleted!"
       ]
      },
      {
       "output_type": "stream",
       "stream": "stdout",
       "text": [
        "\n",
        "id:3299233849, recurso:tetra:12082781, latitud:-0.224742412567, longitud:-0.670946359634, velocidad:52, orientacion:202, fecha:1424192948 deleted!\n",
        "id:3299234038, recurso:tetra:12082781, latitud:-0.22489990294, longitud:-0.670978426933, velocidad:88, orientacion:202, fecha:1424192994 deleted!\n",
        "id:3299234123, recurso:tetra:12082781, latitud:-0.224944651127, longitud:-0.670983850956, velocidad:59, orientacion:180, fecha:1424193009 deleted!\n",
        "id:3299234438, recurso:tetra:12082781, latitud:-0.225031346083, longitud:-0.671027302742, velocidad:76, orientacion:202, fecha:1424193055 deleted!\n",
        "id:3299234472, recurso:tetra:12082781, latitud:-0.225074976683, longitud:-0.671054244041, velocidad:76, orientacion:202, fecha:1424193072 deleted!\n",
        "id:3299234477, recurso:tetra:12082781, latitud:-0.225144267082, longitud:-0.67110145092, velocidad:73, orientacion:225, fecha:1424193097 deleted!\n"
       ]
      }
     ],
     "prompt_number": 11
    },
    {
     "cell_type": "code",
     "collapsed": false,
     "input": [],
     "language": "python",
     "metadata": {},
     "outputs": []
    }
   ],
   "metadata": {}
  }
 ]
}
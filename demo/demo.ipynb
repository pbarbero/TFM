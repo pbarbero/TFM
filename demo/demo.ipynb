{
 "metadata": {
  "name": "",
  "signature": "sha256:9f5d59fd64ce67d87868ec7f62882d11836c0f59437bf61318c6e66005a8c9bf"
 },
 "nbformat": 3,
 "nbformat_minor": 0,
 "worksheets": [
  {
   "cells": [
    {
     "cell_type": "code",
     "collapsed": false,
     "input": [
      "from algorithms.db import getPositions, normalize, deletePositions\n",
      "from algorithms.position import Position\n",
      "from algorithms import consolidation as cs\n",
      "import matplotlib as mp\n",
      "\n",
      "%pylab inline"
     ],
     "language": "python",
     "metadata": {},
     "outputs": [
      {
       "output_type": "stream",
       "stream": "stdout",
       "text": [
        "Populating the interactive namespace from numpy and matplotlib\n"
       ]
      }
     ],
     "prompt_number": 1
    },
    {
     "cell_type": "markdown",
     "metadata": {},
     "source": [
      "Nos conectamos a la base de datos:"
     ]
    },
    {
     "cell_type": "code",
     "collapsed": false,
     "input": [
      "dbname = \"bahia\"\n",
      "recurso = \"tetra:12082781\"\n",
      "limit = 2000\n",
      "cmd = \"SELECT id, recurso, latitud, longitud, velocidad, orientacion, UNIX_TIMESTAMP(fecha) FROM posicionesgps WHERE latitud <> 0 AND longitud <> 0 AND recurso='{0}' LIMIT {1};\""
     ],
     "language": "python",
     "metadata": {},
     "outputs": [],
     "prompt_number": 2
    },
    {
     "cell_type": "markdown",
     "metadata": {},
     "source": [
      "Conseguimos los datos:"
     ]
    },
    {
     "cell_type": "code",
     "collapsed": false,
     "input": [
      "data = getPositions(dbname, cmd, recurso, limit)"
     ],
     "language": "python",
     "metadata": {},
     "outputs": [],
     "prompt_number": 3
    },
    {
     "cell_type": "markdown",
     "metadata": {},
     "source": [
      "Tipificamos las variables:"
     ]
    },
    {
     "cell_type": "code",
     "collapsed": false,
     "input": [
      "#[typedPos, typedLat, typedLong] = normal(data)\n",
      "def normal(list_pos):\n",
      "        listPosTyp = []\n",
      "        lats = []\n",
      "        longs = []\n",
      "        times = []\n",
      "\n",
      "        # Calculamos media lat\n",
      "        for pos in list_pos:\n",
      "                lats.append(pos.lat)\n",
      "                longs.append(pos.lon)\n",
      "                times.append(pos.date)\n",
      "\n",
      "        # Calculamos las medias \n",
      "        meanLat = np.mean(lats)\n",
      "        meanLon = np.mean(longs)\n",
      "        meanTime = np.mean(times)\n",
      "\n",
      "        # Calculamos desv \n",
      "        devLat = np.std(lats)\n",
      "        devLon = np.std(longs)\n",
      "        devTimes = np.std(times)\n",
      "\n",
      "        latsTyp = []\n",
      "        longsTyp = []\n",
      "\n",
      "        for pos in list_pos:\n",
      "                q = Position(pos.id\n",
      "                           , pos.resource\n",
      "                           , (pos.lat - meanLat)/devLat\n",
      "                           , (pos.lon - meanLon)/devLon\n",
      "                           , pos.speed\n",
      "                           , pos.track\n",
      "                           , (pos.date - meanTime)/devTimes\n",
      "                           )\n",
      "                listPosTyp.append(q)\n",
      "                latsTyp.append(q.lat)\n",
      "                longsTyp.append(q.lon)\n",
      "\n",
      "        return [listPosTyp, latsTyp, longsTyp]"
     ],
     "language": "python",
     "metadata": {},
     "outputs": [],
     "prompt_number": 4
    },
    {
     "cell_type": "code",
     "collapsed": false,
     "input": [
      "[normalData, normalLats, normalLongs] = normal(data)"
     ],
     "language": "python",
     "metadata": {},
     "outputs": [],
     "prompt_number": 5
    },
    {
     "cell_type": "markdown",
     "metadata": {},
     "source": [
      "Consolidaci\u00f3n por distancia:"
     ]
    },
    {
     "cell_type": "code",
     "collapsed": false,
     "input": [
      "#result = cs.ConsolidationByDistance(normalData, 0, 0.001, 1)\n",
      "#result = cs.ConsolidationByTime(list(normalData), 20)\n",
      "result = cs.ConsolidationByDistance(normalData, 2, 0.001, 1)\n",
      "result = cs.ConsolidationByThinning(normalData, 2, 5)\n",
      "\n",
      "\n",
      "resultLats = []\n",
      "resultLongs = []\n",
      "for p in result:\n",
      "    resultLats.append(p.lat)\n",
      "    resultLongs.append(p.lon)"
     ],
     "language": "python",
     "metadata": {},
     "outputs": [],
     "prompt_number": 6
    },
    {
     "cell_type": "code",
     "collapsed": false,
     "input": [
      "plt.figure(1, figsize=(15,10))\n",
      "plt.subplot(111)\n",
      "ax = plt.gca()\n",
      "ax.grid(True)\n",
      "plt.plot(normalLats, normalLongs, 'ro', resultLats, resultLongs, 'bo');"
     ],
     "language": "python",
     "metadata": {},
     "outputs": [
      {
       "metadata": {},
       "output_type": "display_data",
       "png": "[encoded data removed]",
       "text": [
        "<matplotlib.figure.Figure at 0x7fede08f0650>"
       ]
      }
     ],
     "prompt_number": 7
    },
    {
     "cell_type": "markdown",
     "metadata": {},
     "source": [
      "**Borramos las posiciones:**"
     ]
    },
    {
     "cell_type": "code",
     "collapsed": false,
     "input": [
      "deletePositions(\"bahia_test\", result)"
     ],
     "language": "python",
     "metadata": {},
     "outputs": [
      {
       "ename": "OperationalError",
       "evalue": "(1049, \"Unknown database 'bahiaPrueba'\")",
       "output_type": "pyerr",
       "traceback": [
        "\u001b[0;31m---------------------------------------------------------------------------\u001b[0m\n\u001b[0;31mOperationalError\u001b[0m                          Traceback (most recent call last)",
        "\u001b[0;32m<ipython-input-8-3eda7d5ccfeb>\u001b[0m in \u001b[0;36m<module>\u001b[0;34m()\u001b[0m\n\u001b[0;32m----> 1\u001b[0;31m \u001b[0mdeletePositions\u001b[0m\u001b[0;34m(\u001b[0m\u001b[0;34m\"bahiaPrueba\"\u001b[0m\u001b[0;34m,\u001b[0m \u001b[0mresult\u001b[0m\u001b[0;34m)\u001b[0m\u001b[0;34m\u001b[0m\u001b[0m\n\u001b[0m",
        "\u001b[0;32m/home/pilar/TFM/demo/algorithms/db.py\u001b[0m in \u001b[0;36mdeletePositions\u001b[0;34m(dbname, list_pos)\u001b[0m\n\u001b[1;32m     69\u001b[0m \u001b[0;34m\"Delete positions\"\u001b[0m\u001b[0;34m\u001b[0m\u001b[0m\n\u001b[1;32m     70\u001b[0m \u001b[0;32mdef\u001b[0m \u001b[0mdeletePositions\u001b[0m\u001b[0;34m(\u001b[0m\u001b[0mdbname\u001b[0m\u001b[0;34m,\u001b[0m \u001b[0mlist_pos\u001b[0m\u001b[0;34m)\u001b[0m\u001b[0;34m:\u001b[0m\u001b[0;34m\u001b[0m\u001b[0m\n\u001b[0;32m---> 71\u001b[0;31m         \u001b[0mcur\u001b[0m \u001b[0;34m=\u001b[0m \u001b[0mconnect_db\u001b[0m\u001b[0;34m(\u001b[0m\u001b[0mdbname\u001b[0m\u001b[0;34m)\u001b[0m\u001b[0;34m\u001b[0m\u001b[0m\n\u001b[0m\u001b[1;32m     72\u001b[0m         \u001b[0;32mfor\u001b[0m \u001b[0mpos\u001b[0m \u001b[0;32min\u001b[0m \u001b[0mlist_pos\u001b[0m\u001b[0;34m:\u001b[0m\u001b[0;34m\u001b[0m\u001b[0m\n\u001b[1;32m     73\u001b[0m                 \u001b[0mcmd\u001b[0m \u001b[0;34m=\u001b[0m \u001b[0;34m\"DELETE FROM posicionesgps WHERE id={0}\"\u001b[0m\u001b[0;34m.\u001b[0m\u001b[0mformat\u001b[0m\u001b[0;34m(\u001b[0m\u001b[0mpos\u001b[0m\u001b[0;34m.\u001b[0m\u001b[0mid\u001b[0m\u001b[0;34m)\u001b[0m\u001b[0;34m\u001b[0m\u001b[0m\n",
        "\u001b[0;32m/home/pilar/TFM/demo/algorithms/db.py\u001b[0m in \u001b[0;36mconnect_db\u001b[0;34m(dbname)\u001b[0m\n\u001b[1;32m      8\u001b[0m                              \u001b[0muser\u001b[0m\u001b[0;34m=\u001b[0m\u001b[0;34m\"root\"\u001b[0m\u001b[0;34m,\u001b[0m\u001b[0;34m\u001b[0m\u001b[0m\n\u001b[1;32m      9\u001b[0m                              \u001b[0mpasswd\u001b[0m\u001b[0;34m=\u001b[0m\u001b[0;34m\"foobar1\"\u001b[0m\u001b[0;34m,\u001b[0m\u001b[0;34m\u001b[0m\u001b[0m\n\u001b[0;32m---> 10\u001b[0;31m \t                     db=dbname) \n\u001b[0m\u001b[1;32m     11\u001b[0m \u001b[0;34m\u001b[0m\u001b[0m\n\u001b[1;32m     12\u001b[0m         \u001b[0;32mreturn\u001b[0m \u001b[0mdb\u001b[0m\u001b[0;34m.\u001b[0m\u001b[0mcursor\u001b[0m\u001b[0;34m(\u001b[0m\u001b[0;34m)\u001b[0m\u001b[0;34m\u001b[0m\u001b[0m\n",
        "\u001b[0;32m/usr/lib/python2.7/dist-packages/MySQLdb/__init__.pyc\u001b[0m in \u001b[0;36mConnect\u001b[0;34m(*args, **kwargs)\u001b[0m\n\u001b[1;32m     79\u001b[0m     \u001b[0;34m\"\"\"Factory function for connections.Connection.\"\"\"\u001b[0m\u001b[0;34m\u001b[0m\u001b[0m\n\u001b[1;32m     80\u001b[0m     \u001b[0;32mfrom\u001b[0m \u001b[0mconnections\u001b[0m \u001b[0;32mimport\u001b[0m \u001b[0mConnection\u001b[0m\u001b[0;34m\u001b[0m\u001b[0m\n\u001b[0;32m---> 81\u001b[0;31m     \u001b[0;32mreturn\u001b[0m \u001b[0mConnection\u001b[0m\u001b[0;34m(\u001b[0m\u001b[0;34m*\u001b[0m\u001b[0margs\u001b[0m\u001b[0;34m,\u001b[0m \u001b[0;34m**\u001b[0m\u001b[0mkwargs\u001b[0m\u001b[0;34m)\u001b[0m\u001b[0;34m\u001b[0m\u001b[0m\n\u001b[0m\u001b[1;32m     82\u001b[0m \u001b[0;34m\u001b[0m\u001b[0m\n\u001b[1;32m     83\u001b[0m \u001b[0mconnect\u001b[0m \u001b[0;34m=\u001b[0m \u001b[0mConnection\u001b[0m \u001b[0;34m=\u001b[0m \u001b[0mConnect\u001b[0m\u001b[0;34m\u001b[0m\u001b[0m\n",
        "\u001b[0;32m/usr/lib/python2.7/dist-packages/MySQLdb/connections.pyc\u001b[0m in \u001b[0;36m__init__\u001b[0;34m(self, *args, **kwargs)\u001b[0m\n\u001b[1;32m    185\u001b[0m         \u001b[0mkwargs2\u001b[0m\u001b[0;34m[\u001b[0m\u001b[0;34m'client_flag'\u001b[0m\u001b[0;34m]\u001b[0m \u001b[0;34m=\u001b[0m \u001b[0mclient_flag\u001b[0m\u001b[0;34m\u001b[0m\u001b[0m\n\u001b[1;32m    186\u001b[0m \u001b[0;34m\u001b[0m\u001b[0m\n\u001b[0;32m--> 187\u001b[0;31m         \u001b[0msuper\u001b[0m\u001b[0;34m(\u001b[0m\u001b[0mConnection\u001b[0m\u001b[0;34m,\u001b[0m \u001b[0mself\u001b[0m\u001b[0;34m)\u001b[0m\u001b[0;34m.\u001b[0m\u001b[0m__init__\u001b[0m\u001b[0;34m(\u001b[0m\u001b[0;34m*\u001b[0m\u001b[0margs\u001b[0m\u001b[0;34m,\u001b[0m \u001b[0;34m**\u001b[0m\u001b[0mkwargs2\u001b[0m\u001b[0;34m)\u001b[0m\u001b[0;34m\u001b[0m\u001b[0m\n\u001b[0m\u001b[1;32m    188\u001b[0m \u001b[0;34m\u001b[0m\u001b[0m\n\u001b[1;32m    189\u001b[0m         self.encoders = dict([ (k, v) for k, v in conv.items()\n",
        "\u001b[0;31mOperationalError\u001b[0m: (1049, \"Unknown database 'bahiaPrueba'\")"
       ]
      }
     ],
     "prompt_number": 8
    },
    {
     "cell_type": "code",
     "collapsed": false,
     "input": [],
     "language": "python",
     "metadata": {},
     "outputs": []
    }
   ],
   "metadata": {}
  }
 ]
}
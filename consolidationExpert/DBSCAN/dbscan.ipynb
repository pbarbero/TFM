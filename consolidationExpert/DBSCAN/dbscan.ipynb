{
 "metadata": {
  "name": "",
  "signature": "sha256:1f9d13a986a6242cbe839226bb5f2504c08c453ece02dc600ea8be67462a3eaa"
 },
 "nbformat": 3,
 "nbformat_minor": 0,
 "worksheets": [
  {
   "cells": [
    {
     "cell_type": "code",
     "collapsed": false,
     "input": [
      "from dbscanner import dbscanner\n",
      "from algorithms.db import connect_db\n",
      "%pylab inline"
     ],
     "language": "python",
     "metadata": {},
     "outputs": [
      {
       "output_type": "stream",
       "stream": "stdout",
       "text": [
        "Populating the interactive namespace from numpy and matplotlib\n"
       ]
      }
     ],
     "prompt_number": 2
    },
    {
     "cell_type": "markdown",
     "metadata": {},
     "source": [
      "Nos conectamos a la base de datos y obtenemos los datos"
     ]
    },
    {
     "cell_type": "code",
     "collapsed": false,
     "input": [
      "cur= connect_db(\"bahia\")\n",
      "#recurso = \"tetra:12086044\"\n",
      "recurso = \"tetra:12082781\"\n",
      "limit = 2000\n",
      "#cmd = \"SELECT latitud, longitud, UNIX_TIMESTAMP(fecha) FROM posicionesgps WHERE latitud <> 0 and longitud <> 0 and recurso=\\\"{0}\\\" LIMIT {1};\".format(recurso, limit)\n",
      "cmd= \"SELECT (latitud + 0.223)/0.022 as 'latitudT', (longitud + 0.665)/0.065 as 'longitudT',(UNIX_TIMESTAMP(fecha) - 1424174494.89)/104277.37 as 'time'FROM posicionesgps WHERE latitud <> 0 AND longitud <> 0 AND recurso='tetra:12082781' LIMIT 2000;\"\n",
      "cur.execute(cmd)\n",
      "\n",
      "a=[]\n",
      "for pos in cur.fetchall():\n",
      "    a.append([pos[0], pos[1], pos[2]])\n",
      "\n",
      "Data = a\n",
      "eps = 0.001\n",
      "MinPts=5\n",
      "\n",
      "dbc = dbscanner()\n",
      "dbc.dbscan(Data, eps, MinPts)"
     ],
     "language": "python",
     "metadata": {},
     "outputs": []
    },
    {
     "cell_type": "code",
     "collapsed": false,
     "input": [],
     "language": "python",
     "metadata": {},
     "outputs": []
    }
   ],
   "metadata": {}
  }
 ]
}
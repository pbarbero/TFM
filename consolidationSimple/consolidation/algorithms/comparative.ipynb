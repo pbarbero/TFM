{
 "metadata": {
  "name": "",
  "signature": "sha256:10822071e83ce5437dd833b8b02aad8c8a537308c2cb280eef51bf730ed4f77e"
 },
 "nbformat": 3,
 "nbformat_minor": 0,
 "worksheets": [
  {
   "cells": [
    {
     "cell_type": "code",
     "collapsed": false,
     "input": [
      "import consolidation as cs\n",
      "from position import Position\n",
      "from db import connect_db\n",
      "from djCluster import DjCluster\n",
      "\n",
      "import matplotlib.pyplot as plt\n",
      "from datetime import datetime\n",
      "%pylab inline"
     ],
     "language": "python",
     "metadata": {},
     "outputs": [
      {
       "output_type": "stream",
       "stream": "stdout",
       "text": [
        "Populating the interactive namespace from numpy and matplotlib\n"
       ]
      },
      {
       "output_type": "stream",
       "stream": "stderr",
       "text": [
        "WARNING: pylab import has clobbered these variables: ['datetime']\n",
        "`%matplotlib` prevents importing * from pylab and numpy\n"
       ]
      }
     ],
     "prompt_number": 187
    },
    {
     "cell_type": "code",
     "collapsed": false,
     "input": [
      "cur_sal = connect_db(\"bahia\")\n",
      "\n",
      "limit = 2000\n",
      "cmd = \"SELECT * FROM posicionesgps WHERE latitud<>0 AND longitud<> 0 AND recurso='tetra:12082781' LIMIT {0};\".format(limit)\n",
      "cur_sal.execute(cmd)\n"
     ],
     "language": "python",
     "metadata": {},
     "outputs": [
      {
       "metadata": {},
       "output_type": "pyout",
       "prompt_number": 311,
       "text": [
        "2000L"
       ]
      }
     ],
     "prompt_number": 311
    },
    {
     "cell_type": "code",
     "collapsed": false,
     "input": [
      "list_pos = []\n",
      "for row in cur_sal.fetchall():\n",
      "    q = Position(row[0] # id\n",
      "               , row[2] # resource\n",
      "               , row[3] # lat\n",
      "               , row[4] # lon\n",
      "               , row[5] # speed\n",
      "               , row[6] # track\n",
      "               , row[10] # date\n",
      "               )\n",
      "    list_pos.append(q)\n",
      "print len(list_pos)"
     ],
     "language": "python",
     "metadata": {},
     "outputs": [
      {
       "output_type": "stream",
       "stream": "stdout",
       "text": [
        "2000\n"
       ]
      }
     ],
     "prompt_number": 312
    },
    {
     "cell_type": "code",
     "collapsed": false,
     "input": [
      "listPosTyp = []\n",
      "lats = []\n",
      "longs = []\n",
      "\n",
      "# Calculamos media lat\n",
      "for pos in list_pos:\n",
      "    lats.append(pos.lat)\n",
      "meanLat = np.mean(lats)\n",
      "# Calculamos media lon \n",
      "for pos in list_pos:\n",
      "    longs.append(pos.lon)\n",
      "meanLon = np.mean(longs)\n",
      "# Calculamos desv lat\n",
      "devLat = np.std(lats)\n",
      "# Calculamos desv lon\n",
      "devLon = np.std(longs)\n",
      "\n",
      "latsTyp = []\n",
      "longsTyp = []\n",
      "for pos in list_pos:\n",
      "    q = Position(pos.id\n",
      "        , pos.resource\n",
      "        , (pos.lat - meanLat)/devLat\n",
      "        , (pos.lon - meanLon)/devLon\n",
      "        , pos.speed\n",
      "        , pos.track\n",
      "        , pos.date\n",
      "        )\n",
      "    listPosTyp.append(q)\n",
      "latsTyp.append(q.lat)\n",
      "longsTyp.append(q.lon)"
     ],
     "language": "python",
     "metadata": {},
     "outputs": [],
     "prompt_number": 317
    },
    {
     "cell_type": "code",
     "collapsed": false,
     "input": [
      "# Primera Consolidacion por distancia Euclidea simple con eps=0.0001\n",
      "#result = cs.ConsolidationByDistance(list_pos, 0, 0.0001, 1)\n",
      "#result = cs.ConsolidationByThinning(list_pos, 2, 5)\n",
      "#result = cs.ConsolidationByTime(list_pos, 20)\n",
      "result = cs.ConsolidationByDistance(listPosTyp, 2, None, 0.001)"
     ],
     "language": "python",
     "metadata": {},
     "outputs": [],
     "prompt_number": 318
    },
    {
     "cell_type": "code",
     "collapsed": false,
     "input": [
      "resultLat = []\n",
      "resultLong = []\n",
      "for pos in result:\n",
      "    resultLat.append(pos.lat)\n",
      "    resultLong.append(pos.lon)"
     ],
     "language": "python",
     "metadata": {},
     "outputs": [],
     "prompt_number": 319
    },
    {
     "cell_type": "code",
     "collapsed": false,
     "input": [
      "plt.figure(1, figsize=(15,10))\n",
      "plt.subplot(111)\n",
      "ax = plt.gca()\n",
      "ax.grid(True)\n",
      "plt.plot(lats, longs, 'ro', resultLat, resultLong, 'bo');"
     ],
     "language": "python",
     "metadata": {},
     "outputs": [
      {
       "metadata": {},
       "output_type": "display_data",
       "png": "[encoded data removed]",
       "text": [
        "<matplotlib.figure.Figure at 0x7ff60ddbd6d0>"
       ]
      }
     ],
     "prompt_number": 272
    },
    {
     "cell_type": "code",
     "collapsed": false,
     "input": [
      "print len(result)"
     ],
     "language": "python",
     "metadata": {},
     "outputs": [
      {
       "output_type": "stream",
       "stream": "stdout",
       "text": [
        "1786\n"
       ]
      }
     ],
     "prompt_number": 255
    },
    {
     "cell_type": "code",
     "collapsed": false,
     "input": [
      "print len(list_pos)"
     ],
     "language": "python",
     "metadata": {},
     "outputs": [
      {
       "output_type": "stream",
       "stream": "stdout",
       "text": [
        "2000\n"
       ]
      }
     ],
     "prompt_number": 182
    },
    {
     "cell_type": "code",
     "collapsed": false,
     "input": [],
     "language": "python",
     "metadata": {},
     "outputs": [],
     "prompt_number": 147
    }
   ],
   "metadata": {}
  }
 ]
}
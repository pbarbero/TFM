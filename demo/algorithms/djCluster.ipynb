{
 "metadata": {
  "name": "",
  "signature": "sha256:c6313ee964acebd46df70ca064a6009c3dc03e6b88054f1b0f6d8302fa4d3c6b"
 },
 "nbformat": 3,
 "nbformat_minor": 0,
 "worksheets": [
  {
   "cells": [
    {
     "cell_type": "code",
     "collapsed": false,
     "input": [
      "from position import Position\n",
      "from db import connect_db\n",
      "from djCluster import DjCluster\n",
      "\n",
      "import matplotlib.pyplot as plt\n",
      "from datetime import datetime\n",
      "%pylab inline"
     ],
     "language": "python",
     "metadata": {},
     "outputs": [
      {
       "output_type": "stream",
       "stream": "stdout",
       "text": [
        "Populating the interactive namespace from numpy and matplotlib\n"
       ]
      },
      {
       "output_type": "stream",
       "stream": "stderr",
       "text": [
        "WARNING: pylab import has clobbered these variables: ['datetime']\n",
        "`%matplotlib` prevents importing * from pylab and numpy\n"
       ]
      }
     ],
     "prompt_number": 1
    },
    {
     "cell_type": "code",
     "collapsed": false,
     "input": [
      "cur_sal = connect_db(\"bahia\")\n",
      "\n",
      "limit = 2000\n",
      "cmd = \"SELECT * FROM posicionesgps WHERE latitud<>0 AND longitud<> 0 AND recurso='tetra:12082781' LIMIT {0};\".format(limit)\n",
      "cur_sal.execute(cmd)"
     ],
     "language": "python",
     "metadata": {},
     "outputs": [
      {
       "metadata": {},
       "output_type": "pyout",
       "prompt_number": 2,
       "text": [
        "2000L"
       ]
      }
     ],
     "prompt_number": 2
    },
    {
     "cell_type": "code",
     "collapsed": false,
     "input": [
      "list_pos = []\n",
      "for row in cur_sal.fetchall():\n",
      "    q = Position(row[0] # id\n",
      "               , row[2] # resource\n",
      "               , row[3] # lat\n",
      "               , row[4] # lon\n",
      "               , row[5] # speed\n",
      "               , row[6] # track\n",
      "               , row[10] # date\n",
      "               )\n",
      "    list_pos.append(q)\n",
      "print len(list_pos)"
     ],
     "language": "python",
     "metadata": {},
     "outputs": [
      {
       "output_type": "stream",
       "stream": "stdout",
       "text": [
        "2000\n"
       ]
      }
     ],
     "prompt_number": 3
    },
    {
     "cell_type": "code",
     "collapsed": false,
     "input": [
      "listPosTyp = []\n",
      "lats = []\n",
      "longs = []\n",
      "\n",
      "# Calculamos media lat\n",
      "for pos in list_pos:\n",
      "    lats.append(pos.lat)\n",
      "meanLat = np.mean(lats)\n",
      "# Calculamos media lon \n",
      "for pos in list_pos:\n",
      "    longs.append(pos.lon)\n",
      "meanLon = np.mean(longs)\n",
      "# Calculamos desv lat\n",
      "devLat = np.std(lats)\n",
      "# Calculamos desv lon\n",
      "devLon = np.std(longs)\n",
      "\n",
      "latsTyp = []\n",
      "longsTyp = []\n",
      "for pos in list_pos:\n",
      "    q = Position(pos.id\n",
      "        , pos.resource\n",
      "        , (pos.lat - meanLat)/devLat\n",
      "        , (pos.lon - meanLon)/devLon\n",
      "        , pos.speed\n",
      "        , pos.track\n",
      "        , pos.date\n",
      "        )\n",
      "    listPosTyp.append(q)\n",
      "    latsTyp.append(q.lat)\n",
      "    longsTyp.append(q.lon)"
     ],
     "language": "python",
     "metadata": {},
     "outputs": [],
     "prompt_number": 15
    },
    {
     "cell_type": "code",
     "collapsed": false,
     "input": [
      "from djCluster import DjCluster"
     ],
     "language": "python",
     "metadata": {},
     "outputs": [],
     "prompt_number": 16
    },
    {
     "cell_type": "code",
     "collapsed": false,
     "input": [
      "[result, noises] = DjCluster(listPosTyp, 0, 0.001, 1, None)"
     ],
     "language": "python",
     "metadata": {},
     "outputs": [],
     "prompt_number": 8
    },
    {
     "cell_type": "code",
     "collapsed": false,
     "input": [
      "print len(result)"
     ],
     "language": "python",
     "metadata": {},
     "outputs": [
      {
       "output_type": "stream",
       "stream": "stdout",
       "text": [
        "412\n"
       ]
      }
     ],
     "prompt_number": 27
    },
    {
     "cell_type": "code",
     "collapsed": false,
     "input": [
      "resultLat = []\n",
      "resultLong = []\n",
      "for clus in result:\n",
      "    resultLat.append(clus.center.lat)\n",
      "    resultLong.append(clus.center.lon)\n",
      "    \n",
      "noisesLat = []\n",
      "noisesLong = []\n",
      "for point in noises:\n",
      "    noisesLat.append(point.lat)\n",
      "    noisesLong.append(point.lon)"
     ],
     "language": "python",
     "metadata": {},
     "outputs": [],
     "prompt_number": 20
    },
    {
     "cell_type": "code",
     "collapsed": false,
     "input": [
      "plt.figure(1, figsize=(15,10))\n",
      "plt.subplot(111)\n",
      "ax = plt.gca()\n",
      "ax.grid(True)\n",
      "plt.plot(latsTyp, longsTyp, 'ro', resultLat, resultLong, 'bo', noisesLat, noisesLong, 'bx');\n",
      "print len(listPosTyp), len(resultLat), len(noises)"
     ],
     "language": "python",
     "metadata": {},
     "outputs": [
      {
       "output_type": "stream",
       "stream": "stdout",
       "text": [
        "2000 412 0\n"
       ]
      },
      {
       "metadata": {},
       "output_type": "display_data",
       "png": "[encoded data removed]",
       "text": [
        "<matplotlib.figure.Figure at 0x7fa312951710>"
       ]
      }
     ],
     "prompt_number": 46
    },
    {
     "cell_type": "code",
     "collapsed": false,
     "input": [
      "plt.figure(1, figsize=(15,10))\n",
      "plt.subplot(111)\n",
      "ax = plt.gca()\n",
      "ax.grid(True)\n",
      "plt.plot(latsTyp, longsTyp, 'ro');"
     ],
     "language": "python",
     "metadata": {},
     "outputs": []
    },
    {
     "cell_type": "code",
     "collapsed": false,
     "input": [],
     "language": "python",
     "metadata": {},
     "outputs": []
    }
   ],
   "metadata": {}
  }
 ]
}
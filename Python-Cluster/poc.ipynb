{
 "metadata": {
  "name": "",
  "signature": "sha256:d9b4ffa76270fb295012a810faa0585cce06db1bf4f586bbff1019bb99ed19bb"
 },
 "nbformat": 3,
 "nbformat_minor": 0,
 "worksheets": [
  {
   "cells": [
    {
     "cell_type": "markdown",
     "metadata": {},
     "source": [
      "# Hierarchical clustering (scipy.cluster.hierarchy)\n",
      "\n",
      "**linkage(y[, method, metric])** \tPerforms hierarchical/agglomerative clustering on the condensed distance matrix y.\n",
      "\n",
      "http://docs.scipy.org/doc/scipy/reference/cluster.hierarchy.html#module-scipy.cluster.hierarchy"
     ]
    },
    {
     "cell_type": "code",
     "collapsed": false,
     "input": [
      "import numpy as np\n",
      "import scipy.cluster.hierarchy as hac\n",
      "import matplotlib.pyplot as plt\n",
      "from consolidation.db import connect_db\n",
      "from consolidation.position import Position, Cluster\n",
      "from consolidation.algorithms.canopy import canopy"
     ],
     "language": "python",
     "metadata": {},
     "outputs": [],
     "prompt_number": 5
    },
    {
     "cell_type": "code",
     "collapsed": false,
     "input": [
      "# Connecting to database\n",
      "cur= connect_db(\"bahia\")\n",
      "recurso = \"tetra:12082781\"\n",
      "limit = 10\n",
      "cmd = \"SELECT latitud, longitud, UNIX_TIMESTAMP(fecha) FROM posicionesgps WHERE latitud <> 0 and longitud <> 0 and recurso=\\\"{0}\\\";\".format(recurso)\n",
      "cmd"
     ],
     "language": "python",
     "metadata": {},
     "outputs": [
      {
       "metadata": {},
       "output_type": "pyout",
       "prompt_number": 9,
       "text": [
        "'SELECT latitud, longitud, UNIX_TIMESTAMP(fecha) FROM posicionesgps WHERE latitud <> 0 and longitud <> 0 and recurso=\"tetra:12082781\";'"
       ]
      }
     ],
     "prompt_number": 9
    },
    {
     "cell_type": "code",
     "collapsed": false,
     "input": [
      "cur.execute(cmd)"
     ],
     "language": "python",
     "metadata": {},
     "outputs": [
      {
       "metadata": {},
       "output_type": "pyout",
       "prompt_number": 10,
       "text": [
        "39839L"
       ]
      }
     ],
     "prompt_number": 10
    },
    {
     "cell_type": "code",
     "collapsed": false,
     "input": [
      "a = []"
     ],
     "language": "python",
     "metadata": {},
     "outputs": [],
     "prompt_number": 11
    },
    {
     "cell_type": "code",
     "collapsed": true,
     "input": [
      "for pos in cur.fetchall():\n",
      "    a.append(pos)"
     ],
     "language": "python",
     "metadata": {},
     "outputs": [],
     "prompt_number": 12
    },
    {
     "cell_type": "code",
     "collapsed": false,
     "input": [
      "len(a)"
     ],
     "language": "python",
     "metadata": {},
     "outputs": [
      {
       "metadata": {},
       "output_type": "pyout",
       "prompt_number": 13,
       "text": [
        "39839"
       ]
      }
     ],
     "prompt_number": 13
    },
    {
     "cell_type": "code",
     "collapsed": false,
     "input": [
      "a = np.array(a)\n",
      "z = hac.linkage(a, method=method)"
     ],
     "language": "python",
     "metadata": {},
     "outputs": [
      {
       "ename": "NameError",
       "evalue": "name 'method' is not defined",
       "output_type": "pyerr",
       "traceback": [
        "\u001b[0;31m---------------------------------------------------------------------------\u001b[0m\n\u001b[0;31mNameError\u001b[0m                                 Traceback (most recent call last)",
        "\u001b[0;32m<ipython-input-14-7b1725440b7c>\u001b[0m in \u001b[0;36m<module>\u001b[0;34m()\u001b[0m\n\u001b[1;32m      1\u001b[0m \u001b[0ma\u001b[0m \u001b[0;34m=\u001b[0m \u001b[0mnp\u001b[0m\u001b[0;34m.\u001b[0m\u001b[0marray\u001b[0m\u001b[0;34m(\u001b[0m\u001b[0ma\u001b[0m\u001b[0;34m)\u001b[0m\u001b[0;34m\u001b[0m\u001b[0m\n\u001b[0;32m----> 2\u001b[0;31m \u001b[0mz\u001b[0m \u001b[0;34m=\u001b[0m \u001b[0mhac\u001b[0m\u001b[0;34m.\u001b[0m\u001b[0mlinkage\u001b[0m\u001b[0;34m(\u001b[0m\u001b[0ma\u001b[0m\u001b[0;34m,\u001b[0m \u001b[0mmethod\u001b[0m\u001b[0;34m=\u001b[0m\u001b[0mmethod\u001b[0m\u001b[0;34m)\u001b[0m\u001b[0;34m\u001b[0m\u001b[0m\n\u001b[0m",
        "\u001b[0;31mNameError\u001b[0m: name 'method' is not defined"
       ]
      }
     ],
     "prompt_number": 14
    },
    {
     "cell_type": "code",
     "collapsed": false,
     "input": [
      "# Linkage\n",
      "\n",
      "fig, axes23 = plt.subplots(2, 3)\n",
      "\n",
      "for method, axes in zip(['single', 'complete'], axes23):\n",
      "    z = hac.linkage(a, method=method)\n",
      "\n",
      "    # Plotting\n",
      "    axes[0].plot(range(1, len(z)+1), z[::-1, 2])\n",
      "    knee = np.diff(z[::-1, 2], 2)\n",
      "    axes[0].plot(range(2, len(z)), knee)\n",
      "\n",
      "    num_clust1 = knee.argmax() + 2\n",
      "    knee[knee.argmax()] = 0\n",
      "    num_clust2 = knee.argmax() + 2\n",
      "\n",
      "    axes[0].text(num_clust1, z[::-1, 2][num_clust1-1], 'possible\\n<- knee point')\n",
      "\n",
      "    part1 = hac.fcluster(z, num_clust1, 'maxclust')\n",
      "    part2 = hac.fcluster(z, num_clust2, 'maxclust')\n",
      "\n",
      "    clr = ['#2200CC' ,'#D9007E' ,'#FF6600' ,'#FFCC00' ,'#ACE600' ,'#0099CC' ,\n",
      "    '#8900CC' ,'#FF0000' ,'#FF9900' ,'#FFFF00' ,'#00CC01' ,'#0055CC']\n",
      "\n",
      "    for part, ax in zip([part1, part2], axes[1:]):\n",
      "        for cluster in set(part):\n",
      "            ax.scatter(a[part == cluster, 0], a[part == cluster, 1], \n",
      "                       color=clr[cluster])\n",
      "\n",
      "    m = '\\n(method: {})'.format(method)\n",
      "    plt.setp(axes[0], title='Screeplot{}'.format(m), xlabel='partition',\n",
      "             ylabel='{}\\ncluster distance'.format(m))\n",
      "    plt.setp(axes[1], title='{} Clusters'.format(num_clust1))\n",
      "    plt.setp(axes[2], title='{} Clusters'.format(num_clust2))\n",
      "\n",
      "plt.tight_layout()\n",
      "plt.show()"
     ],
     "language": "python",
     "metadata": {},
     "outputs": [],
     "prompt_number": 21
    },
    {
     "cell_type": "heading",
     "level": 3,
     "metadata": {},
     "source": [
      "#########"
     ]
    },
    {
     "cell_type": "code",
     "collapsed": false,
     "input": [],
     "language": "python",
     "metadata": {},
     "outputs": []
    }
   ],
   "metadata": {}
  }
 ]
}
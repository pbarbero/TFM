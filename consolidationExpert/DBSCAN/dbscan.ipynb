{
 "metadata": {
  "name": "",
  "signature": "sha256:bff982207f6f1873241de3831d81968be95b0f54d3e9de9c23333d89131462bf"
 },
 "nbformat": 3,
 "nbformat_minor": 0,
 "worksheets": [
  {
   "cells": [
    {
     "cell_type": "code",
     "collapsed": false,
     "input": [
      "from dbscanner import dbscanner\n",
      "from algorithms.db import connect_db\n",
      "%pylab inline"
     ],
     "language": "python",
     "metadata": {},
     "outputs": [
      {
       "output_type": "stream",
       "stream": "stdout",
       "text": [
        "Populating the interactive namespace from numpy and matplotlib\n"
       ]
      }
     ],
     "prompt_number": 7
    },
    {
     "cell_type": "markdown",
     "metadata": {},
     "source": [
      "Nos conectamos a la base de datos y obtenemos los datos"
     ]
    },
    {
     "cell_type": "code",
     "collapsed": false,
     "input": [
      "cur= connect_db(\"bahia\")\n",
      "recurso = \"tetra:12082781\"\n",
      "limit = 1000\n",
      "cmd = \"SELECT latitud, longitud FROM posicionesgps WHERE latitud <> 0 and longitud <> 0 and recurso=\\\"{0}\\\" LIMIT {1};\".format(recurso, limit)\n",
      "cur.execute(cmd)\n",
      "\n",
      "a=[]\n",
      "for pos in cur.fetchall():\n",
      "    a.append([pos[0], pos[1]])\n",
      "\n",
      "Data = a\n",
      "eps=0.5\n",
      "MinPts=5\n",
      "\n",
      "dbc = dbscanner()\n",
      "dbc.dbscan(Data, eps, MinPts)"
     ],
     "language": "python",
     "metadata": {},
     "outputs": [
      {
       "metadata": {},
       "output_type": "display_data",
       "png": "[encoded data removed]",
       "text": [
        "<matplotlib.figure.Figure at 0x7efd6a6e40d0>"
       ]
      }
     ],
     "prompt_number": 8
    },
    {
     "cell_type": "code",
     "collapsed": false,
     "input": [],
     "language": "python",
     "metadata": {},
     "outputs": []
    }
   ],
   "metadata": {}
  }
 ]
}
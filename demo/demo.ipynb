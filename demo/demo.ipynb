{
 "metadata": {
  "name": "",
  "signature": "sha256:b5ddd141af9ff6bcae0eabf08cee43eda0ba426aa4dd46a321e234661c4a95ea"
 },
 "nbformat": 3,
 "nbformat_minor": 0,
 "worksheets": [
  {
   "cells": [
    {
     "cell_type": "code",
     "collapsed": false,
     "input": [
      "from algorithms.db import getPositions, normalize, deletePositions\n",
      "from algorithms.position import Position\n",
      "from algorithms import consolidation as cs\n",
      "import matplotlib as mp\n",
      "\n",
      "%pylab inline"
     ],
     "language": "python",
     "metadata": {},
     "outputs": [
      {
       "output_type": "stream",
       "stream": "stdout",
       "text": [
        "Populating the interactive namespace from numpy and matplotlib\n"
       ]
      },
      {
       "output_type": "stream",
       "stream": "stderr",
       "text": [
        "WARNING: pylab import has clobbered these variables: ['normal']\n",
        "`%matplotlib` prevents importing * from pylab and numpy\n"
       ]
      }
     ],
     "prompt_number": 28
    },
    {
     "cell_type": "markdown",
     "metadata": {},
     "source": [
      "**Nos conectamos a la base de datos:**"
     ]
    },
    {
     "cell_type": "code",
     "collapsed": false,
     "input": [
      "dbname = \"bahia\"\n",
      "recurso = \"tetra:12082781\"\n",
      "limit = 2000\n",
      "cmd = \"SELECT id, recurso, latitud, longitud, velocidad, orientacion, UNIX_TIMESTAMP(fecha) FROM posicionesgps WHERE latitud <> 0 AND longitud <> 0 AND recurso='{0}' LIMIT {1};\""
     ],
     "language": "python",
     "metadata": {},
     "outputs": [],
     "prompt_number": 29
    },
    {
     "cell_type": "markdown",
     "metadata": {},
     "source": [
      "**Conseguimos los datos:**"
     ]
    },
    {
     "cell_type": "code",
     "collapsed": false,
     "input": [
      "data = getPositions(dbname, cmd, recurso, limit)"
     ],
     "language": "python",
     "metadata": {},
     "outputs": [],
     "prompt_number": 30
    },
    {
     "cell_type": "markdown",
     "metadata": {},
     "source": [
      "**Tipificamos las variables:**"
     ]
    },
    {
     "cell_type": "code",
     "collapsed": false,
     "input": [
      "[normalData, normalLats, normalLongs] = normal(data)"
     ],
     "language": "python",
     "metadata": {},
     "outputs": [],
     "prompt_number": 11
    },
    {
     "cell_type": "markdown",
     "metadata": {},
     "source": [
      "**Consolidaci\u00f3n por distancia:**"
     ]
    },
    {
     "cell_type": "code",
     "collapsed": false,
     "input": [
      "#result = cs.ConsolidationByDistance(normalData, 0, 0.001, 1)\n",
      "#result = cs.ConsolidationByTime(list(normalData), 20)\n",
      "#result = cs.ConsolidationByDistance(normalData, 2, 0.001, 1)\n",
      "result = cs.ConsolidationByThinning(normalData, 2, 5)\n",
      "\n",
      "resultLats = []\n",
      "resultLongs = []\n",
      "for p in result:\n",
      "    resultLats.append(p.lat)\n",
      "    resultLongs.append(p.lon)"
     ],
     "language": "python",
     "metadata": {},
     "outputs": [],
     "prompt_number": 35
    },
    {
     "cell_type": "code",
     "collapsed": false,
     "input": [
      "plt.figure(1, figsize=(15,10))\n",
      "plt.subplot(111)\n",
      "ax = plt.gca()\n",
      "ax.grid(True)\n",
      "plt.plot(normalLats, normalLongs, 'ro', resultLats, resultLongs, 'bo');"
     ],
     "language": "python",
     "metadata": {},
     "outputs": [
      {
       "metadata": {},
       "output_type": "display_data",
       "png": "[encoded data removed]",
       "text": [
        "<matplotlib.figure.Figure at 0x7f4102f1aa10>"
       ]
      }
     ],
     "prompt_number": 36
    },
    {
     "cell_type": "markdown",
     "metadata": {},
     "source": [
      "**Borramos las posiciones:**"
     ]
    },
    {
     "cell_type": "code",
     "collapsed": false,
     "input": [
      "list3 = [x for x in data if x not in result]\n",
      "len(list3)"
     ],
     "language": "python",
     "metadata": {},
     "outputs": [
      {
       "metadata": {},
       "output_type": "pyout",
       "prompt_number": 46,
       "text": [
        "2000"
       ]
      }
     ],
     "prompt_number": 46
    },
    {
     "cell_type": "code",
     "collapsed": false,
     "input": [
      "deletePositions(\"bahia_test\", data, result)"
     ],
     "language": "python",
     "metadata": {},
     "outputs": [
      {
       "output_type": "stream",
       "stream": "stdout",
       "text": [
        "id:3299042153, recurso:tetra:12082781, latitud:7.62215334699, longitud:1.87431164783, velocidad:66, orientacion:90, fecha:-1.74407570504 deleted!\n",
        "id:3299234599, recurso:tetra:12082781, latitud:-3.89272193025, longitud:0.371355081305, velocidad:79, orientacion:225, fecha:1.76093865489 deleted!\n",
        "id:3299042476, recurso:tetra:12082781, latitud:6.9002799426, longitud:2.99744617307, velocidad:129, orientacion:112, fecha:-1.73557348977 deleted!\n",
        "id:3299042435, recurso:tetra:12082781, latitud:7.09578244807, longitud:2.67171318776, velocidad:139, orientacion:112, fecha:-1.73757963045 deleted!\n",
        "id:3299043003, recurso:tetra:12082781, latitud:4.87142958512, longitud:4.08477104629, velocidad:115, orientacion:90, fecha:-1.72754892705 deleted!\n",
        "id:3299042873, recurso:tetra:12082781, latitud:5.12273980759, longitud:3.8757565502, velocidad:115, orientacion:112, fecha:-1.72926847621 deleted!\n",
        "id:3299043451, recurso:tetra:12082781, latitud:2.92775326953, longitud:4.4067582521, velocidad:115, orientacion:180, fecha:-1.71837799823 deleted!\n",
        "id:3299043296, recurso:tetra:12082781, latitud:3.44675333791, longitud:4.38832901696, velocidad:50, orientacion:157, fecha:-1.72000201687 deleted!\n",
        "id:3299043998, recurso:tetra:12082781, latitud:-0.565552420657, longitud:4.27910208675, velocidad:149, orientacion:180, fecha:-1.71102214907 deleted!\n",
        "id:3299043807, recurso:tetra:12082781, latitud:0.322457164328, longitud:4.28988993171, velocidad:144, orientacion:180, fecha:-1.71264616771 deleted!\n",
        "id:3299044225, recurso:tetra:12082781, latitud:-4.07055784187, longitud:4.56677795234, velocidad:115, orientacion:112, fecha:-1.70261546431 deleted!"
       ]
      },
      {
       "output_type": "stream",
       "stream": "stdout",
       "text": [
        "\n",
        "id:3299044109, recurso:tetra:12082781, latitud:-3.91916332237, longitud:4.38593171808, velocidad:124, orientacion:112, fecha:-1.70404842194 deleted!\n",
        "id:3299044632, recurso:tetra:12082781, latitud:-4.44249229123, longitud:5.10152543374, velocidad:85, orientacion:45, fecha:-1.69545067617 deleted!\n",
        "id:3299044524, recurso:tetra:12082781, latitud:-4.76446888911, longitud:5.04069397466, velocidad:71, orientacion:22, fecha:-1.6968836338 deleted!\n",
        "id:3299045303, recurso:tetra:12082781, latitud:-4.142628185, longitud:5.63852038284, velocidad:76, orientacion:67, fecha:-1.68771270497 deleted!\n",
        "id:3299045159, recurso:tetra:12082781, latitud:-4.22499429143, longitud:5.5481721813, velocidad:73, orientacion:90, fecha:-1.68895460159 deleted!\n",
        "id:3299045886, recurso:tetra:12082781, latitud:-3.45749193603, longitud:6.02118921655, velocidad:35, orientacion:112, fecha:-1.67930602022 deleted!\n",
        "id:3299045785, recurso:tetra:12082781, latitud:-3.49715402421, longitud:5.96994695299, velocidad:33, orientacion:45, fecha:-1.68073897785 deleted!\n",
        "id:3299046511, recurso:tetra:12082781, latitud:-3.13996123594, longitud:6.03062858089, velocidad:9, orientacion:292, fecha:-1.67118592699 deleted!\n",
        "id:3299046472, recurso:tetra:12082781, latitud:-3.20898964901, longitud:6.05789785564, velocidad:33, orientacion:315, fecha:-1.67271441513 deleted!\n",
        "id:3299047124, recurso:tetra:12082781, latitud:-3.67510693314, longitud:5.88948760933, velocidad:61, orientacion:270, fecha:-1.66440326088 deleted!"
       ]
      },
      {
       "output_type": "stream",
       "stream": "stdout",
       "text": [
        "\n",
        "id:3299046971, recurso:tetra:12082781, latitud:-3.61485331835, longitud:5.95151771785, velocidad:42, orientacion:225, fecha:-1.66545409647 deleted!\n",
        "id:3299047472, recurso:tetra:12082781, latitud:-4.01767505762, longitud:5.49543160594, velocidad:68, orientacion:90, fecha:-1.6568563507 deleted!\n",
        "id:3299047437, recurso:tetra:12082781, latitud:-4.04259548471, longitud:5.43849575755, velocidad:37, orientacion:67, fecha:-1.6579071863 deleted!\n",
        "id:3299048061, recurso:tetra:12082781, latitud:-4.63659082898, longitud:5.03125461032, velocidad:85, orientacion:225, fecha:-1.64864072696 deleted!\n",
        "id:3299048021, recurso:tetra:12082781, latitud:-4.25728554907, longitud:5.1490219178, velocidad:85, orientacion:225, fecha:-1.65026474561 deleted!\n",
        "id:3299048625, recurso:tetra:12082781, latitud:-3.11047791375, longitud:4.29318621767, velocidad:119, orientacion:0, fecha:-1.63946979814 deleted!\n",
        "id:3299048436, recurso:tetra:12082781, latitud:-3.61333235332, longitud:4.30637136151, velocidad:107, orientacion:0, fecha:-1.64071169475 deleted!\n",
        "id:3299049177, recurso:tetra:12082781, latitud:0.925227306864, longitud:4.29977878959, velocidad:155, orientacion:0, fecha:-1.63077652186 deleted!\n",
        "id:3299048959, recurso:tetra:12082781, latitud:-0.422932699432, longitud:4.28434617805, velocidad:144, orientacion:0, fecha:-1.63326031508 deleted!"
       ]
      },
      {
       "output_type": "stream",
       "stream": "stdout",
       "text": [
        "\n",
        "id:3299049779, recurso:tetra:12082781, latitud:3.88631223261, longitud:4.39297378354, velocidad:95, orientacion:0, fecha:-1.62227430659 deleted!\n",
        "id:3299049652, recurso:tetra:12082781, latitud:3.56141070197, longitud:4.40570943384, velocidad:24, orientacion:0, fecha:-1.62380279473 deleted!\n",
        "id:3299050325, recurso:tetra:12082781, latitud:5.85350500757, longitud:3.54103369409, velocidad:149, orientacion:315, fecha:-1.61434527438 deleted!\n",
        "id:3299050233, recurso:tetra:12082781, latitud:5.42716680893, longitud:3.75199599553, velocidad:139, orientacion:315, fecha:-1.61587376252 deleted!\n",
        "id:3299050874, recurso:tetra:12082781, latitud:7.29280591857, longitud:2.33788931874, velocidad:115, orientacion:292, fecha:-1.60632071166 deleted!\n",
        "id:3299050796, recurso:tetra:12082781, latitud:7.18259445229, longitud:2.53701495695, velocidad:144, orientacion:292, fecha:-1.60756260827 deleted!\n",
        "id:3299054451, recurso:tetra:12082781, latitud:1.10318021579, longitud:0.0812819168354, velocidad:63, orientacion:202, fecha:-1.55645378618 deleted!\n",
        "id:3299054381, recurso:tetra:12082781, latitud:1.43697354201, longitud:0.124583127854, velocidad:76, orientacion:202, fecha:-1.55798227432 deleted!\n",
        "id:3299055055, recurso:tetra:12082781, latitud:0.446006323978, longitud:-0.173730751516, velocidad:45, orientacion:90, fecha:-1.54823816244 deleted!"
       ]
      },
      {
       "output_type": "stream",
       "stream": "stdout",
       "text": [
        "\n",
        "id:3299054930, recurso:tetra:12082781, latitud:0.645954727238, longitud:-0.244900562013, velocidad:24, orientacion:180, fecha:-1.55033983363 deleted!\n",
        "id:3299055972, recurso:tetra:12082781, latitud:0.0342927891214, longitud:-0.211038715334, velocidad:0, orientacion:0, fecha:-1.53925829464 deleted!\n",
        "id:3299055865, recurso:tetra:12082781, latitud:0.0342927891214, longitud:-0.208641416454, velocidad:1, orientacion:315, fecha:-1.54126443532 deleted!\n",
        "id:3299056486, recurso:tetra:12082781, latitud:0.0342927891214, longitud:-0.212387195954, velocidad:0, orientacion:0, fecha:-1.53132926242 deleted!\n",
        "id:3299056422, recurso:tetra:12082781, latitud:0.0342927891214, longitud:-0.212387195954, velocidad:0, orientacion:0, fecha:-1.53285775056 deleted!\n",
        "id:3299057118, recurso:tetra:12082781, latitud:0.0519593829728, longitud:-0.210439390614, velocidad:0, orientacion:0, fecha:-1.52387788275 deleted!\n",
        "id:3299057026, recurso:tetra:12082781, latitud:0.0548843157297, longitud:-0.210439390614, velocidad:0, orientacion:0, fecha:-1.52511977936 deleted!\n",
        "id:3299057534, recurso:tetra:12082781, latitud:0.0548843157297, longitud:-0.209540403534, velocidad:0, orientacion:0, fecha:-1.51461142342 deleted!\n",
        "id:3299057382, recurso:tetra:12082781, latitud:0.0548843157297, longitud:-0.209540403534, velocidad:0, orientacion:0, fecha:-1.51642650308 deleted!\n",
        "id:3299058010, recurso:tetra:12082781, latitud:0.0519593829728, longitud:-0.210439390614, velocidad:0, orientacion:0, fecha:-1.50563155561 deleted!"
       ]
      },
      {
       "output_type": "stream",
       "stream": "stdout",
       "text": [
        "\n",
        "id:3299057956, recurso:tetra:12082781, latitud:0.0593302135202, longitud:-0.210439390614, velocidad:0, orientacion:0, fecha:-1.5077332268 deleted!\n",
        "id:3299058625, recurso:tetra:12082781, latitud:0.0342927891214, longitud:-0.212387195954, velocidad:0, orientacion:0, fecha:-1.49741593188 deleted!\n",
        "id:3299058484, recurso:tetra:12082781, latitud:0.0358137541549, longitud:-0.212387195954, velocidad:0, orientacion:0, fecha:-1.49932654205 deleted!\n",
        "id:3299059087, recurso:tetra:12082781, latitud:0.0548843157297, longitud:-0.210439390614, velocidad:0, orientacion:0, fecha:-1.48872265559 deleted!\n",
        "id:3299058989, recurso:tetra:12082781, latitud:0.0475134851824, longitud:-0.211038715334, velocidad:0, orientacion:0, fecha:-1.48996455221 deleted!\n",
        "id:3299059690, recurso:tetra:12082781, latitud:0.0504384179393, longitud:-0.211038715334, velocidad:0, orientacion:0, fecha:-1.48002937931 deleted!\n",
        "id:3299059640, recurso:tetra:12082781, latitud:0.0475134851824, longitud:-0.211038715334, velocidad:0, orientacion:0, fecha:-1.48174892847 deleted!\n",
        "id:3299060381, recurso:tetra:12082781, latitud:0.0416636196687, longitud:-0.209540403534, velocidad:0, orientacion:0, fecha:-1.47047632846 deleted!\n",
        "id:3299060208, recurso:tetra:12082781, latitud:0.0416636196687, longitud:-0.209540403534, velocidad:0, orientacion:0, fecha:-1.47219587761 deleted!"
       ]
      },
      {
       "output_type": "stream",
       "stream": "stdout",
       "text": [
        "\n",
        "id:3299060929, recurso:tetra:12082781, latitud:0.0475134851824, longitud:-0.211038715334, velocidad:0, orientacion:0, fecha:-1.46245176573 deleted!\n",
        "id:3299060755, recurso:tetra:12082781, latitud:0.0431845847022, longitud:-0.211038715334, velocidad:0, orientacion:0, fecha:-1.46388472336 deleted!\n",
        "id:3299061347, recurso:tetra:12082781, latitud:0.0461095174591, longitud:-0.212387195954, velocidad:0, orientacion:0, fecha:-1.45500038606 deleted!\n",
        "id:3299061246, recurso:tetra:12082781, latitud:0.0504384179393, longitud:-0.212387195954, velocidad:0, orientacion:0, fecha:-1.45643334369 deleted!\n",
        "id:3299061868, recurso:tetra:12082781, latitud:0.0416636196687, longitud:-0.210439390614, velocidad:0, orientacion:0, fecha:-1.44353672503 deleted!\n",
        "id:3299061762, recurso:tetra:12082781, latitud:0.0431845847022, longitud:-0.211038715334, velocidad:0, orientacion:0, fecha:-1.44487415215 deleted!\n",
        "id:3299062406, recurso:tetra:12082781, latitud:0.0431845847022, longitud:-0.210439390614, velocidad:0, orientacion:0, fecha:-1.43551216231 deleted!\n",
        "id:3299062328, recurso:tetra:12082781, latitud:0.0431845847022, longitud:-0.211038715334, velocidad:0, orientacion:0, fecha:-1.43713618096 deleted!\n",
        "id:3299062648, recurso:tetra:12082781, latitud:0.0313678563645, longitud:-0.213735676574, velocidad:0, orientacion:0, fecha:-1.42672335552 deleted!"
       ]
      },
      {
       "output_type": "stream",
       "stream": "stdout",
       "text": [
        "\n",
        "id:3299062628, recurso:tetra:12082781, latitud:0.0313678563645, longitud:-0.213735676574, velocidad:0, orientacion:0, fecha:-1.42806078264 deleted!\n",
        "id:3299063176, recurso:tetra:12082781, latitud:0.0358137541549, longitud:-0.212387195954, velocidad:0, orientacion:0, fecha:-1.41850773179 deleted!\n",
        "id:3299063081, recurso:tetra:12082781, latitud:0.0416636196687, longitud:-0.212387195954, velocidad:0, orientacion:0, fecha:-1.42013175043 deleted!\n",
        "id:3299063654, recurso:tetra:12082781, latitud:0.0387386869118, longitud:-0.211937702414, velocidad:0, orientacion:0, fecha:-1.40943233347 deleted!\n",
        "id:3299063497, recurso:tetra:12082781, latitud:0.0387386869118, longitud:-0.211937702414, velocidad:0, orientacion:0, fecha:-1.41153400466 deleted!\n",
        "id:3299064446, recurso:tetra:12082781, latitud:0.0416636196687, longitud:-0.212387195954, velocidad:0, orientacion:0, fecha:-1.40178989278 deleted!\n",
        "id:3299064213, recurso:tetra:12082781, latitud:0.0431845847022, longitud:-0.212387195954, velocidad:0, orientacion:0, fecha:-1.4031273199 deleted!\n",
        "id:3299064863, recurso:tetra:12082781, latitud:0.0431845847022, longitud:-0.212387195954, velocidad:0, orientacion:0, fecha:-1.39558040973 deleted!\n",
        "id:3299064822, recurso:tetra:12082781, latitud:0.0431845847022, longitud:-0.212387195954, velocidad:0, orientacion:0, fecha:-1.39691783685 deleted!"
       ]
      },
      {
       "output_type": "stream",
       "stream": "stdout",
       "text": [
        "\n",
        "id:3299065364, recurso:tetra:12082781, latitud:0.0416636196687, longitud:-0.212387195954, velocidad:0, orientacion:0, fecha:-1.39003964023 deleted!\n",
        "id:3299065295, recurso:tetra:12082781, latitud:0.0416636196687, longitud:-0.212387195954, velocidad:0, orientacion:0, fecha:-1.39099494531 deleted!\n",
        "id:3299065703, recurso:tetra:12082781, latitud:0.0313678563645, longitud:-0.211038715334, velocidad:0, orientacion:0, fecha:-1.38363909615 deleted!\n",
        "id:3299065580, recurso:tetra:12082781, latitud:0.0313678563645, longitud:-0.211038715334, velocidad:0, orientacion:0, fecha:-1.38478546226 deleted!\n",
        "id:3299066219, recurso:tetra:12082781, latitud:0.0387386869118, longitud:-0.211038715334, velocidad:0, orientacion:0, fecha:-1.37676089953 deleted!\n",
        "id:3299066107, recurso:tetra:12082781, latitud:0.0387386869118, longitud:-0.211038715334, velocidad:0, orientacion:0, fecha:-1.37848044869 deleted!\n",
        "id:3299067147, recurso:tetra:12082781, latitud:0.0387386869118, longitud:-0.210439390614, velocidad:0, orientacion:0, fecha:-1.36902292834 deleted!\n",
        "id:3299067000, recurso:tetra:12082781, latitud:0.0387386869118, longitud:-0.210439390614, velocidad:0, orientacion:0, fecha:-1.37026482495 deleted!\n",
        "id:3299067730, recurso:tetra:12082781, latitud:0.0358137541549, longitud:-0.211038715334, velocidad:0, orientacion:0, fecha:-1.35918328596 deleted!\n",
        "id:3299067675, recurso:tetra:12082781, latitud:0.0358137541549, longitud:-0.211038715334, velocidad:0, orientacion:0, fecha:-1.3608073046 deleted!"
       ]
      },
      {
       "output_type": "stream",
       "stream": "stdout",
       "text": [
        "\n",
        "id:3299068279, recurso:tetra:12082781, latitud:0.0461095174591, longitud:-0.208641416454, velocidad:0, orientacion:0, fecha:-1.35010788764 deleted!\n",
        "id:3299068192, recurso:tetra:12082781, latitud:0.0358137541549, longitud:-0.211038715334, velocidad:0, orientacion:0, fecha:-1.35287827239 deleted!\n",
        "id:3299068758, recurso:tetra:12082781, latitud:0.0416636196687, longitud:-0.208641416454, velocidad:0, orientacion:0, fecha:-1.34313416051 deleted!\n",
        "id:3299068610, recurso:tetra:12082781, latitud:0.0431845847022, longitud:-0.209540403534, velocidad:0, orientacion:135, fecha:-1.34447158763 deleted!\n",
        "id:3299069403, recurso:tetra:12082781, latitud:0.0431845847022, longitud:-0.207143104654, velocidad:0, orientacion:292, fecha:-1.33558725034 deleted!\n",
        "id:3299069191, recurso:tetra:12082781, latitud:0.0475134851824, longitud:-0.208641416454, velocidad:0, orientacion:0, fecha:-1.33702020796 deleted!\n",
        "id:3299069929, recurso:tetra:12082781, latitud:0.0416636196687, longitud:-0.210439390614, velocidad:0, orientacion:0, fecha:-1.32641632151 deleted!\n",
        "id:3299069833, recurso:tetra:12082781, latitud:0.0416636196687, longitud:-0.211937702414, velocidad:0, orientacion:0, fecha:-1.32823140117 deleted!\n",
        "id:3299070350, recurso:tetra:12082781, latitud:0.0475134851824, longitud:-0.208191922914, velocidad:0, orientacion:0, fecha:-1.31810516726 deleted!\n"
       ]
      },
      {
       "output_type": "stream",
       "stream": "stdout",
       "text": [
        "id:3299070345, recurso:tetra:12082781, latitud:0.0475134851824, longitud:-0.208191922914, velocidad:0, orientacion:0, fecha:-1.32039789947 deleted!\n",
        "id:3299070807, recurso:tetra:12082781, latitud:0.0358137541549, longitud:-0.211038715334, velocidad:0, orientacion:0, fecha:-1.31103590963 deleted!\n",
        "id:3299070678, recurso:tetra:12082781, latitud:0.0342927891214, longitud:-0.211038715334, velocidad:0, orientacion:0, fecha:-1.31246886726 deleted!\n",
        "id:3299071255, recurso:tetra:12082781, latitud:0.0416636196687, longitud:-0.211937702414, velocidad:0, orientacion:0, fecha:-1.3017694503 deleted!\n",
        "id:3299071125, recurso:tetra:12082781, latitud:0.0387386869118, longitud:-0.211038715334, velocidad:0, orientacion:0, fecha:-1.30348899945 deleted!\n",
        "id:3299071723, recurso:tetra:12082781, latitud:0.0504384179393, longitud:-0.211937702414, velocidad:0, orientacion:0, fecha:-1.29326723503 deleted!\n",
        "id:3299071606, recurso:tetra:12082781, latitud:0.0358137541549, longitud:-0.212387195954, velocidad:0, orientacion:0, fecha:-1.29479572317 deleted!\n",
        "id:3299072312, recurso:tetra:12082781, latitud:0.0431845847022, longitud:-0.211038715334, velocidad:0, orientacion:0, fecha:-1.28486055028 deleted!\n",
        "id:3299072077, recurso:tetra:12082781, latitud:0.0431845847022, longitud:-0.211038715334, velocidad:0, orientacion:0, fecha:-1.28648456892 deleted!\n",
        "id:3299072776, recurso:tetra:12082781, latitud:0.0358137541549, longitud:-0.211937702414, velocidad:0, orientacion:0, fecha:-1.27798235366 deleted!"
       ]
      },
      {
       "output_type": "stream",
       "stream": "stdout",
       "text": [
        "\n",
        "id:3299072685, recurso:tetra:12082781, latitud:0.0358137541549, longitud:-0.211937702414, velocidad:0, orientacion:0, fecha:-1.27922425027 deleted!\n",
        "id:3299073423, recurso:tetra:12082781, latitud:0.0416636196687, longitud:-0.213286183034, velocidad:0, orientacion:0, fecha:-1.26871589433 deleted!\n",
        "id:3299073310, recurso:tetra:12082781, latitud:0.0387386869118, longitud:-0.213286183034, velocidad:0, orientacion:0, fecha:-1.27033991297 deleted!\n",
        "id:3299073896, recurso:tetra:12082781, latitud:0.0358137541549, longitud:-0.212387195954, velocidad:0, orientacion:0, fecha:-1.25782541635 deleted!\n",
        "id:3299073886, recurso:tetra:12082781, latitud:0.0342927891214, longitud:-0.212387195954, velocidad:0, orientacion:0, fecha:-1.26126451466 deleted!\n",
        "id:3299074398, recurso:tetra:12082781, latitud:0.0387386869118, longitud:-0.211937702414, velocidad:0, orientacion:0, fecha:-1.25027850617 deleted!\n",
        "id:3299074229, recurso:tetra:12082781, latitud:0.0387386869118, longitud:-0.211937702414, velocidad:0, orientacion:0, fecha:-1.2517114638 deleted!\n",
        "id:3299074862, recurso:tetra:12082781, latitud:0.0313678563645, longitud:-0.210439390614, velocidad:0, orientacion:0, fecha:-1.24225394345 deleted!\n",
        "id:3299074778, recurso:tetra:12082781, latitud:0.0342927891214, longitud:-0.210439390614, velocidad:0, orientacion:0, fecha:-1.2438779621 deleted!"
       ]
      },
      {
       "output_type": "stream",
       "stream": "stdout",
       "text": [
        "\n",
        "id:3299075386, recurso:tetra:12082781, latitud:0.0358137541549, longitud:-0.212387195954, velocidad:0, orientacion:67, fecha:-1.23222324005 deleted!\n",
        "id:3299075288, recurso:tetra:12082781, latitud:0.0387386869118, longitud:-0.213286183034, velocidad:1, orientacion:0, fecha:-1.23489809429 deleted!\n",
        "id:3299075910, recurso:tetra:12082781, latitud:0.0313678563645, longitud:-0.216132975454, velocidad:0, orientacion:0, fecha:-1.22553610445 deleted!\n",
        "id:3299075792, recurso:tetra:12082781, latitud:0.026921958574, longitud:-0.213735676574, velocidad:0, orientacion:0, fecha:-1.22677800106 deleted!\n",
        "id:3299076350, recurso:tetra:12082781, latitud:0.0416636196687, longitud:-0.212387195954, velocidad:0, orientacion:0, fecha:-1.21865790783 deleted!\n",
        "id:3299076229, recurso:tetra:12082781, latitud:0.0358137541549, longitud:-0.213286183034, velocidad:0, orientacion:270, fecha:-1.21999533495 deleted!\n",
        "id:3299076888, recurso:tetra:12082781, latitud:0.0358137541549, longitud:-0.210439390614, velocidad:0, orientacion:0, fecha:-1.21063334511 deleted!\n",
        "id:3299076867, recurso:tetra:12082781, latitud:0.0387386869118, longitud:-0.209540403534, velocidad:0, orientacion:0, fecha:-1.21216183325 deleted!\n",
        "id:3299077547, recurso:tetra:12082781, latitud:0.0358137541549, longitud:-0.208641416454, velocidad:0, orientacion:0, fecha:-1.20117582476 deleted!"
       ]
      },
      {
       "output_type": "stream",
       "stream": "stdout",
       "text": [
        "\n",
        "id:3299077430, recurso:tetra:12082781, latitud:0.0358137541549, longitud:-0.208641416454, velocidad:0, orientacion:0, fecha:-1.2027043129 deleted!\n",
        "id:3299078086, recurso:tetra:12082781, latitud:0.0504384179393, longitud:-0.210439390614, velocidad:0, orientacion:0, fecha:-1.19362891458 deleted!\n",
        "id:3299078003, recurso:tetra:12082781, latitud:0.0461095174591, longitud:-0.209540403534, velocidad:0, orientacion:0, fecha:-1.19525293323 deleted!\n",
        "id:3299078463, recurso:tetra:12082781, latitud:0.0387386869118, longitud:-0.210439390614, velocidad:0, orientacion:0, fecha:-1.18426692474 deleted!\n",
        "id:3299078334, recurso:tetra:12082781, latitud:0.0387386869118, longitud:-0.210439390614, velocidad:0, orientacion:0, fecha:-1.18550882135 deleted!\n",
        "id:3299078961, recurso:tetra:12082781, latitud:0.0431845847022, longitud:-0.211937702414, velocidad:0, orientacion:0, fecha:-1.17614683151 deleted!\n",
        "id:3299078934, recurso:tetra:12082781, latitud:0.0461095174591, longitud:-0.211937702414, velocidad:0, orientacion:0, fecha:-1.17757978914 deleted!\n",
        "id:3299079458, recurso:tetra:12082781, latitud:0.0313678563645, longitud:-0.213735676574, velocidad:0, orientacion:0, fecha:-1.16850439082 deleted!"
       ]
      },
      {
       "output_type": "stream",
       "stream": "stdout",
       "text": [
        "\n",
        "id:3299079450, recurso:tetra:12082781, latitud:0.0313678563645, longitud:-0.213735676574, velocidad:0, orientacion:0, fecha:-1.17041500099 deleted!\n",
        "id:3299079907, recurso:tetra:12082781, latitud:0.0431845847022, longitud:-0.213735676574, velocidad:0, orientacion:0, fecha:-1.16095748064 deleted!\n",
        "id:3299079831, recurso:tetra:12082781, latitud:0.0431845847022, longitud:-0.213735676574, velocidad:0, orientacion:0, fecha:-1.16239043827 deleted!\n",
        "id:3299080393, recurso:tetra:12082781, latitud:0.0416636196687, longitud:-0.211937702414, velocidad:0, orientacion:0, fecha:-1.1514999603 deleted!\n",
        "id:3299080325, recurso:tetra:12082781, latitud:0.0416636196687, longitud:-0.211937702414, velocidad:0, orientacion:0, fecha:-1.15321950945 deleted!\n",
        "id:3299080987, recurso:tetra:12082781, latitud:0.0387386869118, longitud:-0.213286183034, velocidad:0, orientacion:0, fecha:-1.14232903147 deleted!\n",
        "id:3299080929, recurso:tetra:12082781, latitud:0.0416636196687, longitud:-0.213286183034, velocidad:0, orientacion:0, fecha:-1.1437619891 deleted!\n",
        "id:3299081614, recurso:tetra:12082781, latitud:0.0313678563645, longitud:-0.213735676574, velocidad:0, orientacion:0, fecha:-1.13497318231 deleted!"
       ]
      },
      {
       "output_type": "stream",
       "stream": "stdout",
       "text": [
        "\n",
        "id:3299081508, recurso:tetra:12082781, latitud:0.0313678563645, longitud:-0.213735676574, velocidad:0, orientacion:0, fecha:-1.13631060943 deleted!\n",
        "id:3299082116, recurso:tetra:12082781, latitud:0.0387386869118, longitud:-0.218530274334, velocidad:0, orientacion:0, fecha:-1.12771286366 deleted!\n",
        "id:3299082005, recurso:tetra:12082781, latitud:0.026921958574, longitud:-0.214784494834, velocidad:0, orientacion:0, fecha:-1.1293368823 deleted!\n",
        "id:3299082383, recurso:tetra:12082781, latitud:0.0387386869118, longitud:-0.214784494834, velocidad:1, orientacion:135, fecha:-1.11873299585 deleted!\n",
        "id:3299082312, recurso:tetra:12082781, latitud:0.0387386869118, longitud:-0.216132975454, velocidad:0, orientacion:0, fecha:-1.12016595348 deleted!\n",
        "id:3299082993, recurso:tetra:12082781, latitud:0.0181471603034, longitud:-0.218530274334, velocidad:0, orientacion:0, fecha:-1.10994418906 deleted!\n",
        "id:3299082845, recurso:tetra:12082781, latitud:0.0181471603034, longitud:-0.219878754954, velocidad:0, orientacion:0, fecha:-1.11223692127 deleted!\n",
        "id:3299083551, recurso:tetra:12082781, latitud:0.0313678563645, longitud:-0.208191922914, velocidad:0, orientacion:0, fecha:-1.10230174837 deleted!\n",
        "id:3299083323, recurso:tetra:12082781, latitud:0.0313678563645, longitud:-0.208641416454, velocidad:0, orientacion:0, fecha:-1.10354364499 deleted!\n",
        "id:3299083895, recurso:tetra:12082781, latitud:0.0342927891214, longitud:-0.206693611114, velocidad:0, orientacion:0, fecha:-1.0947548382 deleted!"
       ]
      },
      {
       "output_type": "stream",
       "stream": "stdout",
       "text": [
        "\n",
        "id:3299083789, recurso:tetra:12082781, latitud:0.0342927891214, longitud:-0.205345130495, velocidad:0, orientacion:0, fecha:-1.09609226532 deleted!\n",
        "id:3299084396, recurso:tetra:12082781, latitud:0.0431845847022, longitud:-0.208641416454, velocidad:0, orientacion:0, fecha:-1.08395989073 deleted!\n",
        "id:3299084239, recurso:tetra:12082781, latitud:0.0431845847022, longitud:-0.208641416454, velocidad:0, orientacion:0, fecha:-1.08567943988 deleted!\n",
        "id:3299084870, recurso:tetra:12082781, latitud:0.0387386869118, longitud:-0.209540403534, velocidad:0, orientacion:0, fecha:-1.07669957207 deleted!\n",
        "id:3299084817, recurso:tetra:12082781, latitud:0.0387386869118, longitud:-0.209540403534, velocidad:0, orientacion:0, fecha:-1.07784593818 deleted!\n",
        "id:3299085275, recurso:tetra:12082781, latitud:0.0342927891214, longitud:-0.213286183034, velocidad:0, orientacion:0, fecha:-1.06752864325 deleted!\n",
        "id:3299085138, recurso:tetra:12082781, latitud:0.0358137541549, longitud:-0.211937702414, velocidad:0, orientacion:0, fecha:-1.06905713139 deleted!\n",
        "id:3299085978, recurso:tetra:12082781, latitud:0.0255179908507, longitud:-0.208641416454, velocidad:0, orientacion:0, fecha:-1.05797559239 deleted!\n",
        "id:3299085893, recurso:tetra:12082781, latitud:0.0255179908507, longitud:-0.208641416454, velocidad:0, orientacion:0, fecha:-1.059217489 deleted!"
       ]
      },
      {
       "output_type": "stream",
       "stream": "stdout",
       "text": [
        "\n",
        "id:3299086313, recurso:tetra:12082781, latitud:0.0313678563645, longitud:-0.213735676574, velocidad:0, orientacion:0, fecha:-1.0480404195 deleted!\n",
        "id:3299086234, recurso:tetra:12082781, latitud:0.0299638886412, longitud:-0.213735676574, velocidad:0, orientacion:0, fecha:-1.04985549916 deleted!\n",
        "id:3299086866, recurso:tetra:12082781, latitud:0.0342927891214, longitud:-0.215233988374, velocidad:0, orientacion:0, fecha:-1.04068457034 deleted!\n",
        "id:3299086769, recurso:tetra:12082781, latitud:0.0342927891214, longitud:-0.215233988374, velocidad:0, orientacion:0, fecha:-1.04230858898 deleted!\n",
        "id:3299087365, recurso:tetra:12082781, latitud:0.0299638886412, longitud:-0.217031962534, velocidad:0, orientacion:0, fecha:-1.03103598897 deleted!\n",
        "id:3299087160, recurso:tetra:12082781, latitud:0.0299638886412, longitud:-0.217031962534, velocidad:0, orientacion:0, fecha:-1.03294659914 deleted!\n",
        "id:3299087834, recurso:tetra:12082781, latitud:0.0358137541549, longitud:-0.213735676574, velocidad:0, orientacion:0, fecha:-1.02262930422 deleted!\n",
        "id:3299087724, recurso:tetra:12082781, latitud:0.0342927891214, longitud:-0.217031962534, velocidad:0, orientacion:0, fecha:-1.02406226184 deleted!\n",
        "id:3299088234, recurso:tetra:12082781, latitud:0.0299638886412, longitud:-0.211937702414, velocidad:0, orientacion:0, fecha:-1.01431814997 deleted!\n",
        "id:3299088194, recurso:tetra:12082781, latitud:0.0299638886412, longitud:-0.210439390614, velocidad:0, orientacion:0, fecha:-1.01670641268 deleted!"
       ]
      },
      {
       "output_type": "stream",
       "stream": "stdout",
       "text": [
        "\n",
        "id:3299088830, recurso:tetra:12082781, latitud:0.0358137541549, longitud:-0.214784494834, velocidad:0, orientacion:0, fecha:-1.00638911776 deleted!\n",
        "id:3299088690, recurso:tetra:12082781, latitud:0.0358137541549, longitud:-0.214784494834, velocidad:0, orientacion:0, fecha:-1.00810866691 deleted!\n",
        "id:3299089258, recurso:tetra:12082781, latitud:0.0358137541549, longitud:-0.211038715334, velocidad:0, orientacion:0, fecha:-0.996262883847 deleted!\n",
        "id:3299089151, recurso:tetra:12082781, latitud:0.0416636196687, longitud:-0.213286183034, velocidad:0, orientacion:135, fecha:-0.997886902493 deleted!\n",
        "id:3299089886, recurso:tetra:12082781, latitud:0.0342927891214, longitud:-0.212387195954, velocidad:0, orientacion:0, fecha:-0.98862044316 deleted!\n",
        "id:3299089820, recurso:tetra:12082781, latitud:0.0387386869118, longitud:-0.212387195954, velocidad:0, orientacion:135, fecha:-0.989862339772 deleted!\n",
        "id:3299090222, recurso:tetra:12082781, latitud:0.026921958574, longitud:-0.216132975454, velocidad:0, orientacion:0, fecha:-0.979736105862 deleted!\n",
        "id:3299090216, recurso:tetra:12082781, latitud:0.0358137541549, longitud:-0.214784494834, velocidad:1, orientacion:270, fecha:-0.982219899085 deleted!\n",
        "id:3299090838, recurso:tetra:12082781, latitud:0.026921958574, longitud:-0.212387195954, velocidad:1, orientacion:112, fecha:-0.970851768564 deleted!\n",
        "id:3299090620, recurso:tetra:12082781, latitud:0.0299638886412, longitud:-0.211937702414, velocidad:0, orientacion:0, fecha:-0.973431092296 deleted!"
       ]
      },
      {
       "output_type": "stream",
       "stream": "stdout",
       "text": [
        "\n",
        "id:3299091264, recurso:tetra:12082781, latitud:0.0342927891214, longitud:-0.213286183034, velocidad:0, orientacion:0, fecha:-0.960916595671 deleted!\n",
        "id:3299091157, recurso:tetra:12082781, latitud:0.0313678563645, longitud:-0.212387195954, velocidad:0, orientacion:0, fecha:-0.9623495533 deleted!\n",
        "id:3299091755, recurso:tetra:12082781, latitud:0.0387386869118, longitud:-0.211038715334, velocidad:0, orientacion:0, fecha:-0.951936727864 deleted!\n",
        "id:3299091630, recurso:tetra:12082781, latitud:0.0387386869118, longitud:-0.211937702414, velocidad:0, orientacion:0, fecha:-0.95356074651 deleted!\n",
        "id:3299092231, recurso:tetra:12082781, latitud:0.0416636196687, longitud:-0.210439390614, velocidad:0, orientacion:0, fecha:-0.9434345126 deleted!\n",
        "id:3299092191, recurso:tetra:12082781, latitud:0.0431845847022, longitud:-0.211038715334, velocidad:0, orientacion:0, fecha:-0.945058531246 deleted!\n",
        "id:3299092820, recurso:tetra:12082781, latitud:0.0358137541549, longitud:-0.200550532735, velocidad:0, orientacion:270, fecha:-0.935696541405 deleted!\n",
        "id:3299092751, recurso:tetra:12082781, latitud:0.0358137541549, longitud:-0.207143104654, velocidad:0, orientacion:0, fecha:-0.937320560051 deleted!\n",
        "id:3299093254, recurso:tetra:12082781, latitud:0.013701262513, longitud:-0.197853571495, velocidad:0, orientacion:0, fecha:-0.925856899021 deleted!\n",
        "id:3299093114, recurso:tetra:12082781, latitud:0.019668125337, longitud:-0.196355259695, velocidad:0, orientacion:0, fecha:-0.92728985665 deleted!"
       ]
      },
      {
       "output_type": "stream",
       "stream": "stdout",
       "text": [
        "\n",
        "id:3299093864, recurso:tetra:12082781, latitud:0.019668125337, longitud:-0.191260999575, velocidad:0, orientacion:0, fecha:-0.917068092231 deleted!\n",
        "id:3299093785, recurso:tetra:12082781, latitud:0.0181471603034, longitud:-0.192159986655, velocidad:0, orientacion:0, fecha:-0.918787641386 deleted!\n",
        "id:3299094265, recurso:tetra:12082781, latitud:0.0475134851824, longitud:-0.205345130495, velocidad:0, orientacion:0, fecha:-0.90837481595 deleted!\n",
        "id:3299094153, recurso:tetra:12082781, latitud:0.0416636196687, longitud:-0.200550532735, velocidad:0, orientacion:0, fecha:-0.910094365105 deleted!\n",
        "id:3299094744, recurso:tetra:12082781, latitud:0.062255146277, longitud:-0.209540403534, velocidad:0, orientacion:0, fecha:-0.901210027806 deleted!\n",
        "id:3299094684, recurso:tetra:12082781, latitud:0.062255146277, longitud:-0.209540403534, velocidad:0, orientacion:112, fecha:-0.902451924418 deleted!\n",
        "id:3299095130, recurso:tetra:12082781, latitud:0.0504384179393, longitud:-0.209540403534, velocidad:0, orientacion:0, fecha:-0.892707812543 deleted!\n",
        "id:3299094982, recurso:tetra:12082781, latitud:0.0504384179393, longitud:-0.209540403534, velocidad:0, orientacion:0, fecha:-0.894427361697 deleted!\n",
        "id:3299095522, recurso:tetra:12082781, latitud:0.0504384179393, longitud:-0.211937702414, velocidad:0, orientacion:0, fecha:-0.884492188804 deleted!"
       ]
      },
      {
       "output_type": "stream",
       "stream": "stdout",
       "text": [
        "\n",
        "id:3299095456, recurso:tetra:12082781, latitud:0.0504384179393, longitud:-0.211937702414, velocidad:0, orientacion:0, fecha:-0.88611620745 deleted!\n",
        "id:3299096064, recurso:tetra:12082781, latitud:0.0504384179393, longitud:-0.205794624034, velocidad:0, orientacion:0, fecha:-0.874174893877 deleted!\n",
        "id:3299096052, recurso:tetra:12082781, latitud:0.0475134851824, longitud:-0.208641416454, velocidad:0, orientacion:0, fecha:-0.875703382015 deleted!\n",
        "id:3299096573, recurso:tetra:12082781, latitud:0.0416636196687, longitud:-0.202947831615, velocidad:0, orientacion:0, fecha:-0.866341392173 deleted!\n",
        "id:3299096463, recurso:tetra:12082781, latitud:0.0416636196687, longitud:-0.203397325155, velocidad:0, orientacion:0, fecha:-0.867678819294 deleted!\n",
        "id:3299097027, recurso:tetra:12082781, latitud:0.0358137541549, longitud:-0.211038715334, velocidad:0, orientacion:0, fecha:-0.857265993858 deleted!\n",
        "id:3299096920, recurso:tetra:12082781, latitud:0.0387386869118, longitud:-0.210439390614, velocidad:0, orientacion:0, fecha:-0.858698951487 deleted!\n",
        "id:3299097598, recurso:tetra:12082781, latitud:0.0342927891214, longitud:-0.211937702414, velocidad:0, orientacion:0, fecha:-0.848859309103 deleted!\n",
        "id:3299097453, recurso:tetra:12082781, latitud:0.0299638886412, longitud:-0.211937702414, velocidad:0, orientacion:0, fecha:-0.850674388766 deleted!"
       ]
      },
      {
       "output_type": "stream",
       "stream": "stdout",
       "text": [
        "\n",
        "id:3299097894, recurso:tetra:12082781, latitud:0.0342927891214, longitud:-0.211038715334, velocidad:0, orientacion:0, fecha:-0.841694520959 deleted!\n",
        "id:3299097888, recurso:tetra:12082781, latitud:0.0313678563645, longitud:-0.212387195954, velocidad:0, orientacion:0, fecha:-0.843700661639 deleted!\n",
        "id:3299098402, recurso:tetra:12082781, latitud:0.00937236203283, longitud:-0.208641416454, velocidad:0, orientacion:0, fecha:-0.833956549764 deleted!\n",
        "id:3299098230, recurso:tetra:12082781, latitud:0.0225930580939, longitud:-0.211937702414, velocidad:0, orientacion:0, fecha:-0.83624928197 deleted!\n",
        "id:3299098959, recurso:tetra:12082781, latitud:0.0313678563645, longitud:-0.212387195954, velocidad:0, orientacion:0, fecha:-0.824307968397 deleted!\n",
        "id:3299098778, recurso:tetra:12082781, latitud:0.0313678563645, longitud:-0.213286183034, velocidad:0, orientacion:0, fecha:-0.825931987043 deleted!\n",
        "id:3299099321, recurso:tetra:12082781, latitud:0.0387386869118, longitud:-0.213735676574, velocidad:0, orientacion:0, fecha:-0.81465938703 deleted!\n",
        "id:3299099238, recurso:tetra:12082781, latitud:0.0387386869118, longitud:-0.213735676574, velocidad:0, orientacion:0, fecha:-0.816474466693 deleted!\n",
        "id:3299099921, recurso:tetra:12082781, latitud:0.0358137541549, longitud:-0.209540403534, velocidad:0, orientacion:0, fecha:-0.805010805663 deleted!"
       ]
      },
      {
       "output_type": "stream",
       "stream": "stdout",
       "text": [
        "\n",
        "id:3299099692, recurso:tetra:12082781, latitud:0.0358137541549, longitud:-0.212387195954, velocidad:0, orientacion:0, fecha:-0.809214148041 deleted!\n",
        "id:3299100683, recurso:tetra:12082781, latitud:0.0342927891214, longitud:-0.206693611114, velocidad:0, orientacion:0, fecha:-0.795648815822 deleted!\n",
        "id:3299100510, recurso:tetra:12082781, latitud:0.0358137541549, longitud:-0.208191922914, velocidad:0, orientacion:45, fecha:-0.796986242942 deleted!\n",
        "id:3299101433, recurso:tetra:12082781, latitud:0.0342927891214, longitud:-0.208641416454, velocidad:1, orientacion:247, fecha:-0.787051070049 deleted!\n",
        "id:3299101283, recurso:tetra:12082781, latitud:0.0313678563645, longitud:-0.209540403534, velocidad:0, orientacion:0, fecha:-0.788961680221 deleted!\n",
        "id:3299101963, recurso:tetra:12082781, latitud:0.0313678563645, longitud:-0.204446143415, velocidad:0, orientacion:0, fecha:-0.780077342923 deleted!\n",
        "id:3299101824, recurso:tetra:12082781, latitud:0.0342927891214, longitud:-0.208191922914, velocidad:0, orientacion:0, fecha:-0.78160583106 deleted!\n",
        "id:3299102269, recurso:tetra:12082781, latitud:0.0313678563645, longitud:-0.209540403534, velocidad:0, orientacion:0, fecha:-0.770333231047 deleted!\n",
        "id:3299102223, recurso:tetra:12082781, latitud:0.0313678563645, longitud:-0.210439390614, velocidad:0, orientacion:0, fecha:-0.772625963253 deleted!\n",
        "id:3299102802, recurso:tetra:12082781, latitud:0.0313678563645, longitud:-0.212387195954, velocidad:0, orientacion:0, fecha:-0.761735485275 deleted!"
       ]
      },
      {
       "output_type": "stream",
       "stream": "stdout",
       "text": [
        "\n",
        "id:3299102673, recurso:tetra:12082781, latitud:0.0358137541549, longitud:-0.211937702414, velocidad:0, orientacion:0, fecha:-0.763359503921 deleted!\n",
        "id:3299103270, recurso:tetra:12082781, latitud:0.0461095174591, longitud:-0.208191922914, velocidad:0, orientacion:0, fecha:-0.753233270011 deleted!\n",
        "id:3299103219, recurso:tetra:12082781, latitud:0.0431845847022, longitud:-0.208641416454, velocidad:0, orientacion:0, fecha:-0.755048349674 deleted!\n",
        "id:3299103571, recurso:tetra:12082781, latitud:0.0416636196687, longitud:-0.208191922914, velocidad:0, orientacion:45, fecha:-0.744635524238 deleted!\n",
        "id:3299103494, recurso:tetra:12082781, latitud:0.0416636196687, longitud:-0.207143104654, velocidad:1, orientacion:225, fecha:-0.746164012376 deleted!\n",
        "id:3299104052, recurso:tetra:12082781, latitud:0.0387386869118, longitud:-0.210439390614, velocidad:0, orientacion:0, fecha:-0.735273534397 deleted!\n",
        "id:3299104020, recurso:tetra:12082781, latitud:0.0416636196687, longitud:-0.210439390614, velocidad:0, orientacion:0, fecha:-0.736802022534 deleted!\n",
        "id:3299104580, recurso:tetra:12082781, latitud:0.0431845847022, longitud:-0.211038715334, velocidad:0, orientacion:0, fecha:-0.72696238015 deleted!\n",
        "id:3299104444, recurso:tetra:12082781, latitud:0.0431845847022, longitud:-0.211038715334, velocidad:0, orientacion:0, fecha:-0.72829980727 deleted!\n",
        "id:3299105058, recurso:tetra:12082781, latitud:0.0342927891214, longitud:-0.205794624034, velocidad:0, orientacion:0, fecha:-0.716549554715 deleted!"
       ]
      },
      {
       "output_type": "stream",
       "stream": "stdout",
       "text": [
        "\n",
        "id:3299104992, recurso:tetra:12082781, latitud:0.0313678563645, longitud:-0.208641416454, velocidad:0, orientacion:0, fecha:-0.719988653024 deleted!\n",
        "id:3299105520, recurso:tetra:12082781, latitud:0.0461095174591, longitud:-0.207143104654, velocidad:0, orientacion:0, fecha:-0.708333930977 deleted!\n",
        "id:3299105395, recurso:tetra:12082781, latitud:0.0431845847022, longitud:-0.206693611114, velocidad:0, orientacion:0, fecha:-0.709575827588 deleted!\n",
        "id:3299105856, recurso:tetra:12082781, latitud:0.0461095174591, longitud:-0.208641416454, velocidad:0, orientacion:0, fecha:-0.698589819101 deleted!\n",
        "id:3299105785, recurso:tetra:12082781, latitud:0.0461095174591, longitud:-0.208641416454, velocidad:0, orientacion:0, fecha:-0.700309368256 deleted!\n",
        "id:3299106346, recurso:tetra:12082781, latitud:0.0387386869118, longitud:-0.209540403534, velocidad:0, orientacion:0, fecha:-0.69056525638 deleted!\n",
        "id:3299106211, recurso:tetra:12082781, latitud:0.0387386869118, longitud:-0.209540403534, velocidad:0, orientacion:0, fecha:-0.691807152992 deleted!"
       ]
      },
      {
       "output_type": "stream",
       "stream": "stdout",
       "text": [
        "\n",
        "id:3299106787, recurso:tetra:12082781, latitud:0.0431845847022, longitud:-0.209540403534, velocidad:0, orientacion:0, fecha:-0.682349632642 deleted!\n",
        "id:3299106756, recurso:tetra:12082781, latitud:0.0416636196687, longitud:-0.209540403534, velocidad:0, orientacion:0, fecha:-0.684451303831 deleted!\n",
        "id:3299107101, recurso:tetra:12082781, latitud:0.0342927891214, longitud:-0.214784494834, velocidad:0, orientacion:225, fecha:-0.673751886869 deleted!\n",
        "id:3299107014, recurso:tetra:12082781, latitud:0.0342927891214, longitud:-0.213735676574, velocidad:0, orientacion:0, fecha:-0.676044619075 deleted!\n",
        "id:3299107538, recurso:tetra:12082781, latitud:0.0313678563645, longitud:-0.214784494834, velocidad:0, orientacion:0, fecha:-0.66496308008 deleted!\n",
        "id:3299107511, recurso:tetra:12082781, latitud:0.0313678563645, longitud:-0.214784494834, velocidad:0, orientacion:0, fecha:-0.666587098726 deleted!\n",
        "id:3299108101, recurso:tetra:12082781, latitud:0.0387386869118, longitud:-0.213735676574, velocidad:0, orientacion:0, fecha:-0.656556395324 deleted!\n",
        "id:3299108018, recurso:tetra:12082781, latitud:0.0387386869118, longitud:-0.213735676574, velocidad:0, orientacion:0, fecha:-0.657893822444 deleted!\n",
        "id:3299108590, recurso:tetra:12082781, latitud:0.0166261952699, longitud:-0.208641416454, velocidad:0, orientacion:0, fecha:-0.647098874975 deleted!"
       ]
      },
      {
       "output_type": "stream",
       "stream": "stdout",
       "text": [
        "\n",
        "id:3299108501, recurso:tetra:12082781, latitud:0.0181471603034, longitud:-0.208641416454, velocidad:0, orientacion:0, fecha:-0.648913954638 deleted!\n",
        "id:3299109050, recurso:tetra:12082781, latitud:0.019668125337, longitud:-0.210439390614, velocidad:0, orientacion:180, fecha:-0.639265373271 deleted!\n",
        "id:3299108991, recurso:tetra:12082781, latitud:0.0166261952699, longitud:-0.209540403534, velocidad:0, orientacion:0, fecha:-0.640889391917 deleted!\n",
        "id:3299109339, recurso:tetra:12082781, latitud:0.0299638886412, longitud:-0.211038715334, velocidad:0, orientacion:0, fecha:-0.630858688515 deleted!\n",
        "id:3299109244, recurso:tetra:12082781, latitud:0.0299638886412, longitud:-0.211038715334, velocidad:0, orientacion:0, fecha:-0.632673768178 deleted!\n",
        "id:3299109935, recurso:tetra:12082781, latitud:0.0431845847022, longitud:-0.212387195954, velocidad:0, orientacion:0, fecha:-0.62044586308 deleted!\n",
        "id:3299109809, recurso:tetra:12082781, latitud:0.0431845847022, longitud:-0.212387195954, velocidad:0, orientacion:0, fecha:-0.622069881726 deleted!\n",
        "id:3299110351, recurso:tetra:12082781, latitud:0.0461095174591, longitud:-0.213735676574, velocidad:0, orientacion:112, fecha:-0.610415159679 deleted!\n",
        "id:3299110219, recurso:tetra:12082781, latitud:0.0475134851824, longitud:-0.214784494834, velocidad:0, orientacion:0, fecha:-0.611848117307 deleted!"
       ]
      },
      {
       "output_type": "stream",
       "stream": "stdout",
       "text": [
        "\n",
        "id:3299110773, recurso:tetra:12082781, latitud:0.026921958574, longitud:-0.211038715334, velocidad:0, orientacion:0, fecha:-0.603536963061 deleted!\n",
        "id:3299110634, recurso:tetra:12082781, latitud:0.026921958574, longitud:-0.211038715334, velocidad:0, orientacion:0, fecha:-0.604874390181 deleted!\n",
        "id:3299111200, recurso:tetra:12082781, latitud:0.0299638886412, longitud:-0.210439390614, velocidad:0, orientacion:0, fecha:-0.594557095254 deleted!\n",
        "id:3299111080, recurso:tetra:12082781, latitud:0.0342927891214, longitud:-0.210439390614, velocidad:0, orientacion:315, fecha:-0.597136418985 deleted!\n",
        "id:3299111702, recurso:tetra:12082781, latitud:0.0416636196687, longitud:-0.213286183034, velocidad:0, orientacion:0, fecha:-0.585577227447 deleted!\n",
        "id:3299111609, recurso:tetra:12082781, latitud:0.0358137541549, longitud:-0.211038715334, velocidad:0, orientacion:0, fecha:-0.587296776601 deleted!\n",
        "id:3299112153, recurso:tetra:12082781, latitud:0.0358137541549, longitud:-0.215233988374, velocidad:0, orientacion:0, fecha:-0.577361603709 deleted!\n",
        "id:3299112088, recurso:tetra:12082781, latitud:0.0342927891214, longitud:-0.215233988374, velocidad:0, orientacion:0, fecha:-0.579081152863 deleted!\n",
        "id:3299112499, recurso:tetra:12082781, latitud:0.0416636196687, longitud:-0.214784494834, velocidad:0, orientacion:0, fecha:-0.570101285056 deleted!\n",
        "id:3299112497, recurso:tetra:12082781, latitud:0.0416636196687, longitud:-0.214784494834, velocidad:0, orientacion:157, fecha:-0.571438712176 deleted!"
       ]
      },
      {
       "output_type": "stream",
       "stream": "stdout",
       "text": [
        "\n",
        "id:3299113021, recurso:tetra:12082781, latitud:0.0416636196687, longitud:-0.212387195954, velocidad:0, orientacion:0, fecha:-0.561312478267 deleted!\n",
        "id:3299112939, recurso:tetra:12082781, latitud:0.0416636196687, longitud:-0.212387195954, velocidad:0, orientacion:0, fecha:-0.562554374878 deleted!\n",
        "id:3299113452, recurso:tetra:12082781, latitud:0.0387386869118, longitud:-0.213286183034, velocidad:0, orientacion:0, fecha:-0.552905793511 deleted!\n",
        "id:3299113380, recurso:tetra:12082781, latitud:0.0387386869118, longitud:-0.212387195954, velocidad:0, orientacion:0, fecha:-0.554434281649 deleted!\n",
        "id:3299113840, recurso:tetra:12082781, latitud:0.0358137541549, longitud:-0.213286183034, velocidad:0, orientacion:0, fecha:-0.544403578247 deleted!\n",
        "id:3299113748, recurso:tetra:12082781, latitud:0.0358137541549, longitud:-0.213286183034, velocidad:0, orientacion:0, fecha:-0.54554994435 deleted!\n",
        "id:3299114222, recurso:tetra:12082781, latitud:0.0313678563645, longitud:-0.213286183034, velocidad:0, orientacion:0, fecha:-0.535519240949 deleted!\n",
        "id:3299114154, recurso:tetra:12082781, latitud:0.0342927891214, longitud:-0.212387195954, velocidad:0, orientacion:0, fecha:-0.538576217224 deleted!\n",
        "id:3299114763, recurso:tetra:12082781, latitud:0.0313678563645, longitud:-0.211038715334, velocidad:0, orientacion:0, fecha:-0.52739914772 deleted!"
       ]
      },
      {
       "output_type": "stream",
       "stream": "stdout",
       "text": [
        "\n",
        "id:3299114686, recurso:tetra:12082781, latitud:0.0299638886412, longitud:-0.211038715334, velocidad:0, orientacion:0, fecha:-0.529309757891 deleted!\n",
        "id:3299115217, recurso:tetra:12082781, latitud:0.0342927891214, longitud:-0.212387195954, velocidad:0, orientacion:22, fecha:-0.519565646016 deleted!\n",
        "id:3299115119, recurso:tetra:12082781, latitud:0.0299638886412, longitud:-0.211937702414, velocidad:0, orientacion:0, fecha:-0.520998603644 deleted!\n",
        "id:3299115636, recurso:tetra:12082781, latitud:0.026921958574, longitud:-0.213735676574, velocidad:0, orientacion:0, fecha:-0.510872369735 deleted!\n",
        "id:3299115574, recurso:tetra:12082781, latitud:0.026921958574, longitud:-0.213735676574, velocidad:0, orientacion:0, fecha:-0.512496388381 deleted!\n",
        "id:3299116026, recurso:tetra:12082781, latitud:0.0299638886412, longitud:-0.214784494834, velocidad:0, orientacion:0, fecha:-0.49969530023 deleted!\n",
        "id:3299115911, recurso:tetra:12082781, latitud:0.0299638886412, longitud:-0.214784494834, velocidad:0, orientacion:0, fecha:-0.501892501928 deleted!\n",
        "id:3299116514, recurso:tetra:12082781, latitud:0.0255179908507, longitud:-0.216132975454, velocidad:0, orientacion:0, fecha:-0.492243920561 deleted!\n",
        "id:3299116429, recurso:tetra:12082781, latitud:0.0255179908507, longitud:-0.216132975454, velocidad:0, orientacion:0, fecha:-0.494441122258 deleted!\n",
        "id:3299117019, recurso:tetra:12082781, latitud:0.0710299445476, longitud:-0.217481456074, velocidad:1, orientacion:180, fecha:-0.485079132417 deleted!"
       ]
      },
      {
       "output_type": "stream",
       "stream": "stdout",
       "text": [
        "\n",
        "id:3299116888, recurso:tetra:12082781, latitud:0.0872925706758, longitud:-0.217481456074, velocidad:0, orientacion:0, fecha:-0.486416559537 deleted!\n",
        "id:3299117310, recurso:tetra:12082781, latitud:0.0548843157297, longitud:-0.212387195954, velocidad:0, orientacion:0, fecha:-0.476672447662 deleted!\n",
        "id:3299117226, recurso:tetra:12082781, latitud:0.0519593829728, longitud:-0.212387195954, velocidad:0, orientacion:0, fecha:-0.478200935799 deleted!\n",
        "id:3299117744, recurso:tetra:12082781, latitud:0.0461095174591, longitud:-0.214784494834, velocidad:0, orientacion:0, fecha:-0.467405988329 deleted!\n",
        "id:3299117633, recurso:tetra:12082781, latitud:0.0461095174591, longitud:-0.213735676574, velocidad:0, orientacion:0, fecha:-0.468743415449 deleted!\n",
        "id:3299118263, recurso:tetra:12082781, latitud:0.0504384179393, longitud:-0.213286183034, velocidad:0, orientacion:0, fecha:-0.458999303574 deleted!\n",
        "id:3299118112, recurso:tetra:12082781, latitud:0.0475134851824, longitud:-0.213286183034, velocidad:0, orientacion:0, fecha:-0.460432261203 deleted!\n",
        "id:3299118807, recurso:tetra:12082781, latitud:0.0564052807633, longitud:-0.212387195954, velocidad:0, orientacion:0, fecha:-0.450306027293 deleted!\n",
        "id:3299118681, recurso:tetra:12082781, latitud:0.0564052807633, longitud:-0.212387195954, velocidad:0, orientacion:0, fecha:-0.452312167973 deleted!\n",
        "id:3299119176, recurso:tetra:12082781, latitud:0.0593302135202, longitud:-0.212387195954, velocidad:0, orientacion:0, fecha:-0.44304570864 deleted!"
       ]
      },
      {
       "output_type": "stream",
       "stream": "stdout",
       "text": [
        "\n",
        "id:3299119123, recurso:tetra:12082781, latitud:0.0593302135202, longitud:-0.212387195954, velocidad:0, orientacion:0, fecha:-0.444287605252 deleted!\n",
        "id:3299119659, recurso:tetra:12082781, latitud:0.0519593829728, longitud:-0.213286183034, velocidad:0, orientacion:0, fecha:-0.434256901851 deleted!\n",
        "id:3299119487, recurso:tetra:12082781, latitud:0.0548843157297, longitud:-0.213286183034, velocidad:0, orientacion:0, fecha:-0.435785389988 deleted!\n",
        "id:3299120106, recurso:tetra:12082781, latitud:0.0504384179393, longitud:-0.213286183034, velocidad:0, orientacion:0, fecha:-0.426327869638 deleted!\n",
        "id:3299119980, recurso:tetra:12082781, latitud:0.0504384179393, longitud:-0.213286183034, velocidad:0, orientacion:0, fecha:-0.427665296758 deleted!\n",
        "id:3299120459, recurso:tetra:12082781, latitud:0.0461095174591, longitud:-0.211937702414, velocidad:0, orientacion:0, fecha:-0.417539062849 deleted!\n",
        "id:3299120365, recurso:tetra:12082781, latitud:0.0461095174591, longitud:-0.211937702414, velocidad:0, orientacion:0, fecha:-0.41944967302 deleted!\n",
        "id:3299120869, recurso:tetra:12082781, latitud:0.0564052807633, longitud:-0.211937702414, velocidad:0, orientacion:0, fecha:-0.408845786568 deleted!\n",
        "id:3299120769, recurso:tetra:12082781, latitud:0.0475134851824, longitud:-0.211937702414, velocidad:0, orientacion:0, fecha:-0.411329579791 deleted!\n",
        "id:3299121367, recurso:tetra:12082781, latitud:0.0358137541549, longitud:-0.211937702414, velocidad:0, orientacion:0, fecha:-0.401489937407 deleted!"
       ]
      },
      {
       "output_type": "stream",
       "stream": "stdout",
       "text": [
        "\n",
        "id:3299121219, recurso:tetra:12082781, latitud:0.0461095174591, longitud:-0.211038715334, velocidad:0, orientacion:0, fecha:-0.403113956052 deleted!\n",
        "id:3299121652, recurso:tetra:12082781, latitud:0.0387386869118, longitud:-0.212387195954, velocidad:0, orientacion:0, fecha:-0.392414539091 deleted!\n",
        "id:3299121584, recurso:tetra:12082781, latitud:0.0387386869118, longitud:-0.212387195954, velocidad:0, orientacion:0, fecha:-0.394229618754 deleted!\n",
        "id:3299122124, recurso:tetra:12082781, latitud:0.0416636196687, longitud:-0.211038715334, velocidad:0, orientacion:0, fecha:-0.383148079759 deleted!\n",
        "id:3299122084, recurso:tetra:12082781, latitud:0.0416636196687, longitud:-0.211038715334, velocidad:0, orientacion:0, fecha:-0.38438997637 deleted!\n",
        "id:3299122487, recurso:tetra:12082781, latitud:0.0387386869118, longitud:-0.209540403534, velocidad:0, orientacion:0, fecha:-0.375123517038 deleted!\n",
        "id:3299122485, recurso:tetra:12082781, latitud:0.0387386869118, longitud:-0.209540403534, velocidad:0, orientacion:0, fecha:-0.376938596701 deleted!\n",
        "id:3299122929, recurso:tetra:12082781, latitud:0.0475134851824, longitud:-0.209540403534, velocidad:0, orientacion:0, fecha:-0.367576606859 deleted!\n",
        "id:3299122814, recurso:tetra:12082781, latitud:0.0342927891214, longitud:-0.208641416454, velocidad:0, orientacion:0, fecha:-0.36891403398 deleted!\n",
        "id:3299123449, recurso:tetra:12082781, latitud:0.026921958574, longitud:-0.210439390614, velocidad:0, orientacion:0, fecha:-0.357163781424 deleted!"
       ]
      },
      {
       "output_type": "stream",
       "stream": "stdout",
       "text": [
        "\n",
        "id:3299123253, recurso:tetra:12082781, latitud:0.026921958574, longitud:-0.211038715334, velocidad:0, orientacion:0, fecha:-0.358596739053 deleted!\n",
        "id:3299123754, recurso:tetra:12082781, latitud:0.0358137541549, longitud:-0.210439390614, velocidad:0, orientacion:0, fecha:-0.3479928526 deleted!\n",
        "id:3299123710, recurso:tetra:12082781, latitud:0.0342927891214, longitud:-0.209540403534, velocidad:0, orientacion:0, fecha:-0.349807932263 deleted!\n",
        "id:3299124148, recurso:tetra:12082781, latitud:0.019668125337, longitud:-0.210439390614, velocidad:0, orientacion:0, fecha:-0.340063820387 deleted!\n",
        "id:3299124110, recurso:tetra:12082781, latitud:0.019668125337, longitud:-0.210439390614, velocidad:0, orientacion:0, fecha:-0.342356552593 deleted!\n",
        "id:3299124640, recurso:tetra:12082781, latitud:0.0416636196687, longitud:-0.211038715334, velocidad:0, orientacion:0, fecha:-0.330797361055 deleted!\n",
        "id:3299124578, recurso:tetra:12082781, latitud:0.0416636196687, longitud:-0.210439390614, velocidad:0, orientacion:0, fecha:-0.332803501735 deleted!\n",
        "id:3299125126, recurso:tetra:12082781, latitud:0.0387386869118, longitud:-0.211038715334, velocidad:0, orientacion:0, fecha:-0.322963859351 deleted!"
       ]
      },
      {
       "output_type": "stream",
       "stream": "stdout",
       "text": [
        "\n",
        "id:3299125001, recurso:tetra:12082781, latitud:0.0387386869118, longitud:-0.211038715334, velocidad:0, orientacion:0, fecha:-0.324587877997 deleted!\n",
        "id:3299125537, recurso:tetra:12082781, latitud:0.0461095174591, longitud:-0.213735676574, velocidad:0, orientacion:0, fecha:-0.314366113579 deleted!\n",
        "id:3299125448, recurso:tetra:12082781, latitud:0.0461095174591, longitud:-0.211937702414, velocidad:0, orientacion:0, fecha:-0.316085662733 deleted!\n",
        "id:3299125912, recurso:tetra:12082781, latitud:0.0461095174591, longitud:-0.212387195954, velocidad:0, orientacion:0, fecha:-0.305959428823 deleted!\n",
        "id:3299125798, recurso:tetra:12082781, latitud:0.0461095174591, longitud:-0.212387195954, velocidad:0, orientacion:0, fecha:-0.307296855943 deleted!\n",
        "id:3299126397, recurso:tetra:12082781, latitud:0.0416636196687, longitud:-0.211937702414, velocidad:0, orientacion:0, fecha:-0.297552744068 deleted!\n",
        "id:3299126270, recurso:tetra:12082781, latitud:0.0416636196687, longitud:-0.211937702414, velocidad:0, orientacion:0, fecha:-0.299176762714 deleted!\n",
        "id:3299126815, recurso:tetra:12082781, latitud:0.0504384179393, longitud:-0.211937702414, velocidad:0, orientacion:0, fecha:-0.290483486433 deleted!"
       ]
      },
      {
       "output_type": "stream",
       "stream": "stdout",
       "text": [
        "\n",
        "id:3299126747, recurso:tetra:12082781, latitud:0.0475134851824, longitud:-0.211937702414, velocidad:0, orientacion:0, fecha:-0.291725383044 deleted!\n",
        "id:3299127103, recurso:tetra:12082781, latitud:0.0313678563645, longitud:-0.206693611114, velocidad:0, orientacion:0, fecha:-0.281981271169 deleted!\n",
        "id:3299127021, recurso:tetra:12082781, latitud:0.0299638886412, longitud:-0.205794624034, velocidad:0, orientacion:0, fecha:-0.28322316778 deleted!\n",
        "id:3299127585, recurso:tetra:12082781, latitud:0.0358137541549, longitud:-0.207143104654, velocidad:0, orientacion:0, fecha:-0.272905872853 deleted!\n",
        "id:3299127430, recurso:tetra:12082781, latitud:0.0313678563645, longitud:-0.207143104654, velocidad:0, orientacion:0, fecha:-0.274529891499 deleted!\n",
        "id:3299128039, recurso:tetra:12082781, latitud:0.026921958574, longitud:-0.208191922914, velocidad:0, orientacion:0, fecha:-0.264021535555 deleted!\n",
        "id:3299127891, recurso:tetra:12082781, latitud:0.0299638886412, longitud:-0.207143104654, velocidad:0, orientacion:0, fecha:-0.265358962675 deleted!\n",
        "id:3299128490, recurso:tetra:12082781, latitud:0.0299638886412, longitud:-0.208191922914, velocidad:0, orientacion:0, fecha:-0.256092503343 deleted!"
       ]
      },
      {
       "output_type": "stream",
       "stream": "stdout",
       "text": [
        "\n",
        "id:3299128411, recurso:tetra:12082781, latitud:0.0299638886412, longitud:-0.208191922914, velocidad:0, orientacion:0, fecha:-0.257812052497 deleted!\n",
        "id:3299128964, recurso:tetra:12082781, latitud:0.0342927891214, longitud:-0.209540403534, velocidad:0, orientacion:0, fecha:-0.249309837233 deleted!\n",
        "id:3299128838, recurso:tetra:12082781, latitud:0.0342927891214, longitud:-0.209540403534, velocidad:0, orientacion:0, fecha:-0.250838325371 deleted!\n",
        "id:3299129339, recurso:tetra:12082781, latitud:0.0387386869118, longitud:-0.208641416454, velocidad:0, orientacion:0, fecha:-0.239088072815 deleted!\n",
        "id:3299129270, recurso:tetra:12082781, latitud:0.0387386869118, longitud:-0.208641416454, velocidad:0, orientacion:0, fecha:-0.241380805021 deleted!\n",
        "id:3299129805, recurso:tetra:12082781, latitud:0.0387386869118, longitud:-0.208641416454, velocidad:0, orientacion:0, fecha:-0.230681388059 deleted!\n",
        "id:3299129707, recurso:tetra:12082781, latitud:0.0358137541549, longitud:-0.209540403534, velocidad:0, orientacion:157, fecha:-0.232305406705 deleted!\n",
        "id:3299130201, recurso:tetra:12082781, latitud:0.0416636196687, longitud:-0.211038715334, velocidad:0, orientacion:0, fecha:-0.221797050761 deleted!"
       ]
      },
      {
       "output_type": "stream",
       "stream": "stdout",
       "text": [
        "\n",
        "id:3299130124, recurso:tetra:12082781, latitud:0.0416636196687, longitud:-0.211038715334, velocidad:0, orientacion:0, fecha:-0.223134477881 deleted!\n",
        "id:3299130598, recurso:tetra:12082781, latitud:0.0358137541549, longitud:-0.211038715334, velocidad:0, orientacion:0, fecha:-0.212912713463 deleted!\n",
        "id:3299130569, recurso:tetra:12082781, latitud:0.0358137541549, longitud:-0.211038715334, velocidad:0, orientacion:0, fecha:-0.215300976177 deleted!\n",
        "id:3299131130, recurso:tetra:12082781, latitud:0.0342927891214, longitud:-0.211038715334, velocidad:0, orientacion:0, fecha:-0.204792620233 deleted!\n",
        "id:3299131043, recurso:tetra:12082781, latitud:0.0342927891214, longitud:-0.211038715334, velocidad:0, orientacion:0, fecha:-0.207180882948 deleted!\n",
        "id:3299131681, recurso:tetra:12082781, latitud:0.0358137541549, longitud:-0.211937702414, velocidad:0, orientacion:0, fecha:-0.196768057512 deleted!\n",
        "id:3299131617, recurso:tetra:12082781, latitud:0.0358137541549, longitud:-0.211937702414, velocidad:0, orientacion:0, fecha:-0.198105484632 deleted!\n",
        "id:3299131997, recurso:tetra:12082781, latitud:0.026921958574, longitud:-0.212387195954, velocidad:0, orientacion:0, fecha:-0.187119476145 deleted!\n",
        "id:3299131895, recurso:tetra:12082781, latitud:0.026921958574, longitud:-0.212387195954, velocidad:0, orientacion:0, fecha:-0.188647964283 deleted!"
       ]
      },
      {
       "output_type": "stream",
       "stream": "stdout",
       "text": [
        "\n",
        "id:3299132467, recurso:tetra:12082781, latitud:0.0342927891214, longitud:-0.211937702414, velocidad:0, orientacion:0, fecha:-0.177948547321 deleted!\n",
        "id:3299132332, recurso:tetra:12082781, latitud:0.0342927891214, longitud:-0.211038715334, velocidad:0, orientacion:0, fecha:-0.17938150495 deleted!\n",
        "id:3299132987, recurso:tetra:12082781, latitud:0.0313678563645, longitud:-0.212387195954, velocidad:0, orientacion:0, fecha:-0.169064210023 deleted!\n",
        "id:3299132781, recurso:tetra:12082781, latitud:0.0299638886412, longitud:-0.212387195954, velocidad:0, orientacion:0, fecha:-0.170974820195 deleted!\n",
        "id:3299133334, recurso:tetra:12082781, latitud:0.0313678563645, longitud:-0.210439390614, velocidad:0, orientacion:0, fecha:-0.162090482897 deleted!\n",
        "id:3299133330, recurso:tetra:12082781, latitud:0.0313678563645, longitud:-0.210439390614, velocidad:0, orientacion:0, fecha:-0.164001093068 deleted!\n",
        "id:3299133572, recurso:tetra:12082781, latitud:0.0313678563645, longitud:-0.211038715334, velocidad:0, orientacion:0, fecha:-0.153301676107 deleted!\n",
        "id:3299133536, recurso:tetra:12082781, latitud:0.0299638886412, longitud:-0.210439390614, velocidad:0, orientacion:0, fecha:-0.154543572718 deleted!\n",
        "id:3299134145, recurso:tetra:12082781, latitud:0.0416636196687, longitud:-0.208191922914, velocidad:0, orientacion:0, fecha:-0.144608399826 deleted!"
       ]
      },
      {
       "output_type": "stream",
       "stream": "stdout",
       "text": [
        "\n",
        "id:3299134028, recurso:tetra:12082781, latitud:0.0358137541549, longitud:-0.211937702414, velocidad:0, orientacion:112, fecha:-0.146614540506 deleted!\n",
        "id:3299134467, recurso:tetra:12082781, latitud:0.0299638886412, longitud:-0.208191922914, velocidad:0, orientacion:0, fecha:-0.134577696425 deleted!\n",
        "id:3299134432, recurso:tetra:12082781, latitud:0.0342927891214, longitud:-0.208191922914, velocidad:0, orientacion:0, fecha:-0.137348081173 deleted!\n",
        "id:3299135000, recurso:tetra:12082781, latitud:0.0299638886412, longitud:-0.208641416454, velocidad:0, orientacion:0, fecha:-0.125788889635 deleted!\n",
        "id:3299134932, recurso:tetra:12082781, latitud:0.0299638886412, longitud:-0.208641416454, velocidad:0, orientacion:0, fecha:-0.127986091332 deleted!\n",
        "id:3299135339, recurso:tetra:12082781, latitud:0.0431845847022, longitud:-0.210439390614, velocidad:0, orientacion:0, fecha:-0.11805091844 deleted!\n",
        "id:3299135192, recurso:tetra:12082781, latitud:0.0461095174591, longitud:-0.210439390614, velocidad:0, orientacion:0, fecha:-0.119579406577 deleted!\n",
        "id:3299135813, recurso:tetra:12082781, latitud:0.0637761113106, longitud:-0.211937702414, velocidad:0, orientacion:0, fecha:-0.109071050633 deleted!\n",
        "id:3299135693, recurso:tetra:12082781, latitud:0.0475134851824, longitud:-0.211038715334, velocidad:0, orientacion:0, fecha:-0.110408477753 deleted!"
       ]
      },
      {
       "output_type": "stream",
       "stream": "stdout",
       "text": [
        "\n",
        "id:3299136300, recurso:tetra:12082781, latitud:0.0387386869118, longitud:-0.209540403534, velocidad:0, orientacion:0, fecha:-0.101237548929 deleted!\n",
        "id:3299136154, recurso:tetra:12082781, latitud:0.0387386869118, longitud:-0.209540403534, velocidad:0, orientacion:0, fecha:-0.10247944554 deleted!\n",
        "id:3299136659, recurso:tetra:12082781, latitud:0.0416636196687, longitud:-0.211038715334, velocidad:0, orientacion:0, fecha:-0.0924487421392 deleted!\n",
        "id:3299136646, recurso:tetra:12082781, latitud:0.0416636196687, longitud:-0.211038715334, velocidad:0, orientacion:0, fecha:-0.0946459438366 deleted!\n",
        "id:3299136876, recurso:tetra:12082781, latitud:0.0475134851824, longitud:-0.210439390614, velocidad:0, orientacion:0, fecha:-0.0843286489096 deleted!\n",
        "id:3299136848, recurso:tetra:12082781, latitud:0.0431845847022, longitud:-0.211038715334, velocidad:0, orientacion:0, fecha:-0.0860481980641 deleted!\n",
        "id:3299137501, recurso:tetra:12082781, latitud:0.0387386869118, longitud:-0.210439390614, velocidad:0, orientacion:0, fecha:-0.0738202929655 deleted!\n",
        "id:3299137394, recurso:tetra:12082781, latitud:0.0387386869118, longitud:-0.210439390614, velocidad:0, orientacion:0, fecha:-0.0756353726285 deleted!\n",
        "id:3299138015, recurso:tetra:12082781, latitud:0.0387386869118, longitud:-0.213286183034, velocidad:0, orientacion:0, fecha:-0.0644583031243 deleted!"
       ]
      },
      {
       "output_type": "stream",
       "stream": "stdout",
       "text": [
        "\n",
        "id:3299137871, recurso:tetra:12082781, latitud:0.0387386869118, longitud:-0.212387195954, velocidad:0, orientacion:0, fecha:-0.0657001997359 deleted!\n",
        "id:3299138399, recurso:tetra:12082781, latitud:0.0387386869118, longitud:-0.213286183034, velocidad:0, orientacion:0, fecha:-0.056720331929 deleted!\n",
        "id:3299138326, recurso:tetra:12082781, latitud:0.0387386869118, longitud:-0.213286183034, velocidad:0, orientacion:0, fecha:-0.0580577590492 deleted!\n",
        "id:3299138812, recurso:tetra:12082781, latitud:0.0313678563645, longitud:-0.209540403534, velocidad:0, orientacion:0, fecha:-0.0499376658196 deleted!\n",
        "id:3299138687, recurso:tetra:12082781, latitud:0.0358137541549, longitud:-0.211038715334, velocidad:0, orientacion:0, fecha:-0.0511795624312 deleted!\n",
        "id:3299139178, recurso:tetra:12082781, latitud:0.0313678563645, longitud:-0.209540403534, velocidad:0, orientacion:0, fecha:-0.0414354505557 deleted!\n",
        "id:3299139091, recurso:tetra:12082781, latitud:0.0313678563645, longitud:-0.209540403534, velocidad:0, orientacion:0, fecha:-0.0428684081844 deleted!\n",
        "id:3299139704, recurso:tetra:12082781, latitud:0.0255179908507, longitud:-0.212387195954, velocidad:0, orientacion:0, fecha:-0.0325511132574 deleted!\n",
        "id:3299139547, recurso:tetra:12082781, latitud:0.0255179908507, longitud:-0.212387195954, velocidad:0, orientacion:0, fecha:-0.0341751319033 deleted!\n",
        "id:3299139986, recurso:tetra:12082781, latitud:0.0342927891214, longitud:-0.209540403534, velocidad:0, orientacion:0, fecha:-0.0244310200278 deleted!"
       ]
      },
      {
       "output_type": "stream",
       "stream": "stdout",
       "text": [
        "\n",
        "id:3299139985, recurso:tetra:12082781, latitud:0.0299638886412, longitud:-0.210439390614, velocidad:0, orientacion:0, fecha:-0.0265326912167 deleted!\n",
        "id:3299140424, recurso:tetra:12082781, latitud:0.0416636196687, longitud:-0.207143104654, velocidad:0, orientacion:0, fecha:-0.0163109267982 deleted!\n",
        "id:3299140227, recurso:tetra:12082781, latitud:0.0431845847022, longitud:-0.207143104654, velocidad:0, orientacion:0, fecha:-0.0178394149356 deleted!\n",
        "id:3299140885, recurso:tetra:12082781, latitud:0.0387386869118, longitud:-0.208641416454, velocidad:0, orientacion:0, fecha:-0.00580257085406 deleted!\n",
        "id:3299140774, recurso:tetra:12082781, latitud:0.0387386869118, longitud:-0.208191922914, velocidad:0, orientacion:0, fecha:-0.00799977255148 deleted!\n",
        "id:3299141401, recurso:tetra:12082781, latitud:0.0416636196687, longitud:-0.209540403534, velocidad:0, orientacion:0, fecha:0.00164880881545 deleted!\n",
        "id:3299141338, recurso:tetra:12082781, latitud:0.0416636196687, longitud:-0.209540403534, velocidad:0, orientacion:0, fecha:0.000406912203862 deleted!\n",
        "id:3299141848, recurso:tetra:12082781, latitud:0.0416636196687, longitud:-0.211937702414, velocidad:0, orientacion:0, fecha:0.0119661037425 deleted!\n",
        "id:3299141790, recurso:tetra:12082781, latitud:0.0387386869118, longitud:-0.211937702414, velocidad:0, orientacion:0, fecha:0.0101510240794 deleted!\n",
        "id:3299142240, recurso:tetra:12082781, latitud:0.0431845847022, longitud:-0.212387195954, velocidad:0, orientacion:157, fecha:0.020563849515 deleted!"
       ]
      },
      {
       "output_type": "stream",
       "stream": "stdout",
       "text": [
        "\n",
        "id:3299142233, recurso:tetra:12082781, latitud:0.0431845847022, longitud:-0.213286183034, velocidad:0, orientacion:0, fecha:0.0185577088347 deleted!\n",
        "id:3299142627, recurso:tetra:12082781, latitud:0.0416636196687, longitud:-0.213735676574, velocidad:0, orientacion:0, fecha:0.0307856139334 deleted!\n",
        "id:3299142567, recurso:tetra:12082781, latitud:0.0431845847022, longitud:-0.212387195954, velocidad:0, orientacion:0, fecha:0.0293526563046 deleted!\n",
        "id:3299143154, recurso:tetra:12082781, latitud:0.0166261952699, longitud:-0.208641416454, velocidad:0, orientacion:0, fecha:0.0397654817402 deleted!\n",
        "id:3299143079, recurso:tetra:12082781, latitud:0.0313678563645, longitud:-0.212387195954, velocidad:0, orientacion:180, fecha:0.0381414630943 deleted!\n",
        "id:3299143507, recurso:tetra:12082781, latitud:0.0166261952699, longitud:-0.208191922914, velocidad:0, orientacion:0, fecha:0.0491274715814 deleted!\n",
        "id:3299143391, recurso:tetra:12082781, latitud:0.0166261952699, longitud:-0.208641416454, velocidad:0, orientacion:0, fecha:0.0475989834441 deleted!\n",
        "id:3299143960, recurso:tetra:12082781, latitud:0.013701262513, longitud:-0.207143104654, velocidad:0, orientacion:0, fecha:0.0585849919312 deleted!\n",
        "id:3299143911, recurso:tetra:12082781, latitud:0.019668125337, longitud:-0.207143104654, velocidad:0, orientacion:0, fecha:0.0555280156565 deleted!\n",
        "id:3299144425, recurso:tetra:12082781, latitud:0.0107763297561, longitud:-0.208641416454, velocidad:0, orientacion:0, fecha:0.066418493635 deleted!"
       ]
      },
      {
       "output_type": "stream",
       "stream": "stdout",
       "text": [
        "\n",
        "id:3299144309, recurso:tetra:12082781, latitud:0.0107763297561, longitud:-0.208191922914, velocidad:0, orientacion:0, fecha:0.0649855360063 deleted!\n",
        "id:3299144874, recurso:tetra:12082781, latitud:0.0225930580939, longitud:-0.210439390614, velocidad:1, orientacion:180, fecha:0.0745385868646 deleted!\n",
        "id:3299144821, recurso:tetra:12082781, latitud:0.0166261952699, longitud:-0.210439390614, velocidad:0, orientacion:0, fecha:0.0731056292358 deleted!\n",
        "id:3299145312, recurso:tetra:12082781, latitud:0.0461095174591, longitud:-0.209540403534, velocidad:0, orientacion:0, fecha:0.0851424733174 deleted!\n",
        "id:3299145253, recurso:tetra:12082781, latitud:0.0431845847022, longitud:-0.209540403534, velocidad:0, orientacion:0, fecha:0.0829452716199 deleted!\n",
        "id:3299145640, recurso:tetra:12082781, latitud:0.0504384179393, longitud:-0.211038715334, velocidad:0, orientacion:0, fecha:0.0930715055298 deleted!\n",
        "id:3299145631, recurso:tetra:12082781, latitud:0.0431845847022, longitud:-0.210439390614, velocidad:0, orientacion:0, fecha:0.0909698343409 deleted!\n",
        "id:3299146171, recurso:tetra:12082781, latitud:0.0475134851824, longitud:-0.211038715334, velocidad:0, orientacion:0, fecha:0.101000537742 deleted!"
       ]
      },
      {
       "output_type": "stream",
       "stream": "stdout",
       "text": [
        "\n",
        "id:3299146087, recurso:tetra:12082781, latitud:0.0461095174591, longitud:-0.211038715334, velocidad:0, orientacion:0, fecha:0.0994720496049 deleted!\n",
        "id:3299146589, recurso:tetra:12082781, latitud:-0.00689026409537, longitud:-0.207143104654, velocidad:1, orientacion:157, fecha:0.109789344532 deleted!\n",
        "id:3299146518, recurso:tetra:12082781, latitud:0.00633043196568, longitud:-0.208191922914, velocidad:0, orientacion:0, fecha:0.108356386903 deleted!\n",
        "id:3299146954, recurso:tetra:12082781, latitud:0.019668125337, longitud:-0.207143104654, velocidad:0, orientacion:0, fecha:0.11867368183 deleted!\n",
        "id:3299146924, recurso:tetra:12082781, latitud:0.019668125337, longitud:-0.207143104654, velocidad:0, orientacion:0, fecha:0.11733625471 deleted!\n",
        "id:3299147492, recurso:tetra:12082781, latitud:0.0342927891214, longitud:-0.208641416454, velocidad:0, orientacion:0, fecha:0.127844610654 deleted!\n",
        "id:3299147316, recurso:tetra:12082781, latitud:0.0342927891214, longitud:-0.208641416454, velocidad:0, orientacion:0, fecha:0.125934000482 deleted!\n",
        "id:3299147920, recurso:tetra:12082781, latitud:0.0299638886412, longitud:-0.209540403534, velocidad:0, orientacion:0, fecha:0.13758872253 deleted!"
       ]
      },
      {
       "output_type": "stream",
       "stream": "stdout",
       "text": [
        "\n",
        "id:3299147864, recurso:tetra:12082781, latitud:0.0299638886412, longitud:-0.209540403534, velocidad:0, orientacion:0, fecha:0.135200459815 deleted!\n",
        "id:3299148382, recurso:tetra:12082781, latitud:0.019668125337, longitud:-0.210439390614, velocidad:0, orientacion:0, fecha:0.145040102199 deleted!\n",
        "id:3299148269, recurso:tetra:12082781, latitud:0.0225930580939, longitud:-0.210439390614, velocidad:0, orientacion:0, fecha:0.143511614062 deleted!\n",
        "id:3299148809, recurso:tetra:12082781, latitud:0.0299638886412, longitud:-0.214784494834, velocidad:0, orientacion:0, fecha:0.153351256446 deleted!\n",
        "id:3299148715, recurso:tetra:12082781, latitud:0.0313678563645, longitud:-0.214784494834, velocidad:0, orientacion:0, fecha:0.152109359834 deleted!\n",
        "id:3299149211, recurso:tetra:12082781, latitud:0.0166261952699, longitud:-0.210439390614, velocidad:0, orientacion:0, fecha:0.164814917476 deleted!\n",
        "id:3299149196, recurso:tetra:12082781, latitud:0.013701262513, longitud:-0.211038715334, velocidad:0, orientacion:0, fecha:0.163477490356 deleted!\n",
        "id:3299149858, recurso:tetra:12082781, latitud:0.0387386869118, longitud:-0.210439390614, velocidad:0, orientacion:0, fecha:0.174367968334 deleted!"
       ]
      },
      {
       "output_type": "stream",
       "stream": "stdout",
       "text": [
        "\n",
        "id:3299149720, recurso:tetra:12082781, latitud:0.0416636196687, longitud:-0.210439390614, velocidad:0, orientacion:0, fecha:0.172839480197 deleted!\n",
        "id:3299150148, recurso:tetra:12082781, latitud:0.019668125337, longitud:-0.213735676574, velocidad:0, orientacion:0, fecha:0.18210593953 deleted!\n",
        "id:3299150146, recurso:tetra:12082781, latitud:0.0342927891214, longitud:-0.210439390614, velocidad:0, orientacion:0, fecha:0.179908737832 deleted!\n",
        "id:3299150578, recurso:tetra:12082781, latitud:0.0475134851824, longitud:-0.210439390614, velocidad:0, orientacion:0, fecha:0.188888605639 deleted!\n",
        "id:3299150465, recurso:tetra:12082781, latitud:0.0519593829728, longitud:-0.209540403534, velocidad:0, orientacion:0, fecha:0.187264586993 deleted!\n",
        "id:3299151121, recurso:tetra:12082781, latitud:0.0475134851824, longitud:-0.209540403534, velocidad:0, orientacion:0, fecha:0.19758188192 deleted!\n",
        "id:3299150966, recurso:tetra:12082781, latitud:0.0255179908507, longitud:-0.213735676574, velocidad:0, orientacion:0, fecha:0.196148924291 deleted!\n",
        "id:3299151591, recurso:tetra:12082781, latitud:0.0475134851824, longitud:-0.208191922914, velocidad:0, orientacion:0, fecha:0.205606444641 deleted!"
       ]
      },
      {
       "output_type": "stream",
       "stream": "stdout",
       "text": [
        "\n",
        "id:3299151501, recurso:tetra:12082781, latitud:0.0461095174591, longitud:-0.208641416454, velocidad:0, orientacion:0, fecha:0.204364548029 deleted!\n",
        "id:3299152182, recurso:tetra:12082781, latitud:0.0564052807633, longitud:-0.207143104654, velocidad:0, orientacion:0, fecha:0.213822068379 deleted!\n",
        "id:3299152130, recurso:tetra:12082781, latitud:0.0548843157297, longitud:-0.207143104654, velocidad:0, orientacion:0, fecha:0.212580171768 deleted!\n",
        "id:3299152754, recurso:tetra:12082781, latitud:0.0475134851824, longitud:-0.209540403534, velocidad:0, orientacion:0, fecha:0.222133222626 deleted!\n",
        "id:3299152630, recurso:tetra:12082781, latitud:0.0431845847022, longitud:-0.208641416454, velocidad:0, orientacion:0, fecha:0.220604734489 deleted!\n",
        "id:3299153135, recurso:tetra:12082781, latitud:0.00492646424239, longitud:-0.213286183034, velocidad:0, orientacion:0, fecha:0.233501353147 deleted!\n",
        "id:3299152983, recurso:tetra:12082781, latitud:0.0519593829728, longitud:-0.208191922914, velocidad:1, orientacion:202, fecha:0.230062254838 deleted!\n",
        "id:3299153684, recurso:tetra:12082781, latitud:0.026921958574, longitud:-0.213286183034, velocidad:0, orientacion:0, fecha:0.242481220954 deleted!"
       ]
      },
      {
       "output_type": "stream",
       "stream": "stdout",
       "text": [
        "\n",
        "id:3299153546, recurso:tetra:12082781, latitud:0.026921958574, longitud:-0.213286183034, velocidad:0, orientacion:0, fecha:0.240952732817 deleted!\n",
        "id:3299154130, recurso:tetra:12082781, latitud:0.0342927891214, longitud:-0.212387195954, velocidad:0, orientacion:0, fecha:0.249741539607 deleted!\n",
        "id:3299153940, recurso:tetra:12082781, latitud:0.0387386869118, longitud:-0.211937702414, velocidad:0, orientacion:0, fecha:0.248308581978 deleted!\n",
        "id:3299154363, recurso:tetra:12082781, latitud:0.0342927891214, longitud:-0.211937702414, velocidad:0, orientacion:0, fecha:0.259294590465 deleted!\n",
        "id:3299154346, recurso:tetra:12082781, latitud:0.0342927891214, longitud:-0.211937702414, velocidad:0, orientacion:0, fecha:0.257957163345 deleted!\n",
        "id:3299154919, recurso:tetra:12082781, latitud:0.0342927891214, longitud:-0.210439390614, velocidad:0, orientacion:0, fecha:0.267510214203 deleted!\n",
        "id:3299154809, recurso:tetra:12082781, latitud:0.0342927891214, longitud:-0.210439390614, velocidad:0, orientacion:0, fecha:0.265981726066 deleted!"
       ]
      },
      {
       "output_type": "stream",
       "stream": "stdout",
       "text": [
        "\n",
        "id:3299155420, recurso:tetra:12082781, latitud:0.0358137541549, longitud:-0.211038715334, velocidad:0, orientacion:0, fecha:0.277540917604 deleted!\n",
        "id:3299155289, recurso:tetra:12082781, latitud:0.0313678563645, longitud:-0.210439390614, velocidad:0, orientacion:0, fecha:0.275439246416 deleted!\n",
        "id:3299155911, recurso:tetra:12082781, latitud:0.0358137541549, longitud:-0.211937702414, velocidad:0, orientacion:0, fecha:0.286902907446 deleted!\n",
        "id:3299155795, recurso:tetra:12082781, latitud:0.0358137541549, longitud:-0.211937702414, velocidad:0, orientacion:0, fecha:0.283941461679 deleted!\n",
        "id:3299156376, recurso:tetra:12082781, latitud:0.0387386869118, longitud:-0.211038715334, velocidad:0, orientacion:0, fecha:0.293685573555 deleted!\n",
        "id:3299156247, recurso:tetra:12082781, latitud:0.0387386869118, longitud:-0.211038715334, velocidad:0, orientacion:0, fecha:0.292443676943 deleted!\n",
        "id:3299156810, recurso:tetra:12082781, latitud:0.0387386869118, longitud:-0.210439390614, velocidad:0, orientacion:0, fecha:0.303238624413 deleted!\n",
        "id:3299156707, recurso:tetra:12082781, latitud:0.0387386869118, longitud:-0.210439390614, velocidad:0, orientacion:0, fecha:0.301996727802 deleted!\n",
        "id:3299157358, recurso:tetra:12082781, latitud:0.0387386869118, longitud:-0.211038715334, velocidad:0, orientacion:0, fecha:0.313938041375 deleted!\n",
        "id:3299157304, recurso:tetra:12082781, latitud:0.0387386869118, longitud:-0.211038715334, velocidad:0, orientacion:0, fecha:0.312409553237 deleted!"
       ]
      },
      {
       "output_type": "stream",
       "stream": "stdout",
       "text": [
        "\n",
        "id:3299157829, recurso:tetra:12082781, latitud:0.0387386869118, longitud:-0.211937702414, velocidad:0, orientacion:45, fecha:0.324159805793 deleted!\n",
        "id:3299157799, recurso:tetra:12082781, latitud:0.0387386869118, longitud:-0.211937702414, velocidad:0, orientacion:45, fecha:0.32234472613 deleted!\n",
        "id:3299158233, recurso:tetra:12082781, latitud:0.0387386869118, longitud:-0.211937702414, velocidad:0, orientacion:45, fecha:0.332662021057 deleted!\n",
        "id:3299158194, recurso:tetra:12082781, latitud:0.0387386869118, longitud:-0.211937702414, velocidad:0, orientacion:45, fecha:0.329987166817 deleted!\n",
        "id:3299158765, recurso:tetra:12082781, latitud:0.0255179908507, longitud:-0.205345130495, velocidad:0, orientacion:67, fecha:0.342692724458 deleted!\n",
        "id:3299158700, recurso:tetra:12082781, latitud:0.0387386869118, longitud:-0.211937702414, velocidad:0, orientacion:45, fecha:0.340304461744 deleted!\n",
        "id:3299159525, recurso:tetra:12082781, latitud:0.0358137541549, longitud:-0.206693611114, velocidad:0, orientacion:0, fecha:0.353583202437 deleted!\n",
        "id:3299159420, recurso:tetra:12082781, latitud:0.0358137541549, longitud:-0.206693611114, velocidad:0, orientacion:0, fecha:0.352341305825 deleted!\n",
        "id:3299159912, recurso:tetra:12082781, latitud:0.0299638886412, longitud:-0.203397325155, velocidad:1, orientacion:225, fecha:0.361607765158 deleted!\n",
        "id:3299159780, recurso:tetra:12082781, latitud:0.026921958574, longitud:-0.203397325155, velocidad:0, orientacion:0, fecha:0.360174807529 deleted!"
       ]
      },
      {
       "output_type": "stream",
       "stream": "stdout",
       "text": [
        "\n",
        "id:3299160423, recurso:tetra:12082781, latitud:0.019668125337, longitud:-0.207143104654, velocidad:0, orientacion:0, fecha:0.371351877033 deleted!\n",
        "id:3299160329, recurso:tetra:12082781, latitud:0.019668125337, longitud:-0.207143104654, velocidad:0, orientacion:0, fecha:0.369727858387 deleted!\n",
        "id:3299160820, recurso:tetra:12082781, latitud:0.019668125337, longitud:-0.207143104654, velocidad:0, orientacion:0, fecha:0.379854092297 deleted!\n",
        "id:3299160747, recurso:tetra:12082781, latitud:0.019668125337, longitud:-0.207143104654, velocidad:0, orientacion:0, fecha:0.378516665177 deleted!\n",
        "id:3299161241, recurso:tetra:12082781, latitud:0.019668125337, longitud:-0.207143104654, velocidad:0, orientacion:0, fecha:0.388929490613 deleted!\n",
        "id:3299161135, recurso:tetra:12082781, latitud:0.019668125337, longitud:-0.207143104654, velocidad:0, orientacion:0, fecha:0.387401002475 deleted!\n",
        "id:3299161695, recurso:tetra:12082781, latitud:0.019668125337, longitud:-0.207143104654, velocidad:0, orientacion:0, fecha:0.397909358419 deleted!\n",
        "id:3299161562, recurso:tetra:12082781, latitud:0.019668125337, longitud:-0.207143104654, velocidad:0, orientacion:0, fecha:0.395807687231 deleted!\n",
        "id:3299162190, recurso:tetra:12082781, latitud:0.00492646424239, longitud:-0.206693611114, velocidad:0, orientacion:0, fecha:0.405838390632 deleted!\n",
        "id:3299162086, recurso:tetra:12082781, latitud:0.00492646424239, longitud:-0.206693611114, velocidad:0, orientacion:0, fecha:0.404118841477 deleted!"
       ]
      },
      {
       "output_type": "stream",
       "stream": "stdout",
       "text": [
        "\n",
        "id:3299162768, recurso:tetra:12082781, latitud:0.026921958574, longitud:-0.202498338075, velocidad:0, orientacion:0, fecha:0.41405401437 deleted!\n",
        "id:3299162571, recurso:tetra:12082781, latitud:0.013701262513, longitud:-0.205345130495, velocidad:0, orientacion:0, fecha:0.412525526233 deleted!\n",
        "id:3299163145, recurso:tetra:12082781, latitud:0.0225930580939, longitud:-0.204446143415, velocidad:0, orientacion:0, fecha:0.422938351668 deleted!\n",
        "id:3299163051, recurso:tetra:12082781, latitud:0.0181471603034, longitud:-0.203397325155, velocidad:0, orientacion:0, fecha:0.421123272005 deleted!\n",
        "id:3299163438, recurso:tetra:12082781, latitud:0.026921958574, longitud:-0.206693611114, velocidad:0, orientacion:0, fecha:0.432300341509 deleted!\n",
        "id:3299163433, recurso:tetra:12082781, latitud:0.026921958574, longitud:-0.207143104654, velocidad:0, orientacion:0, fecha:0.429529956761 deleted!\n",
        "id:3299164009, recurso:tetra:12082781, latitud:0.0255179908507, longitud:-0.207143104654, velocidad:0, orientacion:0, fecha:0.440802556773 deleted!\n",
        "id:3299163851, recurso:tetra:12082781, latitud:0.0255179908507, longitud:-0.206693611114, velocidad:0, orientacion:0, fecha:0.438414294059 deleted!\n",
        "id:3299164529, recurso:tetra:12082781, latitud:0.0225930580939, longitud:-0.207143104654, velocidad:0, orientacion:0, fecha:0.448540527969 deleted!\n",
        "id:3299164443, recurso:tetra:12082781, latitud:0.0255179908507, longitud:-0.207143104654, velocidad:0, orientacion:0, fecha:0.446534387288 deleted!"
       ]
      },
      {
       "output_type": "stream",
       "stream": "stdout",
       "text": [
        "\n",
        "id:3299164892, recurso:tetra:12082781, latitud:0.013701262513, longitud:-0.206693611114, velocidad:0, orientacion:0, fecha:0.458093578827 deleted!\n",
        "id:3299164802, recurso:tetra:12082781, latitud:0.013701262513, longitud:-0.203397325155, velocidad:0, orientacion:0, fecha:0.45656509069 deleted!\n",
        "id:3299165347, recurso:tetra:12082781, latitud:0.0681050117908, longitud:-0.199202052115, velocidad:0, orientacion:315, fecha:0.466977916125 deleted!\n",
        "id:3299165182, recurso:tetra:12082781, latitud:0.0637761113106, longitud:-0.201599350995, velocidad:1, orientacion:112, fecha:0.465353897479 deleted!\n",
        "id:3299165844, recurso:tetra:12082781, latitud:0.0504384179393, longitud:-0.207143104654, velocidad:1, orientacion:315, fecha:0.475575661898 deleted!\n",
        "id:3299165747, recurso:tetra:12082781, latitud:0.0504384179393, longitud:-0.207143104654, velocidad:1, orientacion:315, fecha:0.474238234778 deleted!\n",
        "id:3299166342, recurso:tetra:12082781, latitud:0.228391326867, longitud:-0.268873550812, velocidad:0, orientacion:0, fecha:0.484459999196 deleted!\n",
        "id:3299166260, recurso:tetra:12082781, latitud:0.276945210631, longitud:-0.289999747192, velocidad:1, orientacion:135, fecha:0.481594083939 deleted!\n",
        "id:3299166694, recurso:tetra:12082781, latitud:0.228391326867, longitud:-0.251942627473, velocidad:0, orientacion:0, fecha:0.4922935009 deleted!\n",
        "id:3299166649, recurso:tetra:12082781, latitud:0.0799217401285, longitud:-0.174779569776, velocidad:0, orientacion:0, fecha:0.490765012763 deleted!"
       ]
      },
      {
       "output_type": "stream",
       "stream": "stdout",
       "text": [
        "\n",
        "id:3299167199, recurso:tetra:12082781, latitud:0.173987577589, longitud:-0.254339926353, velocidad:0, orientacion:0, fecha:0.500986777181 deleted!\n",
        "id:3299167097, recurso:tetra:12082781, latitud:0.173987577589, longitud:-0.254339926353, velocidad:0, orientacion:0, fecha:0.499171697518 deleted!\n",
        "id:3299167676, recurso:tetra:12082781, latitud:0.184283340894, longitud:-0.262730472432, velocidad:9, orientacion:315, fecha:0.509202400919 deleted!\n",
        "id:3299167487, recurso:tetra:12082781, latitud:0.184283340894, longitud:-0.262730472432, velocidad:9, orientacion:315, fecha:0.507864973799 deleted!\n",
        "id:3299168065, recurso:tetra:12082781, latitud:0.019668125337, longitud:-0.211937702414, velocidad:0, orientacion:0, fecha:0.517418024657 deleted!\n",
        "id:3299168042, recurso:tetra:12082781, latitud:0.0181471603034, longitud:-0.212387195954, velocidad:0, orientacion:112, fecha:0.515316353468 deleted!\n",
        "id:3299168382, recurso:tetra:12082781, latitud:0.019668125337, longitud:-0.213735676574, velocidad:0, orientacion:0, fecha:0.525824709413 deleted!\n",
        "id:3299168293, recurso:tetra:12082781, latitud:0.019668125337, longitud:-0.214784494834, velocidad:0, orientacion:0, fecha:0.524391751784 deleted!\n",
        "id:3299168948, recurso:tetra:12082781, latitud:0.062255146277, longitud:-0.207143104654, velocidad:0, orientacion:0, fecha:0.534231394168 deleted!\n",
        "id:3299168847, recurso:tetra:12082781, latitud:0.0725509095812, longitud:-0.205345130495, velocidad:0, orientacion:0, fecha:0.532798436539 deleted!"
       ]
      },
      {
       "output_type": "stream",
       "stream": "stdout",
       "text": [
        "\n",
        "id:3299169384, recurso:tetra:12082781, latitud:0.0342927891214, longitud:-0.212387195954, velocidad:0, orientacion:0, fecha:0.542447017906 deleted!\n",
        "id:3299169233, recurso:tetra:12082781, latitud:0.0342927891214, longitud:-0.212387195954, velocidad:0, orientacion:0, fecha:0.541014060277 deleted!\n",
        "id:3299169865, recurso:tetra:12082781, latitud:0.0358137541549, longitud:-0.211937702414, velocidad:0, orientacion:0, fecha:0.55161794673 deleted!\n",
        "id:3299169818, recurso:tetra:12082781, latitud:0.0387386869118, longitud:-0.211038715334, velocidad:0, orientacion:0, fecha:0.549516275541 deleted!\n",
        "id:3299170379, recurso:tetra:12082781, latitud:0.148950153191, longitud:-0.239656470713, velocidad:0, orientacion:0, fecha:0.55973803996 deleted!\n",
        "id:3299170250, recurso:tetra:12082781, latitud:0.150471118224, longitud:-0.240105964253, velocidad:0, orientacion:0, fecha:0.558209551822 deleted!\n",
        "id:3299170753, recurso:tetra:12082781, latitud:0.199025001988, longitud:-0.245350055553, velocidad:1, orientacion:157, fecha:0.569100029801 deleted!\n",
        "id:3299170678, recurso:tetra:12082781, latitud:0.199025001988, longitud:-0.245350055553, velocidad:1, orientacion:157, fecha:0.567476011155 deleted!\n",
        "id:3299171346, recurso:tetra:12082781, latitud:0.0799217401285, longitud:-0.226471326874, velocidad:0, orientacion:22, fecha:0.577888836591 deleted!\n",
        "id:3299171197, recurso:tetra:12082781, latitud:0.0799217401285, longitud:-0.226920820414, velocidad:0, orientacion:0, fecha:0.576264817945 deleted!"
       ]
      },
      {
       "output_type": "stream",
       "stream": "stdout",
       "text": [
        "\n",
        "id:3299171662, recurso:tetra:12082781, latitud:0.0799217401285, longitud:-0.226920820414, velocidad:0, orientacion:0, fecha:0.586582112872 deleted!\n",
        "id:3299171582, recurso:tetra:12082781, latitud:0.0799217401285, longitud:-0.226920820414, velocidad:0, orientacion:0, fecha:0.58400278914 deleted!\n",
        "id:3299172049, recurso:tetra:12082781, latitud:0.0799217401285, longitud:-0.227969638674, velocidad:0, orientacion:0, fecha:0.593842431524 deleted!\n",
        "id:3299171929, recurso:tetra:12082781, latitud:0.0799217401285, longitud:-0.226920820414, velocidad:0, orientacion:0, fecha:0.592600534912 deleted!\n",
        "id:3299172538, recurso:tetra:12082781, latitud:0.0637761113106, longitud:-0.222725547374, velocidad:0, orientacion:0, fecha:0.602535707805 deleted!\n",
        "id:3299172465, recurso:tetra:12082781, latitud:0.0637761113106, longitud:-0.222725547374, velocidad:0, orientacion:0, fecha:0.600529567125 deleted!\n",
        "id:3299173162, recurso:tetra:12082781, latitud:0.0637761113106, longitud:-0.222725547374, velocidad:0, orientacion:0, fecha:0.611802167138 deleted!\n",
        "id:3299173105, recurso:tetra:12082781, latitud:0.0637761113106, longitud:-0.222725547374, velocidad:0, orientacion:0, fecha:0.610082617983 deleted!\n",
        "id:3299173554, recurso:tetra:12082781, latitud:0.0637761113106, longitud:-0.222725547374, velocidad:0, orientacion:0, fecha:0.620304382402 deleted!\n",
        "id:3299173537, recurso:tetra:12082781, latitud:0.0637761113106, longitud:-0.222725547374, velocidad:0, orientacion:0, fecha:0.618871424773 deleted!"
       ]
      },
      {
       "output_type": "stream",
       "stream": "stdout",
       "text": [
        "\n",
        "id:3299173931, recurso:tetra:12082781, latitud:0.0637761113106, longitud:-0.222725547374, velocidad:0, orientacion:0, fecha:0.6291887197 deleted!\n",
        "id:3299173928, recurso:tetra:12082781, latitud:0.0637761113106, longitud:-0.222725547374, velocidad:0, orientacion:0, fecha:0.626991518003 deleted!\n",
        "id:3299174408, recurso:tetra:12082781, latitud:0.0637761113106, longitud:-0.222725547374, velocidad:0, orientacion:0, fecha:0.637690934964 deleted!\n",
        "id:3299174288, recurso:tetra:12082781, latitud:0.0637761113106, longitud:-0.222725547374, velocidad:0, orientacion:0, fecha:0.634538428181 deleted!\n",
        "id:3299174972, recurso:tetra:12082781, latitud:0.0637761113106, longitud:-0.222725547374, velocidad:0, orientacion:0, fecha:0.647052924805 deleted!\n",
        "id:3299174887, recurso:tetra:12082781, latitud:0.0637761113106, longitud:-0.222725547374, velocidad:0, orientacion:0, fecha:0.645619967176 deleted!\n",
        "id:3299175321, recurso:tetra:12082781, latitud:0.00633043196568, longitud:-0.211937702414, velocidad:0, orientacion:0, fecha:0.65612832312 deleted!\n",
        "id:3299175299, recurso:tetra:12082781, latitud:0.00492646424239, longitud:-0.211937702414, velocidad:0, orientacion:0, fecha:0.654695365492 deleted!\n",
        "id:3299175871, recurso:tetra:12082781, latitud:0.0166261952699, longitud:-0.216132975454, velocidad:0, orientacion:0, fecha:0.66625455703 deleted!\n",
        "id:3299175714, recurso:tetra:12082781, latitud:0.0181471603034, longitud:-0.217481456074, velocidad:0, orientacion:0, fecha:0.664630538384 deleted!"
       ]
      },
      {
       "output_type": "stream",
       "stream": "stdout",
       "text": [
        "\n",
        "id:3299176280, recurso:tetra:12082781, latitud:0.013701262513, longitud:-0.213286183034, velocidad:0, orientacion:0, fecha:0.674661241786 deleted!\n",
        "id:3299176206, recurso:tetra:12082781, latitud:0.013701262513, longitud:-0.213286183034, velocidad:0, orientacion:0, fecha:0.672655101105 deleted!\n",
        "id:3299176866, recurso:tetra:12082781, latitud:0.013701262513, longitud:-0.213286183034, velocidad:0, orientacion:0, fecha:0.682112621455 deleted!\n",
        "id:3299176764, recurso:tetra:12082781, latitud:0.013701262513, longitud:-0.213286183034, velocidad:0, orientacion:0, fecha:0.680870724844 deleted!\n",
        "id:3299177268, recurso:tetra:12082781, latitud:0.026921958574, longitud:-0.213735676574, velocidad:0, orientacion:0, fecha:0.69051930621 deleted!\n",
        "id:3299177114, recurso:tetra:12082781, latitud:0.026921958574, longitud:-0.213735676574, velocidad:0, orientacion:0, fecha:0.689086348582 deleted!\n",
        "id:3299177618, recurso:tetra:12082781, latitud:0.0564052807633, longitud:-0.216132975454, velocidad:0, orientacion:0, fecha:0.700167887577 deleted!\n",
        "id:3299177476, recurso:tetra:12082781, latitud:0.0431845847022, longitud:-0.215233988374, velocidad:0, orientacion:0, fecha:0.69863939944 deleted!\n",
        "id:3299178107, recurso:tetra:12082781, latitud:0.0416636196687, longitud:-0.213286183034, velocidad:3, orientacion:157, fecha:0.711536018099 deleted!\n",
        "id:3299178045, recurso:tetra:12082781, latitud:0.0431845847022, longitud:-0.212387195954, velocidad:1, orientacion:157, fecha:0.710198590979 deleted!"
       ]
      },
      {
       "output_type": "stream",
       "stream": "stdout",
       "text": [
        "\n",
        "id:3299178641, recurso:tetra:12082781, latitud:0.0416636196687, longitud:-0.213286183034, velocidad:0, orientacion:0, fecha:0.71956058082 deleted!\n",
        "id:3299178512, recurso:tetra:12082781, latitud:0.0416636196687, longitud:-0.213286183034, velocidad:0, orientacion:0, fecha:0.717841031665 deleted!\n",
        "id:3299178957, recurso:tetra:12082781, latitud:0.0387386869118, longitud:-0.213286183034, velocidad:0, orientacion:0, fecha:0.728444918118 deleted!\n",
        "id:3299178856, recurso:tetra:12082781, latitud:0.0387386869118, longitud:-0.213286183034, velocidad:0, orientacion:0, fecha:0.727011960489 deleted!\n",
        "id:3299179497, recurso:tetra:12082781, latitud:0.0387386869118, longitud:-0.213286183034, velocidad:0, orientacion:0, fecha:0.736947133382 deleted!\n",
        "id:3299179431, recurso:tetra:12082781, latitud:0.0387386869118, longitud:-0.213286183034, velocidad:0, orientacion:0, fecha:0.73570523677 deleted!\n",
        "id:3299180010, recurso:tetra:12082781, latitud:0.0387386869118, longitud:-0.212387195954, velocidad:0, orientacion:0, fecha:0.744780635086 deleted!\n",
        "id:3299179835, recurso:tetra:12082781, latitud:0.0358137541549, longitud:-0.212387195954, velocidad:0, orientacion:0, fecha:0.74315661644 deleted!\n",
        "id:3299180405, recurso:tetra:12082781, latitud:0.0416636196687, longitud:-0.213735676574, velocidad:0, orientacion:0, fecha:0.754142624927 deleted!"
       ]
      },
      {
       "output_type": "stream",
       "stream": "stdout",
       "text": [
        "\n",
        "id:3299180370, recurso:tetra:12082781, latitud:0.0387386869118, longitud:-0.213735676574, velocidad:0, orientacion:0, fecha:0.750703526618 deleted!\n",
        "id:3299180915, recurso:tetra:12082781, latitud:0.0358137541549, longitud:-0.213735676574, velocidad:0, orientacion:0, fecha:0.761689535105 deleted!\n",
        "id:3299180806, recurso:tetra:12082781, latitud:0.0358137541549, longitud:-0.213735676574, velocidad:0, orientacion:0, fecha:0.760161046968 deleted!\n",
        "id:3299181290, recurso:tetra:12082781, latitud:0.0255179908507, longitud:-0.213735676574, velocidad:0, orientacion:0, fecha:0.771051524946 deleted!\n",
        "id:3299181196, recurso:tetra:12082781, latitud:0.026921958574, longitud:-0.213735676574, velocidad:0, orientacion:0, fecha:0.769714097826 deleted!\n",
        "id:3299181860, recurso:tetra:12082781, latitud:0.026921958574, longitud:-0.213735676574, velocidad:0, orientacion:0, fecha:0.77955374021 deleted!\n",
        "id:3299181747, recurso:tetra:12082781, latitud:0.019668125337, longitud:-0.214784494834, velocidad:0, orientacion:202, fecha:0.77821631309 deleted!"
       ]
      },
      {
       "output_type": "stream",
       "stream": "stdout",
       "text": [
        "\n",
        "id:3299182166, recurso:tetra:12082781, latitud:0.0358137541549, longitud:-0.213735676574, velocidad:0, orientacion:0, fecha:0.786909589371 deleted!\n",
        "id:3299182161, recurso:tetra:12082781, latitud:0.0342927891214, longitud:-0.213735676574, velocidad:0, orientacion:0, fecha:0.78566769276 deleted!\n",
        "id:3299182635, recurso:tetra:12082781, latitud:0.0387386869118, longitud:-0.213735676574, velocidad:0, orientacion:0, fecha:0.794838621584 deleted!\n",
        "id:3299182432, recurso:tetra:12082781, latitud:0.0387386869118, longitud:-0.213735676574, velocidad:0, orientacion:0, fecha:0.793405663955 deleted!\n",
        "id:3299182991, recurso:tetra:12082781, latitud:0.0387386869118, longitud:-0.213735676574, velocidad:0, orientacion:0, fecha:0.802672123287 deleted!\n",
        "id:3299182953, recurso:tetra:12082781, latitud:0.0387386869118, longitud:-0.213735676574, velocidad:0, orientacion:0, fecha:0.801239165659 deleted!\n",
        "id:3299183598, recurso:tetra:12082781, latitud:0.0313678563645, longitud:-0.213735676574, velocidad:0, orientacion:0, fecha:0.811556460586 deleted!\n",
        "id:3299183384, recurso:tetra:12082781, latitud:0.0255179908507, longitud:-0.214784494834, velocidad:0, orientacion:0, fecha:0.809836911431 deleted!\n",
        "id:3299184121, recurso:tetra:12082781, latitud:0.0431845847022, longitud:-0.211937702414, velocidad:0, orientacion:0, fecha:0.819867614832 deleted!\n",
        "id:3299184028, recurso:tetra:12082781, latitud:0.0431845847022, longitud:-0.211937702414, velocidad:0, orientacion:0, fecha:0.818721248729 deleted!"
       ]
      },
      {
       "output_type": "stream",
       "stream": "stdout",
       "text": [
        "\n",
        "id:3299184515, recurso:tetra:12082781, latitud:0.0461095174591, longitud:-0.209540403534, velocidad:0, orientacion:225, fecha:0.828560891114 deleted!\n",
        "id:3299184501, recurso:tetra:12082781, latitud:0.0461095174591, longitud:-0.210439390614, velocidad:0, orientacion:0, fecha:0.82607709789 deleted!\n",
        "id:3299185067, recurso:tetra:12082781, latitud:0.0342927891214, longitud:-0.208641416454, velocidad:0, orientacion:0, fecha:0.83687204536 deleted!\n",
        "id:3299184921, recurso:tetra:12082781, latitud:0.0313678563645, longitud:-0.209540403534, velocidad:0, orientacion:0, fecha:0.835439087732 deleted!\n",
        "id:3299185465, recurso:tetra:12082781, latitud:0.0342927891214, longitud:-0.211038715334, velocidad:0, orientacion:0, fecha:0.84499213859 deleted!\n",
        "id:3299185414, recurso:tetra:12082781, latitud:0.0358137541549, longitud:-0.211038715334, velocidad:0, orientacion:0, fecha:0.843559180961 deleted!\n",
        "id:3299185901, recurso:tetra:12082781, latitud:0.0342927891214, longitud:-0.212387195954, velocidad:0, orientacion:0, fecha:0.853589884362 deleted!\n",
        "id:3299185799, recurso:tetra:12082781, latitud:0.0342927891214, longitud:-0.211937702414, velocidad:0, orientacion:0, fecha:0.852156926734 deleted!\n",
        "id:3299186301, recurso:tetra:12082781, latitud:0.0342927891214, longitud:-0.211937702414, velocidad:0, orientacion:0, fecha:0.861901038609 deleted!\n",
        "id:3299186251, recurso:tetra:12082781, latitud:0.0342927891214, longitud:-0.211937702414, velocidad:0, orientacion:0, fecha:0.859417245386 deleted!"
       ]
      },
      {
       "output_type": "stream",
       "stream": "stdout",
       "text": [
        "\n",
        "id:3299186873, recurso:tetra:12082781, latitud:0.0313678563645, longitud:-0.211038715334, velocidad:0, orientacion:0, fecha:0.870785375907 deleted!\n",
        "id:3299186811, recurso:tetra:12082781, latitud:0.0313678563645, longitud:-0.211038715334, velocidad:0, orientacion:0, fecha:0.868110521667 deleted!\n",
        "id:3299187278, recurso:tetra:12082781, latitud:0.0299638886412, longitud:-0.210439390614, velocidad:1, orientacion:45, fecha:0.878236755577 deleted!\n",
        "id:3299187226, recurso:tetra:12082781, latitud:0.0299638886412, longitud:-0.210439390614, velocidad:0, orientacion:0, fecha:0.876994858965 deleted!\n",
        "id:3299187759, recurso:tetra:12082781, latitud:0.0416636196687, longitud:-0.207143104654, velocidad:0, orientacion:0, fecha:0.885783665755 deleted!\n",
        "id:3299187687, recurso:tetra:12082781, latitud:0.0416636196687, longitud:-0.207143104654, velocidad:0, orientacion:0, fecha:0.884637299652 deleted!\n",
        "id:3299188097, recurso:tetra:12082781, latitud:0.0416636196687, longitud:-0.208191922914, velocidad:0, orientacion:0, fecha:0.894572472545 deleted!\n",
        "id:3299188074, recurso:tetra:12082781, latitud:0.0416636196687, longitud:-0.208191922914, velocidad:0, orientacion:0, fecha:0.892470801356 deleted!\n",
        "id:3299188720, recurso:tetra:12082781, latitud:0.0358137541549, longitud:-0.208191922914, velocidad:0, orientacion:0, fecha:0.903170218317 deleted!"
       ]
      },
      {
       "output_type": "stream",
       "stream": "stdout",
       "text": [
        "\n",
        "id:3299188640, recurso:tetra:12082781, latitud:0.0358137541549, longitud:-0.208191922914, velocidad:0, orientacion:0, fecha:0.900877486111 deleted!\n",
        "id:3299189205, recurso:tetra:12082781, latitud:0.0358137541549, longitud:-0.208191922914, velocidad:0, orientacion:0, fecha:0.911003720021 deleted!\n",
        "id:3299189043, recurso:tetra:12082781, latitud:0.0358137541549, longitud:-0.207143104654, velocidad:0, orientacion:0, fecha:0.909284170867 deleted!\n",
        "id:3299189493, recurso:tetra:12082781, latitud:0.0299638886412, longitud:-0.211038715334, velocidad:0, orientacion:0, fecha:0.920652301388 deleted!\n",
        "id:3299189480, recurso:tetra:12082781, latitud:0.0299638886412, longitud:-0.211038715334, velocidad:0, orientacion:0, fecha:0.919314874268 deleted!\n",
        "id:3299189946, recurso:tetra:12082781, latitud:0.0313678563645, longitud:-0.209540403534, velocidad:0, orientacion:0, fecha:0.929345577669 deleted!\n",
        "id:3299189873, recurso:tetra:12082781, latitud:0.0313678563645, longitud:-0.209540403534, velocidad:0, orientacion:0, fecha:0.927626028515 deleted!\n",
        "id:3299190539, recurso:tetra:12082781, latitud:0.026921958574, longitud:-0.211038715334, velocidad:0, orientacion:0, fecha:0.938229914967 deleted!\n",
        "id:3299190450, recurso:tetra:12082781, latitud:0.026921958574, longitud:-0.211937702414, velocidad:0, orientacion:0, fecha:0.936988018356 deleted!\n",
        "id:3299191073, recurso:tetra:12082781, latitud:0.0299638886412, longitud:-0.211937702414, velocidad:0, orientacion:0, fecha:0.946254477688 deleted!"
       ]
      },
      {
       "output_type": "stream",
       "stream": "stdout",
       "text": [
        "\n",
        "id:3299190925, recurso:tetra:12082781, latitud:0.0299638886412, longitud:-0.211937702414, velocidad:0, orientacion:0, fecha:0.944152806499 deleted!\n",
        "id:3299191417, recurso:tetra:12082781, latitud:0.0255179908507, longitud:-0.213286183034, velocidad:0, orientacion:0, fecha:0.954183509901 deleted!\n",
        "id:3299191364, recurso:tetra:12082781, latitud:0.0255179908507, longitud:-0.212387195954, velocidad:0, orientacion:0, fecha:0.952463960746 deleted!\n",
        "id:3299191803, recurso:tetra:12082781, latitud:0.0299638886412, longitud:-0.209540403534, velocidad:0, orientacion:0, fecha:0.96364103025 deleted!\n",
        "id:3299191640, recurso:tetra:12082781, latitud:0.0299638886412, longitud:-0.209540403534, velocidad:0, orientacion:0, fecha:0.962017011605 deleted!\n",
        "id:3299192285, recurso:tetra:12082781, latitud:0.019668125337, longitud:-0.203397325155, velocidad:0, orientacion:0, fecha:0.971952184497 deleted!\n",
        "id:3299192198, recurso:tetra:12082781, latitud:0.019668125337, longitud:-0.203397325155, velocidad:0, orientacion:0, fecha:0.969468391274 deleted!\n",
        "id:3299192783, recurso:tetra:12082781, latitud:0.019668125337, longitud:-0.203397325155, velocidad:0, orientacion:0, fecha:0.979308033658 deleted!\n",
        "id:3299192663, recurso:tetra:12082781, latitud:0.019668125337, longitud:-0.203397325155, velocidad:0, orientacion:0, fecha:0.977970606538 deleted!"
       ]
      },
      {
       "output_type": "stream",
       "stream": "stdout",
       "text": [
        "\n",
        "id:3299193070, recurso:tetra:12082781, latitud:0.0225930580939, longitud:-0.205345130495, velocidad:0, orientacion:0, fecha:0.986472821802 deleted!\n",
        "id:3299193010, recurso:tetra:12082781, latitud:0.019668125337, longitud:-0.205345130495, velocidad:1, orientacion:67, fecha:0.985135394682 deleted!\n",
        "id:3299193590, recurso:tetra:12082781, latitud:0.0299638886412, longitud:-0.202947831615, velocidad:0, orientacion:0, fecha:0.996121403169 deleted!\n",
        "id:3299193416, recurso:tetra:12082781, latitud:0.0313678563645, longitud:-0.203397325155, velocidad:0, orientacion:0, fecha:0.994879506557 deleted!\n",
        "id:3299193957, recurso:tetra:12082781, latitud:0.0358137541549, longitud:-0.204446143415, velocidad:0, orientacion:0, fecha:1.0053878625 deleted!\n",
        "id:3299193951, recurso:tetra:12082781, latitud:0.0416636196687, longitud:-0.205794624034, velocidad:0, orientacion:0, fecha:1.0030951303 deleted!\n",
        "id:3299194467, recurso:tetra:12082781, latitud:0.0358137541549, longitud:-0.204446143415, velocidad:0, orientacion:0, fecha:1.0131258337 deleted!\n",
        "id:3299194285, recurso:tetra:12082781, latitud:0.0358137541549, longitud:-0.204446143415, velocidad:0, orientacion:0, fecha:1.01121522353 deleted!\n",
        "id:3299194905, recurso:tetra:12082781, latitud:0.0342927891214, longitud:-0.204446143415, velocidad:0, orientacion:0, fecha:1.02143698794 deleted!\n",
        "id:3299194778, recurso:tetra:12082781, latitud:0.0342927891214, longitud:-0.204446143415, velocidad:0, orientacion:0, fecha:1.02019509133 deleted!"
       ]
      },
      {
       "output_type": "stream",
       "stream": "stdout",
       "text": [
        "\n",
        "id:3299195358, recurso:tetra:12082781, latitud:0.0342927891214, longitud:-0.204446143415, velocidad:0, orientacion:0, fecha:1.03060791677 deleted!\n",
        "id:3299195148, recurso:tetra:12082781, latitud:0.0342927891214, longitud:-0.203397325155, velocidad:0, orientacion:0, fecha:1.02831518456 deleted!\n",
        "id:3299195735, recurso:tetra:12082781, latitud:0.0342927891214, longitud:-0.204446143415, velocidad:0, orientacion:0, fecha:1.03901460152 deleted!\n",
        "id:3299195712, recurso:tetra:12082781, latitud:0.0342927891214, longitud:-0.204446143415, velocidad:0, orientacion:0, fecha:1.03662633881 deleted!\n",
        "id:3299196304, recurso:tetra:12082781, latitud:0.0299638886412, longitud:-0.208191922914, velocidad:0, orientacion:0, fecha:1.04637045068 deleted!\n",
        "id:3299196303, recurso:tetra:12082781, latitud:0.0299638886412, longitud:-0.205794624034, velocidad:0, orientacion:0, fecha:1.04512855407 deleted!\n",
        "id:3299196619, recurso:tetra:12082781, latitud:0.026921958574, longitud:-0.207143104654, velocidad:0, orientacion:0, fecha:1.05515925747 deleted!\n",
        "id:3299196525, recurso:tetra:12082781, latitud:0.026921958574, longitud:-0.208191922914, velocidad:0, orientacion:0, fecha:1.05382183035 deleted!\n",
        "id:3299197058, recurso:tetra:12082781, latitud:0.0313678563645, longitud:-0.205794624034, velocidad:0, orientacion:0, fecha:1.06356594223 deleted!"
       ]
      },
      {
       "output_type": "stream",
       "stream": "stdout",
       "text": [
        "\n",
        "id:3299196911, recurso:tetra:12082781, latitud:0.0313678563645, longitud:-0.205794624034, velocidad:0, orientacion:292, fecha:1.0621329846 deleted!\n",
        "id:3299197559, recurso:tetra:12082781, latitud:0.0475134851824, longitud:-0.211038715334, velocidad:0, orientacion:0, fecha:1.07245027953 deleted!\n",
        "id:3299197467, recurso:tetra:12082781, latitud:0.0358137541549, longitud:-0.206693611114, velocidad:0, orientacion:0, fecha:1.06958436427 deleted!\n",
        "id:3299198154, recurso:tetra:12082781, latitud:0.0431845847022, longitud:-0.208191922914, velocidad:0, orientacion:0, fecha:1.08085696428 deleted!\n",
        "id:3299198048, recurso:tetra:12082781, latitud:0.0461095174591, longitud:-0.208641416454, velocidad:0, orientacion:0, fecha:1.07865976258 deleted!\n",
        "id:3299198423, recurso:tetra:12082781, latitud:0.0431845847022, longitud:-0.208641416454, velocidad:0, orientacion:0, fecha:1.08878599649 deleted!\n",
        "id:3299198395, recurso:tetra:12082781, latitud:0.0431845847022, longitud:-0.208641416454, velocidad:0, orientacion:0, fecha:1.08716197785 deleted!\n",
        "id:3299198866, recurso:tetra:12082781, latitud:0.0431845847022, longitud:-0.208191922914, velocidad:0, orientacion:0, fecha:1.09757480328 deleted!\n",
        "id:3299198723, recurso:tetra:12082781, latitud:0.0431845847022, longitud:-0.208191922914, velocidad:0, orientacion:0, fecha:1.09623737616 deleted!\n",
        "id:3299199380, recurso:tetra:12082781, latitud:0.0461095174591, longitud:-0.208191922914, velocidad:0, orientacion:0, fecha:1.10684126262 deleted!"
       ]
      },
      {
       "output_type": "stream",
       "stream": "stdout",
       "text": [
        "\n",
        "id:3299199232, recurso:tetra:12082781, latitud:0.0461095174591, longitud:-0.208191922914, velocidad:0, orientacion:0, fecha:1.10483512194 deleted!\n",
        "id:3299199824, recurso:tetra:12082781, latitud:0.0416636196687, longitud:-0.209540403534, velocidad:0, orientacion:0, fecha:1.11534347788 deleted!\n",
        "id:3299199809, recurso:tetra:12082781, latitud:0.0416636196687, longitud:-0.209540403534, velocidad:0, orientacion:0, fecha:1.11295521517 deleted!\n",
        "id:3299200161, recurso:tetra:12082781, latitud:0.0416636196687, longitud:-0.210439390614, velocidad:0, orientacion:0, fecha:1.12308144908 deleted!\n",
        "id:3299200126, recurso:tetra:12082781, latitud:0.0416636196687, longitud:-0.210439390614, velocidad:0, orientacion:0, fecha:1.12174402196 deleted!\n",
        "id:3299200731, recurso:tetra:12082781, latitud:0.0387386869118, longitud:-0.210439390614, velocidad:0, orientacion:0, fecha:1.13253896943 deleted!\n",
        "id:3299200615, recurso:tetra:12082781, latitud:0.0416636196687, longitud:-0.210439390614, velocidad:0, orientacion:0, fecha:1.13091495078 deleted!\n",
        "id:3299201191, recurso:tetra:12082781, latitud:0.0387386869118, longitud:-0.210439390614, velocidad:0, orientacion:0, fecha:1.14142330672 deleted!\n",
        "id:3299201065, recurso:tetra:12082781, latitud:0.0387386869118, longitud:-0.210439390614, velocidad:0, orientacion:0, fecha:1.14018141011 deleted!"
       ]
      },
      {
       "output_type": "stream",
       "stream": "stdout",
       "text": [
        "\n",
        "id:3299201760, recurso:tetra:12082781, latitud:0.0387386869118, longitud:-0.210439390614, velocidad:0, orientacion:0, fecha:1.14992552199 deleted!\n",
        "id:3299201621, recurso:tetra:12082781, latitud:0.0387386869118, longitud:-0.210439390614, velocidad:0, orientacion:0, fecha:1.14858809487 deleted!\n",
        "id:3299202126, recurso:tetra:12082781, latitud:0.0387386869118, longitud:-0.210439390614, velocidad:0, orientacion:0, fecha:1.15737690166 deleted!\n",
        "id:3299201967, recurso:tetra:12082781, latitud:0.0387386869118, longitud:-0.210439390614, velocidad:0, orientacion:0, fecha:1.15594394403 deleted!\n",
        "id:3299202513, recurso:tetra:12082781, latitud:0.0416636196687, longitud:-0.210439390614, velocidad:0, orientacion:0, fecha:1.16683442201 deleted!\n",
        "id:3299202485, recurso:tetra:12082781, latitud:0.0416636196687, longitud:-0.210439390614, velocidad:0, orientacion:0, fecha:1.1656880559 deleted!\n",
        "id:3299203072, recurso:tetra:12082781, latitud:0.0431845847022, longitud:-0.211937702414, velocidad:0, orientacion:0, fecha:1.17552769829 deleted!\n",
        "id:3299202968, recurso:tetra:12082781, latitud:0.0416636196687, longitud:-0.211038715334, velocidad:0, orientacion:0, fecha:1.17428580168 deleted!\n",
        "id:3299203520, recurso:tetra:12082781, latitud:0.019668125337, longitud:-0.200101039195, velocidad:0, orientacion:0, fecha:1.18517627966 deleted!\n",
        "id:3299203455, recurso:tetra:12082781, latitud:0.019668125337, longitud:-0.200101039195, velocidad:0, orientacion:0, fecha:1.18355226101 deleted!"
       ]
      },
      {
       "output_type": "stream",
       "stream": "stdout",
       "text": [
        "\n",
        "id:3299203916, recurso:tetra:12082781, latitud:0.019668125337, longitud:-0.200101039195, velocidad:0, orientacion:0, fecha:1.1945382695 deleted!\n",
        "id:3299203793, recurso:tetra:12082781, latitud:0.019668125337, longitud:-0.200101039195, velocidad:0, orientacion:0, fecha:1.19138576271 deleted!\n",
        "id:3299204407, recurso:tetra:12082781, latitud:0.019668125337, longitud:-0.200101039195, velocidad:0, orientacion:0, fecha:1.20218071018 deleted!\n",
        "id:3299204298, recurso:tetra:12082781, latitud:0.019668125337, longitud:-0.200101039195, velocidad:0, orientacion:0, fecha:1.20065222205 deleted!\n",
        "id:3299205010, recurso:tetra:12082781, latitud:0.0225930580939, longitud:-0.200550532735, velocidad:0, orientacion:0, fecha:1.21077845596 deleted!\n",
        "id:3299204949, recurso:tetra:12082781, latitud:0.019668125337, longitud:-0.200101039195, velocidad:0, orientacion:0, fecha:1.20944102884 deleted!\n",
        "id:3299205321, recurso:tetra:12082781, latitud:0.0416636196687, longitud:-0.208191922914, velocidad:0, orientacion:0, fecha:1.21928067122 deleted!\n",
        "id:3299205287, recurso:tetra:12082781, latitud:0.0416636196687, longitud:-0.207143104654, velocidad:0, orientacion:0, fecha:1.21775218308 deleted!"
       ]
      },
      {
       "output_type": "stream",
       "stream": "stdout",
       "text": [
        "\n",
        "id:3299205675, recurso:tetra:12082781, latitud:0.0387386869118, longitud:-0.212387195954, velocidad:0, orientacion:0, fecha:1.22854713055 deleted!\n",
        "id:3299205666, recurso:tetra:12082781, latitud:0.0387386869118, longitud:-0.213286183034, velocidad:0, orientacion:0, fecha:1.22644545936 deleted!\n",
        "id:3299206248, recurso:tetra:12082781, latitud:0.0475134851824, longitud:-0.205794624034, velocidad:0, orientacion:0, fecha:1.23704934582 deleted!\n",
        "id:3299206089, recurso:tetra:12082781, latitud:0.0475134851824, longitud:-0.205794624034, velocidad:0, orientacion:0, fecha:1.23408790005 deleted!\n",
        "id:3299206753, recurso:tetra:12082781, latitud:0.0461095174591, longitud:-0.206693611114, velocidad:0, orientacion:0, fecha:1.24459625599 deleted!\n",
        "id:3299206703, recurso:tetra:12082781, latitud:0.0461095174591, longitud:-0.206693611114, velocidad:0, orientacion:0, fecha:1.24335435938 deleted!\n",
        "id:3299207041, recurso:tetra:12082781, latitud:0.0461095174591, longitud:-0.206693611114, velocidad:0, orientacion:0, fecha:1.25338506278 deleted!"
       ]
      },
      {
       "output_type": "stream",
       "stream": "stdout",
       "text": [
        "\n",
        "id:3299207024, recurso:tetra:12082781, latitud:0.0461095174591, longitud:-0.206693611114, velocidad:0, orientacion:0, fecha:1.25214316617 deleted!\n",
        "id:3299207634, recurso:tetra:12082781, latitud:0.0461095174591, longitud:-0.205345130495, velocidad:0, orientacion:0, fecha:1.26179174754 deleted!\n",
        "id:3299207485, recurso:tetra:12082781, latitud:0.0461095174591, longitud:-0.205345130495, velocidad:0, orientacion:0, fecha:1.2602632594 deleted!\n",
        "id:3299208016, recurso:tetra:12082781, latitud:0.0431845847022, longitud:-0.205794624034, velocidad:0, orientacion:0, fecha:1.27115373738 deleted!\n",
        "id:3299207985, recurso:tetra:12082781, latitud:0.0431845847022, longitud:-0.205794624034, velocidad:0, orientacion:0, fecha:1.26943418823 deleted!\n",
        "id:3299208583, recurso:tetra:12082781, latitud:0.0416636196687, longitud:-0.206693611114, velocidad:0, orientacion:0, fecha:1.27956042214 deleted!\n",
        "id:3299208501, recurso:tetra:12082781, latitud:0.0416636196687, longitud:-0.205794624034, velocidad:0, orientacion:0, fecha:1.27717215942 deleted!"
       ]
      },
      {
       "output_type": "stream",
       "stream": "stdout",
       "text": [
        "\n",
        "id:3299209067, recurso:tetra:12082781, latitud:0.0358137541549, longitud:-0.208191922914, velocidad:0, orientacion:0, fecha:1.28748945435 deleted!\n",
        "id:3299208872, recurso:tetra:12082781, latitud:0.0387386869118, longitud:-0.208191922914, velocidad:0, orientacion:0, fecha:1.28596096621 deleted!\n",
        "id:3299209382, recurso:tetra:12082781, latitud:0.0342927891214, longitud:-0.211038715334, velocidad:0, orientacion:0, fecha:1.29618273063 deleted!\n",
        "id:3299209187, recurso:tetra:12082781, latitud:0.0342927891214, longitud:-0.211038715334, velocidad:0, orientacion:0, fecha:1.29455871198 deleted!\n",
        "id:3299209763, recurso:tetra:12082781, latitud:0.0342927891214, longitud:-0.211038715334, velocidad:0, orientacion:0, fecha:1.3047804764 deleted!\n",
        "id:3299209721, recurso:tetra:12082781, latitud:0.0342927891214, longitud:-0.211038715334, velocidad:0, orientacion:0, fecha:1.30239221369 deleted!\n",
        "id:3299210343, recurso:tetra:12082781, latitud:0.0342927891214, longitud:-0.211038715334, velocidad:0, orientacion:0, fecha:1.31261397811 deleted!\n",
        "id:3299210253, recurso:tetra:12082781, latitud:0.0342927891214, longitud:-0.211038715334, velocidad:0, orientacion:0, fecha:1.31089442895 deleted!\n",
        "id:3299210635, recurso:tetra:12082781, latitud:0.0358137541549, longitud:-0.215233988374, velocidad:0, orientacion:0, fecha:1.3214983154 deleted!\n",
        "id:3299210546, recurso:tetra:12082781, latitud:0.0342927891214, longitud:-0.215233988374, velocidad:0, orientacion:0, fecha:1.32044747981 deleted!"
       ]
      },
      {
       "output_type": "stream",
       "stream": "stdout",
       "text": [
        "\n",
        "id:3299211154, recurso:tetra:12082781, latitud:-0.015665062366, longitud:-0.202947831615, velocidad:0, orientacion:0, fecha:1.32904522558 deleted!\n",
        "id:3299211041, recurso:tetra:12082781, latitud:-0.00829423181866, longitud:-0.204446143415, velocidad:1, orientacion:135, fecha:1.32780332897 deleted!\n",
        "id:3299211645, recurso:tetra:12082781, latitud:0.0313678563645, longitud:-0.221377066754, velocidad:1, orientacion:67, fecha:1.33754744085 deleted!\n",
        "id:3299211494, recurso:tetra:12082781, latitud:0.0358137541549, longitud:-0.217481456074, velocidad:0, orientacion:0, fecha:1.33582789169 deleted!\n",
        "id:3299212093, recurso:tetra:12082781, latitud:0.0548843157297, longitud:-0.206693611114, velocidad:0, orientacion:0, fecha:1.34652730865 deleted!\n",
        "id:3299211996, recurso:tetra:12082781, latitud:0.0548843157297, longitud:-0.206693611114, velocidad:0, orientacion:0, fecha:1.3437569239 deleted!\n",
        "id:3299212575, recurso:tetra:12082781, latitud:0.0299638886412, longitud:-0.219878754954, velocidad:0, orientacion:0, fecha:1.35397868832 deleted!"
       ]
      },
      {
       "output_type": "stream",
       "stream": "stdout",
       "text": [
        "\n",
        "id:3299212427, recurso:tetra:12082781, latitud:0.0299638886412, longitud:-0.219878754954, velocidad:0, orientacion:0, fecha:1.35216360866 deleted!\n",
        "id:3299212940, recurso:tetra:12082781, latitud:0.0181471603034, longitud:-0.209540403534, velocidad:0, orientacion:0, fecha:1.36496469681 deleted!\n",
        "id:3299212852, recurso:tetra:12082781, latitud:-0.0201109601564, longitud:-0.200550532735, velocidad:0, orientacion:0, fecha:1.36334067816 deleted!\n",
        "id:3299213513, recurso:tetra:12082781, latitud:0.0358137541549, longitud:-0.211937702414, velocidad:0, orientacion:0, fecha:1.3726071375 deleted!\n",
        "id:3299213409, recurso:tetra:12082781, latitud:0.0313678563645, longitud:-0.211937702414, velocidad:0, orientacion:0, fecha:1.37136524088 deleted!\n",
        "id:3299213845, recurso:tetra:12082781, latitud:0.0461095174591, longitud:-0.211937702414, velocidad:0, orientacion:0, fecha:1.38053616971 deleted!\n",
        "id:3299213816, recurso:tetra:12082781, latitud:0.013701262513, longitud:-0.208641416454, velocidad:0, orientacion:0, fecha:1.37872109005 deleted!"
       ]
      },
      {
       "output_type": "stream",
       "stream": "stdout",
       "text": [
        "\n",
        "id:3299214323, recurso:tetra:12082781, latitud:0.0667010440675, longitud:-0.211038715334, velocidad:0, orientacion:0, fecha:1.38836967141 deleted!\n",
        "id:3299214135, recurso:tetra:12082781, latitud:0.0813257078518, longitud:-0.212387195954, velocidad:0, orientacion:0, fecha:1.38684118328 deleted!\n",
        "id:3299214766, recurso:tetra:12082781, latitud:0.0681050117908, longitud:-0.211937702414, velocidad:0, orientacion:0, fecha:1.39792272227 deleted!\n",
        "id:3299214706, recurso:tetra:12082781, latitud:0.0681050117908, longitud:-0.211937702414, velocidad:0, orientacion:0, fecha:1.39639423413 deleted!\n",
        "id:3299215343, recurso:tetra:12082781, latitud:0.0475134851824, longitud:-0.211937702414, velocidad:0, orientacion:0, fecha:1.40709365109 deleted!\n",
        "id:3299215278, recurso:tetra:12082781, latitud:0.0475134851824, longitud:-0.211937702414, velocidad:0, orientacion:0, fecha:1.40566069347 deleted!\n",
        "id:3299215783, recurso:tetra:12082781, latitud:0.00492646424239, longitud:-0.206693611114, velocidad:0, orientacion:0, fecha:1.41578692738 deleted!"
       ]
      },
      {
       "output_type": "stream",
       "stream": "stdout",
       "text": [
        "\n",
        "id:3299215762, recurso:tetra:12082781, latitud:0.0181471603034, longitud:-0.210439390614, velocidad:0, orientacion:0, fecha:1.41425843924 deleted!\n",
        "id:3299216161, recurso:tetra:12082781, latitud:0.00492646424239, longitud:-0.206693611114, velocidad:0, orientacion:0, fecha:1.42304724603 deleted!\n",
        "id:3299216143, recurso:tetra:12082781, latitud:0.00492646424239, longitud:-0.206693611114, velocidad:0, orientacion:0, fecha:1.42113663586 deleted!\n",
        "id:3299216671, recurso:tetra:12082781, latitud:0.00492646424239, longitud:-0.206693611114, velocidad:0, orientacion:0, fecha:1.43260029689 deleted!\n",
        "id:3299216527, recurso:tetra:12082781, latitud:0.00492646424239, longitud:-0.206693611114, velocidad:0, orientacion:0, fecha:1.43107180875 deleted!\n",
        "id:3299217216, recurso:tetra:12082781, latitud:0.00492646424239, longitud:-0.206693611114, velocidad:0, orientacion:0, fecha:1.4416756952 deleted!\n",
        "id:3299217125, recurso:tetra:12082781, latitud:0.00492646424239, longitud:-0.206693611114, velocidad:0, orientacion:0, fecha:1.439382963 deleted!\n",
        "id:3299217535, recurso:tetra:12082781, latitud:0.00492646424239, longitud:-0.206693611114, velocidad:0, orientacion:0, fecha:1.4494136664 deleted!\n",
        "id:3299217512, recurso:tetra:12082781, latitud:0.00492646424239, longitud:-0.206693611114, velocidad:0, orientacion:0, fecha:1.44807623928 deleted!"
       ]
      },
      {
       "output_type": "stream",
       "stream": "stdout",
       "text": [
        "\n",
        "id:3299217924, recurso:tetra:12082781, latitud:0.00492646424239, longitud:-0.206693611114, velocidad:0, orientacion:0, fecha:1.45858459522 deleted!\n",
        "id:3299217858, recurso:tetra:12082781, latitud:0.00492646424239, longitud:-0.206693611114, velocidad:0, orientacion:0, fecha:1.45552761895 deleted!\n",
        "id:3299218497, recurso:tetra:12082781, latitud:0.00492646424239, longitud:-0.206693611114, velocidad:0, orientacion:0, fecha:1.4661315054 deleted!\n",
        "id:3299218438, recurso:tetra:12082781, latitud:0.00492646424239, longitud:-0.206693611114, velocidad:0, orientacion:0, fecha:1.46402983421 deleted!\n",
        "id:3299218993, recurso:tetra:12082781, latitud:0.00492646424239, longitud:-0.206693611114, velocidad:0, orientacion:0, fecha:1.47386947659 deleted!\n",
        "id:3299218913, recurso:tetra:12082781, latitud:0.00492646424239, longitud:-0.206693611114, velocidad:0, orientacion:0, fecha:1.47253204947 deleted!\n",
        "id:3299219359, recurso:tetra:12082781, latitud:0.00492646424239, longitud:-0.206693611114, velocidad:0, orientacion:0, fecha:1.48265828338 deleted!\n",
        "id:3299219301, recurso:tetra:12082781, latitud:0.00492646424239, longitud:-0.206693611114, velocidad:0, orientacion:0, fecha:1.48093873423 deleted!\n",
        "id:3299219803, recurso:tetra:12082781, latitud:0.00492646424239, longitud:-0.206693611114, velocidad:0, orientacion:0, fecha:1.49364429187 deleted!\n",
        "id:3299219687, recurso:tetra:12082781, latitud:0.00492646424239, longitud:-0.206693611114, velocidad:0, orientacion:0, fecha:1.49154262068 deleted!"
       ]
      },
      {
       "output_type": "stream",
       "stream": "stdout",
       "text": [
        "\n",
        "id:3299220385, recurso:tetra:12082781, latitud:-0.0274817907037, longitud:-0.170883959096, velocidad:16, orientacion:135, fecha:1.50271969019 deleted!\n",
        "id:3299220275, recurso:tetra:12082781, latitud:0.0416636196687, longitud:-0.218979767874, velocidad:7, orientacion:67, fecha:1.50100014103 deleted!\n",
        "id:3299220812, recurso:tetra:12082781, latitud:0.00633043196568, longitud:-0.138520424217, velocidad:42, orientacion:180, fecha:1.50969341731 deleted!\n",
        "id:3299220670, recurso:tetra:12082781, latitud:0.175508542623, longitud:-0.123836968577, velocidad:1, orientacion:247, fecha:1.50806939867 deleted!\n",
        "id:3299221091, recurso:tetra:12082781, latitud:-0.799313046586, longitud:-0.187365388895, velocidad:22, orientacion:202, fecha:1.51790904105 deleted!\n",
        "id:3299221072, recurso:tetra:12082781, latitud:-0.664064155909, longitud:-0.192609480195, velocidad:52, orientacion:180, fecha:1.51647608342 deleted!\n",
        "id:3299221660, recurso:tetra:12082781, latitud:-0.818383608161, longitud:-0.195456272615, velocidad:0, orientacion:0, fecha:1.52545595123 deleted!"
       ]
      },
      {
       "output_type": "stream",
       "stream": "stdout",
       "text": [
        "\n",
        "id:3299221469, recurso:tetra:12082781, latitud:-0.818383608161, longitud:-0.195006779075, velocidad:0, orientacion:0, fecha:1.52411852411 deleted!\n",
        "id:3299222224, recurso:tetra:12082781, latitud:-0.824350470985, longitud:-0.197254246775, velocidad:0, orientacion:0, fecha:1.53414922751 deleted!\n",
        "id:3299222059, recurso:tetra:12082781, latitud:-0.824350470985, longitud:-0.197853571495, velocidad:0, orientacion:0, fecha:1.53242967836 deleted!\n",
        "id:3299222689, recurso:tetra:12082781, latitud:-0.819904573195, longitud:-0.194557285535, velocidad:0, orientacion:0, fecha:1.54207825972 deleted!\n",
        "id:3299222579, recurso:tetra:12082781, latitud:-0.822829505952, longitud:-0.195006779075, velocidad:0, orientacion:0, fecha:1.53988105803 deleted!\n",
        "id:3299223063, recurso:tetra:12082781, latitud:-0.818383608161, longitud:-0.193508467275, velocidad:0, orientacion:0, fecha:1.55029388346 deleted!\n",
        "id:3299223006, recurso:tetra:12082781, latitud:-0.819904573195, longitud:-0.193508467275, velocidad:0, orientacion:0, fecha:1.54886092583 deleted!\n",
        "id:3299223480, recurso:tetra:12082781, latitud:-0.815458675404, longitud:-0.191260999575, velocidad:0, orientacion:0, fecha:1.55879609873 deleted!\n",
        "id:3299223279, recurso:tetra:12082781, latitud:-0.818383608161, longitud:-0.192159986655, velocidad:0, orientacion:0, fecha:1.5573631411 deleted!\n",
        "id:3299224009, recurso:tetra:12082781, latitud:-0.812533742647, longitud:-0.189313194235, velocidad:0, orientacion:0, fecha:1.56710725297 deleted!"
       ]
      },
      {
       "output_type": "stream",
       "stream": "stdout",
       "text": [
        "\n",
        "id:3299223881, recurso:tetra:12082781, latitud:-0.812533742647, longitud:-0.189762687775, velocidad:0, orientacion:0, fecha:1.56586535636 deleted!\n",
        "id:3299224495, recurso:tetra:12082781, latitud:-0.811012777614, longitud:-0.189313194235, velocidad:0, orientacion:0, fecha:1.57713795637 deleted!\n",
        "id:3299224477, recurso:tetra:12082781, latitud:-0.811012777614, longitud:-0.189313194235, velocidad:0, orientacion:0, fecha:1.57436757162 deleted!\n",
        "id:3299224868, recurso:tetra:12082781, latitud:-0.808087844857, longitud:-0.188414207155, velocidad:0, orientacion:0, fecha:1.58554464113 deleted!\n",
        "id:3299224785, recurso:tetra:12082781, latitud:-0.808087844857, longitud:-0.188414207155, velocidad:0, orientacion:0, fecha:1.58420721401 deleted!\n",
        "id:3299225407, recurso:tetra:12082781, latitud:-0.905195612385, longitud:-0.262280978892, velocidad:3, orientacion:270, fecha:1.59471556995 deleted!\n",
        "id:3299225309, recurso:tetra:12082781, latitud:-0.899228749561, longitud:-0.247747354433, velocidad:0, orientacion:0, fecha:1.5929960208 deleted!\n",
        "id:3299225885, recurso:tetra:12082781, latitud:-1.18739312477, longitud:-0.288651266572, velocidad:0, orientacion:0, fecha:1.60293119369 deleted!\n",
        "id:3299225706, recurso:tetra:12082781, latitud:-1.18154325925, longitud:-0.287152954772, velocidad:0, orientacion:0, fecha:1.60102058352 deleted!"
       ]
      },
      {
       "output_type": "stream",
       "stream": "stdout",
       "text": [
        "\n",
        "id:3299226481, recurso:tetra:12082781, latitud:-1.19628492035, longitud:-0.288651266572, velocidad:0, orientacion:0, fecha:1.6108602259 deleted!\n",
        "id:3299226341, recurso:tetra:12082781, latitud:-1.19628492035, longitud:-0.288651266572, velocidad:0, orientacion:0, fecha:1.60952279878 deleted!\n",
        "id:3299226820, recurso:tetra:12082781, latitud:-1.19920985311, longitud:-0.287752279492, velocidad:0, orientacion:0, fecha:1.61773842252 deleted!\n",
        "id:3299226731, recurso:tetra:12082781, latitud:-1.19920985311, longitud:-0.287752279492, velocidad:0, orientacion:0, fecha:1.6164009954 deleted!\n",
        "id:3299227157, recurso:tetra:12082781, latitud:-1.89312090035, longitud:-0.32206361971, velocidad:45, orientacion:270, fecha:1.62652722931 deleted!\n",
        "id:3299226976, recurso:tetra:12082781, latitud:-1.73143061755, longitud:-0.298540124451, velocidad:40, orientacion:180, fecha:1.62509427168 deleted!\n",
        "id:3299227612, recurso:tetra:12082781, latitud:-1.93289998584, longitud:-0.551305325102, velocidad:1, orientacion:202, fecha:1.6364624022 deleted!\n",
        "id:3299227555, recurso:tetra:12082781, latitud:-1.79753409785, longitud:-0.493320658444, velocidad:12, orientacion:292, fecha:1.63283224288 deleted!\n",
        "id:3299228204, recurso:tetra:12082781, latitud:-1.93722888632, longitud:-0.554601611062, velocidad:0, orientacion:0, fecha:1.64439143442 deleted!\n",
        "id:3299228114, recurso:tetra:12082781, latitud:-1.93722888632, longitud:-0.554601611062, velocidad:0, orientacion:0, fecha:1.64286294628 deleted!"
       ]
      },
      {
       "output_type": "stream",
       "stream": "stdout",
       "text": [
        "\n",
        "id:3299230688, recurso:tetra:12082781, latitud:-0.774275622188, longitud:-0.778149731614, velocidad:1, orientacion:0, fecha:1.69196562769 deleted!\n",
        "id:3299230685, recurso:tetra:12082781, latitud:-0.783167417768, longitud:-0.772006653234, velocidad:0, orientacion:0, fecha:1.69024607854 deleted!\n",
        "id:3299231272, recurso:tetra:12082781, latitud:0.628288133386, longitud:-0.674616386238, velocidad:63, orientacion:0, fecha:1.69979912939 deleted!\n",
        "id:3299231154, recurso:tetra:12082781, latitud:0.328307029842, longitud:-0.683606257038, velocidad:68, orientacion:0, fecha:1.69836617177 deleted!\n",
        "id:3299231867, recurso:tetra:12082781, latitud:0.776757720125, longitud:-0.482982307025, velocidad:20, orientacion:112, fecha:1.70753710059 deleted!\n",
        "id:3299231706, recurso:tetra:12082781, latitud:0.884161250957, longitud:-0.530628622263, velocidad:5, orientacion:135, fecha:1.70581755144 deleted!\n",
        "id:3299232136, recurso:tetra:12082781, latitud:0.625363200629, longitud:-0.168636491396, velocidad:47, orientacion:90, fecha:1.71699462094 deleted!\n",
        "id:3299232114, recurso:tetra:12082781, latitud:0.654729525508, longitud:-0.239656470713, velocidad:33, orientacion:67, fecha:1.71556166331 deleted!\n",
        "id:3299232540, recurso:tetra:12082781, latitud:1.25457473529, longitud:0.113795282894, velocidad:47, orientacion:22, fecha:1.72501918366 deleted!"
       ]
      },
      {
       "output_type": "stream",
       "stream": "stdout",
       "text": [
        "\n",
        "id:3299232377, recurso:tetra:12082781, latitud:1.0326308377, longitud:0.0691455912558, velocidad:50, orientacion:22, fecha:1.72282198196 deleted!\n",
        "id:3299233119, recurso:tetra:12082781, latitud:1.61036355583, longitud:0.367609301805, velocidad:71, orientacion:112, fecha:1.73313927689 deleted!\n",
        "id:3299232996, recurso:tetra:12082781, latitud:1.68102993124, longitud:0.269170216549, velocidad:79, orientacion:67, fecha:1.73189738028 deleted!\n",
        "id:3299233794, recurso:tetra:12082781, latitud:0.0387386869118, longitud:0.848567389588, velocidad:54, orientacion:157, fecha:1.74278785826 deleted!\n",
        "id:3299233727, recurso:tetra:12082781, latitud:0.257757651746, longitud:0.80152039907, velocidad:59, orientacion:135, fecha:1.74145043114 deleted!\n",
        "id:3299234267, recurso:tetra:12082781, latitud:-2.39152944212, longitud:0.715367470573, velocidad:40, orientacion:225, fecha:1.75406045827 deleted!\n",
        "id:3299234195, recurso:tetra:12082781, latitud:-2.18725213838, longitud:0.726155315533, velocidad:50, orientacion:202, fecha:1.75262750064 deleted!\n"
       ]
      }
     ],
     "prompt_number": 27
    },
    {
     "cell_type": "code",
     "collapsed": false,
     "input": [],
     "language": "python",
     "metadata": {},
     "outputs": []
    }
   ],
   "metadata": {}
  }
 ]
}
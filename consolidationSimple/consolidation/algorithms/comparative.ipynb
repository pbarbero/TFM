{
 "metadata": {
  "name": "",
  "signature": "sha256:662edcb7d60c21b7cde3c180499b57b3599947353f7575d13b33f50e8dcc7c00"
 },
 "nbformat": 3,
 "nbformat_minor": 0,
 "worksheets": [
  {
   "cells": [
    {
     "cell_type": "code",
     "collapsed": false,
     "input": [
      "import consolidation as cs\n",
      "from position import Position\n",
      "from db import connect_db\n",
      "from djCluster import DjCluster\n",
      "\n",
      "import matplotlib.pyplot as plt\n",
      "from datetime import datetime\n",
      "%pylab inline"
     ],
     "language": "python",
     "metadata": {},
     "outputs": [
      {
       "output_type": "stream",
       "stream": "stdout",
       "text": [
        "Populating the interactive namespace from numpy and matplotlib\n"
       ]
      },
      {
       "output_type": "stream",
       "stream": "stderr",
       "text": [
        "WARNING: pylab import has clobbered these variables: ['datetime']\n",
        "`%matplotlib` prevents importing * from pylab and numpy\n"
       ]
      }
     ],
     "prompt_number": 187
    },
    {
     "cell_type": "code",
     "collapsed": false,
     "input": [
      "cur_sal = connect_db(\"bahia\")\n",
      "\n",
      "limit = 2000\n",
      "cmd = \"SELECT * FROM posicionesgps WHERE latitud<>0 AND longitud<> 0 AND recurso='tetra:12082781' LIMIT {0};\".format(limit)\n",
      "cur_sal.execute(cmd)\n"
     ],
     "language": "python",
     "metadata": {},
     "outputs": [
      {
       "metadata": {},
       "output_type": "pyout",
       "prompt_number": 188,
       "text": [
        "2000L"
       ]
      }
     ],
     "prompt_number": 188
    },
    {
     "cell_type": "code",
     "collapsed": false,
     "input": [
      "list_pos = []\n",
      "for row in cur_sal.fetchall():\n",
      "    q = Position(row[0] # id\n",
      "               , row[2] # resource\n",
      "               , row[3] # lat\n",
      "               , row[4] # lon\n",
      "               , row[5] # speed\n",
      "               , row[6] # track\n",
      "               , row[10] # date\n",
      "               )\n",
      "    list_pos.append(q)\n",
      "print len(list_pos)"
     ],
     "language": "python",
     "metadata": {},
     "outputs": [
      {
       "output_type": "stream",
       "stream": "stdout",
       "text": [
        "2000\n"
       ]
      }
     ],
     "prompt_number": 189
    },
    {
     "cell_type": "code",
     "collapsed": false,
     "input": [
      "listPosTyp = []\n",
      "lats = []\n",
      "longs = []\n",
      "\n",
      "# Calculamos media lat\n",
      "for pos in list_pos:\n",
      "    lats.append(pos.lat)\n",
      "meanLat = np.mean(lats)\n",
      "# Calculamos media lon \n",
      "for pos in list_pos:\n",
      "    longs.append(pos.lon)\n",
      "meanLon = np.mean(longs)\n",
      "# Calculamos desv lat\n",
      "devLat = np.std(lats)\n",
      "# Calculamos desv lon\n",
      "devLon = np.std(longs)\n",
      "\n",
      "latsTyp = []\n",
      "longsTyp = []\n",
      "for pos in list_pos:\n",
      "    q = Position(pos.id\n",
      "        , pos.resource\n",
      "        , (pos.lat - meanLat)/devLat\n",
      "        , (pos.lon - meanLon)/devLon\n",
      "        , pos.speed\n",
      "        , pos.track\n",
      "        , pos.date\n",
      "        )\n",
      "listPosTyp.append(q)\n",
      "latsTyp.append(q.lat)\n",
      "longsTyp.append(q.lon)"
     ],
     "language": "python",
     "metadata": {},
     "outputs": [],
     "prompt_number": 190
    },
    {
     "cell_type": "code",
     "collapsed": false,
     "input": [
      "# Primera Consolidacion por distancia Euclidea simple con eps=0.0001\n",
      "#result = cs.ConsolidationByDistance(list_pos, 0, 0.0001, 1)\n",
      "#result = cs.ConsolidationByThinning(list_pos, 2, 5)\n",
      "#result = cs.ConsolidationByTime(list_pos, 20)\n",
      "result = cs.ConsolidationByDistance(list_pos, 2, None, 0.001)"
     ],
     "language": "python",
     "metadata": {},
     "outputs": [],
     "prompt_number": 256
    },
    {
     "cell_type": "code",
     "collapsed": false,
     "input": [
      "resultLat = []\n",
      "resultLong = []\n",
      "for pos in result:\n",
      "    resultLat.append(pos.lat)\n",
      "    resultLong.append(pos.lon)"
     ],
     "language": "python",
     "metadata": {},
     "outputs": [],
     "prompt_number": 257
    },
    {
     "cell_type": "code",
     "collapsed": false,
     "input": [
      "plt.figure(1, figsize=(15,10))\n",
      "plt.subplot(111)\n",
      "ax = plt.gca()\n",
      "ax.grid(True)\n",
      "plt.plot(lats, longs, 'ro', resultLat, resultLong, 'bo');"
     ],
     "language": "python",
     "metadata": {},
     "outputs": [
      {
       "metadata": {},
       "output_type": "display_data",
       "png": "[encoded data removed]",
       "text": [
        "<matplotlib.figure.Figure at 0x7ff60d83cb50>"
       ]
      }
     ],
     "prompt_number": 258
    },
    {
     "cell_type": "code",
     "collapsed": false,
     "input": [
      "print len(result)"
     ],
     "language": "python",
     "metadata": {},
     "outputs": [
      {
       "output_type": "stream",
       "stream": "stdout",
       "text": [
        "1786\n"
       ]
      }
     ],
     "prompt_number": 255
    },
    {
     "cell_type": "code",
     "collapsed": false,
     "input": [
      "print len(list_pos)"
     ],
     "language": "python",
     "metadata": {},
     "outputs": [
      {
       "output_type": "stream",
       "stream": "stdout",
       "text": [
        "2000\n"
       ]
      }
     ],
     "prompt_number": 182
    },
    {
     "cell_type": "code",
     "collapsed": false,
     "input": [],
     "language": "python",
     "metadata": {},
     "outputs": [],
     "prompt_number": 147
    },
    {
     "cell_type": "markdown",
     "metadata": {},
     "source": [
      "# DJCLUSTER"
     ]
    },
    {
     "cell_type": "code",
     "collapsed": false,
     "input": [
      "from djCluster import DjCluster"
     ],
     "language": "python",
     "metadata": {},
     "outputs": [],
     "prompt_number": 259
    },
    {
     "cell_type": "code",
     "collapsed": false,
     "input": [
      "result = DjCluster(list_pos, 0, 0.001, 10, None)"
     ],
     "language": "python",
     "metadata": {},
     "outputs": [
      {
       "output_type": "stream",
       "stream": "stdout",
       "text": [
        "Cluster centered in: id:3299042153, recurso:tetra:12082781, latitud:-0.223719641566, longitud:-0.670538902283, velocidad:66, orientacion:90, fecha:2015-02-17 08:00:23\n",
        "Cluster centered in: id:3299042280, recurso:tetra:12082781, latitud:-0.223745658994, longitud:-0.670474886894, velocidad:99, orientacion:112, fecha:2015-02-17 08:00:42\n",
        "Cluster centered in: id:3299042391, recurso:tetra:12082781, latitud:-0.223755031824, longitud:-0.670388162136, velocidad:111, orientacion:112, fecha:2015-02-17 08:00:59\n",
        "Cluster centered in: id:3299042432, recurso:tetra:12082781, latitud:-0.223765134811, longitud:-0.670335769653, velocidad:103, orientacion:112, fecha:2015-02-17 08:01:11\n",
        "Cluster centered in: id:3299042435, recurso:tetra:12082781, latitud:-0.22378668189, longitud:-0.670221686363, velocidad:139, orientacion:112, fecha:2015-02-17 08:01:31\n",
        "Cluster centered in: id:3299042476, recurso:tetra:12082781, latitud:-0.223811581731, longitud:-0.670092105865, velocidad:129, orientacion:112, fecha:2015-02-17 08:01:52\n",
        "Cluster centered in: id:3299042589, recurso:tetra:12082781, latitud:-0.223865881562, longitud:-0.669997572899, velocidad:149, orientacion:135, fecha:2015-02-17 08:02:10\n",
        "Cluster centered in: id:3299042636, recurso:tetra:12082781, latitud:-0.22392693162, longitud:-0.669905602932, velocidad:161, orientacion:135, fecha:2015-02-17 08:02:27\n",
        "Cluster centered in: id:3299042692, recurso:tetra:12082781, latitud:-0.223983287811, longitud:-0.669819891453, velocidad:144, orientacion:135, fecha:2015-02-17 08:02:42\n",
        "Cluster centered in: id:3299042873, recurso:tetra:12082781, latitud:-0.224037975073, longitud:-0.669742703438, velocidad:115, orientacion:112, fecha:2015-02-17 08:02:58\n",
        "Cluster centered in: id:3299043003, recurso:tetra:12082781, latitud:-0.224069982767, longitud:-0.669659554958, velocidad:115, orientacion:90, fecha:2015-02-17 08:03:16\n",
        "Cluster centered in: id:3299043132, recurso:tetra:12082781, latitud:-0.22407990694, longitud:-0.669614613056, velocidad:66, orientacion:112, fecha:2015-02-17 08:03:30\n",
        "Cluster centered in: id:3299043239, recurso:tetra:12082781, latitud:-0.224116235971, longitud:-0.669555485249, velocidad:103, orientacion:157, fecha:2015-02-17 08:03:49\n",
        "Cluster centered in: id:3299043249, recurso:tetra:12082781, latitud:-0.224217548966, longitud:-0.669540464878, velocidad:76, orientacion:180, fecha:2015-02-17 08:04:11\n",
        "Cluster centered in: id:3299043296, recurso:tetra:12082781, latitud:-0.224251434207, longitud:-0.669538795948, velocidad:50, orientacion:157, fecha:2015-02-17 08:04:35\n",
        "Cluster centered in: id:3299043451, recurso:tetra:12082781, latitud:-0.224317535758, longitud:-0.669531464577, velocidad:115, orientacion:180, fecha:2015-02-17 08:04:52\n",
        "Cluster centered in: id:3299043471, recurso:tetra:12082781, latitud:-0.224378019571, longitud:-0.669553935528, velocidad:139, orientacion:202, fecha:2015-02-17 08:05:04\n",
        "Cluster centered in: id:3299043564, recurso:tetra:12082781, latitud:-0.224453106523, longitud:-0.669572889805, velocidad:111, orientacion:180, fecha:2015-02-17 08:05:18"
       ]
      },
      {
       "output_type": "stream",
       "stream": "stdout",
       "text": [
        "\n",
        "Cluster centered in: id:3299043681, recurso:tetra:12082781, latitud:-0.224544495344, longitud:-0.669574379921, velocidad:144, orientacion:180, fecha:2015-02-17 08:05:35\n",
        "Cluster centered in: id:3299043807, recurso:tetra:12082781, latitud:-0.224649354815, longitud:-0.6695779562, velocidad:144, orientacion:180, fecha:2015-02-17 08:05:52\n",
        "Cluster centered in: id:3299043998, recurso:tetra:12082781, latitud:-0.224762454629, longitud:-0.669582247734, velocidad:149, orientacion:180, fecha:2015-02-17 08:06:09\n",
        "Cluster centered in: id:3299044067, recurso:tetra:12082781, latitud:-0.224864691496, longitud:-0.669582247734, velocidad:139, orientacion:180, fecha:2015-02-17 08:06:26\n",
        "Cluster centered in: id:3299044079, recurso:tetra:12082781, latitud:-0.224982842803, longitud:-0.669579446316, velocidad:149, orientacion:180, fecha:2015-02-17 08:06:45\n",
        "Cluster centered in: id:3299044083, recurso:tetra:12082781, latitud:-0.225125908852, longitud:-0.669576644897, velocidad:124, orientacion:180, fecha:2015-02-17 08:07:10\n",
        "Cluster centered in: id:3299044109, recurso:tetra:12082781, latitud:-0.225189581513, longitud:-0.669539749622, velocidad:124, orientacion:112, fecha:2015-02-17 08:07:22\n",
        "Cluster centered in: id:3299044225, recurso:tetra:12082781, latitud:-0.225208863616, longitud:-0.669467806816, velocidad:115, orientacion:112, fecha:2015-02-17 08:07:37\n",
        "Cluster centered in: id:3299044269, recurso:tetra:12082781, latitud:-0.22525306046, longitud:-0.669393837452, velocidad:124, orientacion:135, fecha:2015-02-17 08:07:53\n",
        "Cluster centered in: id:3299044291, recurso:tetra:12082781, latitud:-0.225288257003, longitud:-0.669337153435, velocidad:99, orientacion:135, fecha:2015-02-17 08:08:06\n",
        "Cluster centered in: id:3299044406, recurso:tetra:12082781, latitud:-0.22532401979, longitud:-0.669302642345, velocidad:56, orientacion:90, fecha:2015-02-17 08:08:24\n",
        "Cluster centered in: id:3299044524, recurso:tetra:12082781, latitud:-0.225297242403, longitud:-0.669279277325, velocidad:71, orientacion:22, fecha:2015-02-17 08:08:37\n",
        "Cluster centered in: id:3299044632, recurso:tetra:12082781, latitud:-0.225256234407, longitud:-0.669255077839, velocidad:85, orientacion:45, fecha:2015-02-17 08:08:52\n",
        "Cluster centered in: id:3299044774, recurso:tetra:12082781, latitud:-0.225219920278, longitud:-0.66921800375, velocidad:79, orientacion:45, fecha:2015-02-17 08:09:06\n",
        "Cluster centered in: id:3299044881, recurso:tetra:12082781, latitud:-0.225205868483, longitud:-0.66915345192, velocidad:59, orientacion:90, fecha:2015-02-17 08:09:29\n",
        "Cluster centered in: id:3299045022, recurso:tetra:12082781, latitud:-0.225214853883, longitud:-0.669120311737, velocidad:63, orientacion:135, fecha:2015-02-17 08:09:44"
       ]
      },
      {
       "output_type": "stream",
       "stream": "stdout",
       "text": [
        "\n",
        "Cluster centered in: id:3299045159, recurso:tetra:12082781, latitud:-0.225228533149, longitud:-0.669077396393, velocidad:73, orientacion:90, fecha:2015-02-17 08:10:00\n",
        "Cluster centered in: id:3299045303, recurso:tetra:12082781, latitud:-0.225218042731, longitud:-0.669041454792, velocidad:76, orientacion:67, fecha:2015-02-17 08:10:13\n",
        "Cluster centered in: id:3299045403, recurso:tetra:12082781, latitud:-0.225193887949, longitud:-0.669000089169, velocidad:73, orientacion:45, fecha:2015-02-17 08:10:26\n",
        "Cluster centered in: id:3299045525, recurso:tetra:12082781, latitud:-0.225165426731, longitud:-0.668960750103, velocidad:56, orientacion:45, fecha:2015-02-17 08:10:43\n",
        "Cluster centered in: id:3299045659, recurso:tetra:12082781, latitud:-0.225163176656, longitud:-0.668929278851, velocidad:40, orientacion:157, fecha:2015-02-17 08:10:58\n",
        "Cluster centered in: id:3299045785, recurso:tetra:12082781, latitud:-0.225135833025, longitud:-0.668909609318, velocidad:33, orientacion:45, fecha:2015-02-17 08:11:26\n",
        "Cluster centered in: id:3299045886, recurso:tetra:12082781, latitud:-0.225130781531, longitud:-0.668889224529, velocidad:35, orientacion:112, fecha:2015-02-17 08:11:41\n",
        "Cluster centered in: id:3299045988, recurso:tetra:12082781, latitud:-0.225118041039, longitud:-0.668867707253, velocidad:48, orientacion:45, fecha:2015-02-17 08:11:56\n",
        "Cluster centered in: id:3299046135, recurso:tetra:12082781, latitud:-0.225105315447, longitud:-0.668866753578, velocidad:7, orientacion:315, fecha:2015-02-17 08:12:12\n",
        "Cluster centered in: id:3299046326, recurso:tetra:12082781, latitud:-0.225106626749, longitud:-0.668867707253, velocidad:0, orientacion:0, fecha:2015-02-17 08:12:30\n",
        "Cluster centered in: id:3299046472, recurso:tetra:12082781, latitud:-0.225099131465, longitud:-0.668874621391, velocidad:33, orientacion:315, fecha:2015-02-17 08:12:50\n",
        "Cluster centered in: id:3299046511, recurso:tetra:12082781, latitud:-0.22509033978, longitud:-0.668885469437, velocidad:9, orientacion:292, fecha:2015-02-17 08:13:06\n",
        "Cluster centered in: id:3299046649, recurso:tetra:12082781, latitud:-0.225078716874, longitud:-0.668892204762, velocidad:22, orientacion:247, fecha:2015-02-17 08:13:24\n",
        "Cluster centered in: id:3299046747, recurso:tetra:12082781, latitud:-0.225095391273, longitud:-0.668900847435, velocidad:50, orientacion:202, fecha:2015-02-17 08:13:35\n",
        "Cluster centered in: id:3299046874, recurso:tetra:12082781, latitud:-0.225118607283, longitud:-0.668905317783, velocidad:47, orientacion:157, fecha:2015-02-17 08:13:47\n",
        "Cluster centered in: id:3299046971, recurso:tetra:12082781, latitud:-0.225150823593, longitud:-0.668916940689, velocidad:42, orientacion:225, fecha:2015-02-17 08:14:06\n",
        "Cluster centered in: id:3299047124, recurso:tetra:12082781, latitud:-0.225158497691, longitud:-0.668941617012, velocidad:61, orientacion:270, fecha:2015-02-17 08:14:17\n",
        "Cluster centered in: id:3299047254, recurso:tetra:12082781, latitud:-0.225180774927, longitud:-0.668981552124, velocidad:79, orientacion:225, fecha:2015-02-17 08:14:31\n",
        "Cluster centered in: id:3299047265, recurso:tetra:12082781, latitud:-0.225215226412, longitud:-0.669036209583, velocidad:88, orientacion:247, fecha:2015-02-17 08:14:48"
       ]
      },
      {
       "output_type": "stream",
       "stream": "stdout",
       "text": [
        "\n",
        "Cluster centered in: id:3299047309, recurso:tetra:12082781, latitud:-0.225225150585, longitud:-0.66910135746, velocidad:66, orientacion:292, fecha:2015-02-17 08:15:10\n",
        "Cluster centered in: id:3299047437, recurso:tetra:12082781, latitud:-0.225205302238, longitud:-0.669121026993, velocidad:37, orientacion:67, fecha:2015-02-17 08:15:25\n",
        "Cluster centered in: id:3299047472, recurso:tetra:12082781, latitud:-0.225202128291, longitud:-0.669098377228, velocidad:68, orientacion:90, fecha:2015-02-17 08:15:36\n",
        "Cluster centered in: id:3299047508, recurso:tetra:12082781, latitud:-0.225191265345, longitud:-0.669072747231, velocidad:29, orientacion:247, fecha:2015-02-17 08:15:51\n",
        "Cluster centered in: id:3299047653, recurso:tetra:12082781, latitud:-0.225202128291, longitud:-0.669137716293, velocidad:73, orientacion:270, fecha:2015-02-17 08:16:13\n",
        "Cluster centered in: id:3299047841, recurso:tetra:12082781, latitud:-0.225206241012, longitud:-0.669194996357, velocidad:73, orientacion:270, fecha:2015-02-17 08:16:30\n",
        "Cluster centered in: id:3299048021, recurso:tetra:12082781, latitud:-0.225232645869, longitud:-0.669236183167, velocidad:85, orientacion:225, fecha:2015-02-17 08:16:45\n",
        "Cluster centered in: id:3299048061, recurso:tetra:12082781, latitud:-0.225280955434, longitud:-0.669283032417, velocidad:85, orientacion:225, fecha:2015-02-17 08:17:02\n",
        "Cluster centered in: id:3299048116, recurso:tetra:12082781, latitud:-0.225268229842, longitud:-0.669367074966, velocidad:88, orientacion:292, fecha:2015-02-17 08:17:34\n",
        "Cluster centered in: id:3299048246, recurso:tetra:12082781, latitud:-0.22522777319, longitud:-0.669430553913, velocidad:111, orientacion:292, fecha:2015-02-17 08:17:51\n",
        "Cluster centered in: id:3299048343, recurso:tetra:12082781, latitud:-0.225198566914, longitud:-0.669504523277, velocidad:115, orientacion:292, fecha:2015-02-17 08:18:08\n",
        "Cluster centered in: id:3299048436, recurso:tetra:12082781, latitud:-0.225150629878, longitud:-0.669571399689, velocidad:107, orientacion:0, fecha:2015-02-17 08:18:25\n",
        "Cluster centered in: id:3299048625, recurso:tetra:12082781, latitud:-0.225086584687, longitud:-0.669576644897, velocidad:119, orientacion:0, fecha:2015-02-17 08:18:38\n",
        "Cluster centered in: id:3299048752, recurso:tetra:12082781, latitud:-0.22500962019, longitud:-0.669575095177, velocidad:111, orientacion:0, fecha:2015-02-17 08:18:53\n",
        "Cluster centered in: id:3299048818, recurso:tetra:12082781, latitud:-0.224900081754, longitud:-0.669580340385, velocidad:124, orientacion:0, fecha:2015-02-17 08:19:16\n",
        "Cluster centered in: id:3299048846, recurso:tetra:12082781, latitud:-0.224838480353, longitud:-0.669581472874, velocidad:134, orientacion:0, fecha:2015-02-17 08:19:28\n",
        "Cluster centered in: id:3299048959, recurso:tetra:12082781, latitud:-0.224744290113, longitud:-0.669580161572, velocidad:144, orientacion:0, fecha:2015-02-17 08:19:43\n",
        "Cluster centered in: id:3299049177, recurso:tetra:12082781, latitud:-0.224572584033, longitud:-0.669574022293, velocidad:155, orientacion:0, fecha:2015-02-17 08:20:09\n",
        "Cluster centered in: id:3299049333, recurso:tetra:12082781, latitud:-0.224460601807, longitud:-0.669568359852, velocidad:124, orientacion:0, fecha:2015-02-17 08:20:29\n",
        "Cluster centered in: id:3299049486, recurso:tetra:12082781, latitud:-0.224393382668, longitud:-0.669559955597, velocidad:124, orientacion:22, fecha:2015-02-17 08:20:41"
       ]
      },
      {
       "output_type": "stream",
       "stream": "stdout",
       "text": [
        "\n",
        "Cluster centered in: id:3299049563, recurso:tetra:12082781, latitud:-0.224315285683, longitud:-0.669530570507, velocidad:115, orientacion:0, fecha:2015-02-17 08:20:57\n",
        "Cluster centered in: id:3299049652, recurso:tetra:12082781, latitud:-0.224236831069, longitud:-0.669531881809, velocidad:24, orientacion:0, fecha:2015-02-17 08:21:22\n",
        "Cluster centered in: id:3299049779, recurso:tetra:12082781, latitud:-0.224195450544, longitud:-0.669536948204, velocidad:95, orientacion:0, fecha:2015-02-17 08:21:38\n",
        "Cluster centered in: id:3299049824, recurso:tetra:12082781, latitud:-0.224112689495, longitud:-0.669556558132, velocidad:115, orientacion:315, fecha:2015-02-17 08:21:56\n",
        "Cluster centered in: id:3299049925, recurso:tetra:12082781, latitud:-0.224075987935, longitud:-0.669622302055, velocidad:111, orientacion:292, fecha:2015-02-17 08:22:13\n",
        "Cluster centered in: id:3299050091, recurso:tetra:12082781, latitud:-0.224047333002, longitud:-0.66971629858, velocidad:124, orientacion:292, fecha:2015-02-17 08:22:29\n",
        "Cluster centered in: id:3299050233, recurso:tetra:12082781, latitud:-0.223999202251, longitud:-0.669791936874, velocidad:139, orientacion:315, fecha:2015-02-17 08:22:45\n",
        "Cluster centered in: id:3299050325, recurso:tetra:12082781, latitud:-0.22394490242, longitud:-0.669875860214, velocidad:149, orientacion:315, fecha:2015-02-17 08:23:01\n",
        "Cluster centered in: id:3299050499, recurso:tetra:12082781, latitud:-0.22384659946, longitud:-0.670025467873, velocidad:139, orientacion:315, fecha:2015-02-17 08:23:29\n",
        "Cluster centered in: id:3299050573, recurso:tetra:12082781, latitud:-0.223809331656, longitud:-0.670098125935, velocidad:134, orientacion:292, fecha:2015-02-17 08:23:44\n",
        "Cluster centered in: id:3299050635, recurso:tetra:12082781, latitud:-0.223795294762, longitud:-0.670172095299, velocidad:144, orientacion:292, fecha:2015-02-17 08:23:56\n",
        "Cluster centered in: id:3299050796, recurso:tetra:12082781, latitud:-0.223775625229, longitud:-0.670275270939, velocidad:144, orientacion:292, fecha:2015-02-17 08:24:12\n",
        "Cluster centered in: id:3299050874, recurso:tetra:12082781, latitud:-0.223761588335, longitud:-0.670354485512, velocidad:115, orientacion:292, fecha:2015-02-17 08:24:25\n",
        "Cluster centered in: id:3299051058, recurso:tetra:12082781, latitud:-0.223751470447, longitud:-0.670410096645, velocidad:111, orientacion:270, fecha:2015-02-17 08:24:37\n",
        "Cluster centered in: id:3299051335, recurso:tetra:12082781, latitud:-0.223685190082, longitud:-0.670580506325, velocidad:76, orientacion:247, fecha:2015-02-17 08:25:28\n",
        "Cluster centered in: id:3299054236, recurso:tetra:12082781, latitud:-0.224470153451, longitud:-0.671218454838, velocidad:71, orientacion:225, fecha:2015-02-17 08:32:39\n",
        "Cluster centered in: id:3299054381, recurso:tetra:12082781, latitud:-0.224507406354, longitud:-0.671234965324, velocidad:76, orientacion:202, fecha:2015-02-17 08:32:51"
       ]
      },
      {
       "output_type": "stream",
       "stream": "stdout",
       "text": [
        "\n",
        "Cluster centered in: id:3299054451, recurso:tetra:12082781, latitud:-0.224549919367, longitud:-0.671252191067, velocidad:63, orientacion:202, fecha:2015-02-17 08:33:07"
       ]
      },
      {
       "output_type": "stream",
       "stream": "stdout",
       "text": [
        "\n",
        "Cluster centered in: id:3299054537, recurso:tetra:12082781, latitud:-0.224581569433, longitud:-0.671269178391, velocidad:42, orientacion:270, fecha:2015-02-17 08:33:22"
       ]
      },
      {
       "output_type": "stream",
       "stream": "stdout",
       "text": [
        "\n",
        "Cluster centered in: id:3299054672, recurso:tetra:12082781, latitud:-0.22460141778, longitud:-0.671303093433, velocidad:66, orientacion:247, fecha:2015-02-17 08:33:35"
       ]
      },
      {
       "output_type": "stream",
       "stream": "stdout",
       "text": [
        "\n",
        "Cluster centered in: id:3299054871, recurso:tetra:12082781, latitud:-0.224610775709, longitud:-0.671346187592, velocidad:73, orientacion:270, fecha:2015-02-17 08:33:55"
       ]
      },
      {
       "output_type": "stream",
       "stream": "stdout",
       "text": [
        "\n",
        "Cluster centered in: id:3299054930, recurso:tetra:12082781, latitud:-0.224608153105, longitud:-0.671381950378, velocidad:24, orientacion:180, fecha:2015-02-17 08:34:11"
       ]
      },
      {
       "output_type": "stream",
       "stream": "stdout",
       "text": [
        "\n",
        "Cluster centered in: id:3299055055, recurso:tetra:12082781, latitud:-0.224633619189, longitud:-0.671353638172, velocidad:45, orientacion:90, fecha:2015-02-17 08:34:33"
       ]
      },
      {
       "output_type": "stream",
       "stream": "stdout",
       "text": [
        "\n",
        "Cluster centered in: id:3299055197, recurso:tetra:12082781, latitud:-0.224646165967, longitud:-0.671327471733, velocidad:37, orientacion:157, fecha:2015-02-17 08:34:47"
       ]
      },
      {
       "output_type": "stream",
       "stream": "stdout",
       "text": [
        "\n",
        "Cluster centered in: id:3299055382, recurso:tetra:12082781, latitud:-0.224669009447, longitud:-0.671332657337, velocidad:47, orientacion:202, fecha:2015-02-17 08:35:00"
       ]
      },
      {
       "output_type": "stream",
       "stream": "stdout",
       "text": [
        "\n",
        "Cluster centered in: id:3299055660, recurso:tetra:12082781, latitud:-0.224697098136, longitud:-0.671345770359, velocidad:31, orientacion:292, fecha:2015-02-17 08:35:19"
       ]
      },
      {
       "output_type": "stream",
       "stream": "stdout",
       "text": [
        "\n",
        "Cluster centered in: id:3299055865, recurso:tetra:12082781, latitud:-0.224686056376, longitud:-0.671367526054, velocidad:1, orientacion:315, fecha:2015-02-17 08:35:46"
       ]
      },
      {
       "output_type": "stream",
       "stream": "stdout",
       "text": [
        "\n",
        "Cluster centered in: id:3299055972, recurso:tetra:12082781, latitud:-0.224686056376, longitud:-0.671368479729, velocidad:0, orientacion:0, fecha:2015-02-17 08:36:07"
       ]
      },
      {
       "output_type": "stream",
       "stream": "stdout",
       "text": [
        "\n",
        "Cluster centered in: id:3299056053, recurso:tetra:12082781, latitud:-0.224686056376, longitud:-0.671368479729, velocidad:0, orientacion:0, fecha:2015-02-17 08:36:19"
       ]
      },
      {
       "output_type": "stream",
       "stream": "stdout",
       "text": [
        "\n",
        "Cluster centered in: id:3299056188, recurso:tetra:12082781, latitud:-0.224686056376, longitud:-0.671368479729, velocidad:0, orientacion:0, fecha:2015-02-17 08:36:34"
       ]
      },
      {
       "output_type": "stream",
       "stream": "stdout",
       "text": [
        "\n",
        "Cluster centered in: id:3299056331, recurso:tetra:12082781, latitud:-0.224686428905, longitud:-0.671368837357, velocidad:0, orientacion:0, fecha:2015-02-17 08:36:49"
       ]
      },
      {
       "output_type": "stream",
       "stream": "stdout",
       "text": [
        "\n",
        "Cluster centered in: id:3299056422, recurso:tetra:12082781, latitud:-0.224686056376, longitud:-0.671369016171, velocidad:0, orientacion:0, fecha:2015-02-17 08:37:14"
       ]
      },
      {
       "output_type": "stream",
       "stream": "stdout",
       "text": [
        "\n",
        "Cluster centered in: id:3299056486, recurso:tetra:12082781, latitud:-0.224686056376, longitud:-0.671369016171, velocidad:0, orientacion:0, fecha:2015-02-17 08:37:30"
       ]
      },
      {
       "output_type": "stream",
       "stream": "stdout",
       "text": [
        "\n",
        "Cluster centered in: id:3299056603, recurso:tetra:12082781, latitud:-0.224684923887, longitud:-0.671368479729, velocidad:0, orientacion:0, fecha:2015-02-17 08:37:45"
       ]
      },
      {
       "output_type": "stream",
       "stream": "stdout",
       "text": [
        "\n",
        "Cluster centered in: id:3299056709, recurso:tetra:12082781, latitud:-0.224684923887, longitud:-0.671368479729, velocidad:0, orientacion:0, fecha:2015-02-17 08:37:58"
       ]
      },
      {
       "output_type": "stream",
       "stream": "stdout",
       "text": [
        "\n",
        "Cluster centered in: id:3299056861, recurso:tetra:12082781, latitud:-0.224684923887, longitud:-0.671368837357, velocidad:0, orientacion:0, fecha:2015-02-17 08:38:17"
       ]
      },
      {
       "output_type": "stream",
       "stream": "stdout",
       "text": [
        "\n",
        "Cluster centered in: id:3299057026, recurso:tetra:12082781, latitud:-0.224683433771, longitud:-0.67136824131, velocidad:0, orientacion:0, fecha:2015-02-17 08:38:35"
       ]
      },
      {
       "output_type": "stream",
       "stream": "stdout",
       "text": [
        "\n",
        "Cluster centered in: id:3299057118, recurso:tetra:12082781, latitud:-0.2246838063, longitud:-0.67136824131, velocidad:0, orientacion:0, fecha:2015-02-17 08:38:48"
       ]
      },
      {
       "output_type": "stream",
       "stream": "stdout",
       "text": [
        "\n",
        "Cluster centered in: id:3299057170, recurso:tetra:12082781, latitud:-0.2246838063, longitud:-0.671367883682, velocidad:0, orientacion:0, fecha:2015-02-17 08:39:27"
       ]
      },
      {
       "output_type": "stream",
       "stream": "stdout",
       "text": [
        "\n",
        "Cluster centered in: id:3299057284, recurso:tetra:12082781, latitud:-0.224683433771, longitud:-0.671367883682, velocidad:0, orientacion:0, fecha:2015-02-17 08:39:43"
       ]
      },
      {
       "output_type": "stream",
       "stream": "stdout",
       "text": [
        "\n",
        "Cluster centered in: id:3299057342, recurso:tetra:12082781, latitud:-0.224683433771, longitud:-0.67136824131, velocidad:0, orientacion:0, fecha:2015-02-17 08:39:54"
       ]
      },
      {
       "output_type": "stream",
       "stream": "stdout",
       "text": [
        "\n",
        "Cluster centered in: id:3299057382, recurso:tetra:12082781, latitud:-0.224683433771, longitud:-0.671367883682, velocidad:0, orientacion:0, fecha:2015-02-17 08:40:06"
       ]
      },
      {
       "output_type": "stream",
       "stream": "stdout",
       "text": [
        "\n",
        "Cluster centered in: id:3299057534, recurso:tetra:12082781, latitud:-0.224683433771, longitud:-0.671367883682, velocidad:0, orientacion:0, fecha:2015-02-17 08:40:25"
       ]
      },
      {
       "output_type": "stream",
       "stream": "stdout",
       "text": [
        "\n",
        "Cluster centered in: id:3299057655, recurso:tetra:12082781, latitud:-0.224682867527, longitud:-0.67136824131, velocidad:0, orientacion:0, fecha:2015-02-17 08:40:39"
       ]
      },
      {
       "output_type": "stream",
       "stream": "stdout",
       "text": [
        "\n",
        "Cluster centered in: id:3299057874, recurso:tetra:12082781, latitud:-0.224682494998, longitud:-0.67136824131, velocidad:0, orientacion:0, fecha:2015-02-17 08:40:55"
       ]
      },
      {
       "output_type": "stream",
       "stream": "stdout",
       "text": [
        "\n",
        "Cluster centered in: id:3299057928, recurso:tetra:12082781, latitud:-0.224682494998, longitud:-0.67136824131, velocidad:0, orientacion:0, fecha:2015-02-17 08:41:10"
       ]
      },
      {
       "output_type": "stream",
       "stream": "stdout",
       "text": [
        "\n",
        "Cluster centered in: id:3299057956, recurso:tetra:12082781, latitud:-0.224682867527, longitud:-0.67136824131, velocidad:0, orientacion:0, fecha:2015-02-17 08:41:37"
       ]
      },
      {
       "output_type": "stream",
       "stream": "stdout",
       "text": [
        "\n",
        "Cluster centered in: id:3299058010, recurso:tetra:12082781, latitud:-0.2246838063, longitud:-0.67136824131, velocidad:0, orientacion:0, fecha:2015-02-17 08:41:59"
       ]
      },
      {
       "output_type": "stream",
       "stream": "stdout",
       "text": [
        "\n",
        "Cluster centered in: id:3299058138, recurso:tetra:12082781, latitud:-0.22468586266, longitud:-0.671368837357, velocidad:0, orientacion:0, fecha:2015-02-17 08:42:20"
       ]
      },
      {
       "output_type": "stream",
       "stream": "stdout",
       "text": [
        "\n",
        "Cluster centered in: id:3299058269, recurso:tetra:12082781, latitud:-0.22468586266, longitud:-0.671368837357, velocidad:0, orientacion:0, fecha:2015-02-17 08:42:34"
       ]
      },
      {
       "output_type": "stream",
       "stream": "stdout",
       "text": [
        "\n",
        "Cluster centered in: id:3299058387, recurso:tetra:12082781, latitud:-0.224686056376, longitud:-0.671369016171, velocidad:0, orientacion:0, fecha:2015-02-17 08:42:49"
       ]
      },
      {
       "output_type": "stream",
       "stream": "stdout",
       "text": [
        "\n",
        "Cluster centered in: id:3299058484, recurso:tetra:12082781, latitud:-0.22468586266, longitud:-0.671369016171, velocidad:0, orientacion:0, fecha:2015-02-17 08:43:05"
       ]
      },
      {
       "output_type": "stream",
       "stream": "stdout",
       "text": [
        "\n",
        "Cluster centered in: id:3299058625, recurso:tetra:12082781, latitud:-0.224686056376, longitud:-0.671369016171, velocidad:0, orientacion:0, fecha:2015-02-17 08:43:25"
       ]
      },
      {
       "output_type": "stream",
       "stream": "stdout",
       "text": [
        "\n",
        "Cluster centered in: id:3299058700, recurso:tetra:12082781, latitud:-0.224685117602, longitud:-0.671368837357, velocidad:0, orientacion:0, fecha:2015-02-17 08:43:47"
       ]
      },
      {
       "output_type": "stream",
       "stream": "stdout",
       "text": [
        "\n",
        "Cluster centered in: id:3299058702, recurso:tetra:12082781, latitud:-0.224685117602, longitud:-0.671368837357, velocidad:0, orientacion:0, fecha:2015-02-17 08:44:06"
       ]
      },
      {
       "output_type": "stream",
       "stream": "stdout",
       "text": [
        "\n",
        "Cluster centered in: id:3299058845, recurso:tetra:12082781, latitud:-0.224684923887, longitud:-0.671368837357, velocidad:0, orientacion:0, fecha:2015-02-17 08:44:26"
       ]
      },
      {
       "output_type": "stream",
       "stream": "stdout",
       "text": [
        "\n",
        "Cluster centered in: id:3299058989, recurso:tetra:12082781, latitud:-0.224684372544, longitud:-0.671368479729, velocidad:0, orientacion:0, fecha:2015-02-17 08:44:43"
       ]
      },
      {
       "output_type": "stream",
       "stream": "stdout",
       "text": [
        "\n",
        "Cluster centered in: id:3299059087, recurso:tetra:12082781, latitud:-0.224683433771, longitud:-0.67136824131, velocidad:0, orientacion:0, fecha:2015-02-17 08:44:56"
       ]
      },
      {
       "output_type": "stream",
       "stream": "stdout",
       "text": [
        "\n",
        "Cluster centered in: id:3299059192, recurso:tetra:12082781, latitud:-0.2246838063, longitud:-0.671368479729, velocidad:0, orientacion:0, fecha:2015-02-17 08:45:11"
       ]
      },
      {
       "output_type": "stream",
       "stream": "stdout",
       "text": [
        "\n",
        "Cluster centered in: id:3299059448, recurso:tetra:12082781, latitud:-0.224684551358, longitud:-0.671368837357, velocidad:0, orientacion:0, fecha:2015-02-17 08:45:39"
       ]
      },
      {
       "output_type": "stream",
       "stream": "stdout",
       "text": [
        "\n",
        "Cluster centered in: id:3299059522, recurso:tetra:12082781, latitud:-0.224684551358, longitud:-0.671368837357, velocidad:0, orientacion:0, fecha:2015-02-17 08:45:55"
       ]
      },
      {
       "output_type": "stream",
       "stream": "stdout",
       "text": [
        "\n",
        "Cluster centered in: id:3299059640, recurso:tetra:12082781, latitud:-0.224684372544, longitud:-0.671368479729, velocidad:0, orientacion:0, fecha:2015-02-17 08:46:09"
       ]
      },
      {
       "output_type": "stream",
       "stream": "stdout",
       "text": [
        "\n",
        "Cluster centered in: id:3299059690, recurso:tetra:12082781, latitud:-0.224684000015, longitud:-0.671368479729, velocidad:0, orientacion:0, fecha:2015-02-17 08:46:27"
       ]
      },
      {
       "output_type": "stream",
       "stream": "stdout",
       "text": [
        "\n",
        "Cluster centered in: id:3299059844, recurso:tetra:12082781, latitud:-0.224684000015, longitud:-0.671368479729, velocidad:0, orientacion:0, fecha:2015-02-17 08:46:40"
       ]
      },
      {
       "output_type": "stream",
       "stream": "stdout",
       "text": [
        "\n",
        "Cluster centered in: id:3299059939, recurso:tetra:12082781, latitud:-0.224684000015, longitud:-0.67136824131, velocidad:0, orientacion:0, fecha:2015-02-17 08:46:54"
       ]
      },
      {
       "output_type": "stream",
       "stream": "stdout",
       "text": [
        "\n",
        "Cluster centered in: id:3299060111, recurso:tetra:12082781, latitud:-0.224684372544, longitud:-0.67136824131, velocidad:0, orientacion:0, fecha:2015-02-17 08:47:12"
       ]
      },
      {
       "output_type": "stream",
       "stream": "stdout",
       "text": [
        "\n",
        "Cluster centered in: id:3299060208, recurso:tetra:12082781, latitud:-0.224685117602, longitud:-0.671367883682, velocidad:0, orientacion:0, fecha:2015-02-17 08:47:49"
       ]
      },
      {
       "output_type": "stream",
       "stream": "stdout",
       "text": [
        "\n",
        "Cluster centered in: id:3299060381, recurso:tetra:12082781, latitud:-0.224685117602, longitud:-0.671367883682, velocidad:0, orientacion:0, fecha:2015-02-17 08:48:07"
       ]
      },
      {
       "output_type": "stream",
       "stream": "stdout",
       "text": [
        "\n",
        "Cluster centered in: id:3299060436, recurso:tetra:12082781, latitud:-0.224685117602, longitud:-0.67136824131, velocidad:0, orientacion:0, fecha:2015-02-17 08:48:32"
       ]
      },
      {
       "output_type": "stream",
       "stream": "stdout",
       "text": [
        "\n",
        "Cluster centered in: id:3299060554, recurso:tetra:12082781, latitud:-0.224684923887, longitud:-0.671368479729, velocidad:0, orientacion:0, fecha:2015-02-17 08:48:47"
       ]
      },
      {
       "output_type": "stream",
       "stream": "stdout",
       "text": [
        "\n",
        "Cluster centered in: id:3299060649, recurso:tetra:12082781, latitud:-0.224684923887, longitud:-0.671368479729, velocidad:0, orientacion:0, fecha:2015-02-17 08:49:02"
       ]
      },
      {
       "output_type": "stream",
       "stream": "stdout",
       "text": [
        "\n",
        "Cluster centered in: id:3299060755, recurso:tetra:12082781, latitud:-0.224684923887, longitud:-0.671368479729, velocidad:0, orientacion:0, fecha:2015-02-17 08:49:16"
       ]
      },
      {
       "output_type": "stream",
       "stream": "stdout",
       "text": [
        "\n",
        "Cluster centered in: id:3299060929, recurso:tetra:12082781, latitud:-0.224684372544, longitud:-0.671368479729, velocidad:0, orientacion:0, fecha:2015-02-17 08:49:31"
       ]
      },
      {
       "output_type": "stream",
       "stream": "stdout",
       "text": [
        "\n",
        "Cluster centered in: id:3299060934, recurso:tetra:12082781, latitud:-0.224684000015, longitud:-0.671368837357, velocidad:0, orientacion:0, fecha:2015-02-17 08:49:52"
       ]
      },
      {
       "output_type": "stream",
       "stream": "stdout",
       "text": [
        "\n",
        "Cluster centered in: id:3299061008, recurso:tetra:12082781, latitud:-0.224684000015, longitud:-0.671368837357, velocidad:0, orientacion:0, fecha:2015-02-17 08:50:07"
       ]
      },
      {
       "output_type": "stream",
       "stream": "stdout",
       "text": [
        "\n",
        "Cluster centered in: id:3299061106, recurso:tetra:12082781, latitud:-0.224684000015, longitud:-0.671368837357, velocidad:0, orientacion:22, fecha:2015-02-17 08:50:20"
       ]
      },
      {
       "output_type": "stream",
       "stream": "stdout",
       "text": [
        "\n",
        "Cluster centered in: id:3299061246, recurso:tetra:12082781, latitud:-0.224684000015, longitud:-0.671369016171, velocidad:0, orientacion:0, fecha:2015-02-17 08:50:34"
       ]
      },
      {
       "output_type": "stream",
       "stream": "stdout",
       "text": [
        "\n",
        "Cluster centered in: id:3299061347, recurso:tetra:12082781, latitud:-0.224684551358, longitud:-0.671369016171, velocidad:0, orientacion:0, fecha:2015-02-17 08:50:49"
       ]
      },
      {
       "output_type": "stream",
       "stream": "stdout",
       "text": [
        "\n",
        "Cluster centered in: id:3299061579, recurso:tetra:12082781, latitud:-0.224684372544, longitud:-0.671368837357, velocidad:0, orientacion:0, fecha:2015-02-17 08:51:15"
       ]
      },
      {
       "output_type": "stream",
       "stream": "stdout",
       "text": [
        "\n",
        "Cluster centered in: id:3299061673, recurso:tetra:12082781, latitud:-0.224684551358, longitud:-0.671368837357, velocidad:0, orientacion:0, fecha:2015-02-17 08:51:39"
       ]
      },
      {
       "output_type": "stream",
       "stream": "stdout",
       "text": [
        "\n",
        "Cluster centered in: id:3299061676, recurso:tetra:12082781, latitud:-0.224684551358, longitud:-0.671368837357, velocidad:0, orientacion:0, fecha:2015-02-17 08:52:07"
       ]
      },
      {
       "output_type": "stream",
       "stream": "stdout",
       "text": [
        "\n",
        "Cluster centered in: id:3299061762, recurso:tetra:12082781, latitud:-0.224684923887, longitud:-0.671368479729, velocidad:0, orientacion:0, fecha:2015-02-17 08:52:35"
       ]
      },
      {
       "output_type": "stream",
       "stream": "stdout",
       "text": [
        "\n",
        "Cluster centered in: id:3299061868, recurso:tetra:12082781, latitud:-0.224685117602, longitud:-0.67136824131, velocidad:0, orientacion:0, fecha:2015-02-17 08:52:49"
       ]
      },
      {
       "output_type": "stream",
       "stream": "stdout",
       "text": [
        "\n",
        "Cluster centered in: id:3299061905, recurso:tetra:12082781, latitud:-0.224685490131, longitud:-0.67136824131, velocidad:0, orientacion:0, fecha:2015-02-17 08:53:06"
       ]
      },
      {
       "output_type": "stream",
       "stream": "stdout",
       "text": [
        "\n",
        "Cluster centered in: id:3299062013, recurso:tetra:12082781, latitud:-0.22468586266, longitud:-0.67136824131, velocidad:0, orientacion:0, fecha:2015-02-17 08:53:22"
       ]
      },
      {
       "output_type": "stream",
       "stream": "stdout",
       "text": [
        "\n",
        "Cluster centered in: id:3299062173, recurso:tetra:12082781, latitud:-0.224685490131, longitud:-0.67136824131, velocidad:0, orientacion:225, fecha:2015-02-17 08:53:39"
       ]
      },
      {
       "output_type": "stream",
       "stream": "stdout",
       "text": [
        "\n",
        "Cluster centered in: id:3299062328, recurso:tetra:12082781, latitud:-0.224684923887, longitud:-0.671368479729, velocidad:0, orientacion:0, fecha:2015-02-17 08:53:56"
       ]
      },
      {
       "output_type": "stream",
       "stream": "stdout",
       "text": [
        "\n",
        "Cluster centered in: id:3299062406, recurso:tetra:12082781, latitud:-0.224684923887, longitud:-0.67136824131, velocidad:0, orientacion:0, fecha:2015-02-17 08:54:13"
       ]
      },
      {
       "output_type": "stream",
       "stream": "stdout",
       "text": [
        "\n",
        "Cluster centered in: id:3299062434, recurso:tetra:12082781, latitud:-0.224685117602, longitud:-0.671368837357, velocidad:0, orientacion:180, fecha:2015-02-17 08:54:37"
       ]
      },
      {
       "output_type": "stream",
       "stream": "stdout",
       "text": [
        "\n",
        "Cluster centered in: id:3299062443, recurso:tetra:12082781, latitud:-0.22468586266, longitud:-0.671369373798, velocidad:0, orientacion:0, fecha:2015-02-17 08:55:02"
       ]
      },
      {
       "output_type": "stream",
       "stream": "stdout",
       "text": [
        "\n",
        "Cluster centered in: id:3299062540, recurso:tetra:12082781, latitud:-0.22468586266, longitud:-0.671369373798, velocidad:1, orientacion:0, fecha:2015-02-17 08:55:16"
       ]
      },
      {
       "output_type": "stream",
       "stream": "stdout",
       "text": [
        "\n",
        "Cluster centered in: id:3299062628, recurso:tetra:12082781, latitud:-0.224686428905, longitud:-0.671369552612, velocidad:0, orientacion:0, fecha:2015-02-17 08:55:31"
       ]
      },
      {
       "output_type": "stream",
       "stream": "stdout",
       "text": [
        "\n",
        "Cluster centered in: id:3299062648, recurso:tetra:12082781, latitud:-0.224686428905, longitud:-0.671369552612, velocidad:0, orientacion:0, fecha:2015-02-17 08:55:45"
       ]
      },
      {
       "output_type": "stream",
       "stream": "stdout",
       "text": [
        "\n",
        "Cluster centered in: id:3299062759, recurso:tetra:12082781, latitud:-0.224686607718, longitud:-0.671369373798, velocidad:0, orientacion:22, fecha:2015-02-17 08:55:59"
       ]
      },
      {
       "output_type": "stream",
       "stream": "stdout",
       "text": [
        "\n",
        "Cluster centered in: id:3299062837, recurso:tetra:12082781, latitud:-0.224686995149, longitud:-0.671369016171, velocidad:0, orientacion:0, fecha:2015-02-17 08:56:19"
       ]
      },
      {
       "output_type": "stream",
       "stream": "stdout",
       "text": [
        "\n",
        "Cluster centered in: id:3299062974, recurso:tetra:12082781, latitud:-0.224685117602, longitud:-0.671369016171, velocidad:0, orientacion:0, fecha:2015-02-17 08:56:40"
       ]
      },
      {
       "output_type": "stream",
       "stream": "stdout",
       "text": [
        "\n",
        "Cluster centered in: id:3299063081, recurso:tetra:12082781, latitud:-0.224685117602, longitud:-0.671369016171, velocidad:0, orientacion:0, fecha:2015-02-17 08:56:54"
       ]
      },
      {
       "output_type": "stream",
       "stream": "stdout",
       "text": [
        "\n",
        "Cluster centered in: id:3299063176, recurso:tetra:12082781, latitud:-0.22468586266, longitud:-0.671369016171, velocidad:0, orientacion:0, fecha:2015-02-17 08:57:11"
       ]
      },
      {
       "output_type": "stream",
       "stream": "stdout",
       "text": [
        "\n",
        "Cluster centered in: id:3299063287, recurso:tetra:12082781, latitud:-0.224686428905, longitud:-0.671368837357, velocidad:0, orientacion:0, fecha:2015-02-17 08:57:40"
       ]
      },
      {
       "output_type": "stream",
       "stream": "stdout",
       "text": [
        "\n",
        "Cluster centered in: id:3299063365, recurso:tetra:12082781, latitud:-0.224685490131, longitud:-0.671368837357, velocidad:0, orientacion:0, fecha:2015-02-17 08:57:55"
       ]
      },
      {
       "output_type": "stream",
       "stream": "stdout",
       "text": [
        "\n",
        "Cluster centered in: id:3299063401, recurso:tetra:12082781, latitud:-0.224685490131, longitud:-0.671368837357, velocidad:0, orientacion:0, fecha:2015-02-17 08:58:08"
       ]
      },
      {
       "output_type": "stream",
       "stream": "stdout",
       "text": [
        "\n",
        "Cluster centered in: id:3299063497, recurso:tetra:12082781, latitud:-0.224685490131, longitud:-0.671368837357, velocidad:0, orientacion:0, fecha:2015-02-17 08:58:24"
       ]
      },
      {
       "output_type": "stream",
       "stream": "stdout",
       "text": [
        "\n",
        "Cluster centered in: id:3299063654, recurso:tetra:12082781, latitud:-0.224685490131, longitud:-0.671368837357, velocidad:0, orientacion:0, fecha:2015-02-17 08:58:46"
       ]
      },
      {
       "output_type": "stream",
       "stream": "stdout",
       "text": [
        "\n",
        "Cluster centered in: id:3299063788, recurso:tetra:12082781, latitud:-0.224685490131, longitud:-0.671368837357, velocidad:0, orientacion:0, fecha:2015-02-17 08:59:01"
       ]
      },
      {
       "output_type": "stream",
       "stream": "stdout",
       "text": [
        "\n",
        "Cluster centered in: id:3299063871, recurso:tetra:12082781, latitud:-0.224684923887, longitud:-0.671369016171, velocidad:0, orientacion:0, fecha:2015-02-17 08:59:17"
       ]
      },
      {
       "output_type": "stream",
       "stream": "stdout",
       "text": [
        "\n",
        "Cluster centered in: id:3299063989, recurso:tetra:12082781, latitud:-0.224685117602, longitud:-0.671369016171, velocidad:0, orientacion:0, fecha:2015-02-17 08:59:37"
       ]
      },
      {
       "output_type": "stream",
       "stream": "stdout",
       "text": [
        "\n",
        "Cluster centered in: id:3299064213, recurso:tetra:12082781, latitud:-0.224684923887, longitud:-0.671369016171, velocidad:0, orientacion:0, fecha:2015-02-17 08:59:52"
       ]
      },
      {
       "output_type": "stream",
       "stream": "stdout",
       "text": [
        "\n",
        "Cluster centered in: id:3299064446, recurso:tetra:12082781, latitud:-0.224685117602, longitud:-0.671369016171, velocidad:0, orientacion:0, fecha:2015-02-17 09:00:06"
       ]
      },
      {
       "output_type": "stream",
       "stream": "stdout",
       "text": [
        "\n",
        "Cluster centered in: id:3299064615, recurso:tetra:12082781, latitud:-0.224684923887, longitud:-0.671369016171, velocidad:0, orientacion:0, fecha:2015-02-17 09:00:21"
       ]
      },
      {
       "output_type": "stream",
       "stream": "stdout",
       "text": [
        "\n",
        "Cluster centered in: id:3299064654, recurso:tetra:12082781, latitud:-0.224684923887, longitud:-0.671369016171, velocidad:0, orientacion:0, fecha:2015-02-17 09:00:32"
       ]
      },
      {
       "output_type": "stream",
       "stream": "stdout",
       "text": [
        "\n",
        "Cluster centered in: id:3299064764, recurso:tetra:12082781, latitud:-0.224684923887, longitud:-0.671369016171, velocidad:0, orientacion:0, fecha:2015-02-17 09:00:42"
       ]
      },
      {
       "output_type": "stream",
       "stream": "stdout",
       "text": [
        "\n",
        "Cluster centered in: id:3299064822, recurso:tetra:12082781, latitud:-0.224684923887, longitud:-0.671369016171, velocidad:0, orientacion:0, fecha:2015-02-17 09:00:57"
       ]
      },
      {
       "output_type": "stream",
       "stream": "stdout",
       "text": [
        "\n",
        "Cluster centered in: id:3299064863, recurso:tetra:12082781, latitud:-0.224684923887, longitud:-0.671369016171, velocidad:0, orientacion:0, fecha:2015-02-17 09:01:11"
       ]
      },
      {
       "output_type": "stream",
       "stream": "stdout",
       "text": [
        "\n",
        "Cluster centered in: id:3299064974, recurso:tetra:12082781, latitud:-0.224684923887, longitud:-0.671369016171, velocidad:0, orientacion:0, fecha:2015-02-17 09:01:22"
       ]
      },
      {
       "output_type": "stream",
       "stream": "stdout",
       "text": [
        "\n",
        "Cluster centered in: id:3299065056, recurso:tetra:12082781, latitud:-0.224685117602, longitud:-0.671369016171, velocidad:0, orientacion:0, fecha:2015-02-17 09:01:33"
       ]
      },
      {
       "output_type": "stream",
       "stream": "stdout",
       "text": [
        "\n",
        "Cluster centered in: id:3299065227, recurso:tetra:12082781, latitud:-0.224685117602, longitud:-0.671369016171, velocidad:0, orientacion:0, fecha:2015-02-17 09:01:47"
       ]
      },
      {
       "output_type": "stream",
       "stream": "stdout",
       "text": [
        "\n",
        "Cluster centered in: id:3299065295, recurso:tetra:12082781, latitud:-0.224685117602, longitud:-0.671369016171, velocidad:0, orientacion:0, fecha:2015-02-17 09:01:59"
       ]
      },
      {
       "output_type": "stream",
       "stream": "stdout",
       "text": [
        "\n",
        "Cluster centered in: id:3299065364, recurso:tetra:12082781, latitud:-0.224685117602, longitud:-0.671369016171, velocidad:0, orientacion:0, fecha:2015-02-17 09:02:09"
       ]
      },
      {
       "output_type": "stream",
       "stream": "stdout",
       "text": [
        "\n",
        "Cluster centered in: id:3299065367, recurso:tetra:12082781, latitud:-0.224686428905, longitud:-0.671368837357, velocidad:0, orientacion:0, fecha:2015-02-17 09:02:28"
       ]
      },
      {
       "output_type": "stream",
       "stream": "stdout",
       "text": [
        "\n",
        "Cluster centered in: id:3299065409, recurso:tetra:12082781, latitud:-0.224686428905, longitud:-0.671368479729, velocidad:0, orientacion:0, fecha:2015-02-17 09:02:41"
       ]
      },
      {
       "output_type": "stream",
       "stream": "stdout",
       "text": [
        "\n",
        "Cluster centered in: id:3299065566, recurso:tetra:12082781, latitud:-0.224686428905, longitud:-0.671368479729, velocidad:0, orientacion:0, fecha:2015-02-17 09:02:54"
       ]
      },
      {
       "output_type": "stream",
       "stream": "stdout",
       "text": [
        "\n",
        "Cluster centered in: id:3299065580, recurso:tetra:12082781, latitud:-0.224686428905, longitud:-0.671368479729, velocidad:0, orientacion:0, fecha:2015-02-17 09:03:04"
       ]
      },
      {
       "output_type": "stream",
       "stream": "stdout",
       "text": [
        "\n",
        "Cluster centered in: id:3299065703, recurso:tetra:12082781, latitud:-0.224686428905, longitud:-0.671368479729, velocidad:0, orientacion:0, fecha:2015-02-17 09:03:16"
       ]
      },
      {
       "output_type": "stream",
       "stream": "stdout",
       "text": [
        "\n",
        "Cluster centered in: id:3299065919, recurso:tetra:12082781, latitud:-0.22468586266, longitud:-0.671368837357, velocidad:0, orientacion:45, fecha:2015-02-17 09:03:27"
       ]
      },
      {
       "output_type": "stream",
       "stream": "stdout",
       "text": [
        "\n",
        "Cluster centered in: id:3299066052, recurso:tetra:12082781, latitud:-0.224685490131, longitud:-0.671368837357, velocidad:0, orientacion:0, fecha:2015-02-17 09:03:40"
       ]
      },
      {
       "output_type": "stream",
       "stream": "stdout",
       "text": [
        "\n",
        "Cluster centered in: id:3299066104, recurso:tetra:12082781, latitud:-0.224685490131, longitud:-0.671368837357, velocidad:0, orientacion:0, fecha:2015-02-17 09:03:54"
       ]
      },
      {
       "output_type": "stream",
       "stream": "stdout",
       "text": [
        "\n",
        "Cluster centered in: id:3299066107, recurso:tetra:12082781, latitud:-0.224685490131, longitud:-0.671368479729, velocidad:0, orientacion:0, fecha:2015-02-17 09:04:10"
       ]
      },
      {
       "output_type": "stream",
       "stream": "stdout",
       "text": [
        "\n",
        "Cluster centered in: id:3299066219, recurso:tetra:12082781, latitud:-0.224685490131, longitud:-0.671368479729, velocidad:0, orientacion:0, fecha:2015-02-17 09:04:28"
       ]
      },
      {
       "output_type": "stream",
       "stream": "stdout",
       "text": [
        "\n",
        "Cluster centered in: id:3299066374, recurso:tetra:12082781, latitud:-0.224685490131, longitud:-0.671368479729, velocidad:0, orientacion:0, fecha:2015-02-17 09:04:41"
       ]
      },
      {
       "output_type": "stream",
       "stream": "stdout",
       "text": [
        "\n",
        "Cluster centered in: id:3299066626, recurso:tetra:12082781, latitud:-0.224685490131, longitud:-0.671368479729, velocidad:0, orientacion:0, fecha:2015-02-17 09:05:03"
       ]
      },
      {
       "output_type": "stream",
       "stream": "stdout",
       "text": [
        "\n",
        "Cluster centered in: id:3299066852, recurso:tetra:12082781, latitud:-0.224685490131, longitud:-0.671368479729, velocidad:0, orientacion:0, fecha:2015-02-17 09:05:23"
       ]
      },
      {
       "output_type": "stream",
       "stream": "stdout",
       "text": [
        "\n",
        "Cluster centered in: id:3299067000, recurso:tetra:12082781, latitud:-0.224685490131, longitud:-0.67136824131, velocidad:0, orientacion:0, fecha:2015-02-17 09:05:36"
       ]
      },
      {
       "output_type": "stream",
       "stream": "stdout",
       "text": [
        "\n",
        "Cluster centered in: id:3299067147, recurso:tetra:12082781, latitud:-0.224685490131, longitud:-0.67136824131, velocidad:0, orientacion:0, fecha:2015-02-17 09:05:49"
       ]
      },
      {
       "output_type": "stream",
       "stream": "stdout",
       "text": [
        "\n",
        "Cluster centered in: id:3299067364, recurso:tetra:12082781, latitud:-0.224685490131, longitud:-0.671367883682, velocidad:0, orientacion:315, fecha:2015-02-17 09:06:07"
       ]
      },
      {
       "output_type": "stream",
       "stream": "stdout",
       "text": [
        "\n",
        "Cluster centered in: id:3299067500, recurso:tetra:12082781, latitud:-0.224685490131, longitud:-0.671367883682, velocidad:0, orientacion:0, fecha:2015-02-17 09:06:39"
       ]
      },
      {
       "output_type": "stream",
       "stream": "stdout",
       "text": [
        "\n",
        "Cluster centered in: id:3299067599, recurso:tetra:12082781, latitud:-0.22468586266, longitud:-0.671368837357, velocidad:0, orientacion:0, fecha:2015-02-17 09:07:02"
       ]
      },
      {
       "output_type": "stream",
       "stream": "stdout",
       "text": [
        "\n",
        "Cluster centered in: id:3299067675, recurso:tetra:12082781, latitud:-0.22468586266, longitud:-0.671368479729, velocidad:0, orientacion:0, fecha:2015-02-17 09:07:15"
       ]
      },
      {
       "output_type": "stream",
       "stream": "stdout",
       "text": [
        "\n",
        "Cluster centered in: id:3299067730, recurso:tetra:12082781, latitud:-0.22468586266, longitud:-0.671368479729, velocidad:0, orientacion:0, fecha:2015-02-17 09:07:32"
       ]
      },
      {
       "output_type": "stream",
       "stream": "stdout",
       "text": [
        "\n",
        "Cluster centered in: id:3299067838, recurso:tetra:12082781, latitud:-0.22468586266, longitud:-0.671368479729, velocidad:0, orientacion:0, fecha:2015-02-17 09:07:50"
       ]
      },
      {
       "output_type": "stream",
       "stream": "stdout",
       "text": [
        "\n",
        "Cluster centered in: id:3299067970, recurso:tetra:12082781, latitud:-0.224685490131, longitud:-0.671368479729, velocidad:0, orientacion:0, fecha:2015-02-17 09:08:06"
       ]
      },
      {
       "output_type": "stream",
       "stream": "stdout",
       "text": [
        "\n",
        "Cluster centered in: id:3299068103, recurso:tetra:12082781, latitud:-0.22468586266, longitud:-0.671368479729, velocidad:0, orientacion:0, fecha:2015-02-17 09:08:22"
       ]
      },
      {
       "output_type": "stream",
       "stream": "stdout",
       "text": [
        "\n",
        "Cluster centered in: id:3299068192, recurso:tetra:12082781, latitud:-0.22468586266, longitud:-0.671368479729, velocidad:0, orientacion:0, fecha:2015-02-17 09:08:38"
       ]
      },
      {
       "output_type": "stream",
       "stream": "stdout",
       "text": [
        "\n",
        "Cluster centered in: id:3299068279, recurso:tetra:12082781, latitud:-0.224684551358, longitud:-0.671367526054, velocidad:0, orientacion:0, fecha:2015-02-17 09:09:07"
       ]
      },
      {
       "output_type": "stream",
       "stream": "stdout",
       "text": [
        "\n",
        "Cluster centered in: id:3299068375, recurso:tetra:12082781, latitud:-0.224684551358, longitud:-0.671367526054, velocidad:0, orientacion:0, fecha:2015-02-17 09:09:23"
       ]
      },
      {
       "output_type": "stream",
       "stream": "stdout",
       "text": [
        "\n",
        "Cluster centered in: id:3299068409, recurso:tetra:12082781, latitud:-0.224684000015, longitud:-0.671367883682, velocidad:0, orientacion:315, fecha:2015-02-17 09:09:36"
       ]
      },
      {
       "output_type": "stream",
       "stream": "stdout",
       "text": [
        "\n",
        "Cluster centered in: id:3299068493, recurso:tetra:12082781, latitud:-0.224684000015, longitud:-0.671367883682, velocidad:0, orientacion:0, fecha:2015-02-17 09:09:50"
       ]
      },
      {
       "output_type": "stream",
       "stream": "stdout",
       "text": [
        "\n",
        "Cluster centered in: id:3299068610, recurso:tetra:12082781, latitud:-0.224684923887, longitud:-0.671367883682, velocidad:0, orientacion:135, fecha:2015-02-17 09:10:06"
       ]
      },
      {
       "output_type": "stream",
       "stream": "stdout",
       "text": [
        "\n",
        "Cluster centered in: id:3299068758, recurso:tetra:12082781, latitud:-0.224685117602, longitud:-0.671367526054, velocidad:0, orientacion:0, fecha:2015-02-17 09:10:20"
       ]
      },
      {
       "output_type": "stream",
       "stream": "stdout",
       "text": [
        "\n",
        "Cluster centered in: id:3299068875, recurso:tetra:12082781, latitud:-0.224684551358, longitud:-0.67136824131, velocidad:0, orientacion:0, fecha:2015-02-17 09:10:32"
       ]
      },
      {
       "output_type": "stream",
       "stream": "stdout",
       "text": [
        "\n",
        "Cluster centered in: id:3299068934, recurso:tetra:12082781, latitud:-0.224684000015, longitud:-0.67136824131, velocidad:0, orientacion:0, fecha:2015-02-17 09:10:46"
       ]
      },
      {
       "output_type": "stream",
       "stream": "stdout",
       "text": [
        "\n",
        "Cluster centered in: id:3299069055, recurso:tetra:12082781, latitud:-0.224684000015, longitud:-0.67136824131, velocidad:0, orientacion:0, fecha:2015-02-17 09:11:12"
       ]
      },
      {
       "output_type": "stream",
       "stream": "stdout",
       "text": [
        "\n",
        "Cluster centered in: id:3299069191, recurso:tetra:12082781, latitud:-0.224684372544, longitud:-0.671367526054, velocidad:0, orientacion:0, fecha:2015-02-17 09:11:24"
       ]
      },
      {
       "output_type": "stream",
       "stream": "stdout",
       "text": [
        "\n",
        "Cluster centered in: id:3299069403, recurso:tetra:12082781, latitud:-0.224684923887, longitud:-0.671366930008, velocidad:0, orientacion:292, fecha:2015-02-17 09:11:39"
       ]
      },
      {
       "output_type": "stream",
       "stream": "stdout",
       "text": [
        "\n",
        "Cluster centered in: id:3299069625, recurso:tetra:12082781, latitud:-0.224684923887, longitud:-0.671366930008, velocidad:0, orientacion:0, fecha:2015-02-17 09:11:56"
       ]
      },
      {
       "output_type": "stream",
       "stream": "stdout",
       "text": [
        "\n",
        "Cluster centered in: id:3299069665, recurso:tetra:12082781, latitud:-0.224686056376, longitud:-0.671367526054, velocidad:0, orientacion:0, fecha:2015-02-17 09:12:24"
       ]
      },
      {
       "output_type": "stream",
       "stream": "stdout",
       "text": [
        "\n",
        "Cluster centered in: id:3299069786, recurso:tetra:12082781, latitud:-0.224686995149, longitud:-0.67136824131, velocidad:0, orientacion:0, fecha:2015-02-17 09:12:42"
       ]
      },
      {
       "output_type": "stream",
       "stream": "stdout",
       "text": [
        "\n",
        "Cluster centered in: id:3299069833, recurso:tetra:12082781, latitud:-0.224685117602, longitud:-0.671368837357, velocidad:0, orientacion:0, fecha:2015-02-17 09:12:56"
       ]
      },
      {
       "output_type": "stream",
       "stream": "stdout",
       "text": [
        "\n",
        "Cluster centered in: id:3299069929, recurso:tetra:12082781, latitud:-0.224685117602, longitud:-0.67136824131, velocidad:0, orientacion:0, fecha:2015-02-17 09:13:15"
       ]
      },
      {
       "output_type": "stream",
       "stream": "stdout",
       "text": [
        "\n",
        "Cluster centered in: id:3299070051, recurso:tetra:12082781, latitud:-0.224684551358, longitud:-0.671367526054, velocidad:0, orientacion:0, fecha:2015-02-17 09:13:31"
       ]
      },
      {
       "output_type": "stream",
       "stream": "stdout",
       "text": [
        "\n",
        "Cluster centered in: id:3299070167, recurso:tetra:12082781, latitud:-0.224684551358, longitud:-0.671367526054, velocidad:0, orientacion:0, fecha:2015-02-17 09:13:48"
       ]
      },
      {
       "output_type": "stream",
       "stream": "stdout",
       "text": [
        "\n",
        "Cluster centered in: id:3299070270, recurso:tetra:12082781, latitud:-0.224684372544, longitud:-0.671367526054, velocidad:0, orientacion:0, fecha:2015-02-17 09:14:05"
       ]
      },
      {
       "output_type": "stream",
       "stream": "stdout",
       "text": [
        "\n",
        "Cluster centered in: id:3299070345, recurso:tetra:12082781, latitud:-0.224684372544, longitud:-0.67136734724, velocidad:0, orientacion:0, fecha:2015-02-17 09:14:18"
       ]
      },
      {
       "output_type": "stream",
       "stream": "stdout",
       "text": [
        "\n",
        "Cluster centered in: id:3299070350, recurso:tetra:12082781, latitud:-0.224684372544, longitud:-0.67136734724, velocidad:0, orientacion:0, fecha:2015-02-17 09:14:42"
       ]
      },
      {
       "output_type": "stream",
       "stream": "stdout",
       "text": [
        "\n",
        "Cluster centered in: id:3299070432, recurso:tetra:12082781, latitud:-0.224685117602, longitud:-0.671367883682, velocidad:0, orientacion:0, fecha:2015-02-17 09:14:56"
       ]
      },
      {
       "output_type": "stream",
       "stream": "stdout",
       "text": [
        "\n",
        "Cluster centered in: id:3299070529, recurso:tetra:12082781, latitud:-0.224686607718, longitud:-0.67136824131, velocidad:0, orientacion:0, fecha:2015-02-17 09:15:13"
       ]
      },
      {
       "output_type": "stream",
       "stream": "stdout",
       "text": [
        "\n",
        "Cluster centered in: id:3299070558, recurso:tetra:12082781, latitud:-0.224686607718, longitud:-0.67136824131, velocidad:0, orientacion:0, fecha:2015-02-17 09:15:26"
       ]
      },
      {
       "output_type": "stream",
       "stream": "stdout",
       "text": [
        "\n",
        "Cluster centered in: id:3299070678, recurso:tetra:12082781, latitud:-0.224686056376, longitud:-0.671368479729, velocidad:0, orientacion:0, fecha:2015-02-17 09:15:41"
       ]
      },
      {
       "output_type": "stream",
       "stream": "stdout",
       "text": [
        "\n",
        "Cluster centered in: id:3299070807, recurso:tetra:12082781, latitud:-0.22468586266, longitud:-0.671368479729, velocidad:0, orientacion:0, fecha:2015-02-17 09:15:56"
       ]
      },
      {
       "output_type": "stream",
       "stream": "stdout",
       "text": [
        "\n",
        "Cluster centered in: id:3299070938, recurso:tetra:12082781, latitud:-0.22468586266, longitud:-0.671368479729, velocidad:0, orientacion:0, fecha:2015-02-17 09:16:08"
       ]
      },
      {
       "output_type": "stream",
       "stream": "stdout",
       "text": [
        "\n",
        "Cluster centered in: id:3299071061, recurso:tetra:12082781, latitud:-0.22468586266, longitud:-0.671368479729, velocidad:0, orientacion:225, fecha:2015-02-17 09:16:23"
       ]
      },
      {
       "output_type": "stream",
       "stream": "stdout",
       "text": [
        "\n",
        "Cluster centered in: id:3299071079, recurso:tetra:12082781, latitud:-0.22468586266, longitud:-0.671368837357, velocidad:0, orientacion:0, fecha:2015-02-17 09:16:49"
       ]
      },
      {
       "output_type": "stream",
       "stream": "stdout",
       "text": [
        "\n",
        "Cluster centered in: id:3299071125, recurso:tetra:12082781, latitud:-0.224685490131, longitud:-0.671368479729, velocidad:0, orientacion:0, fecha:2015-02-17 09:17:15"
       ]
      },
      {
       "output_type": "stream",
       "stream": "stdout",
       "text": [
        "\n",
        "Cluster centered in: id:3299071255, recurso:tetra:12082781, latitud:-0.224685117602, longitud:-0.671368837357, velocidad:0, orientacion:0, fecha:2015-02-17 09:17:33"
       ]
      },
      {
       "output_type": "stream",
       "stream": "stdout",
       "text": [
        "\n",
        "Cluster centered in: id:3299071268, recurso:tetra:12082781, latitud:-0.224685117602, longitud:-0.671368837357, velocidad:0, orientacion:0, fecha:2015-02-17 09:17:48"
       ]
      },
      {
       "output_type": "stream",
       "stream": "stdout",
       "text": [
        "\n",
        "Cluster centered in: id:3299071403, recurso:tetra:12082781, latitud:-0.224685490131, longitud:-0.671368837357, velocidad:0, orientacion:0, fecha:2015-02-17 09:18:07"
       ]
      },
      {
       "output_type": "stream",
       "stream": "stdout",
       "text": [
        "\n",
        "Cluster centered in: id:3299071513, recurso:tetra:12082781, latitud:-0.224685490131, longitud:-0.671369016171, velocidad:0, orientacion:0, fecha:2015-02-17 09:18:29"
       ]
      },
      {
       "output_type": "stream",
       "stream": "stdout",
       "text": [
        "\n",
        "Cluster centered in: id:3299071606, recurso:tetra:12082781, latitud:-0.22468586266, longitud:-0.671369016171, velocidad:0, orientacion:0, fecha:2015-02-17 09:18:46"
       ]
      },
      {
       "output_type": "stream",
       "stream": "stdout",
       "text": [
        "\n",
        "Cluster centered in: id:3299071723, recurso:tetra:12082781, latitud:-0.224684000015, longitud:-0.671368837357, velocidad:0, orientacion:0, fecha:2015-02-17 09:19:02"
       ]
      },
      {
       "output_type": "stream",
       "stream": "stdout",
       "text": [
        "\n",
        "Cluster centered in: id:3299071790, recurso:tetra:12082781, latitud:-0.224684551358, longitud:-0.671368837357, velocidad:0, orientacion:0, fecha:2015-02-17 09:19:21"
       ]
      },
      {
       "output_type": "stream",
       "stream": "stdout",
       "text": [
        "\n",
        "Cluster centered in: id:3299071799, recurso:tetra:12082781, latitud:-0.224684923887, longitud:-0.671368479729, velocidad:0, orientacion:0, fecha:2015-02-17 09:19:45"
       ]
      },
      {
       "output_type": "stream",
       "stream": "stdout",
       "text": [
        "\n",
        "Cluster centered in: id:3299071967, recurso:tetra:12082781, latitud:-0.224684923887, longitud:-0.671368479729, velocidad:0, orientacion:0, fecha:2015-02-17 09:20:00"
       ]
      },
      {
       "output_type": "stream",
       "stream": "stdout",
       "text": [
        "\n",
        "Cluster centered in: id:3299072077, recurso:tetra:12082781, latitud:-0.224684923887, longitud:-0.671368479729, velocidad:0, orientacion:0, fecha:2015-02-17 09:20:13"
       ]
      },
      {
       "output_type": "stream",
       "stream": "stdout",
       "text": [
        "\n",
        "Cluster centered in: id:3299072312, recurso:tetra:12082781, latitud:-0.224684923887, longitud:-0.671368479729, velocidad:0, orientacion:0, fecha:2015-02-17 09:20:30"
       ]
      },
      {
       "output_type": "stream",
       "stream": "stdout",
       "text": [
        "\n",
        "Cluster centered in: id:3299072469, recurso:tetra:12082781, latitud:-0.224685117602, longitud:-0.671368479729, velocidad:0, orientacion:0, fecha:2015-02-17 09:20:46"
       ]
      },
      {
       "output_type": "stream",
       "stream": "stdout",
       "text": [
        "\n",
        "Cluster centered in: id:3299072531, recurso:tetra:12082781, latitud:-0.224685490131, longitud:-0.671368479729, velocidad:0, orientacion:0, fecha:2015-02-17 09:20:59"
       ]
      },
      {
       "output_type": "stream",
       "stream": "stdout",
       "text": [
        "\n",
        "Cluster centered in: id:3299072651, recurso:tetra:12082781, latitud:-0.224686056376, longitud:-0.671368837357, velocidad:0, orientacion:157, fecha:2015-02-17 09:21:11"
       ]
      },
      {
       "output_type": "stream",
       "stream": "stdout",
       "text": [
        "\n",
        "Cluster centered in: id:3299072685, recurso:tetra:12082781, latitud:-0.22468586266, longitud:-0.671368837357, velocidad:0, orientacion:0, fecha:2015-02-17 09:21:29"
       ]
      },
      {
       "output_type": "stream",
       "stream": "stdout",
       "text": [
        "\n",
        "Cluster centered in: id:3299072776, recurso:tetra:12082781, latitud:-0.22468586266, longitud:-0.671368837357, velocidad:0, orientacion:0, fecha:2015-02-17 09:21:42"
       ]
      },
      {
       "output_type": "stream",
       "stream": "stdout",
       "text": [
        "\n",
        "Cluster centered in: id:3299072893, recurso:tetra:12082781, latitud:-0.22468586266, longitud:-0.671369016171, velocidad:0, orientacion:0, fecha:2015-02-17 09:21:57"
       ]
      },
      {
       "output_type": "stream",
       "stream": "stdout",
       "text": [
        "\n",
        "Cluster centered in: id:3299073110, recurso:tetra:12082781, latitud:-0.224685490131, longitud:-0.671369016171, velocidad:0, orientacion:0, fecha:2015-02-17 09:22:12"
       ]
      },
      {
       "output_type": "stream",
       "stream": "stdout",
       "text": [
        "\n",
        "Cluster centered in: id:3299073238, recurso:tetra:12082781, latitud:-0.224685490131, longitud:-0.671369373798, velocidad:0, orientacion:0, fecha:2015-02-17 09:22:45"
       ]
      },
      {
       "output_type": "stream",
       "stream": "stdout",
       "text": [
        "\n",
        "Cluster centered in: id:3299073310, recurso:tetra:12082781, latitud:-0.224685490131, longitud:-0.671369373798, velocidad:0, orientacion:0, fecha:2015-02-17 09:23:02"
       ]
      },
      {
       "output_type": "stream",
       "stream": "stdout",
       "text": [
        "\n",
        "Cluster centered in: id:3299073423, recurso:tetra:12082781, latitud:-0.224685117602, longitud:-0.671369373798, velocidad:0, orientacion:0, fecha:2015-02-17 09:23:19"
       ]
      },
      {
       "output_type": "stream",
       "stream": "stdout",
       "text": [
        "\n",
        "Cluster centered in: id:3299073561, recurso:tetra:12082781, latitud:-0.224685117602, longitud:-0.671369373798, velocidad:0, orientacion:0, fecha:2015-02-17 09:23:36"
       ]
      },
      {
       "output_type": "stream",
       "stream": "stdout",
       "text": [
        "\n",
        "Cluster centered in: id:3299073660, recurso:tetra:12082781, latitud:-0.224684923887, longitud:-0.671369373798, velocidad:0, orientacion:0, fecha:2015-02-17 09:23:52"
       ]
      },
      {
       "output_type": "stream",
       "stream": "stdout",
       "text": [
        "\n",
        "Cluster centered in: id:3299073815, recurso:tetra:12082781, latitud:-0.224686428905, longitud:-0.671369016171, velocidad:0, orientacion:0, fecha:2015-02-17 09:24:21"
       ]
      },
      {
       "output_type": "stream",
       "stream": "stdout",
       "text": [
        "\n",
        "Cluster centered in: id:3299073886, recurso:tetra:12082781, latitud:-0.224686056376, longitud:-0.671369016171, velocidad:0, orientacion:0, fecha:2015-02-17 09:24:37"
       ]
      },
      {
       "output_type": "stream",
       "stream": "stdout",
       "text": [
        "\n",
        "Cluster centered in: id:3299073896, recurso:tetra:12082781, latitud:-0.22468586266, longitud:-0.671369016171, velocidad:0, orientacion:0, fecha:2015-02-17 09:25:13"
       ]
      },
      {
       "output_type": "stream",
       "stream": "stdout",
       "text": [
        "\n",
        "Cluster centered in: id:3299073910, recurso:tetra:12082781, latitud:-0.224685490131, longitud:-0.671369016171, velocidad:0, orientacion:0, fecha:2015-02-17 09:25:37"
       ]
      },
      {
       "output_type": "stream",
       "stream": "stdout",
       "text": [
        "\n",
        "Cluster centered in: id:3299074072, recurso:tetra:12082781, latitud:-0.224685490131, longitud:-0.671369016171, velocidad:0, orientacion:0, fecha:2015-02-17 09:25:50"
       ]
      },
      {
       "output_type": "stream",
       "stream": "stdout",
       "text": [
        "\n",
        "Cluster centered in: id:3299074125, recurso:tetra:12082781, latitud:-0.224685490131, longitud:-0.671369016171, velocidad:0, orientacion:0, fecha:2015-02-17 09:26:05"
       ]
      },
      {
       "output_type": "stream",
       "stream": "stdout",
       "text": [
        "\n",
        "Cluster centered in: id:3299074229, recurso:tetra:12082781, latitud:-0.224685490131, longitud:-0.671368837357, velocidad:0, orientacion:0, fecha:2015-02-17 09:26:17"
       ]
      },
      {
       "output_type": "stream",
       "stream": "stdout",
       "text": [
        "\n",
        "Cluster centered in: id:3299074398, recurso:tetra:12082781, latitud:-0.224685490131, longitud:-0.671368837357, velocidad:0, orientacion:0, fecha:2015-02-17 09:26:32"
       ]
      },
      {
       "output_type": "stream",
       "stream": "stdout",
       "text": [
        "\n",
        "Cluster centered in: id:3299074506, recurso:tetra:12082781, latitud:-0.224685117602, longitud:-0.671368479729, velocidad:0, orientacion:0, fecha:2015-02-17 09:26:46"
       ]
      },
      {
       "output_type": "stream",
       "stream": "stdout",
       "text": [
        "\n",
        "Cluster centered in: id:3299074609, recurso:tetra:12082781, latitud:-0.224685490131, longitud:-0.671368479729, velocidad:0, orientacion:0, fecha:2015-02-17 09:27:07"
       ]
      },
      {
       "output_type": "stream",
       "stream": "stdout",
       "text": [
        "\n",
        "Cluster centered in: id:3299074739, recurso:tetra:12082781, latitud:-0.22468586266, longitud:-0.67136824131, velocidad:0, orientacion:0, fecha:2015-02-17 09:27:27"
       ]
      },
      {
       "output_type": "stream",
       "stream": "stdout",
       "text": [
        "\n",
        "Cluster centered in: id:3299074778, recurso:tetra:12082781, latitud:-0.224686056376, longitud:-0.67136824131, velocidad:0, orientacion:0, fecha:2015-02-17 09:27:39"
       ]
      },
      {
       "output_type": "stream",
       "stream": "stdout",
       "text": [
        "\n",
        "Cluster centered in: id:3299074862, recurso:tetra:12082781, latitud:-0.224686428905, longitud:-0.67136824131, velocidad:0, orientacion:0, fecha:2015-02-17 09:27:56"
       ]
      },
      {
       "output_type": "stream",
       "stream": "stdout",
       "text": [
        "\n",
        "Cluster centered in: id:3299074986, recurso:tetra:12082781, latitud:-0.224686428905, longitud:-0.67136824131, velocidad:0, orientacion:0, fecha:2015-02-17 09:28:13"
       ]
      },
      {
       "output_type": "stream",
       "stream": "stdout",
       "text": [
        "\n",
        "Cluster centered in: id:3299075132, recurso:tetra:12082781, latitud:-0.224686428905, longitud:-0.671368479729, velocidad:0, orientacion:0, fecha:2015-02-17 09:28:32"
       ]
      },
      {
       "output_type": "stream",
       "stream": "stdout",
       "text": [
        "\n",
        "Cluster centered in: id:3299075282, recurso:tetra:12082781, latitud:-0.224687546492, longitud:-0.671368479729, velocidad:0, orientacion:0, fecha:2015-02-17 09:28:50"
       ]
      },
      {
       "output_type": "stream",
       "stream": "stdout",
       "text": [
        "\n",
        "Cluster centered in: id:3299075288, recurso:tetra:12082781, latitud:-0.224685490131, longitud:-0.671369373798, velocidad:1, orientacion:0, fecha:2015-02-17 09:29:13"
       ]
      },
      {
       "output_type": "stream",
       "stream": "stdout",
       "text": [
        "\n",
        "Cluster centered in: id:3299075386, recurso:tetra:12082781, latitud:-0.22468586266, longitud:-0.671369016171, velocidad:0, orientacion:67, fecha:2015-02-17 09:29:41"
       ]
      },
      {
       "output_type": "stream",
       "stream": "stdout",
       "text": [
        "\n",
        "Cluster centered in: id:3299075455, recurso:tetra:12082781, latitud:-0.224685490131, longitud:-0.671369016171, velocidad:0, orientacion:0, fecha:2015-02-17 09:29:55"
       ]
      },
      {
       "output_type": "stream",
       "stream": "stdout",
       "text": [
        "\n",
        "Cluster centered in: id:3299075550, recurso:tetra:12082781, latitud:-0.224685490131, longitud:-0.671369373798, velocidad:0, orientacion:0, fecha:2015-02-17 09:30:08"
       ]
      },
      {
       "output_type": "stream",
       "stream": "stdout",
       "text": [
        "\n",
        "Cluster centered in: id:3299075678, recurso:tetra:12082781, latitud:-0.224685490131, longitud:-0.671369373798, velocidad:0, orientacion:0, fecha:2015-02-17 09:30:25"
       ]
      },
      {
       "output_type": "stream",
       "stream": "stdout",
       "text": [
        "\n",
        "Cluster centered in: id:3299075792, recurso:tetra:12082781, latitud:-0.224686995149, longitud:-0.671369552612, velocidad:0, orientacion:0, fecha:2015-02-17 09:30:38"
       ]
      },
      {
       "output_type": "stream",
       "stream": "stdout",
       "text": [
        "\n",
        "Cluster centered in: id:3299075910, recurso:tetra:12082781, latitud:-0.224686428905, longitud:-0.671370506287, velocidad:0, orientacion:0, fecha:2015-02-17 09:30:51"
       ]
      },
      {
       "output_type": "stream",
       "stream": "stdout",
       "text": [
        "\n",
        "Cluster centered in: id:3299075998, recurso:tetra:12082781, latitud:-0.22468586266, longitud:-0.671371459961, velocidad:0, orientacion:0, fecha:2015-02-17 09:31:10"
       ]
      },
      {
       "output_type": "stream",
       "stream": "stdout",
       "text": [
        "\n",
        "Cluster centered in: id:3299076027, recurso:tetra:12082781, latitud:-0.22468586266, longitud:-0.671369969845, velocidad:0, orientacion:0, fecha:2015-02-17 09:31:25"
       ]
      },
      {
       "output_type": "stream",
       "stream": "stdout",
       "text": [
        "\n",
        "Cluster centered in: id:3299076179, recurso:tetra:12082781, latitud:-0.22468586266, longitud:-0.671369552612, velocidad:0, orientacion:0, fecha:2015-02-17 09:31:35"
       ]
      },
      {
       "output_type": "stream",
       "stream": "stdout",
       "text": [
        "\n",
        "Cluster centered in: id:3299076229, recurso:tetra:12082781, latitud:-0.22468586266, longitud:-0.671369373798, velocidad:0, orientacion:270, fecha:2015-02-17 09:31:49"
       ]
      },
      {
       "output_type": "stream",
       "stream": "stdout",
       "text": [
        "\n",
        "Cluster centered in: id:3299076350, recurso:tetra:12082781, latitud:-0.224685117602, longitud:-0.671369016171, velocidad:0, orientacion:0, fecha:2015-02-17 09:32:03"
       ]
      },
      {
       "output_type": "stream",
       "stream": "stdout",
       "text": [
        "\n",
        "Cluster centered in: id:3299076590, recurso:tetra:12082781, latitud:-0.224685117602, longitud:-0.671368837357, velocidad:0, orientacion:0, fecha:2015-02-17 09:32:22"
       ]
      },
      {
       "output_type": "stream",
       "stream": "stdout",
       "text": [
        "\n",
        "Cluster centered in: id:3299076671, recurso:tetra:12082781, latitud:-0.224684551358, longitud:-0.671368479729, velocidad:0, orientacion:0, fecha:2015-02-17 09:32:44"
       ]
      },
      {
       "output_type": "stream",
       "stream": "stdout",
       "text": [
        "\n",
        "Cluster centered in: id:3299076798, recurso:tetra:12082781, latitud:-0.224685117602, longitud:-0.671368479729, velocidad:0, orientacion:0, fecha:2015-02-17 09:32:58"
       ]
      },
      {
       "output_type": "stream",
       "stream": "stdout",
       "text": [
        "\n",
        "Cluster centered in: id:3299076867, recurso:tetra:12082781, latitud:-0.224685490131, longitud:-0.671367883682, velocidad:0, orientacion:0, fecha:2015-02-17 09:33:11"
       ]
      },
      {
       "output_type": "stream",
       "stream": "stdout",
       "text": [
        "\n",
        "Cluster centered in: id:3299076888, recurso:tetra:12082781, latitud:-0.22468586266, longitud:-0.67136824131, velocidad:0, orientacion:0, fecha:2015-02-17 09:33:27"
       ]
      },
      {
       "output_type": "stream",
       "stream": "stdout",
       "text": [
        "\n",
        "Cluster centered in: id:3299077016, recurso:tetra:12082781, latitud:-0.22468586266, longitud:-0.671367526054, velocidad:0, orientacion:0, fecha:2015-02-17 09:33:44"
       ]
      },
      {
       "output_type": "stream",
       "stream": "stdout",
       "text": [
        "\n",
        "Cluster centered in: id:3299077171, recurso:tetra:12082781, latitud:-0.22468586266, longitud:-0.671367526054, velocidad:0, orientacion:0, fecha:2015-02-17 09:33:58"
       ]
      },
      {
       "output_type": "stream",
       "stream": "stdout",
       "text": [
        "\n",
        "Cluster centered in: id:3299077315, recurso:tetra:12082781, latitud:-0.22468586266, longitud:-0.671367526054, velocidad:0, orientacion:0, fecha:2015-02-17 09:34:18"
       ]
      },
      {
       "output_type": "stream",
       "stream": "stdout",
       "text": [
        "\n",
        "Cluster centered in: id:3299077430, recurso:tetra:12082781, latitud:-0.22468586266, longitud:-0.671367526054, velocidad:0, orientacion:0, fecha:2015-02-17 09:34:50"
       ]
      },
      {
       "output_type": "stream",
       "stream": "stdout",
       "text": [
        "\n",
        "Cluster centered in: id:3299077547, recurso:tetra:12082781, latitud:-0.22468586266, longitud:-0.671367526054, velocidad:0, orientacion:0, fecha:2015-02-17 09:35:06"
       ]
      },
      {
       "output_type": "stream",
       "stream": "stdout",
       "text": [
        "\n",
        "Cluster centered in: id:3299077668, recurso:tetra:12082781, latitud:-0.224685117602, longitud:-0.671367526054, velocidad:0, orientacion:0, fecha:2015-02-17 09:35:21"
       ]
      },
      {
       "output_type": "stream",
       "stream": "stdout",
       "text": [
        "\n",
        "Cluster centered in: id:3299077768, recurso:tetra:12082781, latitud:-0.224685117602, longitud:-0.671367526054, velocidad:0, orientacion:0, fecha:2015-02-17 09:35:40"
       ]
      },
      {
       "output_type": "stream",
       "stream": "stdout",
       "text": [
        "\n",
        "Cluster centered in: id:3299077867, recurso:tetra:12082781, latitud:-0.224685117602, longitud:-0.671367526054, velocidad:0, orientacion:0, fecha:2015-02-17 09:35:54"
       ]
      },
      {
       "output_type": "stream",
       "stream": "stdout",
       "text": [
        "\n",
        "Cluster centered in: id:3299078003, recurso:tetra:12082781, latitud:-0.224684551358, longitud:-0.671367883682, velocidad:0, orientacion:0, fecha:2015-02-17 09:36:08"
       ]
      },
      {
       "output_type": "stream",
       "stream": "stdout",
       "text": [
        "\n",
        "Cluster centered in: id:3299078086, recurso:tetra:12082781, latitud:-0.224684000015, longitud:-0.67136824131, velocidad:0, orientacion:0, fecha:2015-02-17 09:36:25"
       ]
      },
      {
       "output_type": "stream",
       "stream": "stdout",
       "text": [
        "\n",
        "Cluster centered in: id:3299078089, recurso:tetra:12082781, latitud:-0.224684000015, longitud:-0.67136824131, velocidad:0, orientacion:180, fecha:2015-02-17 09:36:56"
       ]
      },
      {
       "output_type": "stream",
       "stream": "stdout",
       "text": [
        "\n",
        "Cluster centered in: id:3299078135, recurso:tetra:12082781, latitud:-0.224684923887, longitud:-0.671368479729, velocidad:0, orientacion:0, fecha:2015-02-17 09:37:08"
       ]
      },
      {
       "output_type": "stream",
       "stream": "stdout",
       "text": [
        "\n",
        "Cluster centered in: id:3299078268, recurso:tetra:12082781, latitud:-0.224685490131, longitud:-0.67136824131, velocidad:0, orientacion:0, fecha:2015-02-17 09:37:36"
       ]
      },
      {
       "output_type": "stream",
       "stream": "stdout",
       "text": [
        "\n",
        "Cluster centered in: id:3299078334, recurso:tetra:12082781, latitud:-0.224685490131, longitud:-0.67136824131, velocidad:0, orientacion:0, fecha:2015-02-17 09:37:50"
       ]
      },
      {
       "output_type": "stream",
       "stream": "stdout",
       "text": [
        "\n",
        "Cluster centered in: id:3299078463, recurso:tetra:12082781, latitud:-0.224685490131, longitud:-0.67136824131, velocidad:0, orientacion:0, fecha:2015-02-17 09:38:03"
       ]
      },
      {
       "output_type": "stream",
       "stream": "stdout",
       "text": [
        "\n",
        "Cluster centered in: id:3299078619, recurso:tetra:12082781, latitud:-0.224685117602, longitud:-0.67136824131, velocidad:0, orientacion:0, fecha:2015-02-17 09:38:16"
       ]
      },
      {
       "output_type": "stream",
       "stream": "stdout",
       "text": [
        "\n",
        "Cluster centered in: id:3299078735, recurso:tetra:12082781, latitud:-0.224684551358, longitud:-0.671368479729, velocidad:0, orientacion:0, fecha:2015-02-17 09:38:36"
       ]
      },
      {
       "output_type": "stream",
       "stream": "stdout",
       "text": [
        "\n",
        "Cluster centered in: id:3299078776, recurso:tetra:12082781, latitud:-0.224684000015, longitud:-0.671368479729, velocidad:0, orientacion:0, fecha:2015-02-17 09:38:56"
       ]
      },
      {
       "output_type": "stream",
       "stream": "stdout",
       "text": [
        "\n",
        "Cluster centered in: id:3299078934, recurso:tetra:12082781, latitud:-0.224684551358, longitud:-0.671368837357, velocidad:0, orientacion:0, fecha:2015-02-17 09:39:13"
       ]
      },
      {
       "output_type": "stream",
       "stream": "stdout",
       "text": [
        "\n",
        "Cluster centered in: id:3299078961, recurso:tetra:12082781, latitud:-0.224684923887, longitud:-0.671368837357, velocidad:0, orientacion:0, fecha:2015-02-17 09:39:28"
       ]
      },
      {
       "output_type": "stream",
       "stream": "stdout",
       "text": [
        "\n",
        "Cluster centered in: id:3299079093, recurso:tetra:12082781, latitud:-0.224685117602, longitud:-0.67136824131, velocidad:0, orientacion:0, fecha:2015-02-17 09:39:46"
       ]
      },
      {
       "output_type": "stream",
       "stream": "stdout",
       "text": [
        "\n",
        "Cluster centered in: id:3299079222, recurso:tetra:12082781, latitud:-0.224685117602, longitud:-0.671367883682, velocidad:0, orientacion:0, fecha:2015-02-17 09:40:01"
       ]
      },
      {
       "output_type": "stream",
       "stream": "stdout",
       "text": [
        "\n",
        "Cluster centered in: id:3299079374, recurso:tetra:12082781, latitud:-0.224685117602, longitud:-0.67136824131, velocidad:0, orientacion:0, fecha:2015-02-17 09:40:16"
       ]
      },
      {
       "output_type": "stream",
       "stream": "stdout",
       "text": [
        "\n",
        "Cluster centered in: id:3299079450, recurso:tetra:12082781, latitud:-0.224686428905, longitud:-0.671369552612, velocidad:0, orientacion:0, fecha:2015-02-17 09:40:28"
       ]
      },
      {
       "output_type": "stream",
       "stream": "stdout",
       "text": [
        "\n",
        "Cluster centered in: id:3299079458, recurso:tetra:12082781, latitud:-0.224686428905, longitud:-0.671369552612, velocidad:0, orientacion:0, fecha:2015-02-17 09:40:48"
       ]
      },
      {
       "output_type": "stream",
       "stream": "stdout",
       "text": [
        "\n",
        "Cluster centered in: id:3299079506, recurso:tetra:12082781, latitud:-0.224686056376, longitud:-0.671369552612, velocidad:0, orientacion:0, fecha:2015-02-17 09:41:09"
       ]
      },
      {
       "output_type": "stream",
       "stream": "stdout",
       "text": [
        "\n",
        "Cluster centered in: id:3299079659, recurso:tetra:12082781, latitud:-0.224685117602, longitud:-0.671369552612, velocidad:0, orientacion:0, fecha:2015-02-17 09:41:23"
       ]
      },
      {
       "output_type": "stream",
       "stream": "stdout",
       "text": [
        "\n",
        "Cluster centered in: id:3299079743, recurso:tetra:12082781, latitud:-0.224685117602, longitud:-0.671369552612, velocidad:0, orientacion:0, fecha:2015-02-17 09:41:37"
       ]
      },
      {
       "output_type": "stream",
       "stream": "stdout",
       "text": [
        "\n",
        "Cluster centered in: id:3299079831, recurso:tetra:12082781, latitud:-0.224684923887, longitud:-0.671369552612, velocidad:0, orientacion:0, fecha:2015-02-17 09:41:52"
       ]
      },
      {
       "output_type": "stream",
       "stream": "stdout",
       "text": [
        "\n",
        "Cluster centered in: id:3299079907, recurso:tetra:12082781, latitud:-0.224684923887, longitud:-0.671369552612, velocidad:0, orientacion:0, fecha:2015-02-17 09:42:07"
       ]
      },
      {
       "output_type": "stream",
       "stream": "stdout",
       "text": [
        "\n",
        "Cluster centered in: id:3299080078, recurso:tetra:12082781, latitud:-0.224684923887, longitud:-0.671369373798, velocidad:0, orientacion:0, fecha:2015-02-17 09:42:21"
       ]
      },
      {
       "output_type": "stream",
       "stream": "stdout",
       "text": [
        "\n",
        "Cluster centered in: id:3299080149, recurso:tetra:12082781, latitud:-0.224685117602, longitud:-0.671369373798, velocidad:0, orientacion:0, fecha:2015-02-17 09:42:41"
       ]
      },
      {
       "output_type": "stream",
       "stream": "stdout",
       "text": [
        "\n",
        "Cluster centered in: id:3299080207, recurso:tetra:12082781, latitud:-0.224685117602, longitud:-0.671369373798, velocidad:0, orientacion:0, fecha:2015-02-17 09:43:09"
       ]
      },
      {
       "output_type": "stream",
       "stream": "stdout",
       "text": [
        "\n",
        "Cluster centered in: id:3299080325, recurso:tetra:12082781, latitud:-0.224685117602, longitud:-0.671368837357, velocidad:0, orientacion:0, fecha:2015-02-17 09:43:28"
       ]
      },
      {
       "output_type": "stream",
       "stream": "stdout",
       "text": [
        "\n",
        "Cluster centered in: id:3299080393, recurso:tetra:12082781, latitud:-0.224685117602, longitud:-0.671368837357, velocidad:0, orientacion:0, fecha:2015-02-17 09:43:46"
       ]
      },
      {
       "output_type": "stream",
       "stream": "stdout",
       "text": [
        "\n",
        "Cluster centered in: id:3299080554, recurso:tetra:12082781, latitud:-0.224685117602, longitud:-0.671368837357, velocidad:0, orientacion:0, fecha:2015-02-17 09:44:01"
       ]
      },
      {
       "output_type": "stream",
       "stream": "stdout",
       "text": [
        "\n",
        "Cluster centered in: id:3299080713, recurso:tetra:12082781, latitud:-0.224685117602, longitud:-0.671368837357, velocidad:0, orientacion:0, fecha:2015-02-17 09:44:25"
       ]
      },
      {
       "output_type": "stream",
       "stream": "stdout",
       "text": [
        "\n",
        "Cluster centered in: id:3299080811, recurso:tetra:12082781, latitud:-0.224685117602, longitud:-0.671369016171, velocidad:0, orientacion:0, fecha:2015-02-17 09:44:41"
       ]
      },
      {
       "output_type": "stream",
       "stream": "stdout",
       "text": [
        "\n",
        "Cluster centered in: id:3299080929, recurso:tetra:12082781, latitud:-0.224685117602, longitud:-0.671369373798, velocidad:0, orientacion:0, fecha:2015-02-17 09:45:07"
       ]
      },
      {
       "output_type": "stream",
       "stream": "stdout",
       "text": [
        "\n",
        "Cluster centered in: id:3299080987, recurso:tetra:12082781, latitud:-0.224685490131, longitud:-0.671369373798, velocidad:0, orientacion:0, fecha:2015-02-17 09:45:22"
       ]
      },
      {
       "output_type": "stream",
       "stream": "stdout",
       "text": [
        "\n",
        "Cluster centered in: id:3299081020, recurso:tetra:12082781, latitud:-0.224686428905, longitud:-0.671369016171, velocidad:0, orientacion:0, fecha:2015-02-17 09:45:38"
       ]
      },
      {
       "output_type": "stream",
       "stream": "stdout",
       "text": [
        "\n",
        "Cluster centered in: id:3299081132, recurso:tetra:12082781, latitud:-0.224686428905, longitud:-0.671369373798, velocidad:0, orientacion:0, fecha:2015-02-17 09:45:52"
       ]
      },
      {
       "output_type": "stream",
       "stream": "stdout",
       "text": [
        "\n",
        "Cluster centered in: id:3299081218, recurso:tetra:12082781, latitud:-0.224686428905, longitud:-0.671369552612, velocidad:0, orientacion:0, fecha:2015-02-17 09:46:04"
       ]
      },
      {
       "output_type": "stream",
       "stream": "stdout",
       "text": [
        "\n",
        "Cluster centered in: id:3299081508, recurso:tetra:12082781, latitud:-0.224686428905, longitud:-0.671369552612, velocidad:0, orientacion:0, fecha:2015-02-17 09:46:25"
       ]
      },
      {
       "output_type": "stream",
       "stream": "stdout",
       "text": [
        "\n",
        "Cluster centered in: id:3299081614, recurso:tetra:12082781, latitud:-0.224686428905, longitud:-0.671369552612, velocidad:0, orientacion:0, fecha:2015-02-17 09:46:39"
       ]
      },
      {
       "output_type": "stream",
       "stream": "stdout",
       "text": [
        "\n",
        "Cluster centered in: id:3299081703, recurso:tetra:12082781, latitud:-0.224686428905, longitud:-0.671369552612, velocidad:0, orientacion:0, fecha:2015-02-17 09:46:51"
       ]
      },
      {
       "output_type": "stream",
       "stream": "stdout",
       "text": [
        "\n",
        "Cluster centered in: id:3299081837, recurso:tetra:12082781, latitud:-0.224686428905, longitud:-0.671369552612, velocidad:0, orientacion:0, fecha:2015-02-17 09:47:05"
       ]
      },
      {
       "output_type": "stream",
       "stream": "stdout",
       "text": [
        "\n",
        "Cluster centered in: id:3299081919, recurso:tetra:12082781, latitud:-0.224687173963, longitud:-0.671369552612, velocidad:0, orientacion:0, fecha:2015-02-17 09:47:21"
       ]
      },
      {
       "output_type": "stream",
       "stream": "stdout",
       "text": [
        "\n",
        "Cluster centered in: id:3299082005, recurso:tetra:12082781, latitud:-0.224686995149, longitud:-0.671369969845, velocidad:0, orientacion:0, fecha:2015-02-17 09:47:38"
       ]
      },
      {
       "output_type": "stream",
       "stream": "stdout",
       "text": [
        "\n",
        "Cluster centered in: id:3299082116, recurso:tetra:12082781, latitud:-0.224685490131, longitud:-0.671371459961, velocidad:0, orientacion:0, fecha:2015-02-17 09:47:55"
       ]
      },
      {
       "output_type": "stream",
       "stream": "stdout",
       "text": [
        "\n",
        "Cluster centered in: id:3299082187, recurso:tetra:12082781, latitud:-0.224685117602, longitud:-0.671370148659, velocidad:1, orientacion:292, fecha:2015-02-17 09:48:11"
       ]
      },
      {
       "output_type": "stream",
       "stream": "stdout",
       "text": [
        "\n",
        "Cluster centered in: id:3299082197, recurso:tetra:12082781, latitud:-0.224685117602, longitud:-0.671370506287, velocidad:0, orientacion:0, fecha:2015-02-17 09:48:34"
       ]
      },
      {
       "output_type": "stream",
       "stream": "stdout",
       "text": [
        "\n",
        "Cluster centered in: id:3299082203, recurso:tetra:12082781, latitud:-0.224685490131, longitud:-0.671370506287, velocidad:0, orientacion:0, fecha:2015-02-17 09:48:56"
       ]
      },
      {
       "output_type": "stream",
       "stream": "stdout",
       "text": [
        "\n",
        "Cluster centered in: id:3299082312, recurso:tetra:12082781, latitud:-0.224685490131, longitud:-0.671370506287, velocidad:0, orientacion:0, fecha:2015-02-17 09:49:14"
       ]
      },
      {
       "output_type": "stream",
       "stream": "stdout",
       "text": [
        "\n",
        "Cluster centered in: id:3299082383, recurso:tetra:12082781, latitud:-0.224685490131, longitud:-0.671369969845, velocidad:1, orientacion:135, fecha:2015-02-17 09:49:29"
       ]
      },
      {
       "output_type": "stream",
       "stream": "stdout",
       "text": [
        "\n",
        "Cluster centered in: id:3299082486, recurso:tetra:12082781, latitud:-0.224684551358, longitud:-0.671371638775, velocidad:0, orientacion:90, fecha:2015-02-17 09:49:47"
       ]
      },
      {
       "output_type": "stream",
       "stream": "stdout",
       "text": [
        "\n",
        "Cluster centered in: id:3299082612, recurso:tetra:12082781, latitud:-0.22468586266, longitud:-0.671372950077, velocidad:0, orientacion:0, fecha:2015-02-17 09:50:03"
       ]
      },
      {
       "output_type": "stream",
       "stream": "stdout",
       "text": [
        "\n",
        "Cluster centered in: id:3299082746, recurso:tetra:12082781, latitud:-0.224687546492, longitud:-0.671371638775, velocidad:0, orientacion:0, fecha:2015-02-17 09:50:21"
       ]
      },
      {
       "output_type": "stream",
       "stream": "stdout",
       "text": [
        "\n",
        "Cluster centered in: id:3299082845, recurso:tetra:12082781, latitud:-0.224688112736, longitud:-0.671371996403, velocidad:0, orientacion:0, fecha:2015-02-17 09:50:37"
       ]
      },
      {
       "output_type": "stream",
       "stream": "stdout",
       "text": [
        "\n",
        "Cluster centered in: id:3299082993, recurso:tetra:12082781, latitud:-0.224688112736, longitud:-0.671371459961, velocidad:0, orientacion:0, fecha:2015-02-17 09:51:01"
       ]
      },
      {
       "output_type": "stream",
       "stream": "stdout",
       "text": [
        "\n",
        "Cluster centered in: id:3299083035, recurso:tetra:12082781, latitud:-0.224686995149, longitud:-0.671368837357, velocidad:0, orientacion:0, fecha:2015-02-17 09:51:25"
       ]
      },
      {
       "output_type": "stream",
       "stream": "stdout",
       "text": [
        "\n",
        "Cluster centered in: id:3299083075, recurso:tetra:12082781, latitud:-0.224686995149, longitud:-0.671368479729, velocidad:0, orientacion:0, fecha:2015-02-17 09:51:40"
       ]
      },
      {
       "output_type": "stream",
       "stream": "stdout",
       "text": [
        "\n",
        "Cluster centered in: id:3299083161, recurso:tetra:12082781, latitud:-0.224686428905, longitud:-0.671367883682, velocidad:0, orientacion:0, fecha:2015-02-17 09:51:53"
       ]
      },
      {
       "output_type": "stream",
       "stream": "stdout",
       "text": [
        "\n",
        "Cluster centered in: id:3299083323, recurso:tetra:12082781, latitud:-0.224686428905, longitud:-0.671367526054, velocidad:0, orientacion:0, fecha:2015-02-17 09:52:08"
       ]
      },
      {
       "output_type": "stream",
       "stream": "stdout",
       "text": [
        "\n",
        "Cluster centered in: id:3299083551, recurso:tetra:12082781, latitud:-0.224686428905, longitud:-0.67136734724, velocidad:0, orientacion:0, fecha:2015-02-17 09:52:21"
       ]
      },
      {
       "output_type": "stream",
       "stream": "stdout",
       "text": [
        "\n",
        "Cluster centered in: id:3299083557, recurso:tetra:12082781, latitud:-0.224686428905, longitud:-0.671366214752, velocidad:0, orientacion:0, fecha:2015-02-17 09:52:37"
       ]
      },
      {
       "output_type": "stream",
       "stream": "stdout",
       "text": [
        "\n",
        "Cluster centered in: id:3299083566, recurso:tetra:12082781, latitud:-0.224686056376, longitud:-0.671366214752, velocidad:0, orientacion:0, fecha:2015-02-17 09:52:56"
       ]
      },
      {
       "output_type": "stream",
       "stream": "stdout",
       "text": [
        "\n",
        "Cluster centered in: id:3299083652, recurso:tetra:12082781, latitud:-0.224686056376, longitud:-0.671366214752, velocidad:0, orientacion:0, fecha:2015-02-17 09:53:13"
       ]
      },
      {
       "output_type": "stream",
       "stream": "stdout",
       "text": [
        "\n",
        "Cluster centered in: id:3299083789, recurso:tetra:12082781, latitud:-0.224686056376, longitud:-0.671366214752, velocidad:0, orientacion:0, fecha:2015-02-17 09:53:26"
       ]
      },
      {
       "output_type": "stream",
       "stream": "stdout",
       "text": [
        "\n",
        "Cluster centered in: id:3299083895, recurso:tetra:12082781, latitud:-0.224686056376, longitud:-0.671366751194, velocidad:0, orientacion:0, fecha:2015-02-17 09:53:40"
       ]
      },
      {
       "output_type": "stream",
       "stream": "stdout",
       "text": [
        "\n",
        "Cluster centered in: id:3299083969, recurso:tetra:12082781, latitud:-0.22468586266, longitud:-0.67136734724, velocidad:0, orientacion:0, fecha:2015-02-17 09:54:00"
       ]
      },
      {
       "output_type": "stream",
       "stream": "stdout",
       "text": [
        "\n",
        "Cluster centered in: id:3299084042, recurso:tetra:12082781, latitud:-0.224685117602, longitud:-0.671367526054, velocidad:0, orientacion:0, fecha:2015-02-17 09:54:17"
       ]
      },
      {
       "output_type": "stream",
       "stream": "stdout",
       "text": [
        "\n",
        "Cluster centered in: id:3299084178, recurso:tetra:12082781, latitud:-0.224685117602, longitud:-0.671367526054, velocidad:0, orientacion:0, fecha:2015-02-17 09:54:32"
       ]
      },
      {
       "output_type": "stream",
       "stream": "stdout",
       "text": [
        "\n",
        "Cluster centered in: id:3299084239, recurso:tetra:12082781, latitud:-0.224684923887, longitud:-0.671367526054, velocidad:0, orientacion:0, fecha:2015-02-17 09:55:15"
       ]
      },
      {
       "output_type": "stream",
       "stream": "stdout",
       "text": [
        "\n",
        "Cluster centered in: id:3299084396, recurso:tetra:12082781, latitud:-0.224684923887, longitud:-0.671367526054, velocidad:0, orientacion:0, fecha:2015-02-17 09:55:33"
       ]
      },
      {
       "output_type": "stream",
       "stream": "stdout",
       "text": [
        "\n",
        "Cluster centered in: id:3299084416, recurso:tetra:12082781, latitud:-0.224685490131, longitud:-0.671367526054, velocidad:0, orientacion:0, fecha:2015-02-17 09:55:48"
       ]
      },
      {
       "output_type": "stream",
       "stream": "stdout",
       "text": [
        "\n",
        "Cluster centered in: id:3299084562, recurso:tetra:12082781, latitud:-0.224685490131, longitud:-0.671367883682, velocidad:0, orientacion:0, fecha:2015-02-17 09:56:06"
       ]
      },
      {
       "output_type": "stream",
       "stream": "stdout",
       "text": [
        "\n",
        "Cluster centered in: id:3299084700, recurso:tetra:12082781, latitud:-0.224685490131, longitud:-0.671367883682, velocidad:0, orientacion:0, fecha:2015-02-17 09:56:21"
       ]
      },
      {
       "output_type": "stream",
       "stream": "stdout",
       "text": [
        "\n",
        "Cluster centered in: id:3299084817, recurso:tetra:12082781, latitud:-0.224685490131, longitud:-0.671367883682, velocidad:0, orientacion:0, fecha:2015-02-17 09:56:37"
       ]
      },
      {
       "output_type": "stream",
       "stream": "stdout",
       "text": [
        "\n",
        "Cluster centered in: id:3299084870, recurso:tetra:12082781, latitud:-0.224685490131, longitud:-0.671367883682, velocidad:0, orientacion:0, fecha:2015-02-17 09:56:49"
       ]
      },
      {
       "output_type": "stream",
       "stream": "stdout",
       "text": [
        "\n",
        "Cluster centered in: id:3299084903, recurso:tetra:12082781, latitud:-0.224685490131, longitud:-0.671367883682, velocidad:0, orientacion:0, fecha:2015-02-17 09:57:12"
       ]
      },
      {
       "output_type": "stream",
       "stream": "stdout",
       "text": [
        "\n",
        "Cluster centered in: id:3299085055, recurso:tetra:12082781, latitud:-0.224685490131, longitud:-0.671368837357, velocidad:0, orientacion:0, fecha:2015-02-17 09:57:29"
       ]
      },
      {
       "output_type": "stream",
       "stream": "stdout",
       "text": [
        "\n",
        "Cluster centered in: id:3299085093, recurso:tetra:12082781, latitud:-0.224685490131, longitud:-0.671369016171, velocidad:0, orientacion:0, fecha:2015-02-17 09:57:53"
       ]
      },
      {
       "output_type": "stream",
       "stream": "stdout",
       "text": [
        "\n",
        "Cluster centered in: id:3299085138, recurso:tetra:12082781, latitud:-0.22468586266, longitud:-0.671368837357, velocidad:0, orientacion:0, fecha:2015-02-17 09:58:09"
       ]
      },
      {
       "output_type": "stream",
       "stream": "stdout",
       "text": [
        "\n",
        "Cluster centered in: id:3299085275, recurso:tetra:12082781, latitud:-0.224686056376, longitud:-0.671369373798, velocidad:0, orientacion:0, fecha:2015-02-17 09:58:25"
       ]
      },
      {
       "output_type": "stream",
       "stream": "stdout",
       "text": [
        "\n",
        "Cluster centered in: id:3299085520, recurso:tetra:12082781, latitud:-0.22468586266, longitud:-0.671369552612, velocidad:0, orientacion:0, fecha:2015-02-17 09:58:43"
       ]
      },
      {
       "output_type": "stream",
       "stream": "stdout",
       "text": [
        "\n",
        "Cluster centered in: id:3299085650, recurso:tetra:12082781, latitud:-0.224686995149, longitud:-0.671368479729, velocidad:0, orientacion:0, fecha:2015-02-17 09:59:16"
       ]
      },
      {
       "output_type": "stream",
       "stream": "stdout",
       "text": [
        "\n",
        "Cluster centered in: id:3299085804, recurso:tetra:12082781, latitud:-0.224687173963, longitud:-0.671367883682, velocidad:0, orientacion:0, fecha:2015-02-17 09:59:35"
       ]
      },
      {
       "output_type": "stream",
       "stream": "stdout",
       "text": [
        "\n",
        "Cluster centered in: id:3299085893, recurso:tetra:12082781, latitud:-0.224687173963, longitud:-0.671367526054, velocidad:0, orientacion:0, fecha:2015-02-17 09:59:52"
       ]
      },
      {
       "output_type": "stream",
       "stream": "stdout",
       "text": [
        "\n",
        "Cluster centered in: id:3299085978, recurso:tetra:12082781, latitud:-0.224687173963, longitud:-0.671367526054, velocidad:0, orientacion:0, fecha:2015-02-17 10:00:05"
       ]
      },
      {
       "output_type": "stream",
       "stream": "stdout",
       "text": [
        "\n",
        "Cluster centered in: id:3299086047, recurso:tetra:12082781, latitud:-0.224686995149, longitud:-0.671366751194, velocidad:0, orientacion:270, fecha:2015-02-17 10:00:24"
       ]
      },
      {
       "output_type": "stream",
       "stream": "stdout",
       "text": [
        "\n",
        "Cluster centered in: id:3299086194, recurso:tetra:12082781, latitud:-0.224686607718, longitud:-0.67136734724, velocidad:0, orientacion:0, fecha:2015-02-17 10:00:41"
       ]
      },
      {
       "output_type": "stream",
       "stream": "stdout",
       "text": [
        "\n",
        "Cluster centered in: id:3299086230, recurso:tetra:12082781, latitud:-0.224686995149, longitud:-0.671368837357, velocidad:0, orientacion:0, fecha:2015-02-17 10:01:05"
       ]
      },
      {
       "output_type": "stream",
       "stream": "stdout",
       "text": [
        "\n",
        "Cluster centered in: id:3299086234, recurso:tetra:12082781, latitud:-0.224686607718, longitud:-0.671369552612, velocidad:0, orientacion:0, fecha:2015-02-17 10:01:30"
       ]
      },
      {
       "output_type": "stream",
       "stream": "stdout",
       "text": [
        "\n",
        "Cluster centered in: id:3299086313, recurso:tetra:12082781, latitud:-0.224686428905, longitud:-0.671369552612, velocidad:0, orientacion:0, fecha:2015-02-17 10:01:49"
       ]
      },
      {
       "output_type": "stream",
       "stream": "stdout",
       "text": [
        "\n",
        "Cluster centered in: id:3299086422, recurso:tetra:12082781, latitud:-0.224686428905, longitud:-0.671369969845, velocidad:0, orientacion:0, fecha:2015-02-17 10:02:03"
       ]
      },
      {
       "output_type": "stream",
       "stream": "stdout",
       "text": [
        "\n",
        "Cluster centered in: id:3299086476, recurso:tetra:12082781, latitud:-0.224686428905, longitud:-0.671369969845, velocidad:0, orientacion:112, fecha:2015-02-17 10:02:16"
       ]
      },
      {
       "output_type": "stream",
       "stream": "stdout",
       "text": [
        "\n",
        "Cluster centered in: id:3299086580, recurso:tetra:12082781, latitud:-0.224686056376, longitud:-0.671370148659, velocidad:0, orientacion:0, fecha:2015-02-17 10:02:29"
       ]
      },
      {
       "output_type": "stream",
       "stream": "stdout",
       "text": [
        "\n",
        "Cluster centered in: id:3299086769, recurso:tetra:12082781, latitud:-0.224686056376, longitud:-0.671370148659, velocidad:0, orientacion:0, fecha:2015-02-17 10:02:49"
       ]
      },
      {
       "output_type": "stream",
       "stream": "stdout",
       "text": [
        "\n",
        "Cluster centered in: id:3299086866, recurso:tetra:12082781, latitud:-0.224686056376, longitud:-0.671370148659, velocidad:0, orientacion:0, fecha:2015-02-17 10:03:06"
       ]
      },
      {
       "output_type": "stream",
       "stream": "stdout",
       "text": [
        "\n",
        "Cluster centered in: id:3299086907, recurso:tetra:12082781, latitud:-0.224686428905, longitud:-0.671369969845, velocidad:0, orientacion:0, fecha:2015-02-17 10:03:30"
       ]
      },
      {
       "output_type": "stream",
       "stream": "stdout",
       "text": [
        "\n",
        "Cluster centered in: id:3299087042, recurso:tetra:12082781, latitud:-0.224686428905, longitud:-0.671370506287, velocidad:0, orientacion:0, fecha:2015-02-17 10:03:46"
       ]
      },
      {
       "output_type": "stream",
       "stream": "stdout",
       "text": [
        "\n",
        "Cluster centered in: id:3299087073, recurso:tetra:12082781, latitud:-0.224686607718, longitud:-0.671371459961, velocidad:0, orientacion:0, fecha:2015-02-17 10:04:01"
       ]
      },
      {
       "output_type": "stream",
       "stream": "stdout",
       "text": [
        "\n",
        "Cluster centered in: id:3299087160, recurso:tetra:12082781, latitud:-0.224686607718, longitud:-0.671370863914, velocidad:0, orientacion:0, fecha:2015-02-17 10:04:27"
       ]
      },
      {
       "output_type": "stream",
       "stream": "stdout",
       "text": [
        "\n",
        "Cluster centered in: id:3299087365, recurso:tetra:12082781, latitud:-0.224686607718, longitud:-0.671370863914, velocidad:0, orientacion:0, fecha:2015-02-17 10:04:47"
       ]
      },
      {
       "output_type": "stream",
       "stream": "stdout",
       "text": [
        "\n",
        "Cluster centered in: id:3299087508, recurso:tetra:12082781, latitud:-0.224686607718, longitud:-0.671370863914, velocidad:0, orientacion:0, fecha:2015-02-17 10:05:03"
       ]
      },
      {
       "output_type": "stream",
       "stream": "stdout",
       "text": [
        "\n",
        "Cluster centered in: id:3299087554, recurso:tetra:12082781, latitud:-0.224686607718, longitud:-0.671370863914, velocidad:0, orientacion:0, fecha:2015-02-17 10:05:16"
       ]
      },
      {
       "output_type": "stream",
       "stream": "stdout",
       "text": [
        "\n",
        "Cluster centered in: id:3299087587, recurso:tetra:12082781, latitud:-0.224686056376, longitud:-0.671370863914, velocidad:0, orientacion:0, fecha:2015-02-17 10:05:38"
       ]
      },
      {
       "output_type": "stream",
       "stream": "stdout",
       "text": [
        "\n",
        "Cluster centered in: id:3299087724, recurso:tetra:12082781, latitud:-0.224686056376, longitud:-0.671370863914, velocidad:0, orientacion:0, fecha:2015-02-17 10:06:00"
       ]
      },
      {
       "output_type": "stream",
       "stream": "stdout",
       "text": [
        "\n",
        "Cluster centered in: id:3299087834, recurso:tetra:12082781, latitud:-0.22468586266, longitud:-0.671369552612, velocidad:0, orientacion:0, fecha:2015-02-17 10:06:15"
       ]
      },
      {
       "output_type": "stream",
       "stream": "stdout",
       "text": [
        "\n",
        "Cluster centered in: id:3299087936, recurso:tetra:12082781, latitud:-0.224686056376, longitud:-0.671369373798, velocidad:0, orientacion:0, fecha:2015-02-17 10:06:33"
       ]
      },
      {
       "output_type": "stream",
       "stream": "stdout",
       "text": [
        "\n",
        "Cluster centered in: id:3299087986, recurso:tetra:12082781, latitud:-0.224686428905, longitud:-0.671368837357, velocidad:0, orientacion:0, fecha:2015-02-17 10:06:49"
       ]
      },
      {
       "output_type": "stream",
       "stream": "stdout",
       "text": [
        "\n",
        "Cluster centered in: id:3299088074, recurso:tetra:12082781, latitud:-0.224686607718, longitud:-0.67136824131, velocidad:0, orientacion:0, fecha:2015-02-17 10:07:04"
       ]
      },
      {
       "output_type": "stream",
       "stream": "stdout",
       "text": [
        "\n",
        "Cluster centered in: id:3299088194, recurso:tetra:12082781, latitud:-0.224686607718, longitud:-0.67136824131, velocidad:0, orientacion:0, fecha:2015-02-17 10:07:17"
       ]
      },
      {
       "output_type": "stream",
       "stream": "stdout",
       "text": [
        "\n",
        "Cluster centered in: id:3299088234, recurso:tetra:12082781, latitud:-0.224686607718, longitud:-0.671368837357, velocidad:0, orientacion:0, fecha:2015-02-17 10:07:42"
       ]
      },
      {
       "output_type": "stream",
       "stream": "stdout",
       "text": [
        "\n",
        "Cluster centered in: id:3299088373, recurso:tetra:12082781, latitud:-0.224685490131, longitud:-0.671370148659, velocidad:0, orientacion:0, fecha:2015-02-17 10:08:00"
       ]
      },
      {
       "output_type": "stream",
       "stream": "stdout",
       "text": [
        "\n",
        "Cluster centered in: id:3299088419, recurso:tetra:12082781, latitud:-0.224685117602, longitud:-0.671370148659, velocidad:0, orientacion:0, fecha:2015-02-17 10:08:15"
       ]
      },
      {
       "output_type": "stream",
       "stream": "stdout",
       "text": [
        "\n",
        "Cluster centered in: id:3299088546, recurso:tetra:12082781, latitud:-0.22468586266, longitud:-0.671369969845, velocidad:0, orientacion:0, fecha:2015-02-17 10:08:32"
       ]
      },
      {
       "output_type": "stream",
       "stream": "stdout",
       "text": [
        "\n",
        "Cluster centered in: id:3299088690, recurso:tetra:12082781, latitud:-0.22468586266, longitud:-0.671369969845, velocidad:0, orientacion:0, fecha:2015-02-17 10:08:47"
       ]
      },
      {
       "output_type": "stream",
       "stream": "stdout",
       "text": [
        "\n",
        "Cluster centered in: id:3299088830, recurso:tetra:12082781, latitud:-0.22468586266, longitud:-0.671369969845, velocidad:0, orientacion:0, fecha:2015-02-17 10:09:05"
       ]
      },
      {
       "output_type": "stream",
       "stream": "stdout",
       "text": [
        "\n",
        "Cluster centered in: id:3299088880, recurso:tetra:12082781, latitud:-0.22468586266, longitud:-0.671369969845, velocidad:0, orientacion:0, fecha:2015-02-17 10:09:39"
       ]
      },
      {
       "output_type": "stream",
       "stream": "stdout",
       "text": [
        "\n",
        "Cluster centered in: id:3299089045, recurso:tetra:12082781, latitud:-0.22468586266, longitud:-0.671369969845, velocidad:0, orientacion:0, fecha:2015-02-17 10:09:59"
       ]
      },
      {
       "output_type": "stream",
       "stream": "stdout",
       "text": [
        "\n",
        "Cluster centered in: id:3299089077, recurso:tetra:12082781, latitud:-0.224685490131, longitud:-0.671369016171, velocidad:0, orientacion:0, fecha:2015-02-17 10:10:19"
       ]
      },
      {
       "output_type": "stream",
       "stream": "stdout",
       "text": [
        "\n",
        "Cluster centered in: id:3299089151, recurso:tetra:12082781, latitud:-0.224685117602, longitud:-0.671369373798, velocidad:0, orientacion:135, fecha:2015-02-17 10:10:34"
       ]
      },
      {
       "output_type": "stream",
       "stream": "stdout",
       "text": [
        "\n",
        "Cluster centered in: id:3299089258, recurso:tetra:12082781, latitud:-0.22468586266, longitud:-0.671368479729, velocidad:0, orientacion:0, fecha:2015-02-17 10:10:51"
       ]
      },
      {
       "output_type": "stream",
       "stream": "stdout",
       "text": [
        "\n",
        "Cluster centered in: id:3299089471, recurso:tetra:12082781, latitud:-0.22468586266, longitud:-0.671368479729, velocidad:0, orientacion:0, fecha:2015-02-17 10:11:05"
       ]
      },
      {
       "output_type": "stream",
       "stream": "stdout",
       "text": [
        "\n",
        "Cluster centered in: id:3299089575, recurso:tetra:12082781, latitud:-0.22468586266, longitud:-0.671368479729, velocidad:0, orientacion:0, fecha:2015-02-17 10:11:28"
       ]
      },
      {
       "output_type": "stream",
       "stream": "stdout",
       "text": [
        "\n",
        "Cluster centered in: id:3299089711, recurso:tetra:12082781, latitud:-0.224685490131, longitud:-0.671368837357, velocidad:0, orientacion:0, fecha:2015-02-17 10:11:46"
       ]
      },
      {
       "output_type": "stream",
       "stream": "stdout",
       "text": [
        "\n",
        "Cluster centered in: id:3299089820, recurso:tetra:12082781, latitud:-0.224685490131, longitud:-0.671369016171, velocidad:0, orientacion:135, fecha:2015-02-17 10:11:58"
       ]
      },
      {
       "output_type": "stream",
       "stream": "stdout",
       "text": [
        "\n",
        "Cluster centered in: id:3299089886, recurso:tetra:12082781, latitud:-0.224686056376, longitud:-0.671369016171, velocidad:0, orientacion:0, fecha:2015-02-17 10:12:11"
       ]
      },
      {
       "output_type": "stream",
       "stream": "stdout",
       "text": [
        "\n",
        "Cluster centered in: id:3299089964, recurso:tetra:12082781, latitud:-0.224686056376, longitud:-0.671368837357, velocidad:0, orientacion:0, fecha:2015-02-17 10:12:24"
       ]
      },
      {
       "output_type": "stream",
       "stream": "stdout",
       "text": [
        "\n",
        "Cluster centered in: id:3299090073, recurso:tetra:12082781, latitud:-0.224685490131, longitud:-0.671369552612, velocidad:0, orientacion:0, fecha:2015-02-17 10:12:39"
       ]
      },
      {
       "output_type": "stream",
       "stream": "stdout",
       "text": [
        "\n",
        "Cluster centered in: id:3299090180, recurso:tetra:12082781, latitud:-0.224685490131, longitud:-0.671369969845, velocidad:0, orientacion:0, fecha:2015-02-17 10:12:54"
       ]
      },
      {
       "output_type": "stream",
       "stream": "stdout",
       "text": [
        "\n",
        "Cluster centered in: id:3299090216, recurso:tetra:12082781, latitud:-0.22468586266, longitud:-0.671369969845, velocidad:1, orientacion:270, fecha:2015-02-17 10:13:18"
       ]
      },
      {
       "output_type": "stream",
       "stream": "stdout",
       "text": [
        "\n",
        "Cluster centered in: id:3299090222, recurso:tetra:12082781, latitud:-0.224686995149, longitud:-0.671370506287, velocidad:0, orientacion:0, fecha:2015-02-17 10:13:44"
       ]
      },
      {
       "output_type": "stream",
       "stream": "stdout",
       "text": [
        "\n",
        "Cluster centered in: id:3299090367, recurso:tetra:12082781, latitud:-0.224687173963, longitud:-0.671369552612, velocidad:0, orientacion:0, fecha:2015-02-17 10:14:01"
       ]
      },
      {
       "output_type": "stream",
       "stream": "stdout",
       "text": [
        "\n",
        "Cluster centered in: id:3299090404, recurso:tetra:12082781, latitud:-0.224686995149, longitud:-0.671369016171, velocidad:0, orientacion:270, fecha:2015-02-17 10:14:18"
       ]
      },
      {
       "output_type": "stream",
       "stream": "stdout",
       "text": [
        "\n",
        "Cluster centered in: id:3299090510, recurso:tetra:12082781, latitud:-0.224686056376, longitud:-0.671369969845, velocidad:0, orientacion:0, fecha:2015-02-17 10:14:35"
       ]
      },
      {
       "output_type": "stream",
       "stream": "stdout",
       "text": [
        "\n",
        "Cluster centered in: id:3299090620, recurso:tetra:12082781, latitud:-0.224686607718, longitud:-0.671368837357, velocidad:0, orientacion:0, fecha:2015-02-17 10:14:50"
       ]
      },
      {
       "output_type": "stream",
       "stream": "stdout",
       "text": [
        "\n",
        "Cluster centered in: id:3299090838, recurso:tetra:12082781, latitud:-0.224686995149, longitud:-0.671369016171, velocidad:1, orientacion:112, fecha:2015-02-17 10:15:17"
       ]
      },
      {
       "output_type": "stream",
       "stream": "stdout",
       "text": [
        "\n",
        "Cluster centered in: id:3299090861, recurso:tetra:12082781, latitud:-0.224686607718, longitud:-0.671369016171, velocidad:0, orientacion:0, fecha:2015-02-17 10:15:45"
       ]
      },
      {
       "output_type": "stream",
       "stream": "stdout",
       "text": [
        "\n",
        "Cluster centered in: id:3299091016, recurso:tetra:12082781, latitud:-0.224686607718, longitud:-0.671369016171, velocidad:0, orientacion:0, fecha:2015-02-17 10:16:01"
       ]
      },
      {
       "output_type": "stream",
       "stream": "stdout",
       "text": [
        "\n",
        "Cluster centered in: id:3299091049, recurso:tetra:12082781, latitud:-0.224686607718, longitud:-0.671369016171, velocidad:0, orientacion:0, fecha:2015-02-17 10:16:16"
       ]
      },
      {
       "output_type": "stream",
       "stream": "stdout",
       "text": [
        "\n",
        "Cluster centered in: id:3299091157, recurso:tetra:12082781, latitud:-0.224686428905, longitud:-0.671369016171, velocidad:0, orientacion:0, fecha:2015-02-17 10:16:46"
       ]
      },
      {
       "output_type": "stream",
       "stream": "stdout",
       "text": [
        "\n",
        "Cluster centered in: id:3299091264, recurso:tetra:12082781, latitud:-0.224686056376, longitud:-0.671369373798, velocidad:0, orientacion:0, fecha:2015-02-17 10:17:01"
       ]
      },
      {
       "output_type": "stream",
       "stream": "stdout",
       "text": [
        "\n",
        "Cluster centered in: id:3299091427, recurso:tetra:12082781, latitud:-0.224686056376, longitud:-0.671369016171, velocidad:0, orientacion:0, fecha:2015-02-17 10:17:16"
       ]
      },
      {
       "output_type": "stream",
       "stream": "stdout",
       "text": [
        "\n",
        "Cluster centered in: id:3299091516, recurso:tetra:12082781, latitud:-0.224686056376, longitud:-0.671369016171, velocidad:0, orientacion:0, fecha:2015-02-17 10:17:30"
       ]
      },
      {
       "output_type": "stream",
       "stream": "stdout",
       "text": [
        "\n",
        "Cluster centered in: id:3299091534, recurso:tetra:12082781, latitud:-0.22468586266, longitud:-0.671369016171, velocidad:0, orientacion:0, fecha:2015-02-17 10:17:57"
       ]
      },
      {
       "output_type": "stream",
       "stream": "stdout",
       "text": [
        "\n",
        "Cluster centered in: id:3299091630, recurso:tetra:12082781, latitud:-0.224685490131, longitud:-0.671368837357, velocidad:0, orientacion:0, fecha:2015-02-17 10:18:18"
       ]
      },
      {
       "output_type": "stream",
       "stream": "stdout",
       "text": [
        "\n",
        "Cluster centered in: id:3299091755, recurso:tetra:12082781, latitud:-0.224685490131, longitud:-0.671368479729, velocidad:0, orientacion:0, fecha:2015-02-17 10:18:35"
       ]
      },
      {
       "output_type": "stream",
       "stream": "stdout",
       "text": [
        "\n",
        "Cluster centered in: id:3299091848, recurso:tetra:12082781, latitud:-0.224684923887, longitud:-0.671367883682, velocidad:0, orientacion:0, fecha:2015-02-17 10:18:49"
       ]
      },
      {
       "output_type": "stream",
       "stream": "stdout",
       "text": [
        "\n",
        "Cluster centered in: id:3299091957, recurso:tetra:12082781, latitud:-0.224684923887, longitud:-0.671367883682, velocidad:0, orientacion:0, fecha:2015-02-17 10:19:03"
       ]
      },
      {
       "output_type": "stream",
       "stream": "stdout",
       "text": [
        "\n",
        "Cluster centered in: id:3299092060, recurso:tetra:12082781, latitud:-0.224684923887, longitud:-0.671368479729, velocidad:0, orientacion:0, fecha:2015-02-17 10:19:21"
       ]
      },
      {
       "output_type": "stream",
       "stream": "stdout",
       "text": [
        "\n",
        "Cluster centered in: id:3299092191, recurso:tetra:12082781, latitud:-0.224684923887, longitud:-0.671368479729, velocidad:0, orientacion:0, fecha:2015-02-17 10:19:47"
       ]
      },
      {
       "output_type": "stream",
       "stream": "stdout",
       "text": [
        "\n",
        "Cluster centered in: id:3299092231, recurso:tetra:12082781, latitud:-0.224685117602, longitud:-0.67136824131, velocidad:0, orientacion:0, fecha:2015-02-17 10:20:04"
       ]
      },
      {
       "output_type": "stream",
       "stream": "stdout",
       "text": [
        "\n",
        "Cluster centered in: id:3299092371, recurso:tetra:12082781, latitud:-0.224685117602, longitud:-0.67136824131, velocidad:0, orientacion:0, fecha:2015-02-17 10:20:20"
       ]
      },
      {
       "output_type": "stream",
       "stream": "stdout",
       "text": [
        "\n",
        "Cluster centered in: id:3299092456, recurso:tetra:12082781, latitud:-0.22468586266, longitud:-0.671367526054, velocidad:0, orientacion:0, fecha:2015-02-17 10:20:38"
       ]
      },
      {
       "output_type": "stream",
       "stream": "stdout",
       "text": [
        "\n",
        "Cluster centered in: id:3299092544, recurso:tetra:12082781, latitud:-0.22468586266, longitud:-0.671367526054, velocidad:0, orientacion:0, fecha:2015-02-17 10:20:51"
       ]
      },
      {
       "output_type": "stream",
       "stream": "stdout",
       "text": [
        "\n",
        "Cluster centered in: id:3299092751, recurso:tetra:12082781, latitud:-0.22468586266, longitud:-0.671366930008, velocidad:0, orientacion:0, fecha:2015-02-17 10:21:08"
       ]
      },
      {
       "output_type": "stream",
       "stream": "stdout",
       "text": [
        "\n",
        "Cluster centered in: id:3299092820, recurso:tetra:12082781, latitud:-0.22468586266, longitud:-0.671364307404, velocidad:0, orientacion:270, fecha:2015-02-17 10:21:25"
       ]
      },
      {
       "output_type": "stream",
       "stream": "stdout",
       "text": [
        "\n",
        "Cluster centered in: id:3299092867, recurso:tetra:12082781, latitud:-0.224685490131, longitud:-0.671366751194, velocidad:0, orientacion:0, fecha:2015-02-17 10:22:10"
       ]
      },
      {
       "output_type": "stream",
       "stream": "stdout",
       "text": [
        "\n",
        "Cluster centered in: id:3299093008, recurso:tetra:12082781, latitud:-0.22468586266, longitud:-0.671365261078, velocidad:0, orientacion:0, fecha:2015-02-17 10:22:26"
       ]
      },
      {
       "output_type": "stream",
       "stream": "stdout",
       "text": [
        "\n",
        "Cluster centered in: id:3299093043, recurso:tetra:12082781, latitud:-0.224686056376, longitud:-0.671364307404, velocidad:0, orientacion:0, fecha:2015-02-17 10:22:39"
       ]
      },
      {
       "output_type": "stream",
       "stream": "stdout",
       "text": [
        "\n",
        "Cluster centered in: id:3299093114, recurso:tetra:12082781, latitud:-0.224687919021, longitud:-0.671362638474, velocidad:0, orientacion:0, fecha:2015-02-17 10:22:53"
       ]
      },
      {
       "output_type": "stream",
       "stream": "stdout",
       "text": [
        "\n",
        "Cluster centered in: id:3299093254, recurso:tetra:12082781, latitud:-0.22468867898, longitud:-0.67136323452, velocidad:0, orientacion:0, fecha:2015-02-17 10:23:08"
       ]
      },
      {
       "output_type": "stream",
       "stream": "stdout",
       "text": [
        "\n",
        "Cluster centered in: id:3299093423, recurso:tetra:12082781, latitud:-0.22468867898, longitud:-0.67136323452, velocidad:0, orientacion:0, fecha:2015-02-17 10:23:24"
       ]
      },
      {
       "output_type": "stream",
       "stream": "stdout",
       "text": [
        "\n",
        "Cluster centered in: id:3299093515, recurso:tetra:12082781, latitud:-0.224689051509, longitud:-0.671362638474, velocidad:0, orientacion:225, fecha:2015-02-17 10:23:48"
       ]
      },
      {
       "output_type": "stream",
       "stream": "stdout",
       "text": [
        "\n",
        "Cluster centered in: id:3299093663, recurso:tetra:12082781, latitud:-0.224689051509, longitud:-0.671361923218, velocidad:0, orientacion:0, fecha:2015-02-17 10:24:05"
       ]
      },
      {
       "output_type": "stream",
       "stream": "stdout",
       "text": [
        "\n",
        "Cluster centered in: id:3299093785, recurso:tetra:12082781, latitud:-0.224688112736, longitud:-0.671360969543, velocidad:0, orientacion:0, fecha:2015-02-17 10:24:22"
       ]
      },
      {
       "output_type": "stream",
       "stream": "stdout",
       "text": [
        "\n",
        "Cluster centered in: id:3299093864, recurso:tetra:12082781, latitud:-0.224687919021, longitud:-0.671360611916, velocidad:0, orientacion:0, fecha:2015-02-17 10:24:40"
       ]
      },
      {
       "output_type": "stream",
       "stream": "stdout",
       "text": [
        "\n",
        "Cluster centered in: id:3299093926, recurso:tetra:12082781, latitud:-0.224687173963, longitud:-0.671361923218, velocidad:0, orientacion:0, fecha:2015-02-17 10:24:56"
       ]
      },
      {
       "output_type": "stream",
       "stream": "stdout",
       "text": [
        "\n",
        "Cluster centered in: id:3299094118, recurso:tetra:12082781, latitud:-0.224686995149, longitud:-0.671362102032, velocidad:0, orientacion:0, fecha:2015-02-17 10:25:14"
       ]
      },
      {
       "output_type": "stream",
       "stream": "stdout",
       "text": [
        "\n",
        "Cluster centered in: id:3299094146, recurso:tetra:12082781, latitud:-0.224686428905, longitud:-0.671362638474, velocidad:0, orientacion:0, fecha:2015-02-17 10:25:33"
       ]
      },
      {
       "output_type": "stream",
       "stream": "stdout",
       "text": [
        "\n",
        "Cluster centered in: id:3299094153, recurso:tetra:12082781, latitud:-0.224685117602, longitud:-0.671364307404, velocidad:0, orientacion:0, fecha:2015-02-17 10:25:53"
       ]
      },
      {
       "output_type": "stream",
       "stream": "stdout",
       "text": [
        "\n",
        "Cluster centered in: id:3299094265, recurso:tetra:12082781, latitud:-0.224684372544, longitud:-0.671366214752, velocidad:0, orientacion:0, fecha:2015-02-17 10:26:11"
       ]
      },
      {
       "output_type": "stream",
       "stream": "stdout",
       "text": [
        "\n",
        "Cluster centered in: id:3299094333, recurso:tetra:12082781, latitud:-0.224683433771, longitud:-0.671365857124, velocidad:0, orientacion:0, fecha:2015-02-17 10:26:27"
       ]
      },
      {
       "output_type": "stream",
       "stream": "stdout",
       "text": [
        "\n",
        "Cluster centered in: id:3299094442, recurso:tetra:12082781, latitud:-0.224684372544, longitud:-0.671364724636, velocidad:0, orientacion:0, fecha:2015-02-17 10:26:40"
       ]
      },
      {
       "output_type": "stream",
       "stream": "stdout",
       "text": [
        "\n",
        "Cluster centered in: id:3299094530, recurso:tetra:12082781, latitud:-0.224685117602, longitud:-0.671366751194, velocidad:0, orientacion:0, fecha:2015-02-17 10:26:53"
       ]
      },
      {
       "output_type": "stream",
       "stream": "stdout",
       "text": [
        "\n",
        "Cluster centered in: id:3299094684, recurso:tetra:12082781, latitud:-0.224682494998, longitud:-0.671367883682, velocidad:0, orientacion:112, fecha:2015-02-17 10:27:13"
       ]
      },
      {
       "output_type": "stream",
       "stream": "stdout",
       "text": [
        "\n",
        "Cluster centered in: id:3299094744, recurso:tetra:12082781, latitud:-0.224682494998, longitud:-0.671367883682, velocidad:0, orientacion:0, fecha:2015-02-17 10:27:26"
       ]
      },
      {
       "output_type": "stream",
       "stream": "stdout",
       "text": [
        "\n",
        "Cluster centered in: id:3299094781, recurso:tetra:12082781, latitud:-0.224682494998, longitud:-0.671367883682, velocidad:0, orientacion:0, fecha:2015-02-17 10:27:53"
       ]
      },
      {
       "output_type": "stream",
       "stream": "stdout",
       "text": [
        "\n",
        "Cluster centered in: id:3299094892, recurso:tetra:12082781, latitud:-0.224683433771, longitud:-0.67136824131, velocidad:0, orientacion:0, fecha:2015-02-17 10:28:09"
       ]
      },
      {
       "output_type": "stream",
       "stream": "stdout",
       "text": [
        "\n",
        "Cluster centered in: id:3299094961, recurso:tetra:12082781, latitud:-0.224684000015, longitud:-0.67136824131, velocidad:0, orientacion:0, fecha:2015-02-17 10:28:24"
       ]
      },
      {
       "output_type": "stream",
       "stream": "stdout",
       "text": [
        "\n",
        "Cluster centered in: id:3299094982, recurso:tetra:12082781, latitud:-0.224684000015, longitud:-0.671367883682, velocidad:0, orientacion:0, fecha:2015-02-17 10:28:37"
       ]
      },
      {
       "output_type": "stream",
       "stream": "stdout",
       "text": [
        "\n",
        "Cluster centered in: id:3299095130, recurso:tetra:12082781, latitud:-0.224684000015, longitud:-0.671367883682, velocidad:0, orientacion:0, fecha:2015-02-17 10:28:55"
       ]
      },
      {
       "output_type": "stream",
       "stream": "stdout",
       "text": [
        "\n",
        "Cluster centered in: id:3299095300, recurso:tetra:12082781, latitud:-0.224684372544, longitud:-0.67136824131, velocidad:0, orientacion:0, fecha:2015-02-17 10:29:09"
       ]
      },
      {
       "output_type": "stream",
       "stream": "stdout",
       "text": [
        "\n",
        "Cluster centered in: id:3299095407, recurso:tetra:12082781, latitud:-0.224684923887, longitud:-0.671368837357, velocidad:0, orientacion:0, fecha:2015-02-17 10:29:25"
       ]
      },
      {
       "output_type": "stream",
       "stream": "stdout",
       "text": [
        "\n",
        "Cluster centered in: id:3299095421, recurso:tetra:12082781, latitud:-0.224684551358, longitud:-0.671368837357, velocidad:0, orientacion:0, fecha:2015-02-17 10:29:41"
       ]
      },
      {
       "output_type": "stream",
       "stream": "stdout",
       "text": [
        "\n",
        "Cluster centered in: id:3299095456, recurso:tetra:12082781, latitud:-0.224684000015, longitud:-0.671368837357, velocidad:0, orientacion:0, fecha:2015-02-17 10:30:04"
       ]
      },
      {
       "output_type": "stream",
       "stream": "stdout",
       "text": [
        "\n",
        "Cluster centered in: id:3299095522, recurso:tetra:12082781, latitud:-0.224684000015, longitud:-0.671368837357, velocidad:0, orientacion:0, fecha:2015-02-17 10:30:21"
       ]
      },
      {
       "output_type": "stream",
       "stream": "stdout",
       "text": [
        "\n",
        "Cluster centered in: id:3299095709, recurso:tetra:12082781, latitud:-0.224685490131, longitud:-0.67136824131, velocidad:0, orientacion:0, fecha:2015-02-17 10:30:55"
       ]
      },
      {
       "output_type": "stream",
       "stream": "stdout",
       "text": [
        "\n",
        "Cluster centered in: id:3299095779, recurso:tetra:12082781, latitud:-0.224684372544, longitud:-0.671367526054, velocidad:0, orientacion:0, fecha:2015-02-17 10:31:15"
       ]
      },
      {
       "output_type": "stream",
       "stream": "stdout",
       "text": [
        "\n",
        "Cluster centered in: id:3299095885, recurso:tetra:12082781, latitud:-0.224684372544, longitud:-0.671367526054, velocidad:0, orientacion:0, fecha:2015-02-17 10:31:33"
       ]
      },
      {
       "output_type": "stream",
       "stream": "stdout",
       "text": [
        "\n",
        "Cluster centered in: id:3299096052, recurso:tetra:12082781, latitud:-0.224684372544, longitud:-0.671367526054, velocidad:0, orientacion:0, fecha:2015-02-17 10:31:53"
       ]
      },
      {
       "output_type": "stream",
       "stream": "stdout",
       "text": [
        "\n",
        "Cluster centered in: id:3299096064, recurso:tetra:12082781, latitud:-0.224684000015, longitud:-0.671366393566, velocidad:0, orientacion:0, fecha:2015-02-17 10:32:09"
       ]
      },
      {
       "output_type": "stream",
       "stream": "stdout",
       "text": [
        "\n",
        "Cluster centered in: id:3299096224, recurso:tetra:12082781, latitud:-0.224684923887, longitud:-0.671366751194, velocidad:0, orientacion:0, fecha:2015-02-17 10:32:28"
       ]
      },
      {
       "output_type": "stream",
       "stream": "stdout",
       "text": [
        "\n",
        "Cluster centered in: id:3299096269, recurso:tetra:12082781, latitud:-0.22468586266, longitud:-0.67136734724, velocidad:0, orientacion:135, fecha:2015-02-17 10:32:43"
       ]
      },
      {
       "output_type": "stream",
       "stream": "stdout",
       "text": [
        "\n",
        "Cluster centered in: id:3299096389, recurso:tetra:12082781, latitud:-0.224685490131, longitud:-0.671366393566, velocidad:0, orientacion:0, fecha:2015-02-17 10:33:00"
       ]
      },
      {
       "output_type": "stream",
       "stream": "stdout",
       "text": [
        "\n",
        "Cluster centered in: id:3299096463, recurso:tetra:12082781, latitud:-0.224685117602, longitud:-0.671365439892, velocidad:0, orientacion:0, fecha:2015-02-17 10:33:17"
       ]
      },
      {
       "output_type": "stream",
       "stream": "stdout",
       "text": [
        "\n",
        "Cluster centered in: id:3299096573, recurso:tetra:12082781, latitud:-0.224685117602, longitud:-0.671365261078, velocidad:0, orientacion:0, fecha:2015-02-17 10:33:31"
       ]
      },
      {
       "output_type": "stream",
       "stream": "stdout",
       "text": [
        "\n",
        "Cluster centered in: id:3299096656, recurso:tetra:12082781, latitud:-0.22468586266, longitud:-0.671367526054, velocidad:0, orientacion:0, fecha:2015-02-17 10:33:57"
       ]
      },
      {
       "output_type": "stream",
       "stream": "stdout",
       "text": [
        "\n",
        "Cluster centered in: id:3299096756, recurso:tetra:12082781, latitud:-0.224685490131, longitud:-0.67136824131, velocidad:0, orientacion:0, fecha:2015-02-17 10:34:13"
       ]
      },
      {
       "output_type": "stream",
       "stream": "stdout",
       "text": [
        "\n",
        "Cluster centered in: id:3299096838, recurso:tetra:12082781, latitud:-0.224685490131, longitud:-0.67136824131, velocidad:0, orientacion:0, fecha:2015-02-17 10:34:32"
       ]
      },
      {
       "output_type": "stream",
       "stream": "stdout",
       "text": [
        "\n",
        "Cluster centered in: id:3299096920, recurso:tetra:12082781, latitud:-0.224685490131, longitud:-0.67136824131, velocidad:0, orientacion:0, fecha:2015-02-17 10:34:51"
       ]
      },
      {
       "output_type": "stream",
       "stream": "stdout",
       "text": [
        "\n",
        "Cluster centered in: id:3299097027, recurso:tetra:12082781, latitud:-0.22468586266, longitud:-0.671368479729, velocidad:0, orientacion:0, fecha:2015-02-17 10:35:06"
       ]
      },
      {
       "output_type": "stream",
       "stream": "stdout",
       "text": [
        "\n",
        "Cluster centered in: id:3299097181, recurso:tetra:12082781, latitud:-0.224686056376, longitud:-0.671368479729, velocidad:0, orientacion:0, fecha:2015-02-17 10:35:22"
       ]
      },
      {
       "output_type": "stream",
       "stream": "stdout",
       "text": [
        "\n",
        "Cluster centered in: id:3299097244, recurso:tetra:12082781, latitud:-0.224686056376, longitud:-0.671368479729, velocidad:0, orientacion:0, fecha:2015-02-17 10:35:37"
       ]
      },
      {
       "output_type": "stream",
       "stream": "stdout",
       "text": [
        "\n",
        "Cluster centered in: id:3299097348, recurso:tetra:12082781, latitud:-0.224686056376, longitud:-0.671368479729, velocidad:0, orientacion:0, fecha:2015-02-17 10:36:02"
       ]
      },
      {
       "output_type": "stream",
       "stream": "stdout",
       "text": [
        "\n",
        "Cluster centered in: id:3299097453, recurso:tetra:12082781, latitud:-0.224686607718, longitud:-0.671368837357, velocidad:0, orientacion:0, fecha:2015-02-17 10:36:15"
       ]
      },
      {
       "output_type": "stream",
       "stream": "stdout",
       "text": [
        "\n",
        "Cluster centered in: id:3299097598, recurso:tetra:12082781, latitud:-0.224686056376, longitud:-0.671368837357, velocidad:0, orientacion:0, fecha:2015-02-17 10:36:34"
       ]
      },
      {
       "output_type": "stream",
       "stream": "stdout",
       "text": [
        "\n",
        "Cluster centered in: id:3299097638, recurso:tetra:12082781, latitud:-0.22468586266, longitud:-0.671368837357, velocidad:0, orientacion:0, fecha:2015-02-17 10:36:47"
       ]
      },
      {
       "output_type": "stream",
       "stream": "stdout",
       "text": [
        "\n",
        "Cluster centered in: id:3299097723, recurso:tetra:12082781, latitud:-0.224685117602, longitud:-0.671367883682, velocidad:0, orientacion:0, fecha:2015-02-17 10:36:59"
       ]
      },
      {
       "output_type": "stream",
       "stream": "stdout",
       "text": [
        "\n",
        "Cluster centered in: id:3299097872, recurso:tetra:12082781, latitud:-0.224685117602, longitud:-0.671367883682, velocidad:0, orientacion:0, fecha:2015-02-17 10:37:10"
       ]
      },
      {
       "output_type": "stream",
       "stream": "stdout",
       "text": [
        "\n",
        "Cluster centered in: id:3299097888, recurso:tetra:12082781, latitud:-0.224686428905, longitud:-0.671369016171, velocidad:0, orientacion:0, fecha:2015-02-17 10:37:28"
       ]
      },
      {
       "output_type": "stream",
       "stream": "stdout",
       "text": [
        "\n",
        "Cluster centered in: id:3299097894, recurso:tetra:12082781, latitud:-0.224686056376, longitud:-0.671368479729, velocidad:0, orientacion:0, fecha:2015-02-17 10:37:49"
       ]
      },
      {
       "output_type": "stream",
       "stream": "stdout",
       "text": [
        "\n",
        "Cluster centered in: id:3299098000, recurso:tetra:12082781, latitud:-0.224686428905, longitud:-0.671368479729, velocidad:0, orientacion:0, fecha:2015-02-17 10:38:02"
       ]
      },
      {
       "output_type": "stream",
       "stream": "stdout",
       "text": [
        "\n",
        "Cluster centered in: id:3299098073, recurso:tetra:12082781, latitud:-0.224686607718, longitud:-0.671367883682, velocidad:0, orientacion:0, fecha:2015-02-17 10:38:16"
       ]
      },
      {
       "output_type": "stream",
       "stream": "stdout",
       "text": [
        "\n",
        "Cluster centered in: id:3299098115, recurso:tetra:12082781, latitud:-0.224686995149, longitud:-0.671368479729, velocidad:0, orientacion:0, fecha:2015-02-17 10:38:28"
       ]
      },
      {
       "output_type": "stream",
       "stream": "stdout",
       "text": [
        "\n",
        "Cluster centered in: id:3299098230, recurso:tetra:12082781, latitud:-0.224687546492, longitud:-0.671368837357, velocidad:0, orientacion:0, fecha:2015-02-17 10:38:46"
       ]
      },
      {
       "output_type": "stream",
       "stream": "stdout",
       "text": [
        "\n",
        "Cluster centered in: id:3299098402, recurso:tetra:12082781, latitud:-0.224689230323, longitud:-0.671367526054, velocidad:0, orientacion:0, fecha:2015-02-17 10:39:10"
       ]
      },
      {
       "output_type": "stream",
       "stream": "stdout",
       "text": [
        "\n",
        "Cluster centered in: id:3299098503, recurso:tetra:12082781, latitud:-0.224688306451, longitud:-0.671369373798, velocidad:0, orientacion:0, fecha:2015-02-17 10:39:36"
       ]
      },
      {
       "output_type": "stream",
       "stream": "stdout",
       "text": [
        "\n",
        "Cluster centered in: id:3299098589, recurso:tetra:12082781, latitud:-0.224686995149, longitud:-0.671369373798, velocidad:0, orientacion:0, fecha:2015-02-17 10:40:02"
       ]
      },
      {
       "output_type": "stream",
       "stream": "stdout",
       "text": [
        "\n",
        "Cluster centered in: id:3299098665, recurso:tetra:12082781, latitud:-0.224686428905, longitud:-0.671369016171, velocidad:0, orientacion:0, fecha:2015-02-17 10:40:17"
       ]
      },
      {
       "output_type": "stream",
       "stream": "stdout",
       "text": [
        "\n",
        "Cluster centered in: id:3299098778, recurso:tetra:12082781, latitud:-0.224686428905, longitud:-0.671369373798, velocidad:0, orientacion:0, fecha:2015-02-17 10:40:34"
       ]
      },
      {
       "output_type": "stream",
       "stream": "stdout",
       "text": [
        "\n",
        "Cluster centered in: id:3299098959, recurso:tetra:12082781, latitud:-0.224686428905, longitud:-0.671369016171, velocidad:0, orientacion:0, fecha:2015-02-17 10:40:51"
       ]
      },
      {
       "output_type": "stream",
       "stream": "stdout",
       "text": [
        "\n",
        "Cluster centered in: id:3299099053, recurso:tetra:12082781, latitud:-0.224686428905, longitud:-0.671369016171, velocidad:0, orientacion:0, fecha:2015-02-17 10:41:06"
       ]
      },
      {
       "output_type": "stream",
       "stream": "stdout",
       "text": [
        "\n",
        "Cluster centered in: id:3299099114, recurso:tetra:12082781, latitud:-0.22468586266, longitud:-0.671369373798, velocidad:0, orientacion:0, fecha:2015-02-17 10:41:28"
       ]
      },
      {
       "output_type": "stream",
       "stream": "stdout",
       "text": [
        "\n",
        "Cluster centered in: id:3299099128, recurso:tetra:12082781, latitud:-0.22468586266, longitud:-0.671370506287, velocidad:0, orientacion:270, fecha:2015-02-17 10:41:51"
       ]
      },
      {
       "output_type": "stream",
       "stream": "stdout",
       "text": [
        "\n",
        "Cluster centered in: id:3299099238, recurso:tetra:12082781, latitud:-0.224685490131, longitud:-0.671369552612, velocidad:0, orientacion:0, fecha:2015-02-17 10:42:13"
       ]
      },
      {
       "output_type": "stream",
       "stream": "stdout",
       "text": [
        "\n",
        "Cluster centered in: id:3299099321, recurso:tetra:12082781, latitud:-0.224685490131, longitud:-0.671369552612, velocidad:0, orientacion:0, fecha:2015-02-17 10:42:32"
       ]
      },
      {
       "output_type": "stream",
       "stream": "stdout",
       "text": [
        "\n",
        "Cluster centered in: id:3299099404, recurso:tetra:12082781, latitud:-0.224685490131, longitud:-0.671369552612, velocidad:0, orientacion:0, fecha:2015-02-17 10:42:46"
       ]
      },
      {
       "output_type": "stream",
       "stream": "stdout",
       "text": [
        "\n",
        "Cluster centered in: id:3299099490, recurso:tetra:12082781, latitud:-0.22468586266, longitud:-0.671369552612, velocidad:0, orientacion:0, fecha:2015-02-17 10:43:00"
       ]
      },
      {
       "output_type": "stream",
       "stream": "stdout",
       "text": [
        "\n",
        "Cluster centered in: id:3299099617, recurso:tetra:12082781, latitud:-0.224686056376, longitud:-0.671369969845, velocidad:0, orientacion:0, fecha:2015-02-17 10:43:15"
       ]
      },
      {
       "output_type": "stream",
       "stream": "stdout",
       "text": [
        "\n",
        "Cluster centered in: id:3299099692, recurso:tetra:12082781, latitud:-0.22468586266, longitud:-0.671369016171, velocidad:0, orientacion:0, fecha:2015-02-17 10:43:29"
       ]
      },
      {
       "output_type": "stream",
       "stream": "stdout",
       "text": [
        "\n",
        "Cluster centered in: id:3299099921, recurso:tetra:12082781, latitud:-0.22468586266, longitud:-0.671367883682, velocidad:0, orientacion:0, fecha:2015-02-17 10:44:13"
       ]
      },
      {
       "output_type": "stream",
       "stream": "stdout",
       "text": [
        "\n",
        "Cluster centered in: id:3299100201, recurso:tetra:12082781, latitud:-0.22468586266, longitud:-0.671368479729, velocidad:0, orientacion:0, fecha:2015-02-17 10:44:28"
       ]
      },
      {
       "output_type": "stream",
       "stream": "stdout",
       "text": [
        "\n",
        "Cluster centered in: id:3299100308, recurso:tetra:12082781, latitud:-0.22468586266, longitud:-0.67136734724, velocidad:0, orientacion:157, fecha:2015-02-17 10:44:53"
       ]
      },
      {
       "output_type": "stream",
       "stream": "stdout",
       "text": [
        "\n",
        "Cluster centered in: id:3299100458, recurso:tetra:12082781, latitud:-0.224686056376, longitud:-0.671366751194, velocidad:0, orientacion:0, fecha:2015-02-17 10:45:17"
       ]
      },
      {
       "output_type": "stream",
       "stream": "stdout",
       "text": [
        "\n",
        "Cluster centered in: id:3299100510, recurso:tetra:12082781, latitud:-0.22468586266, longitud:-0.67136734724, velocidad:0, orientacion:45, fecha:2015-02-17 10:45:37"
       ]
      },
      {
       "output_type": "stream",
       "stream": "stdout",
       "text": [
        "\n",
        "Cluster centered in: id:3299100683, recurso:tetra:12082781, latitud:-0.224686056376, longitud:-0.671366751194, velocidad:0, orientacion:0, fecha:2015-02-17 10:45:51"
       ]
      },
      {
       "output_type": "stream",
       "stream": "stdout",
       "text": [
        "\n",
        "Cluster centered in: id:3299100847, recurso:tetra:12082781, latitud:-0.224686428905, longitud:-0.671366930008, velocidad:0, orientacion:0, fecha:2015-02-17 10:46:09"
       ]
      },
      {
       "output_type": "stream",
       "stream": "stdout",
       "text": [
        "\n",
        "Cluster centered in: id:3299100910, recurso:tetra:12082781, latitud:-0.224686428905, longitud:-0.671367526054, velocidad:0, orientacion:0, fecha:2015-02-17 10:46:23"
       ]
      },
      {
       "output_type": "stream",
       "stream": "stdout",
       "text": [
        "\n",
        "Cluster centered in: id:3299101057, recurso:tetra:12082781, latitud:-0.224686428905, longitud:-0.671367883682, velocidad:0, orientacion:0, fecha:2015-02-17 10:46:49"
       ]
      },
      {
       "output_type": "stream",
       "stream": "stdout",
       "text": [
        "\n",
        "Cluster centered in: id:3299101283, recurso:tetra:12082781, latitud:-0.224686428905, longitud:-0.671367883682, velocidad:0, orientacion:0, fecha:2015-02-17 10:47:01"
       ]
      },
      {
       "output_type": "stream",
       "stream": "stdout",
       "text": [
        "\n",
        "Cluster centered in: id:3299101433, recurso:tetra:12082781, latitud:-0.224686056376, longitud:-0.671367526054, velocidad:1, orientacion:247, fecha:2015-02-17 10:47:21"
       ]
      },
      {
       "output_type": "stream",
       "stream": "stdout",
       "text": [
        "\n",
        "Cluster centered in: id:3299101635, recurso:tetra:12082781, latitud:-0.224686056376, longitud:-0.671367883682, velocidad:0, orientacion:0, fecha:2015-02-17 10:47:37"
       ]
      },
      {
       "output_type": "stream",
       "stream": "stdout",
       "text": [
        "\n",
        "Cluster centered in: id:3299101664, recurso:tetra:12082781, latitud:-0.224686056376, longitud:-0.67136734724, velocidad:0, orientacion:0, fecha:2015-02-17 10:47:50"
       ]
      },
      {
       "output_type": "stream",
       "stream": "stdout",
       "text": [
        "\n",
        "Cluster centered in: id:3299101754, recurso:tetra:12082781, latitud:-0.224686056376, longitud:-0.671366930008, velocidad:0, orientacion:0, fecha:2015-02-17 10:48:05"
       ]
      },
      {
       "output_type": "stream",
       "stream": "stdout",
       "text": [
        "\n",
        "Cluster centered in: id:3299101824, recurso:tetra:12082781, latitud:-0.224686056376, longitud:-0.67136734724, velocidad:0, orientacion:0, fecha:2015-02-17 10:48:18"
       ]
      },
      {
       "output_type": "stream",
       "stream": "stdout",
       "text": [
        "\n",
        "Cluster centered in: id:3299101963, recurso:tetra:12082781, latitud:-0.224686428905, longitud:-0.671365857124, velocidad:0, orientacion:0, fecha:2015-02-17 10:48:34"
       ]
      },
      {
       "output_type": "stream",
       "stream": "stdout",
       "text": [
        "\n",
        "Cluster centered in: id:3299102033, recurso:tetra:12082781, latitud:-0.224686428905, longitud:-0.671365439892, velocidad:0, orientacion:0, fecha:2015-02-17 10:48:51"
       ]
      },
      {
       "output_type": "stream",
       "stream": "stdout",
       "text": [
        "\n",
        "Cluster centered in: id:3299102087, recurso:tetra:12082781, latitud:-0.224686428905, longitud:-0.671366214752, velocidad:0, orientacion:0, fecha:2015-02-17 10:49:13"
       ]
      },
      {
       "output_type": "stream",
       "stream": "stdout",
       "text": [
        "\n",
        "Cluster centered in: id:3299102091, recurso:tetra:12082781, latitud:-0.224686428905, longitud:-0.671367883682, velocidad:0, orientacion:157, fecha:2015-02-17 10:49:36"
       ]
      },
      {
       "output_type": "stream",
       "stream": "stdout",
       "text": [
        "\n",
        "Cluster centered in: id:3299102223, recurso:tetra:12082781, latitud:-0.224686428905, longitud:-0.67136824131, velocidad:0, orientacion:0, fecha:2015-02-17 10:49:52"
       ]
      },
      {
       "output_type": "stream",
       "stream": "stdout",
       "text": [
        "\n",
        "Cluster centered in: id:3299102269, recurso:tetra:12082781, latitud:-0.224686428905, longitud:-0.671367883682, velocidad:0, orientacion:0, fecha:2015-02-17 10:50:16"
       ]
      },
      {
       "output_type": "stream",
       "stream": "stdout",
       "text": [
        "\n",
        "Cluster centered in: id:3299102380, recurso:tetra:12082781, latitud:-0.224687173963, longitud:-0.671368837357, velocidad:0, orientacion:0, fecha:2015-02-17 10:50:33"
       ]
      },
      {
       "output_type": "stream",
       "stream": "stdout",
       "text": [
        "\n",
        "Cluster centered in: id:3299102450, recurso:tetra:12082781, latitud:-0.224686428905, longitud:-0.67136824131, velocidad:0, orientacion:0, fecha:2015-02-17 10:50:46"
       ]
      },
      {
       "output_type": "stream",
       "stream": "stdout",
       "text": [
        "\n",
        "Cluster centered in: id:3299102581, recurso:tetra:12082781, latitud:-0.224684372544, longitud:-0.671367883682, velocidad:0, orientacion:0, fecha:2015-02-17 10:51:05"
       ]
      },
      {
       "output_type": "stream",
       "stream": "stdout",
       "text": [
        "\n",
        "Cluster centered in: id:3299102673, recurso:tetra:12082781, latitud:-0.22468586266, longitud:-0.671368837357, velocidad:0, orientacion:0, fecha:2015-02-17 10:51:29"
       ]
      },
      {
       "output_type": "stream",
       "stream": "stdout",
       "text": [
        "\n",
        "Cluster centered in: id:3299102802, recurso:tetra:12082781, latitud:-0.224686428905, longitud:-0.671369016171, velocidad:0, orientacion:0, fecha:2015-02-17 10:51:46"
       ]
      },
      {
       "output_type": "stream",
       "stream": "stdout",
       "text": [
        "\n",
        "Cluster centered in: id:3299102876, recurso:tetra:12082781, latitud:-0.224686607718, longitud:-0.671368479729, velocidad:0, orientacion:0, fecha:2015-02-17 10:52:05"
       ]
      },
      {
       "output_type": "stream",
       "stream": "stdout",
       "text": [
        "\n",
        "Cluster centered in: id:3299102967, recurso:tetra:12082781, latitud:-0.224686428905, longitud:-0.67136824131, velocidad:0, orientacion:0, fecha:2015-02-17 10:52:19"
       ]
      },
      {
       "output_type": "stream",
       "stream": "stdout",
       "text": [
        "\n",
        "Cluster centered in: id:3299103121, recurso:tetra:12082781, latitud:-0.224686428905, longitud:-0.671367883682, velocidad:0, orientacion:0, fecha:2015-02-17 10:52:36"
       ]
      },
      {
       "output_type": "stream",
       "stream": "stdout",
       "text": [
        "\n",
        "Cluster centered in: id:3299103219, recurso:tetra:12082781, latitud:-0.224684923887, longitud:-0.671367526054, velocidad:0, orientacion:0, fecha:2015-02-17 10:52:56"
       ]
      },
      {
       "output_type": "stream",
       "stream": "stdout",
       "text": [
        "\n",
        "Cluster centered in: id:3299103270, recurso:tetra:12082781, latitud:-0.224684551358, longitud:-0.67136734724, velocidad:0, orientacion:0, fecha:2015-02-17 10:53:15"
       ]
      },
      {
       "output_type": "stream",
       "stream": "stdout",
       "text": [
        "\n",
        "Cluster centered in: id:3299103282, recurso:tetra:12082781, latitud:-0.224684551358, longitud:-0.671366930008, velocidad:0, orientacion:0, fecha:2015-02-17 10:53:26"
       ]
      },
      {
       "output_type": "stream",
       "stream": "stdout",
       "text": [
        "\n",
        "Cluster centered in: id:3299103335, recurso:tetra:12082781, latitud:-0.224684551358, longitud:-0.671366930008, velocidad:0, orientacion:0, fecha:2015-02-17 10:53:51"
       ]
      },
      {
       "output_type": "stream",
       "stream": "stdout",
       "text": [
        "\n",
        "Cluster centered in: id:3299103444, recurso:tetra:12082781, latitud:-0.224684923887, longitud:-0.671366930008, velocidad:0, orientacion:0, fecha:2015-02-17 10:54:04"
       ]
      },
      {
       "output_type": "stream",
       "stream": "stdout",
       "text": [
        "\n",
        "Cluster centered in: id:3299103494, recurso:tetra:12082781, latitud:-0.224685117602, longitud:-0.671366930008, velocidad:1, orientacion:225, fecha:2015-02-17 10:54:29"
       ]
      },
      {
       "output_type": "stream",
       "stream": "stdout",
       "text": [
        "\n",
        "Cluster centered in: id:3299103571, recurso:tetra:12082781, latitud:-0.224685117602, longitud:-0.67136734724, velocidad:0, orientacion:45, fecha:2015-02-17 10:54:45"
       ]
      },
      {
       "output_type": "stream",
       "stream": "stdout",
       "text": [
        "\n",
        "Cluster centered in: id:3299103659, recurso:tetra:12082781, latitud:-0.224685490131, longitud:-0.671367883682, velocidad:0, orientacion:0, fecha:2015-02-17 10:55:05"
       ]
      },
      {
       "output_type": "stream",
       "stream": "stdout",
       "text": [
        "\n",
        "Cluster centered in: id:3299103804, recurso:tetra:12082781, latitud:-0.224685490131, longitud:-0.67136824131, velocidad:0, orientacion:0, fecha:2015-02-17 10:55:25"
       ]
      },
      {
       "output_type": "stream",
       "stream": "stdout",
       "text": [
        "\n",
        "Cluster centered in: id:3299103864, recurso:tetra:12082781, latitud:-0.224685117602, longitud:-0.67136824131, velocidad:0, orientacion:0, fecha:2015-02-17 10:55:49"
       ]
      },
      {
       "output_type": "stream",
       "stream": "stdout",
       "text": [
        "\n",
        "Cluster centered in: id:3299104020, recurso:tetra:12082781, latitud:-0.224685117602, longitud:-0.67136824131, velocidad:0, orientacion:0, fecha:2015-02-17 10:56:07"
       ]
      },
      {
       "output_type": "stream",
       "stream": "stdout",
       "text": [
        "\n",
        "Cluster centered in: id:3299104052, recurso:tetra:12082781, latitud:-0.224685490131, longitud:-0.67136824131, velocidad:0, orientacion:0, fecha:2015-02-17 10:56:23"
       ]
      },
      {
       "output_type": "stream",
       "stream": "stdout",
       "text": [
        "\n",
        "Cluster centered in: id:3299104166, recurso:tetra:12082781, latitud:-0.224685117602, longitud:-0.67136824131, velocidad:0, orientacion:0, fecha:2015-02-17 10:56:39"
       ]
      },
      {
       "output_type": "stream",
       "stream": "stdout",
       "text": [
        "\n",
        "Cluster centered in: id:3299104245, recurso:tetra:12082781, latitud:-0.224685117602, longitud:-0.67136824131, velocidad:0, orientacion:0, fecha:2015-02-17 10:56:54"
       ]
      },
      {
       "output_type": "stream",
       "stream": "stdout",
       "text": [
        "\n",
        "Cluster centered in: id:3299104346, recurso:tetra:12082781, latitud:-0.224684923887, longitud:-0.671368479729, velocidad:0, orientacion:0, fecha:2015-02-17 10:57:11"
       ]
      },
      {
       "output_type": "stream",
       "stream": "stdout",
       "text": [
        "\n",
        "Cluster centered in: id:3299104444, recurso:tetra:12082781, latitud:-0.224684923887, longitud:-0.671368479729, velocidad:0, orientacion:0, fecha:2015-02-17 10:57:36"
       ]
      },
      {
       "output_type": "stream",
       "stream": "stdout",
       "text": [
        "\n",
        "Cluster centered in: id:3299104580, recurso:tetra:12082781, latitud:-0.224684923887, longitud:-0.671368479729, velocidad:0, orientacion:0, fecha:2015-02-17 10:57:50"
       ]
      },
      {
       "output_type": "stream",
       "stream": "stdout",
       "text": [
        "\n",
        "Cluster centered in: id:3299104636, recurso:tetra:12082781, latitud:-0.224684923887, longitud:-0.671368837357, velocidad:0, orientacion:0, fecha:2015-02-17 10:58:19"
       ]
      },
      {
       "output_type": "stream",
       "stream": "stdout",
       "text": [
        "\n",
        "Cluster centered in: id:3299104749, recurso:tetra:12082781, latitud:-0.224685117602, longitud:-0.671368837357, velocidad:0, orientacion:180, fecha:2015-02-17 10:58:34"
       ]
      },
      {
       "output_type": "stream",
       "stream": "stdout",
       "text": [
        "\n",
        "Cluster centered in: id:3299104874, recurso:tetra:12082781, latitud:-0.224686428905, longitud:-0.67136824131, velocidad:0, orientacion:135, fecha:2015-02-17 10:58:50"
       ]
      },
      {
       "output_type": "stream",
       "stream": "stdout",
       "text": [
        "\n",
        "Cluster centered in: id:3299104992, recurso:tetra:12082781, latitud:-0.224686428905, longitud:-0.671367526054, velocidad:0, orientacion:0, fecha:2015-02-17 10:59:03"
       ]
      },
      {
       "output_type": "stream",
       "stream": "stdout",
       "text": [
        "\n",
        "Cluster centered in: id:3299105058, recurso:tetra:12082781, latitud:-0.224686056376, longitud:-0.671366393566, velocidad:0, orientacion:0, fecha:2015-02-17 10:59:39"
       ]
      },
      {
       "output_type": "stream",
       "stream": "stdout",
       "text": [
        "\n",
        "Cluster centered in: id:3299105186, recurso:tetra:12082781, latitud:-0.224686056376, longitud:-0.671366393566, velocidad:0, orientacion:0, fecha:2015-02-17 10:59:59"
       ]
      },
      {
       "output_type": "stream",
       "stream": "stdout",
       "text": [
        "\n",
        "Cluster centered in: id:3299105229, recurso:tetra:12082781, latitud:-0.22468586266, longitud:-0.671366393566, velocidad:0, orientacion:0, fecha:2015-02-17 11:00:15"
       ]
      },
      {
       "output_type": "stream",
       "stream": "stdout",
       "text": [
        "\n",
        "Cluster centered in: id:3299105318, recurso:tetra:12082781, latitud:-0.224685490131, longitud:-0.671366393566, velocidad:0, orientacion:0, fecha:2015-02-17 11:00:31"
       ]
      },
      {
       "output_type": "stream",
       "stream": "stdout",
       "text": [
        "\n",
        "Cluster centered in: id:3299105395, recurso:tetra:12082781, latitud:-0.224684923887, longitud:-0.671366751194, velocidad:0, orientacion:0, fecha:2015-02-17 11:00:52"
       ]
      },
      {
       "output_type": "stream",
       "stream": "stdout",
       "text": [
        "\n",
        "Cluster centered in: id:3299105520, recurso:tetra:12082781, latitud:-0.224684551358, longitud:-0.671366930008, velocidad:0, orientacion:0, fecha:2015-02-17 11:01:05"
       ]
      },
      {
       "output_type": "stream",
       "stream": "stdout",
       "text": [
        "\n",
        "Cluster centered in: id:3299105613, recurso:tetra:12082781, latitud:-0.224684551358, longitud:-0.67136734724, velocidad:0, orientacion:0, fecha:2015-02-17 11:01:23"
       ]
      },
      {
       "output_type": "stream",
       "stream": "stdout",
       "text": [
        "\n",
        "Cluster centered in: id:3299105622, recurso:tetra:12082781, latitud:-0.224684551358, longitud:-0.671367526054, velocidad:0, orientacion:0, fecha:2015-02-17 11:01:47"
       ]
      },
      {
       "output_type": "stream",
       "stream": "stdout",
       "text": [
        "\n",
        "Cluster centered in: id:3299105630, recurso:tetra:12082781, latitud:-0.224684551358, longitud:-0.671367526054, velocidad:0, orientacion:0, fecha:2015-02-17 11:02:10"
       ]
      },
      {
       "output_type": "stream",
       "stream": "stdout",
       "text": [
        "\n",
        "Cluster centered in: id:3299105785, recurso:tetra:12082781, latitud:-0.224684551358, longitud:-0.671367526054, velocidad:0, orientacion:0, fecha:2015-02-17 11:02:29"
       ]
      },
      {
       "output_type": "stream",
       "stream": "stdout",
       "text": [
        "\n",
        "Cluster centered in: id:3299105856, recurso:tetra:12082781, latitud:-0.224684551358, longitud:-0.671367526054, velocidad:0, orientacion:0, fecha:2015-02-17 11:02:47"
       ]
      },
      {
       "output_type": "stream",
       "stream": "stdout",
       "text": [
        "\n",
        "Cluster centered in: id:3299105946, recurso:tetra:12082781, latitud:-0.224684551358, longitud:-0.671367526054, velocidad:0, orientacion:0, fecha:2015-02-17 11:03:00"
       ]
      },
      {
       "output_type": "stream",
       "stream": "stdout",
       "text": [
        "\n",
        "Cluster centered in: id:3299106022, recurso:tetra:12082781, latitud:-0.224685117602, longitud:-0.671367526054, velocidad:0, orientacion:0, fecha:2015-02-17 11:03:18"
       ]
      },
      {
       "output_type": "stream",
       "stream": "stdout",
       "text": [
        "\n",
        "Cluster centered in: id:3299106121, recurso:tetra:12082781, latitud:-0.224684923887, longitud:-0.671367526054, velocidad:0, orientacion:0, fecha:2015-02-17 11:03:31"
       ]
      },
      {
       "output_type": "stream",
       "stream": "stdout",
       "text": [
        "\n",
        "Cluster centered in: id:3299106211, recurso:tetra:12082781, latitud:-0.224685490131, longitud:-0.671367883682, velocidad:0, orientacion:0, fecha:2015-02-17 11:03:58"
       ]
      },
      {
       "output_type": "stream",
       "stream": "stdout",
       "text": [
        "\n",
        "Cluster centered in: id:3299106346, recurso:tetra:12082781, latitud:-0.224685490131, longitud:-0.671367883682, velocidad:0, orientacion:0, fecha:2015-02-17 11:04:11"
       ]
      },
      {
       "output_type": "stream",
       "stream": "stdout",
       "text": [
        "\n",
        "Cluster centered in: id:3299106383, recurso:tetra:12082781, latitud:-0.224685490131, longitud:-0.67136824131, velocidad:0, orientacion:0, fecha:2015-02-17 11:04:27"
       ]
      },
      {
       "output_type": "stream",
       "stream": "stdout",
       "text": [
        "\n",
        "Cluster centered in: id:3299106566, recurso:tetra:12082781, latitud:-0.224685490131, longitud:-0.67136824131, velocidad:0, orientacion:0, fecha:2015-02-17 11:04:43"
       ]
      },
      {
       "output_type": "stream",
       "stream": "stdout",
       "text": [
        "\n",
        "Cluster centered in: id:3299106702, recurso:tetra:12082781, latitud:-0.224685490131, longitud:-0.67136824131, velocidad:0, orientacion:225, fecha:2015-02-17 11:04:55"
       ]
      },
      {
       "output_type": "stream",
       "stream": "stdout",
       "text": [
        "\n",
        "Cluster centered in: id:3299106756, recurso:tetra:12082781, latitud:-0.224685117602, longitud:-0.671367883682, velocidad:0, orientacion:0, fecha:2015-02-17 11:05:15"
       ]
      },
      {
       "output_type": "stream",
       "stream": "stdout",
       "text": [
        "\n",
        "Cluster centered in: id:3299106787, recurso:tetra:12082781, latitud:-0.224684923887, longitud:-0.671367883682, velocidad:0, orientacion:0, fecha:2015-02-17 11:05:37"
       ]
      },
      {
       "output_type": "stream",
       "stream": "stdout",
       "text": [
        "\n",
        "Cluster centered in: id:3299106789, recurso:tetra:12082781, latitud:-0.224685117602, longitud:-0.671368479729, velocidad:0, orientacion:0, fecha:2015-02-17 11:05:55"
       ]
      },
      {
       "output_type": "stream",
       "stream": "stdout",
       "text": [
        "\n",
        "Cluster centered in: id:3299106859, recurso:tetra:12082781, latitud:-0.224686056376, longitud:-0.671369016171, velocidad:0, orientacion:0, fecha:2015-02-17 11:06:11"
       ]
      },
      {
       "output_type": "stream",
       "stream": "stdout",
       "text": [
        "\n",
        "Cluster centered in: id:3299106967, recurso:tetra:12082781, latitud:-0.224686056376, longitud:-0.671369552612, velocidad:0, orientacion:0, fecha:2015-02-17 11:06:28"
       ]
      },
      {
       "output_type": "stream",
       "stream": "stdout",
       "text": [
        "\n",
        "Cluster centered in: id:3299107014, recurso:tetra:12082781, latitud:-0.224686056376, longitud:-0.671369552612, velocidad:0, orientacion:0, fecha:2015-02-17 11:06:43"
       ]
      },
      {
       "output_type": "stream",
       "stream": "stdout",
       "text": [
        "\n",
        "Cluster centered in: id:3299107101, recurso:tetra:12082781, latitud:-0.224686056376, longitud:-0.671369969845, velocidad:0, orientacion:225, fecha:2015-02-17 11:07:07"
       ]
      },
      {
       "output_type": "stream",
       "stream": "stdout",
       "text": [
        "\n",
        "Cluster centered in: id:3299107186, recurso:tetra:12082781, latitud:-0.22468586266, longitud:-0.671370148659, velocidad:0, orientacion:0, fecha:2015-02-17 11:07:24"
       ]
      },
      {
       "output_type": "stream",
       "stream": "stdout",
       "text": [
        "\n",
        "Cluster centered in: id:3299107342, recurso:tetra:12082781, latitud:-0.224686056376, longitud:-0.671370148659, velocidad:0, orientacion:0, fecha:2015-02-17 11:07:39"
       ]
      },
      {
       "output_type": "stream",
       "stream": "stdout",
       "text": [
        "\n",
        "Cluster centered in: id:3299107365, recurso:tetra:12082781, latitud:-0.224686428905, longitud:-0.671369969845, velocidad:0, orientacion:0, fecha:2015-02-17 11:08:05"
       ]
      },
      {
       "output_type": "stream",
       "stream": "stdout",
       "text": [
        "\n",
        "Cluster centered in: id:3299107511, recurso:tetra:12082781, latitud:-0.224686428905, longitud:-0.671369969845, velocidad:0, orientacion:0, fecha:2015-02-17 11:08:22"
       ]
      },
      {
       "output_type": "stream",
       "stream": "stdout",
       "text": [
        "\n",
        "Cluster centered in: id:3299107538, recurso:tetra:12082781, latitud:-0.224686428905, longitud:-0.671369969845, velocidad:0, orientacion:0, fecha:2015-02-17 11:08:39"
       ]
      },
      {
       "output_type": "stream",
       "stream": "stdout",
       "text": [
        "\n",
        "Cluster centered in: id:3299107653, recurso:tetra:12082781, latitud:-0.224686428905, longitud:-0.671369552612, velocidad:0, orientacion:0, fecha:2015-02-17 11:08:52"
       ]
      },
      {
       "output_type": "stream",
       "stream": "stdout",
       "text": [
        "\n",
        "Cluster centered in: id:3299107723, recurso:tetra:12082781, latitud:-0.224686428905, longitud:-0.671369552612, velocidad:0, orientacion:0, fecha:2015-02-17 11:09:06"
       ]
      },
      {
       "output_type": "stream",
       "stream": "stdout",
       "text": [
        "\n",
        "Cluster centered in: id:3299107921, recurso:tetra:12082781, latitud:-0.224686428905, longitud:-0.671369552612, velocidad:0, orientacion:0, fecha:2015-02-17 11:09:22"
       ]
      },
      {
       "output_type": "stream",
       "stream": "stdout",
       "text": [
        "\n",
        "Cluster centered in: id:3299108018, recurso:tetra:12082781, latitud:-0.224685490131, longitud:-0.671369552612, velocidad:0, orientacion:0, fecha:2015-02-17 11:09:53"
       ]
      },
      {
       "output_type": "stream",
       "stream": "stdout",
       "text": [
        "\n",
        "Cluster centered in: id:3299108101, recurso:tetra:12082781, latitud:-0.224685490131, longitud:-0.671369552612, velocidad:0, orientacion:0, fecha:2015-02-17 11:10:07"
       ]
      },
      {
       "output_type": "stream",
       "stream": "stdout",
       "text": [
        "\n",
        "Cluster centered in: id:3299108201, recurso:tetra:12082781, latitud:-0.224685490131, longitud:-0.671369373798, velocidad:0, orientacion:0, fecha:2015-02-17 11:10:26"
       ]
      },
      {
       "output_type": "stream",
       "stream": "stdout",
       "text": [
        "\n",
        "Cluster centered in: id:3299108312, recurso:tetra:12082781, latitud:-0.224687919021, longitud:-0.671367526054, velocidad:0, orientacion:0, fecha:2015-02-17 11:10:50"
       ]
      },
      {
       "output_type": "stream",
       "stream": "stdout",
       "text": [
        "\n",
        "Cluster centered in: id:3299108416, recurso:tetra:12082781, latitud:-0.224688112736, longitud:-0.671367526054, velocidad:0, orientacion:0, fecha:2015-02-17 11:11:09"
       ]
      },
      {
       "output_type": "stream",
       "stream": "stdout",
       "text": [
        "\n",
        "Cluster centered in: id:3299108501, recurso:tetra:12082781, latitud:-0.224688112736, longitud:-0.671367526054, velocidad:0, orientacion:0, fecha:2015-02-17 11:11:27"
       ]
      },
      {
       "output_type": "stream",
       "stream": "stdout",
       "text": [
        "\n",
        "Cluster centered in: id:3299108590, recurso:tetra:12082781, latitud:-0.224688306451, longitud:-0.671367526054, velocidad:0, orientacion:0, fecha:2015-02-17 11:11:46"
       ]
      },
      {
       "output_type": "stream",
       "stream": "stdout",
       "text": [
        "\n",
        "Cluster centered in: id:3299108682, recurso:tetra:12082781, latitud:-0.224688306451, longitud:-0.671367526054, velocidad:0, orientacion:0, fecha:2015-02-17 11:12:07"
       ]
      },
      {
       "output_type": "stream",
       "stream": "stdout",
       "text": [
        "\n",
        "Cluster centered in: id:3299108753, recurso:tetra:12082781, latitud:-0.22468867898, longitud:-0.671367526054, velocidad:0, orientacion:0, fecha:2015-02-17 11:12:25"
       ]
      },
      {
       "output_type": "stream",
       "stream": "stdout",
       "text": [
        "\n",
        "Cluster centered in: id:3299108812, recurso:tetra:12082781, latitud:-0.22468867898, longitud:-0.671367526054, velocidad:0, orientacion:0, fecha:2015-02-17 11:12:37"
       ]
      },
      {
       "output_type": "stream",
       "stream": "stdout",
       "text": [
        "\n",
        "Cluster centered in: id:3299108991, recurso:tetra:12082781, latitud:-0.224688306451, longitud:-0.671367883682, velocidad:0, orientacion:0, fecha:2015-02-17 11:12:51"
       ]
      },
      {
       "output_type": "stream",
       "stream": "stdout",
       "text": [
        "\n",
        "Cluster centered in: id:3299109050, recurso:tetra:12082781, latitud:-0.224687919021, longitud:-0.67136824131, velocidad:0, orientacion:180, fecha:2015-02-17 11:13:08"
       ]
      },
      {
       "output_type": "stream",
       "stream": "stdout",
       "text": [
        "\n",
        "Cluster centered in: id:3299109069, recurso:tetra:12082781, latitud:-0.224686607718, longitud:-0.671368479729, velocidad:0, orientacion:0, fecha:2015-02-17 11:13:26"
       ]
      },
      {
       "output_type": "stream",
       "stream": "stdout",
       "text": [
        "\n",
        "Cluster centered in: id:3299109072, recurso:tetra:12082781, latitud:-0.224686995149, longitud:-0.671368479729, velocidad:0, orientacion:0, fecha:2015-02-17 11:13:47"
       ]
      },
      {
       "output_type": "stream",
       "stream": "stdout",
       "text": [
        "\n",
        "Cluster centered in: id:3299109207, recurso:tetra:12082781, latitud:-0.224686607718, longitud:-0.671368479729, velocidad:0, orientacion:0, fecha:2015-02-17 11:14:04"
       ]
      },
      {
       "output_type": "stream",
       "stream": "stdout",
       "text": [
        "\n",
        "Cluster centered in: id:3299109244, recurso:tetra:12082781, latitud:-0.224686607718, longitud:-0.671368479729, velocidad:0, orientacion:0, fecha:2015-02-17 11:14:17"
       ]
      },
      {
       "output_type": "stream",
       "stream": "stdout",
       "text": [
        "\n",
        "Cluster centered in: id:3299109339, recurso:tetra:12082781, latitud:-0.224686607718, longitud:-0.671368479729, velocidad:0, orientacion:0, fecha:2015-02-17 11:14:36"
       ]
      },
      {
       "output_type": "stream",
       "stream": "stdout",
       "text": [
        "\n",
        "Cluster centered in: id:3299109423, recurso:tetra:12082781, latitud:-0.224686607718, longitud:-0.671368479729, velocidad:0, orientacion:0, fecha:2015-02-17 11:14:50"
       ]
      },
      {
       "output_type": "stream",
       "stream": "stdout",
       "text": [
        "\n",
        "Cluster centered in: id:3299109614, recurso:tetra:12082781, latitud:-0.224686428905, longitud:-0.671368479729, velocidad:0, orientacion:135, fecha:2015-02-17 11:15:09"
       ]
      },
      {
       "output_type": "stream",
       "stream": "stdout",
       "text": [
        "\n",
        "Cluster centered in: id:3299109731, recurso:tetra:12082781, latitud:-0.22468586266, longitud:-0.671368479729, velocidad:0, orientacion:0, fecha:2015-02-17 11:15:38"
       ]
      },
      {
       "output_type": "stream",
       "stream": "stdout",
       "text": [
        "\n",
        "Cluster centered in: id:3299109809, recurso:tetra:12082781, latitud:-0.224684923887, longitud:-0.671369016171, velocidad:0, orientacion:0, fecha:2015-02-17 11:16:08"
       ]
      },
      {
       "output_type": "stream",
       "stream": "stdout",
       "text": [
        "\n",
        "Cluster centered in: id:3299109935, recurso:tetra:12082781, latitud:-0.224684923887, longitud:-0.671369016171, velocidad:0, orientacion:0, fecha:2015-02-17 11:16:25"
       ]
      },
      {
       "output_type": "stream",
       "stream": "stdout",
       "text": [
        "\n",
        "Cluster centered in: id:3299109999, recurso:tetra:12082781, latitud:-0.224685117602, longitud:-0.671369016171, velocidad:0, orientacion:0, fecha:2015-02-17 11:16:41"
       ]
      },
      {
       "output_type": "stream",
       "stream": "stdout",
       "text": [
        "\n",
        "Cluster centered in: id:3299110130, recurso:tetra:12082781, latitud:-0.224685117602, longitud:-0.671369552612, velocidad:0, orientacion:0, fecha:2015-02-17 11:17:00"
       ]
      },
      {
       "output_type": "stream",
       "stream": "stdout",
       "text": [
        "\n",
        "Cluster centered in: id:3299110210, recurso:tetra:12082781, latitud:-0.224684372544, longitud:-0.671369969845, velocidad:0, orientacion:0, fecha:2015-02-17 11:17:22"
       ]
      },
      {
       "output_type": "stream",
       "stream": "stdout",
       "text": [
        "\n",
        "Cluster centered in: id:3299110219, recurso:tetra:12082781, latitud:-0.224684372544, longitud:-0.671369969845, velocidad:0, orientacion:0, fecha:2015-02-17 11:17:55"
       ]
      },
      {
       "output_type": "stream",
       "stream": "stdout",
       "text": [
        "\n",
        "Cluster centered in: id:3299110351, recurso:tetra:12082781, latitud:-0.224684551358, longitud:-0.671369552612, velocidad:0, orientacion:112, fecha:2015-02-17 11:18:10"
       ]
      },
      {
       "output_type": "stream",
       "stream": "stdout",
       "text": [
        "\n",
        "Cluster centered in: id:3299110389, recurso:tetra:12082781, latitud:-0.22468586266, longitud:-0.671368837357, velocidad:0, orientacion:157, fecha:2015-02-17 11:18:27"
       ]
      },
      {
       "output_type": "stream",
       "stream": "stdout",
       "text": [
        "\n",
        "Cluster centered in: id:3299110456, recurso:tetra:12082781, latitud:-0.224686607718, longitud:-0.671368837357, velocidad:0, orientacion:0, fecha:2015-02-17 11:18:40"
       ]
      },
      {
       "output_type": "stream",
       "stream": "stdout",
       "text": [
        "\n",
        "Cluster centered in: id:3299110549, recurso:tetra:12082781, latitud:-0.224686607718, longitud:-0.671368479729, velocidad:0, orientacion:0, fecha:2015-02-17 11:18:56"
       ]
      },
      {
       "output_type": "stream",
       "stream": "stdout",
       "text": [
        "\n",
        "Cluster centered in: id:3299110634, recurso:tetra:12082781, latitud:-0.224686995149, longitud:-0.671368479729, velocidad:0, orientacion:0, fecha:2015-02-17 11:19:08"
       ]
      },
      {
       "output_type": "stream",
       "stream": "stdout",
       "text": [
        "\n",
        "Cluster centered in: id:3299110773, recurso:tetra:12082781, latitud:-0.224686995149, longitud:-0.671368479729, velocidad:0, orientacion:0, fecha:2015-02-17 11:19:22"
       ]
      },
      {
       "output_type": "stream",
       "stream": "stdout",
       "text": [
        "\n",
        "Cluster centered in: id:3299110794, recurso:tetra:12082781, latitud:-0.224689051509, longitud:-0.671367526054, velocidad:1, orientacion:157, fecha:2015-02-17 11:19:45"
       ]
      },
      {
       "output_type": "stream",
       "stream": "stdout",
       "text": [
        "\n",
        "Cluster centered in: id:3299110921, recurso:tetra:12082781, latitud:-0.224686428905, longitud:-0.67136824131, velocidad:0, orientacion:0, fecha:2015-02-17 11:20:00"
       ]
      },
      {
       "output_type": "stream",
       "stream": "stdout",
       "text": [
        "\n",
        "Cluster centered in: id:3299110965, recurso:tetra:12082781, latitud:-0.22468586266, longitud:-0.671368479729, velocidad:0, orientacion:0, fecha:2015-02-17 11:20:16"
       ]
      },
      {
       "output_type": "stream",
       "stream": "stdout",
       "text": [
        "\n",
        "Cluster centered in: id:3299111080, recurso:tetra:12082781, latitud:-0.224686056376, longitud:-0.67136824131, velocidad:0, orientacion:315, fecha:2015-02-17 11:20:29"
       ]
      },
      {
       "output_type": "stream",
       "stream": "stdout",
       "text": [
        "\n",
        "Cluster centered in: id:3299111200, recurso:tetra:12082781, latitud:-0.224686607718, longitud:-0.67136824131, velocidad:0, orientacion:0, fecha:2015-02-17 11:20:56"
       ]
      },
      {
       "output_type": "stream",
       "stream": "stdout",
       "text": [
        "\n",
        "Cluster centered in: id:3299111298, recurso:tetra:12082781, latitud:-0.224686428905, longitud:-0.671367883682, velocidad:0, orientacion:0, fecha:2015-02-17 11:21:20"
       ]
      },
      {
       "output_type": "stream",
       "stream": "stdout",
       "text": [
        "\n",
        "Cluster centered in: id:3299111385, recurso:tetra:12082781, latitud:-0.224686428905, longitud:-0.671367883682, velocidad:0, orientacion:0, fecha:2015-02-17 11:21:40"
       ]
      },
      {
       "output_type": "stream",
       "stream": "stdout",
       "text": [
        "\n",
        "Cluster centered in: id:3299111506, recurso:tetra:12082781, latitud:-0.224686056376, longitud:-0.67136824131, velocidad:0, orientacion:0, fecha:2015-02-17 11:21:58"
       ]
      },
      {
       "output_type": "stream",
       "stream": "stdout",
       "text": [
        "\n",
        "Cluster centered in: id:3299111609, recurso:tetra:12082781, latitud:-0.22468586266, longitud:-0.671368479729, velocidad:0, orientacion:0, fecha:2015-02-17 11:22:12"
       ]
      },
      {
       "output_type": "stream",
       "stream": "stdout",
       "text": [
        "\n",
        "Cluster centered in: id:3299111702, recurso:tetra:12082781, latitud:-0.224685117602, longitud:-0.671369373798, velocidad:0, orientacion:0, fecha:2015-02-17 11:22:30"
       ]
      },
      {
       "output_type": "stream",
       "stream": "stdout",
       "text": [
        "\n",
        "Cluster centered in: id:3299111787, recurso:tetra:12082781, latitud:-0.22468586266, longitud:-0.671369969845, velocidad:0, orientacion:0, fecha:2015-02-17 11:22:44"
       ]
      },
      {
       "output_type": "stream",
       "stream": "stdout",
       "text": [
        "\n",
        "Cluster centered in: id:3299111891, recurso:tetra:12082781, latitud:-0.224686056376, longitud:-0.671370506287, velocidad:0, orientacion:0, fecha:2015-02-17 11:23:00"
       ]
      },
      {
       "output_type": "stream",
       "stream": "stdout",
       "text": [
        "\n",
        "Cluster centered in: id:3299111967, recurso:tetra:12082781, latitud:-0.224686056376, longitud:-0.671370506287, velocidad:0, orientacion:0, fecha:2015-02-17 11:23:24"
       ]
      },
      {
       "output_type": "stream",
       "stream": "stdout",
       "text": [
        "\n",
        "Cluster centered in: id:3299112088, recurso:tetra:12082781, latitud:-0.224686056376, longitud:-0.671370148659, velocidad:0, orientacion:0, fecha:2015-02-17 11:23:38"
       ]
      },
      {
       "output_type": "stream",
       "stream": "stdout",
       "text": [
        "\n",
        "Cluster centered in: id:3299112153, recurso:tetra:12082781, latitud:-0.22468586266, longitud:-0.671370148659, velocidad:0, orientacion:0, fecha:2015-02-17 11:23:56"
       ]
      },
      {
       "output_type": "stream",
       "stream": "stdout",
       "text": [
        "\n",
        "Cluster centered in: id:3299112223, recurso:tetra:12082781, latitud:-0.22468586266, longitud:-0.671370148659, velocidad:0, orientacion:0, fecha:2015-02-17 11:24:10"
       ]
      },
      {
       "output_type": "stream",
       "stream": "stdout",
       "text": [
        "\n",
        "Cluster centered in: id:3299112308, recurso:tetra:12082781, latitud:-0.22468586266, longitud:-0.671370148659, velocidad:0, orientacion:0, fecha:2015-02-17 11:24:27"
       ]
      },
      {
       "output_type": "stream",
       "stream": "stdout",
       "text": [
        "\n",
        "Cluster centered in: id:3299112439, recurso:tetra:12082781, latitud:-0.224685490131, longitud:-0.671370148659, velocidad:0, orientacion:0, fecha:2015-02-17 11:24:42"
       ]
      },
      {
       "output_type": "stream",
       "stream": "stdout",
       "text": [
        "\n",
        "Cluster centered in: id:3299112497, recurso:tetra:12082781, latitud:-0.224685117602, longitud:-0.671369969845, velocidad:0, orientacion:157, fecha:2015-02-17 11:24:58"
       ]
      },
      {
       "output_type": "stream",
       "stream": "stdout",
       "text": [
        "\n",
        "Cluster centered in: id:3299112499, recurso:tetra:12082781, latitud:-0.224685117602, longitud:-0.671369969845, velocidad:0, orientacion:0, fecha:2015-02-17 11:25:12"
       ]
      },
      {
       "output_type": "stream",
       "stream": "stdout",
       "text": [
        "\n",
        "Cluster centered in: id:3299112551, recurso:tetra:12082781, latitud:-0.224685490131, longitud:-0.671369552612, velocidad:0, orientacion:0, fecha:2015-02-17 11:25:37"
       ]
      },
      {
       "output_type": "stream",
       "stream": "stdout",
       "text": [
        "\n",
        "Cluster centered in: id:3299112670, recurso:tetra:12082781, latitud:-0.224685117602, longitud:-0.671369552612, velocidad:0, orientacion:0, fecha:2015-02-17 11:25:52"
       ]
      },
      {
       "output_type": "stream",
       "stream": "stdout",
       "text": [
        "\n",
        "Cluster centered in: id:3299112732, recurso:tetra:12082781, latitud:-0.224685117602, longitud:-0.671369552612, velocidad:0, orientacion:0, fecha:2015-02-17 11:26:12"
       ]
      },
      {
       "output_type": "stream",
       "stream": "stdout",
       "text": [
        "\n",
        "Cluster centered in: id:3299112939, recurso:tetra:12082781, latitud:-0.224685117602, longitud:-0.671369016171, velocidad:0, orientacion:0, fecha:2015-02-17 11:26:31"
       ]
      },
      {
       "output_type": "stream",
       "stream": "stdout",
       "text": [
        "\n",
        "Cluster centered in: id:3299113021, recurso:tetra:12082781, latitud:-0.224685117602, longitud:-0.671369016171, velocidad:0, orientacion:0, fecha:2015-02-17 11:26:44"
       ]
      },
      {
       "output_type": "stream",
       "stream": "stdout",
       "text": [
        "\n",
        "Cluster centered in: id:3299113149, recurso:tetra:12082781, latitud:-0.224685490131, longitud:-0.671369373798, velocidad:0, orientacion:0, fecha:2015-02-17 11:27:12"
       ]
      },
      {
       "output_type": "stream",
       "stream": "stdout",
       "text": [
        "\n",
        "Cluster centered in: id:3299113212, recurso:tetra:12082781, latitud:-0.224685117602, longitud:-0.671369016171, velocidad:1, orientacion:0, fecha:2015-02-17 11:27:28"
       ]
      },
      {
       "output_type": "stream",
       "stream": "stdout",
       "text": [
        "\n",
        "Cluster centered in: id:3299113319, recurso:tetra:12082781, latitud:-0.224685490131, longitud:-0.671369016171, velocidad:0, orientacion:0, fecha:2015-02-17 11:27:44"
       ]
      },
      {
       "output_type": "stream",
       "stream": "stdout",
       "text": [
        "\n",
        "Cluster centered in: id:3299113380, recurso:tetra:12082781, latitud:-0.224685490131, longitud:-0.671369016171, velocidad:0, orientacion:0, fecha:2015-02-17 11:27:56"
       ]
      },
      {
       "output_type": "stream",
       "stream": "stdout",
       "text": [
        "\n",
        "Cluster centered in: id:3299113452, recurso:tetra:12082781, latitud:-0.224685490131, longitud:-0.671369373798, velocidad:0, orientacion:0, fecha:2015-02-17 11:28:12"
       ]
      },
      {
       "output_type": "stream",
       "stream": "stdout",
       "text": [
        "\n",
        "Cluster centered in: id:3299113630, recurso:tetra:12082781, latitud:-0.22468586266, longitud:-0.671369373798, velocidad:0, orientacion:0, fecha:2015-02-17 11:28:32"
       ]
      },
      {
       "output_type": "stream",
       "stream": "stdout",
       "text": [
        "\n",
        "Cluster centered in: id:3299113635, recurso:tetra:12082781, latitud:-0.22468586266, longitud:-0.671369373798, velocidad:0, orientacion:0, fecha:2015-02-17 11:28:51"
       ]
      },
      {
       "output_type": "stream",
       "stream": "stdout",
       "text": [
        "\n",
        "Cluster centered in: id:3299113671, recurso:tetra:12082781, latitud:-0.22468586266, longitud:-0.671369373798, velocidad:0, orientacion:0, fecha:2015-02-17 11:29:15"
       ]
      },
      {
       "output_type": "stream",
       "stream": "stdout",
       "text": [
        "\n",
        "Cluster centered in: id:3299113748, recurso:tetra:12082781, latitud:-0.22468586266, longitud:-0.671369373798, velocidad:0, orientacion:0, fecha:2015-02-17 11:29:29"
       ]
      },
      {
       "output_type": "stream",
       "stream": "stdout",
       "text": [
        "\n",
        "Cluster centered in: id:3299113840, recurso:tetra:12082781, latitud:-0.22468586266, longitud:-0.671369373798, velocidad:0, orientacion:0, fecha:2015-02-17 11:29:41"
       ]
      },
      {
       "output_type": "stream",
       "stream": "stdout",
       "text": [
        "\n",
        "Cluster centered in: id:3299113911, recurso:tetra:12082781, latitud:-0.22468586266, longitud:-0.671369373798, velocidad:0, orientacion:0, fecha:2015-02-17 11:29:55"
       ]
      },
      {
       "output_type": "stream",
       "stream": "stdout",
       "text": [
        "\n",
        "Cluster centered in: id:3299113960, recurso:tetra:12082781, latitud:-0.22468586266, longitud:-0.671369373798, velocidad:0, orientacion:0, fecha:2015-02-17 11:30:11"
       ]
      },
      {
       "output_type": "stream",
       "stream": "stdout",
       "text": [
        "\n",
        "Cluster centered in: id:3299114011, recurso:tetra:12082781, latitud:-0.224686056376, longitud:-0.671369016171, velocidad:0, orientacion:0, fecha:2015-02-17 11:30:24"
       ]
      },
      {
       "output_type": "stream",
       "stream": "stdout",
       "text": [
        "\n",
        "Cluster centered in: id:3299114154, recurso:tetra:12082781, latitud:-0.224686056376, longitud:-0.671369016171, velocidad:0, orientacion:0, fecha:2015-02-17 11:30:42"
       ]
      },
      {
       "output_type": "stream",
       "stream": "stdout",
       "text": [
        "\n",
        "Cluster centered in: id:3299114222, recurso:tetra:12082781, latitud:-0.224686428905, longitud:-0.671369373798, velocidad:0, orientacion:0, fecha:2015-02-17 11:31:14"
       ]
      },
      {
       "output_type": "stream",
       "stream": "stdout",
       "text": [
        "\n",
        "Cluster centered in: id:3299114309, recurso:tetra:12082781, latitud:-0.224686428905, longitud:-0.671369016171, velocidad:0, orientacion:0, fecha:2015-02-17 11:31:31"
       ]
      },
      {
       "output_type": "stream",
       "stream": "stdout",
       "text": [
        "\n",
        "Cluster centered in: id:3299114396, recurso:tetra:12082781, latitud:-0.224686607718, longitud:-0.671368837357, velocidad:0, orientacion:0, fecha:2015-02-17 11:31:46"
       ]
      },
      {
       "output_type": "stream",
       "stream": "stdout",
       "text": [
        "\n",
        "Cluster centered in: id:3299114479, recurso:tetra:12082781, latitud:-0.224686607718, longitud:-0.671368479729, velocidad:0, orientacion:0, fecha:2015-02-17 11:32:03"
       ]
      },
      {
       "output_type": "stream",
       "stream": "stdout",
       "text": [
        "\n",
        "Cluster centered in: id:3299114686, recurso:tetra:12082781, latitud:-0.224686607718, longitud:-0.671368479729, velocidad:0, orientacion:0, fecha:2015-02-17 11:32:19"
       ]
      },
      {
       "output_type": "stream",
       "stream": "stdout",
       "text": [
        "\n",
        "Cluster centered in: id:3299114763, recurso:tetra:12082781, latitud:-0.224686428905, longitud:-0.671368479729, velocidad:0, orientacion:0, fecha:2015-02-17 11:32:39"
       ]
      },
      {
       "output_type": "stream",
       "stream": "stdout",
       "text": [
        "\n",
        "Cluster centered in: id:3299114838, recurso:tetra:12082781, latitud:-0.224686428905, longitud:-0.671368479729, velocidad:0, orientacion:0, fecha:2015-02-17 11:32:58"
       ]
      },
      {
       "output_type": "stream",
       "stream": "stdout",
       "text": [
        "\n",
        "Cluster centered in: id:3299114937, recurso:tetra:12082781, latitud:-0.224686428905, longitud:-0.671368479729, velocidad:0, orientacion:0, fecha:2015-02-17 11:33:13"
       ]
      },
      {
       "output_type": "stream",
       "stream": "stdout",
       "text": [
        "\n",
        "Cluster centered in: id:3299115052, recurso:tetra:12082781, latitud:-0.224686428905, longitud:-0.671368479729, velocidad:0, orientacion:0, fecha:2015-02-17 11:33:30"
       ]
      },
      {
       "output_type": "stream",
       "stream": "stdout",
       "text": [
        "\n",
        "Cluster centered in: id:3299115119, recurso:tetra:12082781, latitud:-0.224686607718, longitud:-0.671368837357, velocidad:0, orientacion:0, fecha:2015-02-17 11:33:46"
       ]
      },
      {
       "output_type": "stream",
       "stream": "stdout",
       "text": [
        "\n",
        "Cluster centered in: id:3299115217, recurso:tetra:12082781, latitud:-0.224686056376, longitud:-0.671369016171, velocidad:0, orientacion:22, fecha:2015-02-17 11:34:01"
       ]
      },
      {
       "output_type": "stream",
       "stream": "stdout",
       "text": [
        "\n",
        "Cluster centered in: id:3299115330, recurso:tetra:12082781, latitud:-0.224686428905, longitud:-0.671369373798, velocidad:0, orientacion:0, fecha:2015-02-17 11:34:22"
       ]
      },
      {
       "output_type": "stream",
       "stream": "stdout",
       "text": [
        "\n",
        "Cluster centered in: id:3299115380, recurso:tetra:12082781, latitud:-0.224686607718, longitud:-0.671369552612, velocidad:0, orientacion:0, fecha:2015-02-17 11:34:39"
       ]
      },
      {
       "output_type": "stream",
       "stream": "stdout",
       "text": [
        "\n",
        "Cluster centered in: id:3299115515, recurso:tetra:12082781, latitud:-0.224686995149, longitud:-0.671369552612, velocidad:0, orientacion:0, fecha:2015-02-17 11:34:57"
       ]
      },
      {
       "output_type": "stream",
       "stream": "stdout",
       "text": [
        "\n",
        "Cluster centered in: id:3299115574, recurso:tetra:12082781, latitud:-0.224686995149, longitud:-0.671369552612, velocidad:0, orientacion:0, fecha:2015-02-17 11:35:15"
       ]
      },
      {
       "output_type": "stream",
       "stream": "stdout",
       "text": [
        "\n",
        "Cluster centered in: id:3299115636, recurso:tetra:12082781, latitud:-0.224686995149, longitud:-0.671369552612, velocidad:0, orientacion:0, fecha:2015-02-17 11:35:32"
       ]
      },
      {
       "output_type": "stream",
       "stream": "stdout",
       "text": [
        "\n",
        "Cluster centered in: id:3299115696, recurso:tetra:12082781, latitud:-0.224686995149, longitud:-0.671369552612, velocidad:0, orientacion:0, fecha:2015-02-17 11:35:48"
       ]
      },
      {
       "output_type": "stream",
       "stream": "stdout",
       "text": [
        "\n",
        "Cluster centered in: id:3299115833, recurso:tetra:12082781, latitud:-0.224686995149, longitud:-0.671369552612, velocidad:0, orientacion:0, fecha:2015-02-17 11:36:04"
       ]
      },
      {
       "output_type": "stream",
       "stream": "stdout",
       "text": [
        "\n",
        "Cluster centered in: id:3299115906, recurso:tetra:12082781, latitud:-0.224686995149, longitud:-0.671369552612, velocidad:0, orientacion:0, fecha:2015-02-17 11:36:28"
       ]
      },
      {
       "output_type": "stream",
       "stream": "stdout",
       "text": [
        "\n",
        "Cluster centered in: id:3299115911, recurso:tetra:12082781, latitud:-0.224686607718, longitud:-0.671369969845, velocidad:0, orientacion:0, fecha:2015-02-17 11:37:06"
       ]
      },
      {
       "output_type": "stream",
       "stream": "stdout",
       "text": [
        "\n",
        "Cluster centered in: id:3299116026, recurso:tetra:12082781, latitud:-0.224686607718, longitud:-0.671369969845, velocidad:0, orientacion:0, fecha:2015-02-17 11:37:29"
       ]
      },
      {
       "output_type": "stream",
       "stream": "stdout",
       "text": [
        "\n",
        "Cluster centered in: id:3299116082, recurso:tetra:12082781, latitud:-0.224686607718, longitud:-0.671369969845, velocidad:0, orientacion:0, fecha:2015-02-17 11:37:42"
       ]
      },
      {
       "output_type": "stream",
       "stream": "stdout",
       "text": [
        "\n",
        "Cluster centered in: id:3299116109, recurso:tetra:12082781, latitud:-0.224686607718, longitud:-0.671369969845, velocidad:0, orientacion:0, fecha:2015-02-17 11:37:56"
       ]
      },
      {
       "output_type": "stream",
       "stream": "stdout",
       "text": [
        "\n",
        "Cluster centered in: id:3299116296, recurso:tetra:12082781, latitud:-0.224686995149, longitud:-0.671370148659, velocidad:0, orientacion:0, fecha:2015-02-17 11:38:12"
       ]
      },
      {
       "output_type": "stream",
       "stream": "stdout",
       "text": [
        "\n",
        "Cluster centered in: id:3299116429, recurso:tetra:12082781, latitud:-0.224687173963, longitud:-0.671370506287, velocidad:0, orientacion:0, fecha:2015-02-17 11:38:24"
       ]
      },
      {
       "output_type": "stream",
       "stream": "stdout",
       "text": [
        "\n",
        "Cluster centered in: id:3299116514, recurso:tetra:12082781, latitud:-0.224687173963, longitud:-0.671370506287, velocidad:0, orientacion:0, fecha:2015-02-17 11:38:47"
       ]
      },
      {
       "output_type": "stream",
       "stream": "stdout",
       "text": [
        "\n",
        "Cluster centered in: id:3299116610, recurso:tetra:12082781, latitud:-0.224687173963, longitud:-0.671370506287, velocidad:0, orientacion:0, fecha:2015-02-17 11:39:01"
       ]
      },
      {
       "output_type": "stream",
       "stream": "stdout",
       "text": [
        "\n",
        "Cluster centered in: id:3299116681, recurso:tetra:12082781, latitud:-0.224677622318, longitud:-0.671371459961, velocidad:0, orientacion:0, fecha:2015-02-17 11:39:17"
       ]
      },
      {
       "output_type": "stream",
       "stream": "stdout",
       "text": [
        "\n",
        "Cluster centered in: id:3299116781, recurso:tetra:12082781, latitud:-0.224679306149, longitud:-0.671371042728, velocidad:0, orientacion:0, fecha:2015-02-17 11:39:32"
       ]
      },
      {
       "output_type": "stream",
       "stream": "stdout",
       "text": [
        "\n",
        "Cluster centered in: id:3299116888, recurso:tetra:12082781, latitud:-0.224679306149, longitud:-0.671371042728, velocidad:0, orientacion:0, fecha:2015-02-17 11:39:48"
       ]
      },
      {
       "output_type": "stream",
       "stream": "stdout",
       "text": [
        "\n",
        "Cluster centered in: id:3299117019, recurso:tetra:12082781, latitud:-0.224681377411, longitud:-0.671371042728, velocidad:1, orientacion:180, fecha:2015-02-17 11:40:02"
       ]
      },
      {
       "output_type": "stream",
       "stream": "stdout",
       "text": [
        "\n",
        "Cluster centered in: id:3299117025, recurso:tetra:12082781, latitud:-0.224682867527, longitud:-0.671370863914, velocidad:0, orientacion:0, fecha:2015-02-17 11:40:15"
       ]
      },
      {
       "output_type": "stream",
       "stream": "stdout",
       "text": [
        "\n",
        "Cluster centered in: id:3299117057, recurso:tetra:12082781, latitud:-0.224686056376, longitud:-0.671370863914, velocidad:7, orientacion:180, fecha:2015-02-17 11:40:38"
       ]
      },
      {
       "output_type": "stream",
       "stream": "stdout",
       "text": [
        "\n",
        "Cluster centered in: id:3299117191, recurso:tetra:12082781, latitud:-0.22468586266, longitud:-0.671370506287, velocidad:0, orientacion:0, fecha:2015-02-17 11:40:58"
       ]
      },
      {
       "output_type": "stream",
       "stream": "stdout",
       "text": [
        "\n",
        "Cluster centered in: id:3299117226, recurso:tetra:12082781, latitud:-0.2246838063, longitud:-0.671369016171, velocidad:0, orientacion:0, fecha:2015-02-17 11:41:14"
       ]
      },
      {
       "output_type": "stream",
       "stream": "stdout",
       "text": [
        "\n",
        "Cluster centered in: id:3299117310, recurso:tetra:12082781, latitud:-0.224683433771, longitud:-0.671369016171, velocidad:0, orientacion:0, fecha:2015-02-17 11:41:30"
       ]
      },
      {
       "output_type": "stream",
       "stream": "stdout",
       "text": [
        "\n",
        "Cluster centered in: id:3299117374, recurso:tetra:12082781, latitud:-0.224683433771, longitud:-0.671369016171, velocidad:0, orientacion:0, fecha:2015-02-17 11:41:47"
       ]
      },
      {
       "output_type": "stream",
       "stream": "stdout",
       "text": [
        "\n",
        "Cluster centered in: id:3299117510, recurso:tetra:12082781, latitud:-0.224684551358, longitud:-0.671369552612, velocidad:0, orientacion:0, fecha:2015-02-17 11:42:02"
       ]
      },
      {
       "output_type": "stream",
       "stream": "stdout",
       "text": [
        "\n",
        "Cluster centered in: id:3299117574, recurso:tetra:12082781, latitud:-0.224684551358, longitud:-0.671369552612, velocidad:0, orientacion:0, fecha:2015-02-17 11:42:24"
       ]
      },
      {
       "output_type": "stream",
       "stream": "stdout",
       "text": [
        "\n",
        "Cluster centered in: id:3299117633, recurso:tetra:12082781, latitud:-0.224684551358, longitud:-0.671369552612, velocidad:0, orientacion:0, fecha:2015-02-17 11:42:53"
       ]
      },
      {
       "output_type": "stream",
       "stream": "stdout",
       "text": [
        "\n",
        "Cluster centered in: id:3299117744, recurso:tetra:12082781, latitud:-0.224684551358, longitud:-0.671369969845, velocidad:0, orientacion:0, fecha:2015-02-17 11:43:07"
       ]
      },
      {
       "output_type": "stream",
       "stream": "stdout",
       "text": [
        "\n",
        "Cluster centered in: id:3299117811, recurso:tetra:12082781, latitud:-0.224684551358, longitud:-0.671369969845, velocidad:0, orientacion:0, fecha:2015-02-17 11:43:26"
       ]
      },
      {
       "output_type": "stream",
       "stream": "stdout",
       "text": [
        "\n",
        "Cluster centered in: id:3299117948, recurso:tetra:12082781, latitud:-0.224684551358, longitud:-0.671369552612, velocidad:0, orientacion:0, fecha:2015-02-17 11:43:40"
       ]
      },
      {
       "output_type": "stream",
       "stream": "stdout",
       "text": [
        "\n",
        "Cluster centered in: id:3299118049, recurso:tetra:12082781, latitud:-0.224684551358, longitud:-0.671369552612, velocidad:0, orientacion:45, fecha:2015-02-17 11:43:58"
       ]
      },
      {
       "output_type": "stream",
       "stream": "stdout",
       "text": [
        "\n",
        "Cluster centered in: id:3299118112, recurso:tetra:12082781, latitud:-0.224684372544, longitud:-0.671369373798, velocidad:0, orientacion:0, fecha:2015-02-17 11:44:20"
       ]
      },
      {
       "output_type": "stream",
       "stream": "stdout",
       "text": [
        "\n",
        "Cluster centered in: id:3299118263, recurso:tetra:12082781, latitud:-0.224684000015, longitud:-0.671369373798, velocidad:0, orientacion:0, fecha:2015-02-17 11:44:35"
       ]
      },
      {
       "output_type": "stream",
       "stream": "stdout",
       "text": [
        "\n",
        "Cluster centered in: id:3299118367, recurso:tetra:12082781, latitud:-0.224684551358, longitud:-0.671368837357, velocidad:1, orientacion:202, fecha:2015-02-17 11:44:49"
       ]
      },
      {
       "output_type": "stream",
       "stream": "stdout",
       "text": [
        "\n",
        "Cluster centered in: id:3299118450, recurso:tetra:12082781, latitud:-0.224684923887, longitud:-0.671368837357, velocidad:5, orientacion:180, fecha:2015-02-17 11:45:03"
       ]
      },
      {
       "output_type": "stream",
       "stream": "stdout",
       "text": [
        "\n",
        "Cluster centered in: id:3299118562, recurso:tetra:12082781, latitud:-0.224684372544, longitud:-0.671369016171, velocidad:0, orientacion:0, fecha:2015-02-17 11:45:18"
       ]
      },
      {
       "output_type": "stream",
       "stream": "stdout",
       "text": [
        "\n",
        "Cluster centered in: id:3299118681, recurso:tetra:12082781, latitud:-0.224683240056, longitud:-0.671369016171, velocidad:0, orientacion:0, fecha:2015-02-17 11:45:45"
       ]
      },
      {
       "output_type": "stream",
       "stream": "stdout",
       "text": [
        "\n",
        "Cluster centered in: id:3299118807, recurso:tetra:12082781, latitud:-0.224683240056, longitud:-0.671369016171, velocidad:0, orientacion:0, fecha:2015-02-17 11:46:06"
       ]
      },
      {
       "output_type": "stream",
       "stream": "stdout",
       "text": [
        "\n",
        "Cluster centered in: id:3299118854, recurso:tetra:12082781, latitud:-0.224682494998, longitud:-0.671369016171, velocidad:0, orientacion:0, fecha:2015-02-17 11:46:19"
       ]
      },
      {
       "output_type": "stream",
       "stream": "stdout",
       "text": [
        "\n",
        "Cluster centered in: id:3299118935, recurso:tetra:12082781, latitud:-0.224682494998, longitud:-0.671369016171, velocidad:0, orientacion:0, fecha:2015-02-17 11:46:38"
       ]
      },
      {
       "output_type": "stream",
       "stream": "stdout",
       "text": [
        "\n",
        "Cluster centered in: id:3299119001, recurso:tetra:12082781, latitud:-0.224682494998, longitud:-0.671369016171, velocidad:0, orientacion:0, fecha:2015-02-17 11:46:52"
       ]
      },
      {
       "output_type": "stream",
       "stream": "stdout",
       "text": [
        "\n",
        "Cluster centered in: id:3299119123, recurso:tetra:12082781, latitud:-0.224682867527, longitud:-0.671369016171, velocidad:0, orientacion:0, fecha:2015-02-17 11:47:09"
       ]
      },
      {
       "output_type": "stream",
       "stream": "stdout",
       "text": [
        "\n",
        "Cluster centered in: id:3299119176, recurso:tetra:12082781, latitud:-0.224682867527, longitud:-0.671369016171, velocidad:0, orientacion:0, fecha:2015-02-17 11:47:22"
       ]
      },
      {
       "output_type": "stream",
       "stream": "stdout",
       "text": [
        "\n",
        "Cluster centered in: id:3299119219, recurso:tetra:12082781, latitud:-0.224682867527, longitud:-0.671369016171, velocidad:0, orientacion:0, fecha:2015-02-17 11:47:39"
       ]
      },
      {
       "output_type": "stream",
       "stream": "stdout",
       "text": [
        "\n",
        "Cluster centered in: id:3299119251, recurso:tetra:12082781, latitud:-0.224682867527, longitud:-0.671369016171, velocidad:0, orientacion:0, fecha:2015-02-17 11:48:03"
       ]
      },
      {
       "output_type": "stream",
       "stream": "stdout",
       "text": [
        "\n",
        "Cluster centered in: id:3299119378, recurso:tetra:12082781, latitud:-0.224683240056, longitud:-0.671369016171, velocidad:0, orientacion:0, fecha:2015-02-17 11:48:19"
       ]
      },
      {
       "output_type": "stream",
       "stream": "stdout",
       "text": [
        "\n",
        "Cluster centered in: id:3299119487, recurso:tetra:12082781, latitud:-0.224683433771, longitud:-0.671369373798, velocidad:0, orientacion:0, fecha:2015-02-17 11:48:38"
       ]
      },
      {
       "output_type": "stream",
       "stream": "stdout",
       "text": [
        "\n",
        "Cluster centered in: id:3299119659, recurso:tetra:12082781, latitud:-0.2246838063, longitud:-0.671369373798, velocidad:0, orientacion:0, fecha:2015-02-17 11:48:54"
       ]
      },
      {
       "output_type": "stream",
       "stream": "stdout",
       "text": [
        "\n",
        "Cluster centered in: id:3299119712, recurso:tetra:12082781, latitud:-0.224684000015, longitud:-0.671369373798, velocidad:0, orientacion:0, fecha:2015-02-17 11:49:09"
       ]
      },
      {
       "output_type": "stream",
       "stream": "stdout",
       "text": [
        "\n",
        "Cluster centered in: id:3299119763, recurso:tetra:12082781, latitud:-0.224684000015, longitud:-0.671369373798, velocidad:0, orientacion:0, fecha:2015-02-17 11:49:31"
       ]
      },
      {
       "output_type": "stream",
       "stream": "stdout",
       "text": [
        "\n",
        "Cluster centered in: id:3299119898, recurso:tetra:12082781, latitud:-0.224684000015, longitud:-0.671369373798, velocidad:0, orientacion:0, fecha:2015-02-17 11:49:48"
       ]
      },
      {
       "output_type": "stream",
       "stream": "stdout",
       "text": [
        "\n",
        "Cluster centered in: id:3299119980, recurso:tetra:12082781, latitud:-0.224684000015, longitud:-0.671369373798, velocidad:0, orientacion:0, fecha:2015-02-17 11:50:03"
       ]
      },
      {
       "output_type": "stream",
       "stream": "stdout",
       "text": [
        "\n",
        "Cluster centered in: id:3299120106, recurso:tetra:12082781, latitud:-0.224684000015, longitud:-0.671369373798, velocidad:0, orientacion:0, fecha:2015-02-17 11:50:17"
       ]
      },
      {
       "output_type": "stream",
       "stream": "stdout",
       "text": [
        "\n",
        "Cluster centered in: id:3299120201, recurso:tetra:12082781, latitud:-0.224684000015, longitud:-0.671369373798, velocidad:0, orientacion:0, fecha:2015-02-17 11:50:32"
       ]
      },
      {
       "output_type": "stream",
       "stream": "stdout",
       "text": [
        "\n",
        "Cluster centered in: id:3299120318, recurso:tetra:12082781, latitud:-0.224684000015, longitud:-0.671369373798, velocidad:0, orientacion:0, fecha:2015-02-17 11:50:47"
       ]
      },
      {
       "output_type": "stream",
       "stream": "stdout",
       "text": [
        "\n",
        "Cluster centered in: id:3299120324, recurso:tetra:12082781, latitud:-0.224684372544, longitud:-0.671369016171, velocidad:0, orientacion:0, fecha:2015-02-17 11:51:08"
       ]
      },
      {
       "output_type": "stream",
       "stream": "stdout",
       "text": [
        "\n",
        "Cluster centered in: id:3299120365, recurso:tetra:12082781, latitud:-0.224684551358, longitud:-0.671368837357, velocidad:0, orientacion:0, fecha:2015-02-17 11:51:29"
       ]
      },
      {
       "output_type": "stream",
       "stream": "stdout",
       "text": [
        "\n",
        "Cluster centered in: id:3299120459, recurso:tetra:12082781, latitud:-0.224684551358, longitud:-0.671368837357, velocidad:0, orientacion:0, fecha:2015-02-17 11:51:49"
       ]
      },
      {
       "output_type": "stream",
       "stream": "stdout",
       "text": [
        "\n",
        "Cluster centered in: id:3299120505, recurso:tetra:12082781, latitud:-0.224684551358, longitud:-0.671368837357, velocidad:0, orientacion:0, fecha:2015-02-17 11:52:04"
       ]
      },
      {
       "output_type": "stream",
       "stream": "stdout",
       "text": [
        "\n",
        "Cluster centered in: id:3299120617, recurso:tetra:12082781, latitud:-0.224684372544, longitud:-0.671368837357, velocidad:0, orientacion:0, fecha:2015-02-17 11:52:24"
       ]
      },
      {
       "output_type": "stream",
       "stream": "stdout",
       "text": [
        "\n",
        "Cluster centered in: id:3299120672, recurso:tetra:12082781, latitud:-0.224684372544, longitud:-0.671368837357, velocidad:0, orientacion:0, fecha:2015-02-17 11:52:40"
       ]
      },
      {
       "output_type": "stream",
       "stream": "stdout",
       "text": [
        "\n",
        "Cluster centered in: id:3299120769, recurso:tetra:12082781, latitud:-0.224684372544, longitud:-0.671368837357, velocidad:0, orientacion:0, fecha:2015-02-17 11:52:54"
       ]
      },
      {
       "output_type": "stream",
       "stream": "stdout",
       "text": [
        "\n",
        "Cluster centered in: id:3299120869, recurso:tetra:12082781, latitud:-0.224683240056, longitud:-0.671368837357, velocidad:0, orientacion:0, fecha:2015-02-17 11:53:20"
       ]
      },
      {
       "output_type": "stream",
       "stream": "stdout",
       "text": [
        "\n",
        "Cluster centered in: id:3299120919, recurso:tetra:12082781, latitud:-0.224682867527, longitud:-0.671369016171, velocidad:0, orientacion:0, fecha:2015-02-17 11:53:36"
       ]
      },
      {
       "output_type": "stream",
       "stream": "stdout",
       "text": [
        "\n",
        "Cluster centered in: id:3299121088, recurso:tetra:12082781, latitud:-0.224682301283, longitud:-0.671369016171, velocidad:0, orientacion:0, fecha:2015-02-17 11:53:50"
       ]
      },
      {
       "output_type": "stream",
       "stream": "stdout",
       "text": [
        "\n",
        "Cluster centered in: id:3299121152, recurso:tetra:12082781, latitud:-0.224682867527, longitud:-0.671369016171, velocidad:0, orientacion:0, fecha:2015-02-17 11:54:07"
       ]
      },
      {
       "output_type": "stream",
       "stream": "stdout",
       "text": [
        "\n",
        "Cluster centered in: id:3299121219, recurso:tetra:12082781, latitud:-0.224684551358, longitud:-0.671368479729, velocidad:0, orientacion:0, fecha:2015-02-17 11:54:20"
       ]
      },
      {
       "output_type": "stream",
       "stream": "stdout",
       "text": [
        "\n",
        "Cluster centered in: id:3299121367, recurso:tetra:12082781, latitud:-0.22468586266, longitud:-0.671368837357, velocidad:0, orientacion:0, fecha:2015-02-17 11:54:37"
       ]
      },
      {
       "output_type": "stream",
       "stream": "stdout",
       "text": [
        "\n",
        "Cluster centered in: id:3299121388, recurso:tetra:12082781, latitud:-0.22468586266, longitud:-0.671368837357, velocidad:0, orientacion:0, fecha:2015-02-17 11:54:59"
       ]
      },
      {
       "output_type": "stream",
       "stream": "stdout",
       "text": [
        "\n",
        "Cluster centered in: id:3299121396, recurso:tetra:12082781, latitud:-0.224685490131, longitud:-0.671368837357, velocidad:0, orientacion:0, fecha:2015-02-17 11:55:22"
       ]
      },
      {
       "output_type": "stream",
       "stream": "stdout",
       "text": [
        "\n",
        "Cluster centered in: id:3299121562, recurso:tetra:12082781, latitud:-0.224685490131, longitud:-0.671369016171, velocidad:0, orientacion:0, fecha:2015-02-17 11:55:41"
       ]
      },
      {
       "output_type": "stream",
       "stream": "stdout",
       "text": [
        "\n",
        "Cluster centered in: id:3299121584, recurso:tetra:12082781, latitud:-0.224685490131, longitud:-0.671369016171, velocidad:0, orientacion:0, fecha:2015-02-17 11:55:53"
       ]
      },
      {
       "output_type": "stream",
       "stream": "stdout",
       "text": [
        "\n",
        "Cluster centered in: id:3299121652, recurso:tetra:12082781, latitud:-0.224685490131, longitud:-0.671369016171, velocidad:0, orientacion:0, fecha:2015-02-17 11:56:12"
       ]
      },
      {
       "output_type": "stream",
       "stream": "stdout",
       "text": [
        "\n",
        "Cluster centered in: id:3299121768, recurso:tetra:12082781, latitud:-0.224685490131, longitud:-0.671368837357, velocidad:0, orientacion:0, fecha:2015-02-17 11:56:29"
       ]
      },
      {
       "output_type": "stream",
       "stream": "stdout",
       "text": [
        "\n",
        "Cluster centered in: id:3299121859, recurso:tetra:12082781, latitud:-0.224685117602, longitud:-0.671368837357, velocidad:0, orientacion:0, fecha:2015-02-17 11:56:46"
       ]
      },
      {
       "output_type": "stream",
       "stream": "stdout",
       "text": [
        "\n",
        "Cluster centered in: id:3299121956, recurso:tetra:12082781, latitud:-0.224685117602, longitud:-0.671368479729, velocidad:0, orientacion:0, fecha:2015-02-17 11:57:13"
       ]
      },
      {
       "output_type": "stream",
       "stream": "stdout",
       "text": [
        "\n",
        "Cluster centered in: id:3299122084, recurso:tetra:12082781, latitud:-0.224685117602, longitud:-0.671368479729, velocidad:0, orientacion:0, fecha:2015-02-17 11:57:36"
       ]
      },
      {
       "output_type": "stream",
       "stream": "stdout",
       "text": [
        "\n",
        "Cluster centered in: id:3299122124, recurso:tetra:12082781, latitud:-0.224685117602, longitud:-0.671368479729, velocidad:0, orientacion:0, fecha:2015-02-17 11:57:49"
       ]
      },
      {
       "output_type": "stream",
       "stream": "stdout",
       "text": [
        "\n",
        "Cluster centered in: id:3299122166, recurso:tetra:12082781, latitud:-0.224685117602, longitud:-0.671368479729, velocidad:0, orientacion:0, fecha:2015-02-17 11:58:06"
       ]
      },
      {
       "output_type": "stream",
       "stream": "stdout",
       "text": [
        "\n",
        "Cluster centered in: id:3299122275, recurso:tetra:12082781, latitud:-0.224684551358, longitud:-0.671368837357, velocidad:0, orientacion:0, fecha:2015-02-17 11:58:24"
       ]
      },
      {
       "output_type": "stream",
       "stream": "stdout",
       "text": [
        "\n",
        "Cluster centered in: id:3299122415, recurso:tetra:12082781, latitud:-0.224685117602, longitud:-0.67136824131, velocidad:0, orientacion:0, fecha:2015-02-17 11:58:42"
       ]
      },
      {
       "output_type": "stream",
       "stream": "stdout",
       "text": [
        "\n",
        "Cluster centered in: id:3299122485, recurso:tetra:12082781, latitud:-0.224685490131, longitud:-0.671367883682, velocidad:0, orientacion:0, fecha:2015-02-17 11:58:54"
       ]
      },
      {
       "output_type": "stream",
       "stream": "stdout",
       "text": [
        "\n",
        "Cluster centered in: id:3299122487, recurso:tetra:12082781, latitud:-0.224685490131, longitud:-0.671367883682, velocidad:0, orientacion:0, fecha:2015-02-17 11:59:13"
       ]
      },
      {
       "output_type": "stream",
       "stream": "stdout",
       "text": [
        "\n",
        "Cluster centered in: id:3299122491, recurso:tetra:12082781, latitud:-0.22468586266, longitud:-0.671367883682, velocidad:0, orientacion:0, fecha:2015-02-17 11:59:31"
       ]
      },
      {
       "output_type": "stream",
       "stream": "stdout",
       "text": [
        "\n",
        "Cluster centered in: id:3299122644, recurso:tetra:12082781, latitud:-0.22468586266, longitud:-0.671367526054, velocidad:0, orientacion:0, fecha:2015-02-17 11:59:49"
       ]
      },
      {
       "output_type": "stream",
       "stream": "stdout",
       "text": [
        "\n",
        "Cluster centered in: id:3299122727, recurso:tetra:12082781, latitud:-0.224685490131, longitud:-0.671367526054, velocidad:0, orientacion:180, fecha:2015-02-17 12:00:02"
       ]
      },
      {
       "output_type": "stream",
       "stream": "stdout",
       "text": [
        "\n",
        "Cluster centered in: id:3299122814, recurso:tetra:12082781, latitud:-0.224686056376, longitud:-0.671367526054, velocidad:0, orientacion:0, fecha:2015-02-17 12:00:18"
       ]
      },
      {
       "output_type": "stream",
       "stream": "stdout",
       "text": [
        "\n",
        "Cluster centered in: id:3299122929, recurso:tetra:12082781, latitud:-0.224684372544, longitud:-0.671367883682, velocidad:0, orientacion:0, fecha:2015-02-17 12:00:32"
       ]
      },
      {
       "output_type": "stream",
       "stream": "stdout",
       "text": [
        "\n",
        "Cluster centered in: id:3299123022, recurso:tetra:12082781, latitud:-0.224685117602, longitud:-0.671367883682, velocidad:0, orientacion:0, fecha:2015-02-17 12:00:59"
       ]
      },
      {
       "output_type": "stream",
       "stream": "stdout",
       "text": [
        "\n",
        "Cluster centered in: id:3299123160, recurso:tetra:12082781, latitud:-0.224684923887, longitud:-0.671367883682, velocidad:0, orientacion:157, fecha:2015-02-17 12:01:32"
       ]
      },
      {
       "output_type": "stream",
       "stream": "stdout",
       "text": [
        "\n",
        "Cluster centered in: id:3299123205, recurso:tetra:12082781, latitud:-0.224686607718, longitud:-0.671368479729, velocidad:0, orientacion:0, fecha:2015-02-17 12:01:51"
       ]
      },
      {
       "output_type": "stream",
       "stream": "stdout",
       "text": [
        "\n",
        "Cluster centered in: id:3299123253, recurso:tetra:12082781, latitud:-0.224686995149, longitud:-0.671368479729, velocidad:0, orientacion:0, fecha:2015-02-17 12:02:06"
       ]
      },
      {
       "output_type": "stream",
       "stream": "stdout",
       "text": [
        "\n",
        "Cluster centered in: id:3299123449, recurso:tetra:12082781, latitud:-0.224686995149, longitud:-0.67136824131, velocidad:0, orientacion:0, fecha:2015-02-17 12:02:21"
       ]
      },
      {
       "output_type": "stream",
       "stream": "stdout",
       "text": [
        "\n",
        "Cluster centered in: id:3299123507, recurso:tetra:12082781, latitud:-0.224686428905, longitud:-0.671367526054, velocidad:0, orientacion:0, fecha:2015-02-17 12:02:35"
       ]
      },
      {
       "output_type": "stream",
       "stream": "stdout",
       "text": [
        "\n",
        "Cluster centered in: id:3299123567, recurso:tetra:12082781, latitud:-0.224686428905, longitud:-0.671367526054, velocidad:0, orientacion:0, fecha:2015-02-17 12:02:58"
       ]
      },
      {
       "output_type": "stream",
       "stream": "stdout",
       "text": [
        "\n",
        "Cluster centered in: id:3299123572, recurso:tetra:12082781, latitud:-0.224686056376, longitud:-0.671367883682, velocidad:0, orientacion:0, fecha:2015-02-17 12:03:23"
       ]
      },
      {
       "output_type": "stream",
       "stream": "stdout",
       "text": [
        "\n",
        "Cluster centered in: id:3299123710, recurso:tetra:12082781, latitud:-0.224686056376, longitud:-0.671367883682, velocidad:0, orientacion:0, fecha:2015-02-17 12:03:38"
       ]
      },
      {
       "output_type": "stream",
       "stream": "stdout",
       "text": [
        "\n",
        "Cluster centered in: id:3299123754, recurso:tetra:12082781, latitud:-0.22468586266, longitud:-0.67136824131, velocidad:0, orientacion:0, fecha:2015-02-17 12:03:57"
       ]
      },
      {
       "output_type": "stream",
       "stream": "stdout",
       "text": [
        "\n",
        "Cluster centered in: id:3299123850, recurso:tetra:12082781, latitud:-0.22468586266, longitud:-0.671368479729, velocidad:0, orientacion:0, fecha:2015-02-17 12:04:15"
       ]
      },
      {
       "output_type": "stream",
       "stream": "stdout",
       "text": [
        "\n",
        "Cluster centered in: id:3299123901, recurso:tetra:12082781, latitud:-0.224686056376, longitud:-0.671368479729, velocidad:1, orientacion:180, fecha:2015-02-17 12:04:29"
       ]
      },
      {
       "output_type": "stream",
       "stream": "stdout",
       "text": [
        "\n",
        "Cluster centered in: id:3299124001, recurso:tetra:12082781, latitud:-0.224688112736, longitud:-0.67136824131, velocidad:0, orientacion:0, fecha:2015-02-17 12:04:42"
       ]
      },
      {
       "output_type": "stream",
       "stream": "stdout",
       "text": [
        "\n",
        "Cluster centered in: id:3299124110, recurso:tetra:12082781, latitud:-0.224687919021, longitud:-0.67136824131, velocidad:0, orientacion:0, fecha:2015-02-17 12:04:56"
       ]
      },
      {
       "output_type": "stream",
       "stream": "stdout",
       "text": [
        "\n",
        "Cluster centered in: id:3299124148, recurso:tetra:12082781, latitud:-0.224687919021, longitud:-0.67136824131, velocidad:0, orientacion:0, fecha:2015-02-17 12:05:20"
       ]
      },
      {
       "output_type": "stream",
       "stream": "stdout",
       "text": [
        "\n",
        "Cluster centered in: id:3299124283, recurso:tetra:12082781, latitud:-0.224687173963, longitud:-0.67136824131, velocidad:0, orientacion:0, fecha:2015-02-17 12:05:33"
       ]
      },
      {
       "output_type": "stream",
       "stream": "stdout",
       "text": [
        "\n",
        "Cluster centered in: id:3299124378, recurso:tetra:12082781, latitud:-0.22468586266, longitud:-0.671368479729, velocidad:0, orientacion:0, fecha:2015-02-17 12:05:56"
       ]
      },
      {
       "output_type": "stream",
       "stream": "stdout",
       "text": [
        "\n",
        "Cluster centered in: id:3299124451, recurso:tetra:12082781, latitud:-0.22468586266, longitud:-0.67136824131, velocidad:0, orientacion:0, fecha:2015-02-17 12:06:15"
       ]
      },
      {
       "output_type": "stream",
       "stream": "stdout",
       "text": [
        "\n",
        "Cluster centered in: id:3299124578, recurso:tetra:12082781, latitud:-0.224685117602, longitud:-0.67136824131, velocidad:0, orientacion:0, fecha:2015-02-17 12:06:36"
       ]
      },
      {
       "output_type": "stream",
       "stream": "stdout",
       "text": [
        "\n",
        "Cluster centered in: id:3299124640, recurso:tetra:12082781, latitud:-0.224685117602, longitud:-0.671368479729, velocidad:0, orientacion:0, fecha:2015-02-17 12:06:57"
       ]
      },
      {
       "output_type": "stream",
       "stream": "stdout",
       "text": [
        "\n",
        "Cluster centered in: id:3299124726, recurso:tetra:12082781, latitud:-0.224685117602, longitud:-0.671368479729, velocidad:0, orientacion:0, fecha:2015-02-17 12:07:17"
       ]
      },
      {
       "output_type": "stream",
       "stream": "stdout",
       "text": [
        "\n",
        "Cluster centered in: id:3299124824, recurso:tetra:12082781, latitud:-0.224685490131, longitud:-0.671368479729, velocidad:0, orientacion:0, fecha:2015-02-17 12:07:35"
       ]
      },
      {
       "output_type": "stream",
       "stream": "stdout",
       "text": [
        "\n",
        "Cluster centered in: id:3299124852, recurso:tetra:12082781, latitud:-0.224685490131, longitud:-0.671368479729, velocidad:0, orientacion:0, fecha:2015-02-17 12:07:49"
       ]
      },
      {
       "output_type": "stream",
       "stream": "stdout",
       "text": [
        "\n",
        "Cluster centered in: id:3299125001, recurso:tetra:12082781, latitud:-0.224685490131, longitud:-0.671368479729, velocidad:0, orientacion:0, fecha:2015-02-17 12:08:02"
       ]
      },
      {
       "output_type": "stream",
       "stream": "stdout",
       "text": [
        "\n",
        "Cluster centered in: id:3299125126, recurso:tetra:12082781, latitud:-0.224685490131, longitud:-0.671368479729, velocidad:0, orientacion:0, fecha:2015-02-17 12:08:19"
       ]
      },
      {
       "output_type": "stream",
       "stream": "stdout",
       "text": [
        "\n",
        "Cluster centered in: id:3299125204, recurso:tetra:12082781, latitud:-0.224684923887, longitud:-0.671368479729, velocidad:0, orientacion:0, fecha:2015-02-17 12:08:44"
       ]
      },
      {
       "output_type": "stream",
       "stream": "stdout",
       "text": [
        "\n",
        "Cluster centered in: id:3299125359, recurso:tetra:12082781, latitud:-0.224684923887, longitud:-0.671368479729, velocidad:0, orientacion:0, fecha:2015-02-17 12:09:01"
       ]
      },
      {
       "output_type": "stream",
       "stream": "stdout",
       "text": [
        "\n",
        "Cluster centered in: id:3299125369, recurso:tetra:12082781, latitud:-0.224684551358, longitud:-0.671368479729, velocidad:0, orientacion:0, fecha:2015-02-17 12:09:16"
       ]
      },
      {
       "output_type": "stream",
       "stream": "stdout",
       "text": [
        "\n",
        "Cluster centered in: id:3299125448, recurso:tetra:12082781, latitud:-0.224684551358, longitud:-0.671368837357, velocidad:0, orientacion:0, fecha:2015-02-17 12:09:31"
       ]
      },
      {
       "output_type": "stream",
       "stream": "stdout",
       "text": [
        "\n",
        "Cluster centered in: id:3299125537, recurso:tetra:12082781, latitud:-0.224684551358, longitud:-0.671369552612, velocidad:0, orientacion:0, fecha:2015-02-17 12:09:49"
       ]
      },
      {
       "output_type": "stream",
       "stream": "stdout",
       "text": [
        "\n",
        "Cluster centered in: id:3299125628, recurso:tetra:12082781, latitud:-0.224684372544, longitud:-0.671369016171, velocidad:0, orientacion:0, fecha:2015-02-17 12:10:06"
       ]
      },
      {
       "output_type": "stream",
       "stream": "stdout",
       "text": [
        "\n",
        "Cluster centered in: id:3299125728, recurso:tetra:12082781, latitud:-0.224684372544, longitud:-0.671369373798, velocidad:0, orientacion:0, fecha:2015-02-17 12:10:18"
       ]
      },
      {
       "output_type": "stream",
       "stream": "stdout",
       "text": [
        "\n",
        "Cluster centered in: id:3299125732, recurso:tetra:12082781, latitud:-0.224684551358, longitud:-0.671369373798, velocidad:0, orientacion:0, fecha:2015-02-17 12:10:46"
       ]
      },
      {
       "output_type": "stream",
       "stream": "stdout",
       "text": [
        "\n",
        "Cluster centered in: id:3299125798, recurso:tetra:12082781, latitud:-0.224684551358, longitud:-0.671369016171, velocidad:0, orientacion:0, fecha:2015-02-17 12:11:03"
       ]
      },
      {
       "output_type": "stream",
       "stream": "stdout",
       "text": [
        "\n",
        "Cluster centered in: id:3299125912, recurso:tetra:12082781, latitud:-0.224684551358, longitud:-0.671369016171, velocidad:0, orientacion:0, fecha:2015-02-17 12:11:17"
       ]
      },
      {
       "output_type": "stream",
       "stream": "stdout",
       "text": [
        "\n",
        "Cluster centered in: id:3299126011, recurso:tetra:12082781, latitud:-0.224684923887, longitud:-0.671368837357, velocidad:0, orientacion:0, fecha:2015-02-17 12:11:36"
       ]
      },
      {
       "output_type": "stream",
       "stream": "stdout",
       "text": [
        "\n",
        "Cluster centered in: id:3299126067, recurso:tetra:12082781, latitud:-0.224685117602, longitud:-0.671368837357, velocidad:0, orientacion:0, fecha:2015-02-17 12:11:49"
       ]
      },
      {
       "output_type": "stream",
       "stream": "stdout",
       "text": [
        "\n",
        "Cluster centered in: id:3299126178, recurso:tetra:12082781, latitud:-0.224685117602, longitud:-0.671368837357, velocidad:0, orientacion:0, fecha:2015-02-17 12:12:07"
       ]
      },
      {
       "output_type": "stream",
       "stream": "stdout",
       "text": [
        "\n",
        "Cluster centered in: id:3299126270, recurso:tetra:12082781, latitud:-0.224685117602, longitud:-0.671368837357, velocidad:0, orientacion:0, fecha:2015-02-17 12:12:28"
       ]
      },
      {
       "output_type": "stream",
       "stream": "stdout",
       "text": [
        "\n",
        "Cluster centered in: id:3299126397, recurso:tetra:12082781, latitud:-0.224685117602, longitud:-0.671368837357, velocidad:0, orientacion:0, fecha:2015-02-17 12:12:45"
       ]
      },
      {
       "output_type": "stream",
       "stream": "stdout",
       "text": [
        "\n",
        "Cluster centered in: id:3299126456, recurso:tetra:12082781, latitud:-0.224685117602, longitud:-0.671368479729, velocidad:0, orientacion:0, fecha:2015-02-17 12:12:58"
       ]
      },
      {
       "output_type": "stream",
       "stream": "stdout",
       "text": [
        "\n",
        "Cluster centered in: id:3299126497, recurso:tetra:12082781, latitud:-0.224684923887, longitud:-0.67136824131, velocidad:0, orientacion:157, fecha:2015-02-17 12:13:11"
       ]
      },
      {
       "output_type": "stream",
       "stream": "stdout",
       "text": [
        "\n",
        "Cluster centered in: id:3299126630, recurso:tetra:12082781, latitud:-0.224684372544, longitud:-0.671368479729, velocidad:0, orientacion:0, fecha:2015-02-17 12:13:29"
       ]
      },
      {
       "output_type": "stream",
       "stream": "stdout",
       "text": [
        "\n",
        "Cluster centered in: id:3299126747, recurso:tetra:12082781, latitud:-0.224684372544, longitud:-0.671368837357, velocidad:0, orientacion:0, fecha:2015-02-17 12:13:46"
       ]
      },
      {
       "output_type": "stream",
       "stream": "stdout",
       "text": [
        "\n",
        "Cluster centered in: id:3299126815, recurso:tetra:12082781, latitud:-0.224684000015, longitud:-0.671368837357, velocidad:0, orientacion:0, fecha:2015-02-17 12:13:59"
       ]
      },
      {
       "output_type": "stream",
       "stream": "stdout",
       "text": [
        "\n",
        "Cluster centered in: id:3299126818, recurso:tetra:12082781, latitud:-0.224684000015, longitud:-0.671368837357, velocidad:0, orientacion:0, fecha:2015-02-17 12:14:26"
       ]
      },
      {
       "output_type": "stream",
       "stream": "stdout",
       "text": [
        "\n",
        "Cluster centered in: id:3299126874, recurso:tetra:12082781, latitud:-0.224684923887, longitud:-0.671366751194, velocidad:0, orientacion:0, fecha:2015-02-17 12:14:43"
       ]
      },
      {
       "output_type": "stream",
       "stream": "stdout",
       "text": [
        "\n",
        "Cluster centered in: id:3299126981, recurso:tetra:12082781, latitud:-0.224685490131, longitud:-0.671365261078, velocidad:0, orientacion:0, fecha:2015-02-17 12:14:58"
       ]
      },
      {
       "output_type": "stream",
       "stream": "stdout",
       "text": [
        "\n",
        "Cluster centered in: id:3299127021, recurso:tetra:12082781, latitud:-0.224686607718, longitud:-0.671366393566, velocidad:0, orientacion:0, fecha:2015-02-17 12:15:15"
       ]
      },
      {
       "output_type": "stream",
       "stream": "stdout",
       "text": [
        "\n",
        "Cluster centered in: id:3299127103, recurso:tetra:12082781, latitud:-0.224686428905, longitud:-0.671366751194, velocidad:0, orientacion:0, fecha:2015-02-17 12:15:28"
       ]
      },
      {
       "output_type": "stream",
       "stream": "stdout",
       "text": [
        "\n",
        "Cluster centered in: id:3299127168, recurso:tetra:12082781, latitud:-0.224686428905, longitud:-0.671366751194, velocidad:0, orientacion:0, fecha:2015-02-17 12:15:45"
       ]
      },
      {
       "output_type": "stream",
       "stream": "stdout",
       "text": [
        "\n",
        "Cluster centered in: id:3299127307, recurso:tetra:12082781, latitud:-0.224686428905, longitud:-0.671366751194, velocidad:0, orientacion:0, fecha:2015-02-17 12:16:02"
       ]
      },
      {
       "output_type": "stream",
       "stream": "stdout",
       "text": [
        "\n",
        "Cluster centered in: id:3299127371, recurso:tetra:12082781, latitud:-0.224686428905, longitud:-0.671366751194, velocidad:0, orientacion:0, fecha:2015-02-17 12:16:27"
       ]
      },
      {
       "output_type": "stream",
       "stream": "stdout",
       "text": [
        "\n",
        "Cluster centered in: id:3299127430, recurso:tetra:12082781, latitud:-0.224686428905, longitud:-0.671366930008, velocidad:0, orientacion:0, fecha:2015-02-17 12:16:46"
       ]
      },
      {
       "output_type": "stream",
       "stream": "stdout",
       "text": [
        "\n",
        "Cluster centered in: id:3299127585, recurso:tetra:12082781, latitud:-0.22468586266, longitud:-0.671366930008, velocidad:0, orientacion:0, fecha:2015-02-17 12:17:03"
       ]
      },
      {
       "output_type": "stream",
       "stream": "stdout",
       "text": [
        "\n",
        "Cluster centered in: id:3299127666, recurso:tetra:12082781, latitud:-0.224686056376, longitud:-0.67136734724, velocidad:0, orientacion:0, fecha:2015-02-17 12:17:20"
       ]
      },
      {
       "output_type": "stream",
       "stream": "stdout",
       "text": [
        "\n",
        "Cluster centered in: id:3299127757, recurso:tetra:12082781, latitud:-0.224686056376, longitud:-0.67136734724, velocidad:0, orientacion:0, fecha:2015-02-17 12:17:38"
       ]
      },
      {
       "output_type": "stream",
       "stream": "stdout",
       "text": [
        "\n",
        "Cluster centered in: id:3299127859, recurso:tetra:12082781, latitud:-0.22468586266, longitud:-0.671366930008, velocidad:0, orientacion:0, fecha:2015-02-17 12:17:53"
       ]
      },
      {
       "output_type": "stream",
       "stream": "stdout",
       "text": [
        "\n",
        "Cluster centered in: id:3299127891, recurso:tetra:12082781, latitud:-0.224686607718, longitud:-0.671366930008, velocidad:0, orientacion:0, fecha:2015-02-17 12:18:22"
       ]
      },
      {
       "output_type": "stream",
       "stream": "stdout",
       "text": [
        "\n",
        "Cluster centered in: id:3299128039, recurso:tetra:12082781, latitud:-0.224686995149, longitud:-0.67136734724, velocidad:0, orientacion:0, fecha:2015-02-17 12:18:36"
       ]
      },
      {
       "output_type": "stream",
       "stream": "stdout",
       "text": [
        "\n",
        "Cluster centered in: id:3299128082, recurso:tetra:12082781, latitud:-0.224686995149, longitud:-0.67136734724, velocidad:0, orientacion:0, fecha:2015-02-17 12:18:51"
       ]
      },
      {
       "output_type": "stream",
       "stream": "stdout",
       "text": [
        "\n",
        "Cluster centered in: id:3299128163, recurso:tetra:12082781, latitud:-0.224686995149, longitud:-0.67136734724, velocidad:0, orientacion:0, fecha:2015-02-17 12:19:05"
       ]
      },
      {
       "output_type": "stream",
       "stream": "stdout",
       "text": [
        "\n",
        "Cluster centered in: id:3299128267, recurso:tetra:12082781, latitud:-0.224686607718, longitud:-0.67136734724, velocidad:0, orientacion:0, fecha:2015-02-17 12:19:18"
       ]
      },
      {
       "output_type": "stream",
       "stream": "stdout",
       "text": [
        "\n",
        "Cluster centered in: id:3299128411, recurso:tetra:12082781, latitud:-0.224686607718, longitud:-0.67136734724, velocidad:0, orientacion:0, fecha:2015-02-17 12:19:41"
       ]
      },
      {
       "output_type": "stream",
       "stream": "stdout",
       "text": [
        "\n",
        "Cluster centered in: id:3299128490, recurso:tetra:12082781, latitud:-0.224686607718, longitud:-0.67136734724, velocidad:0, orientacion:0, fecha:2015-02-17 12:19:59"
       ]
      },
      {
       "output_type": "stream",
       "stream": "stdout",
       "text": [
        "\n",
        "Cluster centered in: id:3299128584, recurso:tetra:12082781, latitud:-0.224686607718, longitud:-0.67136734724, velocidad:0, orientacion:0, fecha:2015-02-17 12:20:12"
       ]
      },
      {
       "output_type": "stream",
       "stream": "stdout",
       "text": [
        "\n",
        "Cluster centered in: id:3299128618, recurso:tetra:12082781, latitud:-0.224686428905, longitud:-0.67136734724, velocidad:0, orientacion:0, fecha:2015-02-17 12:20:27"
       ]
      },
      {
       "output_type": "stream",
       "stream": "stdout",
       "text": [
        "\n",
        "Cluster centered in: id:3299128703, recurso:tetra:12082781, latitud:-0.224686428905, longitud:-0.671367526054, velocidad:0, orientacion:0, fecha:2015-02-17 12:20:40"
       ]
      },
      {
       "output_type": "stream",
       "stream": "stdout",
       "text": [
        "\n",
        "Cluster centered in: id:3299128838, recurso:tetra:12082781, latitud:-0.224686056376, longitud:-0.671367883682, velocidad:0, orientacion:0, fecha:2015-02-17 12:20:54"
       ]
      },
      {
       "output_type": "stream",
       "stream": "stdout",
       "text": [
        "\n",
        "Cluster centered in: id:3299128964, recurso:tetra:12082781, latitud:-0.224686056376, longitud:-0.671367883682, velocidad:0, orientacion:0, fecha:2015-02-17 12:21:10"
       ]
      },
      {
       "output_type": "stream",
       "stream": "stdout",
       "text": [
        "\n",
        "Cluster centered in: id:3299128972, recurso:tetra:12082781, latitud:-0.224686056376, longitud:-0.671367883682, velocidad:0, orientacion:0, fecha:2015-02-17 12:21:43"
       ]
      },
      {
       "output_type": "stream",
       "stream": "stdout",
       "text": [
        "\n",
        "Cluster centered in: id:3299129091, recurso:tetra:12082781, latitud:-0.22468586266, longitud:-0.671367883682, velocidad:0, orientacion:0, fecha:2015-02-17 12:22:02"
       ]
      },
      {
       "output_type": "stream",
       "stream": "stdout",
       "text": [
        "\n",
        "Cluster centered in: id:3299129201, recurso:tetra:12082781, latitud:-0.22468586266, longitud:-0.671367526054, velocidad:0, orientacion:0, fecha:2015-02-17 12:22:17"
       ]
      },
      {
       "output_type": "stream",
       "stream": "stdout",
       "text": [
        "\n",
        "Cluster centered in: id:3299129270, recurso:tetra:12082781, latitud:-0.224685490131, longitud:-0.671367526054, velocidad:0, orientacion:0, fecha:2015-02-17 12:22:33"
       ]
      },
      {
       "output_type": "stream",
       "stream": "stdout",
       "text": [
        "\n",
        "Cluster centered in: id:3299129339, recurso:tetra:12082781, latitud:-0.224685490131, longitud:-0.671367526054, velocidad:0, orientacion:0, fecha:2015-02-17 12:22:57"
       ]
      },
      {
       "output_type": "stream",
       "stream": "stdout",
       "text": [
        "\n",
        "Cluster centered in: id:3299129445, recurso:tetra:12082781, latitud:-0.22468586266, longitud:-0.671367526054, velocidad:0, orientacion:0, fecha:2015-02-17 12:23:15"
       ]
      },
      {
       "output_type": "stream",
       "stream": "stdout",
       "text": [
        "\n",
        "Cluster centered in: id:3299129498, recurso:tetra:12082781, latitud:-0.22468586266, longitud:-0.671367883682, velocidad:0, orientacion:0, fecha:2015-02-17 12:23:39"
       ]
      },
      {
       "output_type": "stream",
       "stream": "stdout",
       "text": [
        "\n",
        "Cluster centered in: id:3299129632, recurso:tetra:12082781, latitud:-0.22468586266, longitud:-0.671367883682, velocidad:0, orientacion:0, fecha:2015-02-17 12:23:54"
       ]
      },
      {
       "output_type": "stream",
       "stream": "stdout",
       "text": [
        "\n",
        "Cluster centered in: id:3299129707, recurso:tetra:12082781, latitud:-0.22468586266, longitud:-0.671367883682, velocidad:0, orientacion:157, fecha:2015-02-17 12:24:08"
       ]
      },
      {
       "output_type": "stream",
       "stream": "stdout",
       "text": [
        "\n",
        "Cluster centered in: id:3299129805, recurso:tetra:12082781, latitud:-0.224685490131, longitud:-0.671367526054, velocidad:0, orientacion:0, fecha:2015-02-17 12:24:25"
       ]
      },
      {
       "output_type": "stream",
       "stream": "stdout",
       "text": [
        "\n",
        "Cluster centered in: id:3299129954, recurso:tetra:12082781, latitud:-0.224684923887, longitud:-0.67136734724, velocidad:0, orientacion:0, fecha:2015-02-17 12:24:42"
       ]
      },
      {
       "output_type": "stream",
       "stream": "stdout",
       "text": [
        "\n",
        "Cluster centered in: id:3299130030, recurso:tetra:12082781, latitud:-0.224684923887, longitud:-0.67136824131, velocidad:0, orientacion:0, fecha:2015-02-17 12:24:57"
       ]
      },
      {
       "output_type": "stream",
       "stream": "stdout",
       "text": [
        "\n",
        "Cluster centered in: id:3299130045, recurso:tetra:12082781, latitud:-0.224685117602, longitud:-0.671368479729, velocidad:0, orientacion:0, fecha:2015-02-17 12:25:20"
       ]
      },
      {
       "output_type": "stream",
       "stream": "stdout",
       "text": [
        "\n",
        "Cluster centered in: id:3299130124, recurso:tetra:12082781, latitud:-0.224685117602, longitud:-0.671368479729, velocidad:0, orientacion:0, fecha:2015-02-17 12:25:44"
       ]
      },
      {
       "output_type": "stream",
       "stream": "stdout",
       "text": [
        "\n",
        "Cluster centered in: id:3299130201, recurso:tetra:12082781, latitud:-0.224685117602, longitud:-0.671368479729, velocidad:0, orientacion:0, fecha:2015-02-17 12:25:58"
       ]
      },
      {
       "output_type": "stream",
       "stream": "stdout",
       "text": [
        "\n",
        "Cluster centered in: id:3299130246, recurso:tetra:12082781, latitud:-0.224685117602, longitud:-0.671368479729, velocidad:0, orientacion:0, fecha:2015-02-17 12:26:15"
       ]
      },
      {
       "output_type": "stream",
       "stream": "stdout",
       "text": [
        "\n",
        "Cluster centered in: id:3299130298, recurso:tetra:12082781, latitud:-0.224685490131, longitud:-0.671368479729, velocidad:0, orientacion:0, fecha:2015-02-17 12:26:33"
       ]
      },
      {
       "output_type": "stream",
       "stream": "stdout",
       "text": [
        "\n",
        "Cluster centered in: id:3299130399, recurso:tetra:12082781, latitud:-0.224685490131, longitud:-0.671368479729, velocidad:0, orientacion:0, fecha:2015-02-17 12:26:49"
       ]
      },
      {
       "output_type": "stream",
       "stream": "stdout",
       "text": [
        "\n",
        "Cluster centered in: id:3299130569, recurso:tetra:12082781, latitud:-0.22468586266, longitud:-0.671368479729, velocidad:0, orientacion:0, fecha:2015-02-17 12:27:06"
       ]
      },
      {
       "output_type": "stream",
       "stream": "stdout",
       "text": [
        "\n",
        "Cluster centered in: id:3299130598, recurso:tetra:12082781, latitud:-0.22468586266, longitud:-0.671368479729, velocidad:0, orientacion:0, fecha:2015-02-17 12:27:31"
       ]
      },
      {
       "output_type": "stream",
       "stream": "stdout",
       "text": [
        "\n",
        "Cluster centered in: id:3299130749, recurso:tetra:12082781, latitud:-0.224686056376, longitud:-0.671368479729, velocidad:0, orientacion:0, fecha:2015-02-17 12:27:48"
       ]
      },
      {
       "output_type": "stream",
       "stream": "stdout",
       "text": [
        "\n",
        "Cluster centered in: id:3299130853, recurso:tetra:12082781, latitud:-0.224686056376, longitud:-0.671368479729, velocidad:0, orientacion:0, fecha:2015-02-17 12:28:03"
       ]
      },
      {
       "output_type": "stream",
       "stream": "stdout",
       "text": [
        "\n",
        "Cluster centered in: id:3299130950, recurso:tetra:12082781, latitud:-0.224686056376, longitud:-0.671368479729, velocidad:0, orientacion:0, fecha:2015-02-17 12:28:18"
       ]
      },
      {
       "output_type": "stream",
       "stream": "stdout",
       "text": [
        "\n",
        "Cluster centered in: id:3299131043, recurso:tetra:12082781, latitud:-0.224686056376, longitud:-0.671368479729, velocidad:0, orientacion:0, fecha:2015-02-17 12:28:31"
       ]
      },
      {
       "output_type": "stream",
       "stream": "stdout",
       "text": [
        "\n",
        "Cluster centered in: id:3299131130, recurso:tetra:12082781, latitud:-0.224686056376, longitud:-0.671368479729, velocidad:0, orientacion:0, fecha:2015-02-17 12:28:56"
       ]
      },
      {
       "output_type": "stream",
       "stream": "stdout",
       "text": [
        "\n",
        "Cluster centered in: id:3299131268, recurso:tetra:12082781, latitud:-0.224686056376, longitud:-0.671368479729, velocidad:0, orientacion:0, fecha:2015-02-17 12:29:19"
       ]
      },
      {
       "output_type": "stream",
       "stream": "stdout",
       "text": [
        "\n",
        "Cluster centered in: id:3299131384, recurso:tetra:12082781, latitud:-0.224686056376, longitud:-0.671368837357, velocidad:0, orientacion:0, fecha:2015-02-17 12:29:35"
       ]
      },
      {
       "output_type": "stream",
       "stream": "stdout",
       "text": [
        "\n",
        "Cluster centered in: id:3299131479, recurso:tetra:12082781, latitud:-0.224686056376, longitud:-0.671368837357, velocidad:0, orientacion:0, fecha:2015-02-17 12:29:53"
       ]
      },
      {
       "output_type": "stream",
       "stream": "stdout",
       "text": [
        "\n",
        "Cluster centered in: id:3299131617, recurso:tetra:12082781, latitud:-0.22468586266, longitud:-0.671368837357, velocidad:0, orientacion:0, fecha:2015-02-17 12:30:06"
       ]
      },
      {
       "output_type": "stream",
       "stream": "stdout",
       "text": [
        "\n",
        "Cluster centered in: id:3299131681, recurso:tetra:12082781, latitud:-0.22468586266, longitud:-0.671368837357, velocidad:0, orientacion:0, fecha:2015-02-17 12:30:20"
       ]
      },
      {
       "output_type": "stream",
       "stream": "stdout",
       "text": [
        "\n",
        "Cluster centered in: id:3299131740, recurso:tetra:12082781, latitud:-0.22468586266, longitud:-0.671368837357, velocidad:0, orientacion:0, fecha:2015-02-17 12:30:52"
       ]
      },
      {
       "output_type": "stream",
       "stream": "stdout",
       "text": [
        "\n",
        "Cluster centered in: id:3299131851, recurso:tetra:12082781, latitud:-0.22468586266, longitud:-0.671368837357, velocidad:0, orientacion:0, fecha:2015-02-17 12:31:07"
       ]
      },
      {
       "output_type": "stream",
       "stream": "stdout",
       "text": [
        "\n",
        "Cluster centered in: id:3299131884, recurso:tetra:12082781, latitud:-0.224686607718, longitud:-0.671369016171, velocidad:0, orientacion:0, fecha:2015-02-17 12:31:26"
       ]
      },
      {
       "output_type": "stream",
       "stream": "stdout",
       "text": [
        "\n",
        "Cluster centered in: id:3299131895, recurso:tetra:12082781, latitud:-0.224686995149, longitud:-0.671369016171, velocidad:0, orientacion:0, fecha:2015-02-17 12:31:45"
       ]
      },
      {
       "output_type": "stream",
       "stream": "stdout",
       "text": [
        "\n",
        "Cluster centered in: id:3299131997, recurso:tetra:12082781, latitud:-0.224686995149, longitud:-0.671369016171, velocidad:0, orientacion:0, fecha:2015-02-17 12:32:01"
       ]
      },
      {
       "output_type": "stream",
       "stream": "stdout",
       "text": [
        "\n",
        "Cluster centered in: id:3299132069, recurso:tetra:12082781, latitud:-0.224686995149, longitud:-0.671369016171, velocidad:0, orientacion:0, fecha:2015-02-17 12:32:18"
       ]
      },
      {
       "output_type": "stream",
       "stream": "stdout",
       "text": [
        "\n",
        "Cluster centered in: id:3299132180, recurso:tetra:12082781, latitud:-0.224686056376, longitud:-0.671368479729, velocidad:0, orientacion:0, fecha:2015-02-17 12:32:41"
       ]
      },
      {
       "output_type": "stream",
       "stream": "stdout",
       "text": [
        "\n",
        "Cluster centered in: id:3299132241, recurso:tetra:12082781, latitud:-0.224686056376, longitud:-0.671368479729, velocidad:0, orientacion:0, fecha:2015-02-17 12:32:52"
       ]
      },
      {
       "output_type": "stream",
       "stream": "stdout",
       "text": [
        "\n",
        "Cluster centered in: id:3299132332, recurso:tetra:12082781, latitud:-0.224686056376, longitud:-0.671368479729, velocidad:0, orientacion:0, fecha:2015-02-17 12:33:22"
       ]
      },
      {
       "output_type": "stream",
       "stream": "stdout",
       "text": [
        "\n",
        "Cluster centered in: id:3299132467, recurso:tetra:12082781, latitud:-0.224686056376, longitud:-0.671368837357, velocidad:0, orientacion:0, fecha:2015-02-17 12:33:37"
       ]
      },
      {
       "output_type": "stream",
       "stream": "stdout",
       "text": [
        "\n",
        "Cluster centered in: id:3299132559, recurso:tetra:12082781, latitud:-0.22468586266, longitud:-0.671369016171, velocidad:0, orientacion:0, fecha:2015-02-17 12:33:54"
       ]
      },
      {
       "output_type": "stream",
       "stream": "stdout",
       "text": [
        "\n",
        "Cluster centered in: id:3299132618, recurso:tetra:12082781, latitud:-0.224685490131, longitud:-0.671369016171, velocidad:0, orientacion:0, fecha:2015-02-17 12:34:11"
       ]
      },
      {
       "output_type": "stream",
       "stream": "stdout",
       "text": [
        "\n",
        "Cluster centered in: id:3299132740, recurso:tetra:12082781, latitud:-0.224686056376, longitud:-0.671369016171, velocidad:0, orientacion:0, fecha:2015-02-17 12:34:29"
       ]
      },
      {
       "output_type": "stream",
       "stream": "stdout",
       "text": [
        "\n",
        "Cluster centered in: id:3299132781, recurso:tetra:12082781, latitud:-0.224686607718, longitud:-0.671369016171, velocidad:0, orientacion:0, fecha:2015-02-17 12:34:50"
       ]
      },
      {
       "output_type": "stream",
       "stream": "stdout",
       "text": [
        "\n",
        "Cluster centered in: id:3299132987, recurso:tetra:12082781, latitud:-0.224686428905, longitud:-0.671369016171, velocidad:0, orientacion:0, fecha:2015-02-17 12:35:10"
       ]
      },
      {
       "output_type": "stream",
       "stream": "stdout",
       "text": [
        "\n",
        "Cluster centered in: id:3299133054, recurso:tetra:12082781, latitud:-0.224684923887, longitud:-0.671369373798, velocidad:0, orientacion:0, fecha:2015-02-17 12:35:24"
       ]
      },
      {
       "output_type": "stream",
       "stream": "stdout",
       "text": [
        "\n",
        "Cluster centered in: id:3299133163, recurso:tetra:12082781, latitud:-0.224684923887, longitud:-0.671369373798, velocidad:0, orientacion:0, fecha:2015-02-17 12:35:37"
       ]
      },
      {
       "output_type": "stream",
       "stream": "stdout",
       "text": [
        "\n",
        "Cluster centered in: id:3299133259, recurso:tetra:12082781, latitud:-0.224686056376, longitud:-0.671368479729, velocidad:0, orientacion:0, fecha:2015-02-17 12:35:50"
       ]
      },
      {
       "output_type": "stream",
       "stream": "stdout",
       "text": [
        "\n",
        "Cluster centered in: id:3299133330, recurso:tetra:12082781, latitud:-0.224686428905, longitud:-0.67136824131, velocidad:0, orientacion:0, fecha:2015-02-17 12:36:03"
       ]
      },
      {
       "output_type": "stream",
       "stream": "stdout",
       "text": [
        "\n",
        "Cluster centered in: id:3299133334, recurso:tetra:12082781, latitud:-0.224686428905, longitud:-0.67136824131, velocidad:0, orientacion:0, fecha:2015-02-17 12:36:23"
       ]
      },
      {
       "output_type": "stream",
       "stream": "stdout",
       "text": [
        "\n",
        "Cluster centered in: id:3299133374, recurso:tetra:12082781, latitud:-0.224686428905, longitud:-0.67136824131, velocidad:0, orientacion:0, fecha:2015-02-17 12:36:43"
       ]
      },
      {
       "output_type": "stream",
       "stream": "stdout",
       "text": [
        "\n",
        "Cluster centered in: id:3299133460, recurso:tetra:12082781, latitud:-0.224686607718, longitud:-0.67136824131, velocidad:0, orientacion:0, fecha:2015-02-17 12:37:05"
       ]
      },
      {
       "output_type": "stream",
       "stream": "stdout",
       "text": [
        "\n",
        "Cluster centered in: id:3299133517, recurso:tetra:12082781, latitud:-0.224686607718, longitud:-0.67136824131, velocidad:0, orientacion:0, fecha:2015-02-17 12:37:23"
       ]
      },
      {
       "output_type": "stream",
       "stream": "stdout",
       "text": [
        "\n",
        "Cluster centered in: id:3299133536, recurso:tetra:12082781, latitud:-0.224686607718, longitud:-0.67136824131, velocidad:0, orientacion:0, fecha:2015-02-17 12:37:42"
       ]
      },
      {
       "output_type": "stream",
       "stream": "stdout",
       "text": [
        "\n",
        "Cluster centered in: id:3299133572, recurso:tetra:12082781, latitud:-0.224686428905, longitud:-0.671368479729, velocidad:0, orientacion:0, fecha:2015-02-17 12:37:55"
       ]
      },
      {
       "output_type": "stream",
       "stream": "stdout",
       "text": [
        "\n",
        "Cluster centered in: id:3299133707, recurso:tetra:12082781, latitud:-0.224686428905, longitud:-0.671368479729, velocidad:0, orientacion:0, fecha:2015-02-17 12:38:11"
       ]
      },
      {
       "output_type": "stream",
       "stream": "stdout",
       "text": [
        "\n",
        "Cluster centered in: id:3299133818, recurso:tetra:12082781, latitud:-0.224686056376, longitud:-0.671368837357, velocidad:0, orientacion:0, fecha:2015-02-17 12:38:25"
       ]
      },
      {
       "output_type": "stream",
       "stream": "stdout",
       "text": [
        "\n",
        "Cluster centered in: id:3299133896, recurso:tetra:12082781, latitud:-0.22468586266, longitud:-0.671368837357, velocidad:0, orientacion:0, fecha:2015-02-17 12:38:48"
       ]
      },
      {
       "output_type": "stream",
       "stream": "stdout",
       "text": [
        "\n",
        "Cluster centered in: id:3299134028, recurso:tetra:12082781, latitud:-0.22468586266, longitud:-0.671368837357, velocidad:0, orientacion:112, fecha:2015-02-17 12:39:05"
       ]
      },
      {
       "output_type": "stream",
       "stream": "stdout",
       "text": [
        "\n",
        "Cluster centered in: id:3299134145, recurso:tetra:12082781, latitud:-0.224685117602, longitud:-0.67136734724, velocidad:0, orientacion:0, fecha:2015-02-17 12:39:26"
       ]
      },
      {
       "output_type": "stream",
       "stream": "stdout",
       "text": [
        "\n",
        "Cluster centered in: id:3299134231, recurso:tetra:12082781, latitud:-0.224685490131, longitud:-0.67136734724, velocidad:0, orientacion:0, fecha:2015-02-17 12:39:42"
       ]
      },
      {
       "output_type": "stream",
       "stream": "stdout",
       "text": [
        "\n",
        "Cluster centered in: id:3299134308, recurso:tetra:12082781, latitud:-0.224685490131, longitud:-0.67136734724, velocidad:0, orientacion:0, fecha:2015-02-17 12:39:56"
       ]
      },
      {
       "output_type": "stream",
       "stream": "stdout",
       "text": [
        "\n",
        "Cluster centered in: id:3299134427, recurso:tetra:12082781, latitud:-0.224685490131, longitud:-0.67136734724, velocidad:0, orientacion:0, fecha:2015-02-17 12:40:18"
       ]
      },
      {
       "output_type": "stream",
       "stream": "stdout",
       "text": [
        "\n",
        "Cluster centered in: id:3299134432, recurso:tetra:12082781, latitud:-0.224686056376, longitud:-0.67136734724, velocidad:0, orientacion:0, fecha:2015-02-17 12:40:42"
       ]
      },
      {
       "output_type": "stream",
       "stream": "stdout",
       "text": [
        "\n",
        "Cluster centered in: id:3299134467, recurso:tetra:12082781, latitud:-0.224686607718, longitud:-0.67136734724, velocidad:0, orientacion:0, fecha:2015-02-17 12:41:11"
       ]
      },
      {
       "output_type": "stream",
       "stream": "stdout",
       "text": [
        "\n",
        "Cluster centered in: id:3299134627, recurso:tetra:12082781, latitud:-0.224686607718, longitud:-0.67136734724, velocidad:0, orientacion:0, fecha:2015-02-17 12:41:32"
       ]
      },
      {
       "output_type": "stream",
       "stream": "stdout",
       "text": [
        "\n",
        "Cluster centered in: id:3299134746, recurso:tetra:12082781, latitud:-0.224686995149, longitud:-0.67136734724, velocidad:0, orientacion:0, fecha:2015-02-17 12:41:47"
       ]
      },
      {
       "output_type": "stream",
       "stream": "stdout",
       "text": [
        "\n",
        "Cluster centered in: id:3299134828, recurso:tetra:12082781, latitud:-0.224686995149, longitud:-0.67136734724, velocidad:0, orientacion:0, fecha:2015-02-17 12:42:03"
       ]
      },
      {
       "output_type": "stream",
       "stream": "stdout",
       "text": [
        "\n",
        "Cluster centered in: id:3299134932, recurso:tetra:12082781, latitud:-0.224686607718, longitud:-0.671367526054, velocidad:0, orientacion:0, fecha:2015-02-17 12:42:20"
       ]
      },
      {
       "output_type": "stream",
       "stream": "stdout",
       "text": [
        "\n",
        "Cluster centered in: id:3299135000, recurso:tetra:12082781, latitud:-0.224686607718, longitud:-0.671367526054, velocidad:0, orientacion:0, fecha:2015-02-17 12:42:43"
       ]
      },
      {
       "output_type": "stream",
       "stream": "stdout",
       "text": [
        "\n",
        "Cluster centered in: id:3299135058, recurso:tetra:12082781, latitud:-0.22468586266, longitud:-0.671367526054, velocidad:0, orientacion:0, fecha:2015-02-17 12:43:02"
       ]
      },
      {
       "output_type": "stream",
       "stream": "stdout",
       "text": [
        "\n",
        "Cluster centered in: id:3299135167, recurso:tetra:12082781, latitud:-0.224685117602, longitud:-0.671367883682, velocidad:0, orientacion:0, fecha:2015-02-17 12:43:16"
       ]
      },
      {
       "output_type": "stream",
       "stream": "stdout",
       "text": [
        "\n",
        "Cluster centered in: id:3299135186, recurso:tetra:12082781, latitud:-0.224684923887, longitud:-0.671367883682, velocidad:0, orientacion:0, fecha:2015-02-17 12:43:34"
       ]
      },
      {
       "output_type": "stream",
       "stream": "stdout",
       "text": [
        "\n",
        "Cluster centered in: id:3299135192, recurso:tetra:12082781, latitud:-0.224684551358, longitud:-0.67136824131, velocidad:0, orientacion:0, fecha:2015-02-17 12:43:48"
       ]
      },
      {
       "output_type": "stream",
       "stream": "stdout",
       "text": [
        "\n",
        "Cluster centered in: id:3299135339, recurso:tetra:12082781, latitud:-0.224684923887, longitud:-0.67136824131, velocidad:0, orientacion:0, fecha:2015-02-17 12:44:04"
       ]
      },
      {
       "output_type": "stream",
       "stream": "stdout",
       "text": [
        "\n",
        "Cluster centered in: id:3299135462, recurso:tetra:12082781, latitud:-0.224684551358, longitud:-0.671368837357, velocidad:0, orientacion:0, fecha:2015-02-17 12:44:19"
       ]
      },
      {
       "output_type": "stream",
       "stream": "stdout",
       "text": [
        "\n",
        "Cluster centered in: id:3299135539, recurso:tetra:12082781, latitud:-0.224684923887, longitud:-0.671368837357, velocidad:0, orientacion:0, fecha:2015-02-17 12:44:38"
       ]
      },
      {
       "output_type": "stream",
       "stream": "stdout",
       "text": [
        "\n",
        "Cluster centered in: id:3299135547, recurso:tetra:12082781, latitud:-0.224684372544, longitud:-0.671368479729, velocidad:0, orientacion:0, fecha:2015-02-17 12:45:07"
       ]
      },
      {
       "output_type": "stream",
       "stream": "stdout",
       "text": [
        "\n",
        "Cluster centered in: id:3299135693, recurso:tetra:12082781, latitud:-0.224684372544, longitud:-0.671368479729, velocidad:0, orientacion:0, fecha:2015-02-17 12:45:24"
       ]
      },
      {
       "output_type": "stream",
       "stream": "stdout",
       "text": [
        "\n",
        "Cluster centered in: id:3299135813, recurso:tetra:12082781, latitud:-0.224682301283, longitud:-0.671368837357, velocidad:0, orientacion:0, fecha:2015-02-17 12:45:38"
       ]
      },
      {
       "output_type": "stream",
       "stream": "stdout",
       "text": [
        "\n",
        "Cluster centered in: id:3299135881, recurso:tetra:12082781, latitud:-0.22468174994, longitud:-0.671369016171, velocidad:0, orientacion:0, fecha:2015-02-17 12:45:50"
       ]
      },
      {
       "output_type": "stream",
       "stream": "stdout",
       "text": [
        "\n",
        "Cluster centered in: id:3299135914, recurso:tetra:12082781, latitud:-0.224682494998, longitud:-0.671368837357, velocidad:0, orientacion:0, fecha:2015-02-17 12:46:04"
       ]
      },
      {
       "output_type": "stream",
       "stream": "stdout",
       "text": [
        "\n",
        "Cluster centered in: id:3299136046, recurso:tetra:12082781, latitud:-0.224685490131, longitud:-0.671367883682, velocidad:0, orientacion:0, fecha:2015-02-17 12:46:21"
       ]
      },
      {
       "output_type": "stream",
       "stream": "stdout",
       "text": [
        "\n",
        "Cluster centered in: id:3299136154, recurso:tetra:12082781, latitud:-0.224685490131, longitud:-0.671367883682, velocidad:0, orientacion:0, fecha:2015-02-17 12:46:47"
       ]
      },
      {
       "output_type": "stream",
       "stream": "stdout",
       "text": [
        "\n",
        "Cluster centered in: id:3299136300, recurso:tetra:12082781, latitud:-0.224685490131, longitud:-0.671367883682, velocidad:0, orientacion:0, fecha:2015-02-17 12:47:00"
       ]
      },
      {
       "output_type": "stream",
       "stream": "stdout",
       "text": [
        "\n",
        "Cluster centered in: id:3299136405, recurso:tetra:12082781, latitud:-0.22468586266, longitud:-0.67136824131, velocidad:0, orientacion:0, fecha:2015-02-17 12:47:17"
       ]
      },
      {
       "output_type": "stream",
       "stream": "stdout",
       "text": [
        "\n",
        "Cluster centered in: id:3299136448, recurso:tetra:12082781, latitud:-0.224685490131, longitud:-0.67136824131, velocidad:0, orientacion:0, fecha:2015-02-17 12:47:31"
       ]
      },
      {
       "output_type": "stream",
       "stream": "stdout",
       "text": [
        "\n",
        "Cluster centered in: id:3299136568, recurso:tetra:12082781, latitud:-0.224685117602, longitud:-0.67136824131, velocidad:0, orientacion:0, fecha:2015-02-17 12:47:52"
       ]
      },
      {
       "output_type": "stream",
       "stream": "stdout",
       "text": [
        "\n",
        "Cluster centered in: id:3299136646, recurso:tetra:12082781, latitud:-0.224685117602, longitud:-0.671368479729, velocidad:0, orientacion:0, fecha:2015-02-17 12:48:09"
       ]
      },
      {
       "output_type": "stream",
       "stream": "stdout",
       "text": [
        "\n",
        "Cluster centered in: id:3299136659, recurso:tetra:12082781, latitud:-0.224685117602, longitud:-0.671368479729, velocidad:0, orientacion:0, fecha:2015-02-17 12:48:32"
       ]
      },
      {
       "output_type": "stream",
       "stream": "stdout",
       "text": [
        "\n",
        "Cluster centered in: id:3299136698, recurso:tetra:12082781, latitud:-0.224684923887, longitud:-0.671368479729, velocidad:0, orientacion:0, fecha:2015-02-17 12:48:53"
       ]
      },
      {
       "output_type": "stream",
       "stream": "stdout",
       "text": [
        "\n",
        "Cluster centered in: id:3299136773, recurso:tetra:12082781, latitud:-0.224684923887, longitud:-0.671368479729, velocidad:0, orientacion:0, fecha:2015-02-17 12:49:07"
       ]
      },
      {
       "output_type": "stream",
       "stream": "stdout",
       "text": [
        "\n",
        "Cluster centered in: id:3299136838, recurso:tetra:12082781, latitud:-0.224684551358, longitud:-0.671368479729, velocidad:0, orientacion:0, fecha:2015-02-17 12:49:24"
       ]
      },
      {
       "output_type": "stream",
       "stream": "stdout",
       "text": [
        "\n",
        "Cluster centered in: id:3299136848, recurso:tetra:12082781, latitud:-0.224684923887, longitud:-0.671368479729, velocidad:0, orientacion:0, fecha:2015-02-17 12:49:39"
       ]
      },
      {
       "output_type": "stream",
       "stream": "stdout",
       "text": [
        "\n",
        "Cluster centered in: id:3299136876, recurso:tetra:12082781, latitud:-0.224684372544, longitud:-0.67136824131, velocidad:0, orientacion:0, fecha:2015-02-17 12:49:57"
       ]
      },
      {
       "output_type": "stream",
       "stream": "stdout",
       "text": [
        "\n",
        "Cluster centered in: id:3299137088, recurso:tetra:12082781, latitud:-0.224684372544, longitud:-0.67136824131, velocidad:0, orientacion:0, fecha:2015-02-17 12:50:16"
       ]
      },
      {
       "output_type": "stream",
       "stream": "stdout",
       "text": [
        "\n",
        "Cluster centered in: id:3299137196, recurso:tetra:12082781, latitud:-0.224683433771, longitud:-0.671367883682, velocidad:0, orientacion:0, fecha:2015-02-17 12:50:40"
       ]
      },
      {
       "output_type": "stream",
       "stream": "stdout",
       "text": [
        "\n",
        "Cluster centered in: id:3299137247, recurso:tetra:12082781, latitud:-0.224682867527, longitud:-0.671367883682, velocidad:0, orientacion:0, fecha:2015-02-17 12:51:12"
       ]
      },
      {
       "output_type": "stream",
       "stream": "stdout",
       "text": [
        "\n",
        "Cluster centered in: id:3299137394, recurso:tetra:12082781, latitud:-0.224685490131, longitud:-0.67136824131, velocidad:0, orientacion:0, fecha:2015-02-17 12:51:28"
       ]
      },
      {
       "output_type": "stream",
       "stream": "stdout",
       "text": [
        "\n",
        "Cluster centered in: id:3299137501, recurso:tetra:12082781, latitud:-0.224685490131, longitud:-0.67136824131, velocidad:0, orientacion:0, fecha:2015-02-17 12:51:47"
       ]
      },
      {
       "output_type": "stream",
       "stream": "stdout",
       "text": [
        "\n",
        "Cluster centered in: id:3299137564, recurso:tetra:12082781, latitud:-0.224685490131, longitud:-0.67136824131, velocidad:0, orientacion:0, fecha:2015-02-17 12:52:10"
       ]
      },
      {
       "output_type": "stream",
       "stream": "stdout",
       "text": [
        "\n",
        "Cluster centered in: id:3299137672, recurso:tetra:12082781, latitud:-0.224685490131, longitud:-0.671368837357, velocidad:0, orientacion:0, fecha:2015-02-17 12:52:26"
       ]
      },
      {
       "output_type": "stream",
       "stream": "stdout",
       "text": [
        "\n",
        "Cluster centered in: id:3299137761, recurso:tetra:12082781, latitud:-0.22468586266, longitud:-0.671369016171, velocidad:0, orientacion:0, fecha:2015-02-17 12:52:51"
       ]
      },
      {
       "output_type": "stream",
       "stream": "stdout",
       "text": [
        "\n",
        "Cluster centered in: id:3299137871, recurso:tetra:12082781, latitud:-0.224685490131, longitud:-0.671369016171, velocidad:0, orientacion:0, fecha:2015-02-17 12:53:12"
       ]
      },
      {
       "output_type": "stream",
       "stream": "stdout",
       "text": [
        "\n",
        "Cluster centered in: id:3299138015, recurso:tetra:12082781, latitud:-0.224685490131, longitud:-0.671369373798, velocidad:0, orientacion:0, fecha:2015-02-17 12:53:25"
       ]
      },
      {
       "output_type": "stream",
       "stream": "stdout",
       "text": [
        "\n",
        "Cluster centered in: id:3299138087, recurso:tetra:12082781, latitud:-0.224685490131, longitud:-0.671369552612, velocidad:0, orientacion:0, fecha:2015-02-17 12:53:43"
       ]
      },
      {
       "output_type": "stream",
       "stream": "stdout",
       "text": [
        "\n",
        "Cluster centered in: id:3299138177, recurso:tetra:12082781, latitud:-0.224685490131, longitud:-0.671369552612, velocidad:0, orientacion:0, fecha:2015-02-17 12:53:56"
       ]
      },
      {
       "output_type": "stream",
       "stream": "stdout",
       "text": [
        "\n",
        "Cluster centered in: id:3299138266, recurso:tetra:12082781, latitud:-0.224685490131, longitud:-0.671369552612, velocidad:0, orientacion:0, fecha:2015-02-17 12:54:09"
       ]
      },
      {
       "output_type": "stream",
       "stream": "stdout",
       "text": [
        "\n",
        "Cluster centered in: id:3299138326, recurso:tetra:12082781, latitud:-0.224685490131, longitud:-0.671369373798, velocidad:0, orientacion:0, fecha:2015-02-17 12:54:32"
       ]
      },
      {
       "output_type": "stream",
       "stream": "stdout",
       "text": [
        "\n",
        "Cluster centered in: id:3299138399, recurso:tetra:12082781, latitud:-0.224685490131, longitud:-0.671369373798, velocidad:0, orientacion:0, fecha:2015-02-17 12:54:46"
       ]
      },
      {
       "output_type": "stream",
       "stream": "stdout",
       "text": [
        "\n",
        "Cluster centered in: id:3299138489, recurso:tetra:12082781, latitud:-0.224685490131, longitud:-0.671369016171, velocidad:0, orientacion:0, fecha:2015-02-17 12:55:00"
       ]
      },
      {
       "output_type": "stream",
       "stream": "stdout",
       "text": [
        "\n",
        "Cluster centered in: id:3299138510, recurso:tetra:12082781, latitud:-0.22468586266, longitud:-0.671368837357, velocidad:0, orientacion:0, fecha:2015-02-17 12:55:11"
       ]
      },
      {
       "output_type": "stream",
       "stream": "stdout",
       "text": [
        "\n",
        "Cluster centered in: id:3299138516, recurso:tetra:12082781, latitud:-0.22468586266, longitud:-0.671368837357, velocidad:0, orientacion:0, fecha:2015-02-17 12:55:30"
       ]
      },
      {
       "output_type": "stream",
       "stream": "stdout",
       "text": [
        "\n",
        "Cluster centered in: id:3299138687, recurso:tetra:12082781, latitud:-0.22468586266, longitud:-0.671368479729, velocidad:0, orientacion:0, fecha:2015-02-17 12:55:44"
       ]
      },
      {
       "output_type": "stream",
       "stream": "stdout",
       "text": [
        "\n",
        "Cluster centered in: id:3299138812, recurso:tetra:12082781, latitud:-0.224686428905, longitud:-0.671367883682, velocidad:0, orientacion:0, fecha:2015-02-17 12:55:57"
       ]
      },
      {
       "output_type": "stream",
       "stream": "stdout",
       "text": [
        "\n",
        "Cluster centered in: id:3299138873, recurso:tetra:12082781, latitud:-0.224686428905, longitud:-0.671367883682, velocidad:0, orientacion:0, fecha:2015-02-17 12:56:06"
       ]
      },
      {
       "output_type": "stream",
       "stream": "stdout",
       "text": [
        "\n",
        "Cluster centered in: id:3299138879, recurso:tetra:12082781, latitud:-0.224686428905, longitud:-0.671367883682, velocidad:0, orientacion:0, fecha:2015-02-17 12:56:33"
       ]
      },
      {
       "output_type": "stream",
       "stream": "stdout",
       "text": [
        "\n",
        "Cluster centered in: id:3299138901, recurso:tetra:12082781, latitud:-0.224686428905, longitud:-0.671367883682, velocidad:0, orientacion:0, fecha:2015-02-17 12:56:54"
       ]
      },
      {
       "output_type": "stream",
       "stream": "stdout",
       "text": [
        "\n",
        "Cluster centered in: id:3299139091, recurso:tetra:12082781, latitud:-0.224686428905, longitud:-0.671367883682, velocidad:0, orientacion:0, fecha:2015-02-17 12:57:11"
       ]
      },
      {
       "output_type": "stream",
       "stream": "stdout",
       "text": [
        "\n",
        "Cluster centered in: id:3299139178, recurso:tetra:12082781, latitud:-0.224686428905, longitud:-0.671367883682, velocidad:0, orientacion:0, fecha:2015-02-17 12:57:26"
       ]
      },
      {
       "output_type": "stream",
       "stream": "stdout",
       "text": [
        "\n",
        "Cluster centered in: id:3299139226, recurso:tetra:12082781, latitud:-0.22468586266, longitud:-0.671367883682, velocidad:0, orientacion:0, fecha:2015-02-17 12:57:45"
       ]
      },
      {
       "output_type": "stream",
       "stream": "stdout",
       "text": [
        "\n",
        "Cluster centered in: id:3299139356, recurso:tetra:12082781, latitud:-0.224684923887, longitud:-0.671367883682, velocidad:0, orientacion:0, fecha:2015-02-17 12:58:01"
       ]
      },
      {
       "output_type": "stream",
       "stream": "stdout",
       "text": [
        "\n",
        "Cluster centered in: id:3299139438, recurso:tetra:12082781, latitud:-0.224687173963, longitud:-0.671369016171, velocidad:0, orientacion:0, fecha:2015-02-17 12:58:28"
       ]
      },
      {
       "output_type": "stream",
       "stream": "stdout",
       "text": [
        "\n",
        "Cluster centered in: id:3299139547, recurso:tetra:12082781, latitud:-0.224687173963, longitud:-0.671369016171, velocidad:0, orientacion:0, fecha:2015-02-17 12:58:42"
       ]
      },
      {
       "output_type": "stream",
       "stream": "stdout",
       "text": [
        "\n",
        "Cluster centered in: id:3299139704, recurso:tetra:12082781, latitud:-0.224687173963, longitud:-0.671369016171, velocidad:0, orientacion:0, fecha:2015-02-17 12:58:59"
       ]
      },
      {
       "output_type": "stream",
       "stream": "stdout",
       "text": [
        "\n",
        "Cluster centered in: id:3299139776, recurso:tetra:12082781, latitud:-0.224686995149, longitud:-0.671369016171, velocidad:0, orientacion:0, fecha:2015-02-17 12:59:12"
       ]
      },
      {
       "output_type": "stream",
       "stream": "stdout",
       "text": [
        "\n",
        "Cluster centered in: id:3299139880, recurso:tetra:12082781, latitud:-0.224686995149, longitud:-0.671368837357, velocidad:0, orientacion:0, fecha:2015-02-17 12:59:29"
       ]
      },
      {
       "output_type": "stream",
       "stream": "stdout",
       "text": [
        "\n",
        "Cluster centered in: id:3299139938, recurso:tetra:12082781, latitud:-0.224686995149, longitud:-0.671368479729, velocidad:0, orientacion:0, fecha:2015-02-17 12:59:45"
       ]
      },
      {
       "output_type": "stream",
       "stream": "stdout",
       "text": [
        "\n",
        "Cluster centered in: id:3299139985, recurso:tetra:12082781, latitud:-0.224686607718, longitud:-0.67136824131, velocidad:0, orientacion:0, fecha:2015-02-17 13:00:02"
       ]
      },
      {
       "output_type": "stream",
       "stream": "stdout",
       "text": [
        "\n",
        "Cluster centered in: id:3299139986, recurso:tetra:12082781, latitud:-0.224686056376, longitud:-0.671367883682, velocidad:0, orientacion:0, fecha:2015-02-17 13:00:24"
       ]
      },
      {
       "output_type": "stream",
       "stream": "stdout",
       "text": [
        "\n",
        "Cluster centered in: id:3299140079, recurso:tetra:12082781, latitud:-0.224686056376, longitud:-0.671367883682, velocidad:0, orientacion:0, fecha:2015-02-17 13:00:51"
       ]
      },
      {
       "output_type": "stream",
       "stream": "stdout",
       "text": [
        "\n",
        "Cluster centered in: id:3299140170, recurso:tetra:12082781, latitud:-0.22468586266, longitud:-0.67136734724, velocidad:0, orientacion:0, fecha:2015-02-17 13:01:05"
       ]
      },
      {
       "output_type": "stream",
       "stream": "stdout",
       "text": [
        "\n",
        "Cluster centered in: id:3299140178, recurso:tetra:12082781, latitud:-0.224685117602, longitud:-0.67136734724, velocidad:0, orientacion:0, fecha:2015-02-17 13:01:19"
       ]
      },
      {
       "output_type": "stream",
       "stream": "stdout",
       "text": [
        "\n",
        "Cluster centered in: id:3299140227, recurso:tetra:12082781, latitud:-0.224684923887, longitud:-0.671366930008, velocidad:0, orientacion:0, fecha:2015-02-17 13:01:33"
       ]
      },
      {
       "output_type": "stream",
       "stream": "stdout",
       "text": [
        "\n",
        "Cluster centered in: id:3299140424, recurso:tetra:12082781, latitud:-0.224685117602, longitud:-0.671366930008, velocidad:0, orientacion:0, fecha:2015-02-17 13:01:49"
       ]
      },
      {
       "output_type": "stream",
       "stream": "stdout",
       "text": [
        "\n",
        "Cluster centered in: id:3299140506, recurso:tetra:12082781, latitud:-0.224685117602, longitud:-0.671366930008, velocidad:0, orientacion:0, fecha:2015-02-17 13:02:06"
       ]
      },
      {
       "output_type": "stream",
       "stream": "stdout",
       "text": [
        "\n",
        "Cluster centered in: id:3299140539, recurso:tetra:12082781, latitud:-0.224685490131, longitud:-0.67136734724, velocidad:0, orientacion:0, fecha:2015-02-17 13:02:41"
       ]
      },
      {
       "output_type": "stream",
       "stream": "stdout",
       "text": [
        "\n",
        "Cluster centered in: id:3299140722, recurso:tetra:12082781, latitud:-0.224685490131, longitud:-0.67136734724, velocidad:0, orientacion:0, fecha:2015-02-17 13:02:58"
       ]
      },
      {
       "output_type": "stream",
       "stream": "stdout",
       "text": [
        "\n",
        "Cluster centered in: id:3299140774, recurso:tetra:12082781, latitud:-0.224685490131, longitud:-0.67136734724, velocidad:0, orientacion:0, fecha:2015-02-17 13:03:16"
       ]
      },
      {
       "output_type": "stream",
       "stream": "stdout",
       "text": [
        "\n",
        "Cluster centered in: id:3299140885, recurso:tetra:12082781, latitud:-0.224685490131, longitud:-0.671367526054, velocidad:0, orientacion:0, fecha:2015-02-17 13:03:39"
       ]
      },
      {
       "output_type": "stream",
       "stream": "stdout",
       "text": [
        "\n",
        "Cluster centered in: id:3299140961, recurso:tetra:12082781, latitud:-0.224685117602, longitud:-0.671367883682, velocidad:0, orientacion:0, fecha:2015-02-17 13:03:53"
       ]
      },
      {
       "output_type": "stream",
       "stream": "stdout",
       "text": [
        "\n",
        "Cluster centered in: id:3299141092, recurso:tetra:12082781, latitud:-0.224685117602, longitud:-0.671367883682, velocidad:0, orientacion:0, fecha:2015-02-17 13:04:15"
       ]
      },
      {
       "output_type": "stream",
       "stream": "stdout",
       "text": [
        "\n",
        "Cluster centered in: id:3299141172, recurso:tetra:12082781, latitud:-0.224685117602, longitud:-0.671367883682, velocidad:0, orientacion:0, fecha:2015-02-17 13:04:30"
       ]
      },
      {
       "output_type": "stream",
       "stream": "stdout",
       "text": [
        "\n",
        "Cluster centered in: id:3299141338, recurso:tetra:12082781, latitud:-0.224685117602, longitud:-0.671367883682, velocidad:0, orientacion:0, fecha:2015-02-17 13:04:44"
       ]
      },
      {
       "output_type": "stream",
       "stream": "stdout",
       "text": [
        "\n",
        "Cluster centered in: id:3299141401, recurso:tetra:12082781, latitud:-0.224685117602, longitud:-0.671367883682, velocidad:0, orientacion:0, fecha:2015-02-17 13:04:57"
       ]
      },
      {
       "output_type": "stream",
       "stream": "stdout",
       "text": [
        "\n",
        "Cluster centered in: id:3299141452, recurso:tetra:12082781, latitud:-0.224688306451, longitud:-0.671366930008, velocidad:0, orientacion:0, fecha:2015-02-17 13:05:13"
       ]
      },
      {
       "output_type": "stream",
       "stream": "stdout",
       "text": [
        "\n",
        "Cluster centered in: id:3299141561, recurso:tetra:12082781, latitud:-0.224686607718, longitud:-0.671368837357, velocidad:0, orientacion:0, fecha:2015-02-17 13:05:29"
       ]
      },
      {
       "output_type": "stream",
       "stream": "stdout",
       "text": [
        "\n",
        "Cluster centered in: id:3299141656, recurso:tetra:12082781, latitud:-0.224686056376, longitud:-0.671369016171, velocidad:0, orientacion:0, fecha:2015-02-17 13:05:46"
       ]
      },
      {
       "output_type": "stream",
       "stream": "stdout",
       "text": [
        "\n",
        "Cluster centered in: id:3299141790, recurso:tetra:12082781, latitud:-0.224685490131, longitud:-0.671368837357, velocidad:0, orientacion:0, fecha:2015-02-17 13:06:26"
       ]
      },
      {
       "output_type": "stream",
       "stream": "stdout",
       "text": [
        "\n",
        "Cluster centered in: id:3299141848, recurso:tetra:12082781, latitud:-0.224685117602, longitud:-0.671368837357, velocidad:0, orientacion:0, fecha:2015-02-17 13:06:45"
       ]
      },
      {
       "output_type": "stream",
       "stream": "stdout",
       "text": [
        "\n",
        "Cluster centered in: id:3299141901, recurso:tetra:12082781, latitud:-0.224685117602, longitud:-0.671368837357, velocidad:0, orientacion:0, fecha:2015-02-17 13:07:03"
       ]
      },
      {
       "output_type": "stream",
       "stream": "stdout",
       "text": [
        "\n",
        "Cluster centered in: id:3299142094, recurso:tetra:12082781, latitud:-0.224685117602, longitud:-0.671369016171, velocidad:0, orientacion:0, fecha:2015-02-17 13:07:18"
       ]
      },
      {
       "output_type": "stream",
       "stream": "stdout",
       "text": [
        "\n",
        "Cluster centered in: id:3299142197, recurso:tetra:12082781, latitud:-0.224684923887, longitud:-0.671369373798, velocidad:0, orientacion:0, fecha:2015-02-17 13:07:36"
       ]
      },
      {
       "output_type": "stream",
       "stream": "stdout",
       "text": [
        "\n",
        "Cluster centered in: id:3299142233, recurso:tetra:12082781, latitud:-0.224684923887, longitud:-0.671369373798, velocidad:0, orientacion:0, fecha:2015-02-17 13:07:54"
       ]
      },
      {
       "output_type": "stream",
       "stream": "stdout",
       "text": [
        "\n",
        "Cluster centered in: id:3299142240, recurso:tetra:12082781, latitud:-0.224684923887, longitud:-0.671369016171, velocidad:0, orientacion:157, fecha:2015-02-17 13:08:15"
       ]
      },
      {
       "output_type": "stream",
       "stream": "stdout",
       "text": [
        "\n",
        "Cluster centered in: id:3299142327, recurso:tetra:12082781, latitud:-0.224684551358, longitud:-0.67136824131, velocidad:0, orientacion:0, fecha:2015-02-17 13:09:02"
       ]
      },
      {
       "output_type": "stream",
       "stream": "stdout",
       "text": [
        "\n",
        "Cluster centered in: id:3299142431, recurso:tetra:12082781, latitud:-0.224684551358, longitud:-0.671368479729, velocidad:0, orientacion:0, fecha:2015-02-17 13:09:17"
       ]
      },
      {
       "output_type": "stream",
       "stream": "stdout",
       "text": [
        "\n",
        "Cluster centered in: id:3299142497, recurso:tetra:12082781, latitud:-0.224684551358, longitud:-0.671368837357, velocidad:0, orientacion:0, fecha:2015-02-17 13:09:33"
       ]
      },
      {
       "output_type": "stream",
       "stream": "stdout",
       "text": [
        "\n",
        "Cluster centered in: id:3299142567, recurso:tetra:12082781, latitud:-0.224684923887, longitud:-0.671369016171, velocidad:0, orientacion:0, fecha:2015-02-17 13:09:47"
       ]
      },
      {
       "output_type": "stream",
       "stream": "stdout",
       "text": [
        "\n",
        "Cluster centered in: id:3299142627, recurso:tetra:12082781, latitud:-0.224685117602, longitud:-0.671369552612, velocidad:0, orientacion:0, fecha:2015-02-17 13:10:02"
       ]
      },
      {
       "output_type": "stream",
       "stream": "stdout",
       "text": [
        "\n",
        "Cluster centered in: id:3299142740, recurso:tetra:12082781, latitud:-0.224685117602, longitud:-0.671369552612, velocidad:0, orientacion:0, fecha:2015-02-17 13:10:23"
       ]
      },
      {
       "output_type": "stream",
       "stream": "stdout",
       "text": [
        "\n",
        "Cluster centered in: id:3299142806, recurso:tetra:12082781, latitud:-0.224685490131, longitud:-0.671369552612, velocidad:0, orientacion:0, fecha:2015-02-17 13:10:49"
       ]
      },
      {
       "output_type": "stream",
       "stream": "stdout",
       "text": [
        "\n",
        "Cluster centered in: id:3299142898, recurso:tetra:12082781, latitud:-0.224685490131, longitud:-0.671369969845, velocidad:0, orientacion:0, fecha:2015-02-17 13:11:05"
       ]
      },
      {
       "output_type": "stream",
       "stream": "stdout",
       "text": [
        "\n",
        "Cluster centered in: id:3299143079, recurso:tetra:12082781, latitud:-0.224686428905, longitud:-0.671369016171, velocidad:0, orientacion:180, fecha:2015-02-17 13:11:19"
       ]
      },
      {
       "output_type": "stream",
       "stream": "stdout",
       "text": [
        "\n",
        "Cluster centered in: id:3299143154, recurso:tetra:12082781, latitud:-0.224688306451, longitud:-0.671367526054, velocidad:0, orientacion:0, fecha:2015-02-17 13:11:36"
       ]
      },
      {
       "output_type": "stream",
       "stream": "stdout",
       "text": [
        "\n",
        "Cluster centered in: id:3299143199, recurso:tetra:12082781, latitud:-0.22468867898, longitud:-0.671367526054, velocidad:0, orientacion:0, fecha:2015-02-17 13:11:51"
       ]
      },
      {
       "output_type": "stream",
       "stream": "stdout",
       "text": [
        "\n",
        "Cluster centered in: id:3299143309, recurso:tetra:12082781, latitud:-0.224688306451, longitud:-0.671367526054, velocidad:0, orientacion:0, fecha:2015-02-17 13:12:08"
       ]
      },
      {
       "output_type": "stream",
       "stream": "stdout",
       "text": [
        "\n",
        "Cluster centered in: id:3299143377, recurso:tetra:12082781, latitud:-0.224688306451, longitud:-0.671367526054, velocidad:0, orientacion:0, fecha:2015-02-17 13:12:33"
       ]
      },
      {
       "output_type": "stream",
       "stream": "stdout",
       "text": [
        "\n",
        "Cluster centered in: id:3299143391, recurso:tetra:12082781, latitud:-0.224688306451, longitud:-0.671367526054, velocidad:0, orientacion:0, fecha:2015-02-17 13:12:58"
       ]
      },
      {
       "output_type": "stream",
       "stream": "stdout",
       "text": [
        "\n",
        "Cluster centered in: id:3299143507, recurso:tetra:12082781, latitud:-0.224688306451, longitud:-0.67136734724, velocidad:0, orientacion:0, fecha:2015-02-17 13:13:14"
       ]
      },
      {
       "output_type": "stream",
       "stream": "stdout",
       "text": [
        "\n",
        "Cluster centered in: id:3299143576, recurso:tetra:12082781, latitud:-0.224688112736, longitud:-0.671366930008, velocidad:0, orientacion:135, fecha:2015-02-17 13:13:30"
       ]
      },
      {
       "output_type": "stream",
       "stream": "stdout",
       "text": [
        "\n",
        "Cluster centered in: id:3299143593, recurso:tetra:12082781, latitud:-0.224687546492, longitud:-0.671366930008, velocidad:0, orientacion:0, fecha:2015-02-17 13:13:43"
       ]
      },
      {
       "output_type": "stream",
       "stream": "stdout",
       "text": [
        "\n",
        "Cluster centered in: id:3299143720, recurso:tetra:12082781, latitud:-0.224687546492, longitud:-0.671366930008, velocidad:0, orientacion:0, fecha:2015-02-17 13:13:59"
       ]
      },
      {
       "output_type": "stream",
       "stream": "stdout",
       "text": [
        "\n",
        "Cluster centered in: id:3299143911, recurso:tetra:12082781, latitud:-0.224687919021, longitud:-0.671366930008, velocidad:0, orientacion:0, fecha:2015-02-17 13:14:21"
       ]
      },
      {
       "output_type": "stream",
       "stream": "stdout",
       "text": [
        "\n",
        "Cluster centered in: id:3299143960, recurso:tetra:12082781, latitud:-0.22468867898, longitud:-0.671366930008, velocidad:0, orientacion:0, fecha:2015-02-17 13:14:53"
       ]
      },
      {
       "output_type": "stream",
       "stream": "stdout",
       "text": [
        "\n",
        "Cluster centered in: id:3299144126, recurso:tetra:12082781, latitud:-0.224689051509, longitud:-0.671366930008, velocidad:0, orientacion:0, fecha:2015-02-17 13:15:08"
       ]
      },
      {
       "output_type": "stream",
       "stream": "stdout",
       "text": [
        "\n",
        "Cluster centered in: id:3299144153, recurso:tetra:12082781, latitud:-0.224689051509, longitud:-0.67136734724, velocidad:0, orientacion:0, fecha:2015-02-17 13:15:26"
       ]
      },
      {
       "output_type": "stream",
       "stream": "stdout",
       "text": [
        "\n",
        "Cluster centered in: id:3299144238, recurso:tetra:12082781, latitud:-0.224689051509, longitud:-0.67136734724, velocidad:0, orientacion:0, fecha:2015-02-17 13:15:43"
       ]
      },
      {
       "output_type": "stream",
       "stream": "stdout",
       "text": [
        "\n",
        "Cluster centered in: id:3299144309, recurso:tetra:12082781, latitud:-0.224689051509, longitud:-0.67136734724, velocidad:0, orientacion:0, fecha:2015-02-17 13:16:00"
       ]
      },
      {
       "output_type": "stream",
       "stream": "stdout",
       "text": [
        "\n",
        "Cluster centered in: id:3299144425, recurso:tetra:12082781, latitud:-0.224689051509, longitud:-0.671367526054, velocidad:0, orientacion:0, fecha:2015-02-17 13:16:15"
       ]
      },
      {
       "output_type": "stream",
       "stream": "stdout",
       "text": [
        "\n",
        "Cluster centered in: id:3299144526, recurso:tetra:12082781, latitud:-0.22468867898, longitud:-0.671367526054, velocidad:0, orientacion:0, fecha:2015-02-17 13:16:36"
       ]
      },
      {
       "output_type": "stream",
       "stream": "stdout",
       "text": [
        "\n",
        "Cluster centered in: id:3299144660, recurso:tetra:12082781, latitud:-0.22468867898, longitud:-0.671367883682, velocidad:0, orientacion:0, fecha:2015-02-17 13:16:52"
       ]
      },
      {
       "output_type": "stream",
       "stream": "stdout",
       "text": [
        "\n",
        "Cluster centered in: id:3299144785, recurso:tetra:12082781, latitud:-0.224688306451, longitud:-0.67136824131, velocidad:0, orientacion:0, fecha:2015-02-17 13:17:07"
       ]
      },
      {
       "output_type": "stream",
       "stream": "stdout",
       "text": [
        "\n",
        "Cluster centered in: id:3299144821, recurso:tetra:12082781, latitud:-0.224688306451, longitud:-0.67136824131, velocidad:0, orientacion:0, fecha:2015-02-17 13:17:25"
       ]
      },
      {
       "output_type": "stream",
       "stream": "stdout",
       "text": [
        "\n",
        "Cluster centered in: id:3299144874, recurso:tetra:12082781, latitud:-0.224687546492, longitud:-0.67136824131, velocidad:1, orientacion:180, fecha:2015-02-17 13:17:40"
       ]
      },
      {
       "output_type": "stream",
       "stream": "stdout",
       "text": [
        "\n",
        "Cluster centered in: id:3299144982, recurso:tetra:12082781, latitud:-0.224684000015, longitud:-0.671368479729, velocidad:0, orientacion:0, fecha:2015-02-17 13:17:55"
       ]
      },
      {
       "output_type": "stream",
       "stream": "stdout",
       "text": [
        "\n",
        "Cluster centered in: id:3299145110, recurso:tetra:12082781, latitud:-0.224684000015, longitud:-0.67136824131, velocidad:0, orientacion:0, fecha:2015-02-17 13:18:34"
       ]
      },
      {
       "output_type": "stream",
       "stream": "stdout",
       "text": [
        "\n",
        "Cluster centered in: id:3299145201, recurso:tetra:12082781, latitud:-0.224685117602, longitud:-0.67136824131, velocidad:0, orientacion:0, fecha:2015-02-17 13:18:53"
       ]
      },
      {
       "output_type": "stream",
       "stream": "stdout",
       "text": [
        "\n",
        "Cluster centered in: id:3299145253, recurso:tetra:12082781, latitud:-0.224684923887, longitud:-0.671367883682, velocidad:0, orientacion:0, fecha:2015-02-17 13:19:08"
       ]
      },
      {
       "output_type": "stream",
       "stream": "stdout",
       "text": [
        "\n",
        "Cluster centered in: id:3299145312, recurso:tetra:12082781, latitud:-0.224684551358, longitud:-0.671367883682, velocidad:0, orientacion:0, fecha:2015-02-17 13:19:31"
       ]
      },
      {
       "output_type": "stream",
       "stream": "stdout",
       "text": [
        "\n",
        "Cluster centered in: id:3299145441, recurso:tetra:12082781, latitud:-0.224685117602, longitud:-0.67136824131, velocidad:0, orientacion:0, fecha:2015-02-17 13:19:46"
       ]
      },
      {
       "output_type": "stream",
       "stream": "stdout",
       "text": [
        "\n",
        "Cluster centered in: id:3299145577, recurso:tetra:12082781, latitud:-0.224685117602, longitud:-0.67136824131, velocidad:0, orientacion:0, fecha:2015-02-17 13:19:59"
       ]
      },
      {
       "output_type": "stream",
       "stream": "stdout",
       "text": [
        "\n",
        "Cluster centered in: id:3299145630, recurso:tetra:12082781, latitud:-0.224685117602, longitud:-0.67136824131, velocidad:0, orientacion:0, fecha:2015-02-17 13:20:12"
       ]
      },
      {
       "output_type": "stream",
       "stream": "stdout",
       "text": [
        "\n",
        "Cluster centered in: id:3299145631, recurso:tetra:12082781, latitud:-0.224684923887, longitud:-0.67136824131, velocidad:0, orientacion:0, fecha:2015-02-17 13:20:32"
       ]
      },
      {
       "output_type": "stream",
       "stream": "stdout",
       "text": [
        "\n",
        "Cluster centered in: id:3299145640, recurso:tetra:12082781, latitud:-0.224684000015, longitud:-0.671368479729, velocidad:0, orientacion:0, fecha:2015-02-17 13:20:54"
       ]
      },
      {
       "output_type": "stream",
       "stream": "stdout",
       "text": [
        "\n",
        "Cluster centered in: id:3299145809, recurso:tetra:12082781, latitud:-0.224684000015, longitud:-0.671368479729, velocidad:0, orientacion:0, fecha:2015-02-17 13:21:08"
       ]
      },
      {
       "output_type": "stream",
       "stream": "stdout",
       "text": [
        "\n",
        "Cluster centered in: id:3299145819, recurso:tetra:12082781, latitud:-0.224684000015, longitud:-0.671368479729, velocidad:0, orientacion:0, fecha:2015-02-17 13:21:20"
       ]
      },
      {
       "output_type": "stream",
       "stream": "stdout",
       "text": [
        "\n",
        "Cluster centered in: id:3299145876, recurso:tetra:12082781, latitud:-0.224684551358, longitud:-0.671368479729, velocidad:0, orientacion:0, fecha:2015-02-17 13:21:32"
       ]
      },
      {
       "output_type": "stream",
       "stream": "stdout",
       "text": [
        "\n",
        "Cluster centered in: id:3299146087, recurso:tetra:12082781, latitud:-0.224684551358, longitud:-0.671368479729, velocidad:0, orientacion:0, fecha:2015-02-17 13:22:01"
       ]
      },
      {
       "output_type": "stream",
       "stream": "stdout",
       "text": [
        "\n",
        "Cluster centered in: id:3299146171, recurso:tetra:12082781, latitud:-0.224684372544, longitud:-0.671368479729, velocidad:0, orientacion:0, fecha:2015-02-17 13:22:17"
       ]
      },
      {
       "output_type": "stream",
       "stream": "stdout",
       "text": [
        "\n",
        "Cluster centered in: id:3299146289, recurso:tetra:12082781, latitud:-0.224682494998, longitud:-0.671368837357, velocidad:0, orientacion:0, fecha:2015-02-17 13:22:43"
       ]
      },
      {
       "output_type": "stream",
       "stream": "stdout",
       "text": [
        "\n",
        "Cluster centered in: id:3299146405, recurso:tetra:12082781, latitud:-0.224682494998, longitud:-0.671368479729, velocidad:0, orientacion:0, fecha:2015-02-17 13:23:00"
       ]
      },
      {
       "output_type": "stream",
       "stream": "stdout",
       "text": [
        "\n",
        "Cluster centered in: id:3299146485, recurso:tetra:12082781, latitud:-0.224684000015, longitud:-0.671368837357, velocidad:0, orientacion:0, fecha:2015-02-17 13:23:16"
       ]
      },
      {
       "output_type": "stream",
       "stream": "stdout",
       "text": [
        "\n",
        "Cluster centered in: id:3299146518, recurso:tetra:12082781, latitud:-0.224689617753, longitud:-0.67136734724, velocidad:0, orientacion:0, fecha:2015-02-17 13:23:34"
       ]
      },
      {
       "output_type": "stream",
       "stream": "stdout",
       "text": [
        "\n",
        "Cluster centered in: id:3299146589, recurso:tetra:12082781, latitud:-0.224691301584, longitud:-0.671366930008, velocidad:1, orientacion:157, fecha:2015-02-17 13:23:49"
       ]
      },
      {
       "output_type": "stream",
       "stream": "stdout",
       "text": [
        "\n",
        "Cluster centered in: id:3299146672, recurso:tetra:12082781, latitud:-0.224689230323, longitud:-0.671366930008, velocidad:0, orientacion:0, fecha:2015-02-17 13:24:04"
       ]
      },
      {
       "output_type": "stream",
       "stream": "stdout",
       "text": [
        "\n",
        "Cluster centered in: id:3299146760, recurso:tetra:12082781, latitud:-0.224687919021, longitud:-0.671366930008, velocidad:0, orientacion:0, fecha:2015-02-17 13:24:24"
       ]
      },
      {
       "output_type": "stream",
       "stream": "stdout",
       "text": [
        "\n",
        "Cluster centered in: id:3299146829, recurso:tetra:12082781, latitud:-0.224687919021, longitud:-0.671366930008, velocidad:0, orientacion:0, fecha:2015-02-17 13:24:55"
       ]
      },
      {
       "output_type": "stream",
       "stream": "stdout",
       "text": [
        "\n",
        "Cluster centered in: id:3299146924, recurso:tetra:12082781, latitud:-0.224687919021, longitud:-0.671366930008, velocidad:0, orientacion:0, fecha:2015-02-17 13:25:08"
       ]
      },
      {
       "output_type": "stream",
       "stream": "stdout",
       "text": [
        "\n",
        "Cluster centered in: id:3299146954, recurso:tetra:12082781, latitud:-0.224687919021, longitud:-0.671366930008, velocidad:0, orientacion:0, fecha:2015-02-17 13:25:22"
       ]
      },
      {
       "output_type": "stream",
       "stream": "stdout",
       "text": [
        "\n",
        "Cluster centered in: id:3299147025, recurso:tetra:12082781, latitud:-0.224686056376, longitud:-0.671366751194, velocidad:0, orientacion:0, fecha:2015-02-17 13:25:39"
       ]
      },
      {
       "output_type": "stream",
       "stream": "stdout",
       "text": [
        "\n",
        "Cluster centered in: id:3299147161, recurso:tetra:12082781, latitud:-0.224688306451, longitud:-0.67136734724, velocidad:0, orientacion:315, fecha:2015-02-17 13:25:55"
       ]
      },
      {
       "output_type": "stream",
       "stream": "stdout",
       "text": [
        "\n",
        "Cluster centered in: id:3299147267, recurso:tetra:12082781, latitud:-0.224686428905, longitud:-0.671367526054, velocidad:0, orientacion:0, fecha:2015-02-17 13:26:12"
       ]
      },
      {
       "output_type": "stream",
       "stream": "stdout",
       "text": [
        "\n",
        "Cluster centered in: id:3299147316, recurso:tetra:12082781, latitud:-0.224686056376, longitud:-0.671367526054, velocidad:0, orientacion:0, fecha:2015-02-17 13:26:38"
       ]
      },
      {
       "output_type": "stream",
       "stream": "stdout",
       "text": [
        "\n",
        "Cluster centered in: id:3299147492, recurso:tetra:12082781, latitud:-0.224686056376, longitud:-0.671367526054, velocidad:0, orientacion:0, fecha:2015-02-17 13:26:58"
       ]
      },
      {
       "output_type": "stream",
       "stream": "stdout",
       "text": [
        "\n",
        "Cluster centered in: id:3299147509, recurso:tetra:12082781, latitud:-0.224686056376, longitud:-0.671367526054, velocidad:0, orientacion:0, fecha:2015-02-17 13:27:15"
       ]
      },
      {
       "output_type": "stream",
       "stream": "stdout",
       "text": [
        "\n",
        "Cluster centered in: id:3299147586, recurso:tetra:12082781, latitud:-0.22468586266, longitud:-0.671367526054, velocidad:0, orientacion:0, fecha:2015-02-17 13:27:31"
       ]
      },
      {
       "output_type": "stream",
       "stream": "stdout",
       "text": [
        "\n",
        "Cluster centered in: id:3299147750, recurso:tetra:12082781, latitud:-0.224686428905, longitud:-0.671367526054, velocidad:0, orientacion:0, fecha:2015-02-17 13:27:49"
       ]
      },
      {
       "output_type": "stream",
       "stream": "stdout",
       "text": [
        "\n",
        "Cluster centered in: id:3299147864, recurso:tetra:12082781, latitud:-0.224686607718, longitud:-0.671367883682, velocidad:0, orientacion:0, fecha:2015-02-17 13:28:15"
       ]
      },
      {
       "output_type": "stream",
       "stream": "stdout",
       "text": [
        "\n",
        "Cluster centered in: id:3299147920, recurso:tetra:12082781, latitud:-0.224686607718, longitud:-0.671367883682, velocidad:0, orientacion:0, fecha:2015-02-17 13:28:40"
       ]
      },
      {
       "output_type": "stream",
       "stream": "stdout",
       "text": [
        "\n",
        "Cluster centered in: id:3299148111, recurso:tetra:12082781, latitud:-0.224686995149, longitud:-0.671367883682, velocidad:0, orientacion:0, fecha:2015-02-17 13:29:00"
       ]
      },
      {
       "output_type": "stream",
       "stream": "stdout",
       "text": [
        "\n",
        "Cluster centered in: id:3299148167, recurso:tetra:12082781, latitud:-0.224686995149, longitud:-0.671367883682, velocidad:0, orientacion:0, fecha:2015-02-17 13:29:11"
       ]
      },
      {
       "output_type": "stream",
       "stream": "stdout",
       "text": [
        "\n",
        "Cluster centered in: id:3299148210, recurso:tetra:12082781, latitud:-0.224686995149, longitud:-0.671367883682, velocidad:0, orientacion:0, fecha:2015-02-17 13:29:29"
       ]
      },
      {
       "output_type": "stream",
       "stream": "stdout",
       "text": [
        "\n",
        "Cluster centered in: id:3299148269, recurso:tetra:12082781, latitud:-0.224687546492, longitud:-0.67136824131, velocidad:0, orientacion:0, fecha:2015-02-17 13:29:42"
       ]
      },
      {
       "output_type": "stream",
       "stream": "stdout",
       "text": [
        "\n",
        "Cluster centered in: id:3299148382, recurso:tetra:12082781, latitud:-0.224687919021, longitud:-0.67136824131, velocidad:0, orientacion:0, fecha:2015-02-17 13:29:58"
       ]
      },
      {
       "output_type": "stream",
       "stream": "stdout",
       "text": [
        "\n",
        "Cluster centered in: id:3299148478, recurso:tetra:12082781, latitud:-0.224686607718, longitud:-0.671368837357, velocidad:0, orientacion:0, fecha:2015-02-17 13:30:21"
       ]
      },
      {
       "output_type": "stream",
       "stream": "stdout",
       "text": [
        "\n",
        "Cluster centered in: id:3299148608, recurso:tetra:12082781, latitud:-0.224686056376, longitud:-0.671369016171, velocidad:0, orientacion:0, fecha:2015-02-17 13:30:35"
       ]
      },
      {
       "output_type": "stream",
       "stream": "stdout",
       "text": [
        "\n",
        "Cluster centered in: id:3299148638, recurso:tetra:12082781, latitud:-0.224684551358, longitud:-0.671370148659, velocidad:0, orientacion:0, fecha:2015-02-17 13:30:55"
       ]
      },
      {
       "output_type": "stream",
       "stream": "stdout",
       "text": [
        "\n",
        "Cluster centered in: id:3299148715, recurso:tetra:12082781, latitud:-0.224686428905, longitud:-0.671369969845, velocidad:0, orientacion:0, fecha:2015-02-17 13:31:12"
       ]
      },
      {
       "output_type": "stream",
       "stream": "stdout",
       "text": [
        "\n",
        "Cluster centered in: id:3299148809, recurso:tetra:12082781, latitud:-0.224686607718, longitud:-0.671369969845, velocidad:0, orientacion:0, fecha:2015-02-17 13:31:25"
       ]
      },
      {
       "output_type": "stream",
       "stream": "stdout",
       "text": [
        "\n",
        "Cluster centered in: id:3299148947, recurso:tetra:12082781, latitud:-0.224687546492, longitud:-0.671369552612, velocidad:0, orientacion:0, fecha:2015-02-17 13:31:40"
       ]
      },
      {
       "output_type": "stream",
       "stream": "stdout",
       "text": [
        "\n",
        "Cluster centered in: id:3299149007, recurso:tetra:12082781, latitud:-0.224687919021, longitud:-0.671369373798, velocidad:0, orientacion:0, fecha:2015-02-17 13:31:53"
       ]
      },
      {
       "output_type": "stream",
       "stream": "stdout",
       "text": [
        "\n",
        "Cluster centered in: id:3299149021, recurso:tetra:12082781, latitud:-0.22468867898, longitud:-0.671368479729, velocidad:0, orientacion:0, fecha:2015-02-17 13:32:50"
       ]
      },
      {
       "output_type": "stream",
       "stream": "stdout",
       "text": [
        "\n",
        "Cluster centered in: id:3299149196, recurso:tetra:12082781, latitud:-0.22468867898, longitud:-0.671368479729, velocidad:0, orientacion:0, fecha:2015-02-17 13:33:11"
       ]
      },
      {
       "output_type": "stream",
       "stream": "stdout",
       "text": [
        "\n",
        "Cluster centered in: id:3299149211, recurso:tetra:12082781, latitud:-0.224688306451, longitud:-0.67136824131, velocidad:0, orientacion:0, fecha:2015-02-17 13:33:25"
       ]
      },
      {
       "output_type": "stream",
       "stream": "stdout",
       "text": [
        "\n",
        "Cluster centered in: id:3299149360, recurso:tetra:12082781, latitud:-0.224687919021, longitud:-0.67136824131, velocidad:0, orientacion:0, fecha:2015-02-17 13:33:50"
       ]
      },
      {
       "output_type": "stream",
       "stream": "stdout",
       "text": [
        "\n",
        "Cluster centered in: id:3299149499, recurso:tetra:12082781, latitud:-0.224687546492, longitud:-0.67136824131, velocidad:0, orientacion:0, fecha:2015-02-17 13:34:08"
       ]
      },
      {
       "output_type": "stream",
       "stream": "stdout",
       "text": [
        "\n",
        "Cluster centered in: id:3299149580, recurso:tetra:12082781, latitud:-0.224684000015, longitud:-0.671367883682, velocidad:0, orientacion:0, fecha:2015-02-17 13:34:34"
       ]
      },
      {
       "output_type": "stream",
       "stream": "stdout",
       "text": [
        "\n",
        "Cluster centered in: id:3299149720, recurso:tetra:12082781, latitud:-0.224685117602, longitud:-0.67136824131, velocidad:0, orientacion:0, fecha:2015-02-17 13:34:49"
       ]
      },
      {
       "output_type": "stream",
       "stream": "stdout",
       "text": [
        "\n",
        "Cluster centered in: id:3299149858, recurso:tetra:12082781, latitud:-0.224685490131, longitud:-0.67136824131, velocidad:0, orientacion:0, fecha:2015-02-17 13:35:05"
       ]
      },
      {
       "output_type": "stream",
       "stream": "stdout",
       "text": [
        "\n",
        "Cluster centered in: id:3299149896, recurso:tetra:12082781, latitud:-0.22468586266, longitud:-0.67136824131, velocidad:0, orientacion:0, fecha:2015-02-17 13:35:20"
       ]
      },
      {
       "output_type": "stream",
       "stream": "stdout",
       "text": [
        "\n",
        "Cluster centered in: id:3299149953, recurso:tetra:12082781, latitud:-0.224684551358, longitud:-0.67136824131, velocidad:0, orientacion:0, fecha:2015-02-17 13:35:34"
       ]
      },
      {
       "output_type": "stream",
       "stream": "stdout",
       "text": [
        "\n",
        "Cluster centered in: id:3299150068, recurso:tetra:12082781, latitud:-0.224684000015, longitud:-0.671367883682, velocidad:0, orientacion:0, fecha:2015-02-17 13:35:48"
       ]
      },
      {
       "output_type": "stream",
       "stream": "stdout",
       "text": [
        "\n",
        "Cluster centered in: id:3299150146, recurso:tetra:12082781, latitud:-0.224686056376, longitud:-0.67136824131, velocidad:0, orientacion:0, fecha:2015-02-17 13:36:03"
       ]
      },
      {
       "output_type": "stream",
       "stream": "stdout",
       "text": [
        "\n",
        "Cluster centered in: id:3299150148, recurso:tetra:12082781, latitud:-0.224687919021, longitud:-0.671369552612, velocidad:0, orientacion:0, fecha:2015-02-17 13:36:26"
       ]
      },
      {
       "output_type": "stream",
       "stream": "stdout",
       "text": [
        "\n",
        "Cluster centered in: id:3299150261, recurso:tetra:12082781, latitud:-0.224684923887, longitud:-0.671368479729, velocidad:0, orientacion:0, fecha:2015-02-17 13:36:39"
       ]
      },
      {
       "output_type": "stream",
       "stream": "stdout",
       "text": [
        "\n",
        "Cluster centered in: id:3299150322, recurso:tetra:12082781, latitud:-0.2246838063, longitud:-0.671367883682, velocidad:0, orientacion:0, fecha:2015-02-17 13:36:52"
       ]
      },
      {
       "output_type": "stream",
       "stream": "stdout",
       "text": [
        "\n",
        "Cluster centered in: id:3299150338, recurso:tetra:12082781, latitud:-0.2246838063, longitud:-0.671367883682, velocidad:0, orientacion:0, fecha:2015-02-17 13:37:05"
       ]
      },
      {
       "output_type": "stream",
       "stream": "stdout",
       "text": [
        "\n",
        "Cluster centered in: id:3299150465, recurso:tetra:12082781, latitud:-0.2246838063, longitud:-0.671367883682, velocidad:0, orientacion:0, fecha:2015-02-17 13:37:20"
       ]
      },
      {
       "output_type": "stream",
       "stream": "stdout",
       "text": [
        "\n",
        "Cluster centered in: id:3299150578, recurso:tetra:12082781, latitud:-0.224684372544, longitud:-0.67136824131, velocidad:0, orientacion:0, fecha:2015-02-17 13:37:37"
       ]
      },
      {
       "output_type": "stream",
       "stream": "stdout",
       "text": [
        "\n",
        "Cluster centered in: id:3299150646, recurso:tetra:12082781, latitud:-0.22468586266, longitud:-0.671368837357, velocidad:0, orientacion:135, fecha:2015-02-17 13:37:54"
       ]
      },
      {
       "output_type": "stream",
       "stream": "stdout",
       "text": [
        "\n",
        "Cluster centered in: id:3299150715, recurso:tetra:12082781, latitud:-0.224687173963, longitud:-0.671369552612, velocidad:0, orientacion:0, fecha:2015-02-17 13:38:15"
       ]
      },
      {
       "output_type": "stream",
       "stream": "stdout",
       "text": [
        "\n",
        "Cluster centered in: id:3299150891, recurso:tetra:12082781, latitud:-0.224687173963, longitud:-0.671369552612, velocidad:0, orientacion:0, fecha:2015-02-17 13:38:33"
       ]
      },
      {
       "output_type": "stream",
       "stream": "stdout",
       "text": [
        "\n",
        "Cluster centered in: id:3299150966, recurso:tetra:12082781, latitud:-0.224687173963, longitud:-0.671369552612, velocidad:0, orientacion:0, fecha:2015-02-17 13:38:53"
       ]
      },
      {
       "output_type": "stream",
       "stream": "stdout",
       "text": [
        "\n",
        "Cluster centered in: id:3299151121, recurso:tetra:12082781, latitud:-0.224684372544, longitud:-0.671367883682, velocidad:0, orientacion:0, fecha:2015-02-17 13:39:08"
       ]
      },
      {
       "output_type": "stream",
       "stream": "stdout",
       "text": [
        "\n",
        "Cluster centered in: id:3299151215, recurso:tetra:12082781, latitud:-0.2246838063, longitud:-0.671367526054, velocidad:0, orientacion:202, fecha:2015-02-17 13:39:22"
       ]
      },
      {
       "output_type": "stream",
       "stream": "stdout",
       "text": [
        "\n",
        "Cluster centered in: id:3299151279, recurso:tetra:12082781, latitud:-0.224686056376, longitud:-0.67136824131, velocidad:0, orientacion:0, fecha:2015-02-17 13:39:48"
       ]
      },
      {
       "output_type": "stream",
       "stream": "stdout",
       "text": [
        "\n",
        "Cluster centered in: id:3299151372, recurso:tetra:12082781, latitud:-0.224686995149, longitud:-0.671368479729, velocidad:0, orientacion:0, fecha:2015-02-17 13:40:02"
       ]
      },
      {
       "output_type": "stream",
       "stream": "stdout",
       "text": [
        "\n",
        "Cluster centered in: id:3299151501, recurso:tetra:12082781, latitud:-0.224684551358, longitud:-0.671367526054, velocidad:0, orientacion:0, fecha:2015-02-17 13:40:19"
       ]
      },
      {
       "output_type": "stream",
       "stream": "stdout",
       "text": [
        "\n",
        "Cluster centered in: id:3299151591, recurso:tetra:12082781, latitud:-0.224684372544, longitud:-0.67136734724, velocidad:0, orientacion:0, fecha:2015-02-17 13:40:32"
       ]
      },
      {
       "output_type": "stream",
       "stream": "stdout",
       "text": [
        "\n",
        "Cluster centered in: id:3299151637, recurso:tetra:12082781, latitud:-0.224684372544, longitud:-0.67136734724, velocidad:0, orientacion:292, fecha:2015-02-17 13:40:47"
       ]
      },
      {
       "output_type": "stream",
       "stream": "stdout",
       "text": [
        "\n",
        "Cluster centered in: id:3299151780, recurso:tetra:12082781, latitud:-0.224687546492, longitud:-0.671369969845, velocidad:0, orientacion:0, fecha:2015-02-17 13:41:05"
       ]
      },
      {
       "output_type": "stream",
       "stream": "stdout",
       "text": [
        "\n",
        "Cluster centered in: id:3299151980, recurso:tetra:12082781, latitud:-0.224686607718, longitud:-0.671369552612, velocidad:0, orientacion:0, fecha:2015-02-17 13:41:30"
       ]
      },
      {
       "output_type": "stream",
       "stream": "stdout",
       "text": [
        "\n",
        "Cluster centered in: id:3299152130, recurso:tetra:12082781, latitud:-0.224683433771, longitud:-0.671366930008, velocidad:0, orientacion:0, fecha:2015-02-17 13:41:45"
       ]
      },
      {
       "output_type": "stream",
       "stream": "stdout",
       "text": [
        "\n",
        "Cluster centered in: id:3299152182, recurso:tetra:12082781, latitud:-0.224683240056, longitud:-0.671366930008, velocidad:0, orientacion:0, fecha:2015-02-17 13:41:58"
       ]
      },
      {
       "output_type": "stream",
       "stream": "stdout",
       "text": [
        "\n",
        "Cluster centered in: id:3299152382, recurso:tetra:12082781, latitud:-0.224682494998, longitud:-0.671366930008, velocidad:0, orientacion:0, fecha:2015-02-17 13:42:12"
       ]
      },
      {
       "output_type": "stream",
       "stream": "stdout",
       "text": [
        "\n",
        "Cluster centered in: id:3299152509, recurso:tetra:12082781, latitud:-0.224684923887, longitud:-0.671367883682, velocidad:0, orientacion:0, fecha:2015-02-17 13:42:37"
       ]
      },
      {
       "output_type": "stream",
       "stream": "stdout",
       "text": [
        "\n",
        "Cluster centered in: id:3299152577, recurso:tetra:12082781, latitud:-0.224684923887, longitud:-0.671367526054, velocidad:0, orientacion:0, fecha:2015-02-17 13:42:55"
       ]
      },
      {
       "output_type": "stream",
       "stream": "stdout",
       "text": [
        "\n",
        "Cluster centered in: id:3299152630, recurso:tetra:12082781, latitud:-0.224684923887, longitud:-0.671367526054, velocidad:0, orientacion:0, fecha:2015-02-17 13:43:09"
       ]
      },
      {
       "output_type": "stream",
       "stream": "stdout",
       "text": [
        "\n",
        "Cluster centered in: id:3299152754, recurso:tetra:12082781, latitud:-0.224684372544, longitud:-0.671367883682, velocidad:0, orientacion:0, fecha:2015-02-17 13:43:25"
       ]
      },
      {
       "output_type": "stream",
       "stream": "stdout",
       "text": [
        "\n",
        "Cluster centered in: id:3299152864, recurso:tetra:12082781, latitud:-0.224684000015, longitud:-0.671367526054, velocidad:0, orientacion:0, fecha:2015-02-17 13:43:41"
       ]
      },
      {
       "output_type": "stream",
       "stream": "stdout",
       "text": [
        "\n",
        "Cluster centered in: id:3299152968, recurso:tetra:12082781, latitud:-0.224686607718, longitud:-0.671368837357, velocidad:0, orientacion:0, fecha:2015-02-17 13:44:01"
       ]
      },
      {
       "output_type": "stream",
       "stream": "stdout",
       "text": [
        "\n",
        "Cluster centered in: id:3299152979, recurso:tetra:12082781, latitud:-0.224687173963, longitud:-0.671369016171, velocidad:0, orientacion:0, fecha:2015-02-17 13:44:18"
       ]
      },
      {
       "output_type": "stream",
       "stream": "stdout",
       "text": [
        "\n",
        "Cluster centered in: id:3299152983, recurso:tetra:12082781, latitud:-0.2246838063, longitud:-0.67136734724, velocidad:1, orientacion:202, fecha:2015-02-17 13:44:48"
       ]
      },
      {
       "output_type": "stream",
       "stream": "stdout",
       "text": [
        "\n",
        "Cluster centered in: id:3299153135, recurso:tetra:12082781, latitud:-0.224689796567, longitud:-0.671369373798, velocidad:0, orientacion:0, fecha:2015-02-17 13:45:24"
       ]
      },
      {
       "output_type": "stream",
       "stream": "stdout",
       "text": [
        "\n",
        "Cluster centered in: id:3299153259, recurso:tetra:12082781, latitud:-0.224689796567, longitud:-0.671369373798, velocidad:0, orientacion:0, fecha:2015-02-17 13:45:36"
       ]
      },
      {
       "output_type": "stream",
       "stream": "stdout",
       "text": [
        "\n",
        "Cluster centered in: id:3299153434, recurso:tetra:12082781, latitud:-0.224687173963, longitud:-0.671368837357, velocidad:0, orientacion:0, fecha:2015-02-17 13:45:49"
       ]
      },
      {
       "output_type": "stream",
       "stream": "stdout",
       "text": [
        "\n",
        "Cluster centered in: id:3299153486, recurso:tetra:12082781, latitud:-0.224687173963, longitud:-0.671368837357, velocidad:0, orientacion:0, fecha:2015-02-17 13:46:06"
       ]
      },
      {
       "output_type": "stream",
       "stream": "stdout",
       "text": [
        "\n",
        "Cluster centered in: id:3299153546, recurso:tetra:12082781, latitud:-0.224686995149, longitud:-0.671369373798, velocidad:0, orientacion:0, fecha:2015-02-17 13:46:42"
       ]
      },
      {
       "output_type": "stream",
       "stream": "stdout",
       "text": [
        "\n",
        "Cluster centered in: id:3299153684, recurso:tetra:12082781, latitud:-0.224686995149, longitud:-0.671369373798, velocidad:0, orientacion:0, fecha:2015-02-17 13:46:58"
       ]
      },
      {
       "output_type": "stream",
       "stream": "stdout",
       "text": [
        "\n",
        "Cluster centered in: id:3299153757, recurso:tetra:12082781, latitud:-0.224687173963, longitud:-0.671369373798, velocidad:0, orientacion:0, fecha:2015-02-17 13:47:11"
       ]
      },
      {
       "output_type": "stream",
       "stream": "stdout",
       "text": [
        "\n",
        "Cluster centered in: id:3299153820, recurso:tetra:12082781, latitud:-0.224687173963, longitud:-0.671369373798, velocidad:0, orientacion:0, fecha:2015-02-17 13:47:25"
       ]
      },
      {
       "output_type": "stream",
       "stream": "stdout",
       "text": [
        "\n",
        "Cluster centered in: id:3299153887, recurso:tetra:12082781, latitud:-0.224686995149, longitud:-0.671369373798, velocidad:0, orientacion:225, fecha:2015-02-17 13:47:42"
       ]
      },
      {
       "output_type": "stream",
       "stream": "stdout",
       "text": [
        "\n",
        "Cluster centered in: id:3299153940, recurso:tetra:12082781, latitud:-0.224685490131, longitud:-0.671368837357, velocidad:0, orientacion:0, fecha:2015-02-17 13:47:59"
       ]
      },
      {
       "output_type": "stream",
       "stream": "stdout",
       "text": [
        "\n",
        "Cluster centered in: id:3299154130, recurso:tetra:12082781, latitud:-0.224686056376, longitud:-0.671369016171, velocidad:0, orientacion:0, fecha:2015-02-17 13:48:14"
       ]
      },
      {
       "output_type": "stream",
       "stream": "stdout",
       "text": [
        "\n",
        "Cluster centered in: id:3299154138, recurso:tetra:12082781, latitud:-0.224686428905, longitud:-0.671369016171, velocidad:0, orientacion:0, fecha:2015-02-17 13:48:26"
       ]
      },
      {
       "output_type": "stream",
       "stream": "stdout",
       "text": [
        "\n",
        "Cluster centered in: id:3299154143, recurso:tetra:12082781, latitud:-0.224684551358, longitud:-0.67136824131, velocidad:0, orientacion:0, fecha:2015-02-17 13:48:54"
       ]
      },
      {
       "output_type": "stream",
       "stream": "stdout",
       "text": [
        "\n",
        "Cluster centered in: id:3299154255, recurso:tetra:12082781, latitud:-0.224685117602, longitud:-0.671368479729, velocidad:0, orientacion:0, fecha:2015-02-17 13:49:21"
       ]
      },
      {
       "output_type": "stream",
       "stream": "stdout",
       "text": [
        "\n",
        "Cluster centered in: id:3299154346, recurso:tetra:12082781, latitud:-0.224686056376, longitud:-0.671368837357, velocidad:0, orientacion:0, fecha:2015-02-17 13:49:40"
       ]
      },
      {
       "output_type": "stream",
       "stream": "stdout",
       "text": [
        "\n",
        "Cluster centered in: id:3299154363, recurso:tetra:12082781, latitud:-0.224686056376, longitud:-0.671368837357, velocidad:0, orientacion:0, fecha:2015-02-17 13:49:54"
       ]
      },
      {
       "output_type": "stream",
       "stream": "stdout",
       "text": [
        "\n",
        "Cluster centered in: id:3299154503, recurso:tetra:12082781, latitud:-0.224686056376, longitud:-0.671368837357, velocidad:0, orientacion:0, fecha:2015-02-17 13:50:09"
       ]
      },
      {
       "output_type": "stream",
       "stream": "stdout",
       "text": [
        "\n",
        "Cluster centered in: id:3299154576, recurso:tetra:12082781, latitud:-0.224686056376, longitud:-0.671368837357, velocidad:0, orientacion:0, fecha:2015-02-17 13:50:26"
       ]
      },
      {
       "output_type": "stream",
       "stream": "stdout",
       "text": [
        "\n",
        "Cluster centered in: id:3299154726, recurso:tetra:12082781, latitud:-0.224686056376, longitud:-0.67136824131, velocidad:0, orientacion:0, fecha:2015-02-17 13:50:51"
       ]
      },
      {
       "output_type": "stream",
       "stream": "stdout",
       "text": [
        "\n",
        "Cluster centered in: id:3299154809, recurso:tetra:12082781, latitud:-0.224686056376, longitud:-0.67136824131, velocidad:0, orientacion:0, fecha:2015-02-17 13:51:04"
       ]
      },
      {
       "output_type": "stream",
       "stream": "stdout",
       "text": [
        "\n",
        "Cluster centered in: id:3299154919, recurso:tetra:12082781, latitud:-0.224686056376, longitud:-0.67136824131, velocidad:0, orientacion:0, fecha:2015-02-17 13:51:20"
       ]
      },
      {
       "output_type": "stream",
       "stream": "stdout",
       "text": [
        "\n",
        "Cluster centered in: id:3299155029, recurso:tetra:12082781, latitud:-0.224686056376, longitud:-0.67136824131, velocidad:0, orientacion:0, fecha:2015-02-17 13:51:38"
       ]
      },
      {
       "output_type": "stream",
       "stream": "stdout",
       "text": [
        "\n",
        "Cluster centered in: id:3299155184, recurso:tetra:12082781, latitud:-0.224686056376, longitud:-0.67136824131, velocidad:0, orientacion:0, fecha:2015-02-17 13:51:55"
       ]
      },
      {
       "output_type": "stream",
       "stream": "stdout",
       "text": [
        "\n",
        "Cluster centered in: id:3299155268, recurso:tetra:12082781, latitud:-0.224686056376, longitud:-0.67136824131, velocidad:0, orientacion:0, fecha:2015-02-17 13:52:18"
       ]
      },
      {
       "output_type": "stream",
       "stream": "stdout",
       "text": [
        "\n",
        "Cluster centered in: id:3299155289, recurso:tetra:12082781, latitud:-0.224686428905, longitud:-0.67136824131, velocidad:0, orientacion:0, fecha:2015-02-17 13:52:43"
       ]
      },
      {
       "output_type": "stream",
       "stream": "stdout",
       "text": [
        "\n",
        "Cluster centered in: id:3299155420, recurso:tetra:12082781, latitud:-0.22468586266, longitud:-0.671368479729, velocidad:0, orientacion:0, fecha:2015-02-17 13:53:05"
       ]
      },
      {
       "output_type": "stream",
       "stream": "stdout",
       "text": [
        "\n",
        "Cluster centered in: id:3299155539, recurso:tetra:12082781, latitud:-0.22468586266, longitud:-0.671368837357, velocidad:0, orientacion:0, fecha:2015-02-17 13:53:19"
       ]
      },
      {
       "output_type": "stream",
       "stream": "stdout",
       "text": [
        "\n",
        "Cluster centered in: id:3299155593, recurso:tetra:12082781, latitud:-0.22468586266, longitud:-0.671368837357, velocidad:0, orientacion:0, fecha:2015-02-17 13:53:36"
       ]
      },
      {
       "output_type": "stream",
       "stream": "stdout",
       "text": [
        "\n",
        "Cluster centered in: id:3299155653, recurso:tetra:12082781, latitud:-0.22468586266, longitud:-0.671368837357, velocidad:0, orientacion:0, fecha:2015-02-17 13:53:50"
       ]
      },
      {
       "output_type": "stream",
       "stream": "stdout",
       "text": [
        "\n",
        "Cluster centered in: id:3299155795, recurso:tetra:12082781, latitud:-0.22468586266, longitud:-0.671368837357, velocidad:0, orientacion:0, fecha:2015-02-17 13:54:12"
       ]
      },
      {
       "output_type": "stream",
       "stream": "stdout",
       "text": [
        "\n",
        "Cluster centered in: id:3299155911, recurso:tetra:12082781, latitud:-0.22468586266, longitud:-0.671368837357, velocidad:0, orientacion:0, fecha:2015-02-17 13:54:43"
       ]
      },
      {
       "output_type": "stream",
       "stream": "stdout",
       "text": [
        "\n",
        "Cluster centered in: id:3299156041, recurso:tetra:12082781, latitud:-0.22468586266, longitud:-0.671368479729, velocidad:0, orientacion:0, fecha:2015-02-17 13:54:58"
       ]
      },
      {
       "output_type": "stream",
       "stream": "stdout",
       "text": [
        "\n",
        "Cluster centered in: id:3299156079, recurso:tetra:12082781, latitud:-0.22468586266, longitud:-0.671368479729, velocidad:0, orientacion:0, fecha:2015-02-17 13:55:11"
       ]
      },
      {
       "output_type": "stream",
       "stream": "stdout",
       "text": [
        "\n",
        "Cluster centered in: id:3299156116, recurso:tetra:12082781, latitud:-0.224685490131, longitud:-0.671368479729, velocidad:0, orientacion:0, fecha:2015-02-17 13:55:23"
       ]
      },
      {
       "output_type": "stream",
       "stream": "stdout",
       "text": [
        "\n",
        "Cluster centered in: id:3299156247, recurso:tetra:12082781, latitud:-0.224685490131, longitud:-0.671368479729, velocidad:0, orientacion:0, fecha:2015-02-17 13:55:41"
       ]
      },
      {
       "output_type": "stream",
       "stream": "stdout",
       "text": [
        "\n",
        "Cluster centered in: id:3299156376, recurso:tetra:12082781, latitud:-0.224685490131, longitud:-0.671368479729, velocidad:0, orientacion:0, fecha:2015-02-17 13:55:54"
       ]
      },
      {
       "output_type": "stream",
       "stream": "stdout",
       "text": [
        "\n",
        "Cluster centered in: id:3299156462, recurso:tetra:12082781, latitud:-0.224685490131, longitud:-0.67136824131, velocidad:0, orientacion:0, fecha:2015-02-17 13:56:13"
       ]
      },
      {
       "output_type": "stream",
       "stream": "stdout",
       "text": [
        "\n",
        "Cluster centered in: id:3299156475, recurso:tetra:12082781, latitud:-0.224685490131, longitud:-0.67136824131, velocidad:0, orientacion:0, fecha:2015-02-17 13:56:44"
       ]
      },
      {
       "output_type": "stream",
       "stream": "stdout",
       "text": [
        "\n",
        "Cluster centered in: id:3299156644, recurso:tetra:12082781, latitud:-0.224685490131, longitud:-0.67136824131, velocidad:0, orientacion:0, fecha:2015-02-17 13:57:09"
       ]
      },
      {
       "output_type": "stream",
       "stream": "stdout",
       "text": [
        "\n",
        "Cluster centered in: id:3299156707, recurso:tetra:12082781, latitud:-0.224685490131, longitud:-0.67136824131, velocidad:0, orientacion:0, fecha:2015-02-17 13:57:21"
       ]
      },
      {
       "output_type": "stream",
       "stream": "stdout",
       "text": [
        "\n",
        "Cluster centered in: id:3299156810, recurso:tetra:12082781, latitud:-0.224685490131, longitud:-0.67136824131, velocidad:0, orientacion:0, fecha:2015-02-17 13:57:34"
       ]
      },
      {
       "output_type": "stream",
       "stream": "stdout",
       "text": [
        "\n",
        "Cluster centered in: id:3299156956, recurso:tetra:12082781, latitud:-0.224685490131, longitud:-0.67136824131, velocidad:0, orientacion:0, fecha:2015-02-17 13:57:50"
       ]
      },
      {
       "output_type": "stream",
       "stream": "stdout",
       "text": [
        "\n",
        "Cluster centered in: id:3299157024, recurso:tetra:12082781, latitud:-0.224685490131, longitud:-0.67136824131, velocidad:0, orientacion:0, fecha:2015-02-17 13:58:08"
       ]
      },
      {
       "output_type": "stream",
       "stream": "stdout",
       "text": [
        "\n",
        "Cluster centered in: id:3299157230, recurso:tetra:12082781, latitud:-0.224685490131, longitud:-0.671368479729, velocidad:0, orientacion:0, fecha:2015-02-17 13:58:52"
       ]
      },
      {
       "output_type": "stream",
       "stream": "stdout",
       "text": [
        "\n",
        "Cluster centered in: id:3299157304, recurso:tetra:12082781, latitud:-0.224685490131, longitud:-0.671368479729, velocidad:0, orientacion:0, fecha:2015-02-17 13:59:10"
       ]
      },
      {
       "output_type": "stream",
       "stream": "stdout",
       "text": [
        "\n",
        "Cluster centered in: id:3299157358, recurso:tetra:12082781, latitud:-0.224685490131, longitud:-0.671368479729, velocidad:0, orientacion:0, fecha:2015-02-17 13:59:26"
       ]
      },
      {
       "output_type": "stream",
       "stream": "stdout",
       "text": [
        "\n",
        "Cluster centered in: id:3299157457, recurso:tetra:12082781, latitud:-0.224685490131, longitud:-0.671368479729, velocidad:0, orientacion:0, fecha:2015-02-17 13:59:45"
       ]
      },
      {
       "output_type": "stream",
       "stream": "stdout",
       "text": [
        "\n",
        "Cluster centered in: id:3299157625, recurso:tetra:12082781, latitud:-0.224685490131, longitud:-0.671368479729, velocidad:0, orientacion:0, fecha:2015-02-17 14:00:01"
       ]
      },
      {
       "output_type": "stream",
       "stream": "stdout",
       "text": [
        "\n",
        "Cluster centered in: id:3299157642, recurso:tetra:12082781, latitud:-0.224685490131, longitud:-0.671368837357, velocidad:0, orientacion:45, fecha:2015-02-17 14:00:30"
       ]
      },
      {
       "output_type": "stream",
       "stream": "stdout",
       "text": [
        "\n",
        "Cluster centered in: id:3299157799, recurso:tetra:12082781, latitud:-0.224685490131, longitud:-0.671368837357, velocidad:0, orientacion:45, fecha:2015-02-17 14:00:54"
       ]
      },
      {
       "output_type": "stream",
       "stream": "stdout",
       "text": [
        "\n",
        "Cluster centered in: id:3299157829, recurso:tetra:12082781, latitud:-0.224685490131, longitud:-0.671368837357, velocidad:0, orientacion:45, fecha:2015-02-17 14:01:13"
       ]
      },
      {
       "output_type": "stream",
       "stream": "stdout",
       "text": [
        "\n",
        "Cluster centered in: id:3299157911, recurso:tetra:12082781, latitud:-0.224685490131, longitud:-0.671368837357, velocidad:0, orientacion:45, fecha:2015-02-17 14:01:26"
       ]
      },
      {
       "output_type": "stream",
       "stream": "stdout",
       "text": [
        "\n",
        "Cluster centered in: id:3299157991, recurso:tetra:12082781, latitud:-0.224685490131, longitud:-0.671368837357, velocidad:0, orientacion:45, fecha:2015-02-17 14:01:45"
       ]
      },
      {
       "output_type": "stream",
       "stream": "stdout",
       "text": [
        "\n",
        "Cluster centered in: id:3299158086, recurso:tetra:12082781, latitud:-0.224685490131, longitud:-0.671368837357, velocidad:0, orientacion:45, fecha:2015-02-17 14:02:01"
       ]
      },
      {
       "output_type": "stream",
       "stream": "stdout",
       "text": [
        "\n",
        "Cluster centered in: id:3299158194, recurso:tetra:12082781, latitud:-0.224685490131, longitud:-0.671368837357, velocidad:0, orientacion:45, fecha:2015-02-17 14:02:14"
       ]
      },
      {
       "output_type": "stream",
       "stream": "stdout",
       "text": [
        "\n",
        "Cluster centered in: id:3299158233, recurso:tetra:12082781, latitud:-0.224685490131, longitud:-0.671368837357, velocidad:0, orientacion:45, fecha:2015-02-17 14:02:42"
       ]
      },
      {
       "output_type": "stream",
       "stream": "stdout",
       "text": [
        "\n",
        "Cluster centered in: id:3299158401, recurso:tetra:12082781, latitud:-0.224685490131, longitud:-0.671368837357, velocidad:0, orientacion:45, fecha:2015-02-17 14:03:00"
       ]
      },
      {
       "output_type": "stream",
       "stream": "stdout",
       "text": [
        "\n",
        "Cluster centered in: id:3299158489, recurso:tetra:12082781, latitud:-0.224685490131, longitud:-0.671368837357, velocidad:0, orientacion:45, fecha:2015-02-17 14:03:22"
       ]
      },
      {
       "output_type": "stream",
       "stream": "stdout",
       "text": [
        "\n",
        "Cluster centered in: id:3299158625, recurso:tetra:12082781, latitud:-0.224685490131, longitud:-0.671368837357, velocidad:0, orientacion:45, fecha:2015-02-17 14:03:47"
       ]
      },
      {
       "output_type": "stream",
       "stream": "stdout",
       "text": [
        "\n",
        "Cluster centered in: id:3299158700, recurso:tetra:12082781, latitud:-0.224685490131, longitud:-0.671368837357, velocidad:0, orientacion:45, fecha:2015-02-17 14:04:02"
       ]
      },
      {
       "output_type": "stream",
       "stream": "stdout",
       "text": [
        "\n",
        "Cluster centered in: id:3299158765, recurso:tetra:12082781, latitud:-0.224687173963, longitud:-0.671366214752, velocidad:0, orientacion:67, fecha:2015-02-17 14:04:27"
       ]
      },
      {
       "output_type": "stream",
       "stream": "stdout",
       "text": [
        "\n",
        "Cluster centered in: id:3299158804, recurso:tetra:12082781, latitud:-0.224686995149, longitud:-0.671366214752, velocidad:0, orientacion:0, fecha:2015-02-17 14:04:42"
       ]
      },
      {
       "output_type": "stream",
       "stream": "stdout",
       "text": [
        "\n",
        "Cluster centered in: id:3299158999, recurso:tetra:12082781, latitud:-0.224686056376, longitud:-0.671366393566, velocidad:0, orientacion:0, fecha:2015-02-17 14:05:01"
       ]
      },
      {
       "output_type": "stream",
       "stream": "stdout",
       "text": [
        "\n",
        "Cluster centered in: id:3299159073, recurso:tetra:12082781, latitud:-0.22468586266, longitud:-0.671366751194, velocidad:0, orientacion:0, fecha:2015-02-17 14:05:14"
       ]
      },
      {
       "output_type": "stream",
       "stream": "stdout",
       "text": [
        "\n",
        "Cluster centered in: id:3299159420, recurso:tetra:12082781, latitud:-0.22468586266, longitud:-0.671366751194, velocidad:0, orientacion:0, fecha:2015-02-17 14:06:08"
       ]
      },
      {
       "output_type": "stream",
       "stream": "stdout",
       "text": [
        "\n",
        "Cluster centered in: id:3299159525, recurso:tetra:12082781, latitud:-0.22468586266, longitud:-0.671366751194, velocidad:0, orientacion:0, fecha:2015-02-17 14:06:21"
       ]
      },
      {
       "output_type": "stream",
       "stream": "stdout",
       "text": [
        "\n",
        "Cluster centered in: id:3299159560, recurso:tetra:12082781, latitud:-0.224685490131, longitud:-0.671366751194, velocidad:0, orientacion:0, fecha:2015-02-17 14:06:37"
       ]
      },
      {
       "output_type": "stream",
       "stream": "stdout",
       "text": [
        "\n",
        "Cluster centered in: id:3299159663, recurso:tetra:12082781, latitud:-0.224685490131, longitud:-0.671366751194, velocidad:0, orientacion:0, fecha:2015-02-17 14:07:02"
       ]
      },
      {
       "output_type": "stream",
       "stream": "stdout",
       "text": [
        "\n",
        "Cluster centered in: id:3299159713, recurso:tetra:12082781, latitud:-0.224686056376, longitud:-0.671366214752, velocidad:0, orientacion:247, fecha:2015-02-17 14:07:17"
       ]
      },
      {
       "output_type": "stream",
       "stream": "stdout",
       "text": [
        "\n",
        "Cluster centered in: id:3299159780, recurso:tetra:12082781, latitud:-0.224686995149, longitud:-0.671365439892, velocidad:0, orientacion:0, fecha:2015-02-17 14:07:30"
       ]
      },
      {
       "output_type": "stream",
       "stream": "stdout",
       "text": [
        "\n",
        "Cluster centered in: id:3299159912, recurso:tetra:12082781, latitud:-0.224686607718, longitud:-0.671365439892, velocidad:1, orientacion:225, fecha:2015-02-17 14:07:45"
       ]
      },
      {
       "output_type": "stream",
       "stream": "stdout",
       "text": [
        "\n",
        "Cluster centered in: id:3299159949, recurso:tetra:12082781, latitud:-0.224687546492, longitud:-0.671366214752, velocidad:0, orientacion:0, fecha:2015-02-17 14:08:20"
       ]
      },
      {
       "output_type": "stream",
       "stream": "stdout",
       "text": [
        "\n",
        "Cluster centered in: id:3299160076, recurso:tetra:12082781, latitud:-0.224687546492, longitud:-0.671366393566, velocidad:0, orientacion:0, fecha:2015-02-17 14:08:39"
       ]
      },
      {
       "output_type": "stream",
       "stream": "stdout",
       "text": [
        "\n",
        "Cluster centered in: id:3299160168, recurso:tetra:12082781, latitud:-0.224687546492, longitud:-0.671366393566, velocidad:0, orientacion:0, fecha:2015-02-17 14:08:55"
       ]
      },
      {
       "output_type": "stream",
       "stream": "stdout",
       "text": [
        "\n",
        "Cluster centered in: id:3299160329, recurso:tetra:12082781, latitud:-0.224687919021, longitud:-0.671366930008, velocidad:0, orientacion:0, fecha:2015-02-17 14:09:10"
       ]
      },
      {
       "output_type": "stream",
       "stream": "stdout",
       "text": [
        "\n",
        "Cluster centered in: id:3299160423, recurso:tetra:12082781, latitud:-0.224687919021, longitud:-0.671366930008, velocidad:0, orientacion:0, fecha:2015-02-17 14:09:27"
       ]
      },
      {
       "output_type": "stream",
       "stream": "stdout",
       "text": [
        "\n",
        "Cluster centered in: id:3299160486, recurso:tetra:12082781, latitud:-0.224687919021, longitud:-0.671366930008, velocidad:0, orientacion:0, fecha:2015-02-17 14:09:43"
       ]
      },
      {
       "output_type": "stream",
       "stream": "stdout",
       "text": [
        "\n",
        "Cluster centered in: id:3299160520, recurso:tetra:12082781, latitud:-0.224687919021, longitud:-0.671366930008, velocidad:0, orientacion:0, fecha:2015-02-17 14:10:15"
       ]
      },
      {
       "output_type": "stream",
       "stream": "stdout",
       "text": [
        "\n",
        "Cluster centered in: id:3299160612, recurso:tetra:12082781, latitud:-0.224687919021, longitud:-0.671366930008, velocidad:0, orientacion:0, fecha:2015-02-17 14:10:28"
       ]
      },
      {
       "output_type": "stream",
       "stream": "stdout",
       "text": [
        "\n",
        "Cluster centered in: id:3299160747, recurso:tetra:12082781, latitud:-0.224687919021, longitud:-0.671366930008, velocidad:0, orientacion:0, fecha:2015-02-17 14:10:42"
       ]
      },
      {
       "output_type": "stream",
       "stream": "stdout",
       "text": [
        "\n",
        "Cluster centered in: id:3299160820, recurso:tetra:12082781, latitud:-0.224687919021, longitud:-0.671366930008, velocidad:0, orientacion:0, fecha:2015-02-17 14:10:56"
       ]
      },
      {
       "output_type": "stream",
       "stream": "stdout",
       "text": [
        "\n",
        "Cluster centered in: id:3299160946, recurso:tetra:12082781, latitud:-0.224687919021, longitud:-0.671366930008, velocidad:0, orientacion:0, fecha:2015-02-17 14:11:14"
       ]
      },
      {
       "output_type": "stream",
       "stream": "stdout",
       "text": [
        "\n",
        "Cluster centered in: id:3299161050, recurso:tetra:12082781, latitud:-0.224687919021, longitud:-0.671366930008, velocidad:0, orientacion:0, fecha:2015-02-17 14:11:26"
       ]
      },
      {
       "output_type": "stream",
       "stream": "stdout",
       "text": [
        "\n",
        "Cluster centered in: id:3299161118, recurso:tetra:12082781, latitud:-0.224687919021, longitud:-0.671366930008, velocidad:0, orientacion:0, fecha:2015-02-17 14:11:45"
       ]
      },
      {
       "output_type": "stream",
       "stream": "stdout",
       "text": [
        "\n",
        "Cluster centered in: id:3299161135, recurso:tetra:12082781, latitud:-0.224687919021, longitud:-0.671366930008, velocidad:0, orientacion:0, fecha:2015-02-17 14:12:15"
       ]
      },
      {
       "output_type": "stream",
       "stream": "stdout",
       "text": [
        "\n",
        "Cluster centered in: id:3299161241, recurso:tetra:12082781, latitud:-0.224687919021, longitud:-0.671366930008, velocidad:0, orientacion:0, fecha:2015-02-17 14:12:31"
       ]
      },
      {
       "output_type": "stream",
       "stream": "stdout",
       "text": [
        "\n",
        "Cluster centered in: id:3299161305, recurso:tetra:12082781, latitud:-0.224687919021, longitud:-0.671366930008, velocidad:0, orientacion:0, fecha:2015-02-17 14:12:44"
       ]
      },
      {
       "output_type": "stream",
       "stream": "stdout",
       "text": [
        "\n",
        "Cluster centered in: id:3299161344, recurso:tetra:12082781, latitud:-0.224687919021, longitud:-0.671366930008, velocidad:0, orientacion:0, fecha:2015-02-17 14:12:57"
       ]
      },
      {
       "output_type": "stream",
       "stream": "stdout",
       "text": [
        "\n",
        "Cluster centered in: id:3299161467, recurso:tetra:12082781, latitud:-0.224687919021, longitud:-0.671366930008, velocidad:0, orientacion:0, fecha:2015-02-17 14:13:24"
       ]
      },
      {
       "output_type": "stream",
       "stream": "stdout",
       "text": [
        "\n",
        "Cluster centered in: id:3299161562, recurso:tetra:12082781, latitud:-0.224687919021, longitud:-0.671366930008, velocidad:0, orientacion:0, fecha:2015-02-17 14:13:43"
       ]
      },
      {
       "output_type": "stream",
       "stream": "stdout",
       "text": [
        "\n",
        "Cluster centered in: id:3299161695, recurso:tetra:12082781, latitud:-0.224687919021, longitud:-0.671366930008, velocidad:0, orientacion:0, fecha:2015-02-17 14:14:05"
       ]
      },
      {
       "output_type": "stream",
       "stream": "stdout",
       "text": [
        "\n",
        "Cluster centered in: id:3299161854, recurso:tetra:12082781, latitud:-0.224687919021, longitud:-0.671366930008, velocidad:0, orientacion:0, fecha:2015-02-17 14:14:20"
       ]
      },
      {
       "output_type": "stream",
       "stream": "stdout",
       "text": [
        "\n",
        "Cluster centered in: id:3299161896, recurso:tetra:12082781, latitud:-0.224688306451, longitud:-0.671366393566, velocidad:1, orientacion:135, fecha:2015-02-17 14:14:39"
       ]
      },
      {
       "output_type": "stream",
       "stream": "stdout",
       "text": [
        "\n",
        "Cluster centered in: id:3299162020, recurso:tetra:12082781, latitud:-0.22468867898, longitud:-0.671365082264, velocidad:0, orientacion:202, fecha:2015-02-17 14:14:54"
       ]
      },
      {
       "output_type": "stream",
       "stream": "stdout",
       "text": [
        "\n",
        "Cluster centered in: id:3299162086, recurso:tetra:12082781, latitud:-0.224689796567, longitud:-0.671366751194, velocidad:0, orientacion:0, fecha:2015-02-17 14:15:10"
       ]
      },
      {
       "output_type": "stream",
       "stream": "stdout",
       "text": [
        "\n",
        "Cluster centered in: id:3299162190, recurso:tetra:12082781, latitud:-0.224689796567, longitud:-0.671366751194, velocidad:0, orientacion:0, fecha:2015-02-17 14:15:28"
       ]
      },
      {
       "output_type": "stream",
       "stream": "stdout",
       "text": [
        "\n",
        "Cluster centered in: id:3299162241, recurso:tetra:12082781, latitud:-0.224689796567, longitud:-0.671366751194, velocidad:0, orientacion:0, fecha:2015-02-17 14:15:43"
       ]
      },
      {
       "output_type": "stream",
       "stream": "stdout",
       "text": [
        "\n",
        "Cluster centered in: id:3299162292, recurso:tetra:12082781, latitud:-0.224689617753, longitud:-0.671366751194, velocidad:0, orientacion:0, fecha:2015-02-17 14:16:06"
       ]
      },
      {
       "output_type": "stream",
       "stream": "stdout",
       "text": [
        "\n",
        "Cluster centered in: id:3299162436, recurso:tetra:12082781, latitud:-0.224689617753, longitud:-0.671366751194, velocidad:0, orientacion:0, fecha:2015-02-17 14:16:22"
       ]
      },
      {
       "output_type": "stream",
       "stream": "stdout",
       "text": [
        "\n",
        "Cluster centered in: id:3299162571, recurso:tetra:12082781, latitud:-0.22468867898, longitud:-0.671366214752, velocidad:0, orientacion:0, fecha:2015-02-17 14:16:38"
       ]
      },
      {
       "output_type": "stream",
       "stream": "stdout",
       "text": [
        "\n",
        "Cluster centered in: id:3299162768, recurso:tetra:12082781, latitud:-0.224686995149, longitud:-0.671365082264, velocidad:0, orientacion:0, fecha:2015-02-17 14:16:54"
       ]
      },
      {
       "output_type": "stream",
       "stream": "stdout",
       "text": [
        "\n",
        "Cluster centered in: id:3299162845, recurso:tetra:12082781, latitud:-0.224687173963, longitud:-0.671365439892, velocidad:0, orientacion:0, fecha:2015-02-17 14:17:13"
       ]
      },
      {
       "output_type": "stream",
       "stream": "stdout",
       "text": [
        "\n",
        "Cluster centered in: id:3299162910, recurso:tetra:12082781, latitud:-0.224687546492, longitud:-0.671365439892, velocidad:0, orientacion:0, fecha:2015-02-17 14:17:40"
       ]
      },
      {
       "output_type": "stream",
       "stream": "stdout",
       "text": [
        "\n",
        "Cluster centered in: id:3299163028, recurso:tetra:12082781, latitud:-0.224687919021, longitud:-0.671365439892, velocidad:0, orientacion:0, fecha:2015-02-17 14:17:54"
       ]
      },
      {
       "output_type": "stream",
       "stream": "stdout",
       "text": [
        "\n",
        "Cluster centered in: id:3299163051, recurso:tetra:12082781, latitud:-0.224688112736, longitud:-0.671365439892, velocidad:0, orientacion:0, fecha:2015-02-17 14:18:08"
       ]
      },
      {
       "output_type": "stream",
       "stream": "stdout",
       "text": [
        "\n",
        "Cluster centered in: id:3299163145, recurso:tetra:12082781, latitud:-0.224687546492, longitud:-0.671365857124, velocidad:0, orientacion:0, fecha:2015-02-17 14:18:27"
       ]
      },
      {
       "output_type": "stream",
       "stream": "stdout",
       "text": [
        "\n",
        "Cluster centered in: id:3299163198, recurso:tetra:12082781, latitud:-0.224687546492, longitud:-0.671365857124, velocidad:0, orientacion:0, fecha:2015-02-17 14:18:42"
       ]
      },
      {
       "output_type": "stream",
       "stream": "stdout",
       "text": [
        "\n",
        "Cluster centered in: id:3299163269, recurso:tetra:12082781, latitud:-0.224687546492, longitud:-0.671366214752, velocidad:0, orientacion:0, fecha:2015-02-17 14:18:59"
       ]
      },
      {
       "output_type": "stream",
       "stream": "stdout",
       "text": [
        "\n",
        "Cluster centered in: id:3299163383, recurso:tetra:12082781, latitud:-0.224687173963, longitud:-0.671366751194, velocidad:0, orientacion:0, fecha:2015-02-17 14:19:16"
       ]
      },
      {
       "output_type": "stream",
       "stream": "stdout",
       "text": [
        "\n",
        "Cluster centered in: id:3299163433, recurso:tetra:12082781, latitud:-0.224686995149, longitud:-0.671366930008, velocidad:0, orientacion:0, fecha:2015-02-17 14:19:36"
       ]
      },
      {
       "output_type": "stream",
       "stream": "stdout",
       "text": [
        "\n",
        "Cluster centered in: id:3299163438, recurso:tetra:12082781, latitud:-0.224686995149, longitud:-0.671366751194, velocidad:0, orientacion:0, fecha:2015-02-17 14:20:05"
       ]
      },
      {
       "output_type": "stream",
       "stream": "stdout",
       "text": [
        "\n",
        "Cluster centered in: id:3299163596, recurso:tetra:12082781, latitud:-0.224686995149, longitud:-0.671366751194, velocidad:0, orientacion:0, fecha:2015-02-17 14:20:23"
       ]
      },
      {
       "output_type": "stream",
       "stream": "stdout",
       "text": [
        "\n",
        "Cluster centered in: id:3299163695, recurso:tetra:12082781, latitud:-0.224687173963, longitud:-0.671366751194, velocidad:0, orientacion:0, fecha:2015-02-17 14:20:42"
       ]
      },
      {
       "output_type": "stream",
       "stream": "stdout",
       "text": [
        "\n",
        "Cluster centered in: id:3299163789, recurso:tetra:12082781, latitud:-0.224687173963, longitud:-0.671366751194, velocidad:0, orientacion:0, fecha:2015-02-17 14:20:56"
       ]
      },
      {
       "output_type": "stream",
       "stream": "stdout",
       "text": [
        "\n",
        "Cluster centered in: id:3299163851, recurso:tetra:12082781, latitud:-0.224687173963, longitud:-0.671366751194, velocidad:0, orientacion:0, fecha:2015-02-17 14:21:09"
       ]
      },
      {
       "output_type": "stream",
       "stream": "stdout",
       "text": [
        "\n",
        "Cluster centered in: id:3299164009, recurso:tetra:12082781, latitud:-0.224687173963, longitud:-0.671366930008, velocidad:0, orientacion:0, fecha:2015-02-17 14:21:34"
       ]
      },
      {
       "output_type": "stream",
       "stream": "stdout",
       "text": [
        "\n",
        "Cluster centered in: id:3299164109, recurso:tetra:12082781, latitud:-0.224687173963, longitud:-0.671366930008, velocidad:0, orientacion:0, fecha:2015-02-17 14:21:51"
       ]
      },
      {
       "output_type": "stream",
       "stream": "stdout",
       "text": [
        "\n",
        "Cluster centered in: id:3299164218, recurso:tetra:12082781, latitud:-0.224687173963, longitud:-0.671366930008, velocidad:0, orientacion:0, fecha:2015-02-17 14:22:08"
       ]
      },
      {
       "output_type": "stream",
       "stream": "stdout",
       "text": [
        "\n",
        "Cluster centered in: id:3299164295, recurso:tetra:12082781, latitud:-0.224687173963, longitud:-0.671366930008, velocidad:0, orientacion:0, fecha:2015-02-17 14:22:22"
       ]
      },
      {
       "output_type": "stream",
       "stream": "stdout",
       "text": [
        "\n",
        "Cluster centered in: id:3299164443, recurso:tetra:12082781, latitud:-0.224687173963, longitud:-0.671366930008, velocidad:0, orientacion:0, fecha:2015-02-17 14:22:34"
       ]
      },
      {
       "output_type": "stream",
       "stream": "stdout",
       "text": [
        "\n",
        "Cluster centered in: id:3299164529, recurso:tetra:12082781, latitud:-0.224687546492, longitud:-0.671366930008, velocidad:0, orientacion:0, fecha:2015-02-17 14:22:55"
       ]
      },
      {
       "output_type": "stream",
       "stream": "stdout",
       "text": [
        "\n",
        "Cluster centered in: id:3299164596, recurso:tetra:12082781, latitud:-0.22468867898, longitud:-0.671365439892, velocidad:0, orientacion:0, fecha:2015-02-17 14:23:19"
       ]
      },
      {
       "output_type": "stream",
       "stream": "stdout",
       "text": [
        "\n",
        "Cluster centered in: id:3299164635, recurso:tetra:12082781, latitud:-0.22468867898, longitud:-0.671365439892, velocidad:0, orientacion:0, fecha:2015-02-17 14:23:45"
       ]
      },
      {
       "output_type": "stream",
       "stream": "stdout",
       "text": [
        "\n",
        "Cluster centered in: id:3299164759, recurso:tetra:12082781, latitud:-0.224688306451, longitud:-0.671365857124, velocidad:0, orientacion:0, fecha:2015-02-17 14:24:00"
       ]
      },
      {
       "output_type": "stream",
       "stream": "stdout",
       "text": [
        "\n",
        "Cluster centered in: id:3299164802, recurso:tetra:12082781, latitud:-0.22468867898, longitud:-0.671365439892, velocidad:0, orientacion:0, fecha:2015-02-17 14:24:19"
       ]
      },
      {
       "output_type": "stream",
       "stream": "stdout",
       "text": [
        "\n",
        "Cluster centered in: id:3299164892, recurso:tetra:12082781, latitud:-0.22468867898, longitud:-0.671366751194, velocidad:0, orientacion:0, fecha:2015-02-17 14:24:35"
       ]
      },
      {
       "output_type": "stream",
       "stream": "stdout",
       "text": [
        "\n",
        "Cluster centered in: id:3299164946, recurso:tetra:12082781, latitud:-0.224689051509, longitud:-0.671366751194, velocidad:0, orientacion:0, fecha:2015-02-17 14:24:54"
       ]
      },
      {
       "output_type": "stream",
       "stream": "stdout",
       "text": [
        "\n",
        "Cluster centered in: id:3299164967, recurso:tetra:12082781, latitud:-0.224688306451, longitud:-0.67136734724, velocidad:0, orientacion:0, fecha:2015-02-17 14:25:13"
       ]
      },
      {
       "output_type": "stream",
       "stream": "stdout",
       "text": [
        "\n",
        "Cluster centered in: id:3299165105, recurso:tetra:12082781, latitud:-0.22468586266, longitud:-0.671366393566, velocidad:0, orientacion:0, fecha:2015-02-17 14:25:28"
       ]
      },
      {
       "output_type": "stream",
       "stream": "stdout",
       "text": [
        "\n",
        "Cluster centered in: id:3299165182, recurso:tetra:12082781, latitud:-0.224682301283, longitud:-0.671364724636, velocidad:1, orientacion:112, fecha:2015-02-17 14:25:51"
       ]
      },
      {
       "output_type": "stream",
       "stream": "stdout",
       "text": [
        "\n",
        "Cluster centered in: id:3299165347, recurso:tetra:12082781, latitud:-0.22468174994, longitud:-0.671363770962, velocidad:0, orientacion:315, fecha:2015-02-17 14:26:08"
       ]
      },
      {
       "output_type": "stream",
       "stream": "stdout",
       "text": [
        "\n",
        "Cluster centered in: id:3299165453, recurso:tetra:12082781, latitud:-0.224684000015, longitud:-0.671365857124, velocidad:1, orientacion:225, fecha:2015-02-17 14:26:28"
       ]
      },
      {
       "output_type": "stream",
       "stream": "stdout",
       "text": [
        "\n",
        "Cluster centered in: id:3299165565, recurso:tetra:12082781, latitud:-0.224684000015, longitud:-0.671366930008, velocidad:1, orientacion:315, fecha:2015-02-17 14:26:43"
       ]
      },
      {
       "output_type": "stream",
       "stream": "stdout",
       "text": [
        "\n",
        "Cluster centered in: id:3299165670, recurso:tetra:12082781, latitud:-0.224684000015, longitud:-0.671366930008, velocidad:1, orientacion:315, fecha:2015-02-17 14:26:57"
       ]
      },
      {
       "output_type": "stream",
       "stream": "stdout",
       "text": [
        "\n",
        "Cluster centered in: id:3299165747, recurso:tetra:12082781, latitud:-0.224684000015, longitud:-0.671366930008, velocidad:1, orientacion:315, fecha:2015-02-17 14:27:24"
       ]
      },
      {
       "output_type": "stream",
       "stream": "stdout",
       "text": [
        "\n",
        "Cluster centered in: id:3299165844, recurso:tetra:12082781, latitud:-0.224684000015, longitud:-0.671366930008, velocidad:1, orientacion:315, fecha:2015-02-17 14:27:38"
       ]
      },
      {
       "output_type": "stream",
       "stream": "stdout",
       "text": [
        "\n",
        "Cluster centered in: id:3299165959, recurso:tetra:12082781, latitud:-0.224653467536, longitud:-0.671403110027, velocidad:0, orientacion:112, fecha:2015-02-17 14:27:56"
       ]
      },
      {
       "output_type": "stream",
       "stream": "stdout",
       "text": [
        "\n",
        "Cluster centered in: id:3299166061, recurso:tetra:12082781, latitud:-0.224653840065, longitud:-0.671402513981, velocidad:7, orientacion:315, fecha:2015-02-17 14:28:10"
       ]
      },
      {
       "output_type": "stream",
       "stream": "stdout",
       "text": [
        "\n",
        "Cluster centered in: id:3299166222, recurso:tetra:12082781, latitud:-0.224655151367, longitud:-0.67140007019, velocidad:0, orientacion:90, fecha:2015-02-17 14:28:26"
       ]
      },
      {
       "output_type": "stream",
       "stream": "stdout",
       "text": [
        "\n",
        "Cluster centered in: id:3299166260, recurso:tetra:12082781, latitud:-0.224655151367, longitud:-0.671399891376, velocidad:1, orientacion:135, fecha:2015-02-17 14:28:41"
       ]
      },
      {
       "output_type": "stream",
       "stream": "stdout",
       "text": [
        "\n",
        "Cluster centered in: id:3299166342, recurso:tetra:12082781, latitud:-0.224661335349, longitud:-0.671391487122, velocidad:0, orientacion:0, fecha:2015-02-17 14:29:11"
       ]
      },
      {
       "output_type": "stream",
       "stream": "stdout",
       "text": [
        "\n",
        "Cluster centered in: id:3299166454, recurso:tetra:12082781, latitud:-0.224667698145, longitud:-0.671379327774, velocidad:16, orientacion:315, fecha:2015-02-17 14:29:29"
       ]
      },
      {
       "output_type": "stream",
       "stream": "stdout",
       "text": [
        "\n",
        "Cluster centered in: id:3299166527, recurso:tetra:12082781, latitud:-0.224668264389, longitud:-0.671378016472, velocidad:3, orientacion:315, fecha:2015-02-17 14:29:45"
       ]
      },
      {
       "output_type": "stream",
       "stream": "stdout",
       "text": [
        "\n",
        "Cluster centered in: id:3299166587, recurso:tetra:12082781, latitud:-0.224681928754, longitud:-0.671350836754, velocidad:1, orientacion:0, fecha:2015-02-17 14:30:02"
       ]
      },
      {
       "output_type": "stream",
       "stream": "stdout",
       "text": [
        "\n",
        "Cluster centered in: id:3299166649, recurso:tetra:12082781, latitud:-0.224680244923, longitud:-0.671354055405, velocidad:0, orientacion:0, fecha:2015-02-17 14:30:17"
       ]
      },
      {
       "output_type": "stream",
       "stream": "stdout",
       "text": [
        "\n",
        "Cluster centered in: id:3299166694, recurso:tetra:12082781, latitud:-0.224661335349, longitud:-0.671384751797, velocidad:0, orientacion:0, fecha:2015-02-17 14:30:33"
       ]
      },
      {
       "output_type": "stream",
       "stream": "stdout",
       "text": [
        "\n",
        "Cluster centered in: id:3299166845, recurso:tetra:12082781, latitud:-0.224656656384, longitud:-0.671393156052, velocidad:1, orientacion:135, fecha:2015-02-17 14:30:47"
       ]
      },
      {
       "output_type": "stream",
       "stream": "stdout",
       "text": [
        "\n",
        "Cluster centered in: id:3299166905, recurso:tetra:12082781, latitud:-0.224654972553, longitud:-0.67139840126, velocidad:0, orientacion:0, fecha:2015-02-17 14:30:59"
       ]
      },
      {
       "output_type": "stream",
       "stream": "stdout",
       "text": [
        "\n",
        "Cluster centered in: id:3299166916, recurso:tetra:12082781, latitud:-0.224667146802, longitud:-0.671386778355, velocidad:0, orientacion:0, fecha:2015-02-17 14:31:21"
       ]
      },
      {
       "output_type": "stream",
       "stream": "stdout",
       "text": [
        "\n",
        "Cluster centered in: id:3299167097, recurso:tetra:12082781, latitud:-0.224668264389, longitud:-0.671385705471, velocidad:0, orientacion:0, fecha:2015-02-17 14:31:45"
       ]
      },
      {
       "output_type": "stream",
       "stream": "stdout",
       "text": [
        "\n",
        "Cluster centered in: id:3299167199, recurso:tetra:12082781, latitud:-0.224668264389, longitud:-0.671385705471, velocidad:0, orientacion:0, fecha:2015-02-17 14:32:04"
       ]
      },
      {
       "output_type": "stream",
       "stream": "stdout",
       "text": [
        "\n",
        "Cluster centered in: id:3299167265, recurso:tetra:12082781, latitud:-0.224668264389, longitud:-0.671385705471, velocidad:0, orientacion:0, fecha:2015-02-17 14:32:20"
       ]
      },
      {
       "output_type": "stream",
       "stream": "stdout",
       "text": [
        "\n",
        "Cluster centered in: id:3299167353, recurso:tetra:12082781, latitud:-0.224668264389, longitud:-0.671385705471, velocidad:0, orientacion:0, fecha:2015-02-17 14:32:38"
       ]
      },
      {
       "output_type": "stream",
       "stream": "stdout",
       "text": [
        "\n",
        "Cluster centered in: id:3299167448, recurso:tetra:12082781, latitud:-0.224668264389, longitud:-0.671385705471, velocidad:0, orientacion:0, fecha:2015-02-17 14:32:51"
       ]
      },
      {
       "output_type": "stream",
       "stream": "stdout",
       "text": [
        "\n",
        "Cluster centered in: id:3299167487, recurso:tetra:12082781, latitud:-0.224666953087, longitud:-0.671389043331, velocidad:9, orientacion:315, fecha:2015-02-17 14:33:16"
       ]
      },
      {
       "output_type": "stream",
       "stream": "stdout",
       "text": [
        "\n",
        "Cluster centered in: id:3299167676, recurso:tetra:12082781, latitud:-0.224666953087, longitud:-0.671389043331, velocidad:9, orientacion:315, fecha:2015-02-17 14:33:30"
       ]
      },
      {
       "output_type": "stream",
       "stream": "stdout",
       "text": [
        "\n",
        "Cluster centered in: id:3299167712, recurso:tetra:12082781, latitud:-0.22468586266, longitud:-0.671371042728, velocidad:0, orientacion:315, fecha:2015-02-17 14:33:46"
       ]
      },
      {
       "output_type": "stream",
       "stream": "stdout",
       "text": [
        "\n",
        "Cluster centered in: id:3299167880, recurso:tetra:12082781, latitud:-0.224685490131, longitud:-0.671371042728, velocidad:0, orientacion:157, fecha:2015-02-17 14:34:03"
       ]
      },
      {
       "output_type": "stream",
       "stream": "stdout",
       "text": [
        "\n",
        "Cluster centered in: id:3299167976, recurso:tetra:12082781, latitud:-0.224688112736, longitud:-0.671369373798, velocidad:0, orientacion:315, fecha:2015-02-17 14:34:16"
       ]
      },
      {
       "output_type": "stream",
       "stream": "stdout",
       "text": [
        "\n",
        "Cluster centered in: id:3299168042, recurso:tetra:12082781, latitud:-0.224688112736, longitud:-0.671369016171, velocidad:0, orientacion:112, fecha:2015-02-17 14:34:34"
       ]
      },
      {
       "output_type": "stream",
       "stream": "stdout",
       "text": [
        "\n",
        "Cluster centered in: id:3299168065, recurso:tetra:12082781, latitud:-0.224687919021, longitud:-0.671368837357, velocidad:0, orientacion:0, fecha:2015-02-17 14:34:56"
       ]
      },
      {
       "output_type": "stream",
       "stream": "stdout",
       "text": [
        "\n",
        "Cluster centered in: id:3299168071, recurso:tetra:12082781, latitud:-0.224687546492, longitud:-0.671369969845, velocidad:0, orientacion:0, fecha:2015-02-17 14:35:20"
       ]
      },
      {
       "output_type": "stream",
       "stream": "stdout",
       "text": [
        "\n",
        "Cluster centered in: id:3299168173, recurso:tetra:12082781, latitud:-0.224687919021, longitud:-0.671370148659, velocidad:0, orientacion:0, fecha:2015-02-17 14:35:37"
       ]
      },
      {
       "output_type": "stream",
       "stream": "stdout",
       "text": [
        "\n",
        "Cluster centered in: id:3299168257, recurso:tetra:12082781, latitud:-0.224688112736, longitud:-0.671369969845, velocidad:0, orientacion:0, fecha:2015-02-17 14:35:53"
       ]
      },
      {
       "output_type": "stream",
       "stream": "stdout",
       "text": [
        "\n",
        "Cluster centered in: id:3299168293, recurso:tetra:12082781, latitud:-0.224687919021, longitud:-0.671369969845, velocidad:0, orientacion:0, fecha:2015-02-17 14:36:09"
       ]
      },
      {
       "output_type": "stream",
       "stream": "stdout",
       "text": [
        "\n",
        "Cluster centered in: id:3299168382, recurso:tetra:12082781, latitud:-0.224687919021, longitud:-0.671369552612, velocidad:0, orientacion:0, fecha:2015-02-17 14:36:24"
       ]
      },
      {
       "output_type": "stream",
       "stream": "stdout",
       "text": [
        "\n",
        "Cluster centered in: id:3299168432, recurso:tetra:12082781, latitud:-0.224681183696, longitud:-0.671365439892, velocidad:0, orientacion:202, fecha:2015-02-17 14:36:41"
       ]
      },
      {
       "output_type": "stream",
       "stream": "stdout",
       "text": [
        "\n",
        "Cluster centered in: id:3299168652, recurso:tetra:12082781, latitud:-0.224681183696, longitud:-0.671365857124, velocidad:0, orientacion:0, fecha:2015-02-17 14:37:06"
       ]
      },
      {
       "output_type": "stream",
       "stream": "stdout",
       "text": [
        "\n",
        "Cluster centered in: id:3299168751, recurso:tetra:12082781, latitud:-0.224681183696, longitud:-0.671366214752, velocidad:0, orientacion:0, fecha:2015-02-17 14:37:21"
       ]
      },
      {
       "output_type": "stream",
       "stream": "stdout",
       "text": [
        "\n",
        "Cluster centered in: id:3299168847, recurso:tetra:12082781, latitud:-0.224681183696, longitud:-0.671366214752, velocidad:0, orientacion:0, fecha:2015-02-17 14:37:37"
       ]
      },
      {
       "output_type": "stream",
       "stream": "stdout",
       "text": [
        "\n",
        "Cluster centered in: id:3299168948, recurso:tetra:12082781, latitud:-0.224682494998, longitud:-0.671366930008, velocidad:0, orientacion:0, fecha:2015-02-17 14:37:52"
       ]
      },
      {
       "output_type": "stream",
       "stream": "stdout",
       "text": [
        "\n",
        "Cluster centered in: id:3299168997, recurso:tetra:12082781, latitud:-0.22468586266, longitud:-0.671369373798, velocidad:0, orientacion:0, fecha:2015-02-17 14:38:08"
       ]
      },
      {
       "output_type": "stream",
       "stream": "stdout",
       "text": [
        "\n",
        "Cluster centered in: id:3299169063, recurso:tetra:12082781, latitud:-0.224686056376, longitud:-0.671369373798, velocidad:0, orientacion:0, fecha:2015-02-17 14:38:23"
       ]
      },
      {
       "output_type": "stream",
       "stream": "stdout",
       "text": [
        "\n",
        "Cluster centered in: id:3299169206, recurso:tetra:12082781, latitud:-0.224686056376, longitud:-0.671369373798, velocidad:0, orientacion:0, fecha:2015-02-17 14:38:36"
       ]
      },
      {
       "output_type": "stream",
       "stream": "stdout",
       "text": [
        "\n",
        "Cluster centered in: id:3299169233, recurso:tetra:12082781, latitud:-0.224686056376, longitud:-0.671369016171, velocidad:0, orientacion:0, fecha:2015-02-17 14:39:03"
       ]
      },
      {
       "output_type": "stream",
       "stream": "stdout",
       "text": [
        "\n",
        "Cluster centered in: id:3299169384, recurso:tetra:12082781, latitud:-0.224686056376, longitud:-0.671369016171, velocidad:0, orientacion:0, fecha:2015-02-17 14:39:18"
       ]
      },
      {
       "output_type": "stream",
       "stream": "stdout",
       "text": [
        "\n",
        "Cluster centered in: id:3299169490, recurso:tetra:12082781, latitud:-0.224686056376, longitud:-0.671369016171, velocidad:0, orientacion:0, fecha:2015-02-17 14:39:33"
       ]
      },
      {
       "output_type": "stream",
       "stream": "stdout",
       "text": [
        "\n",
        "Cluster centered in: id:3299169618, recurso:tetra:12082781, latitud:-0.224684551358, longitud:-0.67136824131, velocidad:0, orientacion:0, fecha:2015-02-17 14:39:49"
       ]
      },
      {
       "output_type": "stream",
       "stream": "stdout",
       "text": [
        "\n",
        "Cluster centered in: id:3299169743, recurso:tetra:12082781, latitud:-0.224683433771, longitud:-0.67136734724, velocidad:0, orientacion:0, fecha:2015-02-17 14:40:05"
       ]
      },
      {
       "output_type": "stream",
       "stream": "stdout",
       "text": [
        "\n",
        "Cluster centered in: id:3299169818, recurso:tetra:12082781, latitud:-0.224685490131, longitud:-0.671368479729, velocidad:0, orientacion:0, fecha:2015-02-17 14:40:32"
       ]
      },
      {
       "output_type": "stream",
       "stream": "stdout",
       "text": [
        "\n",
        "Cluster centered in: id:3299169865, recurso:tetra:12082781, latitud:-0.22468586266, longitud:-0.671368837357, velocidad:0, orientacion:0, fecha:2015-02-17 14:40:54"
       ]
      },
      {
       "output_type": "stream",
       "stream": "stdout",
       "text": [
        "\n",
        "Cluster centered in: id:3299169993, recurso:tetra:12082781, latitud:-0.224664330482, longitud:-0.671385705471, velocidad:0, orientacion:0, fecha:2015-02-17 14:41:14"
       ]
      },
      {
       "output_type": "stream",
       "stream": "stdout",
       "text": [
        "\n",
        "Cluster centered in: id:3299170029, recurso:tetra:12082781, latitud:-0.224670141935, longitud:-0.671380996704, velocidad:0, orientacion:0, fecha:2015-02-17 14:41:32"
       ]
      },
      {
       "output_type": "stream",
       "stream": "stdout",
       "text": [
        "\n",
        "Cluster centered in: id:3299170125, recurso:tetra:12082781, latitud:-0.224670886993, longitud:-0.671380460262, velocidad:0, orientacion:0, fecha:2015-02-17 14:41:50"
       ]
      },
      {
       "output_type": "stream",
       "stream": "stdout",
       "text": [
        "\n",
        "Cluster centered in: id:3299170250, recurso:tetra:12082781, latitud:-0.224671259522, longitud:-0.67138004303, velocidad:0, orientacion:0, fecha:2015-02-17 14:42:03"
       ]
      },
      {
       "output_type": "stream",
       "stream": "stdout",
       "text": [
        "\n",
        "Cluster centered in: id:3299170379, recurso:tetra:12082781, latitud:-0.224671453238, longitud:-0.671379864216, velocidad:0, orientacion:0, fecha:2015-02-17 14:42:19"
       ]
      },
      {
       "output_type": "stream",
       "stream": "stdout",
       "text": [
        "\n",
        "Cluster centered in: id:3299170402, recurso:tetra:12082781, latitud:-0.224671259522, longitud:-0.671379864216, velocidad:0, orientacion:0, fecha:2015-02-17 14:42:50"
       ]
      },
      {
       "output_type": "stream",
       "stream": "stdout",
       "text": [
        "\n",
        "Cluster centered in: id:3299170433, recurso:tetra:12082781, latitud:-0.224669769406, longitud:-0.671380460262, velocidad:0, orientacion:0, fecha:2015-02-17 14:43:09"
       ]
      },
      {
       "output_type": "stream",
       "stream": "stdout",
       "text": [
        "\n",
        "Cluster centered in: id:3299170580, recurso:tetra:12082781, latitud:-0.224669769406, longitud:-0.671380460262, velocidad:0, orientacion:0, fecha:2015-02-17 14:43:25"
       ]
      },
      {
       "output_type": "stream",
       "stream": "stdout",
       "text": [
        "\n",
        "Cluster centered in: id:3299170678, recurso:tetra:12082781, latitud:-0.224665075541, longitud:-0.671382129192, velocidad:1, orientacion:157, fecha:2015-02-17 14:43:40"
       ]
      },
      {
       "output_type": "stream",
       "stream": "stdout",
       "text": [
        "\n",
        "Cluster centered in: id:3299170753, recurso:tetra:12082781, latitud:-0.224665075541, longitud:-0.671382129192, velocidad:1, orientacion:157, fecha:2015-02-17 14:43:57"
       ]
      },
      {
       "output_type": "stream",
       "stream": "stdout",
       "text": [
        "\n",
        "Cluster centered in: id:3299170813, recurso:tetra:12082781, latitud:-0.224670320749, longitud:-0.671378910542, velocidad:1, orientacion:0, fecha:2015-02-17 14:44:12"
       ]
      },
      {
       "output_type": "stream",
       "stream": "stdout",
       "text": [
        "\n",
        "Cluster centered in: id:3299170930, recurso:tetra:12082781, latitud:-0.2246748209, longitud:-0.671376287937, velocidad:0, orientacion:0, fecha:2015-02-17 14:44:31"
       ]
      },
      {
       "output_type": "stream",
       "stream": "stdout",
       "text": [
        "\n",
        "Cluster centered in: id:3299171039, recurso:tetra:12082781, latitud:-0.224677249789, longitud:-0.671375393867, velocidad:0, orientacion:157, fecha:2015-02-17 14:44:55"
       ]
      },
      {
       "output_type": "stream",
       "stream": "stdout",
       "text": [
        "\n",
        "Cluster centered in: id:3299171197, recurso:tetra:12082781, latitud:-0.224680244923, longitud:-0.671374797821, velocidad:0, orientacion:0, fecha:2015-02-17 14:45:12"
       ]
      },
      {
       "output_type": "stream",
       "stream": "stdout",
       "text": [
        "\n",
        "Cluster centered in: id:3299171346, recurso:tetra:12082781, latitud:-0.224680244923, longitud:-0.671374619007, velocidad:0, orientacion:22, fecha:2015-02-17 14:45:29"
       ]
      },
      {
       "output_type": "stream",
       "stream": "stdout",
       "text": [
        "\n",
        "Cluster centered in: id:3299171429, recurso:tetra:12082781, latitud:-0.224680244923, longitud:-0.671374619007, velocidad:0, orientacion:22, fecha:2015-02-17 14:45:41"
       ]
      },
      {
       "output_type": "stream",
       "stream": "stdout",
       "text": [
        "\n",
        "Cluster centered in: id:3299171503, recurso:tetra:12082781, latitud:-0.224680244923, longitud:-0.671374619007, velocidad:0, orientacion:22, fecha:2015-02-17 14:45:59"
       ]
      },
      {
       "output_type": "stream",
       "stream": "stdout",
       "text": [
        "\n",
        "Cluster centered in: id:3299171568, recurso:tetra:12082781, latitud:-0.224680811167, longitud:-0.671374797821, velocidad:0, orientacion:0, fecha:2015-02-17 14:46:14"
       ]
      },
      {
       "output_type": "stream",
       "stream": "stdout",
       "text": [
        "\n",
        "Cluster centered in: id:3299171582, recurso:tetra:12082781, latitud:-0.224680244923, longitud:-0.671374797821, velocidad:0, orientacion:0, fecha:2015-02-17 14:46:33"
       ]
      },
      {
       "output_type": "stream",
       "stream": "stdout",
       "text": [
        "\n",
        "Cluster centered in: id:3299171662, recurso:tetra:12082781, latitud:-0.224680244923, longitud:-0.671374797821, velocidad:0, orientacion:0, fecha:2015-02-17 14:47:00"
       ]
      },
      {
       "output_type": "stream",
       "stream": "stdout",
       "text": [
        "\n",
        "Cluster centered in: id:3299171751, recurso:tetra:12082781, latitud:-0.224680244923, longitud:-0.671374797821, velocidad:0, orientacion:0, fecha:2015-02-17 14:47:17"
       ]
      },
      {
       "output_type": "stream",
       "stream": "stdout",
       "text": [
        "\n",
        "Cluster centered in: id:3299171790, recurso:tetra:12082781, latitud:-0.224680244923, longitud:-0.671374797821, velocidad:0, orientacion:0, fecha:2015-02-17 14:47:31"
       ]
      },
      {
       "output_type": "stream",
       "stream": "stdout",
       "text": [
        "\n",
        "Cluster centered in: id:3299171866, recurso:tetra:12082781, latitud:-0.224680244923, longitud:-0.671374797821, velocidad:0, orientacion:0, fecha:2015-02-17 14:47:48"
       ]
      },
      {
       "output_type": "stream",
       "stream": "stdout",
       "text": [
        "\n",
        "Cluster centered in: id:3299171929, recurso:tetra:12082781, latitud:-0.224680244923, longitud:-0.671374797821, velocidad:0, orientacion:0, fecha:2015-02-17 14:48:03"
       ]
      },
      {
       "output_type": "stream",
       "stream": "stdout",
       "text": [
        "\n",
        "Cluster centered in: id:3299172049, recurso:tetra:12082781, latitud:-0.224680244923, longitud:-0.671375215054, velocidad:0, orientacion:0, fecha:2015-02-17 14:48:16"
       ]
      },
      {
       "output_type": "stream",
       "stream": "stdout",
       "text": [
        "\n",
        "Cluster centered in: id:3299172166, recurso:tetra:12082781, latitud:-0.224680244923, longitud:-0.671375393867, velocidad:0, orientacion:0, fecha:2015-02-17 14:48:39"
       ]
      },
      {
       "output_type": "stream",
       "stream": "stdout",
       "text": [
        "\n",
        "Cluster centered in: id:3299172263, recurso:tetra:12082781, latitud:-0.224680811167, longitud:-0.671375393867, velocidad:0, orientacion:0, fecha:2015-02-17 14:48:54"
       ]
      },
      {
       "output_type": "stream",
       "stream": "stdout",
       "text": [
        "\n",
        "Cluster centered in: id:3299172364, recurso:tetra:12082781, latitud:-0.224682301283, longitud:-0.671373128891, velocidad:0, orientacion:0, fecha:2015-02-17 14:49:09"
       ]
      },
      {
       "output_type": "stream",
       "stream": "stdout",
       "text": [
        "\n",
        "Cluster centered in: id:3299172465, recurso:tetra:12082781, latitud:-0.224682301283, longitud:-0.671373128891, velocidad:0, orientacion:0, fecha:2015-02-17 14:49:26"
       ]
      },
      {
       "output_type": "stream",
       "stream": "stdout",
       "text": [
        "\n",
        "Cluster centered in: id:3299172538, recurso:tetra:12082781, latitud:-0.224682301283, longitud:-0.671373128891, velocidad:0, orientacion:0, fecha:2015-02-17 14:49:47"
       ]
      },
      {
       "output_type": "stream",
       "stream": "stdout",
       "text": [
        "\n",
        "Cluster centered in: id:3299172732, recurso:tetra:12082781, latitud:-0.224682301283, longitud:-0.671373128891, velocidad:0, orientacion:0, fecha:2015-02-17 14:50:13"
       ]
      },
      {
       "output_type": "stream",
       "stream": "stdout",
       "text": [
        "\n",
        "Cluster centered in: id:3299172803, recurso:tetra:12082781, latitud:-0.224682301283, longitud:-0.671373128891, velocidad:0, orientacion:0, fecha:2015-02-17 14:50:33"
       ]
      },
      {
       "output_type": "stream",
       "stream": "stdout",
       "text": [
        "\n",
        "Cluster centered in: id:3299172977, recurso:tetra:12082781, latitud:-0.224682301283, longitud:-0.671373128891, velocidad:0, orientacion:0, fecha:2015-02-17 14:50:48"
       ]
      },
      {
       "output_type": "stream",
       "stream": "stdout",
       "text": [
        "\n",
        "Cluster centered in: id:3299173105, recurso:tetra:12082781, latitud:-0.224682301283, longitud:-0.671373128891, velocidad:0, orientacion:0, fecha:2015-02-17 14:51:06"
       ]
      },
      {
       "output_type": "stream",
       "stream": "stdout",
       "text": [
        "\n",
        "Cluster centered in: id:3299173162, recurso:tetra:12082781, latitud:-0.224682301283, longitud:-0.671373128891, velocidad:0, orientacion:0, fecha:2015-02-17 14:51:24"
       ]
      },
      {
       "output_type": "stream",
       "stream": "stdout",
       "text": [
        "\n",
        "Cluster centered in: id:3299173263, recurso:tetra:12082781, latitud:-0.224682301283, longitud:-0.671373128891, velocidad:0, orientacion:0, fecha:2015-02-17 14:51:37"
       ]
      },
      {
       "output_type": "stream",
       "stream": "stdout",
       "text": [
        "\n",
        "Cluster centered in: id:3299173341, recurso:tetra:12082781, latitud:-0.224682301283, longitud:-0.671373128891, velocidad:0, orientacion:0, fecha:2015-02-17 14:52:01"
       ]
      },
      {
       "output_type": "stream",
       "stream": "stdout",
       "text": [
        "\n",
        "Cluster centered in: id:3299173467, recurso:tetra:12082781, latitud:-0.224682301283, longitud:-0.671373128891, velocidad:0, orientacion:0, fecha:2015-02-17 14:52:21"
       ]
      },
      {
       "output_type": "stream",
       "stream": "stdout",
       "text": [
        "\n",
        "Cluster centered in: id:3299173537, recurso:tetra:12082781, latitud:-0.224682301283, longitud:-0.671373128891, velocidad:0, orientacion:0, fecha:2015-02-17 14:52:38"
       ]
      },
      {
       "output_type": "stream",
       "stream": "stdout",
       "text": [
        "\n",
        "Cluster centered in: id:3299173554, recurso:tetra:12082781, latitud:-0.224682301283, longitud:-0.671373128891, velocidad:0, orientacion:0, fecha:2015-02-17 14:52:53"
       ]
      },
      {
       "output_type": "stream",
       "stream": "stdout",
       "text": [
        "\n",
        "Cluster centered in: id:3299173675, recurso:tetra:12082781, latitud:-0.224682301283, longitud:-0.671373128891, velocidad:0, orientacion:0, fecha:2015-02-17 14:53:10"
       ]
      },
      {
       "output_type": "stream",
       "stream": "stdout",
       "text": [
        "\n",
        "Cluster centered in: id:3299173817, recurso:tetra:12082781, latitud:-0.224682301283, longitud:-0.671373128891, velocidad:0, orientacion:0, fecha:2015-02-17 14:53:24"
       ]
      },
      {
       "output_type": "stream",
       "stream": "stdout",
       "text": [
        "\n",
        "Cluster centered in: id:3299173925, recurso:tetra:12082781, latitud:-0.224682301283, longitud:-0.671373128891, velocidad:0, orientacion:0, fecha:2015-02-17 14:53:43"
       ]
      },
      {
       "output_type": "stream",
       "stream": "stdout",
       "text": [
        "\n",
        "Cluster centered in: id:3299173928, recurso:tetra:12082781, latitud:-0.224682301283, longitud:-0.671373128891, velocidad:0, orientacion:0, fecha:2015-02-17 14:54:03"
       ]
      },
      {
       "output_type": "stream",
       "stream": "stdout",
       "text": [
        "\n",
        "Cluster centered in: id:3299173931, recurso:tetra:12082781, latitud:-0.224682301283, longitud:-0.671373128891, velocidad:0, orientacion:0, fecha:2015-02-17 14:54:26"
       ]
      },
      {
       "output_type": "stream",
       "stream": "stdout",
       "text": [
        "\n",
        "Cluster centered in: id:3299174051, recurso:tetra:12082781, latitud:-0.224682301283, longitud:-0.671373128891, velocidad:0, orientacion:0, fecha:2015-02-17 14:54:39"
       ]
      },
      {
       "output_type": "stream",
       "stream": "stdout",
       "text": [
        "\n",
        "Cluster centered in: id:3299174167, recurso:tetra:12082781, latitud:-0.224682301283, longitud:-0.671373128891, velocidad:0, orientacion:0, fecha:2015-02-17 14:54:54"
       ]
      },
      {
       "output_type": "stream",
       "stream": "stdout",
       "text": [
        "\n",
        "Cluster centered in: id:3299174255, recurso:tetra:12082781, latitud:-0.224682301283, longitud:-0.671373128891, velocidad:0, orientacion:0, fecha:2015-02-17 14:55:08"
       ]
      },
      {
       "output_type": "stream",
       "stream": "stdout",
       "text": [
        "\n",
        "Cluster centered in: id:3299174288, recurso:tetra:12082781, latitud:-0.224682301283, longitud:-0.671373128891, velocidad:0, orientacion:0, fecha:2015-02-17 14:55:22"
       ]
      },
      {
       "output_type": "stream",
       "stream": "stdout",
       "text": [
        "\n",
        "Cluster centered in: id:3299174408, recurso:tetra:12082781, latitud:-0.224682301283, longitud:-0.671373128891, velocidad:0, orientacion:0, fecha:2015-02-17 14:55:55"
       ]
      },
      {
       "output_type": "stream",
       "stream": "stdout",
       "text": [
        "\n",
        "Cluster centered in: id:3299174516, recurso:tetra:12082781, latitud:-0.224682301283, longitud:-0.671373128891, velocidad:0, orientacion:0, fecha:2015-02-17 14:56:36"
       ]
      },
      {
       "output_type": "stream",
       "stream": "stdout",
       "text": [
        "\n",
        "Cluster centered in: id:3299174664, recurso:tetra:12082781, latitud:-0.224682301283, longitud:-0.671373128891, velocidad:0, orientacion:0, fecha:2015-02-17 14:56:50"
       ]
      },
      {
       "output_type": "stream",
       "stream": "stdout",
       "text": [
        "\n",
        "Cluster centered in: id:3299174816, recurso:tetra:12082781, latitud:-0.224682301283, longitud:-0.671373128891, velocidad:0, orientacion:0, fecha:2015-02-17 14:57:04"
       ]
      },
      {
       "output_type": "stream",
       "stream": "stdout",
       "text": [
        "\n",
        "Cluster centered in: id:3299174887, recurso:tetra:12082781, latitud:-0.224682301283, longitud:-0.671373128891, velocidad:0, orientacion:0, fecha:2015-02-17 14:57:18"
       ]
      },
      {
       "output_type": "stream",
       "stream": "stdout",
       "text": [
        "\n",
        "Cluster centered in: id:3299174972, recurso:tetra:12082781, latitud:-0.224682301283, longitud:-0.671373128891, velocidad:0, orientacion:0, fecha:2015-02-17 14:57:33"
       ]
      },
      {
       "output_type": "stream",
       "stream": "stdout",
       "text": [
        "\n",
        "Cluster centered in: id:3299175108, recurso:tetra:12082781, latitud:-0.224682301283, longitud:-0.671373128891, velocidad:0, orientacion:0, fecha:2015-02-17 14:57:54"
       ]
      },
      {
       "output_type": "stream",
       "stream": "stdout",
       "text": [
        "\n",
        "Cluster centered in: id:3299175131, recurso:tetra:12082781, latitud:-0.224686056376, longitud:-0.671371638775, velocidad:0, orientacion:0, fecha:2015-02-17 14:58:23"
       ]
      },
      {
       "output_type": "stream",
       "stream": "stdout",
       "text": [
        "\n",
        "Cluster centered in: id:3299175211, recurso:tetra:12082781, latitud:-0.224688112736, longitud:-0.671371042728, velocidad:0, orientacion:0, fecha:2015-02-17 14:58:35"
       ]
      },
      {
       "output_type": "stream",
       "stream": "stdout",
       "text": [
        "\n",
        "Cluster centered in: id:3299175299, recurso:tetra:12082781, latitud:-0.224689796567, longitud:-0.671368837357, velocidad:0, orientacion:0, fecha:2015-02-17 14:58:53"
       ]
      },
      {
       "output_type": "stream",
       "stream": "stdout",
       "text": [
        "\n",
        "Cluster centered in: id:3299175321, recurso:tetra:12082781, latitud:-0.224689617753, longitud:-0.671368837357, velocidad:0, orientacion:0, fecha:2015-02-17 14:59:08"
       ]
      },
      {
       "output_type": "stream",
       "stream": "stdout",
       "text": [
        "\n",
        "Cluster centered in: id:3299175423, recurso:tetra:12082781, latitud:-0.224688306451, longitud:-0.671368837357, velocidad:0, orientacion:0, fecha:2015-02-17 14:59:25"
       ]
      },
      {
       "output_type": "stream",
       "stream": "stdout",
       "text": [
        "\n",
        "Cluster centered in: id:3299175538, recurso:tetra:12082781, latitud:-0.224687546492, longitud:-0.671369969845, velocidad:0, orientacion:0, fecha:2015-02-17 14:59:39"
       ]
      },
      {
       "output_type": "stream",
       "stream": "stdout",
       "text": [
        "\n",
        "Cluster centered in: id:3299175639, recurso:tetra:12082781, latitud:-0.224688112736, longitud:-0.671371042728, velocidad:0, orientacion:0, fecha:2015-02-17 15:00:11"
       ]
      },
      {
       "output_type": "stream",
       "stream": "stdout",
       "text": [
        "\n",
        "Cluster centered in: id:3299175714, recurso:tetra:12082781, latitud:-0.224688112736, longitud:-0.671371042728, velocidad:0, orientacion:0, fecha:2015-02-17 15:00:37"
       ]
      },
      {
       "output_type": "stream",
       "stream": "stdout",
       "text": [
        "\n",
        "Cluster centered in: id:3299175871, recurso:tetra:12082781, latitud:-0.224688306451, longitud:-0.671370506287, velocidad:0, orientacion:0, fecha:2015-02-17 15:00:54"
       ]
      },
      {
       "output_type": "stream",
       "stream": "stdout",
       "text": [
        "\n",
        "Cluster centered in: id:3299175942, recurso:tetra:12082781, latitud:-0.22468867898, longitud:-0.671369552612, velocidad:0, orientacion:0, fecha:2015-02-17 15:01:10"
       ]
      },
      {
       "output_type": "stream",
       "stream": "stdout",
       "text": [
        "\n",
        "Cluster centered in: id:3299176014, recurso:tetra:12082781, latitud:-0.22468867898, longitud:-0.671369373798, velocidad:0, orientacion:0, fecha:2015-02-17 15:01:27"
       ]
      },
      {
       "output_type": "stream",
       "stream": "stdout",
       "text": [
        "\n",
        "Cluster centered in: id:3299176071, recurso:tetra:12082781, latitud:-0.22468867898, longitud:-0.671369373798, velocidad:0, orientacion:0, fecha:2015-02-17 15:01:43"
       ]
      },
      {
       "output_type": "stream",
       "stream": "stdout",
       "text": [
        "\n",
        "Cluster centered in: id:3299176206, recurso:tetra:12082781, latitud:-0.22468867898, longitud:-0.671369373798, velocidad:0, orientacion:0, fecha:2015-02-17 15:02:01"
       ]
      },
      {
       "output_type": "stream",
       "stream": "stdout",
       "text": [
        "\n",
        "Cluster centered in: id:3299176280, recurso:tetra:12082781, latitud:-0.22468867898, longitud:-0.671369373798, velocidad:0, orientacion:0, fecha:2015-02-17 15:02:22"
       ]
      },
      {
       "output_type": "stream",
       "stream": "stdout",
       "text": [
        "\n",
        "Cluster centered in: id:3299176483, recurso:tetra:12082781, latitud:-0.22468867898, longitud:-0.671369373798, velocidad:0, orientacion:0, fecha:2015-02-17 15:02:43"
       ]
      },
      {
       "output_type": "stream",
       "stream": "stdout",
       "text": [
        "\n",
        "Cluster centered in: id:3299176569, recurso:tetra:12082781, latitud:-0.22468867898, longitud:-0.671369373798, velocidad:0, orientacion:0, fecha:2015-02-17 15:02:57"
       ]
      },
      {
       "output_type": "stream",
       "stream": "stdout",
       "text": [
        "\n",
        "Cluster centered in: id:3299176661, recurso:tetra:12082781, latitud:-0.22468867898, longitud:-0.671369373798, velocidad:0, orientacion:0, fecha:2015-02-17 15:03:14"
       ]
      },
      {
       "output_type": "stream",
       "stream": "stdout",
       "text": [
        "\n",
        "Cluster centered in: id:3299176764, recurso:tetra:12082781, latitud:-0.22468867898, longitud:-0.671369373798, velocidad:0, orientacion:0, fecha:2015-02-17 15:03:27"
       ]
      },
      {
       "output_type": "stream",
       "stream": "stdout",
       "text": [
        "\n",
        "Cluster centered in: id:3299176866, recurso:tetra:12082781, latitud:-0.22468867898, longitud:-0.671369373798, velocidad:0, orientacion:0, fecha:2015-02-17 15:03:40"
       ]
      },
      {
       "output_type": "stream",
       "stream": "stdout",
       "text": [
        "\n",
        "Cluster centered in: id:3299176959, recurso:tetra:12082781, latitud:-0.22468867898, longitud:-0.671369373798, velocidad:0, orientacion:0, fecha:2015-02-17 15:04:09"
       ]
      },
      {
       "output_type": "stream",
       "stream": "stdout",
       "text": [
        "\n",
        "Cluster centered in: id:3299177042, recurso:tetra:12082781, latitud:-0.224688112736, longitud:-0.671369373798, velocidad:0, orientacion:0, fecha:2015-02-17 15:04:23"
       ]
      },
      {
       "output_type": "stream",
       "stream": "stdout",
       "text": [
        "\n",
        "Cluster centered in: id:3299177078, recurso:tetra:12082781, latitud:-0.224688112736, longitud:-0.671369373798, velocidad:0, orientacion:0, fecha:2015-02-17 15:04:37"
       ]
      },
      {
       "output_type": "stream",
       "stream": "stdout",
       "text": [
        "\n",
        "Cluster centered in: id:3299177114, recurso:tetra:12082781, latitud:-0.224686995149, longitud:-0.671369552612, velocidad:0, orientacion:0, fecha:2015-02-17 15:04:53"
       ]
      },
      {
       "output_type": "stream",
       "stream": "stdout",
       "text": [
        "\n",
        "Cluster centered in: id:3299177268, recurso:tetra:12082781, latitud:-0.224686995149, longitud:-0.671369552612, velocidad:0, orientacion:0, fecha:2015-02-17 15:05:08"
       ]
      },
      {
       "output_type": "stream",
       "stream": "stdout",
       "text": [
        "\n",
        "Cluster centered in: id:3299177388, recurso:tetra:12082781, latitud:-0.224686607718, longitud:-0.671369552612, velocidad:0, orientacion:0, fecha:2015-02-17 15:05:26"
       ]
      },
      {
       "output_type": "stream",
       "stream": "stdout",
       "text": [
        "\n",
        "Cluster centered in: id:3299177456, recurso:tetra:12082781, latitud:-0.224686995149, longitud:-0.671369552612, velocidad:0, orientacion:0, fecha:2015-02-17 15:05:46"
       ]
      },
      {
       "output_type": "stream",
       "stream": "stdout",
       "text": [
        "\n",
        "Cluster centered in: id:3299177462, recurso:tetra:12082781, latitud:-0.224685117602, longitud:-0.671370148659, velocidad:0, orientacion:0, fecha:2015-02-17 15:06:08"
       ]
      },
      {
       "output_type": "stream",
       "stream": "stdout",
       "text": [
        "\n",
        "Cluster centered in: id:3299177476, recurso:tetra:12082781, latitud:-0.224684923887, longitud:-0.671370148659, velocidad:0, orientacion:0, fecha:2015-02-17 15:06:33"
       ]
      },
      {
       "output_type": "stream",
       "stream": "stdout",
       "text": [
        "\n",
        "Cluster centered in: id:3299177618, recurso:tetra:12082781, latitud:-0.224683240056, longitud:-0.671370506287, velocidad:0, orientacion:0, fecha:2015-02-17 15:06:49"
       ]
      },
      {
       "output_type": "stream",
       "stream": "stdout",
       "text": [
        "\n",
        "Cluster centered in: id:3299177746, recurso:tetra:12082781, latitud:-0.224682301283, longitud:-0.671370506287, velocidad:0, orientacion:0, fecha:2015-02-17 15:07:03"
       ]
      },
      {
       "output_type": "stream",
       "stream": "stdout",
       "text": [
        "\n",
        "Cluster centered in: id:3299177792, recurso:tetra:12082781, latitud:-0.224681183696, longitud:-0.671370506287, velocidad:0, orientacion:0, fecha:2015-02-17 15:07:19"
       ]
      },
      {
       "output_type": "stream",
       "stream": "stdout",
       "text": [
        "\n",
        "Cluster centered in: id:3299177922, recurso:tetra:12082781, latitud:-0.224688306451, longitud:-0.671368837357, velocidad:1, orientacion:0, fecha:2015-02-17 15:08:02"
       ]
      },
      {
       "output_type": "stream",
       "stream": "stdout",
       "text": [
        "\n",
        "Cluster centered in: id:3299178045, recurso:tetra:12082781, latitud:-0.224684923887, longitud:-0.671369016171, velocidad:1, orientacion:157, fecha:2015-02-17 15:08:34"
       ]
      },
      {
       "output_type": "stream",
       "stream": "stdout",
       "text": [
        "\n",
        "Cluster centered in: id:3299178107, recurso:tetra:12082781, latitud:-0.224685117602, longitud:-0.671369373798, velocidad:3, orientacion:157, fecha:2015-02-17 15:08:48"
       ]
      },
      {
       "output_type": "stream",
       "stream": "stdout",
       "text": [
        "\n",
        "Cluster centered in: id:3299178273, recurso:tetra:12082781, latitud:-0.224684000015, longitud:-0.671369373798, velocidad:0, orientacion:0, fecha:2015-02-17 15:09:04"
       ]
      },
      {
       "output_type": "stream",
       "stream": "stdout",
       "text": [
        "\n",
        "Cluster centered in: id:3299178392, recurso:tetra:12082781, latitud:-0.22468586266, longitud:-0.671369016171, velocidad:0, orientacion:0, fecha:2015-02-17 15:09:23"
       ]
      },
      {
       "output_type": "stream",
       "stream": "stdout",
       "text": [
        "\n",
        "Cluster centered in: id:3299178429, recurso:tetra:12082781, latitud:-0.224684923887, longitud:-0.671369373798, velocidad:0, orientacion:0, fecha:2015-02-17 15:09:40"
       ]
      },
      {
       "output_type": "stream",
       "stream": "stdout",
       "text": [
        "\n",
        "Cluster centered in: id:3299178512, recurso:tetra:12082781, latitud:-0.224685117602, longitud:-0.671369373798, velocidad:0, orientacion:0, fecha:2015-02-17 15:09:54"
       ]
      },
      {
       "output_type": "stream",
       "stream": "stdout",
       "text": [
        "\n",
        "Cluster centered in: id:3299178641, recurso:tetra:12082781, latitud:-0.224685117602, longitud:-0.671369373798, velocidad:0, orientacion:0, fecha:2015-02-17 15:10:12"
       ]
      },
      {
       "output_type": "stream",
       "stream": "stdout",
       "text": [
        "\n",
        "Cluster centered in: id:3299178647, recurso:tetra:12082781, latitud:-0.224685490131, longitud:-0.671369373798, velocidad:0, orientacion:0, fecha:2015-02-17 15:10:35"
       ]
      },
      {
       "output_type": "stream",
       "stream": "stdout",
       "text": [
        "\n",
        "Cluster centered in: id:3299178749, recurso:tetra:12082781, latitud:-0.224685490131, longitud:-0.671369373798, velocidad:0, orientacion:0, fecha:2015-02-17 15:10:57"
       ]
      },
      {
       "output_type": "stream",
       "stream": "stdout",
       "text": [
        "\n",
        "Cluster centered in: id:3299178831, recurso:tetra:12082781, latitud:-0.224685490131, longitud:-0.671369373798, velocidad:0, orientacion:0, fecha:2015-02-17 15:11:16"
       ]
      },
      {
       "output_type": "stream",
       "stream": "stdout",
       "text": [
        "\n",
        "Cluster centered in: id:3299178856, recurso:tetra:12082781, latitud:-0.224685490131, longitud:-0.671369373798, velocidad:0, orientacion:0, fecha:2015-02-17 15:11:30"
       ]
      },
      {
       "output_type": "stream",
       "stream": "stdout",
       "text": [
        "\n",
        "Cluster centered in: id:3299178957, recurso:tetra:12082781, latitud:-0.224685490131, longitud:-0.671369373798, velocidad:0, orientacion:0, fecha:2015-02-17 15:11:45"
       ]
      },
      {
       "output_type": "stream",
       "stream": "stdout",
       "text": [
        "\n",
        "Cluster centered in: id:3299179129, recurso:tetra:12082781, latitud:-0.224685490131, longitud:-0.671369373798, velocidad:0, orientacion:0, fecha:2015-02-17 15:12:06"
       ]
      },
      {
       "output_type": "stream",
       "stream": "stdout",
       "text": [
        "\n",
        "Cluster centered in: id:3299179178, recurso:tetra:12082781, latitud:-0.224685490131, longitud:-0.671369373798, velocidad:0, orientacion:0, fecha:2015-02-17 15:12:19"
       ]
      },
      {
       "output_type": "stream",
       "stream": "stdout",
       "text": [
        "\n",
        "Cluster centered in: id:3299179238, recurso:tetra:12082781, latitud:-0.224685490131, longitud:-0.671369373798, velocidad:0, orientacion:0, fecha:2015-02-17 15:12:42"
       ]
      },
      {
       "output_type": "stream",
       "stream": "stdout",
       "text": [
        "\n",
        "Cluster centered in: id:3299179431, recurso:tetra:12082781, latitud:-0.224685490131, longitud:-0.671369373798, velocidad:0, orientacion:0, fecha:2015-02-17 15:13:01"
       ]
      },
      {
       "output_type": "stream",
       "stream": "stdout",
       "text": [
        "\n",
        "Cluster centered in: id:3299179497, recurso:tetra:12082781, latitud:-0.224685490131, longitud:-0.671369373798, velocidad:0, orientacion:0, fecha:2015-02-17 15:13:14"
       ]
      },
      {
       "output_type": "stream",
       "stream": "stdout",
       "text": [
        "\n",
        "Cluster centered in: id:3299179561, recurso:tetra:12082781, latitud:-0.224685490131, longitud:-0.671369373798, velocidad:0, orientacion:0, fecha:2015-02-17 15:13:30"
       ]
      },
      {
       "output_type": "stream",
       "stream": "stdout",
       "text": [
        "\n",
        "Cluster centered in: id:3299179644, recurso:tetra:12082781, latitud:-0.224685490131, longitud:-0.671369016171, velocidad:0, orientacion:0, fecha:2015-02-17 15:13:44"
       ]
      },
      {
       "output_type": "stream",
       "stream": "stdout",
       "text": [
        "\n",
        "Cluster centered in: id:3299179762, recurso:tetra:12082781, latitud:-0.224685490131, longitud:-0.671369016171, velocidad:0, orientacion:0, fecha:2015-02-17 15:13:55"
       ]
      },
      {
       "output_type": "stream",
       "stream": "stdout",
       "text": [
        "\n",
        "Cluster centered in: id:3299179835, recurso:tetra:12082781, latitud:-0.22468586266, longitud:-0.671369016171, velocidad:0, orientacion:0, fecha:2015-02-17 15:14:19"
       ]
      },
      {
       "output_type": "stream",
       "stream": "stdout",
       "text": [
        "\n",
        "Cluster centered in: id:3299180010, recurso:tetra:12082781, latitud:-0.224685490131, longitud:-0.671369016171, velocidad:0, orientacion:0, fecha:2015-02-17 15:14:36"
       ]
      },
      {
       "output_type": "stream",
       "stream": "stdout",
       "text": [
        "\n",
        "Cluster centered in: id:3299180096, recurso:tetra:12082781, latitud:-0.224685490131, longitud:-0.671369016171, velocidad:0, orientacion:0, fecha:2015-02-17 15:14:50"
       ]
      },
      {
       "output_type": "stream",
       "stream": "stdout",
       "text": [
        "\n",
        "Cluster centered in: id:3299180177, recurso:tetra:12082781, latitud:-0.224685490131, longitud:-0.671369552612, velocidad:0, orientacion:0, fecha:2015-02-17 15:15:06"
       ]
      },
      {
       "output_type": "stream",
       "stream": "stdout",
       "text": [
        "\n",
        "Cluster centered in: id:3299180235, recurso:tetra:12082781, latitud:-0.224685490131, longitud:-0.671369552612, velocidad:0, orientacion:0, fecha:2015-02-17 15:15:23"
       ]
      },
      {
       "output_type": "stream",
       "stream": "stdout",
       "text": [
        "\n",
        "Cluster centered in: id:3299180370, recurso:tetra:12082781, latitud:-0.224685490131, longitud:-0.671369552612, velocidad:0, orientacion:0, fecha:2015-02-17 15:15:38"
       ]
      },
      {
       "output_type": "stream",
       "stream": "stdout",
       "text": [
        "\n",
        "Cluster centered in: id:3299180405, recurso:tetra:12082781, latitud:-0.224685117602, longitud:-0.671369552612, velocidad:0, orientacion:0, fecha:2015-02-17 15:16:14"
       ]
      },
      {
       "output_type": "stream",
       "stream": "stdout",
       "text": [
        "\n",
        "Cluster centered in: id:3299180561, recurso:tetra:12082781, latitud:-0.224685117602, longitud:-0.671369552612, velocidad:0, orientacion:0, fecha:2015-02-17 15:16:32"
       ]
      },
      {
       "output_type": "stream",
       "stream": "stdout",
       "text": [
        "\n",
        "Cluster centered in: id:3299180604, recurso:tetra:12082781, latitud:-0.224685117602, longitud:-0.671369552612, velocidad:0, orientacion:0, fecha:2015-02-17 15:16:47"
       ]
      },
      {
       "output_type": "stream",
       "stream": "stdout",
       "text": [
        "\n",
        "Cluster centered in: id:3299180631, recurso:tetra:12082781, latitud:-0.224685490131, longitud:-0.671369552612, velocidad:0, orientacion:0, fecha:2015-02-17 15:17:02"
       ]
      },
      {
       "output_type": "stream",
       "stream": "stdout",
       "text": [
        "\n",
        "Cluster centered in: id:3299180806, recurso:tetra:12082781, latitud:-0.22468586266, longitud:-0.671369552612, velocidad:0, orientacion:0, fecha:2015-02-17 15:17:17"
       ]
      },
      {
       "output_type": "stream",
       "stream": "stdout",
       "text": [
        "\n",
        "Cluster centered in: id:3299180915, recurso:tetra:12082781, latitud:-0.22468586266, longitud:-0.671369552612, velocidad:0, orientacion:0, fecha:2015-02-17 15:17:33"
       ]
      },
      {
       "output_type": "stream",
       "stream": "stdout",
       "text": [
        "\n",
        "Cluster centered in: id:3299180994, recurso:tetra:12082781, latitud:-0.22468586266, longitud:-0.671369552612, velocidad:0, orientacion:0, fecha:2015-02-17 15:17:55"
       ]
      },
      {
       "output_type": "stream",
       "stream": "stdout",
       "text": [
        "\n",
        "Cluster centered in: id:3299180997, recurso:tetra:12082781, latitud:-0.224686428905, longitud:-0.671369552612, velocidad:0, orientacion:0, fecha:2015-02-17 15:18:29"
       ]
      },
      {
       "output_type": "stream",
       "stream": "stdout",
       "text": [
        "\n",
        "Cluster centered in: id:3299181175, recurso:tetra:12082781, latitud:-0.224686607718, longitud:-0.671369552612, velocidad:0, orientacion:0, fecha:2015-02-17 15:18:45"
       ]
      },
      {
       "output_type": "stream",
       "stream": "stdout",
       "text": [
        "\n",
        "Cluster centered in: id:3299181196, recurso:tetra:12082781, latitud:-0.224686995149, longitud:-0.671369552612, velocidad:0, orientacion:0, fecha:2015-02-17 15:18:57"
       ]
      },
      {
       "output_type": "stream",
       "stream": "stdout",
       "text": [
        "\n",
        "Cluster centered in: id:3299181290, recurso:tetra:12082781, latitud:-0.224687173963, longitud:-0.671369552612, velocidad:0, orientacion:0, fecha:2015-02-17 15:19:11"
       ]
      },
      {
       "output_type": "stream",
       "stream": "stdout",
       "text": [
        "\n",
        "Cluster centered in: id:3299181343, recurso:tetra:12082781, latitud:-0.224687546492, longitud:-0.671369552612, velocidad:0, orientacion:0, fecha:2015-02-17 15:19:29"
       ]
      },
      {
       "output_type": "stream",
       "stream": "stdout",
       "text": [
        "\n",
        "Cluster centered in: id:3299181493, recurso:tetra:12082781, latitud:-0.224687173963, longitud:-0.671369552612, velocidad:0, orientacion:0, fecha:2015-02-17 15:19:46"
       ]
      },
      {
       "output_type": "stream",
       "stream": "stdout",
       "text": [
        "\n",
        "Cluster centered in: id:3299181568, recurso:tetra:12082781, latitud:-0.224687173963, longitud:-0.671369552612, velocidad:0, orientacion:0, fecha:2015-02-17 15:20:09"
       ]
      },
      {
       "output_type": "stream",
       "stream": "stdout",
       "text": [
        "\n",
        "Cluster centered in: id:3299181747, recurso:tetra:12082781, latitud:-0.224687919021, longitud:-0.671369969845, velocidad:0, orientacion:202, fecha:2015-02-17 15:20:26"
       ]
      },
      {
       "output_type": "stream",
       "stream": "stdout",
       "text": [
        "\n",
        "Cluster centered in: id:3299181860, recurso:tetra:12082781, latitud:-0.224686995149, longitud:-0.671369552612, velocidad:0, orientacion:0, fecha:2015-02-17 15:20:40"
       ]
      },
      {
       "output_type": "stream",
       "stream": "stdout",
       "text": [
        "\n",
        "Cluster centered in: id:3299181923, recurso:tetra:12082781, latitud:-0.224686995149, longitud:-0.671369552612, velocidad:0, orientacion:0, fecha:2015-02-17 15:20:55"
       ]
      },
      {
       "output_type": "stream",
       "stream": "stdout",
       "text": [
        "\n",
        "Cluster centered in: id:3299182005, recurso:tetra:12082781, latitud:-0.224686995149, longitud:-0.671369552612, velocidad:1, orientacion:180, fecha:2015-02-17 15:21:11"
       ]
      },
      {
       "output_type": "stream",
       "stream": "stdout",
       "text": [
        "\n",
        "Cluster centered in: id:3299182085, recurso:tetra:12082781, latitud:-0.224686607718, longitud:-0.671369969845, velocidad:0, orientacion:0, fecha:2015-02-17 15:21:26"
       ]
      },
      {
       "output_type": "stream",
       "stream": "stdout",
       "text": [
        "\n",
        "Cluster centered in: id:3299182161, recurso:tetra:12082781, latitud:-0.224686056376, longitud:-0.671369552612, velocidad:0, orientacion:0, fecha:2015-02-17 15:21:44"
       ]
      },
      {
       "output_type": "stream",
       "stream": "stdout",
       "text": [
        "\n",
        "Cluster centered in: id:3299182166, recurso:tetra:12082781, latitud:-0.22468586266, longitud:-0.671369552612, velocidad:0, orientacion:0, fecha:2015-02-17 15:21:57"
       ]
      },
      {
       "output_type": "stream",
       "stream": "stdout",
       "text": [
        "\n",
        "Cluster centered in: id:3299182224, recurso:tetra:12082781, latitud:-0.224685490131, longitud:-0.671369552612, velocidad:0, orientacion:0, fecha:2015-02-17 15:22:19"
       ]
      },
      {
       "output_type": "stream",
       "stream": "stdout",
       "text": [
        "\n",
        "Cluster centered in: id:3299182337, recurso:tetra:12082781, latitud:-0.224685490131, longitud:-0.671369552612, velocidad:0, orientacion:0, fecha:2015-02-17 15:22:35"
       ]
      },
      {
       "output_type": "stream",
       "stream": "stdout",
       "text": [
        "\n",
        "Cluster centered in: id:3299182378, recurso:tetra:12082781, latitud:-0.224685490131, longitud:-0.671369552612, velocidad:0, orientacion:0, fecha:2015-02-17 15:22:47"
       ]
      },
      {
       "output_type": "stream",
       "stream": "stdout",
       "text": [
        "\n",
        "Cluster centered in: id:3299182432, recurso:tetra:12082781, latitud:-0.224685490131, longitud:-0.671369552612, velocidad:0, orientacion:0, fecha:2015-02-17 15:23:05"
       ]
      },
      {
       "output_type": "stream",
       "stream": "stdout",
       "text": [
        "\n",
        "Cluster centered in: id:3299182635, recurso:tetra:12082781, latitud:-0.224685490131, longitud:-0.671369552612, velocidad:0, orientacion:0, fecha:2015-02-17 15:23:20"
       ]
      },
      {
       "output_type": "stream",
       "stream": "stdout",
       "text": [
        "\n",
        "Cluster centered in: id:3299182688, recurso:tetra:12082781, latitud:-0.224685490131, longitud:-0.671369552612, velocidad:0, orientacion:0, fecha:2015-02-17 15:23:38"
       ]
      },
      {
       "output_type": "stream",
       "stream": "stdout",
       "text": [
        "\n",
        "Cluster centered in: id:3299182756, recurso:tetra:12082781, latitud:-0.224685490131, longitud:-0.671369552612, velocidad:0, orientacion:0, fecha:2015-02-17 15:23:52"
       ]
      },
      {
       "output_type": "stream",
       "stream": "stdout",
       "text": [
        "\n",
        "Cluster centered in: id:3299182788, recurso:tetra:12082781, latitud:-0.224685490131, longitud:-0.671369552612, velocidad:0, orientacion:0, fecha:2015-02-17 15:24:12"
       ]
      },
      {
       "output_type": "stream",
       "stream": "stdout",
       "text": [
        "\n",
        "Cluster centered in: id:3299182953, recurso:tetra:12082781, latitud:-0.224685490131, longitud:-0.671369552612, velocidad:0, orientacion:0, fecha:2015-02-17 15:24:27"
       ]
      },
      {
       "output_type": "stream",
       "stream": "stdout",
       "text": [
        "\n",
        "Cluster centered in: id:3299182991, recurso:tetra:12082781, latitud:-0.224685490131, longitud:-0.671369552612, velocidad:0, orientacion:0, fecha:2015-02-17 15:24:42"
       ]
      },
      {
       "output_type": "stream",
       "stream": "stdout",
       "text": [
        "\n",
        "Cluster centered in: id:3299183075, recurso:tetra:12082781, latitud:-0.224687919021, longitud:-0.671369969845, velocidad:0, orientacion:0, fecha:2015-02-17 15:25:00"
       ]
      },
      {
       "output_type": "stream",
       "stream": "stdout",
       "text": [
        "\n",
        "Cluster centered in: id:3299183159, recurso:tetra:12082781, latitud:-0.224687919021, longitud:-0.671369969845, velocidad:0, orientacion:0, fecha:2015-02-17 15:25:16"
       ]
      },
      {
       "output_type": "stream",
       "stream": "stdout",
       "text": [
        "\n",
        "Cluster centered in: id:3299183328, recurso:tetra:12082781, latitud:-0.224687546492, longitud:-0.671369969845, velocidad:0, orientacion:0, fecha:2015-02-17 15:25:43"
       ]
      },
      {
       "output_type": "stream",
       "stream": "stdout",
       "text": [
        "\n",
        "Cluster centered in: id:3299183384, recurso:tetra:12082781, latitud:-0.224687173963, longitud:-0.671369969845, velocidad:0, orientacion:0, fecha:2015-02-17 15:25:57"
       ]
      },
      {
       "output_type": "stream",
       "stream": "stdout",
       "text": [
        "\n",
        "Cluster centered in: id:3299183598, recurso:tetra:12082781, latitud:-0.224686428905, longitud:-0.671369552612, velocidad:0, orientacion:0, fecha:2015-02-17 15:26:15"
       ]
      },
      {
       "output_type": "stream",
       "stream": "stdout",
       "text": [
        "\n",
        "Cluster centered in: id:3299183670, recurso:tetra:12082781, latitud:-0.224686056376, longitud:-0.671369552612, velocidad:0, orientacion:0, fecha:2015-02-17 15:26:32"
       ]
      },
      {
       "output_type": "stream",
       "stream": "stdout",
       "text": [
        "\n",
        "Cluster centered in: id:3299183733, recurso:tetra:12082781, latitud:-0.224686056376, longitud:-0.671369373798, velocidad:0, orientacion:0, fecha:2015-02-17 15:26:50"
       ]
      },
      {
       "output_type": "stream",
       "stream": "stdout",
       "text": [
        "\n",
        "Cluster centered in: id:3299183919, recurso:tetra:12082781, latitud:-0.224685490131, longitud:-0.671369016171, velocidad:0, orientacion:0, fecha:2015-02-17 15:27:11"
       ]
      },
      {
       "output_type": "stream",
       "stream": "stdout",
       "text": [
        "\n",
        "Cluster centered in: id:3299184028, recurso:tetra:12082781, latitud:-0.224684923887, longitud:-0.671368837357, velocidad:0, orientacion:0, fecha:2015-02-17 15:27:30"
       ]
      },
      {
       "output_type": "stream",
       "stream": "stdout",
       "text": [
        "\n",
        "Cluster centered in: id:3299184121, recurso:tetra:12082781, latitud:-0.224684923887, longitud:-0.671368837357, velocidad:0, orientacion:0, fecha:2015-02-17 15:27:42"
       ]
      },
      {
       "output_type": "stream",
       "stream": "stdout",
       "text": [
        "\n",
        "Cluster centered in: id:3299184139, recurso:tetra:12082781, latitud:-0.224685117602, longitud:-0.671368837357, velocidad:0, orientacion:0, fecha:2015-02-17 15:27:56"
       ]
      },
      {
       "output_type": "stream",
       "stream": "stdout",
       "text": [
        "\n",
        "Cluster centered in: id:3299184281, recurso:tetra:12082781, latitud:-0.224684923887, longitud:-0.671368479729, velocidad:0, orientacion:0, fecha:2015-02-17 15:28:13"
       ]
      },
      {
       "output_type": "stream",
       "stream": "stdout",
       "text": [
        "\n",
        "Cluster centered in: id:3299184432, recurso:tetra:12082781, latitud:-0.224684551358, longitud:-0.67136824131, velocidad:0, orientacion:0, fecha:2015-02-17 15:28:26"
       ]
      },
      {
       "output_type": "stream",
       "stream": "stdout",
       "text": [
        "\n",
        "Cluster centered in: id:3299184501, recurso:tetra:12082781, latitud:-0.224684551358, longitud:-0.67136824131, velocidad:0, orientacion:0, fecha:2015-02-17 15:28:47"
       ]
      },
      {
       "output_type": "stream",
       "stream": "stdout",
       "text": [
        "\n",
        "Cluster centered in: id:3299184515, recurso:tetra:12082781, latitud:-0.224684551358, longitud:-0.671367883682, velocidad:0, orientacion:225, fecha:2015-02-17 15:29:13"
       ]
      },
      {
       "output_type": "stream",
       "stream": "stdout",
       "text": [
        "\n",
        "Cluster centered in: id:3299184526, recurso:tetra:12082781, latitud:-0.224685490131, longitud:-0.671367883682, velocidad:0, orientacion:45, fecha:2015-02-17 15:29:36"
       ]
      },
      {
       "output_type": "stream",
       "stream": "stdout",
       "text": [
        "\n",
        "Cluster centered in: id:3299184610, recurso:tetra:12082781, latitud:-0.224686056376, longitud:-0.67136824131, velocidad:0, orientacion:315, fecha:2015-02-17 15:29:54"
       ]
      },
      {
       "output_type": "stream",
       "stream": "stdout",
       "text": [
        "\n",
        "Cluster centered in: id:3299184747, recurso:tetra:12082781, latitud:-0.224686428905, longitud:-0.671367883682, velocidad:0, orientacion:0, fecha:2015-02-17 15:30:07"
       ]
      },
      {
       "output_type": "stream",
       "stream": "stdout",
       "text": [
        "\n",
        "Cluster centered in: id:3299184921, recurso:tetra:12082781, latitud:-0.224686428905, longitud:-0.671367883682, velocidad:0, orientacion:0, fecha:2015-02-17 15:30:25"
       ]
      },
      {
       "output_type": "stream",
       "stream": "stdout",
       "text": [
        "\n",
        "Cluster centered in: id:3299185067, recurso:tetra:12082781, latitud:-0.224686056376, longitud:-0.671367526054, velocidad:0, orientacion:0, fecha:2015-02-17 15:30:40"
       ]
      },
      {
       "output_type": "stream",
       "stream": "stdout",
       "text": [
        "\n",
        "Cluster centered in: id:3299185116, recurso:tetra:12082781, latitud:-0.224686056376, longitud:-0.671367883682, velocidad:0, orientacion:0, fecha:2015-02-17 15:31:00"
       ]
      },
      {
       "output_type": "stream",
       "stream": "stdout",
       "text": [
        "\n",
        "Cluster centered in: id:3299185279, recurso:tetra:12082781, latitud:-0.224685490131, longitud:-0.671368479729, velocidad:0, orientacion:0, fecha:2015-02-17 15:31:18"
       ]
      },
      {
       "output_type": "stream",
       "stream": "stdout",
       "text": [
        "\n",
        "Cluster centered in: id:3299185340, recurso:tetra:12082781, latitud:-0.22468586266, longitud:-0.67136824131, velocidad:0, orientacion:0, fecha:2015-02-17 15:31:31"
       ]
      },
      {
       "output_type": "stream",
       "stream": "stdout",
       "text": [
        "\n",
        "Cluster centered in: id:3299185414, recurso:tetra:12082781, latitud:-0.22468586266, longitud:-0.671368479729, velocidad:0, orientacion:0, fecha:2015-02-17 15:31:50"
       ]
      },
      {
       "output_type": "stream",
       "stream": "stdout",
       "text": [
        "\n",
        "Cluster centered in: id:3299185465, recurso:tetra:12082781, latitud:-0.224686056376, longitud:-0.671368479729, velocidad:0, orientacion:0, fecha:2015-02-17 15:32:05"
       ]
      },
      {
       "output_type": "stream",
       "stream": "stdout",
       "text": [
        "\n",
        "Cluster centered in: id:3299185530, recurso:tetra:12082781, latitud:-0.224686056376, longitud:-0.671368479729, velocidad:0, orientacion:0, fecha:2015-02-17 15:32:21"
       ]
      },
      {
       "output_type": "stream",
       "stream": "stdout",
       "text": [
        "\n",
        "Cluster centered in: id:3299185700, recurso:tetra:12082781, latitud:-0.224686056376, longitud:-0.671368479729, velocidad:0, orientacion:0, fecha:2015-02-17 15:32:39"
       ]
      },
      {
       "output_type": "stream",
       "stream": "stdout",
       "text": [
        "\n",
        "Cluster centered in: id:3299185709, recurso:tetra:12082781, latitud:-0.224686056376, longitud:-0.671368479729, velocidad:0, orientacion:0, fecha:2015-02-17 15:32:55"
       ]
      },
      {
       "output_type": "stream",
       "stream": "stdout",
       "text": [
        "\n",
        "Cluster centered in: id:3299185799, recurso:tetra:12082781, latitud:-0.224686056376, longitud:-0.671368837357, velocidad:0, orientacion:0, fecha:2015-02-17 15:33:20"
       ]
      },
      {
       "output_type": "stream",
       "stream": "stdout",
       "text": [
        "\n",
        "Cluster centered in: id:3299185901, recurso:tetra:12082781, latitud:-0.224686056376, longitud:-0.671369016171, velocidad:0, orientacion:0, fecha:2015-02-17 15:33:35"
       ]
      },
      {
       "output_type": "stream",
       "stream": "stdout",
       "text": [
        "\n",
        "Cluster centered in: id:3299185926, recurso:tetra:12082781, latitud:-0.224686056376, longitud:-0.671369016171, velocidad:0, orientacion:0, fecha:2015-02-17 15:33:52"
       ]
      },
      {
       "output_type": "stream",
       "stream": "stdout",
       "text": [
        "\n",
        "Cluster centered in: id:3299186050, recurso:tetra:12082781, latitud:-0.224686056376, longitud:-0.671369016171, velocidad:0, orientacion:0, fecha:2015-02-17 15:34:06"
       ]
      },
      {
       "output_type": "stream",
       "stream": "stdout",
       "text": [
        "\n",
        "Cluster centered in: id:3299186130, recurso:tetra:12082781, latitud:-0.224686056376, longitud:-0.671369016171, velocidad:0, orientacion:0, fecha:2015-02-17 15:34:20"
       ]
      },
      {
       "output_type": "stream",
       "stream": "stdout",
       "text": [
        "\n",
        "Cluster centered in: id:3299186251, recurso:tetra:12082781, latitud:-0.224686056376, longitud:-0.671368837357, velocidad:0, orientacion:0, fecha:2015-02-17 15:34:36"
       ]
      },
      {
       "output_type": "stream",
       "stream": "stdout",
       "text": [
        "\n",
        "Cluster centered in: id:3299186301, recurso:tetra:12082781, latitud:-0.224686056376, longitud:-0.671368837357, velocidad:0, orientacion:0, fecha:2015-02-17 15:35:02"
       ]
      },
      {
       "output_type": "stream",
       "stream": "stdout",
       "text": [
        "\n",
        "Cluster centered in: id:3299186476, recurso:tetra:12082781, latitud:-0.224686428905, longitud:-0.671369016171, velocidad:0, orientacion:0, fecha:2015-02-17 15:35:19"
       ]
      },
      {
       "output_type": "stream",
       "stream": "stdout",
       "text": [
        "\n",
        "Cluster centered in: id:3299186555, recurso:tetra:12082781, latitud:-0.224686607718, longitud:-0.671369373798, velocidad:0, orientacion:0, fecha:2015-02-17 15:35:36"
       ]
      },
      {
       "output_type": "stream",
       "stream": "stdout",
       "text": [
        "\n",
        "Cluster centered in: id:3299186721, recurso:tetra:12082781, latitud:-0.224686607718, longitud:-0.671368837357, velocidad:0, orientacion:0, fecha:2015-02-17 15:35:53"
       ]
      },
      {
       "output_type": "stream",
       "stream": "stdout",
       "text": [
        "\n",
        "Cluster centered in: id:3299186811, recurso:tetra:12082781, latitud:-0.224686428905, longitud:-0.671368479729, velocidad:0, orientacion:0, fecha:2015-02-17 15:36:07"
       ]
      },
      {
       "output_type": "stream",
       "stream": "stdout",
       "text": [
        "\n",
        "Cluster centered in: id:3299186873, recurso:tetra:12082781, latitud:-0.224686428905, longitud:-0.671368479729, velocidad:0, orientacion:0, fecha:2015-02-17 15:36:35"
       ]
      },
      {
       "output_type": "stream",
       "stream": "stdout",
       "text": [
        "\n",
        "Cluster centered in: id:3299187009, recurso:tetra:12082781, latitud:-0.224686607718, longitud:-0.671368479729, velocidad:0, orientacion:0, fecha:2015-02-17 15:36:55"
       ]
      },
      {
       "output_type": "stream",
       "stream": "stdout",
       "text": [
        "\n",
        "Cluster centered in: id:3299187080, recurso:tetra:12082781, latitud:-0.224686607718, longitud:-0.671368479729, velocidad:0, orientacion:0, fecha:2015-02-17 15:37:09"
       ]
      },
      {
       "output_type": "stream",
       "stream": "stdout",
       "text": [
        "\n",
        "Cluster centered in: id:3299187177, recurso:tetra:12082781, latitud:-0.224686607718, longitud:-0.67136824131, velocidad:0, orientacion:0, fecha:2015-02-17 15:37:23"
       ]
      },
      {
       "output_type": "stream",
       "stream": "stdout",
       "text": [
        "\n",
        "Cluster centered in: id:3299187226, recurso:tetra:12082781, latitud:-0.224686607718, longitud:-0.67136824131, velocidad:0, orientacion:0, fecha:2015-02-17 15:37:40"
       ]
      },
      {
       "output_type": "stream",
       "stream": "stdout",
       "text": [
        "\n",
        "Cluster centered in: id:3299187278, recurso:tetra:12082781, latitud:-0.224686607718, longitud:-0.67136824131, velocidad:1, orientacion:45, fecha:2015-02-17 15:37:53"
       ]
      },
      {
       "output_type": "stream",
       "stream": "stdout",
       "text": [
        "\n",
        "Cluster centered in: id:3299187380, recurso:tetra:12082781, latitud:-0.224686995149, longitud:-0.67136824131, velocidad:1, orientacion:225, fecha:2015-02-17 15:38:04"
       ]
      },
      {
       "output_type": "stream",
       "stream": "stdout",
       "text": [
        "\n",
        "Cluster centered in: id:3299187563, recurso:tetra:12082781, latitud:-0.224685117602, longitud:-0.671366930008, velocidad:0, orientacion:0, fecha:2015-02-17 15:38:28"
       ]
      },
      {
       "output_type": "stream",
       "stream": "stdout",
       "text": [
        "\n",
        "Cluster centered in: id:3299187663, recurso:tetra:12082781, latitud:-0.224685117602, longitud:-0.671366930008, velocidad:0, orientacion:0, fecha:2015-02-17 15:38:44"
       ]
      },
      {
       "output_type": "stream",
       "stream": "stdout",
       "text": [
        "\n",
        "Cluster centered in: id:3299187687, recurso:tetra:12082781, latitud:-0.224685117602, longitud:-0.671366930008, velocidad:0, orientacion:0, fecha:2015-02-17 15:39:00"
       ]
      },
      {
       "output_type": "stream",
       "stream": "stdout",
       "text": [
        "\n",
        "Cluster centered in: id:3299187759, recurso:tetra:12082781, latitud:-0.224685117602, longitud:-0.671366930008, velocidad:0, orientacion:0, fecha:2015-02-17 15:39:12"
       ]
      },
      {
       "output_type": "stream",
       "stream": "stdout",
       "text": [
        "\n",
        "Cluster centered in: id:3299187853, recurso:tetra:12082781, latitud:-0.224685117602, longitud:-0.671366930008, velocidad:0, orientacion:0, fecha:2015-02-17 15:39:28"
       ]
      },
      {
       "output_type": "stream",
       "stream": "stdout",
       "text": [
        "\n",
        "Cluster centered in: id:3299187983, recurso:tetra:12082781, latitud:-0.224685490131, longitud:-0.67136734724, velocidad:0, orientacion:0, fecha:2015-02-17 15:39:42"
       ]
      },
      {
       "output_type": "stream",
       "stream": "stdout",
       "text": [
        "\n",
        "Cluster centered in: id:3299188071, recurso:tetra:12082781, latitud:-0.224685117602, longitud:-0.67136734724, velocidad:0, orientacion:0, fecha:2015-02-17 15:40:00"
       ]
      },
      {
       "output_type": "stream",
       "stream": "stdout",
       "text": [
        "\n",
        "Cluster centered in: id:3299188074, recurso:tetra:12082781, latitud:-0.224685117602, longitud:-0.67136734724, velocidad:0, orientacion:0, fecha:2015-02-17 15:40:22"
       ]
      },
      {
       "output_type": "stream",
       "stream": "stdout",
       "text": [
        "\n",
        "Cluster centered in: id:3299188097, recurso:tetra:12082781, latitud:-0.224685117602, longitud:-0.67136734724, velocidad:0, orientacion:0, fecha:2015-02-17 15:40:44"
       ]
      },
      {
       "output_type": "stream",
       "stream": "stdout",
       "text": [
        "\n",
        "Cluster centered in: id:3299188295, recurso:tetra:12082781, latitud:-0.224685117602, longitud:-0.67136734724, velocidad:0, orientacion:0, fecha:2015-02-17 15:40:59"
       ]
      },
      {
       "output_type": "stream",
       "stream": "stdout",
       "text": [
        "\n",
        "Cluster centered in: id:3299188421, recurso:tetra:12082781, latitud:-0.224685117602, longitud:-0.67136734724, velocidad:0, orientacion:0, fecha:2015-02-17 15:41:13"
       ]
      },
      {
       "output_type": "stream",
       "stream": "stdout",
       "text": [
        "\n",
        "Cluster centered in: id:3299188566, recurso:tetra:12082781, latitud:-0.224685490131, longitud:-0.67136734724, velocidad:0, orientacion:0, fecha:2015-02-17 15:41:30"
       ]
      },
      {
       "output_type": "stream",
       "stream": "stdout",
       "text": [
        "\n",
        "Cluster centered in: id:3299188640, recurso:tetra:12082781, latitud:-0.22468586266, longitud:-0.67136734724, velocidad:0, orientacion:0, fecha:2015-02-17 15:41:50"
       ]
      },
      {
       "output_type": "stream",
       "stream": "stdout",
       "text": [
        "\n",
        "Cluster centered in: id:3299188720, recurso:tetra:12082781, latitud:-0.22468586266, longitud:-0.67136734724, velocidad:0, orientacion:0, fecha:2015-02-17 15:42:14"
       ]
      },
      {
       "output_type": "stream",
       "stream": "stdout",
       "text": [
        "\n",
        "Cluster centered in: id:3299188818, recurso:tetra:12082781, latitud:-0.22468586266, longitud:-0.67136734724, velocidad:0, orientacion:0, fecha:2015-02-17 15:42:28"
       ]
      },
      {
       "output_type": "stream",
       "stream": "stdout",
       "text": [
        "\n",
        "Cluster centered in: id:3299188942, recurso:tetra:12082781, latitud:-0.22468586266, longitud:-0.67136734724, velocidad:0, orientacion:0, fecha:2015-02-17 15:42:47"
       ]
      },
      {
       "output_type": "stream",
       "stream": "stdout",
       "text": [
        "\n",
        "Cluster centered in: id:3299189005, recurso:tetra:12082781, latitud:-0.22468586266, longitud:-0.671366930008, velocidad:0, orientacion:0, fecha:2015-02-17 15:43:04"
       ]
      },
      {
       "output_type": "stream",
       "stream": "stdout",
       "text": [
        "\n",
        "Cluster centered in: id:3299189043, recurso:tetra:12082781, latitud:-0.22468586266, longitud:-0.671366930008, velocidad:0, orientacion:0, fecha:2015-02-17 15:43:18"
       ]
      },
      {
       "output_type": "stream",
       "stream": "stdout",
       "text": [
        "\n",
        "Cluster centered in: id:3299189205, recurso:tetra:12082781, latitud:-0.22468586266, longitud:-0.67136734724, velocidad:0, orientacion:0, fecha:2015-02-17 15:43:36"
       ]
      },
      {
       "output_type": "stream",
       "stream": "stdout",
       "text": [
        "\n",
        "Cluster centered in: id:3299189272, recurso:tetra:12082781, latitud:-0.22468586266, longitud:-0.67136734724, velocidad:0, orientacion:0, fecha:2015-02-17 15:43:54"
       ]
      },
      {
       "output_type": "stream",
       "stream": "stdout",
       "text": [
        "\n",
        "Cluster centered in: id:3299189287, recurso:tetra:12082781, latitud:-0.224686428905, longitud:-0.67136824131, velocidad:0, orientacion:0, fecha:2015-02-17 15:44:19"
       ]
      },
      {
       "output_type": "stream",
       "stream": "stdout",
       "text": [
        "\n",
        "Cluster centered in: id:3299189437, recurso:tetra:12082781, latitud:-0.224686607718, longitud:-0.671368479729, velocidad:0, orientacion:0, fecha:2015-02-17 15:44:32"
       ]
      },
      {
       "output_type": "stream",
       "stream": "stdout",
       "text": [
        "\n",
        "Cluster centered in: id:3299189480, recurso:tetra:12082781, latitud:-0.224686607718, longitud:-0.671368479729, velocidad:0, orientacion:0, fecha:2015-02-17 15:45:03"
       ]
      },
      {
       "output_type": "stream",
       "stream": "stdout",
       "text": [
        "\n",
        "Cluster centered in: id:3299189493, recurso:tetra:12082781, latitud:-0.224686607718, longitud:-0.671368479729, velocidad:0, orientacion:0, fecha:2015-02-17 15:45:17"
       ]
      },
      {
       "output_type": "stream",
       "stream": "stdout",
       "text": [
        "\n",
        "Cluster centered in: id:3299189599, recurso:tetra:12082781, latitud:-0.224686607718, longitud:-0.671368479729, velocidad:0, orientacion:0, fecha:2015-02-17 15:45:32"
       ]
      },
      {
       "output_type": "stream",
       "stream": "stdout",
       "text": [
        "\n",
        "Cluster centered in: id:3299189667, recurso:tetra:12082781, latitud:-0.224686428905, longitud:-0.671368479729, velocidad:0, orientacion:0, fecha:2015-02-17 15:45:48"
       ]
      },
      {
       "output_type": "stream",
       "stream": "stdout",
       "text": [
        "\n",
        "Cluster centered in: id:3299189806, recurso:tetra:12082781, latitud:-0.224686428905, longitud:-0.671368479729, velocidad:0, orientacion:0, fecha:2015-02-17 15:46:05"
       ]
      },
      {
       "output_type": "stream",
       "stream": "stdout",
       "text": [
        "\n",
        "Cluster centered in: id:3299189873, recurso:tetra:12082781, latitud:-0.224686428905, longitud:-0.671367883682, velocidad:0, orientacion:0, fecha:2015-02-17 15:46:30"
       ]
      },
      {
       "output_type": "stream",
       "stream": "stdout",
       "text": [
        "\n",
        "Cluster centered in: id:3299189946, recurso:tetra:12082781, latitud:-0.224686428905, longitud:-0.671367883682, velocidad:0, orientacion:0, fecha:2015-02-17 15:46:48"
       ]
      },
      {
       "output_type": "stream",
       "stream": "stdout",
       "text": [
        "\n",
        "Cluster centered in: id:3299190134, recurso:tetra:12082781, latitud:-0.224686428905, longitud:-0.671367526054, velocidad:0, orientacion:0, fecha:2015-02-17 15:47:06"
       ]
      },
      {
       "output_type": "stream",
       "stream": "stdout",
       "text": [
        "\n",
        "Cluster centered in: id:3299190315, recurso:tetra:12082781, latitud:-0.224686056376, longitud:-0.671366930008, velocidad:0, orientacion:0, fecha:2015-02-17 15:47:24"
       ]
      },
      {
       "output_type": "stream",
       "stream": "stdout",
       "text": [
        "\n",
        "Cluster centered in: id:3299190381, recurso:tetra:12082781, latitud:-0.224686056376, longitud:-0.671366930008, velocidad:0, orientacion:0, fecha:2015-02-17 15:47:40"
       ]
      },
      {
       "output_type": "stream",
       "stream": "stdout",
       "text": [
        "\n",
        "Cluster centered in: id:3299190450, recurso:tetra:12082781, latitud:-0.224686995149, longitud:-0.671368837357, velocidad:0, orientacion:0, fecha:2015-02-17 15:48:08"
       ]
      },
      {
       "output_type": "stream",
       "stream": "stdout",
       "text": [
        "\n",
        "Cluster centered in: id:3299190539, recurso:tetra:12082781, latitud:-0.224686995149, longitud:-0.671368479729, velocidad:0, orientacion:0, fecha:2015-02-17 15:48:21"
       ]
      },
      {
       "output_type": "stream",
       "stream": "stdout",
       "text": [
        "\n",
        "Cluster centered in: id:3299190635, recurso:tetra:12082781, latitud:-0.224686428905, longitud:-0.67136824131, velocidad:0, orientacion:45, fecha:2015-02-17 15:48:35"
       ]
      },
      {
       "output_type": "stream",
       "stream": "stdout",
       "text": [
        "\n",
        "Cluster centered in: id:3299190732, recurso:tetra:12082781, latitud:-0.224686056376, longitud:-0.671367526054, velocidad:0, orientacion:67, fecha:2015-02-17 15:48:53"
       ]
      },
      {
       "output_type": "stream",
       "stream": "stdout",
       "text": [
        "\n",
        "Cluster centered in: id:3299190801, recurso:tetra:12082781, latitud:-0.224685490131, longitud:-0.671366930008, velocidad:0, orientacion:67, fecha:2015-02-17 15:49:07"
       ]
      },
      {
       "output_type": "stream",
       "stream": "stdout",
       "text": [
        "\n",
        "Cluster centered in: id:3299190925, recurso:tetra:12082781, latitud:-0.224686607718, longitud:-0.671368837357, velocidad:0, orientacion:0, fecha:2015-02-17 15:49:23"
       ]
      },
      {
       "output_type": "stream",
       "stream": "stdout",
       "text": [
        "\n",
        "Cluster centered in: id:3299191073, recurso:tetra:12082781, latitud:-0.224686607718, longitud:-0.671368837357, velocidad:0, orientacion:0, fecha:2015-02-17 15:49:45"
       ]
      },
      {
       "output_type": "stream",
       "stream": "stdout",
       "text": [
        "\n",
        "Cluster centered in: id:3299191185, recurso:tetra:12082781, latitud:-0.224686607718, longitud:-0.671368837357, velocidad:0, orientacion:0, fecha:2015-02-17 15:50:01"
       ]
      },
      {
       "output_type": "stream",
       "stream": "stdout",
       "text": [
        "\n",
        "Cluster centered in: id:3299191242, recurso:tetra:12082781, latitud:-0.224686995149, longitud:-0.671369016171, velocidad:0, orientacion:0, fecha:2015-02-17 15:50:17"
       ]
      },
      {
       "output_type": "stream",
       "stream": "stdout",
       "text": [
        "\n",
        "Cluster centered in: id:3299191260, recurso:tetra:12082781, latitud:-0.224686995149, longitud:-0.671369016171, velocidad:0, orientacion:0, fecha:2015-02-17 15:50:30"
       ]
      },
      {
       "output_type": "stream",
       "stream": "stdout",
       "text": [
        "\n",
        "Cluster centered in: id:3299191364, recurso:tetra:12082781, latitud:-0.224687173963, longitud:-0.671369016171, velocidad:0, orientacion:0, fecha:2015-02-17 15:50:50"
       ]
      },
      {
       "output_type": "stream",
       "stream": "stdout",
       "text": [
        "\n",
        "Cluster centered in: id:3299191417, recurso:tetra:12082781, latitud:-0.224687173963, longitud:-0.671369373798, velocidad:0, orientacion:0, fecha:2015-02-17 15:51:08"
       ]
      },
      {
       "output_type": "stream",
       "stream": "stdout",
       "text": [
        "\n",
        "Cluster centered in: id:3299191495, recurso:tetra:12082781, latitud:-0.224687173963, longitud:-0.671368837357, velocidad:0, orientacion:202, fecha:2015-02-17 15:51:22"
       ]
      },
      {
       "output_type": "stream",
       "stream": "stdout",
       "text": [
        "\n",
        "Cluster centered in: id:3299191609, recurso:tetra:12082781, latitud:-0.224686607718, longitud:-0.67136824131, velocidad:0, orientacion:0, fecha:2015-02-17 15:51:37"
       ]
      },
      {
       "output_type": "stream",
       "stream": "stdout",
       "text": [
        "\n",
        "Cluster centered in: id:3299191633, recurso:tetra:12082781, latitud:-0.224686607718, longitud:-0.671367883682, velocidad:0, orientacion:0, fecha:2015-02-17 15:52:07"
       ]
      },
      {
       "output_type": "stream",
       "stream": "stdout",
       "text": [
        "\n",
        "Cluster centered in: id:3299191640, recurso:tetra:12082781, latitud:-0.224686607718, longitud:-0.671367883682, velocidad:0, orientacion:0, fecha:2015-02-17 15:52:30"
       ]
      },
      {
       "output_type": "stream",
       "stream": "stdout",
       "text": [
        "\n",
        "Cluster centered in: id:3299191803, recurso:tetra:12082781, latitud:-0.224686607718, longitud:-0.671367883682, velocidad:0, orientacion:0, fecha:2015-02-17 15:52:47"
       ]
      },
      {
       "output_type": "stream",
       "stream": "stdout",
       "text": [
        "\n",
        "Cluster centered in: id:3299191923, recurso:tetra:12082781, latitud:-0.224686995149, longitud:-0.671367883682, velocidad:0, orientacion:0, fecha:2015-02-17 15:53:04"
       ]
      },
      {
       "output_type": "stream",
       "stream": "stdout",
       "text": [
        "\n",
        "Cluster centered in: id:3299192073, recurso:tetra:12082781, latitud:-0.224686995149, longitud:-0.671367526054, velocidad:0, orientacion:0, fecha:2015-02-17 15:53:18"
       ]
      },
      {
       "output_type": "stream",
       "stream": "stdout",
       "text": [
        "\n",
        "Cluster centered in: id:3299192149, recurso:tetra:12082781, latitud:-0.224687919021, longitud:-0.671365439892, velocidad:0, orientacion:0, fecha:2015-02-17 15:53:34"
       ]
      },
      {
       "output_type": "stream",
       "stream": "stdout",
       "text": [
        "\n",
        "Cluster centered in: id:3299192198, recurso:tetra:12082781, latitud:-0.224687919021, longitud:-0.671365439892, velocidad:0, orientacion:0, fecha:2015-02-17 15:53:48"
       ]
      },
      {
       "output_type": "stream",
       "stream": "stdout",
       "text": [
        "\n",
        "Cluster centered in: id:3299192285, recurso:tetra:12082781, latitud:-0.224687919021, longitud:-0.671365439892, velocidad:0, orientacion:0, fecha:2015-02-17 15:54:14"
       ]
      },
      {
       "output_type": "stream",
       "stream": "stdout",
       "text": [
        "\n",
        "Cluster centered in: id:3299192421, recurso:tetra:12082781, latitud:-0.224687919021, longitud:-0.671365439892, velocidad:0, orientacion:0, fecha:2015-02-17 15:54:34"
       ]
      },
      {
       "output_type": "stream",
       "stream": "stdout",
       "text": [
        "\n",
        "Cluster centered in: id:3299192480, recurso:tetra:12082781, latitud:-0.224687919021, longitud:-0.671365439892, velocidad:0, orientacion:0, fecha:2015-02-17 15:54:46"
       ]
      },
      {
       "output_type": "stream",
       "stream": "stdout",
       "text": [
        "\n",
        "Cluster centered in: id:3299192538, recurso:tetra:12082781, latitud:-0.224687919021, longitud:-0.671365439892, velocidad:0, orientacion:0, fecha:2015-02-17 15:54:58"
       ]
      },
      {
       "output_type": "stream",
       "stream": "stdout",
       "text": [
        "\n",
        "Cluster centered in: id:3299192663, recurso:tetra:12082781, latitud:-0.224687919021, longitud:-0.671365439892, velocidad:0, orientacion:0, fecha:2015-02-17 15:55:17"
       ]
      },
      {
       "output_type": "stream",
       "stream": "stdout",
       "text": [
        "\n",
        "Cluster centered in: id:3299192783, recurso:tetra:12082781, latitud:-0.224687919021, longitud:-0.671365439892, velocidad:0, orientacion:0, fecha:2015-02-17 15:55:31"
       ]
      },
      {
       "output_type": "stream",
       "stream": "stdout",
       "text": [
        "\n",
        "Cluster centered in: id:3299192799, recurso:tetra:12082781, latitud:-0.224687919021, longitud:-0.671365439892, velocidad:0, orientacion:0, fecha:2015-02-17 15:55:41"
       ]
      },
      {
       "output_type": "stream",
       "stream": "stdout",
       "text": [
        "\n",
        "Cluster centered in: id:3299192830, recurso:tetra:12082781, latitud:-0.224687919021, longitud:-0.671365439892, velocidad:0, orientacion:0, fecha:2015-02-17 15:56:01"
       ]
      },
      {
       "output_type": "stream",
       "stream": "stdout",
       "text": [
        "\n",
        "Cluster centered in: id:3299192966, recurso:tetra:12082781, latitud:-0.224687919021, longitud:-0.671365439892, velocidad:0, orientacion:0, fecha:2015-02-17 15:56:19"
       ]
      },
      {
       "output_type": "stream",
       "stream": "stdout",
       "text": [
        "\n",
        "Cluster centered in: id:3299193010, recurso:tetra:12082781, latitud:-0.224687919021, longitud:-0.671366214752, velocidad:1, orientacion:67, fecha:2015-02-17 15:56:32"
       ]
      },
      {
       "output_type": "stream",
       "stream": "stdout",
       "text": [
        "\n",
        "Cluster centered in: id:3299193070, recurso:tetra:12082781, latitud:-0.224687546492, longitud:-0.671366214752, velocidad:0, orientacion:0, fecha:2015-02-17 15:56:46"
       ]
      },
      {
       "output_type": "stream",
       "stream": "stdout",
       "text": [
        "\n",
        "Cluster centered in: id:3299193148, recurso:tetra:12082781, latitud:-0.224687546492, longitud:-0.671366214752, velocidad:0, orientacion:0, fecha:2015-02-17 15:57:03"
       ]
      },
      {
       "output_type": "stream",
       "stream": "stdout",
       "text": [
        "\n",
        "Cluster centered in: id:3299193189, recurso:tetra:12082781, latitud:-0.224687919021, longitud:-0.67136734724, velocidad:0, orientacion:0, fecha:2015-02-17 15:57:24"
       ]
      },
      {
       "output_type": "stream",
       "stream": "stdout",
       "text": [
        "\n",
        "Cluster centered in: id:3299193357, recurso:tetra:12082781, latitud:-0.224686428905, longitud:-0.671365439892, velocidad:0, orientacion:0, fecha:2015-02-17 15:57:46"
       ]
      },
      {
       "output_type": "stream",
       "stream": "stdout",
       "text": [
        "\n",
        "Cluster centered in: id:3299193416, recurso:tetra:12082781, latitud:-0.224686428905, longitud:-0.671365439892, velocidad:0, orientacion:0, fecha:2015-02-17 15:58:14"
       ]
      },
      {
       "output_type": "stream",
       "stream": "stdout",
       "text": [
        "\n",
        "Cluster centered in: id:3299193590, recurso:tetra:12082781, latitud:-0.224686607718, longitud:-0.671365261078, velocidad:0, orientacion:0, fecha:2015-02-17 15:58:27"
       ]
      },
      {
       "output_type": "stream",
       "stream": "stdout",
       "text": [
        "\n",
        "Cluster centered in: id:3299193693, recurso:tetra:12082781, latitud:-0.224686607718, longitud:-0.671365261078, velocidad:0, orientacion:0, fecha:2015-02-17 15:58:42"
       ]
      },
      {
       "output_type": "stream",
       "stream": "stdout",
       "text": [
        "\n",
        "Cluster centered in: id:3299193839, recurso:tetra:12082781, latitud:-0.224686428905, longitud:-0.671365261078, velocidad:0, orientacion:0, fecha:2015-02-17 15:59:00"
       ]
      },
      {
       "output_type": "stream",
       "stream": "stdout",
       "text": [
        "\n",
        "Cluster centered in: id:3299193904, recurso:tetra:12082781, latitud:-0.224686056376, longitud:-0.671365857124, velocidad:0, orientacion:0, fecha:2015-02-17 15:59:18"
       ]
      },
      {
       "output_type": "stream",
       "stream": "stdout",
       "text": [
        "\n",
        "Cluster centered in: id:3299193951, recurso:tetra:12082781, latitud:-0.224685117602, longitud:-0.671366393566, velocidad:0, orientacion:0, fecha:2015-02-17 15:59:40"
       ]
      },
      {
       "output_type": "stream",
       "stream": "stdout",
       "text": [
        "\n",
        "Cluster centered in: id:3299193957, recurso:tetra:12082781, latitud:-0.22468586266, longitud:-0.671365857124, velocidad:0, orientacion:0, fecha:2015-02-17 16:00:04"
       ]
      },
      {
       "output_type": "stream",
       "stream": "stdout",
       "text": [
        "\n",
        "Cluster centered in: id:3299194072, recurso:tetra:12082781, latitud:-0.22468586266, longitud:-0.671365857124, velocidad:0, orientacion:0, fecha:2015-02-17 16:00:20"
       ]
      },
      {
       "output_type": "stream",
       "stream": "stdout",
       "text": [
        "\n",
        "Cluster centered in: id:3299194163, recurso:tetra:12082781, latitud:-0.22468586266, longitud:-0.671365857124, velocidad:0, orientacion:0, fecha:2015-02-17 16:00:36"
       ]
      },
      {
       "output_type": "stream",
       "stream": "stdout",
       "text": [
        "\n",
        "Cluster centered in: id:3299194227, recurso:tetra:12082781, latitud:-0.22468586266, longitud:-0.671365857124, velocidad:0, orientacion:0, fecha:2015-02-17 16:00:50"
       ]
      },
      {
       "output_type": "stream",
       "stream": "stdout",
       "text": [
        "\n",
        "Cluster centered in: id:3299194285, recurso:tetra:12082781, latitud:-0.22468586266, longitud:-0.671365857124, velocidad:0, orientacion:0, fecha:2015-02-17 16:01:05"
       ]
      },
      {
       "output_type": "stream",
       "stream": "stdout",
       "text": [
        "\n",
        "Cluster centered in: id:3299194467, recurso:tetra:12082781, latitud:-0.22468586266, longitud:-0.671365857124, velocidad:0, orientacion:0, fecha:2015-02-17 16:01:25"
       ]
      },
      {
       "output_type": "stream",
       "stream": "stdout",
       "text": [
        "\n",
        "Cluster centered in: id:3299194585, recurso:tetra:12082781, latitud:-0.224686056376, longitud:-0.671365857124, velocidad:0, orientacion:0, fecha:2015-02-17 16:01:48"
       ]
      },
      {
       "output_type": "stream",
       "stream": "stdout",
       "text": [
        "\n",
        "Cluster centered in: id:3299194706, recurso:tetra:12082781, latitud:-0.224686056376, longitud:-0.671365857124, velocidad:0, orientacion:0, fecha:2015-02-17 16:02:06"
       ]
      },
      {
       "output_type": "stream",
       "stream": "stdout",
       "text": [
        "\n",
        "Cluster centered in: id:3299194754, recurso:tetra:12082781, latitud:-0.224686056376, longitud:-0.671365857124, velocidad:0, orientacion:0, fecha:2015-02-17 16:02:27"
       ]
      },
      {
       "output_type": "stream",
       "stream": "stdout",
       "text": [
        "\n",
        "Cluster centered in: id:3299194778, recurso:tetra:12082781, latitud:-0.224686056376, longitud:-0.671365857124, velocidad:0, orientacion:0, fecha:2015-02-17 16:02:39"
       ]
      },
      {
       "output_type": "stream",
       "stream": "stdout",
       "text": [
        "\n",
        "Cluster centered in: id:3299194905, recurso:tetra:12082781, latitud:-0.224686056376, longitud:-0.671365857124, velocidad:0, orientacion:0, fecha:2015-02-17 16:02:52"
       ]
      },
      {
       "output_type": "stream",
       "stream": "stdout",
       "text": [
        "\n",
        "Cluster centered in: id:3299195011, recurso:tetra:12082781, latitud:-0.224686056376, longitud:-0.671365857124, velocidad:0, orientacion:0, fecha:2015-02-17 16:03:08"
       ]
      },
      {
       "output_type": "stream",
       "stream": "stdout",
       "text": [
        "\n",
        "Cluster centered in: id:3299195129, recurso:tetra:12082781, latitud:-0.224686056376, longitud:-0.671365857124, velocidad:0, orientacion:0, fecha:2015-02-17 16:03:21"
       ]
      },
      {
       "output_type": "stream",
       "stream": "stdout",
       "text": [
        "\n",
        "Cluster centered in: id:3299195143, recurso:tetra:12082781, latitud:-0.224686056376, longitud:-0.671365857124, velocidad:0, orientacion:0, fecha:2015-02-17 16:03:40"
       ]
      },
      {
       "output_type": "stream",
       "stream": "stdout",
       "text": [
        "\n",
        "Cluster centered in: id:3299195148, recurso:tetra:12082781, latitud:-0.224686056376, longitud:-0.671365439892, velocidad:0, orientacion:0, fecha:2015-02-17 16:04:04"
       ]
      },
      {
       "output_type": "stream",
       "stream": "stdout",
       "text": [
        "\n",
        "Cluster centered in: id:3299195358, recurso:tetra:12082781, latitud:-0.224686056376, longitud:-0.671365857124, velocidad:0, orientacion:0, fecha:2015-02-17 16:04:28"
       ]
      },
      {
       "output_type": "stream",
       "stream": "stdout",
       "text": [
        "\n",
        "Cluster centered in: id:3299195467, recurso:tetra:12082781, latitud:-0.224686056376, longitud:-0.671365857124, velocidad:0, orientacion:0, fecha:2015-02-17 16:04:50"
       ]
      },
      {
       "output_type": "stream",
       "stream": "stdout",
       "text": [
        "\n",
        "Cluster centered in: id:3299195609, recurso:tetra:12082781, latitud:-0.224686056376, longitud:-0.671365857124, velocidad:0, orientacion:0, fecha:2015-02-17 16:05:01"
       ]
      },
      {
       "output_type": "stream",
       "stream": "stdout",
       "text": [
        "\n",
        "Cluster centered in: id:3299195637, recurso:tetra:12082781, latitud:-0.224686056376, longitud:-0.671365857124, velocidad:0, orientacion:0, fecha:2015-02-17 16:05:14"
       ]
      },
      {
       "output_type": "stream",
       "stream": "stdout",
       "text": [
        "\n",
        "Cluster centered in: id:3299195712, recurso:tetra:12082781, latitud:-0.224686056376, longitud:-0.671365857124, velocidad:0, orientacion:0, fecha:2015-02-17 16:05:31"
       ]
      },
      {
       "output_type": "stream",
       "stream": "stdout",
       "text": [
        "\n",
        "Cluster centered in: id:3299195735, recurso:tetra:12082781, latitud:-0.224686056376, longitud:-0.671365857124, velocidad:0, orientacion:0, fecha:2015-02-17 16:05:56"
       ]
      },
      {
       "output_type": "stream",
       "stream": "stdout",
       "text": [
        "\n",
        "Cluster centered in: id:3299195879, recurso:tetra:12082781, latitud:-0.224686056376, longitud:-0.671365857124, velocidad:0, orientacion:0, fecha:2015-02-17 16:06:10"
       ]
      },
      {
       "output_type": "stream",
       "stream": "stdout",
       "text": [
        "\n",
        "Cluster centered in: id:3299196047, recurso:tetra:12082781, latitud:-0.224686056376, longitud:-0.671365857124, velocidad:0, orientacion:0, fecha:2015-02-17 16:06:27"
       ]
      },
      {
       "output_type": "stream",
       "stream": "stdout",
       "text": [
        "\n",
        "Cluster centered in: id:3299196242, recurso:tetra:12082781, latitud:-0.224686428905, longitud:-0.671366214752, velocidad:0, orientacion:0, fecha:2015-02-17 16:06:42"
       ]
      },
      {
       "output_type": "stream",
       "stream": "stdout",
       "text": [
        "\n",
        "Cluster centered in: id:3299196303, recurso:tetra:12082781, latitud:-0.224686607718, longitud:-0.671366393566, velocidad:0, orientacion:0, fecha:2015-02-17 16:07:00"
       ]
      },
      {
       "output_type": "stream",
       "stream": "stdout",
       "text": [
        "\n",
        "Cluster centered in: id:3299196304, recurso:tetra:12082781, latitud:-0.224686607718, longitud:-0.67136734724, velocidad:0, orientacion:0, fecha:2015-02-17 16:07:13"
       ]
      },
      {
       "output_type": "stream",
       "stream": "stdout",
       "text": [
        "\n",
        "Cluster centered in: id:3299196312, recurso:tetra:12082781, latitud:-0.224686995149, longitud:-0.671367526054, velocidad:0, orientacion:0, fecha:2015-02-17 16:07:39"
       ]
      },
      {
       "output_type": "stream",
       "stream": "stdout",
       "text": [
        "\n",
        "Cluster centered in: id:3299196444, recurso:tetra:12082781, latitud:-0.224686995149, longitud:-0.671367526054, velocidad:0, orientacion:0, fecha:2015-02-17 16:07:53"
       ]
      },
      {
       "output_type": "stream",
       "stream": "stdout",
       "text": [
        "\n",
        "Cluster centered in: id:3299196516, recurso:tetra:12082781, latitud:-0.224686995149, longitud:-0.671367526054, velocidad:0, orientacion:0, fecha:2015-02-17 16:08:15"
       ]
      },
      {
       "output_type": "stream",
       "stream": "stdout",
       "text": [
        "\n",
        "Cluster centered in: id:3299196525, recurso:tetra:12082781, latitud:-0.224686995149, longitud:-0.67136734724, velocidad:0, orientacion:0, fecha:2015-02-17 16:08:31"
       ]
      },
      {
       "output_type": "stream",
       "stream": "stdout",
       "text": [
        "\n",
        "Cluster centered in: id:3299196619, recurso:tetra:12082781, latitud:-0.224686995149, longitud:-0.671366930008, velocidad:0, orientacion:0, fecha:2015-02-17 16:08:45"
       ]
      },
      {
       "output_type": "stream",
       "stream": "stdout",
       "text": [
        "\n",
        "Cluster centered in: id:3299196661, recurso:tetra:12082781, latitud:-0.224686995149, longitud:-0.671366393566, velocidad:0, orientacion:0, fecha:2015-02-17 16:09:02"
       ]
      },
      {
       "output_type": "stream",
       "stream": "stdout",
       "text": [
        "\n",
        "Cluster centered in: id:3299196694, recurso:tetra:12082781, latitud:-0.224686995149, longitud:-0.671366393566, velocidad:0, orientacion:0, fecha:2015-02-17 16:09:17"
       ]
      },
      {
       "output_type": "stream",
       "stream": "stdout",
       "text": [
        "\n",
        "Cluster centered in: id:3299196841, recurso:tetra:12082781, latitud:-0.224686607718, longitud:-0.671365857124, velocidad:0, orientacion:0, fecha:2015-02-17 16:09:34"
       ]
      },
      {
       "output_type": "stream",
       "stream": "stdout",
       "text": [
        "\n",
        "Cluster centered in: id:3299196911, recurso:tetra:12082781, latitud:-0.224686428905, longitud:-0.671366393566, velocidad:0, orientacion:292, fecha:2015-02-17 16:09:58"
       ]
      },
      {
       "output_type": "stream",
       "stream": "stdout",
       "text": [
        "\n",
        "Cluster centered in: id:3299197058, recurso:tetra:12082781, latitud:-0.224686428905, longitud:-0.671366393566, velocidad:0, orientacion:0, fecha:2015-02-17 16:10:13"
       ]
      },
      {
       "output_type": "stream",
       "stream": "stdout",
       "text": [
        "\n",
        "Cluster centered in: id:3299197138, recurso:tetra:12082781, latitud:-0.224686428905, longitud:-0.671366393566, velocidad:0, orientacion:0, fecha:2015-02-17 16:10:27"
       ]
      },
      {
       "output_type": "stream",
       "stream": "stdout",
       "text": [
        "\n",
        "Cluster centered in: id:3299197256, recurso:tetra:12082781, latitud:-0.224686056376, longitud:-0.671366393566, velocidad:0, orientacion:0, fecha:2015-02-17 16:10:46"
       ]
      },
      {
       "output_type": "stream",
       "stream": "stdout",
       "text": [
        "\n",
        "Cluster centered in: id:3299197367, recurso:tetra:12082781, latitud:-0.224686056376, longitud:-0.671366393566, velocidad:0, orientacion:0, fecha:2015-02-17 16:11:01"
       ]
      },
      {
       "output_type": "stream",
       "stream": "stdout",
       "text": [
        "\n",
        "Cluster centered in: id:3299197467, recurso:tetra:12082781, latitud:-0.22468586266, longitud:-0.671366751194, velocidad:0, orientacion:0, fecha:2015-02-17 16:11:16"
       ]
      },
      {
       "output_type": "stream",
       "stream": "stdout",
       "text": [
        "\n",
        "Cluster centered in: id:3299197559, recurso:tetra:12082781, latitud:-0.224684372544, longitud:-0.671368479729, velocidad:0, orientacion:0, fecha:2015-02-17 16:11:46"
       ]
      },
      {
       "output_type": "stream",
       "stream": "stdout",
       "text": [
        "\n",
        "Cluster centered in: id:3299197690, recurso:tetra:12082781, latitud:-0.224684372544, longitud:-0.67136824131, velocidad:0, orientacion:0, fecha:2015-02-17 16:12:03"
       ]
      },
      {
       "output_type": "stream",
       "stream": "stdout",
       "text": [
        "\n",
        "Cluster centered in: id:3299197829, recurso:tetra:12082781, latitud:-0.224684551358, longitud:-0.67136824131, velocidad:0, orientacion:0, fecha:2015-02-17 16:12:19"
       ]
      },
      {
       "output_type": "stream",
       "stream": "stdout",
       "text": [
        "\n",
        "Cluster centered in: id:3299197978, recurso:tetra:12082781, latitud:-0.224684551358, longitud:-0.671367883682, velocidad:0, orientacion:0, fecha:2015-02-17 16:12:38"
       ]
      },
      {
       "output_type": "stream",
       "stream": "stdout",
       "text": [
        "\n",
        "Cluster centered in: id:3299198048, recurso:tetra:12082781, latitud:-0.224684551358, longitud:-0.671367526054, velocidad:0, orientacion:0, fecha:2015-02-17 16:12:51"
       ]
      },
      {
       "output_type": "stream",
       "stream": "stdout",
       "text": [
        "\n",
        "Cluster centered in: id:3299198154, recurso:tetra:12082781, latitud:-0.224684923887, longitud:-0.67136734724, velocidad:0, orientacion:0, fecha:2015-02-17 16:13:14"
       ]
      },
      {
       "output_type": "stream",
       "stream": "stdout",
       "text": [
        "\n",
        "Cluster centered in: id:3299198247, recurso:tetra:12082781, latitud:-0.224684923887, longitud:-0.67136734724, velocidad:0, orientacion:0, fecha:2015-02-17 16:13:33"
       ]
      },
      {
       "output_type": "stream",
       "stream": "stdout",
       "text": [
        "\n",
        "Cluster centered in: id:3299198280, recurso:tetra:12082781, latitud:-0.224684923887, longitud:-0.671367526054, velocidad:0, orientacion:0, fecha:2015-02-17 16:13:46"
       ]
      },
      {
       "output_type": "stream",
       "stream": "stdout",
       "text": [
        "\n",
        "Cluster centered in: id:3299198336, recurso:tetra:12082781, latitud:-0.224684923887, longitud:-0.671367526054, velocidad:0, orientacion:0, fecha:2015-02-17 16:14:05"
       ]
      },
      {
       "output_type": "stream",
       "stream": "stdout",
       "text": [
        "\n",
        "Cluster centered in: id:3299198395, recurso:tetra:12082781, latitud:-0.224684923887, longitud:-0.671367526054, velocidad:0, orientacion:0, fecha:2015-02-17 16:14:20"
       ]
      },
      {
       "output_type": "stream",
       "stream": "stdout",
       "text": [
        "\n",
        "Cluster centered in: id:3299198423, recurso:tetra:12082781, latitud:-0.224684923887, longitud:-0.671367526054, velocidad:0, orientacion:0, fecha:2015-02-17 16:14:37"
       ]
      },
      {
       "output_type": "stream",
       "stream": "stdout",
       "text": [
        "\n",
        "Cluster centered in: id:3299198530, recurso:tetra:12082781, latitud:-0.224684923887, longitud:-0.671367526054, velocidad:0, orientacion:0, fecha:2015-02-17 16:14:52"
       ]
      },
      {
       "output_type": "stream",
       "stream": "stdout",
       "text": [
        "\n",
        "Cluster centered in: id:3299198652, recurso:tetra:12082781, latitud:-0.224684923887, longitud:-0.67136734724, velocidad:0, orientacion:0, fecha:2015-02-17 16:15:07"
       ]
      },
      {
       "output_type": "stream",
       "stream": "stdout",
       "text": [
        "\n",
        "Cluster centered in: id:3299198657, recurso:tetra:12082781, latitud:-0.224684923887, longitud:-0.67136734724, velocidad:0, orientacion:0, fecha:2015-02-17 16:15:37"
       ]
      },
      {
       "output_type": "stream",
       "stream": "stdout",
       "text": [
        "\n",
        "Cluster centered in: id:3299198723, recurso:tetra:12082781, latitud:-0.224684923887, longitud:-0.67136734724, velocidad:0, orientacion:0, fecha:2015-02-17 16:15:55"
       ]
      },
      {
       "output_type": "stream",
       "stream": "stdout",
       "text": [
        "\n",
        "Cluster centered in: id:3299198866, recurso:tetra:12082781, latitud:-0.224684923887, longitud:-0.67136734724, velocidad:0, orientacion:0, fecha:2015-02-17 16:16:09"
       ]
      },
      {
       "output_type": "stream",
       "stream": "stdout",
       "text": [
        "\n",
        "Cluster centered in: id:3299198946, recurso:tetra:12082781, latitud:-0.224684923887, longitud:-0.67136734724, velocidad:0, orientacion:0, fecha:2015-02-17 16:16:27"
       ]
      },
      {
       "output_type": "stream",
       "stream": "stdout",
       "text": [
        "\n",
        "Cluster centered in: id:3299199090, recurso:tetra:12082781, latitud:-0.224684551358, longitud:-0.671367526054, velocidad:0, orientacion:0, fecha:2015-02-17 16:16:45"
       ]
      },
      {
       "output_type": "stream",
       "stream": "stdout",
       "text": [
        "\n",
        "Cluster centered in: id:3299199185, recurso:tetra:12082781, latitud:-0.224684551358, longitud:-0.671367526054, velocidad:0, orientacion:0, fecha:2015-02-17 16:17:01"
       ]
      },
      {
       "output_type": "stream",
       "stream": "stdout",
       "text": [
        "\n",
        "Cluster centered in: id:3299199232, recurso:tetra:12082781, latitud:-0.224684551358, longitud:-0.67136734724, velocidad:0, orientacion:0, fecha:2015-02-17 16:17:25"
       ]
      },
      {
       "output_type": "stream",
       "stream": "stdout",
       "text": [
        "\n",
        "Cluster centered in: id:3299199380, recurso:tetra:12082781, latitud:-0.224684551358, longitud:-0.67136734724, velocidad:0, orientacion:0, fecha:2015-02-17 16:17:46"
       ]
      },
      {
       "output_type": "stream",
       "stream": "stdout",
       "text": [
        "\n",
        "Cluster centered in: id:3299199525, recurso:tetra:12082781, latitud:-0.224684923887, longitud:-0.67136734724, velocidad:0, orientacion:0, fecha:2015-02-17 16:18:04"
       ]
      },
      {
       "output_type": "stream",
       "stream": "stdout",
       "text": [
        "\n",
        "Cluster centered in: id:3299199723, recurso:tetra:12082781, latitud:-0.224684923887, longitud:-0.671367526054, velocidad:0, orientacion:0, fecha:2015-02-17 16:18:19"
       ]
      },
      {
       "output_type": "stream",
       "stream": "stdout",
       "text": [
        "\n",
        "Cluster centered in: id:3299199778, recurso:tetra:12082781, latitud:-0.224685117602, longitud:-0.671367883682, velocidad:0, orientacion:0, fecha:2015-02-17 16:18:34"
       ]
      },
      {
       "output_type": "stream",
       "stream": "stdout",
       "text": [
        "\n",
        "Cluster centered in: id:3299199809, recurso:tetra:12082781, latitud:-0.224685117602, longitud:-0.671367883682, velocidad:0, orientacion:0, fecha:2015-02-17 16:18:50"
       ]
      },
      {
       "output_type": "stream",
       "stream": "stdout",
       "text": [
        "\n",
        "Cluster centered in: id:3299199824, recurso:tetra:12082781, latitud:-0.224685117602, longitud:-0.671367883682, velocidad:0, orientacion:0, fecha:2015-02-17 16:19:15"
       ]
      },
      {
       "output_type": "stream",
       "stream": "stdout",
       "text": [
        "\n",
        "Cluster centered in: id:3299199929, recurso:tetra:12082781, latitud:-0.224685490131, longitud:-0.67136824131, velocidad:0, orientacion:0, fecha:2015-02-17 16:19:33"
       ]
      },
      {
       "output_type": "stream",
       "stream": "stdout",
       "text": [
        "\n",
        "Cluster centered in: id:3299200020, recurso:tetra:12082781, latitud:-0.224685117602, longitud:-0.67136824131, velocidad:0, orientacion:0, fecha:2015-02-17 16:19:52"
       ]
      },
      {
       "output_type": "stream",
       "stream": "stdout",
       "text": [
        "\n",
        "Cluster centered in: id:3299200036, recurso:tetra:12082781, latitud:-0.224685117602, longitud:-0.67136824131, velocidad:0, orientacion:0, fecha:2015-02-17 16:20:09"
       ]
      },
      {
       "output_type": "stream",
       "stream": "stdout",
       "text": [
        "\n",
        "Cluster centered in: id:3299200126, recurso:tetra:12082781, latitud:-0.224685117602, longitud:-0.67136824131, velocidad:0, orientacion:0, fecha:2015-02-17 16:20:22"
       ]
      },
      {
       "output_type": "stream",
       "stream": "stdout",
       "text": [
        "\n",
        "Cluster centered in: id:3299200161, recurso:tetra:12082781, latitud:-0.224685117602, longitud:-0.67136824131, velocidad:0, orientacion:0, fecha:2015-02-17 16:20:36"
       ]
      },
      {
       "output_type": "stream",
       "stream": "stdout",
       "text": [
        "\n",
        "Cluster centered in: id:3299200232, recurso:tetra:12082781, latitud:-0.224685117602, longitud:-0.67136824131, velocidad:0, orientacion:0, fecha:2015-02-17 16:20:52"
       ]
      },
      {
       "output_type": "stream",
       "stream": "stdout",
       "text": [
        "\n",
        "Cluster centered in: id:3299200396, recurso:tetra:12082781, latitud:-0.224685117602, longitud:-0.67136824131, velocidad:0, orientacion:0, fecha:2015-02-17 16:21:07"
       ]
      },
      {
       "output_type": "stream",
       "stream": "stdout",
       "text": [
        "\n",
        "Cluster centered in: id:3299200416, recurso:tetra:12082781, latitud:-0.224685117602, longitud:-0.67136824131, velocidad:0, orientacion:0, fecha:2015-02-17 16:21:33"
       ]
      },
      {
       "output_type": "stream",
       "stream": "stdout",
       "text": [
        "\n",
        "Cluster centered in: id:3299200615, recurso:tetra:12082781, latitud:-0.224685117602, longitud:-0.67136824131, velocidad:0, orientacion:0, fecha:2015-02-17 16:21:58"
       ]
      },
      {
       "output_type": "stream",
       "stream": "stdout",
       "text": [
        "\n",
        "Cluster centered in: id:3299200731, recurso:tetra:12082781, latitud:-0.224685490131, longitud:-0.67136824131, velocidad:0, orientacion:0, fecha:2015-02-17 16:22:15"
       ]
      },
      {
       "output_type": "stream",
       "stream": "stdout",
       "text": [
        "\n",
        "Cluster centered in: id:3299200764, recurso:tetra:12082781, latitud:-0.224685490131, longitud:-0.67136824131, velocidad:0, orientacion:180, fecha:2015-02-17 16:22:29"
       ]
      },
      {
       "output_type": "stream",
       "stream": "stdout",
       "text": [
        "\n",
        "Cluster centered in: id:3299200874, recurso:tetra:12082781, latitud:-0.224685490131, longitud:-0.67136824131, velocidad:0, orientacion:0, fecha:2015-02-17 16:22:54"
       ]
      },
      {
       "output_type": "stream",
       "stream": "stdout",
       "text": [
        "\n",
        "Cluster centered in: id:3299200977, recurso:tetra:12082781, latitud:-0.224685490131, longitud:-0.67136824131, velocidad:0, orientacion:0, fecha:2015-02-17 16:23:18"
       ]
      },
      {
       "output_type": "stream",
       "stream": "stdout",
       "text": [
        "\n",
        "Cluster centered in: id:3299201065, recurso:tetra:12082781, latitud:-0.224685490131, longitud:-0.67136824131, velocidad:0, orientacion:0, fecha:2015-02-17 16:23:35"
       ]
      },
      {
       "output_type": "stream",
       "stream": "stdout",
       "text": [
        "\n",
        "Cluster centered in: id:3299201191, recurso:tetra:12082781, latitud:-0.224685490131, longitud:-0.67136824131, velocidad:0, orientacion:0, fecha:2015-02-17 16:23:48"
       ]
      },
      {
       "output_type": "stream",
       "stream": "stdout",
       "text": [
        "\n",
        "Cluster centered in: id:3299201414, recurso:tetra:12082781, latitud:-0.224685490131, longitud:-0.67136824131, velocidad:0, orientacion:0, fecha:2015-02-17 16:24:04"
       ]
      },
      {
       "output_type": "stream",
       "stream": "stdout",
       "text": [
        "\n",
        "Cluster centered in: id:3299201490, recurso:tetra:12082781, latitud:-0.224685490131, longitud:-0.67136824131, velocidad:0, orientacion:0, fecha:2015-02-17 16:24:20"
       ]
      },
      {
       "output_type": "stream",
       "stream": "stdout",
       "text": [
        "\n",
        "Cluster centered in: id:3299201551, recurso:tetra:12082781, latitud:-0.224685490131, longitud:-0.67136824131, velocidad:0, orientacion:0, fecha:2015-02-17 16:24:37"
       ]
      },
      {
       "output_type": "stream",
       "stream": "stdout",
       "text": [
        "\n",
        "Cluster centered in: id:3299201621, recurso:tetra:12082781, latitud:-0.224685490131, longitud:-0.67136824131, velocidad:0, orientacion:0, fecha:2015-02-17 16:25:03"
       ]
      },
      {
       "output_type": "stream",
       "stream": "stdout",
       "text": [
        "\n",
        "Cluster centered in: id:3299201760, recurso:tetra:12082781, latitud:-0.224685490131, longitud:-0.67136824131, velocidad:0, orientacion:0, fecha:2015-02-17 16:25:17"
       ]
      },
      {
       "output_type": "stream",
       "stream": "stdout",
       "text": [
        "\n",
        "Cluster centered in: id:3299201776, recurso:tetra:12082781, latitud:-0.224685490131, longitud:-0.67136824131, velocidad:0, orientacion:0, fecha:2015-02-17 16:25:33"
       ]
      },
      {
       "output_type": "stream",
       "stream": "stdout",
       "text": [
        "\n",
        "Cluster centered in: id:3299201840, recurso:tetra:12082781, latitud:-0.224685490131, longitud:-0.67136824131, velocidad:0, orientacion:0, fecha:2015-02-17 16:25:52"
       ]
      },
      {
       "output_type": "stream",
       "stream": "stdout",
       "text": [
        "\n",
        "Cluster centered in: id:3299201888, recurso:tetra:12082781, latitud:-0.224685490131, longitud:-0.67136824131, velocidad:0, orientacion:0, fecha:2015-02-17 16:26:05"
       ]
      },
      {
       "output_type": "stream",
       "stream": "stdout",
       "text": [
        "\n",
        "Cluster centered in: id:3299201967, recurso:tetra:12082781, latitud:-0.224685490131, longitud:-0.67136824131, velocidad:0, orientacion:0, fecha:2015-02-17 16:26:20"
       ]
      },
      {
       "output_type": "stream",
       "stream": "stdout",
       "text": [
        "\n",
        "Cluster centered in: id:3299202126, recurso:tetra:12082781, latitud:-0.224685490131, longitud:-0.67136824131, velocidad:0, orientacion:0, fecha:2015-02-17 16:26:35"
       ]
      },
      {
       "output_type": "stream",
       "stream": "stdout",
       "text": [
        "\n",
        "Cluster centered in: id:3299202148, recurso:tetra:12082781, latitud:-0.224685490131, longitud:-0.67136824131, velocidad:0, orientacion:0, fecha:2015-02-17 16:27:06"
       ]
      },
      {
       "output_type": "stream",
       "stream": "stdout",
       "text": [
        "\n",
        "Cluster centered in: id:3299202206, recurso:tetra:12082781, latitud:-0.224685490131, longitud:-0.67136824131, velocidad:0, orientacion:0, fecha:2015-02-17 16:27:18"
       ]
      },
      {
       "output_type": "stream",
       "stream": "stdout",
       "text": [
        "\n",
        "Cluster centered in: id:3299202373, recurso:tetra:12082781, latitud:-0.224685117602, longitud:-0.67136824131, velocidad:0, orientacion:0, fecha:2015-02-17 16:27:35"
       ]
      },
      {
       "output_type": "stream",
       "stream": "stdout",
       "text": [
        "\n",
        "Cluster centered in: id:3299202485, recurso:tetra:12082781, latitud:-0.224685117602, longitud:-0.67136824131, velocidad:0, orientacion:0, fecha:2015-02-17 16:28:02"
       ]
      },
      {
       "output_type": "stream",
       "stream": "stdout",
       "text": [
        "\n",
        "Cluster centered in: id:3299202513, recurso:tetra:12082781, latitud:-0.224685117602, longitud:-0.67136824131, velocidad:0, orientacion:0, fecha:2015-02-17 16:28:14"
       ]
      },
      {
       "output_type": "stream",
       "stream": "stdout",
       "text": [
        "\n",
        "Cluster centered in: id:3299202605, recurso:tetra:12082781, latitud:-0.224685117602, longitud:-0.67136824131, velocidad:0, orientacion:0, fecha:2015-02-17 16:28:29"
       ]
      },
      {
       "output_type": "stream",
       "stream": "stdout",
       "text": [
        "\n",
        "Cluster centered in: id:3299202722, recurso:tetra:12082781, latitud:-0.224685117602, longitud:-0.67136824131, velocidad:0, orientacion:0, fecha:2015-02-17 16:28:55"
       ]
      },
      {
       "output_type": "stream",
       "stream": "stdout",
       "text": [
        "\n",
        "Cluster centered in: id:3299202863, recurso:tetra:12082781, latitud:-0.224685117602, longitud:-0.671368479729, velocidad:0, orientacion:0, fecha:2015-02-17 16:29:14"
       ]
      },
      {
       "output_type": "stream",
       "stream": "stdout",
       "text": [
        "\n",
        "Cluster centered in: id:3299202968, recurso:tetra:12082781, latitud:-0.224685117602, longitud:-0.671368479729, velocidad:0, orientacion:0, fecha:2015-02-17 16:29:32"
       ]
      },
      {
       "output_type": "stream",
       "stream": "stdout",
       "text": [
        "\n",
        "Cluster centered in: id:3299203072, recurso:tetra:12082781, latitud:-0.224684923887, longitud:-0.671368837357, velocidad:0, orientacion:0, fecha:2015-02-17 16:29:45"
       ]
      },
      {
       "output_type": "stream",
       "stream": "stdout",
       "text": [
        "\n",
        "Cluster centered in: id:3299203245, recurso:tetra:12082781, latitud:-0.224689051509, longitud:-0.671362996101, velocidad:0, orientacion:0, fecha:2015-02-17 16:30:04"
       ]
      },
      {
       "output_type": "stream",
       "stream": "stdout",
       "text": [
        "\n",
        "Cluster centered in: id:3299203318, recurso:tetra:12082781, latitud:-0.224688112736, longitud:-0.671363770962, velocidad:0, orientacion:0, fecha:2015-02-17 16:30:21"
       ]
      },
      {
       "output_type": "stream",
       "stream": "stdout",
       "text": [
        "\n",
        "Cluster centered in: id:3299203344, recurso:tetra:12082781, latitud:-0.224687919021, longitud:-0.67136412859, velocidad:0, orientacion:0, fecha:2015-02-17 16:30:54"
       ]
      },
      {
       "output_type": "stream",
       "stream": "stdout",
       "text": [
        "\n",
        "Cluster centered in: id:3299203455, recurso:tetra:12082781, latitud:-0.224687919021, longitud:-0.67136412859, velocidad:0, orientacion:0, fecha:2015-02-17 16:31:09"
       ]
      },
      {
       "output_type": "stream",
       "stream": "stdout",
       "text": [
        "\n",
        "Cluster centered in: id:3299203520, recurso:tetra:12082781, latitud:-0.224687919021, longitud:-0.67136412859, velocidad:0, orientacion:0, fecha:2015-02-17 16:31:26"
       ]
      },
      {
       "output_type": "stream",
       "stream": "stdout",
       "text": [
        "\n",
        "Cluster centered in: id:3299203539, recurso:tetra:12082781, latitud:-0.224687919021, longitud:-0.67136412859, velocidad:0, orientacion:0, fecha:2015-02-17 16:31:42"
       ]
      },
      {
       "output_type": "stream",
       "stream": "stdout",
       "text": [
        "\n",
        "Cluster centered in: id:3299203595, recurso:tetra:12082781, latitud:-0.224687919021, longitud:-0.67136412859, velocidad:0, orientacion:0, fecha:2015-02-17 16:32:00"
       ]
      },
      {
       "output_type": "stream",
       "stream": "stdout",
       "text": [
        "\n",
        "Cluster centered in: id:3299203678, recurso:tetra:12082781, latitud:-0.224687919021, longitud:-0.67136412859, velocidad:0, orientacion:0, fecha:2015-02-17 16:32:14"
       ]
      },
      {
       "output_type": "stream",
       "stream": "stdout",
       "text": [
        "\n",
        "Cluster centered in: id:3299203793, recurso:tetra:12082781, latitud:-0.224687919021, longitud:-0.67136412859, velocidad:0, orientacion:0, fecha:2015-02-17 16:32:31"
       ]
      },
      {
       "output_type": "stream",
       "stream": "stdout",
       "text": [
        "\n",
        "Cluster centered in: id:3299203916, recurso:tetra:12082781, latitud:-0.224687919021, longitud:-0.67136412859, velocidad:0, orientacion:0, fecha:2015-02-17 16:33:04"
       ]
      },
      {
       "output_type": "stream",
       "stream": "stdout",
       "text": [
        "\n",
        "Cluster centered in: id:3299204035, recurso:tetra:12082781, latitud:-0.224687919021, longitud:-0.67136412859, velocidad:0, orientacion:0, fecha:2015-02-17 16:33:21"
       ]
      },
      {
       "output_type": "stream",
       "stream": "stdout",
       "text": [
        "\n",
        "Cluster centered in: id:3299204155, recurso:tetra:12082781, latitud:-0.224687919021, longitud:-0.67136412859, velocidad:0, orientacion:0, fecha:2015-02-17 16:33:36"
       ]
      },
      {
       "output_type": "stream",
       "stream": "stdout",
       "text": [
        "\n",
        "Cluster centered in: id:3299204249, recurso:tetra:12082781, latitud:-0.224687919021, longitud:-0.67136412859, velocidad:0, orientacion:0, fecha:2015-02-17 16:33:53"
       ]
      },
      {
       "output_type": "stream",
       "stream": "stdout",
       "text": [
        "\n",
        "Cluster centered in: id:3299204298, recurso:tetra:12082781, latitud:-0.224687919021, longitud:-0.67136412859, velocidad:0, orientacion:0, fecha:2015-02-17 16:34:08"
       ]
      },
      {
       "output_type": "stream",
       "stream": "stdout",
       "text": [
        "\n",
        "Cluster centered in: id:3299204407, recurso:tetra:12082781, latitud:-0.224687919021, longitud:-0.67136412859, velocidad:0, orientacion:0, fecha:2015-02-17 16:34:24"
       ]
      },
      {
       "output_type": "stream",
       "stream": "stdout",
       "text": [
        "\n",
        "Cluster centered in: id:3299204503, recurso:tetra:12082781, latitud:-0.224687919021, longitud:-0.67136412859, velocidad:0, orientacion:0, fecha:2015-02-17 16:34:49"
       ]
      },
      {
       "output_type": "stream",
       "stream": "stdout",
       "text": [
        "\n",
        "Cluster centered in: id:3299204692, recurso:tetra:12082781, latitud:-0.224687919021, longitud:-0.67136412859, velocidad:0, orientacion:0, fecha:2015-02-17 16:35:08"
       ]
      },
      {
       "output_type": "stream",
       "stream": "stdout",
       "text": [
        "\n",
        "Cluster centered in: id:3299204821, recurso:tetra:12082781, latitud:-0.224687919021, longitud:-0.67136412859, velocidad:0, orientacion:0, fecha:2015-02-17 16:35:26"
       ]
      },
      {
       "output_type": "stream",
       "stream": "stdout",
       "text": [
        "\n",
        "Cluster centered in: id:3299204949, recurso:tetra:12082781, latitud:-0.224687919021, longitud:-0.67136412859, velocidad:0, orientacion:0, fecha:2015-02-17 16:35:40"
       ]
      },
      {
       "output_type": "stream",
       "stream": "stdout",
       "text": [
        "\n",
        "Cluster centered in: id:3299205010, recurso:tetra:12082781, latitud:-0.224687546492, longitud:-0.671364307404, velocidad:0, orientacion:0, fecha:2015-02-17 16:35:54"
       ]
      },
      {
       "output_type": "stream",
       "stream": "stdout",
       "text": [
        "\n",
        "Cluster centered in: id:3299205079, recurso:tetra:12082781, latitud:-0.22468586266, longitud:-0.671366214752, velocidad:0, orientacion:0, fecha:2015-02-17 16:36:11"
       ]
      },
      {
       "output_type": "stream",
       "stream": "stdout",
       "text": [
        "\n",
        "Cluster centered in: id:3299205143, recurso:tetra:12082781, latitud:-0.224685117602, longitud:-0.671366751194, velocidad:0, orientacion:0, fecha:2015-02-17 16:36:37"
       ]
      },
      {
       "output_type": "stream",
       "stream": "stdout",
       "text": [
        "\n",
        "Cluster centered in: id:3299205258, recurso:tetra:12082781, latitud:-0.224685117602, longitud:-0.671366930008, velocidad:0, orientacion:0, fecha:2015-02-17 16:36:52"
       ]
      },
      {
       "output_type": "stream",
       "stream": "stdout",
       "text": [
        "\n",
        "Cluster centered in: id:3299205287, recurso:tetra:12082781, latitud:-0.224685117602, longitud:-0.671366930008, velocidad:0, orientacion:0, fecha:2015-02-17 16:37:07"
       ]
      },
      {
       "output_type": "stream",
       "stream": "stdout",
       "text": [
        "\n",
        "Cluster centered in: id:3299205321, recurso:tetra:12082781, latitud:-0.224685117602, longitud:-0.67136734724, velocidad:0, orientacion:0, fecha:2015-02-17 16:37:23"
       ]
      },
      {
       "output_type": "stream",
       "stream": "stdout",
       "text": [
        "\n",
        "Cluster centered in: id:3299205409, recurso:tetra:12082781, latitud:-0.224685117602, longitud:-0.67136734724, velocidad:0, orientacion:0, fecha:2015-02-17 16:37:37"
       ]
      },
      {
       "output_type": "stream",
       "stream": "stdout",
       "text": [
        "\n",
        "Cluster centered in: id:3299205522, recurso:tetra:12082781, latitud:-0.224684923887, longitud:-0.671367526054, velocidad:0, orientacion:0, fecha:2015-02-17 16:37:54"
       ]
      },
      {
       "output_type": "stream",
       "stream": "stdout",
       "text": [
        "\n",
        "Cluster centered in: id:3299205661, recurso:tetra:12082781, latitud:-0.224685117602, longitud:-0.671368837357, velocidad:0, orientacion:0, fecha:2015-02-17 16:38:13"
       ]
      },
      {
       "output_type": "stream",
       "stream": "stdout",
       "text": [
        "\n",
        "Cluster centered in: id:3299205666, recurso:tetra:12082781, latitud:-0.224685490131, longitud:-0.671369373798, velocidad:0, orientacion:0, fecha:2015-02-17 16:38:38"
       ]
      },
      {
       "output_type": "stream",
       "stream": "stdout",
       "text": [
        "\n",
        "Cluster centered in: id:3299205675, recurso:tetra:12082781, latitud:-0.224685490131, longitud:-0.671369016171, velocidad:0, orientacion:0, fecha:2015-02-17 16:39:00"
       ]
      },
      {
       "output_type": "stream",
       "stream": "stdout",
       "text": [
        "\n",
        "Cluster centered in: id:3299205807, recurso:tetra:12082781, latitud:-0.224685490131, longitud:-0.671369016171, velocidad:0, orientacion:0, fecha:2015-02-17 16:39:14"
       ]
      },
      {
       "output_type": "stream",
       "stream": "stdout",
       "text": [
        "\n",
        "Cluster centered in: id:3299205965, recurso:tetra:12082781, latitud:-0.224684551358, longitud:-0.671366930008, velocidad:0, orientacion:0, fecha:2015-02-17 16:39:30"
       ]
      },
      {
       "output_type": "stream",
       "stream": "stdout",
       "text": [
        "\n",
        "Cluster centered in: id:3299206031, recurso:tetra:12082781, latitud:-0.224684372544, longitud:-0.671366393566, velocidad:0, orientacion:0, fecha:2015-02-17 16:39:42"
       ]
      },
      {
       "output_type": "stream",
       "stream": "stdout",
       "text": [
        "\n",
        "Cluster centered in: id:3299206089, recurso:tetra:12082781, latitud:-0.224684372544, longitud:-0.671366393566, velocidad:0, orientacion:0, fecha:2015-02-17 16:39:58"
       ]
      },
      {
       "output_type": "stream",
       "stream": "stdout",
       "text": [
        "\n",
        "Cluster centered in: id:3299206248, recurso:tetra:12082781, latitud:-0.224684372544, longitud:-0.671366393566, velocidad:0, orientacion:0, fecha:2015-02-17 16:40:29"
       ]
      },
      {
       "output_type": "stream",
       "stream": "stdout",
       "text": [
        "\n",
        "Cluster centered in: id:3299206400, recurso:tetra:12082781, latitud:-0.224684551358, longitud:-0.671366393566, velocidad:0, orientacion:0, fecha:2015-02-17 16:40:48"
       ]
      },
      {
       "output_type": "stream",
       "stream": "stdout",
       "text": [
        "\n",
        "Cluster centered in: id:3299206471, recurso:tetra:12082781, latitud:-0.224684551358, longitud:-0.671366751194, velocidad:0, orientacion:0, fecha:2015-02-17 16:41:02"
       ]
      },
      {
       "output_type": "stream",
       "stream": "stdout",
       "text": [
        "\n",
        "Cluster centered in: id:3299206604, recurso:tetra:12082781, latitud:-0.224684551358, longitud:-0.671366751194, velocidad:0, orientacion:0, fecha:2015-02-17 16:41:19"
       ]
      },
      {
       "output_type": "stream",
       "stream": "stdout",
       "text": [
        "\n",
        "Cluster centered in: id:3299206703, recurso:tetra:12082781, latitud:-0.224684551358, longitud:-0.671366751194, velocidad:0, orientacion:0, fecha:2015-02-17 16:41:35"
       ]
      },
      {
       "output_type": "stream",
       "stream": "stdout",
       "text": [
        "\n",
        "Cluster centered in: id:3299206753, recurso:tetra:12082781, latitud:-0.224684551358, longitud:-0.671366751194, velocidad:0, orientacion:0, fecha:2015-02-17 16:41:48"
       ]
      },
      {
       "output_type": "stream",
       "stream": "stdout",
       "text": [
        "\n",
        "Cluster centered in: id:3299206832, recurso:tetra:12082781, latitud:-0.224684551358, longitud:-0.671366751194, velocidad:0, orientacion:0, fecha:2015-02-17 16:42:04"
       ]
      },
      {
       "output_type": "stream",
       "stream": "stdout",
       "text": [
        "\n",
        "Cluster centered in: id:3299206835, recurso:tetra:12082781, latitud:-0.224684551358, longitud:-0.671366751194, velocidad:0, orientacion:0, fecha:2015-02-17 16:42:30"
       ]
      },
      {
       "output_type": "stream",
       "stream": "stdout",
       "text": [
        "\n",
        "Cluster centered in: id:3299206950, recurso:tetra:12082781, latitud:-0.224684551358, longitud:-0.671366751194, velocidad:0, orientacion:0, fecha:2015-02-17 16:42:46"
       ]
      },
      {
       "output_type": "stream",
       "stream": "stdout",
       "text": [
        "\n",
        "Cluster centered in: id:3299207024, recurso:tetra:12082781, latitud:-0.224684551358, longitud:-0.671366751194, velocidad:0, orientacion:0, fecha:2015-02-17 16:43:07"
       ]
      },
      {
       "output_type": "stream",
       "stream": "stdout",
       "text": [
        "\n",
        "Cluster centered in: id:3299207041, recurso:tetra:12082781, latitud:-0.224684551358, longitud:-0.671366751194, velocidad:0, orientacion:0, fecha:2015-02-17 16:43:20"
       ]
      },
      {
       "output_type": "stream",
       "stream": "stdout",
       "text": [
        "\n",
        "Cluster centered in: id:3299207129, recurso:tetra:12082781, latitud:-0.224684551358, longitud:-0.671366751194, velocidad:0, orientacion:0, fecha:2015-02-17 16:43:35"
       ]
      },
      {
       "output_type": "stream",
       "stream": "stdout",
       "text": [
        "\n",
        "Cluster centered in: id:3299207284, recurso:tetra:12082781, latitud:-0.224684551358, longitud:-0.671366751194, velocidad:0, orientacion:0, fecha:2015-02-17 16:43:51"
       ]
      },
      {
       "output_type": "stream",
       "stream": "stdout",
       "text": [
        "\n",
        "Cluster centered in: id:3299207398, recurso:tetra:12082781, latitud:-0.224684551358, longitud:-0.671366751194, velocidad:0, orientacion:0, fecha:2015-02-17 16:44:07"
       ]
      },
      {
       "output_type": "stream",
       "stream": "stdout",
       "text": [
        "\n",
        "Cluster centered in: id:3299207485, recurso:tetra:12082781, latitud:-0.224684551358, longitud:-0.671366214752, velocidad:0, orientacion:0, fecha:2015-02-17 16:44:32"
       ]
      },
      {
       "output_type": "stream",
       "stream": "stdout",
       "text": [
        "\n",
        "Cluster centered in: id:3299207634, recurso:tetra:12082781, latitud:-0.224684551358, longitud:-0.671366214752, velocidad:0, orientacion:0, fecha:2015-02-17 16:44:48"
       ]
      },
      {
       "output_type": "stream",
       "stream": "stdout",
       "text": [
        "\n",
        "Cluster centered in: id:3299207712, recurso:tetra:12082781, latitud:-0.224684551358, longitud:-0.671366393566, velocidad:0, orientacion:0, fecha:2015-02-17 16:45:13"
       ]
      },
      {
       "output_type": "stream",
       "stream": "stdout",
       "text": [
        "\n",
        "Cluster centered in: id:3299207764, recurso:tetra:12082781, latitud:-0.224684923887, longitud:-0.671366393566, velocidad:0, orientacion:0, fecha:2015-02-17 16:45:31"
       ]
      },
      {
       "output_type": "stream",
       "stream": "stdout",
       "text": [
        "\n",
        "Cluster centered in: id:3299207861, recurso:tetra:12082781, latitud:-0.224684923887, longitud:-0.671366393566, velocidad:0, orientacion:0, fecha:2015-02-17 16:45:45"
       ]
      },
      {
       "output_type": "stream",
       "stream": "stdout",
       "text": [
        "\n",
        "Cluster centered in: id:3299207985, recurso:tetra:12082781, latitud:-0.224684923887, longitud:-0.671366393566, velocidad:0, orientacion:0, fecha:2015-02-17 16:46:08"
       ]
      },
      {
       "output_type": "stream",
       "stream": "stdout",
       "text": [
        "\n",
        "Cluster centered in: id:3299208016, recurso:tetra:12082781, latitud:-0.224684923887, longitud:-0.671366393566, velocidad:0, orientacion:0, fecha:2015-02-17 16:46:26"
       ]
      },
      {
       "output_type": "stream",
       "stream": "stdout",
       "text": [
        "\n",
        "Cluster centered in: id:3299208168, recurso:tetra:12082781, latitud:-0.224684923887, longitud:-0.671366393566, velocidad:0, orientacion:0, fecha:2015-02-17 16:46:42"
       ]
      },
      {
       "output_type": "stream",
       "stream": "stdout",
       "text": [
        "\n",
        "Cluster centered in: id:3299208256, recurso:tetra:12082781, latitud:-0.224684923887, longitud:-0.671366393566, velocidad:0, orientacion:0, fecha:2015-02-17 16:46:56"
       ]
      },
      {
       "output_type": "stream",
       "stream": "stdout",
       "text": [
        "\n",
        "Cluster centered in: id:3299208354, recurso:tetra:12082781, latitud:-0.224684923887, longitud:-0.671366393566, velocidad:0, orientacion:0, fecha:2015-02-17 16:47:12"
       ]
      },
      {
       "output_type": "stream",
       "stream": "stdout",
       "text": [
        "\n",
        "Cluster centered in: id:3299208501, recurso:tetra:12082781, latitud:-0.224685117602, longitud:-0.671366393566, velocidad:0, orientacion:0, fecha:2015-02-17 16:47:29"
       ]
      },
      {
       "output_type": "stream",
       "stream": "stdout",
       "text": [
        "\n",
        "Cluster centered in: id:3299208583, recurso:tetra:12082781, latitud:-0.224685117602, longitud:-0.671366751194, velocidad:0, orientacion:0, fecha:2015-02-17 16:47:54"
       ]
      },
      {
       "output_type": "stream",
       "stream": "stdout",
       "text": [
        "\n",
        "Cluster centered in: id:3299208704, recurso:tetra:12082781, latitud:-0.224685117602, longitud:-0.671366751194, velocidad:0, orientacion:22, fecha:2015-02-17 16:48:13"
       ]
      },
      {
       "output_type": "stream",
       "stream": "stdout",
       "text": [
        "\n",
        "Cluster centered in: id:3299208771, recurso:tetra:12082781, latitud:-0.224685490131, longitud:-0.671366930008, velocidad:0, orientacion:0, fecha:2015-02-17 16:48:29"
       ]
      },
      {
       "output_type": "stream",
       "stream": "stdout",
       "text": [
        "\n",
        "Cluster centered in: id:3299208785, recurso:tetra:12082781, latitud:-0.224685490131, longitud:-0.671366930008, velocidad:0, orientacion:0, fecha:2015-02-17 16:48:45"
       ]
      },
      {
       "output_type": "stream",
       "stream": "stdout",
       "text": [
        "\n",
        "Cluster centered in: id:3299208872, recurso:tetra:12082781, latitud:-0.224685490131, longitud:-0.67136734724, velocidad:0, orientacion:0, fecha:2015-02-17 16:49:01"
       ]
      },
      {
       "output_type": "stream",
       "stream": "stdout",
       "text": [
        "\n",
        "Cluster centered in: id:3299209067, recurso:tetra:12082781, latitud:-0.22468586266, longitud:-0.67136734724, velocidad:0, orientacion:0, fecha:2015-02-17 16:49:17"
       ]
      },
      {
       "output_type": "stream",
       "stream": "stdout",
       "text": [
        "\n",
        "Cluster centered in: id:3299209133, recurso:tetra:12082781, latitud:-0.22468586266, longitud:-0.67136734724, velocidad:0, orientacion:0, fecha:2015-02-17 16:49:30"
       ]
      },
      {
       "output_type": "stream",
       "stream": "stdout",
       "text": [
        "\n",
        "Cluster centered in: id:3299209156, recurso:tetra:12082781, latitud:-0.224685490131, longitud:-0.671368837357, velocidad:0, orientacion:0, fecha:2015-02-17 16:49:50"
       ]
      },
      {
       "output_type": "stream",
       "stream": "stdout",
       "text": [
        "\n",
        "Cluster centered in: id:3299209173, recurso:tetra:12082781, latitud:-0.224685490131, longitud:-0.671368479729, velocidad:0, orientacion:135, fecha:2015-02-17 16:50:10"
       ]
      },
      {
       "output_type": "stream",
       "stream": "stdout",
       "text": [
        "\n",
        "Cluster centered in: id:3299209187, recurso:tetra:12082781, latitud:-0.224686056376, longitud:-0.671368479729, velocidad:0, orientacion:0, fecha:2015-02-17 16:50:31"
       ]
      },
      {
       "output_type": "stream",
       "stream": "stdout",
       "text": [
        "\n",
        "Cluster centered in: id:3299209382, recurso:tetra:12082781, latitud:-0.224686056376, longitud:-0.671368479729, velocidad:0, orientacion:0, fecha:2015-02-17 16:50:48"
       ]
      },
      {
       "output_type": "stream",
       "stream": "stdout",
       "text": [
        "\n",
        "Cluster centered in: id:3299209478, recurso:tetra:12082781, latitud:-0.224686056376, longitud:-0.671368479729, velocidad:0, orientacion:0, fecha:2015-02-17 16:51:06"
       ]
      },
      {
       "output_type": "stream",
       "stream": "stdout",
       "text": [
        "\n",
        "Cluster centered in: id:3299209537, recurso:tetra:12082781, latitud:-0.224686056376, longitud:-0.671368479729, velocidad:0, orientacion:0, fecha:2015-02-17 16:51:22"
       ]
      },
      {
       "output_type": "stream",
       "stream": "stdout",
       "text": [
        "\n",
        "Cluster centered in: id:3299209567, recurso:tetra:12082781, latitud:-0.224686056376, longitud:-0.671368479729, velocidad:0, orientacion:0, fecha:2015-02-17 16:51:36"
       ]
      },
      {
       "output_type": "stream",
       "stream": "stdout",
       "text": [
        "\n",
        "Cluster centered in: id:3299209721, recurso:tetra:12082781, latitud:-0.224686056376, longitud:-0.671368479729, velocidad:0, orientacion:0, fecha:2015-02-17 16:51:53"
       ]
      },
      {
       "output_type": "stream",
       "stream": "stdout",
       "text": [
        "\n",
        "Cluster centered in: id:3299209763, recurso:tetra:12082781, latitud:-0.224686056376, longitud:-0.671368479729, velocidad:0, orientacion:0, fecha:2015-02-17 16:52:18"
       ]
      },
      {
       "output_type": "stream",
       "stream": "stdout",
       "text": [
        "\n",
        "Cluster centered in: id:3299209929, recurso:tetra:12082781, latitud:-0.224686056376, longitud:-0.671368479729, velocidad:0, orientacion:0, fecha:2015-02-17 16:52:35"
       ]
      },
      {
       "output_type": "stream",
       "stream": "stdout",
       "text": [
        "\n",
        "Cluster centered in: id:3299210050, recurso:tetra:12082781, latitud:-0.224686056376, longitud:-0.671368479729, velocidad:0, orientacion:0, fecha:2015-02-17 16:52:50"
       ]
      },
      {
       "output_type": "stream",
       "stream": "stdout",
       "text": [
        "\n",
        "Cluster centered in: id:3299210138, recurso:tetra:12082781, latitud:-0.224686056376, longitud:-0.671368479729, velocidad:0, orientacion:0, fecha:2015-02-17 16:53:05"
       ]
      },
      {
       "output_type": "stream",
       "stream": "stdout",
       "text": [
        "\n",
        "Cluster centered in: id:3299210253, recurso:tetra:12082781, latitud:-0.224686056376, longitud:-0.671368479729, velocidad:0, orientacion:0, fecha:2015-02-17 16:53:22"
       ]
      },
      {
       "output_type": "stream",
       "stream": "stdout",
       "text": [
        "\n",
        "Cluster centered in: id:3299210343, recurso:tetra:12082781, latitud:-0.224686056376, longitud:-0.671368479729, velocidad:0, orientacion:0, fecha:2015-02-17 16:53:40"
       ]
      },
      {
       "output_type": "stream",
       "stream": "stdout",
       "text": [
        "\n",
        "Cluster centered in: id:3299210344, recurso:tetra:12082781, latitud:-0.224686056376, longitud:-0.671368479729, velocidad:0, orientacion:0, fecha:2015-02-17 16:54:00"
       ]
      },
      {
       "output_type": "stream",
       "stream": "stdout",
       "text": [
        "\n",
        "Cluster centered in: id:3299210432, recurso:tetra:12082781, latitud:-0.224684372544, longitud:-0.671367526054, velocidad:0, orientacion:0, fecha:2015-02-17 16:54:31"
       ]
      },
      {
       "output_type": "stream",
       "stream": "stdout",
       "text": [
        "\n",
        "Cluster centered in: id:3299210522, recurso:tetra:12082781, latitud:-0.224684372544, longitud:-0.67136734724, velocidad:0, orientacion:45, fecha:2015-02-17 16:54:47"
       ]
      },
      {
       "output_type": "stream",
       "stream": "stdout",
       "text": [
        "\n",
        "Cluster centered in: id:3299210546, recurso:tetra:12082781, latitud:-0.224686056376, longitud:-0.671370148659, velocidad:0, orientacion:0, fecha:2015-02-17 16:55:02"
       ]
      },
      {
       "output_type": "stream",
       "stream": "stdout",
       "text": [
        "\n",
        "Cluster centered in: id:3299210635, recurso:tetra:12082781, latitud:-0.22468586266, longitud:-0.671370148659, velocidad:0, orientacion:0, fecha:2015-02-17 16:55:13"
       ]
      },
      {
       "output_type": "stream",
       "stream": "stdout",
       "text": [
        "\n",
        "Cluster centered in: id:3299210805, recurso:tetra:12082781, latitud:-0.22468586266, longitud:-0.671370148659, velocidad:0, orientacion:0, fecha:2015-02-17 16:55:26"
       ]
      },
      {
       "output_type": "stream",
       "stream": "stdout",
       "text": [
        "\n",
        "Cluster centered in: id:3299210867, recurso:tetra:12082781, latitud:-0.22468586266, longitud:-0.671370148659, velocidad:0, orientacion:0, fecha:2015-02-17 16:55:39"
       ]
      },
      {
       "output_type": "stream",
       "stream": "stdout",
       "text": [
        "\n",
        "Cluster centered in: id:3299210929, recurso:tetra:12082781, latitud:-0.224689617753, longitud:-0.67136734724, velocidad:0, orientacion:0, fecha:2015-02-17 16:56:04"
       ]
      },
      {
       "output_type": "stream",
       "stream": "stdout",
       "text": [
        "\n",
        "Cluster centered in: id:3299211041, recurso:tetra:12082781, latitud:-0.224691480398, longitud:-0.671365857124, velocidad:1, orientacion:135, fecha:2015-02-17 16:56:19"
       ]
      },
      {
       "output_type": "stream",
       "stream": "stdout",
       "text": [
        "\n",
        "Cluster centered in: id:3299211154, recurso:tetra:12082781, latitud:-0.224692419171, longitud:-0.671365261078, velocidad:0, orientacion:0, fecha:2015-02-17 16:56:32"
       ]
      },
      {
       "output_type": "stream",
       "stream": "stdout",
       "text": [
        "\n",
        "Cluster centered in: id:3299211214, recurso:tetra:12082781, latitud:-0.224692419171, longitud:-0.671365261078, velocidad:0, orientacion:0, fecha:2015-02-17 16:56:44"
       ]
      },
      {
       "output_type": "stream",
       "stream": "stdout",
       "text": [
        "\n",
        "Cluster centered in: id:3299211272, recurso:tetra:12082781, latitud:-0.224692419171, longitud:-0.671365261078, velocidad:0, orientacion:0, fecha:2015-02-17 16:57:01"
       ]
      },
      {
       "output_type": "stream",
       "stream": "stdout",
       "text": [
        "\n",
        "Cluster centered in: id:3299211400, recurso:tetra:12082781, latitud:-0.224689796567, longitud:-0.67136824131, velocidad:0, orientacion:315, fecha:2015-02-17 16:57:14"
       ]
      },
      {
       "output_type": "stream",
       "stream": "stdout",
       "text": [
        "\n",
        "Cluster centered in: id:3299211494, recurso:tetra:12082781, latitud:-0.22468586266, longitud:-0.671371042728, velocidad:0, orientacion:0, fecha:2015-02-17 16:57:43"
       ]
      },
      {
       "output_type": "stream",
       "stream": "stdout",
       "text": [
        "\n",
        "Cluster centered in: id:3299211645, recurso:tetra:12082781, latitud:-0.224686428905, longitud:-0.671372592449, velocidad:1, orientacion:67, fecha:2015-02-17 16:58:01"
       ]
      },
      {
       "output_type": "stream",
       "stream": "stdout",
       "text": [
        "\n",
        "Cluster centered in: id:3299211721, recurso:tetra:12082781, latitud:-0.224686056376, longitud:-0.671371638775, velocidad:0, orientacion:0, fecha:2015-02-17 16:58:17"
       ]
      },
      {
       "output_type": "stream",
       "stream": "stdout",
       "text": [
        "\n",
        "Cluster centered in: id:3299211831, recurso:tetra:12082781, latitud:-0.224685117602, longitud:-0.671370148659, velocidad:0, orientacion:315, fecha:2015-02-17 16:58:36"
       ]
      },
      {
       "output_type": "stream",
       "stream": "stdout",
       "text": [
        "\n",
        "Cluster centered in: id:3299211884, recurso:tetra:12082781, latitud:-0.224683433771, longitud:-0.671366751194, velocidad:0, orientacion:112, fecha:2015-02-17 16:58:51"
       ]
      },
      {
       "output_type": "stream",
       "stream": "stdout",
       "text": [
        "\n",
        "Cluster centered in: id:3299211996, recurso:tetra:12082781, latitud:-0.224683433771, longitud:-0.671366751194, velocidad:0, orientacion:0, fecha:2015-02-17 16:59:06"
       ]
      },
      {
       "output_type": "stream",
       "stream": "stdout",
       "text": [
        "\n",
        "Cluster centered in: id:3299212093, recurso:tetra:12082781, latitud:-0.224683433771, longitud:-0.671366751194, velocidad:0, orientacion:0, fecha:2015-02-17 16:59:35"
       ]
      },
      {
       "output_type": "stream",
       "stream": "stdout",
       "text": [
        "\n",
        "Cluster centered in: id:3299212239, recurso:tetra:12082781, latitud:-0.2246838063, longitud:-0.67136734724, velocidad:0, orientacion:270, fecha:2015-02-17 16:59:49"
       ]
      },
      {
       "output_type": "stream",
       "stream": "stdout",
       "text": [
        "\n",
        "Cluster centered in: id:3299212273, recurso:tetra:12082781, latitud:-0.224686428905, longitud:-0.671371996403, velocidad:0, orientacion:0, fecha:2015-02-17 17:00:06"
       ]
      },
      {
       "output_type": "stream",
       "stream": "stdout",
       "text": [
        "\n",
        "Cluster centered in: id:3299212313, recurso:tetra:12082781, latitud:-0.224686607718, longitud:-0.671371996403, velocidad:0, orientacion:0, fecha:2015-02-17 17:00:20"
       ]
      },
      {
       "output_type": "stream",
       "stream": "stdout",
       "text": [
        "\n",
        "Cluster centered in: id:3299212427, recurso:tetra:12082781, latitud:-0.224686607718, longitud:-0.671371996403, velocidad:0, orientacion:0, fecha:2015-02-17 17:00:34"
       ]
      },
      {
       "output_type": "stream",
       "stream": "stdout",
       "text": [
        "\n",
        "Cluster centered in: id:3299212575, recurso:tetra:12082781, latitud:-0.224686607718, longitud:-0.671371996403, velocidad:0, orientacion:0, fecha:2015-02-17 17:00:53"
       ]
      },
      {
       "output_type": "stream",
       "stream": "stdout",
       "text": [
        "\n",
        "Cluster centered in: id:3299212640, recurso:tetra:12082781, latitud:-0.224686607718, longitud:-0.671371996403, velocidad:0, orientacion:0, fecha:2015-02-17 17:01:21"
       ]
      },
      {
       "output_type": "stream",
       "stream": "stdout",
       "text": [
        "\n",
        "Cluster centered in: id:3299212657, recurso:tetra:12082781, latitud:-0.224694475532, longitud:-0.67136323452, velocidad:0, orientacion:0, fecha:2015-02-17 17:01:59"
       ]
      },
      {
       "output_type": "stream",
       "stream": "stdout",
       "text": [
        "\n",
        "Cluster centered in: id:3299212677, recurso:tetra:12082781, latitud:-0.224692419171, longitud:-0.671364724636, velocidad:0, orientacion:0, fecha:2015-02-17 17:02:16"
       ]
      },
      {
       "output_type": "stream",
       "stream": "stdout",
       "text": [
        "\n",
        "Cluster centered in: id:3299212852, recurso:tetra:12082781, latitud:-0.224692985415, longitud:-0.671364307404, velocidad:0, orientacion:0, fecha:2015-02-17 17:02:31"
       ]
      },
      {
       "output_type": "stream",
       "stream": "stdout",
       "text": [
        "\n",
        "Cluster centered in: id:3299212940, recurso:tetra:12082781, latitud:-0.224688112736, longitud:-0.671367883682, velocidad:0, orientacion:0, fecha:2015-02-17 17:02:48"
       ]
      },
      {
       "output_type": "stream",
       "stream": "stdout",
       "text": [
        "\n",
        "Cluster centered in: id:3299213023, recurso:tetra:12082781, latitud:-0.224687173963, longitud:-0.671368479729, velocidad:0, orientacion:0, fecha:2015-02-17 17:03:02"
       ]
      },
      {
       "output_type": "stream",
       "stream": "stdout",
       "text": [
        "\n",
        "Cluster centered in: id:3299213146, recurso:tetra:12082781, latitud:-0.224686607718, longitud:-0.671368837357, velocidad:0, orientacion:0, fecha:2015-02-17 17:03:16"
       ]
      },
      {
       "output_type": "stream",
       "stream": "stdout",
       "text": [
        "\n",
        "Cluster centered in: id:3299213247, recurso:tetra:12082781, latitud:-0.224686607718, longitud:-0.671368837357, velocidad:0, orientacion:0, fecha:2015-02-17 17:03:43"
       ]
      },
      {
       "output_type": "stream",
       "stream": "stdout",
       "text": [
        "\n",
        "Cluster centered in: id:3299213409, recurso:tetra:12082781, latitud:-0.224686428905, longitud:-0.671368837357, velocidad:0, orientacion:0, fecha:2015-02-17 17:03:55"
       ]
      },
      {
       "output_type": "stream",
       "stream": "stdout",
       "text": [
        "\n",
        "Cluster centered in: id:3299213513, recurso:tetra:12082781, latitud:-0.22468586266, longitud:-0.671368837357, velocidad:0, orientacion:0, fecha:2015-02-17 17:04:08"
       ]
      },
      {
       "output_type": "stream",
       "stream": "stdout",
       "text": [
        "\n",
        "Cluster centered in: id:3299213590, recurso:tetra:12082781, latitud:-0.22468586266, longitud:-0.671368837357, velocidad:0, orientacion:0, fecha:2015-02-17 17:04:22"
       ]
      },
      {
       "output_type": "stream",
       "stream": "stdout",
       "text": [
        "\n",
        "Cluster centered in: id:3299213657, recurso:tetra:12082781, latitud:-0.224685490131, longitud:-0.671368479729, velocidad:0, orientacion:0, fecha:2015-02-17 17:04:37"
       ]
      },
      {
       "output_type": "stream",
       "stream": "stdout",
       "text": [
        "\n",
        "Cluster centered in: id:3299213747, recurso:tetra:12082781, latitud:-0.224685117602, longitud:-0.671368479729, velocidad:0, orientacion:0, fecha:2015-02-17 17:04:52"
       ]
      },
      {
       "output_type": "stream",
       "stream": "stdout",
       "text": [
        "\n",
        "Cluster centered in: id:3299213816, recurso:tetra:12082781, latitud:-0.22468867898, longitud:-0.671367526054, velocidad:0, orientacion:0, fecha:2015-02-17 17:05:12"
       ]
      },
      {
       "output_type": "stream",
       "stream": "stdout",
       "text": [
        "\n",
        "Cluster centered in: id:3299213845, recurso:tetra:12082781, latitud:-0.224684551358, longitud:-0.671368837357, velocidad:0, orientacion:0, fecha:2015-02-17 17:05:31"
       ]
      },
      {
       "output_type": "stream",
       "stream": "stdout",
       "text": [
        "\n",
        "Cluster centered in: id:3299213940, recurso:tetra:12082781, latitud:-0.224682494998, longitud:-0.671369373798, velocidad:0, orientacion:0, fecha:2015-02-17 17:05:44"
       ]
      },
      {
       "output_type": "stream",
       "stream": "stdout",
       "text": [
        "\n",
        "Cluster centered in: id:3299214019, recurso:tetra:12082781, latitud:-0.224676132202, longitud:-0.671370148659, velocidad:0, orientacion:135, fecha:2015-02-17 17:06:04"
       ]
      },
      {
       "output_type": "stream",
       "stream": "stdout",
       "text": [
        "\n",
        "Cluster centered in: id:3299214036, recurso:tetra:12082781, latitud:-0.224678754807, longitud:-0.671369016171, velocidad:3, orientacion:0, fecha:2015-02-17 17:06:21"
       ]
      },
      {
       "output_type": "stream",
       "stream": "stdout",
       "text": [
        "\n",
        "Cluster centered in: id:3299214135, recurso:tetra:12082781, latitud:-0.224680066109, longitud:-0.671369016171, velocidad:0, orientacion:0, fecha:2015-02-17 17:06:37"
       ]
      },
      {
       "output_type": "stream",
       "stream": "stdout",
       "text": [
        "\n",
        "Cluster centered in: id:3299214323, recurso:tetra:12082781, latitud:-0.224681928754, longitud:-0.671368479729, velocidad:0, orientacion:0, fecha:2015-02-17 17:06:53"
       ]
      },
      {
       "output_type": "stream",
       "stream": "stdout",
       "text": [
        "\n",
        "Cluster centered in: id:3299214346, recurso:tetra:12082781, latitud:-0.224682301283, longitud:-0.671367526054, velocidad:0, orientacion:0, fecha:2015-02-17 17:07:07"
       ]
      },
      {
       "output_type": "stream",
       "stream": "stdout",
       "text": [
        "\n",
        "Cluster centered in: id:3299214405, recurso:tetra:12082781, latitud:-0.224685117602, longitud:-0.671366751194, velocidad:0, orientacion:0, fecha:2015-02-17 17:07:28"
       ]
      },
      {
       "output_type": "stream",
       "stream": "stdout",
       "text": [
        "\n",
        "Cluster centered in: id:3299214436, recurso:tetra:12082781, latitud:-0.224687173963, longitud:-0.671365857124, velocidad:1, orientacion:157, fecha:2015-02-17 17:07:44"
       ]
      },
      {
       "output_type": "stream",
       "stream": "stdout",
       "text": [
        "\n",
        "Cluster centered in: id:3299214706, recurso:tetra:12082781, latitud:-0.22468174994, longitud:-0.671368837357, velocidad:0, orientacion:0, fecha:2015-02-17 17:08:17"
       ]
      },
      {
       "output_type": "stream",
       "stream": "stdout",
       "text": [
        "\n",
        "Cluster centered in: id:3299214766, recurso:tetra:12082781, latitud:-0.22468174994, longitud:-0.671368837357, velocidad:0, orientacion:0, fecha:2015-02-17 17:08:33"
       ]
      },
      {
       "output_type": "stream",
       "stream": "stdout",
       "text": [
        "\n",
        "Cluster centered in: id:3299214977, recurso:tetra:12082781, latitud:-0.224682494998, longitud:-0.671368479729, velocidad:0, orientacion:0, fecha:2015-02-17 17:09:07"
       ]
      },
      {
       "output_type": "stream",
       "stream": "stdout",
       "text": [
        "\n",
        "Cluster centered in: id:3299215036, recurso:tetra:12082781, latitud:-0.224683433771, longitud:-0.671368837357, velocidad:0, orientacion:0, fecha:2015-02-17 17:09:23"
       ]
      },
      {
       "output_type": "stream",
       "stream": "stdout",
       "text": [
        "\n",
        "Cluster centered in: id:3299215171, recurso:tetra:12082781, latitud:-0.224684372544, longitud:-0.671368479729, velocidad:0, orientacion:0, fecha:2015-02-17 17:09:38"
       ]
      },
      {
       "output_type": "stream",
       "stream": "stdout",
       "text": [
        "\n",
        "Cluster centered in: id:3299215278, recurso:tetra:12082781, latitud:-0.224684372544, longitud:-0.671368837357, velocidad:0, orientacion:0, fecha:2015-02-17 17:09:54"
       ]
      },
      {
       "output_type": "stream",
       "stream": "stdout",
       "text": [
        "\n",
        "Cluster centered in: id:3299215343, recurso:tetra:12082781, latitud:-0.224684372544, longitud:-0.671368837357, velocidad:0, orientacion:0, fecha:2015-02-17 17:10:09"
       ]
      },
      {
       "output_type": "stream",
       "stream": "stdout",
       "text": [
        "\n",
        "Cluster centered in: id:3299215416, recurso:tetra:12082781, latitud:-0.224684372544, longitud:-0.671368837357, velocidad:0, orientacion:0, fecha:2015-02-17 17:10:26"
       ]
      },
      {
       "output_type": "stream",
       "stream": "stdout",
       "text": [
        "\n",
        "Cluster centered in: id:3299215536, recurso:tetra:12082781, latitud:-0.224684372544, longitud:-0.671368837357, velocidad:0, orientacion:0, fecha:2015-02-17 17:10:39"
       ]
      },
      {
       "output_type": "stream",
       "stream": "stdout",
       "text": [
        "\n",
        "Cluster centered in: id:3299215622, recurso:tetra:12082781, latitud:-0.224684923887, longitud:-0.671368837357, velocidad:0, orientacion:0, fecha:2015-02-17 17:11:07"
       ]
      },
      {
       "output_type": "stream",
       "stream": "stdout",
       "text": [
        "\n",
        "Cluster centered in: id:3299215762, recurso:tetra:12082781, latitud:-0.224688112736, longitud:-0.67136824131, velocidad:0, orientacion:0, fecha:2015-02-17 17:11:24"
       ]
      },
      {
       "output_type": "stream",
       "stream": "stdout",
       "text": [
        "\n",
        "Cluster centered in: id:3299215783, recurso:tetra:12082781, latitud:-0.224689796567, longitud:-0.671366751194, velocidad:0, orientacion:0, fecha:2015-02-17 17:11:40"
       ]
      },
      {
       "output_type": "stream",
       "stream": "stdout",
       "text": [
        "\n",
        "Cluster centered in: id:3299215853, recurso:tetra:12082781, latitud:-0.224689796567, longitud:-0.671366751194, velocidad:0, orientacion:0, fecha:2015-02-17 17:11:53"
       ]
      },
      {
       "output_type": "stream",
       "stream": "stdout",
       "text": [
        "\n",
        "Cluster centered in: id:3299215947, recurso:tetra:12082781, latitud:-0.224689796567, longitud:-0.671366751194, velocidad:0, orientacion:0, fecha:2015-02-17 17:12:07"
       ]
      },
      {
       "output_type": "stream",
       "stream": "stdout",
       "text": [
        "\n",
        "Cluster centered in: id:3299216086, recurso:tetra:12082781, latitud:-0.224689796567, longitud:-0.671366751194, velocidad:0, orientacion:0, fecha:2015-02-17 17:12:22"
       ]
      },
      {
       "output_type": "stream",
       "stream": "stdout",
       "text": [
        "\n",
        "Cluster centered in: id:3299216143, recurso:tetra:12082781, latitud:-0.224689796567, longitud:-0.671366751194, velocidad:0, orientacion:0, fecha:2015-02-17 17:12:36"
       ]
      },
      {
       "output_type": "stream",
       "stream": "stdout",
       "text": [
        "\n",
        "Cluster centered in: id:3299216161, recurso:tetra:12082781, latitud:-0.224689796567, longitud:-0.671366751194, velocidad:0, orientacion:0, fecha:2015-02-17 17:12:56"
       ]
      },
      {
       "output_type": "stream",
       "stream": "stdout",
       "text": [
        "\n",
        "Cluster centered in: id:3299216174, recurso:tetra:12082781, latitud:-0.224689796567, longitud:-0.671366751194, velocidad:0, orientacion:0, fecha:2015-02-17 17:13:35"
       ]
      },
      {
       "output_type": "stream",
       "stream": "stdout",
       "text": [
        "\n",
        "Cluster centered in: id:3299216366, recurso:tetra:12082781, latitud:-0.224689796567, longitud:-0.671366751194, velocidad:0, orientacion:0, fecha:2015-02-17 17:13:48"
       ]
      },
      {
       "output_type": "stream",
       "stream": "stdout",
       "text": [
        "\n",
        "Cluster centered in: id:3299216431, recurso:tetra:12082781, latitud:-0.224689796567, longitud:-0.671366751194, velocidad:0, orientacion:0, fecha:2015-02-17 17:14:06"
       ]
      },
      {
       "output_type": "stream",
       "stream": "stdout",
       "text": [
        "\n",
        "Cluster centered in: id:3299216527, recurso:tetra:12082781, latitud:-0.224689796567, longitud:-0.671366751194, velocidad:0, orientacion:0, fecha:2015-02-17 17:14:20"
       ]
      },
      {
       "output_type": "stream",
       "stream": "stdout",
       "text": [
        "\n",
        "Cluster centered in: id:3299216671, recurso:tetra:12082781, latitud:-0.224689796567, longitud:-0.671366751194, velocidad:0, orientacion:0, fecha:2015-02-17 17:14:36"
       ]
      },
      {
       "output_type": "stream",
       "stream": "stdout",
       "text": [
        "\n",
        "Cluster centered in: id:3299216783, recurso:tetra:12082781, latitud:-0.224689796567, longitud:-0.671366751194, velocidad:0, orientacion:0, fecha:2015-02-17 17:15:01"
       ]
      },
      {
       "output_type": "stream",
       "stream": "stdout",
       "text": [
        "\n",
        "Cluster centered in: id:3299216920, recurso:tetra:12082781, latitud:-0.224689796567, longitud:-0.671366751194, velocidad:0, orientacion:0, fecha:2015-02-17 17:15:17"
       ]
      },
      {
       "output_type": "stream",
       "stream": "stdout",
       "text": [
        "\n",
        "Cluster centered in: id:3299217028, recurso:tetra:12082781, latitud:-0.224689796567, longitud:-0.671366751194, velocidad:0, orientacion:0, fecha:2015-02-17 17:15:34"
       ]
      },
      {
       "output_type": "stream",
       "stream": "stdout",
       "text": [
        "\n",
        "Cluster centered in: id:3299217125, recurso:tetra:12082781, latitud:-0.224689796567, longitud:-0.671366751194, velocidad:0, orientacion:0, fecha:2015-02-17 17:15:47"
       ]
      },
      {
       "output_type": "stream",
       "stream": "stdout",
       "text": [
        "\n",
        "Cluster centered in: id:3299217216, recurso:tetra:12082781, latitud:-0.224689796567, longitud:-0.671366751194, velocidad:0, orientacion:0, fecha:2015-02-17 17:16:11"
       ]
      },
      {
       "output_type": "stream",
       "stream": "stdout",
       "text": [
        "\n",
        "Cluster centered in: id:3299217338, recurso:tetra:12082781, latitud:-0.224689796567, longitud:-0.671366751194, velocidad:0, orientacion:0, fecha:2015-02-17 17:16:25"
       ]
      },
      {
       "output_type": "stream",
       "stream": "stdout",
       "text": [
        "\n",
        "Cluster centered in: id:3299217343, recurso:tetra:12082781, latitud:-0.224689796567, longitud:-0.671366751194, velocidad:0, orientacion:0, fecha:2015-02-17 17:16:47"
       ]
      },
      {
       "output_type": "stream",
       "stream": "stdout",
       "text": [
        "\n",
        "Cluster centered in: id:3299217398, recurso:tetra:12082781, latitud:-0.224689796567, longitud:-0.671366751194, velocidad:0, orientacion:0, fecha:2015-02-17 17:17:04"
       ]
      },
      {
       "output_type": "stream",
       "stream": "stdout",
       "text": [
        "\n",
        "Cluster centered in: id:3299217512, recurso:tetra:12082781, latitud:-0.224689796567, longitud:-0.671366751194, velocidad:0, orientacion:0, fecha:2015-02-17 17:17:18"
       ]
      },
      {
       "output_type": "stream",
       "stream": "stdout",
       "text": [
        "\n",
        "Cluster centered in: id:3299217535, recurso:tetra:12082781, latitud:-0.224689796567, longitud:-0.671366751194, velocidad:0, orientacion:0, fecha:2015-02-17 17:17:32"
       ]
      },
      {
       "output_type": "stream",
       "stream": "stdout",
       "text": [
        "\n",
        "Cluster centered in: id:3299217553, recurso:tetra:12082781, latitud:-0.224689796567, longitud:-0.671366751194, velocidad:0, orientacion:0, fecha:2015-02-17 17:17:49"
       ]
      },
      {
       "output_type": "stream",
       "stream": "stdout",
       "text": [
        "\n",
        "Cluster centered in: id:3299217674, recurso:tetra:12082781, latitud:-0.224689796567, longitud:-0.671366751194, velocidad:0, orientacion:0, fecha:2015-02-17 17:18:03"
       ]
      },
      {
       "output_type": "stream",
       "stream": "stdout",
       "text": [
        "\n",
        "Cluster centered in: id:3299217762, recurso:tetra:12082781, latitud:-0.224689796567, longitud:-0.671366751194, velocidad:0, orientacion:0, fecha:2015-02-17 17:18:20"
       ]
      },
      {
       "output_type": "stream",
       "stream": "stdout",
       "text": [
        "\n",
        "Cluster centered in: id:3299217858, recurso:tetra:12082781, latitud:-0.224689796567, longitud:-0.671366751194, velocidad:0, orientacion:0, fecha:2015-02-17 17:18:36"
       ]
      },
      {
       "output_type": "stream",
       "stream": "stdout",
       "text": [
        "\n",
        "Cluster centered in: id:3299217924, recurso:tetra:12082781, latitud:-0.224689796567, longitud:-0.671366751194, velocidad:0, orientacion:0, fecha:2015-02-17 17:19:08"
       ]
      },
      {
       "output_type": "stream",
       "stream": "stdout",
       "text": [
        "\n",
        "Cluster centered in: id:3299218070, recurso:tetra:12082781, latitud:-0.224689796567, longitud:-0.671366751194, velocidad:0, orientacion:0, fecha:2015-02-17 17:19:23"
       ]
      },
      {
       "output_type": "stream",
       "stream": "stdout",
       "text": [
        "\n",
        "Cluster centered in: id:3299218149, recurso:tetra:12082781, latitud:-0.224689796567, longitud:-0.671366751194, velocidad:0, orientacion:0, fecha:2015-02-17 17:19:37"
       ]
      },
      {
       "output_type": "stream",
       "stream": "stdout",
       "text": [
        "\n",
        "Cluster centered in: id:3299218261, recurso:tetra:12082781, latitud:-0.224689796567, longitud:-0.671366751194, velocidad:0, orientacion:0, fecha:2015-02-17 17:19:51"
       ]
      },
      {
       "output_type": "stream",
       "stream": "stdout",
       "text": [
        "\n",
        "Cluster centered in: id:3299218438, recurso:tetra:12082781, latitud:-0.224689796567, longitud:-0.671366751194, velocidad:0, orientacion:0, fecha:2015-02-17 17:20:05"
       ]
      },
      {
       "output_type": "stream",
       "stream": "stdout",
       "text": [
        "\n",
        "Cluster centered in: id:3299218497, recurso:tetra:12082781, latitud:-0.224689796567, longitud:-0.671366751194, velocidad:0, orientacion:0, fecha:2015-02-17 17:20:27"
       ]
      },
      {
       "output_type": "stream",
       "stream": "stdout",
       "text": [
        "\n",
        "Cluster centered in: id:3299218660, recurso:tetra:12082781, latitud:-0.224689796567, longitud:-0.671366751194, velocidad:0, orientacion:0, fecha:2015-02-17 17:20:45"
       ]
      },
      {
       "output_type": "stream",
       "stream": "stdout",
       "text": [
        "\n",
        "Cluster centered in: id:3299218762, recurso:tetra:12082781, latitud:-0.224689796567, longitud:-0.671366751194, velocidad:0, orientacion:0, fecha:2015-02-17 17:21:01"
       ]
      },
      {
       "output_type": "stream",
       "stream": "stdout",
       "text": [
        "\n",
        "Cluster centered in: id:3299218832, recurso:tetra:12082781, latitud:-0.224689796567, longitud:-0.671366751194, velocidad:0, orientacion:0, fecha:2015-02-17 17:21:17"
       ]
      },
      {
       "output_type": "stream",
       "stream": "stdout",
       "text": [
        "\n",
        "Cluster centered in: id:3299218913, recurso:tetra:12082781, latitud:-0.224689796567, longitud:-0.671366751194, velocidad:0, orientacion:0, fecha:2015-02-17 17:21:34"
       ]
      },
      {
       "output_type": "stream",
       "stream": "stdout",
       "text": [
        "\n",
        "Cluster centered in: id:3299218993, recurso:tetra:12082781, latitud:-0.224689796567, longitud:-0.671366751194, velocidad:0, orientacion:0, fecha:2015-02-17 17:21:48"
       ]
      },
      {
       "output_type": "stream",
       "stream": "stdout",
       "text": [
        "\n",
        "Cluster centered in: id:3299219133, recurso:tetra:12082781, latitud:-0.224689796567, longitud:-0.671366751194, velocidad:0, orientacion:0, fecha:2015-02-17 17:22:15"
       ]
      },
      {
       "output_type": "stream",
       "stream": "stdout",
       "text": [
        "\n",
        "Cluster centered in: id:3299219243, recurso:tetra:12082781, latitud:-0.224689796567, longitud:-0.671366751194, velocidad:0, orientacion:0, fecha:2015-02-17 17:22:30"
       ]
      },
      {
       "output_type": "stream",
       "stream": "stdout",
       "text": [
        "\n",
        "Cluster centered in: id:3299219285, recurso:tetra:12082781, latitud:-0.224689796567, longitud:-0.671366751194, velocidad:0, orientacion:0, fecha:2015-02-17 17:22:46"
       ]
      },
      {
       "output_type": "stream",
       "stream": "stdout",
       "text": [
        "\n",
        "Cluster centered in: id:3299219301, recurso:tetra:12082781, latitud:-0.224689796567, longitud:-0.671366751194, velocidad:0, orientacion:0, fecha:2015-02-17 17:23:02"
       ]
      },
      {
       "output_type": "stream",
       "stream": "stdout",
       "text": [
        "\n",
        "Cluster centered in: id:3299219359, recurso:tetra:12082781, latitud:-0.224689796567, longitud:-0.671366751194, velocidad:0, orientacion:0, fecha:2015-02-17 17:23:20"
       ]
      },
      {
       "output_type": "stream",
       "stream": "stdout",
       "text": [
        "\n",
        "Cluster centered in: id:3299219472, recurso:tetra:12082781, latitud:-0.224689796567, longitud:-0.671366751194, velocidad:0, orientacion:0, fecha:2015-02-17 17:23:33"
       ]
      },
      {
       "output_type": "stream",
       "stream": "stdout",
       "text": [
        "\n",
        "Cluster centered in: id:3299219596, recurso:tetra:12082781, latitud:-0.224689796567, longitud:-0.671366751194, velocidad:0, orientacion:0, fecha:2015-02-17 17:23:52"
       ]
      },
      {
       "output_type": "stream",
       "stream": "stdout",
       "text": [
        "\n",
        "Cluster centered in: id:3299219682, recurso:tetra:12082781, latitud:-0.224689796567, longitud:-0.671366751194, velocidad:0, orientacion:0, fecha:2015-02-17 17:24:11"
       ]
      },
      {
       "output_type": "stream",
       "stream": "stdout",
       "text": [
        "\n",
        "Cluster centered in: id:3299219687, recurso:tetra:12082781, latitud:-0.224689796567, longitud:-0.671366751194, velocidad:0, orientacion:0, fecha:2015-02-17 17:24:53"
       ]
      },
      {
       "output_type": "stream",
       "stream": "stdout",
       "text": [
        "\n",
        "Cluster centered in: id:3299219803, recurso:tetra:12082781, latitud:-0.224689796567, longitud:-0.671366751194, velocidad:0, orientacion:0, fecha:2015-02-17 17:25:15"
       ]
      },
      {
       "output_type": "stream",
       "stream": "stdout",
       "text": [
        "\n",
        "Cluster centered in: id:3299219972, recurso:tetra:12082781, latitud:-0.224689796567, longitud:-0.671366751194, velocidad:0, orientacion:0, fecha:2015-02-17 17:25:36"
       ]
      },
      {
       "output_type": "stream",
       "stream": "stdout",
       "text": [
        "\n",
        "Cluster centered in: id:3299220154, recurso:tetra:12082781, latitud:-0.224689796567, longitud:-0.671366751194, velocidad:0, orientacion:0, fecha:2015-02-17 17:25:49"
       ]
      },
      {
       "output_type": "stream",
       "stream": "stdout",
       "text": [
        "\n",
        "Cluster centered in: id:3299220219, recurso:tetra:12082781, latitud:-0.224686428905, longitud:-0.671369969845, velocidad:0, orientacion:0, fecha:2015-02-17 17:26:04"
       ]
      },
      {
       "output_type": "stream",
       "stream": "stdout",
       "text": [
        "\n",
        "Cluster centered in: id:3299220275, recurso:tetra:12082781, latitud:-0.224685117602, longitud:-0.671371638775, velocidad:7, orientacion:67, fecha:2015-02-17 17:26:32"
       ]
      },
      {
       "output_type": "stream",
       "stream": "stdout",
       "text": [
        "\n",
        "Cluster centered in: id:3299220385, recurso:tetra:12082781, latitud:-0.224693924189, longitud:-0.671352505684, velocidad:16, orientacion:135, fecha:2015-02-17 17:26:50"
       ]
      },
      {
       "output_type": "stream",
       "stream": "stdout",
       "text": [
        "\n",
        "Cluster centered in: id:3299220514, recurso:tetra:12082781, latitud:-0.224696919322, longitud:-0.67134052515, velocidad:29, orientacion:45, fecha:2015-02-17 17:27:03"
       ]
      },
      {
       "output_type": "stream",
       "stream": "stdout",
       "text": [
        "\n",
        "Cluster centered in: id:3299220596, recurso:tetra:12082781, latitud:-0.224671259522, longitud:-0.671333611012, velocidad:14, orientacion:22, fecha:2015-02-17 17:27:20"
       ]
      },
      {
       "output_type": "stream",
       "stream": "stdout",
       "text": [
        "\n",
        "Cluster centered in: id:3299220642, recurso:tetra:12082781, latitud:-0.224667698145, longitud:-0.671334385872, velocidad:0, orientacion:0, fecha:2015-02-17 17:27:35"
       ]
      },
      {
       "output_type": "stream",
       "stream": "stdout",
       "text": [
        "\n",
        "Cluster centered in: id:3299220670, recurso:tetra:12082781, latitud:-0.224668070674, longitud:-0.671333789825, velocidad:1, orientacion:247, fecha:2015-02-17 17:27:46"
       ]
      },
      {
       "output_type": "stream",
       "stream": "stdout",
       "text": [
        "\n",
        "Cluster centered in: id:3299220812, recurso:tetra:12082781, latitud:-0.224689617753, longitud:-0.671339631081, velocidad:42, orientacion:180, fecha:2015-02-17 17:28:03"
       ]
      },
      {
       "output_type": "stream",
       "stream": "stdout",
       "text": [
        "\n",
        "Cluster centered in: id:3299220871, recurso:tetra:12082781, latitud:-0.224706843495, longitud:-0.671341478825, velocidad:27, orientacion:202, fecha:2015-02-17 17:28:17"
       ]
      },
      {
       "output_type": "stream",
       "stream": "stdout",
       "text": [
        "\n",
        "Cluster centered in: id:3299220893, recurso:tetra:12082781, latitud:-0.224732488394, longitud:-0.671345770359, velocidad:48, orientacion:180, fecha:2015-02-17 17:28:39"
       ]
      },
      {
       "output_type": "stream",
       "stream": "stdout",
       "text": [
        "\n",
        "Cluster centered in: id:3299221031, recurso:tetra:12082781, latitud:-0.224754780531, longitud:-0.671348035336, velocidad:22, orientacion:202, fecha:2015-02-17 17:28:58"
       ]
      },
      {
       "output_type": "stream",
       "stream": "stdout",
       "text": [
        "\n",
        "Cluster centered in: id:3299221072, recurso:tetra:12082781, latitud:-0.224775001407, longitud:-0.671361148357, velocidad:52, orientacion:180, fecha:2015-02-17 17:29:14"
       ]
      },
      {
       "output_type": "stream",
       "stream": "stdout",
       "text": [
        "\n",
        "Cluster centered in: id:3299221091, recurso:tetra:12082781, latitud:-0.224792227149, longitud:-0.671359062195, velocidad:22, orientacion:202, fecha:2015-02-17 17:29:29"
       ]
      },
      {
       "output_type": "stream",
       "stream": "stdout",
       "text": [
        "\n",
        "Cluster centered in: id:3299221222, recurso:tetra:12082781, latitud:-0.224794849753, longitud:-0.671360611916, velocidad:11, orientacion:225, fecha:2015-02-17 17:29:43"
       ]
      },
      {
       "output_type": "stream",
       "stream": "stdout",
       "text": [
        "\n",
        "Cluster centered in: id:3299221334, recurso:tetra:12082781, latitud:-0.224793717265, longitud:-0.671360373497, velocidad:0, orientacion:0, fecha:2015-02-17 17:29:55"
       ]
      },
      {
       "output_type": "stream",
       "stream": "stdout",
       "text": [
        "\n",
        "Cluster centered in: id:3299221413, recurso:tetra:12082781, latitud:-0.224793717265, longitud:-0.671360611916, velocidad:0, orientacion:0, fecha:2015-02-17 17:30:09"
       ]
      },
      {
       "output_type": "stream",
       "stream": "stdout",
       "text": [
        "\n",
        "Cluster centered in: id:3299221469, recurso:tetra:12082781, latitud:-0.224794656038, longitud:-0.671362102032, velocidad:0, orientacion:0, fecha:2015-02-17 17:30:34"
       ]
      },
      {
       "output_type": "stream",
       "stream": "stdout",
       "text": [
        "\n",
        "Cluster centered in: id:3299221660, recurso:tetra:12082781, latitud:-0.224794656038, longitud:-0.671362280846, velocidad:0, orientacion:0, fecha:2015-02-17 17:30:48"
       ]
      },
      {
       "output_type": "stream",
       "stream": "stdout",
       "text": [
        "\n",
        "Cluster centered in: id:3299221756, recurso:tetra:12082781, latitud:-0.224794849753, longitud:-0.671362280846, velocidad:0, orientacion:0, fecha:2015-02-17 17:31:05"
       ]
      },
      {
       "output_type": "stream",
       "stream": "stdout",
       "text": [
        "\n",
        "Cluster centered in: id:3299221957, recurso:tetra:12082781, latitud:-0.224794849753, longitud:-0.671362638474, velocidad:0, orientacion:0, fecha:2015-02-17 17:31:19"
       ]
      },
      {
       "output_type": "stream",
       "stream": "stdout",
       "text": [
        "\n",
        "Cluster centered in: id:3299222008, recurso:tetra:12082781, latitud:-0.224795222282, longitud:-0.67136323452, velocidad:0, orientacion:0, fecha:2015-02-17 17:31:38"
       ]
      },
      {
       "output_type": "stream",
       "stream": "stdout",
       "text": [
        "\n",
        "Cluster centered in: id:3299222059, recurso:tetra:12082781, latitud:-0.224795415998, longitud:-0.67136323452, velocidad:0, orientacion:0, fecha:2015-02-17 17:32:01"
       ]
      },
      {
       "output_type": "stream",
       "stream": "stdout",
       "text": [
        "\n",
        "Cluster centered in: id:3299222224, recurso:tetra:12082781, latitud:-0.224795415998, longitud:-0.671362996101, velocidad:0, orientacion:0, fecha:2015-02-17 17:32:19"
       ]
      },
      {
       "output_type": "stream",
       "stream": "stdout",
       "text": [
        "\n",
        "Cluster centered in: id:3299222321, recurso:tetra:12082781, latitud:-0.224795222282, longitud:-0.671362638474, velocidad:0, orientacion:0, fecha:2015-02-17 17:32:35"
       ]
      },
      {
       "output_type": "stream",
       "stream": "stdout",
       "text": [
        "\n",
        "Cluster centered in: id:3299222383, recurso:tetra:12082781, latitud:-0.224795222282, longitud:-0.671362638474, velocidad:0, orientacion:0, fecha:2015-02-17 17:32:50"
       ]
      },
      {
       "output_type": "stream",
       "stream": "stdout",
       "text": [
        "\n",
        "Cluster centered in: id:3299222437, recurso:tetra:12082781, latitud:-0.224795222282, longitud:-0.671362280846, velocidad:0, orientacion:0, fecha:2015-02-17 17:33:03"
       ]
      },
      {
       "output_type": "stream",
       "stream": "stdout",
       "text": [
        "\n",
        "Cluster centered in: id:3299222579, recurso:tetra:12082781, latitud:-0.224795222282, longitud:-0.671362102032, velocidad:0, orientacion:0, fecha:2015-02-17 17:33:19"
       ]
      },
      {
       "output_type": "stream",
       "stream": "stdout",
       "text": [
        "\n",
        "Cluster centered in: id:3299222689, recurso:tetra:12082781, latitud:-0.224794849753, longitud:-0.671361923218, velocidad:0, orientacion:0, fecha:2015-02-17 17:33:42"
       ]
      },
      {
       "output_type": "stream",
       "stream": "stdout",
       "text": [
        "\n",
        "Cluster centered in: id:3299222822, recurso:tetra:12082781, latitud:-0.224794849753, longitud:-0.671361923218, velocidad:0, orientacion:0, fecha:2015-02-17 17:34:00"
       ]
      },
      {
       "output_type": "stream",
       "stream": "stdout",
       "text": [
        "\n",
        "Cluster centered in: id:3299222866, recurso:tetra:12082781, latitud:-0.224794849753, longitud:-0.671361923218, velocidad:0, orientacion:0, fecha:2015-02-17 17:34:24"
       ]
      },
      {
       "output_type": "stream",
       "stream": "stdout",
       "text": [
        "\n",
        "Cluster centered in: id:3299222901, recurso:tetra:12082781, latitud:-0.224794849753, longitud:-0.671361923218, velocidad:0, orientacion:0, fecha:2015-02-17 17:34:39"
       ]
      },
      {
       "output_type": "stream",
       "stream": "stdout",
       "text": [
        "\n",
        "Cluster centered in: id:3299223006, recurso:tetra:12082781, latitud:-0.224794849753, longitud:-0.671361505985, velocidad:0, orientacion:0, fecha:2015-02-17 17:34:53"
       ]
      },
      {
       "output_type": "stream",
       "stream": "stdout",
       "text": [
        "\n",
        "Cluster centered in: id:3299223063, recurso:tetra:12082781, latitud:-0.224794656038, longitud:-0.671361505985, velocidad:0, orientacion:0, fecha:2015-02-17 17:35:08"
       ]
      },
      {
       "output_type": "stream",
       "stream": "stdout",
       "text": [
        "\n",
        "Cluster centered in: id:3299223168, recurso:tetra:12082781, latitud:-0.224794656038, longitud:-0.671361505985, velocidad:0, orientacion:0, fecha:2015-02-17 17:35:25"
       ]
      },
      {
       "output_type": "stream",
       "stream": "stdout",
       "text": [
        "\n",
        "Cluster centered in: id:3299223255, recurso:tetra:12082781, latitud:-0.224794656038, longitud:-0.671361148357, velocidad:0, orientacion:0, fecha:2015-02-17 17:35:40"
       ]
      },
      {
       "output_type": "stream",
       "stream": "stdout",
       "text": [
        "\n",
        "Cluster centered in: id:3299223258, recurso:tetra:12082781, latitud:-0.224794656038, longitud:-0.671361148357, velocidad:0, orientacion:0, fecha:2015-02-17 17:36:06"
       ]
      },
      {
       "output_type": "stream",
       "stream": "stdout",
       "text": [
        "\n",
        "Cluster centered in: id:3299223279, recurso:tetra:12082781, latitud:-0.224794656038, longitud:-0.671360969543, velocidad:0, orientacion:0, fecha:2015-02-17 17:36:22"
       ]
      },
      {
       "output_type": "stream",
       "stream": "stdout",
       "text": [
        "\n",
        "Cluster centered in: id:3299223480, recurso:tetra:12082781, latitud:-0.224794283509, longitud:-0.671360611916, velocidad:0, orientacion:0, fecha:2015-02-17 17:36:37"
       ]
      },
      {
       "output_type": "stream",
       "stream": "stdout",
       "text": [
        "\n",
        "Cluster centered in: id:3299223598, recurso:tetra:12082781, latitud:-0.224794283509, longitud:-0.671360611916, velocidad:0, orientacion:0, fecha:2015-02-17 17:36:52"
       ]
      },
      {
       "output_type": "stream",
       "stream": "stdout",
       "text": [
        "\n",
        "Cluster centered in: id:3299223778, recurso:tetra:12082781, latitud:-0.22479391098, longitud:-0.671360373497, velocidad:0, orientacion:0, fecha:2015-02-17 17:37:10"
       ]
      },
      {
       "output_type": "stream",
       "stream": "stdout",
       "text": [
        "\n",
        "Cluster centered in: id:3299223839, recurso:tetra:12082781, latitud:-0.22479391098, longitud:-0.671360373497, velocidad:0, orientacion:0, fecha:2015-02-17 17:37:24"
       ]
      },
      {
       "output_type": "stream",
       "stream": "stdout",
       "text": [
        "\n",
        "Cluster centered in: id:3299223881, recurso:tetra:12082781, latitud:-0.22479391098, longitud:-0.671360015869, velocidad:0, orientacion:0, fecha:2015-02-17 17:37:51"
       ]
      },
      {
       "output_type": "stream",
       "stream": "stdout",
       "text": [
        "\n",
        "Cluster centered in: id:3299224009, recurso:tetra:12082781, latitud:-0.22479391098, longitud:-0.671359837055, velocidad:0, orientacion:0, fecha:2015-02-17 17:38:04"
       ]
      },
      {
       "output_type": "stream",
       "stream": "stdout",
       "text": [
        "\n",
        "Cluster centered in: id:3299224107, recurso:tetra:12082781, latitud:-0.22479391098, longitud:-0.671359837055, velocidad:0, orientacion:0, fecha:2015-02-17 17:38:20"
       ]
      },
      {
       "output_type": "stream",
       "stream": "stdout",
       "text": [
        "\n",
        "Cluster centered in: id:3299224187, recurso:tetra:12082781, latitud:-0.224793717265, longitud:-0.671359837055, velocidad:0, orientacion:0, fecha:2015-02-17 17:38:35"
       ]
      },
      {
       "output_type": "stream",
       "stream": "stdout",
       "text": [
        "\n",
        "Cluster centered in: id:3299224240, recurso:tetra:12082781, latitud:-0.224793717265, longitud:-0.671359837055, velocidad:0, orientacion:0, fecha:2015-02-17 17:38:48"
       ]
      },
      {
       "output_type": "stream",
       "stream": "stdout",
       "text": [
        "\n",
        "Cluster centered in: id:3299224477, recurso:tetra:12082781, latitud:-0.224793717265, longitud:-0.671359837055, velocidad:0, orientacion:0, fecha:2015-02-17 17:39:20"
       ]
      },
      {
       "output_type": "stream",
       "stream": "stdout",
       "text": [
        "\n",
        "Cluster centered in: id:3299224495, recurso:tetra:12082781, latitud:-0.224793717265, longitud:-0.671359837055, velocidad:0, orientacion:0, fecha:2015-02-17 17:39:49"
       ]
      },
      {
       "output_type": "stream",
       "stream": "stdout",
       "text": [
        "\n",
        "Cluster centered in: id:3299224615, recurso:tetra:12082781, latitud:-0.224793717265, longitud:-0.671359837055, velocidad:0, orientacion:0, fecha:2015-02-17 17:40:04"
       ]
      },
      {
       "output_type": "stream",
       "stream": "stdout",
       "text": [
        "\n",
        "Cluster centered in: id:3299224660, recurso:tetra:12082781, latitud:-0.224793344736, longitud:-0.671359479427, velocidad:0, orientacion:0, fecha:2015-02-17 17:40:21"
       ]
      },
      {
       "output_type": "stream",
       "stream": "stdout",
       "text": [
        "\n",
        "Cluster centered in: id:3299224695, recurso:tetra:12082781, latitud:-0.224793344736, longitud:-0.671359479427, velocidad:0, orientacion:0, fecha:2015-02-17 17:40:44"
       ]
      },
      {
       "output_type": "stream",
       "stream": "stdout",
       "text": [
        "\n",
        "Cluster centered in: id:3299224785, recurso:tetra:12082781, latitud:-0.224793344736, longitud:-0.671359479427, velocidad:0, orientacion:0, fecha:2015-02-17 17:41:03"
       ]
      },
      {
       "output_type": "stream",
       "stream": "stdout",
       "text": [
        "\n",
        "Cluster centered in: id:3299224868, recurso:tetra:12082781, latitud:-0.224793344736, longitud:-0.671359479427, velocidad:0, orientacion:0, fecha:2015-02-17 17:41:17"
       ]
      },
      {
       "output_type": "stream",
       "stream": "stdout",
       "text": [
        "\n",
        "Cluster centered in: id:3299224930, recurso:tetra:12082781, latitud:-0.224793344736, longitud:-0.671359062195, velocidad:0, orientacion:0, fecha:2015-02-17 17:41:36"
       ]
      },
      {
       "output_type": "stream",
       "stream": "stdout",
       "text": [
        "\n",
        "Cluster centered in: id:3299225043, recurso:tetra:12082781, latitud:-0.224793165922, longitud:-0.671359062195, velocidad:0, orientacion:0, fecha:2015-02-17 17:41:54"
       ]
      },
      {
       "output_type": "stream",
       "stream": "stdout",
       "text": [
        "\n",
        "Cluster centered in: id:3299225115, recurso:tetra:12082781, latitud:-0.224806457758, longitud:-0.671379506588, velocidad:25, orientacion:270, fecha:2015-02-17 17:42:21"
       ]
      },
      {
       "output_type": "stream",
       "stream": "stdout",
       "text": [
        "\n",
        "Cluster centered in: id:3299225309, recurso:tetra:12082781, latitud:-0.224804952741, longitud:-0.671383082867, velocidad:0, orientacion:0, fecha:2015-02-17 17:42:35"
       ]
      },
      {
       "output_type": "stream",
       "stream": "stdout",
       "text": [
        "\n",
        "Cluster centered in: id:3299225407, recurso:tetra:12082781, latitud:-0.2248057127, longitud:-0.671388864517, velocidad:3, orientacion:270, fecha:2015-02-17 17:42:53"
       ]
      },
      {
       "output_type": "stream",
       "stream": "stdout",
       "text": [
        "\n",
        "Cluster centered in: id:3299225588, recurso:tetra:12082781, latitud:-0.224806830287, longitud:-0.6713950634, velocidad:0, orientacion:67, fecha:2015-02-17 17:43:08"
       ]
      },
      {
       "output_type": "stream",
       "stream": "stdout",
       "text": [
        "\n",
        "Cluster centered in: id:3299225631, recurso:tetra:12082781, latitud:-0.224820688367, longitud:-0.671396136284, velocidad:35, orientacion:180, fecha:2015-02-17 17:43:24"
       ]
      },
      {
       "output_type": "stream",
       "stream": "stdout",
       "text": [
        "\n",
        "Cluster centered in: id:3299225682, recurso:tetra:12082781, latitud:-0.224837914109, longitud:-0.671398997307, velocidad:35, orientacion:180, fecha:2015-02-17 17:43:40"
       ]
      },
      {
       "output_type": "stream",
       "stream": "stdout",
       "text": [
        "\n",
        "Cluster centered in: id:3299225706, recurso:tetra:12082781, latitud:-0.224840909243, longitud:-0.671398758888, velocidad:0, orientacion:0, fecha:2015-02-17 17:43:59"
       ]
      },
      {
       "output_type": "stream",
       "stream": "stdout",
       "text": [
        "\n",
        "Cluster centered in: id:3299225885, recurso:tetra:12082781, latitud:-0.224841654301, longitud:-0.671399354935, velocidad:0, orientacion:0, fecha:2015-02-17 17:44:19"
       ]
      },
      {
       "output_type": "stream",
       "stream": "stdout",
       "text": [
        "\n",
        "Cluster centered in: id:3299225981, recurso:tetra:12082781, latitud:-0.224843159318, longitud:-0.671398997307, velocidad:0, orientacion:0, fecha:2015-02-17 17:44:35"
       ]
      },
      {
       "output_type": "stream",
       "stream": "stdout",
       "text": [
        "\n",
        "Cluster centered in: id:3299226054, recurso:tetra:12082781, latitud:-0.224843159318, longitud:-0.671398997307, velocidad:0, orientacion:0, fecha:2015-02-17 17:44:51"
       ]
      },
      {
       "output_type": "stream",
       "stream": "stdout",
       "text": [
        "\n",
        "Cluster centered in: id:3299226238, recurso:tetra:12082781, latitud:-0.224843159318, longitud:-0.671398997307, velocidad:0, orientacion:0, fecha:2015-02-17 17:45:03"
       ]
      },
      {
       "output_type": "stream",
       "stream": "stdout",
       "text": [
        "\n",
        "Cluster centered in: id:3299226341, recurso:tetra:12082781, latitud:-0.224842786789, longitud:-0.671399354935, velocidad:0, orientacion:0, fecha:2015-02-17 17:45:28"
       ]
      },
      {
       "output_type": "stream",
       "stream": "stdout",
       "text": [
        "\n",
        "Cluster centered in: id:3299226481, recurso:tetra:12082781, latitud:-0.224842786789, longitud:-0.671399354935, velocidad:0, orientacion:0, fecha:2015-02-17 17:45:42"
       ]
      },
      {
       "output_type": "stream",
       "stream": "stdout",
       "text": [
        "\n",
        "Cluster centered in: id:3299226531, recurso:tetra:12082781, latitud:-0.224843159318, longitud:-0.671399354935, velocidad:0, orientacion:0, fecha:2015-02-17 17:46:00"
       ]
      },
      {
       "output_type": "stream",
       "stream": "stdout",
       "text": [
        "\n",
        "Cluster centered in: id:3299226544, recurso:tetra:12082781, latitud:-0.224843159318, longitud:-0.671398997307, velocidad:0, orientacion:0, fecha:2015-02-17 17:46:12"
       ]
      },
      {
       "output_type": "stream",
       "stream": "stdout",
       "text": [
        "\n",
        "Cluster centered in: id:3299226631, recurso:tetra:12082781, latitud:-0.224843159318, longitud:-0.671398997307, velocidad:0, orientacion:0, fecha:2015-02-17 17:46:25"
       ]
      },
      {
       "output_type": "stream",
       "stream": "stdout",
       "text": [
        "\n",
        "Cluster centered in: id:3299226731, recurso:tetra:12082781, latitud:-0.224843159318, longitud:-0.671398997307, velocidad:0, orientacion:0, fecha:2015-02-17 17:46:40"
       ]
      },
      {
       "output_type": "stream",
       "stream": "stdout",
       "text": [
        "\n",
        "Cluster centered in: id:3299226820, recurso:tetra:12082781, latitud:-0.224843159318, longitud:-0.671398997307, velocidad:0, orientacion:0, fecha:2015-02-17 17:46:54"
       ]
      },
      {
       "output_type": "stream",
       "stream": "stdout",
       "text": [
        "\n",
        "Cluster centered in: id:3299226944, recurso:tetra:12082781, latitud:-0.224843725562, longitud:-0.671398997307, velocidad:3, orientacion:180, fecha:2015-02-17 17:47:16"
       ]
      },
      {
       "output_type": "stream",
       "stream": "stdout",
       "text": [
        "\n",
        "Cluster centered in: id:3299226958, recurso:tetra:12082781, latitud:-0.224856644869, longitud:-0.671398758888, velocidad:33, orientacion:180, fecha:2015-02-17 17:47:37"
       ]
      },
      {
       "output_type": "stream",
       "stream": "stdout",
       "text": [
        "\n",
        "Cluster centered in: id:3299226961, recurso:tetra:12082781, latitud:-0.224878743291, longitud:-0.671402156353, velocidad:11, orientacion:202, fecha:2015-02-17 17:47:49"
       ]
      },
      {
       "output_type": "stream",
       "stream": "stdout",
       "text": [
        "\n",
        "Cluster centered in: id:3299226976, recurso:tetra:12082781, latitud:-0.2249109447, longitud:-0.671403288841, velocidad:40, orientacion:180, fecha:2015-02-17 17:48:11"
       ]
      },
      {
       "output_type": "stream",
       "stream": "stdout",
       "text": [
        "\n",
        "Cluster centered in: id:3299227157, recurso:tetra:12082781, latitud:-0.224931538105, longitud:-0.67141264677, velocidad:45, orientacion:270, fecha:2015-02-17 17:48:26"
       ]
      },
      {
       "output_type": "stream",
       "stream": "stdout",
       "text": [
        "\n",
        "Cluster centered in: id:3299227260, recurso:tetra:12082781, latitud:-0.224932104349, longitud:-0.671444296837, velocidad:11, orientacion:270, fecha:2015-02-17 17:48:45"
       ]
      },
      {
       "output_type": "stream",
       "stream": "stdout",
       "text": [
        "\n",
        "Cluster centered in: id:3299227351, recurso:tetra:12082781, latitud:-0.224932670593, longitud:-0.67145627737, velocidad:3, orientacion:292, fecha:2015-02-17 17:48:59"
       ]
      },
      {
       "output_type": "stream",
       "stream": "stdout",
       "text": [
        "\n",
        "Cluster centered in: id:3299227493, recurso:tetra:12082781, latitud:-0.224925547838, longitud:-0.671467721462, velocidad:14, orientacion:315, fecha:2015-02-17 17:49:17"
       ]
      },
      {
       "output_type": "stream",
       "stream": "stdout",
       "text": [
        "\n",
        "Cluster centered in: id:3299227555, recurso:tetra:12082781, latitud:-0.224919363856, longitud:-0.671480774879, velocidad:12, orientacion:292, fecha:2015-02-17 17:49:32"
       ]
      },
      {
       "output_type": "stream",
       "stream": "stdout",
       "text": [
        "\n",
        "Cluster centered in: id:3299227612, recurso:tetra:12082781, latitud:-0.2249366045, longitud:-0.671503841877, velocidad:1, orientacion:202, fecha:2015-02-17 17:50:10"
       ]
      },
      {
       "output_type": "stream",
       "stream": "stdout",
       "text": [
        "\n",
        "Cluster centered in: id:3299227772, recurso:tetra:12082781, latitud:-0.224936783314, longitud:-0.671504974365, velocidad:0, orientacion:0, fecha:2015-02-17 17:50:26"
       ]
      },
      {
       "output_type": "stream",
       "stream": "stdout",
       "text": [
        "\n",
        "Cluster centered in: id:3299227869, recurso:tetra:12082781, latitud:-0.224936783314, longitud:-0.671505153179, velocidad:0, orientacion:0, fecha:2015-02-17 17:50:41"
       ]
      },
      {
       "output_type": "stream",
       "stream": "stdout",
       "text": [
        "\n",
        "Cluster centered in: id:3299227945, recurso:tetra:12082781, latitud:-0.224936783314, longitud:-0.671505153179, velocidad:0, orientacion:0, fecha:2015-02-17 17:50:59"
       ]
      },
      {
       "output_type": "stream",
       "stream": "stdout",
       "text": [
        "\n",
        "Cluster centered in: id:3299228114, recurso:tetra:12082781, latitud:-0.224937155843, longitud:-0.671505153179, velocidad:0, orientacion:0, fecha:2015-02-17 17:51:17"
       ]
      },
      {
       "output_type": "stream",
       "stream": "stdout",
       "text": [
        "\n",
        "Cluster centered in: id:3299228204, recurso:tetra:12082781, latitud:-0.224937155843, longitud:-0.671505153179, velocidad:0, orientacion:0, fecha:2015-02-17 17:51:33"
       ]
      },
      {
       "output_type": "stream",
       "stream": "stdout",
       "text": [
        "\n",
        "Cluster centered in: id:3299228268, recurso:tetra:12082781, latitud:-0.224951952696, longitud:-0.671509802341, velocidad:16, orientacion:202, fecha:2015-02-17 17:52:04"
       ]
      },
      {
       "output_type": "stream",
       "stream": "stdout",
       "text": [
        "\n",
        "Cluster centered in: id:3299228385, recurso:tetra:12082781, latitud:-0.224961876869, longitud:-0.67151337862, velocidad:14, orientacion:247, fecha:2015-02-17 17:52:23"
       ]
      },
      {
       "output_type": "stream",
       "stream": "stdout",
       "text": [
        "\n",
        "Cluster centered in: id:3299230579, recurso:tetra:12082781, latitud:-0.224790170789, longitud:-0.671591639519, velocidad:0, orientacion:90, fecha:2015-02-17 17:59:18"
       ]
      },
      {
       "output_type": "stream",
       "stream": "stdout",
       "text": [
        "\n",
        "Cluster centered in: id:3299230685, recurso:tetra:12082781, latitud:-0.224790170789, longitud:-0.671591639519, velocidad:0, orientacion:0, fecha:2015-02-17 17:59:33"
       ]
      },
      {
       "output_type": "stream",
       "stream": "stdout",
       "text": [
        "\n",
        "Cluster centered in: id:3299230688, recurso:tetra:12082781, latitud:-0.224789038301, longitud:-0.671594083309, velocidad:1, orientacion:0, fecha:2015-02-17 17:59:51"
       ]
      },
      {
       "output_type": "stream",
       "stream": "stdout",
       "text": [
        "\n",
        "Cluster centered in: id:3299230728, recurso:tetra:12082781, latitud:-0.224758148193, longitud:-0.671574056149, velocidad:52, orientacion:22, fecha:2015-02-17 18:00:16"
       ]
      },
      {
       "output_type": "stream",
       "stream": "stdout",
       "text": [
        "\n",
        "Cluster centered in: id:3299230894, recurso:tetra:12082781, latitud:-0.224730804563, longitud:-0.67156881094, velocidad:59, orientacion:0, fecha:2015-02-17 18:00:29"
       ]
      },
      {
       "output_type": "stream",
       "stream": "stdout",
       "text": [
        "\n",
        "Cluster centered in: id:3299230970, recurso:tetra:12082781, latitud:-0.224698036909, longitud:-0.671562790871, velocidad:63, orientacion:0, fecha:2015-02-17 18:00:41"
       ]
      },
      {
       "output_type": "stream",
       "stream": "stdout",
       "text": [
        "\n",
        "Cluster centered in: id:3299231154, recurso:tetra:12082781, latitud:-0.224648609757, longitud:-0.671556472778, velocidad:68, orientacion:0, fecha:2015-02-17 18:00:58"
       ]
      },
      {
       "output_type": "stream",
       "stream": "stdout",
       "text": [
        "\n",
        "Cluster centered in: id:3299231272, recurso:tetra:12082781, latitud:-0.22461040318, longitud:-0.6715528965, velocidad:63, orientacion:0, fecha:2015-02-17 18:01:13"
       ]
      },
      {
       "output_type": "stream",
       "stream": "stdout",
       "text": [
        "\n",
        "Cluster centered in: id:3299231342, recurso:tetra:12082781, latitud:-0.224570885301, longitud:-0.671544492245, velocidad:25, orientacion:90, fecha:2015-02-17 18:01:38"
       ]
      },
      {
       "output_type": "stream",
       "stream": "stdout",
       "text": [
        "\n",
        "Cluster centered in: id:3299231473, recurso:tetra:12082781, latitud:-0.224566027522, longitud:-0.671525001526, velocidad:40, orientacion:90, fecha:2015-02-17 18:01:50"
       ]
      },
      {
       "output_type": "stream",
       "stream": "stdout",
       "text": [
        "\n",
        "Cluster centered in: id:3299231586, recurso:tetra:12082781, latitud:-0.224569961429, longitud:-0.671507775784, velocidad:35, orientacion:112, fecha:2015-02-17 18:02:04"
       ]
      },
      {
       "output_type": "stream",
       "stream": "stdout",
       "text": [
        "\n",
        "Cluster centered in: id:3299231706, recurso:tetra:12082781, latitud:-0.224577814341, longitud:-0.671495616436, velocidad:5, orientacion:135, fecha:2015-02-17 18:02:16"
       ]
      },
      {
       "output_type": "stream",
       "stream": "stdout",
       "text": [
        "\n",
        "Cluster centered in: id:3299231867, recurso:tetra:12082781, latitud:-0.224591493607, longitud:-0.671476662159, velocidad:20, orientacion:112, fecha:2015-02-17 18:02:34"
       ]
      },
      {
       "output_type": "stream",
       "stream": "stdout",
       "text": [
        "\n",
        "Cluster centered in: id:3299231924, recurso:tetra:12082781, latitud:-0.22459936142, longitud:-0.671458303928, velocidad:35, orientacion:135, fecha:2015-02-17 18:02:52"
       ]
      },
      {
       "output_type": "stream",
       "stream": "stdout",
       "text": [
        "\n",
        "Cluster centered in: id:3299231944, recurso:tetra:12082781, latitud:-0.224619209766, longitud:-0.671415805817, velocidad:35, orientacion:112, fecha:2015-02-17 18:03:28"
       ]
      },
      {
       "output_type": "stream",
       "stream": "stdout",
       "text": [
        "\n",
        "Cluster centered in: id:3299232082, recurso:tetra:12082781, latitud:-0.224610209465, longitud:-0.67139428854, velocidad:25, orientacion:90, fecha:2015-02-17 18:03:44"
       ]
      },
      {
       "output_type": "stream",
       "stream": "stdout",
       "text": [
        "\n",
        "Cluster centered in: id:3299232114, recurso:tetra:12082781, latitud:-0.224607035518, longitud:-0.671379864216, velocidad:33, orientacion:67, fecha:2015-02-17 18:03:58"
       ]
      },
      {
       "output_type": "stream",
       "stream": "stdout",
       "text": [
        "\n",
        "Cluster centered in: id:3299232136, recurso:tetra:12082781, latitud:-0.224610775709, longitud:-0.671351611614, velocidad:47, orientacion:90, fecha:2015-02-17 18:04:13"
       ]
      },
      {
       "output_type": "stream",
       "stream": "stdout",
       "text": [
        "\n",
        "Cluster centered in: id:3299232174, recurso:tetra:12082781, latitud:-0.224612280726, longitud:-0.671324074268, velocidad:33, orientacion:112, fecha:2015-02-17 18:04:26"
       ]
      },
      {
       "output_type": "stream",
       "stream": "stdout",
       "text": [
        "\n",
        "Cluster centered in: id:3299232278, recurso:tetra:12082781, latitud:-0.224597662687, longitud:-0.671296536922, velocidad:50, orientacion:67, fecha:2015-02-17 18:04:43"
       ]
      },
      {
       "output_type": "stream",
       "stream": "stdout",
       "text": [
        "\n",
        "Cluster centered in: id:3299232334, recurso:tetra:12082781, latitud:-0.22458268702, longitud:-0.671269953251, velocidad:45, orientacion:90, fecha:2015-02-17 18:04:58"
       ]
      },
      {
       "output_type": "stream",
       "stream": "stdout",
       "text": [
        "\n",
        "Cluster centered in: id:3299232377, recurso:tetra:12082781, latitud:-0.224558904767, longitud:-0.671257019043, velocidad:50, orientacion:22, fecha:2015-02-17 18:05:14"
       ]
      },
      {
       "output_type": "stream",
       "stream": "stdout",
       "text": [
        "\n",
        "Cluster centered in: id:3299232540, recurso:tetra:12082781, latitud:-0.224530637264, longitud:-0.671239256859, velocidad:47, orientacion:22, fecha:2015-02-17 18:05:37"
       ]
      },
      {
       "output_type": "stream",
       "stream": "stdout",
       "text": [
        "\n",
        "Cluster centered in: id:3299232607, recurso:tetra:12082781, latitud:-0.224466398358, longitud:-0.671212494373, velocidad:35, orientacion:45, fecha:2015-02-17 18:06:05"
       ]
      },
      {
       "output_type": "stream",
       "stream": "stdout",
       "text": [
        "\n",
        "Cluster centered in: id:3299232779, recurso:tetra:12082781, latitud:-0.22447258234, longitud:-0.6712038517, velocidad:33, orientacion:180, fecha:2015-02-17 18:06:20"
       ]
      },
      {
       "output_type": "stream",
       "stream": "stdout",
       "text": [
        "\n",
        "Cluster centered in: id:3299232893, recurso:tetra:12082781, latitud:-0.224492430687, longitud:-0.671205341816, velocidad:31, orientacion:112, fecha:2015-02-17 18:06:36"
       ]
      },
      {
       "output_type": "stream",
       "stream": "stdout",
       "text": [
        "\n",
        "Cluster centered in: id:3299232996, recurso:tetra:12082781, latitud:-0.224476322532, longitud:-0.671177446842, velocidad:79, orientacion:67, fecha:2015-02-17 18:06:49"
       ]
      },
      {
       "output_type": "stream",
       "stream": "stdout",
       "text": [
        "\n",
        "Cluster centered in: id:3299233119, recurso:tetra:12082781, latitud:-0.224485322833, longitud:-0.671138286591, velocidad:71, orientacion:112, fecha:2015-02-17 18:07:02"
       ]
      },
      {
       "output_type": "stream",
       "stream": "stdout",
       "text": [
        "\n",
        "Cluster centered in: id:3299233180, recurso:tetra:12082781, latitud:-0.224522575736, longitud:-0.671093583107, velocidad:59, orientacion:135, fecha:2015-02-17 18:07:28"
       ]
      },
      {
       "output_type": "stream",
       "stream": "stdout",
       "text": [
        "\n",
        "Cluster centered in: id:3299233374, recurso:tetra:12082781, latitud:-0.224564522505, longitud:-0.671034216881, velocidad:95, orientacion:135, fecha:2015-02-17 18:07:48"
       ]
      },
      {
       "output_type": "stream",
       "stream": "stdout",
       "text": [
        "\n",
        "Cluster centered in: id:3299233535, recurso:tetra:12082781, latitud:-0.224616214633, longitud:-0.670996367931, velocidad:54, orientacion:135, fecha:2015-02-17 18:08:09"
       ]
      },
      {
       "output_type": "stream",
       "stream": "stdout",
       "text": [
        "\n",
        "Cluster centered in: id:3299233727, recurso:tetra:12082781, latitud:-0.224657595158, longitud:-0.670965671539, velocidad:59, orientacion:135, fecha:2015-02-17 18:08:29"
       ]
      },
      {
       "output_type": "stream",
       "stream": "stdout",
       "text": [
        "\n",
        "Cluster centered in: id:3299233794, recurso:tetra:12082781, latitud:-0.224685490131, longitud:-0.670946955681, velocidad:54, orientacion:157, fecha:2015-02-17 18:08:43"
       ]
      },
      {
       "output_type": "stream",
       "stream": "stdout",
       "text": [
        "\n",
        "Cluster centered in: id:3299233849, recurso:tetra:12082781, latitud:-0.224742412567, longitud:-0.670946359634, velocidad:52, orientacion:202, fecha:2015-02-17 18:09:08"
       ]
      },
      {
       "output_type": "stream",
       "stream": "stdout",
       "text": [
        "\n",
        "Cluster centered in: id:3299234038, recurso:tetra:12082781, latitud:-0.22489990294, longitud:-0.670978426933, velocidad:88, orientacion:202, fecha:2015-02-17 18:09:54"
       ]
      },
      {
       "output_type": "stream",
       "stream": "stdout",
       "text": [
        "\n",
        "Cluster centered in: id:3299234123, recurso:tetra:12082781, latitud:-0.224944651127, longitud:-0.670983850956, velocidad:59, orientacion:180, fecha:2015-02-17 18:10:09"
       ]
      },
      {
       "output_type": "stream",
       "stream": "stdout",
       "text": [
        "\n",
        "Cluster centered in: id:3299234195, recurso:tetra:12082781, latitud:-0.224968999624, longitud:-0.670995652676, velocidad:50, orientacion:202, fecha:2015-02-17 18:10:26"
       ]
      },
      {
       "output_type": "stream",
       "stream": "stdout",
       "text": [
        "\n",
        "Cluster centered in: id:3299234267, recurso:tetra:12082781, latitud:-0.224995017052, longitud:-0.67099994421, velocidad:40, orientacion:225, fecha:2015-02-17 18:10:41"
       ]
      },
      {
       "output_type": "stream",
       "stream": "stdout",
       "text": [
        "\n",
        "Cluster centered in: id:3299234438, recurso:tetra:12082781, latitud:-0.225031346083, longitud:-0.671027302742, velocidad:76, orientacion:202, fecha:2015-02-17 18:10:55"
       ]
      },
      {
       "output_type": "stream",
       "stream": "stdout",
       "text": [
        "\n",
        "Cluster centered in: id:3299234472, recurso:tetra:12082781, latitud:-0.225074976683, longitud:-0.671054244041, velocidad:76, orientacion:202, fecha:2015-02-17 18:11:12"
       ]
      },
      {
       "output_type": "stream",
       "stream": "stdout",
       "text": [
        "\n",
        "Cluster centered in: id:3299234477, recurso:tetra:12082781, latitud:-0.225144267082, longitud:-0.67110145092, velocidad:73, orientacion:225, fecha:2015-02-17 18:11:37"
       ]
      },
      {
       "output_type": "stream",
       "stream": "stdout",
       "text": [
        "\n",
        "Cluster centered in: id:3299234599, recurso:tetra:12082781, latitud:-0.225186213851, longitud:-0.671136796474, velocidad:79, orientacion:225, fecha:2015-02-17 18:11:53"
       ]
      },
      {
       "output_type": "stream",
       "stream": "stdout",
       "text": [
        "\n"
       ]
      }
     ],
     "prompt_number": 262
    },
    {
     "cell_type": "code",
     "collapsed": false,
     "input": [],
     "language": "python",
     "metadata": {},
     "outputs": []
    }
   ],
   "metadata": {}
  }
 ]
}
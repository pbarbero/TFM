{
 "metadata": {
  "name": "",
  "signature": "sha256:77a29a7358a5e51494de3f0a0cc1c8914bb29053669c652d18ade36f73737b60"
 },
 "nbformat": 3,
 "nbformat_minor": 0,
 "worksheets": [
  {
   "cells": [
    {
     "cell_type": "code",
     "collapsed": false,
     "input": [
      "import consolidation as cs\n",
      "from position import Position\n",
      "from db import connect_db\n",
      "from djCluster import DjCluster\n",
      "\n",
      "import matplotlib.pyplot as plt\n",
      "from datetime import datetime\n",
      "%pylab inline"
     ],
     "language": "python",
     "metadata": {},
     "outputs": [
      {
       "output_type": "stream",
       "stream": "stdout",
       "text": [
        "Populating the interactive namespace from numpy and matplotlib\n"
       ]
      },
      {
       "output_type": "stream",
       "stream": "stderr",
       "text": [
        "WARNING: pylab import has clobbered these variables: ['datetime']\n",
        "`%matplotlib` prevents importing * from pylab and numpy\n"
       ]
      }
     ],
     "prompt_number": 2
    },
    {
     "cell_type": "code",
     "collapsed": false,
     "input": [
      "cur_sal = connect_db(\"bahia\")\n",
      "\n",
      "limit = 2000\n",
      "cmd = \"SELECT * FROM posicionesgps WHERE latitud<>0 AND longitud<> 0 AND recurso='tetra:12082781' LIMIT {0};\".format(limit)\n",
      "cur_sal.execute(cmd)\n"
     ],
     "language": "python",
     "metadata": {},
     "outputs": [
      {
       "metadata": {},
       "output_type": "pyout",
       "prompt_number": 3,
       "text": [
        "2000L"
       ]
      }
     ],
     "prompt_number": 3
    },
    {
     "cell_type": "code",
     "collapsed": false,
     "input": [
      "list_pos = []\n",
      "for row in cur_sal.fetchall():\n",
      "    q = Position(row[0] # id\n",
      "               , row[2] # resource\n",
      "               , row[3] # lat\n",
      "               , row[4] # lon\n",
      "               , row[5] # speed\n",
      "               , row[6] # track\n",
      "               , row[10] # date\n",
      "               )\n",
      "    list_pos.append(q)\n",
      "print len(list_pos)"
     ],
     "language": "python",
     "metadata": {},
     "outputs": [
      {
       "output_type": "stream",
       "stream": "stdout",
       "text": [
        "2000\n"
       ]
      }
     ],
     "prompt_number": 4
    },
    {
     "cell_type": "code",
     "collapsed": false,
     "input": [
      "listPosTyp = []\n",
      "lats = []\n",
      "longs = []\n",
      "\n",
      "# Calculamos media lat\n",
      "for pos in list_pos:\n",
      "    lats.append(pos.lat)\n",
      "meanLat = np.mean(lats)\n",
      "# Calculamos media lon \n",
      "for pos in list_pos:\n",
      "    longs.append(pos.lon)\n",
      "meanLon = np.mean(longs)\n",
      "# Calculamos desv lat\n",
      "devLat = np.std(lats)\n",
      "# Calculamos desv lon\n",
      "devLon = np.std(longs)\n",
      "\n",
      "latsTyp = []\n",
      "longsTyp = []\n",
      "for pos in list_pos:\n",
      "    q = Position(pos.id\n",
      "        , pos.resource\n",
      "        , (pos.lat - meanLat)/devLat\n",
      "        , (pos.lon - meanLon)/devLon\n",
      "        , pos.speed\n",
      "        , pos.track\n",
      "        , pos.date\n",
      "        )\n",
      "    listPosTyp.append(q)\n",
      "latsTyp.append(q.lat)\n",
      "longsTyp.append(q.lon)"
     ],
     "language": "python",
     "metadata": {},
     "outputs": [],
     "prompt_number": 5
    },
    {
     "cell_type": "code",
     "collapsed": false,
     "input": [
      "import time"
     ],
     "language": "python",
     "metadata": {},
     "outputs": [],
     "prompt_number": 9
    },
    {
     "cell_type": "code",
     "collapsed": false,
     "input": [
      "# Primera Consolidacion por distancia Euclidea simple con eps=0.0001\n",
      "start_time = time.time()\n",
      "#result = cs.ConsolidationByDistance(list_pos, 0, 0.0001, None)\n",
      "#result = cs.ConsolidationByThinning(list_pos, 2, 5)\n",
      "#result = cs.ConsolidationByTime(list_pos, 20)\n",
      "#result = cs.ConsolidationByDistance(list_pos, 2, 0.0001, 1)\n",
      "result = cs.ConsolidationByDistance(list_pos, 2, 0.001, 1)\n",
      "print len(listPosTyp), len(result)\n",
      "print(\"--- %s seconds ---\" % (time.time() - start_time))"
     ],
     "language": "python",
     "metadata": {},
     "outputs": [
      {
       "output_type": "stream",
       "stream": "stdout",
       "text": [
        "2000 1786\n",
        "--- 0.00446200370789 seconds ---\n"
       ]
      }
     ],
     "prompt_number": 14
    },
    {
     "cell_type": "code",
     "collapsed": false,
     "input": [
      "timeit.Timer('cs.ConsolidationByDistance(list_pos, 0, 0.0001, None)').timeit()"
     ],
     "language": "python",
     "metadata": {},
     "outputs": [
      {
       "ename": "NameError",
       "evalue": "global name 'cs' is not defined",
       "output_type": "pyerr",
       "traceback": [
        "\u001b[0;31m---------------------------------------------------------------------------\u001b[0m\n\u001b[0;31mNameError\u001b[0m                                 Traceback (most recent call last)",
        "\u001b[0;32m<ipython-input-8-f647cbdfe48d>\u001b[0m in \u001b[0;36m<module>\u001b[0;34m()\u001b[0m\n\u001b[0;32m----> 1\u001b[0;31m \u001b[0mtimeit\u001b[0m\u001b[0;34m.\u001b[0m\u001b[0mTimer\u001b[0m\u001b[0;34m(\u001b[0m\u001b[0;34m'cs.ConsolidationByDistance(list_pos, 0, 0.0001, None)'\u001b[0m\u001b[0;34m)\u001b[0m\u001b[0;34m.\u001b[0m\u001b[0mtimeit\u001b[0m\u001b[0;34m(\u001b[0m\u001b[0;34m)\u001b[0m\u001b[0;34m\u001b[0m\u001b[0m\n\u001b[0m",
        "\u001b[0;32m/usr/lib/python2.7/timeit.py\u001b[0m in \u001b[0;36mtimeit\u001b[0;34m(self, number)\u001b[0m\n\u001b[1;32m    199\u001b[0m         \u001b[0mgc\u001b[0m\u001b[0;34m.\u001b[0m\u001b[0mdisable\u001b[0m\u001b[0;34m(\u001b[0m\u001b[0;34m)\u001b[0m\u001b[0;34m\u001b[0m\u001b[0m\n\u001b[1;32m    200\u001b[0m         \u001b[0;32mtry\u001b[0m\u001b[0;34m:\u001b[0m\u001b[0;34m\u001b[0m\u001b[0m\n\u001b[0;32m--> 201\u001b[0;31m             \u001b[0mtiming\u001b[0m \u001b[0;34m=\u001b[0m \u001b[0mself\u001b[0m\u001b[0;34m.\u001b[0m\u001b[0minner\u001b[0m\u001b[0;34m(\u001b[0m\u001b[0mit\u001b[0m\u001b[0;34m,\u001b[0m \u001b[0mself\u001b[0m\u001b[0;34m.\u001b[0m\u001b[0mtimer\u001b[0m\u001b[0;34m)\u001b[0m\u001b[0;34m\u001b[0m\u001b[0m\n\u001b[0m\u001b[1;32m    202\u001b[0m         \u001b[0;32mfinally\u001b[0m\u001b[0;34m:\u001b[0m\u001b[0;34m\u001b[0m\u001b[0m\n\u001b[1;32m    203\u001b[0m             \u001b[0;32mif\u001b[0m \u001b[0mgcold\u001b[0m\u001b[0;34m:\u001b[0m\u001b[0;34m\u001b[0m\u001b[0m\n",
        "\u001b[0;32m/usr/lib/python2.7/timeit.py\u001b[0m in \u001b[0;36minner\u001b[0;34m(_it, _timer)\u001b[0m\n",
        "\u001b[0;31mNameError\u001b[0m: global name 'cs' is not defined"
       ]
      }
     ],
     "prompt_number": 8
    },
    {
     "cell_type": "code",
     "collapsed": false,
     "input": [
      "resultLat = []\n",
      "resultLong = []\n",
      "for pos in result:\n",
      "    resultLat.append(pos.lat)\n",
      "    resultLong.append(pos.lon)"
     ],
     "language": "python",
     "metadata": {},
     "outputs": [],
     "prompt_number": 11
    },
    {
     "cell_type": "code",
     "collapsed": false,
     "input": [
      "plt.figure(1, figsize=(15,10))\n",
      "plt.subplot(111)\n",
      "ax = plt.gca()\n",
      "ax.grid(True)\n",
      "plt.plot(lats, longs, 'ro', resultLat, resultLong, 'bo');"
     ],
     "language": "python",
     "metadata": {},
     "outputs": [
      {
       "metadata": {},
       "output_type": "display_data",
       "png": "[encoded data removed]",
       "text": [
        "<matplotlib.figure.Figure at 0x7fd062bb3d50>"
       ]
      }
     ],
     "prompt_number": 12
    },
    {
     "cell_type": "code",
     "collapsed": false,
     "input": [
      "print len(result)"
     ],
     "language": "python",
     "metadata": {},
     "outputs": [
      {
       "output_type": "stream",
       "stream": "stdout",
       "text": [
        "1786\n"
       ]
      }
     ],
     "prompt_number": 13
    },
    {
     "cell_type": "code",
     "collapsed": false,
     "input": [
      "print len(list_pos)"
     ],
     "language": "python",
     "metadata": {},
     "outputs": [
      {
       "output_type": "stream",
       "stream": "stdout",
       "text": [
        "2000\n"
       ]
      }
     ],
     "prompt_number": 14
    },
    {
     "cell_type": "code",
     "collapsed": false,
     "input": [],
     "language": "python",
     "metadata": {},
     "outputs": [],
     "prompt_number": 73
    },
    {
     "cell_type": "code",
     "collapsed": false,
     "input": [],
     "language": "python",
     "metadata": {},
     "outputs": [],
     "prompt_number": 48
    },
    {
     "cell_type": "code",
     "collapsed": false,
     "input": [],
     "language": "python",
     "metadata": {},
     "outputs": []
    }
   ],
   "metadata": {}
  }
 ]
}
{
 "metadata": {
  "name": "",
  "signature": "sha256:bbb4c7eca5c5a1211400ca8640d353cb794dbe51dbac985683a29c84f5eda035"
 },
 "nbformat": 3,
 "nbformat_minor": 0,
 "worksheets": [
  {
   "cells": [
    {
     "cell_type": "markdown",
     "metadata": {},
     "source": [
      "# Hierarchical clustering (scipy.cluster.hierarchy)\n",
      "\n",
      "**linkage(y[, method, metric])** \tPerforms hierarchical/agglomerative clustering on the condensed distance matrix y.\n",
      "\n",
      "http://docs.scipy.org/doc/scipy/reference/cluster.hierarchy.html#module-scipy.cluster.hierarchy"
     ]
    },
    {
     "cell_type": "code",
     "collapsed": false,
     "input": [
      "import numpy as np\n",
      "import scipy.cluster.hierarchy as hac\n",
      "import matplotlib.pyplot as plt\n",
      "from consolidation.db import connect_db\n",
      "from consolidation.position import Position, Cluster"
     ],
     "language": "python",
     "metadata": {},
     "outputs": [],
     "prompt_number": 5
    },
    {
     "cell_type": "code",
     "collapsed": false,
     "input": [
      "# Connecting to database\n",
      "cur= connect_db(\"bahia\")\n",
      "recurso = \"tetra:12082781\"\n",
      "limit = 10\n",
      "cmd = \"SELECT latitud, longitud, UNIX_TIMESTAMP(fecha) FROM posicionesgps WHERE latitud <> 0 and longitud <> 0 and recurso=\\\"{0}\\\" LIMIT {1};\".format(recurso, limit)\n",
      "cmd"
     ],
     "language": "python",
     "metadata": {},
     "outputs": [
      {
       "metadata": {},
       "output_type": "pyout",
       "prompt_number": 10,
       "text": [
        "'SELECT latitud, longitud, UNIX_TIMESTAMP(fecha) FROM posicionesgps WHERE latitud <> 0 and longitud <> 0 and recurso=\"tetra:12082781\" LIMIT 10;'"
       ]
      }
     ],
     "prompt_number": 10
    },
    {
     "cell_type": "code",
     "collapsed": false,
     "input": [
      "cur.execute(cmd)"
     ],
     "language": "python",
     "metadata": {},
     "outputs": [
      {
       "metadata": {},
       "output_type": "pyout",
       "prompt_number": 11,
       "text": [
        "10L"
       ]
      }
     ],
     "prompt_number": 11
    },
    {
     "cell_type": "code",
     "collapsed": false,
     "input": [
      "a = []"
     ],
     "language": "python",
     "metadata": {},
     "outputs": [],
     "prompt_number": 12
    },
    {
     "cell_type": "code",
     "collapsed": true,
     "input": [
      "for pos in cur.fetchall():\n",
      "    a.append(pos)"
     ],
     "language": "python",
     "metadata": {},
     "outputs": [],
     "prompt_number": 13
    },
    {
     "cell_type": "code",
     "collapsed": false,
     "input": [
      "len(a)"
     ],
     "language": "python",
     "metadata": {},
     "outputs": [
      {
       "metadata": {},
       "output_type": "pyout",
       "prompt_number": 14,
       "text": [
        "10"
       ]
      }
     ],
     "prompt_number": 14
    },
    {
     "cell_type": "code",
     "collapsed": false,
     "input": [
      "a = np.array(a)\n",
      "z = hac.linkage(a, method=method)"
     ],
     "language": "python",
     "metadata": {},
     "outputs": [],
     "prompt_number": 20
    },
    {
     "cell_type": "code",
     "collapsed": false,
     "input": [
      "fig, axes23 = plt.subplots(2, 3)\n",
      "\n",
      "for method, axes in zip(['single', 'complete'], axes23):\n",
      "    z = hac.linkage(a, method=method)\n",
      "\n",
      "    # Plotting\n",
      "    axes[0].plot(range(1, len(z)+1), z[::-1, 2])\n",
      "    knee = np.diff(z[::-1, 2], 2)\n",
      "    axes[0].plot(range(2, len(z)), knee)\n",
      "\n",
      "    num_clust1 = knee.argmax() + 2\n",
      "    knee[knee.argmax()] = 0\n",
      "    num_clust2 = knee.argmax() + 2\n",
      "\n",
      "    axes[0].text(num_clust1, z[::-1, 2][num_clust1-1], 'possible\\n<- knee point')\n",
      "\n",
      "    part1 = hac.fcluster(z, num_clust1, 'maxclust')\n",
      "    part2 = hac.fcluster(z, num_clust2, 'maxclust')\n",
      "\n",
      "    clr = ['#2200CC' ,'#D9007E' ,'#FF6600' ,'#FFCC00' ,'#ACE600' ,'#0099CC' ,\n",
      "    '#8900CC' ,'#FF0000' ,'#FF9900' ,'#FFFF00' ,'#00CC01' ,'#0055CC']\n",
      "\n",
      "    for part, ax in zip([part1, part2], axes[1:]):\n",
      "        for cluster in set(part):\n",
      "            ax.scatter(a[part == cluster, 0], a[part == cluster, 1], \n",
      "                       color=clr[cluster])\n",
      "\n",
      "    m = '\\n(method: {})'.format(method)\n",
      "    plt.setp(axes[0], title='Screeplot{}'.format(m), xlabel='partition',\n",
      "             ylabel='{}\\ncluster distance'.format(m))\n",
      "    plt.setp(axes[1], title='{} Clusters'.format(num_clust1))\n",
      "    plt.setp(axes[2], title='{} Clusters'.format(num_clust2))\n",
      "\n",
      "plt.tight_layout()\n",
      "plt.show()"
     ],
     "language": "python",
     "metadata": {},
     "outputs": [],
     "prompt_number": 21
    },
    {
     "cell_type": "code",
     "collapsed": false,
     "input": [],
     "language": "python",
     "metadata": {},
     "outputs": []
    }
   ],
   "metadata": {}
  }
 ]
}